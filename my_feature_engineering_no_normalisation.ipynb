{
 "cells": [
  {
   "cell_type": "code",
   "execution_count": 1,
   "id": "578630f5-8afa-4f33-ba18-31744444997e",
   "metadata": {
    "execution": {
     "iopub.execute_input": "2023-10-30T21:38:15.573651Z",
     "iopub.status.busy": "2023-10-30T21:38:15.573050Z",
     "iopub.status.idle": "2023-10-30T21:38:16.493031Z",
     "shell.execute_reply": "2023-10-30T21:38:16.492452Z",
     "shell.execute_reply.started": "2023-10-30T21:38:15.573616Z"
    }
   },
   "outputs": [
    {
     "name": "stderr",
     "output_type": "stream",
     "text": [
      "/home/rohit/Desktop/kaggle/virtualenvs/writing_quality/lib/python3.9/site-packages/tqdm/auto.py:21: TqdmWarning: IProgress not found. Please update jupyter and ipywidgets. See https://ipywidgets.readthedocs.io/en/stable/user_install.html\n",
      "  from .autonotebook import tqdm as notebook_tqdm\n"
     ]
    }
   ],
   "source": [
    "import gc\n",
    "import os\n",
    "import random\n",
    "import re\n",
    "import statistics as st\n",
    "import warnings\n",
    "from collections import Counter\n",
    "\n",
    "import lightgbm as lgb\n",
    "import matplotlib.pyplot as plt\n",
    "import numpy as np\n",
    "import optuna\n",
    "import pandas as pd\n",
    "import seaborn as sns\n",
    "from gensim.models import Word2Vec\n",
    "from scipy.stats import kurtosis, skew\n",
    "from sklearn.decomposition import TruncatedSVD\n",
    "from sklearn.feature_extraction.text import TfidfVectorizer\n",
    "from sklearn.metrics import mean_squared_error\n",
    "from sklearn.model_selection import GroupKFold, KFold, StratifiedKFold, train_test_split\n",
    "from sklearn.preprocessing import LabelEncoder\n",
    "from tqdm.autonotebook import tqdm"
   ]
  },
  {
   "cell_type": "code",
   "execution_count": null,
   "id": "f991e650-e1fb-4c95-9ad2-c5321d26ba4f",
   "metadata": {},
   "outputs": [],
   "source": []
  },
  {
   "cell_type": "code",
   "execution_count": null,
   "id": "39b59fbe-105a-4400-97f4-343139dd8f7a",
   "metadata": {},
   "outputs": [],
   "source": []
  },
  {
   "cell_type": "code",
   "execution_count": 2,
   "id": "1409d4aa-1a89-49d4-bb69-94e0445179cb",
   "metadata": {
    "execution": {
     "iopub.execute_input": "2023-10-30T21:38:16.493798Z",
     "iopub.status.busy": "2023-10-30T21:38:16.493582Z",
     "iopub.status.idle": "2023-10-30T21:38:16.497135Z",
     "shell.execute_reply": "2023-10-30T21:38:16.496616Z",
     "shell.execute_reply.started": "2023-10-30T21:38:16.493783Z"
    }
   },
   "outputs": [],
   "source": [
    "class Config:\n",
    "    INPUT_DIR = \"./data\"\n",
    "    seed = 42\n",
    "    is_time_in_secs = True\n",
    "    time_divider = 1000 if is_time_in_secs else 1\n",
    "\n",
    "    num_folds = 5\n",
    "    num_estimators = 10000\n",
    "    num_trials_early_stopping = 100\n",
    "\n",
    "    response_variate = \"score\"\n",
    "    use_optuna_tuning = False\n",
    "    test_size_optuna = 0.3\n",
    "    num_trials_optuna = 150\n",
    "\n",
    "    num_features_to_display = 50"
   ]
  },
  {
   "cell_type": "code",
   "execution_count": 3,
   "id": "83decdd2-1cb4-45df-bfbe-985b1e8ca9a9",
   "metadata": {
    "execution": {
     "iopub.execute_input": "2023-10-30T21:38:16.497959Z",
     "iopub.status.busy": "2023-10-30T21:38:16.497680Z",
     "iopub.status.idle": "2023-10-30T21:38:16.513015Z",
     "shell.execute_reply": "2023-10-30T21:38:16.512529Z",
     "shell.execute_reply.started": "2023-10-30T21:38:16.497944Z"
    }
   },
   "outputs": [],
   "source": [
    "cnfg = Config()"
   ]
  },
  {
   "cell_type": "code",
   "execution_count": 4,
   "id": "466a9440-1ba2-4bda-987a-47f250b941cd",
   "metadata": {
    "execution": {
     "iopub.execute_input": "2023-10-30T21:38:16.514642Z",
     "iopub.status.busy": "2023-10-30T21:38:16.514378Z",
     "iopub.status.idle": "2023-10-30T21:38:16.518607Z",
     "shell.execute_reply": "2023-10-30T21:38:16.518258Z",
     "shell.execute_reply.started": "2023-10-30T21:38:16.514626Z"
    }
   },
   "outputs": [],
   "source": [
    "tqdm.pandas()\n",
    "sns.set_style(\"whitegrid\")\n",
    "warnings.simplefilter(\"ignore\")\n",
    "random.seed(cnfg.seed)"
   ]
  },
  {
   "cell_type": "code",
   "execution_count": null,
   "id": "2b911899-c86e-49f4-8e7d-676565810e7a",
   "metadata": {},
   "outputs": [],
   "source": []
  },
  {
   "cell_type": "code",
   "execution_count": null,
   "id": "3da2f410-1c46-43fb-92e4-f075125e0336",
   "metadata": {},
   "outputs": [],
   "source": []
  },
  {
   "cell_type": "code",
   "execution_count": null,
   "id": "c7b2c53c-c79c-4177-bed8-97cf366f03cf",
   "metadata": {},
   "outputs": [],
   "source": []
  },
  {
   "cell_type": "code",
   "execution_count": 5,
   "id": "69427fba-d8fb-444d-846a-7f3232e2d6a8",
   "metadata": {
    "execution": {
     "iopub.execute_input": "2023-10-30T21:38:16.519242Z",
     "iopub.status.busy": "2023-10-30T21:38:16.519079Z",
     "iopub.status.idle": "2023-10-30T21:38:20.304103Z",
     "shell.execute_reply": "2023-10-30T21:38:20.303461Z",
     "shell.execute_reply.started": "2023-10-30T21:38:16.519229Z"
    }
   },
   "outputs": [],
   "source": [
    "train_logs = pd.read_csv(f\"{cnfg.INPUT_DIR}/train_logs.csv\")\n",
    "train_scores = pd.read_csv(f\"{cnfg.INPUT_DIR}/train_scores.csv\")\n",
    "test_logs = pd.read_csv(f\"{cnfg.INPUT_DIR}/test_logs.csv\")"
   ]
  },
  {
   "cell_type": "code",
   "execution_count": null,
   "id": "bb271bf1-02ce-443e-a4db-cc65562662f6",
   "metadata": {},
   "outputs": [],
   "source": []
  },
  {
   "cell_type": "code",
   "execution_count": 6,
   "id": "d1690ace-accb-430b-ab36-6eccf5f69a7f",
   "metadata": {
    "execution": {
     "iopub.execute_input": "2023-10-30T21:38:20.304773Z",
     "iopub.status.busy": "2023-10-30T21:38:20.304635Z",
     "iopub.status.idle": "2023-10-30T21:38:20.310569Z",
     "shell.execute_reply": "2023-10-30T21:38:20.310220Z",
     "shell.execute_reply.started": "2023-10-30T21:38:20.304759Z"
    }
   },
   "outputs": [
    {
     "data": {
      "text/plain": [
       "Index(['id', 'event_id', 'down_time', 'up_time', 'action_time', 'activity',\n",
       "       'down_event', 'up_event', 'text_change', 'cursor_position',\n",
       "       'word_count'],\n",
       "      dtype='object')"
      ]
     },
     "execution_count": 6,
     "metadata": {},
     "output_type": "execute_result"
    }
   ],
   "source": [
    "train_logs.columns"
   ]
  },
  {
   "cell_type": "markdown",
   "id": "ca975f86-be9f-4c57-a49d-3a3931ed7a87",
   "metadata": {},
   "source": [
    "### Utils ###"
   ]
  },
  {
   "cell_type": "code",
   "execution_count": 7,
   "id": "aa95a002-bdd8-482d-9712-f1112667c08d",
   "metadata": {
    "execution": {
     "iopub.execute_input": "2023-10-30T21:38:20.311402Z",
     "iopub.status.busy": "2023-10-30T21:38:20.311107Z",
     "iopub.status.idle": "2023-10-30T21:38:20.323870Z",
     "shell.execute_reply": "2023-10-30T21:38:20.323283Z",
     "shell.execute_reply.started": "2023-10-30T21:38:20.311388Z"
    }
   },
   "outputs": [],
   "source": [
    "def my_max(lst):\n",
    "    try:\n",
    "        x = max(lst)\n",
    "    except:\n",
    "        x = 0\n",
    "    return x\n",
    "\n",
    "\n",
    "def my_min(lst):\n",
    "    try:\n",
    "        x = min(lst)\n",
    "    except:\n",
    "        x = 0\n",
    "    return x\n",
    "\n",
    "\n",
    "def my_mean(lst):\n",
    "    try:\n",
    "        x = np.mean(lst)\n",
    "    except:\n",
    "        x = 0\n",
    "    return x\n",
    "\n",
    "\n",
    "def my_std(lst):\n",
    "    try:\n",
    "        x = st.stdev(lst)\n",
    "    except:\n",
    "        x = 0\n",
    "    return x\n",
    "\n",
    "\n",
    "def my_skew(lst):\n",
    "    try:\n",
    "        x = skew(lst)\n",
    "    except:\n",
    "        x = 0\n",
    "    return x\n",
    "\n",
    "\n",
    "def my_kurtosis(lst):\n",
    "    try:\n",
    "        x = kurtosis(lst)\n",
    "    except:\n",
    "        x = 0\n",
    "    return x\n",
    "\n",
    "\n",
    "def my_median_grouped(lst):\n",
    "    try:\n",
    "        x = st.median_grouped(lst)\n",
    "    except:\n",
    "        x = 0\n",
    "    return x\n",
    "\n",
    "\n",
    "def my_sum(lst):\n",
    "    try:\n",
    "        x = sum(lst)\n",
    "    except:\n",
    "        x = 0\n",
    "    return x"
   ]
  },
  {
   "cell_type": "code",
   "execution_count": null,
   "id": "b34ce2e5-51f7-418c-8745-cf39ad5a4869",
   "metadata": {},
   "outputs": [],
   "source": []
  },
  {
   "cell_type": "markdown",
   "id": "6ca269fe-fa1f-485e-b8e0-70169fa056fc",
   "metadata": {},
   "source": [
    "### Pre-processing ###"
   ]
  },
  {
   "cell_type": "code",
   "execution_count": 8,
   "id": "9387a7ea-ff21-46cb-b608-b1dfaf525196",
   "metadata": {
    "execution": {
     "iopub.execute_input": "2023-10-30T21:38:20.324996Z",
     "iopub.status.busy": "2023-10-30T21:38:20.324768Z",
     "iopub.status.idle": "2023-10-30T21:38:20.427788Z",
     "shell.execute_reply": "2023-10-30T21:38:20.427241Z",
     "shell.execute_reply.started": "2023-10-30T21:38:20.324963Z"
    }
   },
   "outputs": [],
   "source": [
    "class Preprocessor:\n",
    "    def __init__(self, seed, df):\n",
    "        self.seed = seed\n",
    "\n",
    "        self.activities = [\"Input\", \"Remove/Cut\", \"Nonproduction\", \"Replace\", \"Paste\"]\n",
    "        self.activities_name_mapping = {\n",
    "            \"Input\": \"input\",\n",
    "            \"Remove/Cut\": \"remove\",\n",
    "            \"Nonproduction\": \"non_production\",\n",
    "            \"Replace\": \"replace\",\n",
    "            \"Paste\": \"paste\",\n",
    "        }\n",
    "        self.text_changes = text_changes = [\n",
    "            \"q\",\n",
    "            \" \",\n",
    "            # \"NoChange\",\n",
    "            \".\",\n",
    "            \",\",\n",
    "            \"\\n\",\n",
    "            \"'\",\n",
    "            '\"',\n",
    "            \"-\",\n",
    "            \"?\",\n",
    "            \";\",\n",
    "            \"=\",\n",
    "            \"/\",\n",
    "            \"\\\\\",\n",
    "            \":\",\n",
    "        ]\n",
    "        self.special_character_name_mapping = special_character_name_mapping = {\n",
    "            \"'\": \"qoute\",\n",
    "            '\"': \"double_qoute\",\n",
    "            \".\": \"full_stop\",\n",
    "            \",\": \"comma\",\n",
    "            \"-\": \"hyphen\",\n",
    "            \"?\": \"question_mark\",\n",
    "            \";\": \"semi_colon\",\n",
    "            \"=\": \"equal_to\",\n",
    "            \"/\": \"forward_slash\",\n",
    "            \"\\\\\": \"back_slash\",\n",
    "            \":\": \"colon\",\n",
    "            \"(\": \"bracket_open\",\n",
    "            \")\": \"bracket_close\",\n",
    "            \"!\": \"exclamation_mark\",\n",
    "            \"[\": \"square_bracket_open\",\n",
    "            \"$\": \"dollar\",\n",
    "            \">\": \"greater_than_sign\",\n",
    "            \"]\": \"square_bracket_close\",\n",
    "            \"*\": \"star\",\n",
    "            \"%\": \"percentage\",\n",
    "            \"&\": \"ampresand\",\n",
    "            \"<\": \"less_than_sign\",\n",
    "            \"+\": \"plus_sign\",\n",
    "            \"_\": \"under_score\",\n",
    "            \"{\": \"curly_bracket_open\",\n",
    "            \"`\": \"tilted_qoute\",\n",
    "            \"#\": \"hashtag\",\n",
    "            \" \": \"blank_space\",\n",
    "            \"\\n\": \"new_line_char\",\n",
    "        }\n",
    "        self.df = df.sort_values([\"id\", \"event_id\"]).reset_index(drop=True)\n",
    "\n",
    "    def remove_lower_categorical_values(self):\n",
    "        ## Clean activity\n",
    "        self.df[\"activity\"] = self.df.activity.apply(\n",
    "            lambda x: x if x in self.activities else \"__OUTLIER__\"\n",
    "        )\n",
    "\n",
    "    def clean_up_time(self):\n",
    "        \"\"\"\n",
    "        For maximum number of ids uptime is not increasing. In each id for one or two events, up_time is incorrectly recorded\n",
    "        Procedure: Calculate the difference with next if diff is negative replace up_time with the up_time of next.\n",
    "        \"\"\"\n",
    "        print(f\"Before uptime cleaning, data shape: {self.df.shape}\")\n",
    "        tmp_df = self.df[[\"id\", \"event_id\", \"up_time\"]]\n",
    "        tmp_df[\"up_time_next\"] = tmp_df.groupby(\"id\").up_time.shift(-1)\n",
    "        tmp_df[\"up_time_diff\"] = tmp_df[\"up_time_next\"] - tmp_df.up_time\n",
    "\n",
    "        tmp_df.loc[tmp_df[tmp_df.up_time_diff < 0].index, \"up_time\"] = tmp_df[\n",
    "            tmp_df.up_time_diff < 0\n",
    "        ].up_time_next\n",
    "\n",
    "        # Do it once more\n",
    "        tmp_df = tmp_df[[\"id\", \"event_id\", \"up_time\"]]\n",
    "        tmp_df[\"up_time_next\"] = tmp_df.groupby(\"id\").up_time.shift(-1)\n",
    "        tmp_df[\"up_time_diff\"] = tmp_df[\"up_time_next\"] - tmp_df.up_time\n",
    "        tmp_df.loc[tmp_df[tmp_df.up_time_diff < 0].index, \"up_time\"] = tmp_df[\n",
    "            tmp_df.up_time_diff < 0\n",
    "        ].up_time_next\n",
    "\n",
    "        self.df[\"up_time\"] = tmp_df[\"up_time\"]\n",
    "        print(f\"After uptime cleaning, data shape: {self.df.shape}\")\n",
    "\n",
    "    def add_latency_columns(self):\n",
    "        # HL -> Hold latency, up_time-down_time\n",
    "        # IL-> Interkey latency -> down_time(event2) - up_time(event1)\n",
    "        # PL -> Press latency -> down_time(event2)- down_time(event1) or HL+IL\n",
    "        # RL -> Release Latency -> up_time(event2)- up_time(event1)\n",
    "        # self.df[\"HL\"] = self.df[\"up_time\"] - self.df[\"down_time\"] #same as action_time\n",
    "        self.df[\"IL\"] = self.df[\"up_time\"] - self.df.groupby(\"id\").down_time.shift(1)\n",
    "        self.df[\"IL\"] = self.df[\"IL\"].fillna(0)\n",
    "        self.df[\"PL\"] = self.df[\"down_time\"] - self.df.groupby(\"id\").down_time.shift(1)\n",
    "        self.df[\"PL\"] = self.df[\"PL\"].fillna(0)\n",
    "        self.df[\"RL\"] = self.df[\"up_time\"] - self.df.groupby(\"id\").up_time.shift(1)\n",
    "        self.df[\"RL\"] = self.df[\"RL\"].fillna(0)\n",
    "\n",
    "        # self.df = self.df[~self.df.isna().any(axis=1)].reset_index(drop=True)\n",
    "\n",
    "    def clean_data(self):\n",
    "        self.remove_lower_categorical_values()\n",
    "        self.clean_up_time()\n",
    "\n",
    "        self.add_latency_columns()\n",
    "\n",
    "    def change_time_columns_to_secs(self):\n",
    "        time_columns = [\"down_time\", \"up_time\", \"action_time\", \"IL\", \"PL\", \"RL\"]\n",
    "        for clm in time_columns:\n",
    "            self.df[clm] = self.df[clm] / cnfg.time_divider\n",
    "\n",
    "    def activity_features(self, tmp_df):\n",
    "        # Activity Counts to total activity count ratio\n",
    "        # Number of different activities\n",
    "        features_to_drop = []\n",
    "        ret = list()\n",
    "        for i, li in tqdm(enumerate(tmp_df[\"activity_list\"].values)):\n",
    "            items = list(Counter(li).items())\n",
    "            di = dict()\n",
    "            for k in self.activities_name_mapping.keys():\n",
    "                di[self.activities_name_mapping[k]] = 0\n",
    "            for item in items:\n",
    "                k, v = item[0], item[1]\n",
    "                if k in self.activities_name_mapping.keys():\n",
    "                    # if self.activities_name_mapping[k] in di:\n",
    "                    di[self.activities_name_mapping[k]] = v\n",
    "            ret.append(di)\n",
    "        ret = pd.DataFrame(ret)\n",
    "        cols = [f\"activity_{act_name}_count\" for act_name in ret.columns]\n",
    "        ret.columns = cols\n",
    "\n",
    "        tmp_df = pd.concat([tmp_df, ret], axis=1)\n",
    "        ###############################################################################\n",
    "        # Ratio of first occurence of each activity to total_time taken\n",
    "        for act_clm in self.activities_name_mapping.keys():\n",
    "            first_occr_df = self.df[self.df.activity == act_clm].drop_duplicates(\n",
    "                subset=[\"id\", \"activity\"], keep=\"first\"\n",
    "            )\n",
    "            first_occr_df[\n",
    "                f\"{self.activities_name_mapping[act_clm]}_first_time\"\n",
    "            ] = first_occr_df[\"down_time\"]\n",
    "            first_occr_df = first_occr_df[\n",
    "                [\"id\", f\"{self.activities_name_mapping[act_clm]}_first_time\"]\n",
    "            ]\n",
    "            tmp_df = tmp_df.merge(first_occr_df, on=\"id\", how=\"left\")\n",
    "            tmp_df[f\"{self.activities_name_mapping[act_clm]}_first_time\"] = (\n",
    "                tmp_df[f\"{self.activities_name_mapping[act_clm]}_first_time\"]\n",
    "                - tmp_df[\"start_time\"]\n",
    "            )\n",
    "\n",
    "            tmp_df[f\"{self.activities_name_mapping[act_clm]}_first_time\"] = tmp_df[\n",
    "                f\"{self.activities_name_mapping[act_clm]}_first_time\"\n",
    "            ].fillna(-1)\n",
    "\n",
    "        ###############################################################################\n",
    "        # Ratio of last occurence of each activity to total_time taken\n",
    "        for act_clm in self.activities_name_mapping.keys():\n",
    "            last_occr_df = self.df[self.df.activity == act_clm].drop_duplicates(\n",
    "                subset=[\"id\", \"activity\"], keep=\"last\"\n",
    "            )\n",
    "            last_occr_df[\n",
    "                f\"{self.activities_name_mapping[act_clm]}_last_time\"\n",
    "            ] = last_occr_df[\"down_time\"]\n",
    "            last_occr_df = last_occr_df[\n",
    "                [\"id\", f\"{self.activities_name_mapping[act_clm]}_last_time\"]\n",
    "            ]\n",
    "            tmp_df = tmp_df.merge(last_occr_df, on=\"id\", how=\"left\")\n",
    "            tmp_df[f\"{self.activities_name_mapping[act_clm]}_last_time\"] = (\n",
    "                tmp_df[f\"{self.activities_name_mapping[act_clm]}_last_time\"]\n",
    "                - tmp_df[\"start_time\"]\n",
    "            )\n",
    "\n",
    "            tmp_df[f\"{self.activities_name_mapping[act_clm]}_last_time\"] = tmp_df[\n",
    "                f\"{self.activities_name_mapping[act_clm]}_last_time\"\n",
    "            ].fillna(-1)\n",
    "\n",
    "        ###############################################################################\n",
    "        # min max mean std and other stats values of time between each type of activity\n",
    "        methods_to_apply = [\n",
    "            my_min,\n",
    "            my_max,\n",
    "            my_mean,\n",
    "            my_std,\n",
    "            my_skew,\n",
    "            my_kurtosis,\n",
    "            my_median_grouped,\n",
    "        ]\n",
    "\n",
    "        for act_clm in [\"Input\", \"Remove/Cut\", \"Nonproduction\"]:\n",
    "            particular_act_df = self.df[self.df.activity == act_clm].reset_index(\n",
    "                drop=True\n",
    "            )\n",
    "            act_clm = self.activities_name_mapping[act_clm]\n",
    "            particular_act_df[f\"{act_clm}_prev_event_time\"] = particular_act_df.groupby(\n",
    "                \"id\"\n",
    "            ).down_time.shift(1)\n",
    "            particular_act_df[f\"{act_clm}_inter_act_latency\"] = (\n",
    "                particular_act_df[\"down_time\"]\n",
    "                - particular_act_df[f\"{act_clm}_prev_event_time\"]\n",
    "            )\n",
    "\n",
    "            particular_act_df[f\"{act_clm}_inter_act_latency\"] = particular_act_df[\n",
    "                f\"{act_clm}_inter_act_latency\"\n",
    "            ].fillna(0)\n",
    "\n",
    "            # particular_act_df = particular_act_df[\n",
    "            #     ~particular_act_df.isna().any(axis=1)\n",
    "            # ].reset_index(drop=True)\n",
    "\n",
    "            colname = f\"{act_clm}_inter_act_latency\"\n",
    "            for method in methods_to_apply:\n",
    "                if isinstance(method, str):\n",
    "                    method_name = method\n",
    "                else:\n",
    "                    method_name = method.__name__\n",
    "                colname_method = f\"{act_clm}_{method_name}_inter_act_latency\"\n",
    "                tmp2_df = (\n",
    "                    particular_act_df.groupby([\"id\"])\n",
    "                    .agg({colname: method})\n",
    "                    .reset_index()\n",
    "                    .rename(columns={colname: colname_method})\n",
    "                )\n",
    "\n",
    "                tmp_df = tmp_df.merge(tmp2_df, on=\"id\", how=\"left\")\n",
    "                tmp_df[colname_method] = tmp_df[colname_method].fillna(0)\n",
    "\n",
    "        ###############################################################################\n",
    "        # Number of type of down_events in each of [\"Input\", \"Remove/Cut\", \"Nonproduction\"]\n",
    "        for act_clm in [\"Input\", \"Remove/Cut\", \"Nonproduction\"]:\n",
    "            particular_act_df = self.df[self.df.activity == act_clm].reset_index(\n",
    "                drop=True\n",
    "            )\n",
    "            act_clm = self.activities_name_mapping[act_clm]\n",
    "            colname = f\"num_type_down_events_in_{act_clm}\"\n",
    "            tmp2_df = (\n",
    "                particular_act_df.groupby(\"id\", as_index=False)\n",
    "                .agg({\"down_event\": \"nunique\"})\n",
    "                .rename(columns={\"down_event\": colname})\n",
    "            )\n",
    "\n",
    "            tmp_df = tmp_df.merge(tmp2_df, on=\"id\", how=\"left\")\n",
    "            tmp_df[colname] = tmp_df[colname].fillna(0)\n",
    "\n",
    "        ###############################################################################\n",
    "        ## Ways in which remove/cut happens -> Top ways -> ['Backspace','Delete','x','z','Rightclick'] ratios\n",
    "        remove_df = self.df[self.df.activity == \"Remove/Cut\"].reset_index(drop=True)\n",
    "        name_for_remove = self.activities_name_mapping[\"Remove/Cut\"]\n",
    "        remove_feats_df = remove_df.groupby(\"id\", as_index=False).agg(\n",
    "            total_remove_activity=(\"down_event\", lambda x: len(list(x)))\n",
    "        )\n",
    "\n",
    "        tmp_df = tmp_df.merge(remove_feats_df, on=\"id\", how=\"left\")\n",
    "        tmp_df[\"total_remove_activity\"] = tmp_df[\"total_remove_activity\"].fillna(0)\n",
    "\n",
    "        for dwn_evnt in [\"Backspace\", \"Delete\", \"x\", \"z\", \"Rightclick\"]:\n",
    "            colname = f\"{dwn_evnt}_in_{name_for_remove}_share\"\n",
    "            tmp2_df = (\n",
    "                remove_df[remove_df.down_event == dwn_evnt]\n",
    "                .groupby(\"id\", as_index=False)\n",
    "                .agg({\"down_event\": lambda x: len(list(x))})\n",
    "                .rename(columns={\"down_event\": colname})\n",
    "            )\n",
    "            tmp_df = tmp_df.merge(tmp2_df, on=\"id\", how=\"left\")\n",
    "            tmp_df[colname] = tmp_df[colname].fillna(0)\n",
    "\n",
    "        ###############################################################################\n",
    "        ## Ways in which replace happens -> Top ways -> ['q','Space','.',',','z','v','Enter','Rightclick'] ratios\n",
    "        replace_df = self.df[self.df.activity == \"Replace\"].reset_index(drop=True)\n",
    "        name_for_replace = self.activities_name_mapping[\"Replace\"]\n",
    "        replace_feats_df = replace_df.groupby(\"id\", as_index=False).agg(\n",
    "            total_replace_activity=(\"down_event\", lambda x: len(list(x)))\n",
    "        )\n",
    "\n",
    "        tmp_df = tmp_df.merge(replace_feats_df, on=\"id\", how=\"left\")\n",
    "        tmp_df[\"total_replace_activity\"] = tmp_df[\"total_replace_activity\"].fillna(0)\n",
    "\n",
    "        for dwn_evnt in [\"q\", \"Space\", \".\", \",\", \"z\", \"v\", \"Enter\", \"Rightclick\"]:\n",
    "            dwn_evnt_name = (\n",
    "                dwn_evnt\n",
    "                if dwn_evnt not in self.special_character_name_mapping.keys()\n",
    "                else self.special_character_name_mapping[dwn_evnt]\n",
    "            )\n",
    "            colname = f\"{dwn_evnt_name}_in_{name_for_replace}_share\"\n",
    "            tmp2_df = (\n",
    "                replace_df[replace_df.down_event == dwn_evnt]\n",
    "                .groupby(\"id\", as_index=False)\n",
    "                .agg({\"down_event\": lambda x: len(list(x))})\n",
    "                .rename(columns={\"down_event\": colname})\n",
    "            )\n",
    "            tmp_df = tmp_df.merge(tmp2_df, on=\"id\", how=\"left\")\n",
    "            tmp_df[colname] = tmp_df[colname].fillna(0)\n",
    "\n",
    "        ###############################################################################\n",
    "        \"\"\"\n",
    "        Ways in which Nonproduction happens -> Top ways ->  top_ways_np ratios\n",
    "        \"\"\"\n",
    "        top_ways_np = [\n",
    "            \"Shift\",\n",
    "            \"ArrowRight\",\n",
    "            \"Leftclick\",\n",
    "            \"ArrowLeft\",\n",
    "            \"ArrowDown\",\n",
    "            \"ArrowUp\",\n",
    "            \"CapsLock\",\n",
    "            \"Control\",\n",
    "            \"Backspace\",\n",
    "            \"Tab\",\n",
    "            \"ContextMenu\",\n",
    "            \"End\",\n",
    "            \"Rightclick\",\n",
    "        ]\n",
    "        np_df = self.df[self.df.activity == \"Nonproduction\"].reset_index(drop=True)\n",
    "        name_for_np = self.activities_name_mapping[\"Nonproduction\"]\n",
    "        np_feats_df = np_df.groupby(\"id\", as_index=False).agg(\n",
    "            total_np_activity=(\"down_event\", lambda x: len(list(x)))\n",
    "        )\n",
    "        tmp_df = tmp_df.merge(np_feats_df, on=\"id\", how=\"left\")\n",
    "        tmp_df[\"total_np_activity\"] = tmp_df[\"total_np_activity\"].fillna(0)\n",
    "\n",
    "        for dwn_evnt in top_ways_np:\n",
    "            dwn_evnt_name = (\n",
    "                dwn_evnt\n",
    "                if dwn_evnt not in self.special_character_name_mapping.keys()\n",
    "                else self.special_character_name_mapping[dwn_evnt]\n",
    "            )\n",
    "            colname = f\"{dwn_evnt_name}_in_{name_for_np}_share\"\n",
    "            tmp2_df = (\n",
    "                np_df[np_df.down_event == dwn_evnt]\n",
    "                .groupby(\"id\", as_index=False)\n",
    "                .agg({\"down_event\": lambda x: len(list(x))})\n",
    "                .rename(columns={\"down_event\": colname})\n",
    "            )\n",
    "            tmp_df = tmp_df.merge(tmp2_df, on=\"id\", how=\"left\")\n",
    "            tmp_df[colname] = tmp_df[colname].fillna(0)\n",
    "\n",
    "        ###############################################################################\n",
    "        \"\"\"\n",
    "        Ways in which Input happens -> Top ways ->  top_ways_np ratios\n",
    "        \"\"\"\n",
    "        top_ways_input = [\n",
    "            \"q\",\n",
    "            \"Space\",\n",
    "            \"Enter\",\n",
    "        ] + list(self.special_character_name_mapping.keys())\n",
    "\n",
    "        top_ways_input = [\n",
    "            inp\n",
    "            for inp in top_ways_input\n",
    "            if inp\n",
    "            not in [\n",
    "                \":\",\n",
    "                \"(\",\n",
    "                \")\",\n",
    "                \"!\",\n",
    "                \"[\",\n",
    "                \"$\",\n",
    "                \">\",\n",
    "                \"]\",\n",
    "                \"*\",\n",
    "                \"%\",\n",
    "                \"&\",\n",
    "                \"<\",\n",
    "                \"+\",\n",
    "                \"_\",\n",
    "                \"{\",\n",
    "                \"`\",\n",
    "                \"#\",\n",
    "                \" \",\n",
    "                \"\\n\",\n",
    "            ]\n",
    "        ]\n",
    "        input_df = self.df[self.df.activity == \"Input\"].reset_index(drop=True)\n",
    "        name_for_input = self.activities_name_mapping[\"Input\"]\n",
    "        input_feats_df = input_df.groupby(\"id\", as_index=False).agg(\n",
    "            total_input_activity=(\"down_event\", lambda x: len(list(x)))\n",
    "        )\n",
    "        tmp_df = tmp_df.merge(input_feats_df, on=\"id\", how=\"left\")\n",
    "\n",
    "        for dwn_evnt in top_ways_input:\n",
    "            dwn_evnt_name = (\n",
    "                dwn_evnt\n",
    "                if dwn_evnt not in self.special_character_name_mapping.keys()\n",
    "                else self.special_character_name_mapping[dwn_evnt]\n",
    "            )\n",
    "            colname = f\"{dwn_evnt_name}_in_{name_for_input}_share\"\n",
    "            tmp2_df = (\n",
    "                input_df[input_df.down_event == dwn_evnt]\n",
    "                .groupby(\"id\", as_index=False)\n",
    "                .agg({\"down_event\": lambda x: len(list(x))})\n",
    "                .rename(columns={\"down_event\": colname})\n",
    "            )\n",
    "            tmp_df = tmp_df.merge(tmp2_df, on=\"id\", how=\"left\")\n",
    "            tmp_df[colname] = tmp_df[colname].fillna(0)\n",
    "\n",
    "        ###############################################################################\n",
    "\n",
    "        ###############################################################################\n",
    "        print(f\"Features dropping in activity function {features_to_drop}\")\n",
    "        tmp_df = tmp_df.drop(columns=features_to_drop)\n",
    "        return tmp_df\n",
    "\n",
    "    def word_count_features(self, tmp_df):\n",
    "        word_count_df = self.df[[\"id\", \"event_id\", \"word_count\", \"down_time\"]]\n",
    "        # Number of times words deleted:\n",
    "        word_count_df[\"word_count_first_derivative\"] = word_count_df[\n",
    "            \"word_count\"\n",
    "        ] - word_count_df.groupby(\"id\").word_count.shift(1)\n",
    "\n",
    "        word_count_df[\"word_count_first_derivative\"] = word_count_df[\n",
    "            \"word_count_first_derivative\"\n",
    "        ].fillna(0)\n",
    "        # word_count_df = word_count_df[~word_count_df.isna().any(axis=1)].reset_index(\n",
    "        #     drop=True\n",
    "        # )\n",
    "\n",
    "        wc_feats_df = word_count_df.groupby(\"id\", as_index=False).agg(\n",
    "            num_times_word_deleted=(\n",
    "                \"word_count_first_derivative\",\n",
    "                lambda x: my_sum([1 for i in list(x) if i < 0]),\n",
    "            ),\n",
    "            num_words_deleted=(  # take ratio with total words\n",
    "                \"word_count_first_derivative\",\n",
    "                lambda x: my_sum([-i for i in list(x) if i < 0]),\n",
    "            ),\n",
    "            size_of_biggest_chunk_removed=(  # take ratio with total words\n",
    "                \"word_count_first_derivative\",\n",
    "                lambda x: my_max([-i for i in list(x) if i < 0]),\n",
    "            ),\n",
    "            avg_num_words_removed_at_a_time=(  # take ratio with total words\n",
    "                \"word_count_first_derivative\",\n",
    "                lambda x: my_mean([-i for i in list(x) if i < 0]),\n",
    "            ),\n",
    "        )\n",
    "        wc_feats_df = wc_feats_df.fillna(0)\n",
    "        tmp_df = tmp_df.merge(wc_feats_df, on=\"id\", how=\"left\")\n",
    "\n",
    "        word_count_df2 = word_count_df[\n",
    "            word_count_df.word_count_first_derivative < 0\n",
    "        ].reset_index(drop=True)\n",
    "        word_count_df2 = word_count_df2.merge(\n",
    "            tmp_df[[\"id\", \"start_time\", \"total_time_taken\"]], on=\"id\"\n",
    "        )\n",
    "        word_count_df2[\"time_for_word_deletion_share\"] = (\n",
    "            word_count_df2[\"down_time\"] - word_count_df2[\"start_time\"]\n",
    "        )\n",
    "\n",
    "        # Time after start when word is deleted first time and last time\n",
    "        wc_feats_df = word_count_df2.groupby(\"id\", as_index=False).agg(\n",
    "            first_time_word_deletion=(\n",
    "                \"time_for_word_deletion_share\",\n",
    "                lambda x: list(x)[0],\n",
    "            ),\n",
    "            last_time_word_deletion=(\n",
    "                \"time_for_word_deletion_share\",\n",
    "                lambda x: list(x)[-1],\n",
    "            ),\n",
    "        )\n",
    "        wc_feats_df = wc_feats_df.fillna(0)\n",
    "        tmp_df = tmp_df.merge(wc_feats_df, on=\"id\", how=\"left\")\n",
    "        tmp_df[\"first_time_word_deletion\"] = tmp_df[\"first_time_word_deletion\"].fillna(\n",
    "            0\n",
    "        )\n",
    "        tmp_df[\"last_time_word_deletion\"] = tmp_df[\"last_time_word_deletion\"].fillna(0)\n",
    "\n",
    "        # Average,max,min,std of time between word deletions\n",
    "        word_count_df2[\"time_between_word_deletions\"] = word_count_df2[\n",
    "            \"down_time\"\n",
    "        ] - word_count_df2.groupby(\"id\").down_time.shift(1)\n",
    "        word_count_df2[\"time_between_word_deletions\"] = word_count_df2[\n",
    "            \"time_between_word_deletions\"\n",
    "        ].fillna(0)\n",
    "\n",
    "        wc_feats_df = word_count_df2.groupby(\"id\", as_index=False).agg(\n",
    "            mean_time_btw_word_deletions=(\n",
    "                \"time_between_word_deletions\",\n",
    "                lambda x: my_mean(list(x)),\n",
    "            ),\n",
    "            max_time_btw_word_deletions=(\n",
    "                \"time_between_word_deletions\",\n",
    "                lambda x: my_max(list(x)),\n",
    "            ),\n",
    "            min_time_btw_word_deletions=(\n",
    "                \"time_between_word_deletions\",\n",
    "                lambda x: my_min(list(x)),\n",
    "            ),\n",
    "            std_time_btw_word_deletions=(\n",
    "                \"time_between_word_deletions\",\n",
    "                lambda x: my_std(list(x)),\n",
    "            ),\n",
    "        )\n",
    "\n",
    "        wc_feats_df = wc_feats_df.fillna(0)\n",
    "        tmp_df = tmp_df.merge(wc_feats_df, on=\"id\", how=\"left\")\n",
    "\n",
    "        return tmp_df\n",
    "\n",
    "    def cursor_position_features(self, tmp_df):\n",
    "        cursor_pos_df = self.df[[\"id\", \"event_id\", \"cursor_position\", \"down_time\"]]\n",
    "        # Number of times cursor position is decreased means gone back to see something:\n",
    "        cursor_pos_df[\"cursor_pos_first_derivative\"] = cursor_pos_df[\n",
    "            \"cursor_position\"\n",
    "        ] - cursor_pos_df.groupby(\"id\").cursor_position.shift(1)\n",
    "        cursor_pos_df[\"cursor_pos_first_derivative\"] = cursor_pos_df[\n",
    "            \"cursor_pos_first_derivative\"\n",
    "        ].fillna(0)\n",
    "        # cursor_pos_df = cursor_pos_df[~cursor_pos_df.isna().any(axis=1)].reset_index(\n",
    "        #     drop=True\n",
    "        # )\n",
    "\n",
    "        cp_feats_df = cursor_pos_df.groupby(\"id\", as_index=False).agg(\n",
    "            num_times_cp_decreased=(\n",
    "                \"cursor_pos_first_derivative\",\n",
    "                lambda x: my_sum([1 for i in list(x) if i < 0]),\n",
    "            ),\n",
    "            size_of_biggest_cp_decreased=(\n",
    "                \"cursor_pos_first_derivative\",\n",
    "                lambda x: my_max([-i for i in list(x) if i < 0]),\n",
    "            ),\n",
    "            avg_size_of_cp_decreased_at_a_time=(\n",
    "                \"cursor_pos_first_derivative\",\n",
    "                lambda x: my_mean([-i for i in list(x) if i < 0]),\n",
    "            ),\n",
    "        )\n",
    "        cp_feats_df = cp_feats_df.fillna(0)\n",
    "        tmp_df = tmp_df.merge(cp_feats_df, on=\"id\", how=\"left\")\n",
    "\n",
    "        return tmp_df\n",
    "\n",
    "    def text_change_features(self, tmp_df):\n",
    "        # Count of all text_change features\n",
    "        for txt_chng in self.text_changes:\n",
    "            txt_chng_name = (\n",
    "                txt_chng\n",
    "                if txt_chng not in self.special_character_name_mapping.keys()\n",
    "                else self.special_character_name_mapping[txt_chng]\n",
    "            )\n",
    "\n",
    "            text_change_df = self.df[self.df.text_change == txt_chng]\n",
    "            cnt_col_name = f\"{txt_chng_name}_tc_total_share\"\n",
    "            text_change_features = (\n",
    "                text_change_df.groupby(\"id\", as_index=False)\n",
    "                .agg({\"text_change\": lambda x: len(list(x))})\n",
    "                .rename(columns={\"text_change\": cnt_col_name})\n",
    "            )\n",
    "            tmp_df = tmp_df.merge(text_change_features, on=\"id\", how=\"left\")\n",
    "            tmp_df[cnt_col_name] = tmp_df[cnt_col_name].fillna(0)\n",
    "            ## Ratio of text_change in particular activity\n",
    "            for act in [\"Input\", \"Remove/Cut\"]:\n",
    "                act_name = self.activities_name_mapping[act]\n",
    "                cnt_col_name2 = f\"{txt_chng_name}_in_{act_name}_tc_total_share\"\n",
    "                text_change_df2 = text_change_df[text_change_df.activity == act]\n",
    "                text_change_features2 = (\n",
    "                    text_change_df2.groupby(\"id\", as_index=False)\n",
    "                    .agg({\"text_change\": lambda x: len(list(x))})\n",
    "                    .rename(columns={\"text_change\": cnt_col_name2})\n",
    "                )\n",
    "\n",
    "                tmp_df = tmp_df.merge(text_change_features2, on=\"id\", how=\"left\")\n",
    "                tmp_df[cnt_col_name2] = tmp_df[cnt_col_name2].fillna(0)\n",
    "\n",
    "        return tmp_df\n",
    "\n",
    "    def word_len_features(self, tmp_df):\n",
    "        essay_text_df = self.df[\n",
    "            (~self.df[\"text_change\"].str.contains(\"=>\"))\n",
    "            & (self.df[\"text_change\"] != \"NoChange\")\n",
    "        ].reset_index(drop=True)\n",
    "        essay_text_df = (\n",
    "            essay_text_df.groupby(\"id\").agg({\"text_change\": list}).reset_index()\n",
    "        )\n",
    "        essay_text_df[\"text_change\"] = essay_text_df[\"text_change\"].apply(\n",
    "            lambda x: \"\".join(x)\n",
    "        )\n",
    "        essay_text_df[\"text_change2\"] = essay_text_df[\"text_change\"].apply(\n",
    "            lambda x: re.findall(r\"q+\", x)\n",
    "        )\n",
    "        essay_text_df[\"input_word_count\"] = essay_text_df[\"text_change2\"].apply(len)\n",
    "        essay_text_df[\"input_word_length_mean\"] = essay_text_df[\"text_change2\"].apply(\n",
    "            lambda x: np.mean([len(i) for i in x] if len(x) > 0 else 0)\n",
    "        )\n",
    "        essay_text_df[\"input_word_length_max\"] = essay_text_df[\"text_change2\"].apply(\n",
    "            lambda x: np.max([len(i) for i in x] if len(x) > 0 else 0)\n",
    "        )\n",
    "        essay_text_df[\"input_word_length_std\"] = essay_text_df[\"text_change2\"].apply(\n",
    "            lambda x: np.std([len(i) for i in x] if len(x) > 0 else 0)\n",
    "        )\n",
    "\n",
    "        essay_text_df[\"input_word_length_skew\"] = essay_text_df[\"text_change2\"].apply(\n",
    "            lambda x: my_skew([len(i) for i in x] if len(x) > 0 else 0)\n",
    "        )\n",
    "\n",
    "        essay_text_df[\"input_word_length_kurtosis\"] = essay_text_df[\n",
    "            \"text_change2\"\n",
    "        ].apply(lambda x: my_kurtosis([len(i) for i in x] if len(x) > 0 else 0))\n",
    "\n",
    "        essay_text_df2 = essay_text_df[[\"id\", \"text_change2\"]].explode(\n",
    "            column=\"text_change2\"\n",
    "        )\n",
    "        essay_text_df2 = essay_text_df2.dropna().reset_index(drop=True)\n",
    "\n",
    "        essay_text_df = essay_text_df.drop(columns=[\"text_change\", \"text_change2\"])\n",
    "\n",
    "        tmp_df = tmp_df.merge(essay_text_df, on=\"id\", how=\"left\")\n",
    "\n",
    "        ## Count number of words of lengths ['1', '2', '3', '4', '5', '6', '7', '8', '9', '10', 'more_than_10']\n",
    "        essay_text_df2[\"word_len\"] = essay_text_df2.text_change2.apply(\n",
    "            lambda x: \"more_than_10\" if len(x) > 10 else str(len(x))\n",
    "        )\n",
    "\n",
    "        essay_text_df2 = essay_text_df2.groupby(\"id\", as_index=False).agg(\n",
    "            {\"word_len\": list}\n",
    "        )\n",
    "        list_of_word_lens = [\n",
    "            \"1\",\n",
    "            \"2\",\n",
    "            \"3\",\n",
    "            \"4\",\n",
    "            \"5\",\n",
    "            \"6\",\n",
    "            \"7\",\n",
    "            \"8\",\n",
    "            \"9\",\n",
    "            \"10\",\n",
    "            \"more_than_10\",\n",
    "        ]\n",
    "        ret = list()\n",
    "        for li in tqdm(essay_text_df2[\"word_len\"].values):\n",
    "            items = list(Counter(li).items())\n",
    "            di = dict()\n",
    "            for k in list_of_word_lens:\n",
    "                di[k] = 0\n",
    "            for item in items:\n",
    "                k, v = item[0], item[1]\n",
    "                if k in di:\n",
    "                    di[k] = v\n",
    "            ret.append(di)\n",
    "        ret = pd.DataFrame(ret)\n",
    "        cols = [f\"words_of_len_{i}_share\" for i in ret.columns]\n",
    "        ret.columns = cols\n",
    "        tmp_df = pd.concat([tmp_df, ret], axis=1)\n",
    "\n",
    "        return tmp_df\n",
    "\n",
    "    def get_stats_for_different_latency(self, tmp_df):\n",
    "        methods_to_apply = [\n",
    "            # my_min,\n",
    "            my_max,\n",
    "            my_mean,\n",
    "            my_std,\n",
    "            my_skew,\n",
    "            my_kurtosis,\n",
    "            my_median_grouped,\n",
    "        ]\n",
    "        clms_for_stats = [\"action_time\", \"IL\", \"PL\"]\n",
    "\n",
    "        for clm in clms_for_stats:\n",
    "            colname = f\"{clm}_stats\"\n",
    "            for method in methods_to_apply:\n",
    "                if isinstance(method, str):\n",
    "                    method_name = method\n",
    "                else:\n",
    "                    method_name = method.__name__\n",
    "                colname_method = f\"{colname}_{method_name}\"\n",
    "                tmp2_df = (\n",
    "                    self.df.groupby([\"id\"])\n",
    "                    .agg({clm: method})\n",
    "                    .reset_index()\n",
    "                    .rename(columns={clm: colname_method})\n",
    "                )\n",
    "\n",
    "                tmp_df = tmp_df.merge(tmp2_df, on=\"id\", how=\"left\")\n",
    "\n",
    "        return tmp_df\n",
    "\n",
    "    def feature_engineering(self):\n",
    "        # initialize features dataframe\n",
    "        # feats = pd.DataFrame({\"id\": self.df[\"id\"].unique().tolist()})\n",
    "\n",
    "        feats = self.df.groupby(\"id\", as_index=False).agg(\n",
    "            total_time_taken=(\"down_time\", lambda x: list(x)[-1] - list(x)[0]),\n",
    "            total_idle_time=(\"IL\", lambda x: sum(x)),\n",
    "            total_word_count=(\"word_count\", lambda x: list(x)[-1] - list(x)[0]),\n",
    "            max_cursor_position=(\"cursor_position\", lambda x: my_max(list(x))),\n",
    "            num_events=(\"event_id\", lambda x: len(list(x))),\n",
    "            activity_list=(\"activity\", list),\n",
    "            total_num_activites=(\"activity\", lambda x: len(list(x))),\n",
    "            total_type_of_activities=(\"activity\", lambda x: len(set(x))),\n",
    "            start_time=(\"down_time\", lambda x: list(x)[0]),\n",
    "            end_time=(\"down_time\", lambda x: list(x)[-1]),\n",
    "        )\n",
    "\n",
    "        features_to_drop = [\n",
    "            \"activity_list\",\n",
    "            \"total_num_activites\",\n",
    "            \"start_time\",\n",
    "            \"end_time\",\n",
    "        ]\n",
    "\n",
    "        # events to time ratio or rate of event or speed of activity\n",
    "        feats[\"speed_of_activity\"] = feats[\"num_events\"] / feats[\"total_time_taken\"]\n",
    "        feats[\"speed_of_writing\"] = (\n",
    "            feats[\"total_word_count\"] / feats[\"total_time_taken\"]\n",
    "        )\n",
    "        feats[\"events_per_word\"] = feats[\"total_word_count\"] / feats[\"num_events\"]\n",
    "        feats[\"idle_time_ratio\"] = feats[\"total_idle_time\"] / feats[\"total_time_taken\"]\n",
    "\n",
    "        feats[\"words_to_cp_ratio\"] = (\n",
    "            feats[\"total_word_count\"] / feats[\"max_cursor_position\"]\n",
    "        )  # indicator of words per line\n",
    "\n",
    "        # After Activity features\n",
    "        print(\"-\" * 25)\n",
    "        print(\"Starting Activity Features\")\n",
    "        feats = self.activity_features(feats)\n",
    "\n",
    "        # Word count features\n",
    "        print(\"-\" * 25)\n",
    "        print(\"Starting Word Count Features\")\n",
    "        feats = self.word_count_features(feats)\n",
    "\n",
    "        # Cursor position features\n",
    "        print(\"-\" * 25)\n",
    "        print(\"Starting Cursor Position Features\")\n",
    "        feats = self.cursor_position_features(feats)\n",
    "\n",
    "        # IL, PL, action_time statistical features\n",
    "        print(\"-\" * 25)\n",
    "        print(\"Starting Stats Features\")\n",
    "        feats = self.get_stats_for_different_latency(feats)\n",
    "\n",
    "        print(\"-\" * 25)\n",
    "        print(\"Starting Text Change Features\")\n",
    "        feats = self.text_change_features(feats)\n",
    "\n",
    "        print(\"-\" * 25)\n",
    "        print(\"Starting Word Length Features\")\n",
    "        feats = self.word_len_features(feats)\n",
    "\n",
    "        feats = feats.drop(columns=features_to_drop)\n",
    "        return feats\n",
    "\n",
    "    def pre_process_data(self):\n",
    "        self.clean_data()\n",
    "\n",
    "        if cnfg.is_time_in_secs:\n",
    "            self.change_time_columns_to_secs()\n",
    "\n",
    "        return self.df\n",
    "\n",
    "    def pre_process_and_engineer_features(self):\n",
    "        _ = self.pre_process_data()\n",
    "        features_df = self.feature_engineering()\n",
    "\n",
    "        return self.df, features_df"
   ]
  },
  {
   "cell_type": "code",
   "execution_count": null,
   "id": "bd7deed5-ba08-43e1-8cca-3d291ba3f042",
   "metadata": {},
   "outputs": [],
   "source": []
  },
  {
   "cell_type": "code",
   "execution_count": null,
   "id": "bfd1d0b3-a8a8-4a50-b200-bfd35832eef6",
   "metadata": {},
   "outputs": [],
   "source": []
  },
  {
   "cell_type": "code",
   "execution_count": 9,
   "id": "939b80ce-e0d5-4bd5-841a-0e58f90c6d21",
   "metadata": {
    "execution": {
     "iopub.execute_input": "2023-10-30T21:38:20.428435Z",
     "iopub.status.busy": "2023-10-30T21:38:20.428270Z",
     "iopub.status.idle": "2023-10-30T21:40:22.643781Z",
     "shell.execute_reply": "2023-10-30T21:40:22.643339Z",
     "shell.execute_reply.started": "2023-10-30T21:38:20.428422Z"
    }
   },
   "outputs": [
    {
     "name": "stdout",
     "output_type": "stream",
     "text": [
      "Before uptime cleaning, data shape: (8405898, 11)\n",
      "After uptime cleaning, data shape: (8405898, 11)\n",
      "-------------------------\n",
      "Starting Activity Features\n"
     ]
    },
    {
     "name": "stderr",
     "output_type": "stream",
     "text": [
      "2471it [00:00, 10299.36it/s]\n"
     ]
    },
    {
     "name": "stdout",
     "output_type": "stream",
     "text": [
      "Features dropping in activity function []\n",
      "-------------------------\n",
      "Starting Word Count Features\n",
      "-------------------------\n",
      "Starting Cursor Position Features\n",
      "-------------------------\n",
      "Starting Stats Features\n",
      "-------------------------\n",
      "Starting Text Change Features\n",
      "-------------------------\n",
      "Starting Word Length Features\n"
     ]
    },
    {
     "name": "stderr",
     "output_type": "stream",
     "text": [
      "100%|████████████████████████████████████| 2471/2471 [00:00<00:00, 33063.95it/s]\n"
     ]
    },
    {
     "name": "stdout",
     "output_type": "stream",
     "text": [
      "\n",
      "-------------------------\n",
      "Engineering features for test data\n",
      "-------------------------\n",
      "Before uptime cleaning, data shape: (6, 11)\n",
      "After uptime cleaning, data shape: (6, 11)\n",
      "-------------------------\n",
      "Starting Activity Features\n"
     ]
    },
    {
     "name": "stderr",
     "output_type": "stream",
     "text": [
      "3it [00:00, 38014.84it/s]\n"
     ]
    },
    {
     "name": "stdout",
     "output_type": "stream",
     "text": [
      "Features dropping in activity function []\n",
      "-------------------------\n",
      "Starting Word Count Features\n",
      "-------------------------\n",
      "Starting Cursor Position Features\n",
      "-------------------------\n",
      "Starting Stats Features\n",
      "-------------------------\n",
      "Starting Text Change Features\n",
      "-------------------------\n",
      "Starting Word Length Features\n"
     ]
    },
    {
     "name": "stderr",
     "output_type": "stream",
     "text": [
      "100%|██████████████████████████████████████████| 2/2 [00:00<00:00, 45839.39it/s]\n"
     ]
    }
   ],
   "source": [
    "preprocess_train = Preprocessor(cnfg.seed, train_logs)\n",
    "train_logs2, train_feats = preprocess_train.pre_process_and_engineer_features()\n",
    "\n",
    "print()\n",
    "print(\"-\" * 25)\n",
    "print(\"Engineering features for test data\")\n",
    "print(\"-\" * 25)\n",
    "preprocess_test = Preprocessor(cnfg.seed, test_logs)\n",
    "_, test_feats = preprocess_test.pre_process_and_engineer_features()"
   ]
  },
  {
   "cell_type": "code",
   "execution_count": null,
   "id": "9d740383-8ae9-4a06-b50e-3508c3d7a7de",
   "metadata": {},
   "outputs": [],
   "source": []
  },
  {
   "cell_type": "code",
   "execution_count": 10,
   "id": "daa697c0-d783-4169-b5e1-8ae241ae2552",
   "metadata": {
    "execution": {
     "iopub.execute_input": "2023-10-30T21:40:22.645175Z",
     "iopub.status.busy": "2023-10-30T21:40:22.644677Z",
     "iopub.status.idle": "2023-10-30T21:40:22.665459Z",
     "shell.execute_reply": "2023-10-30T21:40:22.664531Z",
     "shell.execute_reply.started": "2023-10-30T21:40:22.645154Z"
    }
   },
   "outputs": [
    {
     "data": {
      "text/html": [
       "<div>\n",
       "<style scoped>\n",
       "    .dataframe tbody tr th:only-of-type {\n",
       "        vertical-align: middle;\n",
       "    }\n",
       "\n",
       "    .dataframe tbody tr th {\n",
       "        vertical-align: top;\n",
       "    }\n",
       "\n",
       "    .dataframe thead th {\n",
       "        text-align: right;\n",
       "    }\n",
       "</style>\n",
       "<table border=\"1\" class=\"dataframe\">\n",
       "  <thead>\n",
       "    <tr style=\"text-align: right;\">\n",
       "      <th></th>\n",
       "      <th>id</th>\n",
       "      <th>event_id</th>\n",
       "      <th>down_time</th>\n",
       "      <th>up_time</th>\n",
       "      <th>action_time</th>\n",
       "      <th>activity</th>\n",
       "      <th>down_event</th>\n",
       "      <th>up_event</th>\n",
       "      <th>text_change</th>\n",
       "      <th>cursor_position</th>\n",
       "      <th>word_count</th>\n",
       "      <th>IL</th>\n",
       "      <th>PL</th>\n",
       "      <th>RL</th>\n",
       "    </tr>\n",
       "  </thead>\n",
       "  <tbody>\n",
       "    <tr>\n",
       "      <th>0</th>\n",
       "      <td>001519c8</td>\n",
       "      <td>1</td>\n",
       "      <td>4.526</td>\n",
       "      <td>4.557</td>\n",
       "      <td>0.031</td>\n",
       "      <td>Nonproduction</td>\n",
       "      <td>Leftclick</td>\n",
       "      <td>Leftclick</td>\n",
       "      <td>NoChange</td>\n",
       "      <td>0</td>\n",
       "      <td>0</td>\n",
       "      <td>0.000</td>\n",
       "      <td>0.000</td>\n",
       "      <td>0.000</td>\n",
       "    </tr>\n",
       "    <tr>\n",
       "      <th>1</th>\n",
       "      <td>001519c8</td>\n",
       "      <td>2</td>\n",
       "      <td>4.558</td>\n",
       "      <td>4.962</td>\n",
       "      <td>0.404</td>\n",
       "      <td>Nonproduction</td>\n",
       "      <td>Leftclick</td>\n",
       "      <td>Leftclick</td>\n",
       "      <td>NoChange</td>\n",
       "      <td>0</td>\n",
       "      <td>0</td>\n",
       "      <td>0.436</td>\n",
       "      <td>0.032</td>\n",
       "      <td>0.405</td>\n",
       "    </tr>\n",
       "    <tr>\n",
       "      <th>2</th>\n",
       "      <td>001519c8</td>\n",
       "      <td>3</td>\n",
       "      <td>106.571</td>\n",
       "      <td>106.571</td>\n",
       "      <td>0.000</td>\n",
       "      <td>Nonproduction</td>\n",
       "      <td>Shift</td>\n",
       "      <td>Shift</td>\n",
       "      <td>NoChange</td>\n",
       "      <td>0</td>\n",
       "      <td>0</td>\n",
       "      <td>102.013</td>\n",
       "      <td>102.013</td>\n",
       "      <td>101.609</td>\n",
       "    </tr>\n",
       "    <tr>\n",
       "      <th>3</th>\n",
       "      <td>001519c8</td>\n",
       "      <td>4</td>\n",
       "      <td>106.686</td>\n",
       "      <td>106.777</td>\n",
       "      <td>0.091</td>\n",
       "      <td>Input</td>\n",
       "      <td>q</td>\n",
       "      <td>q</td>\n",
       "      <td>q</td>\n",
       "      <td>1</td>\n",
       "      <td>1</td>\n",
       "      <td>0.206</td>\n",
       "      <td>0.115</td>\n",
       "      <td>0.206</td>\n",
       "    </tr>\n",
       "    <tr>\n",
       "      <th>4</th>\n",
       "      <td>001519c8</td>\n",
       "      <td>5</td>\n",
       "      <td>107.196</td>\n",
       "      <td>107.323</td>\n",
       "      <td>0.127</td>\n",
       "      <td>Input</td>\n",
       "      <td>q</td>\n",
       "      <td>q</td>\n",
       "      <td>q</td>\n",
       "      <td>2</td>\n",
       "      <td>1</td>\n",
       "      <td>0.637</td>\n",
       "      <td>0.510</td>\n",
       "      <td>0.546</td>\n",
       "    </tr>\n",
       "    <tr>\n",
       "      <th>...</th>\n",
       "      <td>...</td>\n",
       "      <td>...</td>\n",
       "      <td>...</td>\n",
       "      <td>...</td>\n",
       "      <td>...</td>\n",
       "      <td>...</td>\n",
       "      <td>...</td>\n",
       "      <td>...</td>\n",
       "      <td>...</td>\n",
       "      <td>...</td>\n",
       "      <td>...</td>\n",
       "      <td>...</td>\n",
       "      <td>...</td>\n",
       "      <td>...</td>\n",
       "    </tr>\n",
       "    <tr>\n",
       "      <th>8405893</th>\n",
       "      <td>fff05981</td>\n",
       "      <td>3615</td>\n",
       "      <td>2063.944</td>\n",
       "      <td>2064.440</td>\n",
       "      <td>0.496</td>\n",
       "      <td>Nonproduction</td>\n",
       "      <td>Leftclick</td>\n",
       "      <td>Leftclick</td>\n",
       "      <td>NoChange</td>\n",
       "      <td>1031</td>\n",
       "      <td>240</td>\n",
       "      <td>2.023</td>\n",
       "      <td>1.527</td>\n",
       "      <td>1.885</td>\n",
       "    </tr>\n",
       "    <tr>\n",
       "      <th>8405894</th>\n",
       "      <td>fff05981</td>\n",
       "      <td>3616</td>\n",
       "      <td>2064.497</td>\n",
       "      <td>2064.497</td>\n",
       "      <td>0.000</td>\n",
       "      <td>Nonproduction</td>\n",
       "      <td>Shift</td>\n",
       "      <td>Shift</td>\n",
       "      <td>NoChange</td>\n",
       "      <td>1031</td>\n",
       "      <td>240</td>\n",
       "      <td>0.553</td>\n",
       "      <td>0.553</td>\n",
       "      <td>0.057</td>\n",
       "    </tr>\n",
       "    <tr>\n",
       "      <th>8405895</th>\n",
       "      <td>fff05981</td>\n",
       "      <td>3617</td>\n",
       "      <td>2064.657</td>\n",
       "      <td>2064.765</td>\n",
       "      <td>0.108</td>\n",
       "      <td>Replace</td>\n",
       "      <td>q</td>\n",
       "      <td>q</td>\n",
       "      <td>q =&gt; q</td>\n",
       "      <td>1031</td>\n",
       "      <td>240</td>\n",
       "      <td>0.268</td>\n",
       "      <td>0.160</td>\n",
       "      <td>0.268</td>\n",
       "    </tr>\n",
       "    <tr>\n",
       "      <th>8405896</th>\n",
       "      <td>fff05981</td>\n",
       "      <td>3618</td>\n",
       "      <td>2069.186</td>\n",
       "      <td>2069.259</td>\n",
       "      <td>0.073</td>\n",
       "      <td>Nonproduction</td>\n",
       "      <td>Leftclick</td>\n",
       "      <td>Leftclick</td>\n",
       "      <td>NoChange</td>\n",
       "      <td>1028</td>\n",
       "      <td>240</td>\n",
       "      <td>4.602</td>\n",
       "      <td>4.529</td>\n",
       "      <td>4.494</td>\n",
       "    </tr>\n",
       "    <tr>\n",
       "      <th>8405897</th>\n",
       "      <td>fff05981</td>\n",
       "      <td>3619</td>\n",
       "      <td>2070.065</td>\n",
       "      <td>2070.133</td>\n",
       "      <td>0.068</td>\n",
       "      <td>Input</td>\n",
       "      <td>.</td>\n",
       "      <td>.</td>\n",
       "      <td>.</td>\n",
       "      <td>1029</td>\n",
       "      <td>240</td>\n",
       "      <td>0.947</td>\n",
       "      <td>0.879</td>\n",
       "      <td>0.874</td>\n",
       "    </tr>\n",
       "  </tbody>\n",
       "</table>\n",
       "<p>8405898 rows × 14 columns</p>\n",
       "</div>"
      ],
      "text/plain": [
       "               id  event_id  down_time   up_time  action_time       activity  \\\n",
       "0        001519c8         1      4.526     4.557        0.031  Nonproduction   \n",
       "1        001519c8         2      4.558     4.962        0.404  Nonproduction   \n",
       "2        001519c8         3    106.571   106.571        0.000  Nonproduction   \n",
       "3        001519c8         4    106.686   106.777        0.091          Input   \n",
       "4        001519c8         5    107.196   107.323        0.127          Input   \n",
       "...           ...       ...        ...       ...          ...            ...   \n",
       "8405893  fff05981      3615   2063.944  2064.440        0.496  Nonproduction   \n",
       "8405894  fff05981      3616   2064.497  2064.497        0.000  Nonproduction   \n",
       "8405895  fff05981      3617   2064.657  2064.765        0.108        Replace   \n",
       "8405896  fff05981      3618   2069.186  2069.259        0.073  Nonproduction   \n",
       "8405897  fff05981      3619   2070.065  2070.133        0.068          Input   \n",
       "\n",
       "        down_event   up_event text_change  cursor_position  word_count  \\\n",
       "0        Leftclick  Leftclick    NoChange                0           0   \n",
       "1        Leftclick  Leftclick    NoChange                0           0   \n",
       "2            Shift      Shift    NoChange                0           0   \n",
       "3                q          q           q                1           1   \n",
       "4                q          q           q                2           1   \n",
       "...            ...        ...         ...              ...         ...   \n",
       "8405893  Leftclick  Leftclick    NoChange             1031         240   \n",
       "8405894      Shift      Shift    NoChange             1031         240   \n",
       "8405895          q          q      q => q             1031         240   \n",
       "8405896  Leftclick  Leftclick    NoChange             1028         240   \n",
       "8405897          .          .           .             1029         240   \n",
       "\n",
       "              IL       PL       RL  \n",
       "0          0.000    0.000    0.000  \n",
       "1          0.436    0.032    0.405  \n",
       "2        102.013  102.013  101.609  \n",
       "3          0.206    0.115    0.206  \n",
       "4          0.637    0.510    0.546  \n",
       "...          ...      ...      ...  \n",
       "8405893    2.023    1.527    1.885  \n",
       "8405894    0.553    0.553    0.057  \n",
       "8405895    0.268    0.160    0.268  \n",
       "8405896    4.602    4.529    4.494  \n",
       "8405897    0.947    0.879    0.874  \n",
       "\n",
       "[8405898 rows x 14 columns]"
      ]
     },
     "execution_count": 10,
     "metadata": {},
     "output_type": "execute_result"
    }
   ],
   "source": [
    "train_logs2"
   ]
  },
  {
   "cell_type": "code",
   "execution_count": 11,
   "id": "3593d788-fd7e-42c8-b906-a7d8e7613ac3",
   "metadata": {
    "execution": {
     "iopub.execute_input": "2023-10-30T21:40:22.666825Z",
     "iopub.status.busy": "2023-10-30T21:40:22.666503Z",
     "iopub.status.idle": "2023-10-30T21:40:22.679756Z",
     "shell.execute_reply": "2023-10-30T21:40:22.679140Z",
     "shell.execute_reply.started": "2023-10-30T21:40:22.666801Z"
    }
   },
   "outputs": [
    {
     "data": {
      "text/html": [
       "<div>\n",
       "<style scoped>\n",
       "    .dataframe tbody tr th:only-of-type {\n",
       "        vertical-align: middle;\n",
       "    }\n",
       "\n",
       "    .dataframe tbody tr th {\n",
       "        vertical-align: top;\n",
       "    }\n",
       "\n",
       "    .dataframe thead th {\n",
       "        text-align: right;\n",
       "    }\n",
       "</style>\n",
       "<table border=\"1\" class=\"dataframe\">\n",
       "  <thead>\n",
       "    <tr style=\"text-align: right;\">\n",
       "      <th></th>\n",
       "      <th>id</th>\n",
       "      <th>event_id</th>\n",
       "      <th>down_time</th>\n",
       "      <th>up_time</th>\n",
       "      <th>action_time</th>\n",
       "      <th>activity</th>\n",
       "      <th>down_event</th>\n",
       "      <th>up_event</th>\n",
       "      <th>text_change</th>\n",
       "      <th>cursor_position</th>\n",
       "      <th>word_count</th>\n",
       "    </tr>\n",
       "  </thead>\n",
       "  <tbody>\n",
       "    <tr>\n",
       "      <th>0</th>\n",
       "      <td>001519c8</td>\n",
       "      <td>1</td>\n",
       "      <td>4526</td>\n",
       "      <td>4557</td>\n",
       "      <td>31</td>\n",
       "      <td>Nonproduction</td>\n",
       "      <td>Leftclick</td>\n",
       "      <td>Leftclick</td>\n",
       "      <td>NoChange</td>\n",
       "      <td>0</td>\n",
       "      <td>0</td>\n",
       "    </tr>\n",
       "    <tr>\n",
       "      <th>1</th>\n",
       "      <td>001519c8</td>\n",
       "      <td>2</td>\n",
       "      <td>4558</td>\n",
       "      <td>4962</td>\n",
       "      <td>404</td>\n",
       "      <td>Nonproduction</td>\n",
       "      <td>Leftclick</td>\n",
       "      <td>Leftclick</td>\n",
       "      <td>NoChange</td>\n",
       "      <td>0</td>\n",
       "      <td>0</td>\n",
       "    </tr>\n",
       "    <tr>\n",
       "      <th>2</th>\n",
       "      <td>001519c8</td>\n",
       "      <td>3</td>\n",
       "      <td>106571</td>\n",
       "      <td>106571</td>\n",
       "      <td>0</td>\n",
       "      <td>Nonproduction</td>\n",
       "      <td>Shift</td>\n",
       "      <td>Shift</td>\n",
       "      <td>NoChange</td>\n",
       "      <td>0</td>\n",
       "      <td>0</td>\n",
       "    </tr>\n",
       "    <tr>\n",
       "      <th>3</th>\n",
       "      <td>001519c8</td>\n",
       "      <td>4</td>\n",
       "      <td>106686</td>\n",
       "      <td>106777</td>\n",
       "      <td>91</td>\n",
       "      <td>Input</td>\n",
       "      <td>q</td>\n",
       "      <td>q</td>\n",
       "      <td>q</td>\n",
       "      <td>1</td>\n",
       "      <td>1</td>\n",
       "    </tr>\n",
       "    <tr>\n",
       "      <th>4</th>\n",
       "      <td>001519c8</td>\n",
       "      <td>5</td>\n",
       "      <td>107196</td>\n",
       "      <td>107323</td>\n",
       "      <td>127</td>\n",
       "      <td>Input</td>\n",
       "      <td>q</td>\n",
       "      <td>q</td>\n",
       "      <td>q</td>\n",
       "      <td>2</td>\n",
       "      <td>1</td>\n",
       "    </tr>\n",
       "    <tr>\n",
       "      <th>...</th>\n",
       "      <td>...</td>\n",
       "      <td>...</td>\n",
       "      <td>...</td>\n",
       "      <td>...</td>\n",
       "      <td>...</td>\n",
       "      <td>...</td>\n",
       "      <td>...</td>\n",
       "      <td>...</td>\n",
       "      <td>...</td>\n",
       "      <td>...</td>\n",
       "      <td>...</td>\n",
       "    </tr>\n",
       "    <tr>\n",
       "      <th>8405893</th>\n",
       "      <td>fff05981</td>\n",
       "      <td>3615</td>\n",
       "      <td>2063944</td>\n",
       "      <td>2064440</td>\n",
       "      <td>496</td>\n",
       "      <td>Nonproduction</td>\n",
       "      <td>Leftclick</td>\n",
       "      <td>Leftclick</td>\n",
       "      <td>NoChange</td>\n",
       "      <td>1031</td>\n",
       "      <td>240</td>\n",
       "    </tr>\n",
       "    <tr>\n",
       "      <th>8405894</th>\n",
       "      <td>fff05981</td>\n",
       "      <td>3616</td>\n",
       "      <td>2064497</td>\n",
       "      <td>2064497</td>\n",
       "      <td>0</td>\n",
       "      <td>Nonproduction</td>\n",
       "      <td>Shift</td>\n",
       "      <td>Shift</td>\n",
       "      <td>NoChange</td>\n",
       "      <td>1031</td>\n",
       "      <td>240</td>\n",
       "    </tr>\n",
       "    <tr>\n",
       "      <th>8405895</th>\n",
       "      <td>fff05981</td>\n",
       "      <td>3617</td>\n",
       "      <td>2064657</td>\n",
       "      <td>2064765</td>\n",
       "      <td>108</td>\n",
       "      <td>Replace</td>\n",
       "      <td>q</td>\n",
       "      <td>q</td>\n",
       "      <td>q =&gt; q</td>\n",
       "      <td>1031</td>\n",
       "      <td>240</td>\n",
       "    </tr>\n",
       "    <tr>\n",
       "      <th>8405896</th>\n",
       "      <td>fff05981</td>\n",
       "      <td>3618</td>\n",
       "      <td>2069186</td>\n",
       "      <td>2069259</td>\n",
       "      <td>73</td>\n",
       "      <td>Nonproduction</td>\n",
       "      <td>Leftclick</td>\n",
       "      <td>Leftclick</td>\n",
       "      <td>NoChange</td>\n",
       "      <td>1028</td>\n",
       "      <td>240</td>\n",
       "    </tr>\n",
       "    <tr>\n",
       "      <th>8405897</th>\n",
       "      <td>fff05981</td>\n",
       "      <td>3619</td>\n",
       "      <td>2070065</td>\n",
       "      <td>2070133</td>\n",
       "      <td>68</td>\n",
       "      <td>Input</td>\n",
       "      <td>.</td>\n",
       "      <td>.</td>\n",
       "      <td>.</td>\n",
       "      <td>1029</td>\n",
       "      <td>240</td>\n",
       "    </tr>\n",
       "  </tbody>\n",
       "</table>\n",
       "<p>8405898 rows × 11 columns</p>\n",
       "</div>"
      ],
      "text/plain": [
       "               id  event_id  down_time  up_time  action_time       activity  \\\n",
       "0        001519c8         1       4526     4557           31  Nonproduction   \n",
       "1        001519c8         2       4558     4962          404  Nonproduction   \n",
       "2        001519c8         3     106571   106571            0  Nonproduction   \n",
       "3        001519c8         4     106686   106777           91          Input   \n",
       "4        001519c8         5     107196   107323          127          Input   \n",
       "...           ...       ...        ...      ...          ...            ...   \n",
       "8405893  fff05981      3615    2063944  2064440          496  Nonproduction   \n",
       "8405894  fff05981      3616    2064497  2064497            0  Nonproduction   \n",
       "8405895  fff05981      3617    2064657  2064765          108        Replace   \n",
       "8405896  fff05981      3618    2069186  2069259           73  Nonproduction   \n",
       "8405897  fff05981      3619    2070065  2070133           68          Input   \n",
       "\n",
       "        down_event   up_event text_change  cursor_position  word_count  \n",
       "0        Leftclick  Leftclick    NoChange                0           0  \n",
       "1        Leftclick  Leftclick    NoChange                0           0  \n",
       "2            Shift      Shift    NoChange                0           0  \n",
       "3                q          q           q                1           1  \n",
       "4                q          q           q                2           1  \n",
       "...            ...        ...         ...              ...         ...  \n",
       "8405893  Leftclick  Leftclick    NoChange             1031         240  \n",
       "8405894      Shift      Shift    NoChange             1031         240  \n",
       "8405895          q          q      q => q             1031         240  \n",
       "8405896  Leftclick  Leftclick    NoChange             1028         240  \n",
       "8405897          .          .           .             1029         240  \n",
       "\n",
       "[8405898 rows x 11 columns]"
      ]
     },
     "execution_count": 11,
     "metadata": {},
     "output_type": "execute_result"
    }
   ],
   "source": [
    "train_logs"
   ]
  },
  {
   "cell_type": "code",
   "execution_count": 12,
   "id": "f9cbd4ec-c173-429e-ae96-e9091e11db1a",
   "metadata": {
    "execution": {
     "iopub.execute_input": "2023-10-30T21:40:22.680651Z",
     "iopub.status.busy": "2023-10-30T21:40:22.680479Z",
     "iopub.status.idle": "2023-10-30T21:40:22.684463Z",
     "shell.execute_reply": "2023-10-30T21:40:22.683857Z",
     "shell.execute_reply.started": "2023-10-30T21:40:22.680634Z"
    }
   },
   "outputs": [],
   "source": [
    "# tmp = train_logs2.groupby([\"id\"]).agg({'PL': my_std}).reset_index().rename(columns={'PL': 'min_PL'})"
   ]
  },
  {
   "cell_type": "code",
   "execution_count": 13,
   "id": "ccd50d61-3776-4d49-b4c4-8a832fdebcbe",
   "metadata": {
    "execution": {
     "iopub.execute_input": "2023-10-30T21:40:22.688270Z",
     "iopub.status.busy": "2023-10-30T21:40:22.687931Z",
     "iopub.status.idle": "2023-10-30T21:40:22.690963Z",
     "shell.execute_reply": "2023-10-30T21:40:22.690324Z",
     "shell.execute_reply.started": "2023-10-30T21:40:22.688250Z"
    }
   },
   "outputs": [],
   "source": [
    "# tmp.min_PL.describe()"
   ]
  },
  {
   "cell_type": "code",
   "execution_count": 14,
   "id": "8b730ef1-42f5-4680-8e7a-6767cb2fa653",
   "metadata": {
    "execution": {
     "iopub.execute_input": "2023-10-30T21:40:22.692091Z",
     "iopub.status.busy": "2023-10-30T21:40:22.691686Z",
     "iopub.status.idle": "2023-10-30T21:40:22.704931Z",
     "shell.execute_reply": "2023-10-30T21:40:22.704569Z",
     "shell.execute_reply.started": "2023-10-30T21:40:22.692066Z"
    }
   },
   "outputs": [
    {
     "data": {
      "text/html": [
       "<div>\n",
       "<style scoped>\n",
       "    .dataframe tbody tr th:only-of-type {\n",
       "        vertical-align: middle;\n",
       "    }\n",
       "\n",
       "    .dataframe tbody tr th {\n",
       "        vertical-align: top;\n",
       "    }\n",
       "\n",
       "    .dataframe thead th {\n",
       "        text-align: right;\n",
       "    }\n",
       "</style>\n",
       "<table border=\"1\" class=\"dataframe\">\n",
       "  <thead>\n",
       "    <tr style=\"text-align: right;\">\n",
       "      <th></th>\n",
       "      <th>id</th>\n",
       "      <th>total_time_taken</th>\n",
       "      <th>total_idle_time</th>\n",
       "      <th>total_word_count</th>\n",
       "      <th>max_cursor_position</th>\n",
       "      <th>num_events</th>\n",
       "      <th>total_type_of_activities</th>\n",
       "      <th>speed_of_activity</th>\n",
       "      <th>speed_of_writing</th>\n",
       "      <th>events_per_word</th>\n",
       "      <th>...</th>\n",
       "      <th>words_of_len_2_share</th>\n",
       "      <th>words_of_len_3_share</th>\n",
       "      <th>words_of_len_4_share</th>\n",
       "      <th>words_of_len_5_share</th>\n",
       "      <th>words_of_len_6_share</th>\n",
       "      <th>words_of_len_7_share</th>\n",
       "      <th>words_of_len_8_share</th>\n",
       "      <th>words_of_len_9_share</th>\n",
       "      <th>words_of_len_10_share</th>\n",
       "      <th>words_of_len_more_than_10_share</th>\n",
       "    </tr>\n",
       "  </thead>\n",
       "  <tbody>\n",
       "    <tr>\n",
       "      <th>0</th>\n",
       "      <td>001519c8</td>\n",
       "      <td>1797.351</td>\n",
       "      <td>2094.432</td>\n",
       "      <td>255</td>\n",
       "      <td>1539</td>\n",
       "      <td>2557</td>\n",
       "      <td>5</td>\n",
       "      <td>1.422649</td>\n",
       "      <td>0.141875</td>\n",
       "      <td>0.099726</td>\n",
       "      <td>...</td>\n",
       "      <td>76</td>\n",
       "      <td>54</td>\n",
       "      <td>49</td>\n",
       "      <td>43</td>\n",
       "      <td>29</td>\n",
       "      <td>30</td>\n",
       "      <td>15</td>\n",
       "      <td>21</td>\n",
       "      <td>10</td>\n",
       "      <td>31</td>\n",
       "    </tr>\n",
       "    <tr>\n",
       "      <th>1</th>\n",
       "      <td>0022f953</td>\n",
       "      <td>1758.219</td>\n",
       "      <td>2033.053</td>\n",
       "      <td>320</td>\n",
       "      <td>1676</td>\n",
       "      <td>2454</td>\n",
       "      <td>5</td>\n",
       "      <td>1.395731</td>\n",
       "      <td>0.182002</td>\n",
       "      <td>0.130399</td>\n",
       "      <td>...</td>\n",
       "      <td>71</td>\n",
       "      <td>98</td>\n",
       "      <td>69</td>\n",
       "      <td>45</td>\n",
       "      <td>37</td>\n",
       "      <td>13</td>\n",
       "      <td>8</td>\n",
       "      <td>6</td>\n",
       "      <td>6</td>\n",
       "      <td>17</td>\n",
       "    </tr>\n",
       "    <tr>\n",
       "      <th>2</th>\n",
       "      <td>0042269b</td>\n",
       "      <td>1766.778</td>\n",
       "      <td>2186.390</td>\n",
       "      <td>404</td>\n",
       "      <td>2291</td>\n",
       "      <td>4136</td>\n",
       "      <td>4</td>\n",
       "      <td>2.340985</td>\n",
       "      <td>0.228665</td>\n",
       "      <td>0.097679</td>\n",
       "      <td>...</td>\n",
       "      <td>98</td>\n",
       "      <td>109</td>\n",
       "      <td>102</td>\n",
       "      <td>70</td>\n",
       "      <td>48</td>\n",
       "      <td>54</td>\n",
       "      <td>34</td>\n",
       "      <td>31</td>\n",
       "      <td>13</td>\n",
       "      <td>58</td>\n",
       "    </tr>\n",
       "    <tr>\n",
       "      <th>3</th>\n",
       "      <td>0059420b</td>\n",
       "      <td>1362.999</td>\n",
       "      <td>1552.444</td>\n",
       "      <td>206</td>\n",
       "      <td>1047</td>\n",
       "      <td>1556</td>\n",
       "      <td>5</td>\n",
       "      <td>1.141600</td>\n",
       "      <td>0.151137</td>\n",
       "      <td>0.132391</td>\n",
       "      <td>...</td>\n",
       "      <td>51</td>\n",
       "      <td>37</td>\n",
       "      <td>50</td>\n",
       "      <td>27</td>\n",
       "      <td>24</td>\n",
       "      <td>25</td>\n",
       "      <td>4</td>\n",
       "      <td>4</td>\n",
       "      <td>3</td>\n",
       "      <td>13</td>\n",
       "    </tr>\n",
       "    <tr>\n",
       "      <th>4</th>\n",
       "      <td>0075873a</td>\n",
       "      <td>1583.920</td>\n",
       "      <td>1897.356</td>\n",
       "      <td>252</td>\n",
       "      <td>1402</td>\n",
       "      <td>2531</td>\n",
       "      <td>3</td>\n",
       "      <td>1.597934</td>\n",
       "      <td>0.159099</td>\n",
       "      <td>0.099565</td>\n",
       "      <td>...</td>\n",
       "      <td>69</td>\n",
       "      <td>75</td>\n",
       "      <td>72</td>\n",
       "      <td>47</td>\n",
       "      <td>33</td>\n",
       "      <td>16</td>\n",
       "      <td>20</td>\n",
       "      <td>16</td>\n",
       "      <td>13</td>\n",
       "      <td>25</td>\n",
       "    </tr>\n",
       "  </tbody>\n",
       "</table>\n",
       "<p>5 rows × 184 columns</p>\n",
       "</div>"
      ],
      "text/plain": [
       "         id  total_time_taken  total_idle_time  total_word_count  \\\n",
       "0  001519c8          1797.351         2094.432               255   \n",
       "1  0022f953          1758.219         2033.053               320   \n",
       "2  0042269b          1766.778         2186.390               404   \n",
       "3  0059420b          1362.999         1552.444               206   \n",
       "4  0075873a          1583.920         1897.356               252   \n",
       "\n",
       "   max_cursor_position  num_events  total_type_of_activities  \\\n",
       "0                 1539        2557                         5   \n",
       "1                 1676        2454                         5   \n",
       "2                 2291        4136                         4   \n",
       "3                 1047        1556                         5   \n",
       "4                 1402        2531                         3   \n",
       "\n",
       "   speed_of_activity  speed_of_writing  events_per_word  ...  \\\n",
       "0           1.422649          0.141875         0.099726  ...   \n",
       "1           1.395731          0.182002         0.130399  ...   \n",
       "2           2.340985          0.228665         0.097679  ...   \n",
       "3           1.141600          0.151137         0.132391  ...   \n",
       "4           1.597934          0.159099         0.099565  ...   \n",
       "\n",
       "   words_of_len_2_share  words_of_len_3_share  words_of_len_4_share  \\\n",
       "0                    76                    54                    49   \n",
       "1                    71                    98                    69   \n",
       "2                    98                   109                   102   \n",
       "3                    51                    37                    50   \n",
       "4                    69                    75                    72   \n",
       "\n",
       "   words_of_len_5_share  words_of_len_6_share  words_of_len_7_share  \\\n",
       "0                    43                    29                    30   \n",
       "1                    45                    37                    13   \n",
       "2                    70                    48                    54   \n",
       "3                    27                    24                    25   \n",
       "4                    47                    33                    16   \n",
       "\n",
       "   words_of_len_8_share  words_of_len_9_share  words_of_len_10_share  \\\n",
       "0                    15                    21                     10   \n",
       "1                     8                     6                      6   \n",
       "2                    34                    31                     13   \n",
       "3                     4                     4                      3   \n",
       "4                    20                    16                     13   \n",
       "\n",
       "   words_of_len_more_than_10_share  \n",
       "0                               31  \n",
       "1                               17  \n",
       "2                               58  \n",
       "3                               13  \n",
       "4                               25  \n",
       "\n",
       "[5 rows x 184 columns]"
      ]
     },
     "execution_count": 14,
     "metadata": {},
     "output_type": "execute_result"
    }
   ],
   "source": [
    "train_feats.head()"
   ]
  },
  {
   "cell_type": "code",
   "execution_count": 15,
   "id": "bbf86513-18ce-42df-aef0-288cb3a0ad4a",
   "metadata": {
    "execution": {
     "iopub.execute_input": "2023-10-30T21:40:22.706172Z",
     "iopub.status.busy": "2023-10-30T21:40:22.705786Z",
     "iopub.status.idle": "2023-10-30T21:40:22.710098Z",
     "shell.execute_reply": "2023-10-30T21:40:22.709743Z",
     "shell.execute_reply.started": "2023-10-30T21:40:22.706151Z"
    }
   },
   "outputs": [],
   "source": [
    "# train_logs2['IL']"
   ]
  },
  {
   "cell_type": "code",
   "execution_count": 16,
   "id": "9ddcb6ef-31de-480a-8c6d-d6884dd153a9",
   "metadata": {
    "execution": {
     "iopub.execute_input": "2023-10-30T21:40:22.710990Z",
     "iopub.status.busy": "2023-10-30T21:40:22.710672Z",
     "iopub.status.idle": "2023-10-30T21:40:22.717331Z",
     "shell.execute_reply": "2023-10-30T21:40:22.716913Z",
     "shell.execute_reply.started": "2023-10-30T21:40:22.710969Z"
    }
   },
   "outputs": [
    {
     "data": {
      "text/plain": [
       "count    2471.000000\n",
       "mean        0.259707\n",
       "std         0.297508\n",
       "min        -0.388464\n",
       "25%         0.015487\n",
       "50%         0.262545\n",
       "75%         0.510476\n",
       "max         0.970000\n",
       "Name: IL_stats_my_median_grouped, dtype: float64"
      ]
     },
     "execution_count": 16,
     "metadata": {},
     "output_type": "execute_result"
    }
   ],
   "source": [
    "train_feats.IL_stats_my_median_grouped.describe()"
   ]
  },
  {
   "cell_type": "code",
   "execution_count": null,
   "id": "e127832a-33dc-4bca-a406-75753ea91b03",
   "metadata": {},
   "outputs": [],
   "source": []
  },
  {
   "cell_type": "code",
   "execution_count": 17,
   "id": "d984626c-359f-4506-8f95-ed48c196702d",
   "metadata": {
    "execution": {
     "iopub.execute_input": "2023-10-30T21:40:22.718068Z",
     "iopub.status.busy": "2023-10-30T21:40:22.717876Z",
     "iopub.status.idle": "2023-10-30T21:40:22.726429Z",
     "shell.execute_reply": "2023-10-30T21:40:22.726099Z",
     "shell.execute_reply.started": "2023-10-30T21:40:22.718048Z"
    }
   },
   "outputs": [
    {
     "data": {
      "text/html": [
       "<div>\n",
       "<style scoped>\n",
       "    .dataframe tbody tr th:only-of-type {\n",
       "        vertical-align: middle;\n",
       "    }\n",
       "\n",
       "    .dataframe tbody tr th {\n",
       "        vertical-align: top;\n",
       "    }\n",
       "\n",
       "    .dataframe thead th {\n",
       "        text-align: right;\n",
       "    }\n",
       "</style>\n",
       "<table border=\"1\" class=\"dataframe\">\n",
       "  <thead>\n",
       "    <tr style=\"text-align: right;\">\n",
       "      <th></th>\n",
       "      <th>id</th>\n",
       "      <th>total_time_taken</th>\n",
       "      <th>total_idle_time</th>\n",
       "      <th>total_word_count</th>\n",
       "      <th>max_cursor_position</th>\n",
       "      <th>num_events</th>\n",
       "      <th>total_type_of_activities</th>\n",
       "      <th>speed_of_activity</th>\n",
       "      <th>speed_of_writing</th>\n",
       "      <th>events_per_word</th>\n",
       "      <th>...</th>\n",
       "      <th>words_of_len_2_share</th>\n",
       "      <th>words_of_len_3_share</th>\n",
       "      <th>words_of_len_4_share</th>\n",
       "      <th>words_of_len_5_share</th>\n",
       "      <th>words_of_len_6_share</th>\n",
       "      <th>words_of_len_7_share</th>\n",
       "      <th>words_of_len_8_share</th>\n",
       "      <th>words_of_len_9_share</th>\n",
       "      <th>words_of_len_10_share</th>\n",
       "      <th>words_of_len_more_than_10_share</th>\n",
       "    </tr>\n",
       "  </thead>\n",
       "  <tbody>\n",
       "  </tbody>\n",
       "</table>\n",
       "<p>0 rows × 184 columns</p>\n",
       "</div>"
      ],
      "text/plain": [
       "Empty DataFrame\n",
       "Columns: [id, total_time_taken, total_idle_time, total_word_count, max_cursor_position, num_events, total_type_of_activities, speed_of_activity, speed_of_writing, events_per_word, idle_time_ratio, words_to_cp_ratio, activity_input_count, activity_remove_count, activity_non_production_count, activity_replace_count, activity_paste_count, input_first_time, remove_first_time, non_production_first_time, replace_first_time, paste_first_time, input_last_time, remove_last_time, non_production_last_time, replace_last_time, paste_last_time, input_my_min_inter_act_latency, input_my_max_inter_act_latency, input_my_mean_inter_act_latency, input_my_std_inter_act_latency, input_my_skew_inter_act_latency, input_my_kurtosis_inter_act_latency, input_my_median_grouped_inter_act_latency, remove_my_min_inter_act_latency, remove_my_max_inter_act_latency, remove_my_mean_inter_act_latency, remove_my_std_inter_act_latency, remove_my_skew_inter_act_latency, remove_my_kurtosis_inter_act_latency, remove_my_median_grouped_inter_act_latency, non_production_my_min_inter_act_latency, non_production_my_max_inter_act_latency, non_production_my_mean_inter_act_latency, non_production_my_std_inter_act_latency, non_production_my_skew_inter_act_latency, non_production_my_kurtosis_inter_act_latency, non_production_my_median_grouped_inter_act_latency, num_type_down_events_in_input, num_type_down_events_in_remove, num_type_down_events_in_non_production, total_remove_activity, Backspace_in_remove_share, Delete_in_remove_share, x_in_remove_share, z_in_remove_share, Rightclick_in_remove_share, total_replace_activity, q_in_replace_share, Space_in_replace_share, full_stop_in_replace_share, comma_in_replace_share, z_in_replace_share, v_in_replace_share, Enter_in_replace_share, Rightclick_in_replace_share, total_np_activity, Shift_in_non_production_share, ArrowRight_in_non_production_share, Leftclick_in_non_production_share, ArrowLeft_in_non_production_share, ArrowDown_in_non_production_share, ArrowUp_in_non_production_share, CapsLock_in_non_production_share, Control_in_non_production_share, Backspace_in_non_production_share, Tab_in_non_production_share, ContextMenu_in_non_production_share, End_in_non_production_share, Rightclick_in_non_production_share, total_input_activity, q_in_input_share, Space_in_input_share, Enter_in_input_share, qoute_in_input_share, double_qoute_in_input_share, full_stop_in_input_share, comma_in_input_share, hyphen_in_input_share, question_mark_in_input_share, semi_colon_in_input_share, equal_to_in_input_share, forward_slash_in_input_share, back_slash_in_input_share, num_times_word_deleted, num_words_deleted, size_of_biggest_chunk_removed, avg_num_words_removed_at_a_time, first_time_word_deletion, last_time_word_deletion, ...]\n",
       "Index: []\n",
       "\n",
       "[0 rows x 184 columns]"
      ]
     },
     "execution_count": 17,
     "metadata": {},
     "output_type": "execute_result"
    }
   ],
   "source": [
    "train_feats[train_feats.isna().any(axis=1)]"
   ]
  },
  {
   "cell_type": "code",
   "execution_count": 18,
   "id": "8b118582-7932-46ae-b370-32688349f213",
   "metadata": {
    "execution": {
     "iopub.execute_input": "2023-10-30T21:40:22.727174Z",
     "iopub.status.busy": "2023-10-30T21:40:22.726979Z",
     "iopub.status.idle": "2023-10-30T21:40:22.731098Z",
     "shell.execute_reply": "2023-10-30T21:40:22.730774Z",
     "shell.execute_reply.started": "2023-10-30T21:40:22.727154Z"
    }
   },
   "outputs": [
    {
     "data": {
      "text/plain": [
       "[]"
      ]
     },
     "execution_count": 18,
     "metadata": {},
     "output_type": "execute_result"
    }
   ],
   "source": [
    "train_feats.columns[train_feats.isnull().any()].tolist()"
   ]
  },
  {
   "cell_type": "code",
   "execution_count": null,
   "id": "246a990e-d0ed-4a35-8edf-a2ca731de2e9",
   "metadata": {},
   "outputs": [],
   "source": []
  },
  {
   "cell_type": "code",
   "execution_count": null,
   "id": "6e14226a-b9cb-4f68-bb61-aeeca67aea82",
   "metadata": {},
   "outputs": [],
   "source": []
  },
  {
   "cell_type": "code",
   "execution_count": null,
   "id": "cbd1044b-a3c9-4b0a-829f-cadfa2e5ce85",
   "metadata": {},
   "outputs": [],
   "source": []
  },
  {
   "cell_type": "code",
   "execution_count": 19,
   "id": "f75b2318-ce8d-4468-8e34-336feb02e76d",
   "metadata": {
    "execution": {
     "iopub.execute_input": "2023-10-30T21:40:22.731954Z",
     "iopub.status.busy": "2023-10-30T21:40:22.731633Z",
     "iopub.status.idle": "2023-10-30T21:40:22.738707Z",
     "shell.execute_reply": "2023-10-30T21:40:22.738379Z",
     "shell.execute_reply.started": "2023-10-30T21:40:22.731934Z"
    }
   },
   "outputs": [
    {
     "data": {
      "text/html": [
       "<div>\n",
       "<style scoped>\n",
       "    .dataframe tbody tr th:only-of-type {\n",
       "        vertical-align: middle;\n",
       "    }\n",
       "\n",
       "    .dataframe tbody tr th {\n",
       "        vertical-align: top;\n",
       "    }\n",
       "\n",
       "    .dataframe thead th {\n",
       "        text-align: right;\n",
       "    }\n",
       "</style>\n",
       "<table border=\"1\" class=\"dataframe\">\n",
       "  <thead>\n",
       "    <tr style=\"text-align: right;\">\n",
       "      <th></th>\n",
       "      <th>id</th>\n",
       "      <th>event_id</th>\n",
       "      <th>down_time</th>\n",
       "      <th>up_time</th>\n",
       "      <th>action_time</th>\n",
       "      <th>activity</th>\n",
       "      <th>down_event</th>\n",
       "      <th>up_event</th>\n",
       "      <th>text_change</th>\n",
       "      <th>cursor_position</th>\n",
       "      <th>word_count</th>\n",
       "    </tr>\n",
       "  </thead>\n",
       "  <tbody>\n",
       "    <tr>\n",
       "      <th>0</th>\n",
       "      <td>0000aaaa</td>\n",
       "      <td>1</td>\n",
       "      <td>338433</td>\n",
       "      <td>338518</td>\n",
       "      <td>85</td>\n",
       "      <td>Input</td>\n",
       "      <td>Space</td>\n",
       "      <td>Space</td>\n",
       "      <td></td>\n",
       "      <td>0</td>\n",
       "      <td>0</td>\n",
       "    </tr>\n",
       "    <tr>\n",
       "      <th>1</th>\n",
       "      <td>0000aaaa</td>\n",
       "      <td>2</td>\n",
       "      <td>760073</td>\n",
       "      <td>760160</td>\n",
       "      <td>87</td>\n",
       "      <td>Input</td>\n",
       "      <td>Space</td>\n",
       "      <td>Space</td>\n",
       "      <td></td>\n",
       "      <td>1</td>\n",
       "      <td>0</td>\n",
       "    </tr>\n",
       "    <tr>\n",
       "      <th>2</th>\n",
       "      <td>2222bbbb</td>\n",
       "      <td>1</td>\n",
       "      <td>711956</td>\n",
       "      <td>712023</td>\n",
       "      <td>67</td>\n",
       "      <td>Input</td>\n",
       "      <td>q</td>\n",
       "      <td>q</td>\n",
       "      <td>q</td>\n",
       "      <td>0</td>\n",
       "      <td>1</td>\n",
       "    </tr>\n",
       "    <tr>\n",
       "      <th>3</th>\n",
       "      <td>2222bbbb</td>\n",
       "      <td>2</td>\n",
       "      <td>290502</td>\n",
       "      <td>290548</td>\n",
       "      <td>46</td>\n",
       "      <td>Input</td>\n",
       "      <td>q</td>\n",
       "      <td>q</td>\n",
       "      <td>q</td>\n",
       "      <td>1</td>\n",
       "      <td>1</td>\n",
       "    </tr>\n",
       "    <tr>\n",
       "      <th>4</th>\n",
       "      <td>4444cccc</td>\n",
       "      <td>1</td>\n",
       "      <td>635547</td>\n",
       "      <td>635641</td>\n",
       "      <td>94</td>\n",
       "      <td>Input</td>\n",
       "      <td>Space</td>\n",
       "      <td>Space</td>\n",
       "      <td></td>\n",
       "      <td>0</td>\n",
       "      <td>0</td>\n",
       "    </tr>\n",
       "    <tr>\n",
       "      <th>5</th>\n",
       "      <td>4444cccc</td>\n",
       "      <td>2</td>\n",
       "      <td>184996</td>\n",
       "      <td>185052</td>\n",
       "      <td>56</td>\n",
       "      <td>Input</td>\n",
       "      <td>q</td>\n",
       "      <td>q</td>\n",
       "      <td>q</td>\n",
       "      <td>1</td>\n",
       "      <td>1</td>\n",
       "    </tr>\n",
       "  </tbody>\n",
       "</table>\n",
       "</div>"
      ],
      "text/plain": [
       "         id  event_id  down_time  up_time  action_time activity down_event  \\\n",
       "0  0000aaaa         1     338433   338518           85    Input      Space   \n",
       "1  0000aaaa         2     760073   760160           87    Input      Space   \n",
       "2  2222bbbb         1     711956   712023           67    Input          q   \n",
       "3  2222bbbb         2     290502   290548           46    Input          q   \n",
       "4  4444cccc         1     635547   635641           94    Input      Space   \n",
       "5  4444cccc         2     184996   185052           56    Input          q   \n",
       "\n",
       "  up_event text_change  cursor_position  word_count  \n",
       "0    Space                            0           0  \n",
       "1    Space                            1           0  \n",
       "2        q           q                0           1  \n",
       "3        q           q                1           1  \n",
       "4    Space                            0           0  \n",
       "5        q           q                1           1  "
      ]
     },
     "execution_count": 19,
     "metadata": {},
     "output_type": "execute_result"
    }
   ],
   "source": [
    "test_logs"
   ]
  },
  {
   "cell_type": "code",
   "execution_count": 20,
   "id": "f8d2053b-77d6-4051-b753-9aff80132397",
   "metadata": {
    "execution": {
     "iopub.execute_input": "2023-10-30T21:40:22.739442Z",
     "iopub.status.busy": "2023-10-30T21:40:22.739245Z",
     "iopub.status.idle": "2023-10-30T21:40:22.752395Z",
     "shell.execute_reply": "2023-10-30T21:40:22.752055Z",
     "shell.execute_reply.started": "2023-10-30T21:40:22.739421Z"
    }
   },
   "outputs": [
    {
     "data": {
      "text/html": [
       "<div>\n",
       "<style scoped>\n",
       "    .dataframe tbody tr th:only-of-type {\n",
       "        vertical-align: middle;\n",
       "    }\n",
       "\n",
       "    .dataframe tbody tr th {\n",
       "        vertical-align: top;\n",
       "    }\n",
       "\n",
       "    .dataframe thead th {\n",
       "        text-align: right;\n",
       "    }\n",
       "</style>\n",
       "<table border=\"1\" class=\"dataframe\">\n",
       "  <thead>\n",
       "    <tr style=\"text-align: right;\">\n",
       "      <th></th>\n",
       "      <th>id</th>\n",
       "      <th>total_time_taken</th>\n",
       "      <th>total_idle_time</th>\n",
       "      <th>total_word_count</th>\n",
       "      <th>max_cursor_position</th>\n",
       "      <th>num_events</th>\n",
       "      <th>total_type_of_activities</th>\n",
       "      <th>speed_of_activity</th>\n",
       "      <th>speed_of_writing</th>\n",
       "      <th>events_per_word</th>\n",
       "      <th>...</th>\n",
       "      <th>words_of_len_2_share</th>\n",
       "      <th>words_of_len_3_share</th>\n",
       "      <th>words_of_len_4_share</th>\n",
       "      <th>words_of_len_5_share</th>\n",
       "      <th>words_of_len_6_share</th>\n",
       "      <th>words_of_len_7_share</th>\n",
       "      <th>words_of_len_8_share</th>\n",
       "      <th>words_of_len_9_share</th>\n",
       "      <th>words_of_len_10_share</th>\n",
       "      <th>words_of_len_more_than_10_share</th>\n",
       "    </tr>\n",
       "  </thead>\n",
       "  <tbody>\n",
       "    <tr>\n",
       "      <th>0</th>\n",
       "      <td>0000aaaa</td>\n",
       "      <td>421.640</td>\n",
       "      <td>421.727</td>\n",
       "      <td>0</td>\n",
       "      <td>1</td>\n",
       "      <td>2</td>\n",
       "      <td>1</td>\n",
       "      <td>0.004743</td>\n",
       "      <td>0.00000</td>\n",
       "      <td>0.0</td>\n",
       "      <td>...</td>\n",
       "      <td>1.0</td>\n",
       "      <td>0.0</td>\n",
       "      <td>0.0</td>\n",
       "      <td>0.0</td>\n",
       "      <td>0.0</td>\n",
       "      <td>0.0</td>\n",
       "      <td>0.0</td>\n",
       "      <td>0.0</td>\n",
       "      <td>0.0</td>\n",
       "      <td>0.0</td>\n",
       "    </tr>\n",
       "    <tr>\n",
       "      <th>1</th>\n",
       "      <td>2222bbbb</td>\n",
       "      <td>-421.454</td>\n",
       "      <td>-421.408</td>\n",
       "      <td>0</td>\n",
       "      <td>1</td>\n",
       "      <td>2</td>\n",
       "      <td>1</td>\n",
       "      <td>-0.004745</td>\n",
       "      <td>-0.00000</td>\n",
       "      <td>0.0</td>\n",
       "      <td>...</td>\n",
       "      <td>0.0</td>\n",
       "      <td>0.0</td>\n",
       "      <td>0.0</td>\n",
       "      <td>0.0</td>\n",
       "      <td>0.0</td>\n",
       "      <td>0.0</td>\n",
       "      <td>0.0</td>\n",
       "      <td>0.0</td>\n",
       "      <td>0.0</td>\n",
       "      <td>0.0</td>\n",
       "    </tr>\n",
       "    <tr>\n",
       "      <th>2</th>\n",
       "      <td>4444cccc</td>\n",
       "      <td>-450.551</td>\n",
       "      <td>-450.495</td>\n",
       "      <td>1</td>\n",
       "      <td>1</td>\n",
       "      <td>2</td>\n",
       "      <td>1</td>\n",
       "      <td>-0.004439</td>\n",
       "      <td>-0.00222</td>\n",
       "      <td>0.5</td>\n",
       "      <td>...</td>\n",
       "      <td>NaN</td>\n",
       "      <td>NaN</td>\n",
       "      <td>NaN</td>\n",
       "      <td>NaN</td>\n",
       "      <td>NaN</td>\n",
       "      <td>NaN</td>\n",
       "      <td>NaN</td>\n",
       "      <td>NaN</td>\n",
       "      <td>NaN</td>\n",
       "      <td>NaN</td>\n",
       "    </tr>\n",
       "  </tbody>\n",
       "</table>\n",
       "<p>3 rows × 184 columns</p>\n",
       "</div>"
      ],
      "text/plain": [
       "         id  total_time_taken  total_idle_time  total_word_count  \\\n",
       "0  0000aaaa           421.640          421.727                 0   \n",
       "1  2222bbbb          -421.454         -421.408                 0   \n",
       "2  4444cccc          -450.551         -450.495                 1   \n",
       "\n",
       "   max_cursor_position  num_events  total_type_of_activities  \\\n",
       "0                    1           2                         1   \n",
       "1                    1           2                         1   \n",
       "2                    1           2                         1   \n",
       "\n",
       "   speed_of_activity  speed_of_writing  events_per_word  ...  \\\n",
       "0           0.004743           0.00000              0.0  ...   \n",
       "1          -0.004745          -0.00000              0.0  ...   \n",
       "2          -0.004439          -0.00222              0.5  ...   \n",
       "\n",
       "   words_of_len_2_share  words_of_len_3_share  words_of_len_4_share  \\\n",
       "0                   1.0                   0.0                   0.0   \n",
       "1                   0.0                   0.0                   0.0   \n",
       "2                   NaN                   NaN                   NaN   \n",
       "\n",
       "   words_of_len_5_share  words_of_len_6_share  words_of_len_7_share  \\\n",
       "0                   0.0                   0.0                   0.0   \n",
       "1                   0.0                   0.0                   0.0   \n",
       "2                   NaN                   NaN                   NaN   \n",
       "\n",
       "   words_of_len_8_share  words_of_len_9_share  words_of_len_10_share  \\\n",
       "0                   0.0                   0.0                    0.0   \n",
       "1                   0.0                   0.0                    0.0   \n",
       "2                   NaN                   NaN                    NaN   \n",
       "\n",
       "   words_of_len_more_than_10_share  \n",
       "0                              0.0  \n",
       "1                              0.0  \n",
       "2                              NaN  \n",
       "\n",
       "[3 rows x 184 columns]"
      ]
     },
     "execution_count": 20,
     "metadata": {},
     "output_type": "execute_result"
    }
   ],
   "source": [
    "test_feats"
   ]
  },
  {
   "cell_type": "code",
   "execution_count": null,
   "id": "4754c4c8-6b4a-4012-9f49-e366fe527d4f",
   "metadata": {},
   "outputs": [],
   "source": []
  },
  {
   "cell_type": "code",
   "execution_count": null,
   "id": "c599a365-5fb9-4066-b5bd-e069f9447d5e",
   "metadata": {},
   "outputs": [],
   "source": []
  },
  {
   "cell_type": "code",
   "execution_count": null,
   "id": "38c71655-ea93-4859-a384-ceb72d807809",
   "metadata": {},
   "outputs": [],
   "source": []
  },
  {
   "cell_type": "code",
   "execution_count": 21,
   "id": "4d40e504-2642-4130-bb6f-64416f5162e7",
   "metadata": {
    "execution": {
     "iopub.execute_input": "2023-10-30T21:40:22.753196Z",
     "iopub.status.busy": "2023-10-30T21:40:22.752997Z",
     "iopub.status.idle": "2023-10-30T21:40:22.757284Z",
     "shell.execute_reply": "2023-10-30T21:40:22.756853Z",
     "shell.execute_reply.started": "2023-10-30T21:40:22.753176Z"
    }
   },
   "outputs": [],
   "source": [
    "# clms_with_na = features_df.columns[features_df.isnull().any()].tolist()"
   ]
  },
  {
   "cell_type": "code",
   "execution_count": 22,
   "id": "51d15035-e8c3-4cb3-8641-704df8c233ef",
   "metadata": {
    "execution": {
     "iopub.execute_input": "2023-10-30T21:40:22.758047Z",
     "iopub.status.busy": "2023-10-30T21:40:22.757848Z",
     "iopub.status.idle": "2023-10-30T21:40:22.762327Z",
     "shell.execute_reply": "2023-10-30T21:40:22.761992Z",
     "shell.execute_reply.started": "2023-10-30T21:40:22.758027Z"
    }
   },
   "outputs": [],
   "source": [
    "# for clm in clms_with_na:\n",
    "#     # print(f\"{clm}\\n\")\n",
    "#     print(features_df[f\"{clm}\"].isna().value_counts())\n",
    "#     print(\"\\n\")"
   ]
  },
  {
   "cell_type": "code",
   "execution_count": 23,
   "id": "27858882-e2c6-48f2-95a1-d70ca379471f",
   "metadata": {
    "execution": {
     "iopub.execute_input": "2023-10-30T21:40:22.763160Z",
     "iopub.status.busy": "2023-10-30T21:40:22.762965Z",
     "iopub.status.idle": "2023-10-30T21:40:22.770152Z",
     "shell.execute_reply": "2023-10-30T21:40:22.769633Z",
     "shell.execute_reply.started": "2023-10-30T21:40:22.763139Z"
    }
   },
   "outputs": [
    {
     "data": {
      "text/plain": [
       "['id',\n",
       " 'total_time_taken',\n",
       " 'total_idle_time',\n",
       " 'total_word_count',\n",
       " 'max_cursor_position',\n",
       " 'num_events',\n",
       " 'total_type_of_activities',\n",
       " 'speed_of_activity',\n",
       " 'speed_of_writing',\n",
       " 'events_per_word',\n",
       " 'idle_time_ratio',\n",
       " 'words_to_cp_ratio',\n",
       " 'activity_input_count',\n",
       " 'activity_remove_count',\n",
       " 'activity_non_production_count',\n",
       " 'activity_replace_count',\n",
       " 'activity_paste_count',\n",
       " 'input_first_time',\n",
       " 'remove_first_time',\n",
       " 'non_production_first_time',\n",
       " 'replace_first_time',\n",
       " 'paste_first_time',\n",
       " 'input_last_time',\n",
       " 'remove_last_time',\n",
       " 'non_production_last_time',\n",
       " 'replace_last_time',\n",
       " 'paste_last_time',\n",
       " 'input_my_min_inter_act_latency',\n",
       " 'input_my_max_inter_act_latency',\n",
       " 'input_my_mean_inter_act_latency',\n",
       " 'input_my_std_inter_act_latency',\n",
       " 'input_my_skew_inter_act_latency',\n",
       " 'input_my_kurtosis_inter_act_latency',\n",
       " 'input_my_median_grouped_inter_act_latency',\n",
       " 'remove_my_min_inter_act_latency',\n",
       " 'remove_my_max_inter_act_latency',\n",
       " 'remove_my_mean_inter_act_latency',\n",
       " 'remove_my_std_inter_act_latency',\n",
       " 'remove_my_skew_inter_act_latency',\n",
       " 'remove_my_kurtosis_inter_act_latency',\n",
       " 'remove_my_median_grouped_inter_act_latency',\n",
       " 'non_production_my_min_inter_act_latency',\n",
       " 'non_production_my_max_inter_act_latency',\n",
       " 'non_production_my_mean_inter_act_latency',\n",
       " 'non_production_my_std_inter_act_latency',\n",
       " 'non_production_my_skew_inter_act_latency',\n",
       " 'non_production_my_kurtosis_inter_act_latency',\n",
       " 'non_production_my_median_grouped_inter_act_latency',\n",
       " 'num_type_down_events_in_input',\n",
       " 'num_type_down_events_in_remove',\n",
       " 'num_type_down_events_in_non_production',\n",
       " 'total_remove_activity',\n",
       " 'Backspace_in_remove_share',\n",
       " 'Delete_in_remove_share',\n",
       " 'x_in_remove_share',\n",
       " 'z_in_remove_share',\n",
       " 'Rightclick_in_remove_share',\n",
       " 'total_replace_activity',\n",
       " 'q_in_replace_share',\n",
       " 'Space_in_replace_share',\n",
       " 'full_stop_in_replace_share',\n",
       " 'comma_in_replace_share',\n",
       " 'z_in_replace_share',\n",
       " 'v_in_replace_share',\n",
       " 'Enter_in_replace_share',\n",
       " 'Rightclick_in_replace_share',\n",
       " 'total_np_activity',\n",
       " 'Shift_in_non_production_share',\n",
       " 'ArrowRight_in_non_production_share',\n",
       " 'Leftclick_in_non_production_share',\n",
       " 'ArrowLeft_in_non_production_share',\n",
       " 'ArrowDown_in_non_production_share',\n",
       " 'ArrowUp_in_non_production_share',\n",
       " 'CapsLock_in_non_production_share',\n",
       " 'Control_in_non_production_share',\n",
       " 'Backspace_in_non_production_share',\n",
       " 'Tab_in_non_production_share',\n",
       " 'ContextMenu_in_non_production_share',\n",
       " 'End_in_non_production_share',\n",
       " 'Rightclick_in_non_production_share',\n",
       " 'total_input_activity',\n",
       " 'q_in_input_share',\n",
       " 'Space_in_input_share',\n",
       " 'Enter_in_input_share',\n",
       " 'qoute_in_input_share',\n",
       " 'double_qoute_in_input_share',\n",
       " 'full_stop_in_input_share',\n",
       " 'comma_in_input_share',\n",
       " 'hyphen_in_input_share',\n",
       " 'question_mark_in_input_share',\n",
       " 'semi_colon_in_input_share',\n",
       " 'equal_to_in_input_share',\n",
       " 'forward_slash_in_input_share',\n",
       " 'back_slash_in_input_share',\n",
       " 'num_times_word_deleted',\n",
       " 'num_words_deleted',\n",
       " 'size_of_biggest_chunk_removed',\n",
       " 'avg_num_words_removed_at_a_time',\n",
       " 'first_time_word_deletion',\n",
       " 'last_time_word_deletion',\n",
       " 'mean_time_btw_word_deletions',\n",
       " 'max_time_btw_word_deletions',\n",
       " 'min_time_btw_word_deletions',\n",
       " 'std_time_btw_word_deletions',\n",
       " 'num_times_cp_decreased',\n",
       " 'size_of_biggest_cp_decreased',\n",
       " 'avg_size_of_cp_decreased_at_a_time',\n",
       " 'action_time_stats_my_max',\n",
       " 'action_time_stats_my_mean',\n",
       " 'action_time_stats_my_std',\n",
       " 'action_time_stats_my_skew',\n",
       " 'action_time_stats_my_kurtosis',\n",
       " 'action_time_stats_my_median_grouped',\n",
       " 'IL_stats_my_max',\n",
       " 'IL_stats_my_mean',\n",
       " 'IL_stats_my_std',\n",
       " 'IL_stats_my_skew',\n",
       " 'IL_stats_my_kurtosis',\n",
       " 'IL_stats_my_median_grouped',\n",
       " 'PL_stats_my_max',\n",
       " 'PL_stats_my_mean',\n",
       " 'PL_stats_my_std',\n",
       " 'PL_stats_my_skew',\n",
       " 'PL_stats_my_kurtosis',\n",
       " 'PL_stats_my_median_grouped',\n",
       " 'q_tc_total_share',\n",
       " 'q_in_input_tc_total_share',\n",
       " 'q_in_remove_tc_total_share',\n",
       " 'blank_space_tc_total_share',\n",
       " 'blank_space_in_input_tc_total_share',\n",
       " 'blank_space_in_remove_tc_total_share',\n",
       " 'full_stop_tc_total_share',\n",
       " 'full_stop_in_input_tc_total_share',\n",
       " 'full_stop_in_remove_tc_total_share',\n",
       " 'comma_tc_total_share',\n",
       " 'comma_in_input_tc_total_share',\n",
       " 'comma_in_remove_tc_total_share',\n",
       " 'new_line_char_tc_total_share',\n",
       " 'new_line_char_in_input_tc_total_share',\n",
       " 'new_line_char_in_remove_tc_total_share',\n",
       " 'qoute_tc_total_share',\n",
       " 'qoute_in_input_tc_total_share',\n",
       " 'qoute_in_remove_tc_total_share',\n",
       " 'double_qoute_tc_total_share',\n",
       " 'double_qoute_in_input_tc_total_share',\n",
       " 'double_qoute_in_remove_tc_total_share',\n",
       " 'hyphen_tc_total_share',\n",
       " 'hyphen_in_input_tc_total_share',\n",
       " 'hyphen_in_remove_tc_total_share',\n",
       " 'question_mark_tc_total_share',\n",
       " 'question_mark_in_input_tc_total_share',\n",
       " 'question_mark_in_remove_tc_total_share',\n",
       " 'semi_colon_tc_total_share',\n",
       " 'semi_colon_in_input_tc_total_share',\n",
       " 'semi_colon_in_remove_tc_total_share',\n",
       " 'equal_to_tc_total_share',\n",
       " 'equal_to_in_input_tc_total_share',\n",
       " 'equal_to_in_remove_tc_total_share',\n",
       " 'forward_slash_tc_total_share',\n",
       " 'forward_slash_in_input_tc_total_share',\n",
       " 'forward_slash_in_remove_tc_total_share',\n",
       " 'back_slash_tc_total_share',\n",
       " 'back_slash_in_input_tc_total_share',\n",
       " 'back_slash_in_remove_tc_total_share',\n",
       " 'colon_tc_total_share',\n",
       " 'colon_in_input_tc_total_share',\n",
       " 'colon_in_remove_tc_total_share',\n",
       " 'input_word_count',\n",
       " 'input_word_length_mean',\n",
       " 'input_word_length_max',\n",
       " 'input_word_length_std',\n",
       " 'input_word_length_skew',\n",
       " 'input_word_length_kurtosis',\n",
       " 'words_of_len_1_share',\n",
       " 'words_of_len_2_share',\n",
       " 'words_of_len_3_share',\n",
       " 'words_of_len_4_share',\n",
       " 'words_of_len_5_share',\n",
       " 'words_of_len_6_share',\n",
       " 'words_of_len_7_share',\n",
       " 'words_of_len_8_share',\n",
       " 'words_of_len_9_share',\n",
       " 'words_of_len_10_share',\n",
       " 'words_of_len_more_than_10_share']"
      ]
     },
     "execution_count": 23,
     "metadata": {},
     "output_type": "execute_result"
    }
   ],
   "source": [
    "train_feats.columns.tolist()"
   ]
  },
  {
   "cell_type": "code",
   "execution_count": 24,
   "id": "a9848813-f552-46f9-8fba-f83bd7d3fbeb",
   "metadata": {
    "execution": {
     "iopub.execute_input": "2023-10-30T21:40:22.770870Z",
     "iopub.status.busy": "2023-10-30T21:40:22.770685Z",
     "iopub.status.idle": "2023-10-30T21:40:22.789781Z",
     "shell.execute_reply": "2023-10-30T21:40:22.789350Z",
     "shell.execute_reply.started": "2023-10-30T21:40:22.770856Z"
    }
   },
   "outputs": [
    {
     "data": {
      "text/plain": [
       "count    2471.000000\n",
       "mean        0.462161\n",
       "std         1.507365\n",
       "min         0.000000\n",
       "25%         0.000000\n",
       "50%         0.000000\n",
       "75%         0.000000\n",
       "max        33.000000\n",
       "Name: equal_to_in_input_tc_total_share, dtype: float64"
      ]
     },
     "execution_count": 24,
     "metadata": {},
     "output_type": "execute_result"
    }
   ],
   "source": [
    "train_feats.equal_to_in_input_tc_total_share.describe()"
   ]
  },
  {
   "cell_type": "code",
   "execution_count": null,
   "id": "fa6f8cd1-0aa1-4cc9-9785-ffd624ebd7ca",
   "metadata": {},
   "outputs": [],
   "source": []
  },
  {
   "cell_type": "code",
   "execution_count": 25,
   "id": "1d59a60b-3100-4b7d-b500-695d159cf1b4",
   "metadata": {
    "execution": {
     "iopub.execute_input": "2023-10-30T21:40:22.790462Z",
     "iopub.status.busy": "2023-10-30T21:40:22.790300Z",
     "iopub.status.idle": "2023-10-30T21:40:22.812844Z",
     "shell.execute_reply": "2023-10-30T21:40:22.812085Z",
     "shell.execute_reply.started": "2023-10-30T21:40:22.790449Z"
    }
   },
   "outputs": [],
   "source": [
    "# features_df.square_bracket_open_in_input_share.value_counts()"
   ]
  },
  {
   "cell_type": "code",
   "execution_count": 26,
   "id": "0781a67d-20da-4334-94a6-753da6ab6a98",
   "metadata": {
    "execution": {
     "iopub.execute_input": "2023-10-30T21:40:22.814156Z",
     "iopub.status.busy": "2023-10-30T21:40:22.813903Z",
     "iopub.status.idle": "2023-10-30T21:40:22.831920Z",
     "shell.execute_reply": "2023-10-30T21:40:22.831084Z",
     "shell.execute_reply.started": "2023-10-30T21:40:22.814130Z"
    }
   },
   "outputs": [],
   "source": [
    "train_feats = train_feats.merge(train_scores, on=\"id\", how=\"left\")"
   ]
  },
  {
   "cell_type": "code",
   "execution_count": 27,
   "id": "117231e4-b9fa-4f10-9f9e-bec51d5d3fb1",
   "metadata": {
    "execution": {
     "iopub.execute_input": "2023-10-30T21:40:22.832959Z",
     "iopub.status.busy": "2023-10-30T21:40:22.832707Z",
     "iopub.status.idle": "2023-10-30T21:40:22.836271Z",
     "shell.execute_reply": "2023-10-30T21:40:22.835751Z",
     "shell.execute_reply.started": "2023-10-30T21:40:22.832938Z"
    }
   },
   "outputs": [
    {
     "name": "stdout",
     "output_type": "stream",
     "text": [
      "Shape of training data: (2471, 185)\n",
      "Shape of test data: (3, 184)\n"
     ]
    }
   ],
   "source": [
    "print(f\"Shape of training data: {train_feats.shape}\")\n",
    "print(f\"Shape of test data: {test_feats.shape}\")"
   ]
  },
  {
   "cell_type": "code",
   "execution_count": 28,
   "id": "52304aa4-1d5f-4a1b-9d4b-90810dfb62ce",
   "metadata": {
    "execution": {
     "iopub.execute_input": "2023-10-30T21:40:22.837215Z",
     "iopub.status.busy": "2023-10-30T21:40:22.837041Z",
     "iopub.status.idle": "2023-10-30T21:40:22.847036Z",
     "shell.execute_reply": "2023-10-30T21:40:22.846437Z",
     "shell.execute_reply.started": "2023-10-30T21:40:22.837197Z"
    }
   },
   "outputs": [
    {
     "data": {
      "text/plain": [
       "Index([], dtype='object')"
      ]
     },
     "execution_count": 28,
     "metadata": {},
     "output_type": "execute_result"
    }
   ],
   "source": [
    "train_feats.columns[train_feats.isna().any()]"
   ]
  },
  {
   "cell_type": "code",
   "execution_count": null,
   "id": "242e3b46-d2e9-4228-b436-7ba5ea1d01de",
   "metadata": {},
   "outputs": [],
   "source": []
  },
  {
   "cell_type": "markdown",
   "id": "6e8c8cc3-c5bf-48c3-8740-54c96b0a5b7e",
   "metadata": {
    "papermill": {
     "duration": 0.019635,
     "end_time": "2023-10-24T19:15:40.378982",
     "exception": false,
     "start_time": "2023-10-24T19:15:40.359347",
     "status": "completed"
    },
    "tags": []
   },
   "source": [
    "# Split Train Data Into Folds For Cross-Validation"
   ]
  },
  {
   "cell_type": "code",
   "execution_count": 29,
   "id": "364df5f8",
   "metadata": {
    "execution": {
     "iopub.execute_input": "2023-10-30T21:40:22.847996Z",
     "iopub.status.busy": "2023-10-30T21:40:22.847743Z",
     "iopub.status.idle": "2023-10-30T21:40:22.857736Z",
     "shell.execute_reply": "2023-10-30T21:40:22.857091Z",
     "shell.execute_reply.started": "2023-10-30T21:40:22.847971Z"
    },
    "papermill": {
     "duration": 0.037256,
     "end_time": "2023-10-24T19:15:40.435965",
     "exception": false,
     "start_time": "2023-10-24T19:15:40.398709",
     "status": "completed"
    },
    "tags": []
   },
   "outputs": [],
   "source": [
    "# kfold = KFold(n_splits=CONFIG.num_folds, shuffle=True, random_state=CONFIG.seed)\n",
    "\n",
    "kfold = StratifiedKFold(n_splits=cnfg.num_folds, shuffle=True, random_state=cnfg.seed)\n",
    "for fold, (_, val_idx) in enumerate(\n",
    "    kfold.split(train_feats, train_feats.score.apply(str).values)\n",
    "):\n",
    "    train_feats.loc[val_idx, \"fold\"] = fold"
   ]
  },
  {
   "cell_type": "code",
   "execution_count": null,
   "id": "fa26f374-b165-44bc-b774-112172b8094d",
   "metadata": {},
   "outputs": [],
   "source": []
  },
  {
   "cell_type": "markdown",
   "id": "9fda6436-3a79-4da4-b3a6-ea0c90ae10e4",
   "metadata": {
    "papermill": {
     "duration": 0.019093,
     "end_time": "2023-10-24T19:15:40.474724",
     "exception": false,
     "start_time": "2023-10-24T19:15:40.455631",
     "status": "completed"
    },
    "tags": []
   },
   "source": [
    "# Optimizing Hyperparameters with Optuna"
   ]
  },
  {
   "cell_type": "code",
   "execution_count": null,
   "id": "eb851da4-75ec-4298-b717-2f90ab48137a",
   "metadata": {
    "papermill": {
     "duration": 0.035316,
     "end_time": "2023-10-24T19:15:40.529526",
     "exception": false,
     "start_time": "2023-10-24T19:15:40.494210",
     "status": "completed"
    },
    "tags": []
   },
   "outputs": [],
   "source": []
  },
  {
   "cell_type": "code",
   "execution_count": 30,
   "id": "689f61d2-8095-419b-85fd-2febab4ddce9",
   "metadata": {
    "execution": {
     "iopub.execute_input": "2023-10-30T21:40:22.858877Z",
     "iopub.status.busy": "2023-10-30T21:40:22.858477Z",
     "iopub.status.idle": "2023-10-30T21:40:22.865779Z",
     "shell.execute_reply": "2023-10-30T21:40:22.865315Z",
     "shell.execute_reply.started": "2023-10-30T21:40:22.858862Z"
    },
    "papermill": {
     "duration": 0.031689,
     "end_time": "2023-10-24T19:15:40.581311",
     "exception": false,
     "start_time": "2023-10-24T19:15:40.549622",
     "status": "completed"
    },
    "tags": []
   },
   "outputs": [],
   "source": [
    "def objective(trial, train_feats):\n",
    "    train_feats_df = train_feats.copy()\n",
    "    print(trial.number)\n",
    "    param = {\n",
    "        \"metric\": \"rmse\",\n",
    "        \"random_state\": cnfg.seed,\n",
    "        \"n_estimators\": cnfg.num_estimators,\n",
    "        \"reg_alpha\": trial.suggest_loguniform(\"reg_alpha\", 1e-3, 10.0),\n",
    "        \"reg_lambda\": trial.suggest_loguniform(\"reg_lambda\", 1e-3, 10.0),\n",
    "        \"colsample_bytree\": trial.suggest_float(\"colsample_bytree\", 0.5, 1),\n",
    "        \"subsample\": trial.suggest_float(\"subsample\", 0.5, 1),\n",
    "        \"learning_rate\": trial.suggest_float(\"learning_rate\", 1e-4, 0.1, log=True),\n",
    "        \"num_leaves\": trial.suggest_int(\"num_leaves\", 2, 32),\n",
    "        \"min_child_samples\": trial.suggest_int(\"min_child_samples\", 1, 100),\n",
    "        \"verbose\": -1,\n",
    "        \"early_stopping_rounds\": cnfg.num_trials_early_stopping,\n",
    "    }\n",
    "\n",
    "    feature_names = list(\n",
    "        filter(\n",
    "            lambda x: x not in [cnfg.response_variate, \"id\", \"fold\"],\n",
    "            train_feats_df.columns,\n",
    "        )\n",
    "    )\n",
    "\n",
    "    # models_dict = {}\n",
    "\n",
    "    for fold in range(cnfg.num_folds):\n",
    "        # print(f\"Training for FOLD {fold}\")\n",
    "\n",
    "        X_train = train_feats_df[train_feats_df[\"fold\"] != fold][feature_names]\n",
    "        Y_train = train_feats_df[train_feats_df[\"fold\"] != fold][cnfg.response_variate]\n",
    "\n",
    "        X_val = train_feats_df[train_feats_df[\"fold\"] == fold][feature_names]\n",
    "        Y_val = train_feats_df[train_feats_df[\"fold\"] == fold][cnfg.response_variate]\n",
    "\n",
    "        model = lgb.LGBMRegressor(**param)\n",
    "\n",
    "        model.fit(\n",
    "            X_train,\n",
    "            Y_train,\n",
    "            eval_names=[\"train\", \"valid\"],\n",
    "            eval_set=[(X_train, Y_train), (X_val, Y_val)],\n",
    "            # verbose=-1,\n",
    "            eval_metric=\"rmse\",\n",
    "            # early_stopping_rounds=cnfg.num_trials_early_stopping,\n",
    "        )\n",
    "\n",
    "        # models_dict[fold] = model\n",
    "\n",
    "        pred_val = model.predict(X_val, num_iteration=model.best_iteration_)\n",
    "        train_feats_df.loc[X_val.index, f\"pred_{cnfg.response_variate}\"] = pred_val\n",
    "\n",
    "    rmse = mean_squared_error(\n",
    "        train_feats_df[cnfg.response_variate],\n",
    "        np.clip(train_feats_df[f\"pred_{cnfg.response_variate}\"], a_min=0.5, a_max=6.0),\n",
    "        squared=False,\n",
    "    )\n",
    "\n",
    "    return rmse"
   ]
  },
  {
   "cell_type": "code",
   "execution_count": 31,
   "id": "41938e70-a95b-4876-8746-098623409e02",
   "metadata": {
    "_kg_hide-output": true,
    "execution": {
     "iopub.execute_input": "2023-10-30T21:40:22.866638Z",
     "iopub.status.busy": "2023-10-30T21:40:22.866407Z",
     "iopub.status.idle": "2023-10-30T21:57:12.247173Z",
     "shell.execute_reply": "2023-10-30T21:57:12.246573Z",
     "shell.execute_reply.started": "2023-10-30T21:40:22.866621Z"
    },
    "papermill": {
     "duration": 0.027542,
     "end_time": "2023-10-24T19:15:40.628707",
     "exception": false,
     "start_time": "2023-10-24T19:15:40.601165",
     "status": "completed"
    },
    "scrolled": true,
    "tags": []
   },
   "outputs": [
    {
     "name": "stderr",
     "output_type": "stream",
     "text": [
      "[I 2023-10-30 22:40:22,872] A new study created in memory with name: Optimize boosting hyperparameters\n"
     ]
    },
    {
     "name": "stdout",
     "output_type": "stream",
     "text": [
      "0\n"
     ]
    },
    {
     "name": "stderr",
     "output_type": "stream",
     "text": [
      "[I 2023-10-30 22:40:58,258] Trial 0 finished with value: 0.6325943937121048 and parameters: {'reg_alpha': 0.009946296846626483, 'reg_lambda': 8.099429835794432, 'colsample_bytree': 0.6004647132293043, 'subsample': 0.8028745088969141, 'learning_rate': 0.0008392564230935138, 'num_leaves': 21, 'min_child_samples': 55}. Best is trial 0 with value: 0.6325943937121048.\n"
     ]
    },
    {
     "name": "stdout",
     "output_type": "stream",
     "text": [
      "1\n"
     ]
    },
    {
     "name": "stderr",
     "output_type": "stream",
     "text": [
      "[I 2023-10-30 22:41:00,062] Trial 1 finished with value: 0.6416574970800195 and parameters: {'reg_alpha': 0.6561080258384974, 'reg_lambda': 0.25391695834308053, 'colsample_bytree': 0.6228179816808626, 'subsample': 0.7780184855604133, 'learning_rate': 0.02390452641062019, 'num_leaves': 2, 'min_child_samples': 10}. Best is trial 0 with value: 0.6325943937121048.\n"
     ]
    },
    {
     "name": "stdout",
     "output_type": "stream",
     "text": [
      "2\n"
     ]
    },
    {
     "name": "stderr",
     "output_type": "stream",
     "text": [
      "[I 2023-10-30 22:41:54,927] Trial 2 finished with value: 0.68008619847451 and parameters: {'reg_alpha': 0.0684001686291156, 'reg_lambda': 0.00549846415557213, 'colsample_bytree': 0.5031577124125431, 'subsample': 0.6161092536882156, 'learning_rate': 0.00014906281962750523, 'num_leaves': 26, 'min_child_samples': 41}. Best is trial 0 with value: 0.6325943937121048.\n"
     ]
    },
    {
     "name": "stdout",
     "output_type": "stream",
     "text": [
      "3\n"
     ]
    },
    {
     "name": "stderr",
     "output_type": "stream",
     "text": [
      "[I 2023-10-30 22:41:56,245] Trial 3 finished with value: 0.6394273908904221 and parameters: {'reg_alpha': 0.015365213905248523, 'reg_lambda': 0.03953331619488674, 'colsample_bytree': 0.9248784788175959, 'subsample': 0.8008929232928397, 'learning_rate': 0.07495559392295927, 'num_leaves': 23, 'min_child_samples': 70}. Best is trial 0 with value: 0.6325943937121048.\n"
     ]
    },
    {
     "name": "stdout",
     "output_type": "stream",
     "text": [
      "4\n"
     ]
    },
    {
     "name": "stderr",
     "output_type": "stream",
     "text": [
      "[I 2023-10-30 22:41:57,453] Trial 4 finished with value: 0.6430799418142467 and parameters: {'reg_alpha': 0.0017984673132919878, 'reg_lambda': 0.23162701136252078, 'colsample_bytree': 0.5839982247302978, 'subsample': 0.7104440372343603, 'learning_rate': 0.08928691779781106, 'num_leaves': 26, 'min_child_samples': 14}. Best is trial 0 with value: 0.6325943937121048.\n"
     ]
    },
    {
     "name": "stdout",
     "output_type": "stream",
     "text": [
      "5\n"
     ]
    },
    {
     "name": "stderr",
     "output_type": "stream",
     "text": [
      "[I 2023-10-30 22:42:25,661] Trial 5 finished with value: 0.6358256487957803 and parameters: {'reg_alpha': 0.03480483768120533, 'reg_lambda': 0.02156881171943615, 'colsample_bytree': 0.8769549486852617, 'subsample': 0.7584351093521701, 'learning_rate': 0.0009701509476245354, 'num_leaves': 16, 'min_child_samples': 42}. Best is trial 0 with value: 0.6325943937121048.\n"
     ]
    },
    {
     "name": "stdout",
     "output_type": "stream",
     "text": [
      "6\n"
     ]
    },
    {
     "name": "stderr",
     "output_type": "stream",
     "text": [
      "[I 2023-10-30 22:42:27,094] Trial 6 finished with value: 0.6355116210044585 and parameters: {'reg_alpha': 0.002591109529120746, 'reg_lambda': 0.016328232811862395, 'colsample_bytree': 0.7819233433602575, 'subsample': 0.7508797868174667, 'learning_rate': 0.024431775914569562, 'num_leaves': 10, 'min_child_samples': 67}. Best is trial 0 with value: 0.6325943937121048.\n"
     ]
    },
    {
     "name": "stdout",
     "output_type": "stream",
     "text": [
      "7\n"
     ]
    },
    {
     "name": "stderr",
     "output_type": "stream",
     "text": [
      "[I 2023-10-30 22:43:25,170] Trial 7 finished with value: 0.6887372548282609 and parameters: {'reg_alpha': 4.328422896838847, 'reg_lambda': 0.16977448520146213, 'colsample_bytree': 0.8147313486381909, 'subsample': 0.5310893292743262, 'learning_rate': 0.00014858213794993717, 'num_leaves': 28, 'min_child_samples': 17}. Best is trial 0 with value: 0.6325943937121048.\n"
     ]
    },
    {
     "name": "stdout",
     "output_type": "stream",
     "text": [
      "8\n"
     ]
    },
    {
     "name": "stderr",
     "output_type": "stream",
     "text": [
      "[I 2023-10-30 22:43:39,662] Trial 8 finished with value: 0.6347876863545701 and parameters: {'reg_alpha': 1.8180494734127772, 'reg_lambda': 2.3879760568815036, 'colsample_bytree': 0.6161814025323238, 'subsample': 0.8393504837478751, 'learning_rate': 0.0023353871748613636, 'num_leaves': 20, 'min_child_samples': 31}. Best is trial 0 with value: 0.6325943937121048.\n"
     ]
    },
    {
     "name": "stdout",
     "output_type": "stream",
     "text": [
      "9\n"
     ]
    },
    {
     "name": "stderr",
     "output_type": "stream",
     "text": [
      "[I 2023-10-30 22:43:56,618] Trial 9 finished with value: 0.6388836035384676 and parameters: {'reg_alpha': 7.235483629031443, 'reg_lambda': 0.009682950478504801, 'colsample_bytree': 0.7221580122220299, 'subsample': 0.619375539901033, 'learning_rate': 0.0014935081928632297, 'num_leaves': 7, 'min_child_samples': 26}. Best is trial 0 with value: 0.6325943937121048.\n"
     ]
    },
    {
     "name": "stdout",
     "output_type": "stream",
     "text": [
      "10\n"
     ]
    },
    {
     "name": "stderr",
     "output_type": "stream",
     "text": [
      "[I 2023-10-30 22:44:29,813] Trial 10 finished with value: 0.6405663062983356 and parameters: {'reg_alpha': 0.2537260510219804, 'reg_lambda': 9.881286408727334, 'colsample_bytree': 0.7143077570418486, 'subsample': 0.9290448439874881, 'learning_rate': 0.0004217931449188306, 'num_leaves': 15, 'min_child_samples': 100}. Best is trial 0 with value: 0.6325943937121048.\n"
     ]
    },
    {
     "name": "stdout",
     "output_type": "stream",
     "text": [
      "11\n"
     ]
    },
    {
     "name": "stderr",
     "output_type": "stream",
     "text": [
      "[I 2023-10-30 22:44:38,652] Trial 11 finished with value: 0.63328041222936 and parameters: {'reg_alpha': 1.018344431933317, 'reg_lambda': 9.461321789472848, 'colsample_bytree': 0.6376918742157236, 'subsample': 0.8919538290963427, 'learning_rate': 0.0038934012972780176, 'num_leaves': 20, 'min_child_samples': 57}. Best is trial 0 with value: 0.6325943937121048.\n"
     ]
    },
    {
     "name": "stdout",
     "output_type": "stream",
     "text": [
      "12\n"
     ]
    },
    {
     "name": "stderr",
     "output_type": "stream",
     "text": [
      "[I 2023-10-30 22:44:46,143] Trial 12 finished with value: 0.632726998237611 and parameters: {'reg_alpha': 0.320157128989896, 'reg_lambda': 9.013272067318704, 'colsample_bytree': 0.6700703278128571, 'subsample': 0.981478826917747, 'learning_rate': 0.004960511934635862, 'num_leaves': 32, 'min_child_samples': 66}. Best is trial 0 with value: 0.6325943937121048.\n"
     ]
    },
    {
     "name": "stdout",
     "output_type": "stream",
     "text": [
      "13\n"
     ]
    },
    {
     "name": "stderr",
     "output_type": "stream",
     "text": [
      "[I 2023-10-30 22:44:52,761] Trial 13 finished with value: 0.6332805871053103 and parameters: {'reg_alpha': 0.207512284260155, 'reg_lambda': 1.5962741384065617, 'colsample_bytree': 0.9804877528320639, 'subsample': 0.9992827438347456, 'learning_rate': 0.005427310798263439, 'num_leaves': 32, 'min_child_samples': 86}. Best is trial 0 with value: 0.6325943937121048.\n"
     ]
    },
    {
     "name": "stdout",
     "output_type": "stream",
     "text": [
      "14\n"
     ]
    },
    {
     "name": "stderr",
     "output_type": "stream",
     "text": [
      "[I 2023-10-30 22:45:35,968] Trial 14 finished with value: 0.6336661726962327 and parameters: {'reg_alpha': 0.012430144668477075, 'reg_lambda': 0.0016919946512164326, 'colsample_bytree': 0.6908920421288605, 'subsample': 0.9977626697485581, 'learning_rate': 0.0005455775105725341, 'num_leaves': 31, 'min_child_samples': 75}. Best is trial 0 with value: 0.6325943937121048.\n"
     ]
    },
    {
     "name": "stdout",
     "output_type": "stream",
     "text": [
      "15\n"
     ]
    },
    {
     "name": "stderr",
     "output_type": "stream",
     "text": [
      "[I 2023-10-30 22:45:42,259] Trial 15 finished with value: 0.6325490314354871 and parameters: {'reg_alpha': 0.07089023931246893, 'reg_lambda': 1.2817671116147196, 'colsample_bytree': 0.5459086715358468, 'subsample': 0.874683716402058, 'learning_rate': 0.005955817240466741, 'num_leaves': 22, 'min_child_samples': 54}. Best is trial 15 with value: 0.6325490314354871.\n"
     ]
    },
    {
     "name": "stdout",
     "output_type": "stream",
     "text": [
      "16\n"
     ]
    },
    {
     "name": "stderr",
     "output_type": "stream",
     "text": [
      "[I 2023-10-30 22:45:46,264] Trial 16 finished with value: 0.6324513234893717 and parameters: {'reg_alpha': 0.006353575561819109, 'reg_lambda': 1.1627832793659192, 'colsample_bytree': 0.5371689236228673, 'subsample': 0.8572036932561395, 'learning_rate': 0.009415865089752872, 'num_leaves': 20, 'min_child_samples': 53}. Best is trial 16 with value: 0.6324513234893717.\n"
     ]
    },
    {
     "name": "stdout",
     "output_type": "stream",
     "text": [
      "17\n"
     ]
    },
    {
     "name": "stderr",
     "output_type": "stream",
     "text": [
      "[I 2023-10-30 22:45:49,242] Trial 17 finished with value: 0.6356311580535714 and parameters: {'reg_alpha': 0.05142517473662627, 'reg_lambda': 0.8311482301701943, 'colsample_bytree': 0.5192166936469951, 'subsample': 0.8880939726418797, 'learning_rate': 0.009222168948509005, 'num_leaves': 13, 'min_child_samples': 45}. Best is trial 16 with value: 0.6324513234893717.\n"
     ]
    },
    {
     "name": "stdout",
     "output_type": "stream",
     "text": [
      "18\n"
     ]
    },
    {
     "name": "stderr",
     "output_type": "stream",
     "text": [
      "[I 2023-10-30 22:45:53,222] Trial 18 finished with value: 0.6325132656946073 and parameters: {'reg_alpha': 0.004356192507414123, 'reg_lambda': 0.4226052182054191, 'colsample_bytree': 0.5504914694300815, 'subsample': 0.8505674305119432, 'learning_rate': 0.00920567618176587, 'num_leaves': 18, 'min_child_samples': 84}. Best is trial 16 with value: 0.6324513234893717.\n"
     ]
    },
    {
     "name": "stdout",
     "output_type": "stream",
     "text": [
      "19\n"
     ]
    },
    {
     "name": "stderr",
     "output_type": "stream",
     "text": [
      "[I 2023-10-30 22:45:55,696] Trial 19 finished with value: 0.6327773121090045 and parameters: {'reg_alpha': 0.0010829164872417074, 'reg_lambda': 0.0759276305560157, 'colsample_bytree': 0.54325626630711, 'subsample': 0.8462947095568668, 'learning_rate': 0.012440462460858682, 'num_leaves': 12, 'min_child_samples': 83}. Best is trial 16 with value: 0.6324513234893717.\n"
     ]
    },
    {
     "name": "stdout",
     "output_type": "stream",
     "text": [
      "20\n"
     ]
    },
    {
     "name": "stderr",
     "output_type": "stream",
     "text": [
      "[I 2023-10-30 22:46:09,740] Trial 20 finished with value: 0.6329559635449598 and parameters: {'reg_alpha': 0.005536364359125503, 'reg_lambda': 0.49199921425271725, 'colsample_bytree': 0.5648560229381921, 'subsample': 0.9440081842002207, 'learning_rate': 0.0019428015895258987, 'num_leaves': 17, 'min_child_samples': 98}. Best is trial 16 with value: 0.6324513234893717.\n"
     ]
    },
    {
     "name": "stdout",
     "output_type": "stream",
     "text": [
      "21\n"
     ]
    },
    {
     "name": "stderr",
     "output_type": "stream",
     "text": [
      "[I 2023-10-30 22:46:13,453] Trial 21 finished with value: 0.6311196810435414 and parameters: {'reg_alpha': 0.003831732535795758, 'reg_lambda': 0.6732366130321854, 'colsample_bytree': 0.5011970245460066, 'subsample': 0.8608876535724805, 'learning_rate': 0.00977806500759344, 'num_leaves': 22, 'min_child_samples': 58}. Best is trial 21 with value: 0.6311196810435414.\n"
     ]
    },
    {
     "name": "stdout",
     "output_type": "stream",
     "text": [
      "22\n"
     ]
    },
    {
     "name": "stderr",
     "output_type": "stream",
     "text": [
      "[I 2023-10-30 22:46:16,211] Trial 22 finished with value: 0.6315219966428619 and parameters: {'reg_alpha': 0.0038718442398297764, 'reg_lambda': 0.49560603575772366, 'colsample_bytree': 0.515330585237454, 'subsample': 0.849777057606124, 'learning_rate': 0.012227755119318768, 'num_leaves': 18, 'min_child_samples': 85}. Best is trial 21 with value: 0.6311196810435414.\n"
     ]
    },
    {
     "name": "stdout",
     "output_type": "stream",
     "text": [
      "23\n"
     ]
    },
    {
     "name": "stderr",
     "output_type": "stream",
     "text": [
      "[I 2023-10-30 22:46:18,717] Trial 23 finished with value: 0.631708064135324 and parameters: {'reg_alpha': 0.0035558503858512066, 'reg_lambda': 0.12286041237427621, 'colsample_bytree': 0.515563320888588, 'subsample': 0.9098555124535895, 'learning_rate': 0.018700865803888862, 'num_leaves': 24, 'min_child_samples': 62}. Best is trial 21 with value: 0.6311196810435414.\n"
     ]
    },
    {
     "name": "stdout",
     "output_type": "stream",
     "text": [
      "24\n"
     ]
    },
    {
     "name": "stderr",
     "output_type": "stream",
     "text": [
      "[I 2023-10-30 22:46:20,839] Trial 24 finished with value: 0.6305717636272288 and parameters: {'reg_alpha': 0.0011091744777530974, 'reg_lambda': 0.11521595653921993, 'colsample_bytree': 0.5017289034011463, 'subsample': 0.9192729887054306, 'learning_rate': 0.02055567196994028, 'num_leaves': 24, 'min_child_samples': 78}. Best is trial 24 with value: 0.6305717636272288.\n"
     ]
    },
    {
     "name": "stdout",
     "output_type": "stream",
     "text": [
      "25\n"
     ]
    },
    {
     "name": "stderr",
     "output_type": "stream",
     "text": [
      "[I 2023-10-30 22:46:22,152] Trial 25 finished with value: 0.6328568430444632 and parameters: {'reg_alpha': 0.0012329522932516023, 'reg_lambda': 0.3777965710363374, 'colsample_bytree': 0.503327694896379, 'subsample': 0.9472375251971649, 'learning_rate': 0.04026073014197972, 'num_leaves': 28, 'min_child_samples': 77}. Best is trial 24 with value: 0.6305717636272288.\n"
     ]
    },
    {
     "name": "stdout",
     "output_type": "stream",
     "text": [
      "26\n"
     ]
    },
    {
     "name": "stderr",
     "output_type": "stream",
     "text": [
      "[I 2023-10-30 22:46:24,625] Trial 26 finished with value: 0.6325100107706186 and parameters: {'reg_alpha': 0.0023333078842784154, 'reg_lambda': 0.09821759925962985, 'colsample_bytree': 0.5808074420476741, 'subsample': 0.9241077234137577, 'learning_rate': 0.014646228445761635, 'num_leaves': 18, 'min_child_samples': 92}. Best is trial 24 with value: 0.6305717636272288.\n"
     ]
    },
    {
     "name": "stdout",
     "output_type": "stream",
     "text": [
      "27\n"
     ]
    },
    {
     "name": "stderr",
     "output_type": "stream",
     "text": [
      "[I 2023-10-30 22:46:25,955] Trial 27 finished with value: 0.6350719848374603 and parameters: {'reg_alpha': 0.001258138580690348, 'reg_lambda': 0.07989631266428186, 'colsample_bytree': 0.6499216469570509, 'subsample': 0.8203710184334005, 'learning_rate': 0.03969278388541932, 'num_leaves': 25, 'min_child_samples': 74}. Best is trial 24 with value: 0.6305717636272288.\n"
     ]
    },
    {
     "name": "stdout",
     "output_type": "stream",
     "text": [
      "28\n"
     ]
    },
    {
     "name": "stderr",
     "output_type": "stream",
     "text": [
      "[I 2023-10-30 22:46:30,281] Trial 28 finished with value: 0.6331705139409949 and parameters: {'reg_alpha': 0.023591231446761538, 'reg_lambda': 0.05085940318829968, 'colsample_bytree': 0.6080580396114516, 'subsample': 0.8786588059000345, 'learning_rate': 0.007169912057056724, 'num_leaves': 28, 'min_child_samples': 92}. Best is trial 24 with value: 0.6305717636272288.\n"
     ]
    },
    {
     "name": "stdout",
     "output_type": "stream",
     "text": [
      "29\n"
     ]
    },
    {
     "name": "stderr",
     "output_type": "stream",
     "text": [
      "[I 2023-10-30 22:46:33,024] Trial 29 finished with value: 0.6320034563895784 and parameters: {'reg_alpha': 0.0075614657578385305, 'reg_lambda': 3.045954977080824, 'colsample_bytree': 0.588572009251632, 'subsample': 0.8064029975203004, 'learning_rate': 0.014339355492059674, 'num_leaves': 21, 'min_child_samples': 80}. Best is trial 24 with value: 0.6305717636272288.\n"
     ]
    },
    {
     "name": "stdout",
     "output_type": "stream",
     "text": [
      "30\n"
     ]
    },
    {
     "name": "stderr",
     "output_type": "stream",
     "text": [
      "[I 2023-10-30 22:46:40,954] Trial 30 finished with value: 0.6338557281105048 and parameters: {'reg_alpha': 0.009597071912067202, 'reg_lambda': 0.6563130307471695, 'colsample_bytree': 0.5793230153088624, 'subsample': 0.9603837131510411, 'learning_rate': 0.0033335650908931586, 'num_leaves': 14, 'min_child_samples': 61}. Best is trial 24 with value: 0.6305717636272288.\n"
     ]
    },
    {
     "name": "stdout",
     "output_type": "stream",
     "text": [
      "31\n"
     ]
    },
    {
     "name": "stderr",
     "output_type": "stream",
     "text": [
      "[I 2023-10-30 22:46:44,117] Trial 31 finished with value: 0.6346855524948548 and parameters: {'reg_alpha': 0.0036449775450744467, 'reg_lambda': 0.15558554788400952, 'colsample_bytree': 0.5042354584805018, 'subsample': 0.911434162489824, 'learning_rate': 0.021663335873508056, 'num_leaves': 24, 'min_child_samples': 1}. Best is trial 24 with value: 0.6305717636272288.\n"
     ]
    },
    {
     "name": "stdout",
     "output_type": "stream",
     "text": [
      "32\n"
     ]
    },
    {
     "name": "stderr",
     "output_type": "stream",
     "text": [
      "[I 2023-10-30 22:46:46,301] Trial 32 finished with value: 0.6330684127152174 and parameters: {'reg_alpha': 0.0027986853458432095, 'reg_lambda': 0.2953960633271653, 'colsample_bytree': 0.5265245147433605, 'subsample': 0.910255350748792, 'learning_rate': 0.018484359510057863, 'num_leaves': 22, 'min_child_samples': 62}. Best is trial 24 with value: 0.6305717636272288.\n"
     ]
    },
    {
     "name": "stdout",
     "output_type": "stream",
     "text": [
      "33\n"
     ]
    },
    {
     "name": "stderr",
     "output_type": "stream",
     "text": [
      "[I 2023-10-30 22:46:47,928] Trial 33 finished with value: 0.6346799060539884 and parameters: {'reg_alpha': 0.003776368025827027, 'reg_lambda': 0.21998999940220884, 'colsample_bytree': 0.5017558610730533, 'subsample': 0.9002837412631188, 'learning_rate': 0.03047468682417058, 'num_leaves': 24, 'min_child_samples': 47}. Best is trial 24 with value: 0.6305717636272288.\n"
     ]
    },
    {
     "name": "stdout",
     "output_type": "stream",
     "text": [
      "34\n"
     ]
    },
    {
     "name": "stderr",
     "output_type": "stream",
     "text": [
      "[I 2023-10-30 22:46:49,075] Trial 34 finished with value: 0.6332139257942455 and parameters: {'reg_alpha': 0.014669264198999334, 'reg_lambda': 0.13267321835959095, 'colsample_bytree': 0.5527253355255332, 'subsample': 0.9697184179570486, 'learning_rate': 0.05599906633187776, 'num_leaves': 27, 'min_child_samples': 70}. Best is trial 24 with value: 0.6305717636272288.\n"
     ]
    },
    {
     "name": "stdout",
     "output_type": "stream",
     "text": [
      "35\n"
     ]
    },
    {
     "name": "stderr",
     "output_type": "stream",
     "text": [
      "[I 2023-10-30 22:46:51,254] Trial 35 finished with value: 0.6336771068864051 and parameters: {'reg_alpha': 0.0015963844778324522, 'reg_lambda': 0.2943686421627709, 'colsample_bytree': 0.5323627775177131, 'subsample': 0.7920881179531849, 'learning_rate': 0.017589131024012904, 'num_leaves': 19, 'min_child_samples': 88}. Best is trial 24 with value: 0.6305717636272288.\n"
     ]
    },
    {
     "name": "stdout",
     "output_type": "stream",
     "text": [
      "36\n"
     ]
    },
    {
     "name": "stderr",
     "output_type": "stream",
     "text": [
      "[I 2023-10-30 22:46:52,854] Trial 36 finished with value: 0.6331879205804524 and parameters: {'reg_alpha': 0.0022334373488210484, 'reg_lambda': 0.6393090445075724, 'colsample_bytree': 0.6072503867788956, 'subsample': 0.9342917009877452, 'learning_rate': 0.03161864894979164, 'num_leaves': 30, 'min_child_samples': 60}. Best is trial 24 with value: 0.6305717636272288.\n"
     ]
    },
    {
     "name": "stdout",
     "output_type": "stream",
     "text": [
      "37\n"
     ]
    },
    {
     "name": "stderr",
     "output_type": "stream",
     "text": [
      "[I 2023-10-30 22:46:55,943] Trial 37 finished with value: 0.6332528437604704 and parameters: {'reg_alpha': 0.0063341480066617635, 'reg_lambda': 0.043059680861384744, 'colsample_bytree': 0.5761455333609298, 'subsample': 0.8286342439975096, 'learning_rate': 0.012007651373547057, 'num_leaves': 23, 'min_child_samples': 65}. Best is trial 24 with value: 0.6305717636272288.\n"
     ]
    },
    {
     "name": "stdout",
     "output_type": "stream",
     "text": [
      "38\n"
     ]
    },
    {
     "name": "stderr",
     "output_type": "stream",
     "text": [
      "[I 2023-10-30 22:46:56,903] Trial 38 finished with value: 0.6360704984709936 and parameters: {'reg_alpha': 0.021621568020557046, 'reg_lambda': 0.17341219220347456, 'colsample_bytree': 0.5210681311579856, 'subsample': 0.776055455726939, 'learning_rate': 0.09877460202443601, 'num_leaves': 25, 'min_child_samples': 71}. Best is trial 24 with value: 0.6305717636272288.\n"
     ]
    },
    {
     "name": "stdout",
     "output_type": "stream",
     "text": [
      "39\n"
     ]
    },
    {
     "name": "stderr",
     "output_type": "stream",
     "text": [
      "[I 2023-10-30 22:46:57,701] Trial 39 finished with value: 0.6369907583356035 and parameters: {'reg_alpha': 0.0018714340378290645, 'reg_lambda': 0.11660427509346759, 'colsample_bytree': 0.5636859620818983, 'subsample': 0.8678462736621586, 'learning_rate': 0.05437027423616063, 'num_leaves': 7, 'min_child_samples': 37}. Best is trial 24 with value: 0.6305717636272288.\n"
     ]
    },
    {
     "name": "stdout",
     "output_type": "stream",
     "text": [
      "40\n"
     ]
    },
    {
     "name": "stderr",
     "output_type": "stream",
     "text": [
      "[I 2023-10-30 22:46:59,542] Trial 40 finished with value: 0.6351464681221188 and parameters: {'reg_alpha': 0.0010505552491137066, 'reg_lambda': 0.26321400942873086, 'colsample_bytree': 0.6037892862755516, 'subsample': 0.8184655894958156, 'learning_rate': 0.025502024533212094, 'num_leaves': 16, 'min_child_samples': 49}. Best is trial 24 with value: 0.6305717636272288.\n"
     ]
    },
    {
     "name": "stdout",
     "output_type": "stream",
     "text": [
      "41\n"
     ]
    },
    {
     "name": "stderr",
     "output_type": "stream",
     "text": [
      "[I 2023-10-30 22:47:01,979] Trial 41 finished with value: 0.6309842453591714 and parameters: {'reg_alpha': 0.009533442008237651, 'reg_lambda': 3.3577275795662076, 'colsample_bytree': 0.5017747032008619, 'subsample': 0.8146930366665301, 'learning_rate': 0.015873013316949767, 'num_leaves': 21, 'min_child_samples': 80}. Best is trial 24 with value: 0.6305717636272288.\n"
     ]
    },
    {
     "name": "stdout",
     "output_type": "stream",
     "text": [
      "42\n"
     ]
    },
    {
     "name": "stderr",
     "output_type": "stream",
     "text": [
      "[I 2023-10-30 22:47:04,102] Trial 42 finished with value: 0.6322824847124425 and parameters: {'reg_alpha': 0.0034185866807523724, 'reg_lambda': 4.064877152445867, 'colsample_bytree': 0.5197438996588956, 'subsample': 0.8603805121366285, 'learning_rate': 0.018483383972889938, 'num_leaves': 22, 'min_child_samples': 79}. Best is trial 24 with value: 0.6305717636272288.\n"
     ]
    },
    {
     "name": "stdout",
     "output_type": "stream",
     "text": [
      "43\n"
     ]
    },
    {
     "name": "stderr",
     "output_type": "stream",
     "text": [
      "[I 2023-10-30 22:47:09,241] Trial 43 finished with value: 0.6329237379718148 and parameters: {'reg_alpha': 0.00912906881670169, 'reg_lambda': 5.935056840827516, 'colsample_bytree': 0.5500883780183058, 'subsample': 0.9000353820303245, 'learning_rate': 0.007506299355308176, 'num_leaves': 26, 'min_child_samples': 92}. Best is trial 24 with value: 0.6305717636272288.\n"
     ]
    },
    {
     "name": "stdout",
     "output_type": "stream",
     "text": [
      "44\n"
     ]
    },
    {
     "name": "stderr",
     "output_type": "stream",
     "text": [
      "[I 2023-10-30 22:47:12,068] Trial 44 finished with value: 0.6317991447548577 and parameters: {'reg_alpha': 0.0045580784545834595, 'reg_lambda': 1.9235102373207444, 'colsample_bytree': 0.5092537667697932, 'subsample': 0.832877418913061, 'learning_rate': 0.012799233248441143, 'num_leaves': 21, 'min_child_samples': 57}. Best is trial 24 with value: 0.6305717636272288.\n"
     ]
    },
    {
     "name": "stdout",
     "output_type": "stream",
     "text": [
      "45\n"
     ]
    },
    {
     "name": "stderr",
     "output_type": "stream",
     "text": [
      "[I 2023-10-30 22:47:14,108] Trial 45 finished with value: 0.639427026272792 and parameters: {'reg_alpha': 0.002991953919017116, 'reg_lambda': 0.7926759260189522, 'colsample_bytree': 0.6344969891486436, 'subsample': 0.7181680306389627, 'learning_rate': 0.02355408601548889, 'num_leaves': 2, 'min_child_samples': 71}. Best is trial 24 with value: 0.6305717636272288.\n"
     ]
    },
    {
     "name": "stdout",
     "output_type": "stream",
     "text": [
      "46\n"
     ]
    },
    {
     "name": "stderr",
     "output_type": "stream",
     "text": [
      "[I 2023-10-30 22:47:21,786] Trial 46 finished with value: 0.6314650618716792 and parameters: {'reg_alpha': 0.001581863491970106, 'reg_lambda': 2.5087384660684733, 'colsample_bytree': 0.5020285227178554, 'subsample': 0.881744476297881, 'learning_rate': 0.004328549670387315, 'num_leaves': 19, 'min_child_samples': 81}. Best is trial 24 with value: 0.6305717636272288.\n"
     ]
    },
    {
     "name": "stdout",
     "output_type": "stream",
     "text": [
      "47\n"
     ]
    },
    {
     "name": "stderr",
     "output_type": "stream",
     "text": [
      "[I 2023-10-30 22:47:28,159] Trial 47 finished with value: 0.63212464292976 and parameters: {'reg_alpha': 0.001765128181036718, 'reg_lambda': 2.852029619026321, 'colsample_bytree': 0.5648812202937971, 'subsample': 0.8765166755018988, 'learning_rate': 0.004555802162929749, 'num_leaves': 18, 'min_child_samples': 89}. Best is trial 24 with value: 0.6305717636272288.\n"
     ]
    },
    {
     "name": "stdout",
     "output_type": "stream",
     "text": [
      "48\n"
     ]
    },
    {
     "name": "stderr",
     "output_type": "stream",
     "text": [
      "[I 2023-10-30 22:47:32,356] Trial 48 finished with value: 0.6340911202176011 and parameters: {'reg_alpha': 0.001878225665687474, 'reg_lambda': 1.237406613955759, 'colsample_bytree': 0.5379751818383641, 'subsample': 0.7982876630439251, 'learning_rate': 0.006532497143118305, 'num_leaves': 16, 'min_child_samples': 97}. Best is trial 24 with value: 0.6305717636272288.\n"
     ]
    },
    {
     "name": "stdout",
     "output_type": "stream",
     "text": [
      "49\n"
     ]
    },
    {
     "name": "stderr",
     "output_type": "stream",
     "text": [
      "[I 2023-10-30 22:47:41,390] Trial 49 finished with value: 0.6316772149223802 and parameters: {'reg_alpha': 0.005491686847183689, 'reg_lambda': 1.9546337784197712, 'colsample_bytree': 0.5263759793601118, 'subsample': 0.8419917926689577, 'learning_rate': 0.0032800676841855296, 'num_leaves': 19, 'min_child_samples': 82}. Best is trial 24 with value: 0.6305717636272288.\n"
     ]
    },
    {
     "name": "stdout",
     "output_type": "stream",
     "text": [
      "50\n"
     ]
    },
    {
     "name": "stderr",
     "output_type": "stream",
     "text": [
      "[I 2023-10-30 22:47:48,360] Trial 50 finished with value: 0.6309964580353379 and parameters: {'reg_alpha': 0.011001682152586432, 'reg_lambda': 5.715420748258097, 'colsample_bytree': 0.5026236382721874, 'subsample': 0.7741066741477549, 'learning_rate': 0.004578568608558144, 'num_leaves': 19, 'min_child_samples': 75}. Best is trial 24 with value: 0.6305717636272288.\n"
     ]
    },
    {
     "name": "stdout",
     "output_type": "stream",
     "text": [
      "51\n"
     ]
    },
    {
     "name": "stderr",
     "output_type": "stream",
     "text": [
      "[I 2023-10-30 22:47:57,118] Trial 51 finished with value: 0.6311075992901247 and parameters: {'reg_alpha': 0.012010471148450875, 'reg_lambda': 4.513857756836218, 'colsample_bytree': 0.5045651631953489, 'subsample': 0.7692776386853506, 'learning_rate': 0.004014645246368425, 'num_leaves': 20, 'min_child_samples': 75}. Best is trial 24 with value: 0.6305717636272288.\n"
     ]
    },
    {
     "name": "stdout",
     "output_type": "stream",
     "text": [
      "52\n"
     ]
    },
    {
     "name": "stderr",
     "output_type": "stream",
     "text": [
      "[I 2023-10-30 22:48:03,879] Trial 52 finished with value: 0.6319862894187541 and parameters: {'reg_alpha': 0.010383533591488258, 'reg_lambda': 5.111596488219564, 'colsample_bytree': 0.5024590622166106, 'subsample': 0.7622584778538848, 'learning_rate': 0.0044864216170343125, 'num_leaves': 21, 'min_child_samples': 75}. Best is trial 24 with value: 0.6305717636272288.\n"
     ]
    },
    {
     "name": "stdout",
     "output_type": "stream",
     "text": [
      "53\n"
     ]
    },
    {
     "name": "stderr",
     "output_type": "stream",
     "text": [
      "[I 2023-10-30 22:48:17,715] Trial 53 finished with value: 0.6322682379583137 and parameters: {'reg_alpha': 0.015809240751599594, 'reg_lambda': 6.201891218981098, 'colsample_bytree': 0.5380932749871388, 'subsample': 0.7322121205358723, 'learning_rate': 0.0021945626920416663, 'num_leaves': 20, 'min_child_samples': 67}. Best is trial 24 with value: 0.6305717636272288.\n"
     ]
    },
    {
     "name": "stdout",
     "output_type": "stream",
     "text": [
      "54\n"
     ]
    },
    {
     "name": "stderr",
     "output_type": "stream",
     "text": [
      "[I 2023-10-30 22:48:23,688] Trial 54 finished with value: 0.6316686387746695 and parameters: {'reg_alpha': 0.0079661405298687, 'reg_lambda': 3.1572467510877655, 'colsample_bytree': 0.5597116880537958, 'subsample': 0.7753384873295897, 'learning_rate': 0.0055303608250972525, 'num_leaves': 23, 'min_child_samples': 78}. Best is trial 24 with value: 0.6305717636272288.\n"
     ]
    },
    {
     "name": "stdout",
     "output_type": "stream",
     "text": [
      "55\n"
     ]
    },
    {
     "name": "stderr",
     "output_type": "stream",
     "text": [
      "[I 2023-10-30 22:48:34,490] Trial 55 finished with value: 0.6326649344205233 and parameters: {'reg_alpha': 0.03597231561036781, 'reg_lambda': 7.583824579162306, 'colsample_bytree': 0.5935464339381115, 'subsample': 0.743914443640066, 'learning_rate': 0.0029172681525783837, 'num_leaves': 20, 'min_child_samples': 68}. Best is trial 24 with value: 0.6305717636272288.\n"
     ]
    },
    {
     "name": "stdout",
     "output_type": "stream",
     "text": [
      "56\n"
     ]
    },
    {
     "name": "stderr",
     "output_type": "stream",
     "text": [
      "[I 2023-10-30 22:48:38,469] Trial 56 finished with value: 0.6347888129554755 and parameters: {'reg_alpha': 0.002535824284023642, 'reg_lambda': 4.125776193307826, 'colsample_bytree': 0.5011690766191085, 'subsample': 0.8113107089352317, 'learning_rate': 0.008112249639747007, 'num_leaves': 15, 'min_child_samples': 21}. Best is trial 24 with value: 0.6305717636272288.\n"
     ]
    },
    {
     "name": "stdout",
     "output_type": "stream",
     "text": [
      "57\n"
     ]
    },
    {
     "name": "stderr",
     "output_type": "stream",
     "text": [
      "[I 2023-10-30 22:48:43,850] Trial 57 finished with value: 0.6320242483260966 and parameters: {'reg_alpha': 0.005357734172565693, 'reg_lambda': 2.233162970679564, 'colsample_bytree': 0.5337098798524461, 'subsample': 0.7905816032854984, 'learning_rate': 0.006195251331461392, 'num_leaves': 17, 'min_child_samples': 73}. Best is trial 24 with value: 0.6305717636272288.\n"
     ]
    },
    {
     "name": "stdout",
     "output_type": "stream",
     "text": [
      "58\n"
     ]
    },
    {
     "name": "stderr",
     "output_type": "stream",
     "text": [
      "[I 2023-10-30 22:48:47,578] Trial 58 finished with value: 0.6308111662734412 and parameters: {'reg_alpha': 0.0013439078707192067, 'reg_lambda': 1.1947622791524595, 'colsample_bytree': 0.5497192824912946, 'subsample': 0.6787454325574445, 'learning_rate': 0.009567978851706788, 'num_leaves': 22, 'min_child_samples': 81}. Best is trial 24 with value: 0.6305717636272288.\n"
     ]
    },
    {
     "name": "stdout",
     "output_type": "stream",
     "text": [
      "59\n"
     ]
    },
    {
     "name": "stderr",
     "output_type": "stream",
     "text": [
      "[I 2023-10-30 22:48:51,590] Trial 59 finished with value: 0.6317635056187162 and parameters: {'reg_alpha': 0.006523823192655372, 'reg_lambda': 1.5219008337528546, 'colsample_bytree': 0.5495401918630587, 'subsample': 0.6890956143605977, 'learning_rate': 0.009518632902141484, 'num_leaves': 22, 'min_child_samples': 88}. Best is trial 24 with value: 0.6305717636272288.\n"
     ]
    },
    {
     "name": "stdout",
     "output_type": "stream",
     "text": [
      "60\n"
     ]
    },
    {
     "name": "stderr",
     "output_type": "stream",
     "text": [
      "[I 2023-10-30 22:48:55,100] Trial 60 finished with value: 0.6309773534218457 and parameters: {'reg_alpha': 0.013131697608720133, 'reg_lambda': 0.9585677774130783, 'colsample_bytree': 0.5273008248683422, 'subsample': 0.7703085336778018, 'learning_rate': 0.009166758974354318, 'num_leaves': 25, 'min_child_samples': 77}. Best is trial 24 with value: 0.6305717636272288.\n"
     ]
    },
    {
     "name": "stdout",
     "output_type": "stream",
     "text": [
      "61\n"
     ]
    },
    {
     "name": "stderr",
     "output_type": "stream",
     "text": [
      "[I 2023-10-30 22:48:59,301] Trial 61 finished with value: 0.6313298557652961 and parameters: {'reg_alpha': 0.011340228535977541, 'reg_lambda': 0.9427815902512819, 'colsample_bytree': 0.524661508856959, 'subsample': 0.758074399584237, 'learning_rate': 0.00869533799643599, 'num_leaves': 25, 'min_child_samples': 76}. Best is trial 24 with value: 0.6305717636272288.\n"
     ]
    },
    {
     "name": "stdout",
     "output_type": "stream",
     "text": [
      "62\n"
     ]
    },
    {
     "name": "stderr",
     "output_type": "stream",
     "text": [
      "[I 2023-10-30 22:49:02,429] Trial 62 finished with value: 0.6312344284904542 and parameters: {'reg_alpha': 0.017124767847836123, 'reg_lambda': 1.752936748963436, 'colsample_bytree': 0.5417021702364804, 'subsample': 0.6998156421728691, 'learning_rate': 0.011433254086076315, 'num_leaves': 27, 'min_child_samples': 85}. Best is trial 24 with value: 0.6305717636272288.\n"
     ]
    },
    {
     "name": "stdout",
     "output_type": "stream",
     "text": [
      "63\n"
     ]
    },
    {
     "name": "stderr",
     "output_type": "stream",
     "text": [
      "[I 2023-10-30 22:49:08,482] Trial 63 finished with value: 0.6324820678384917 and parameters: {'reg_alpha': 0.02743107141403504, 'reg_lambda': 1.0611717819800646, 'colsample_bytree': 0.5744306190466865, 'subsample': 0.7825458930430346, 'learning_rate': 0.006209584381994479, 'num_leaves': 23, 'min_child_samples': 65}. Best is trial 24 with value: 0.6305717636272288.\n"
     ]
    },
    {
     "name": "stdout",
     "output_type": "stream",
     "text": [
      "64\n"
     ]
    },
    {
     "name": "stderr",
     "output_type": "stream",
     "text": [
      "[I 2023-10-30 22:49:12,155] Trial 64 finished with value: 0.6318155216672484 and parameters: {'reg_alpha': 0.013991261400863703, 'reg_lambda': 1.4620918917908519, 'colsample_bytree': 0.5170912683765767, 'subsample': 0.811498754026165, 'learning_rate': 0.010574299858958152, 'num_leaves': 21, 'min_child_samples': 73}. Best is trial 24 with value: 0.6305717636272288.\n"
     ]
    },
    {
     "name": "stdout",
     "output_type": "stream",
     "text": [
      "65\n"
     ]
    },
    {
     "name": "stderr",
     "output_type": "stream",
     "text": [
      "[I 2023-10-30 22:49:17,941] Trial 65 finished with value: 0.6324090185401698 and parameters: {'reg_alpha': 0.008294765379349141, 'reg_lambda': 4.037410296649422, 'colsample_bytree': 0.5615328454412299, 'subsample': 0.7674891194716248, 'learning_rate': 0.005251640882483971, 'num_leaves': 26, 'min_child_samples': 82}. Best is trial 24 with value: 0.6305717636272288.\n"
     ]
    },
    {
     "name": "stdout",
     "output_type": "stream",
     "text": [
      "66\n"
     ]
    },
    {
     "name": "stderr",
     "output_type": "stream",
     "text": [
      "[I 2023-10-30 22:49:21,043] Trial 66 finished with value: 0.6329498488231199 and parameters: {'reg_alpha': 0.001025178922728438, 'reg_lambda': 1.1695969976614213, 'colsample_bytree': 0.5280052853113052, 'subsample': 0.6812680365161448, 'learning_rate': 0.014309760278859157, 'num_leaves': 24, 'min_child_samples': 40}. Best is trial 24 with value: 0.6305717636272288.\n"
     ]
    },
    {
     "name": "stdout",
     "output_type": "stream",
     "text": [
      "67\n"
     ]
    },
    {
     "name": "stderr",
     "output_type": "stream",
     "text": [
      "[I 2023-10-30 22:49:24,675] Trial 67 finished with value: 0.6337208330564039 and parameters: {'reg_alpha': 0.004700077623571985, 'reg_lambda': 7.208259628647893, 'colsample_bytree': 0.6179826371239737, 'subsample': 0.7958591305195003, 'learning_rate': 0.008473530065749827, 'num_leaves': 23, 'min_child_samples': 96}. Best is trial 24 with value: 0.6305717636272288.\n"
     ]
    },
    {
     "name": "stdout",
     "output_type": "stream",
     "text": [
      "68\n"
     ]
    },
    {
     "name": "stderr",
     "output_type": "stream",
     "text": [
      "[I 2023-10-30 22:49:34,027] Trial 68 finished with value: 0.6303724169475509 and parameters: {'reg_alpha': 0.011568479189283234, 'reg_lambda': 3.2466724794954533, 'colsample_bytree': 0.5927740228164644, 'subsample': 0.7405596845983771, 'learning_rate': 0.003702985543389287, 'num_leaves': 29, 'min_child_samples': 78}. Best is trial 68 with value: 0.6303724169475509.\n"
     ]
    },
    {
     "name": "stdout",
     "output_type": "stream",
     "text": [
      "69\n"
     ]
    },
    {
     "name": "stderr",
     "output_type": "stream",
     "text": [
      "[I 2023-10-30 22:49:42,578] Trial 69 finished with value: 0.6314660346643182 and parameters: {'reg_alpha': 0.011581099832249747, 'reg_lambda': 8.768135443108438, 'colsample_bytree': 0.5485750209872964, 'subsample': 0.741873058617539, 'learning_rate': 0.0037181506337469086, 'num_leaves': 30, 'min_child_samples': 78}. Best is trial 68 with value: 0.6303724169475509.\n"
     ]
    },
    {
     "name": "stdout",
     "output_type": "stream",
     "text": [
      "70\n"
     ]
    },
    {
     "name": "stderr",
     "output_type": "stream",
     "text": [
      "[I 2023-10-30 22:49:54,342] Trial 70 finished with value: 0.632415562615411 and parameters: {'reg_alpha': 0.01979873194098832, 'reg_lambda': 3.0825513953123442, 'colsample_bytree': 0.5882034114268186, 'subsample': 0.7289566205632496, 'learning_rate': 0.0026113160675238366, 'num_leaves': 29, 'min_child_samples': 87}. Best is trial 68 with value: 0.6303724169475509.\n"
     ]
    },
    {
     "name": "stdout",
     "output_type": "stream",
     "text": [
      "71\n"
     ]
    },
    {
     "name": "stderr",
     "output_type": "stream",
     "text": [
      "[I 2023-10-30 22:49:59,248] Trial 71 finished with value: 0.6306581156221515 and parameters: {'reg_alpha': 0.007468526749801261, 'reg_lambda': 5.0936917091862295, 'colsample_bytree': 0.5136731717969135, 'subsample': 0.7571105172661666, 'learning_rate': 0.007269002444397248, 'num_leaves': 26, 'min_child_samples': 77}. Best is trial 68 with value: 0.6303724169475509.\n"
     ]
    },
    {
     "name": "stdout",
     "output_type": "stream",
     "text": [
      "72\n"
     ]
    },
    {
     "name": "stderr",
     "output_type": "stream",
     "text": [
      "[I 2023-10-30 22:50:07,561] Trial 72 finished with value: 0.6307751535712877 and parameters: {'reg_alpha': 0.012858375095407305, 'reg_lambda': 4.990435234807693, 'colsample_bytree': 0.518652435695862, 'subsample': 0.7622692185163252, 'learning_rate': 0.0036617344553005124, 'num_leaves': 27, 'min_child_samples': 80}. Best is trial 68 with value: 0.6303724169475509.\n"
     ]
    },
    {
     "name": "stdout",
     "output_type": "stream",
     "text": [
      "73\n"
     ]
    },
    {
     "name": "stderr",
     "output_type": "stream",
     "text": [
      "[I 2023-10-30 22:50:12,066] Trial 73 finished with value: 0.6321874346688928 and parameters: {'reg_alpha': 0.008481524665220648, 'reg_lambda': 2.231147340732702, 'colsample_bytree': 0.5185542887288923, 'subsample': 0.7461675949920739, 'learning_rate': 0.006665101768025848, 'num_leaves': 27, 'min_child_samples': 91}. Best is trial 68 with value: 0.6303724169475509.\n"
     ]
    },
    {
     "name": "stdout",
     "output_type": "stream",
     "text": [
      "74\n"
     ]
    },
    {
     "name": "stderr",
     "output_type": "stream",
     "text": [
      "[I 2023-10-30 22:50:18,445] Trial 74 finished with value: 0.6308411600760967 and parameters: {'reg_alpha': 0.027947027622018318, 'reg_lambda': 5.612425856680548, 'colsample_bytree': 0.5351386588563938, 'subsample': 0.755516861824805, 'learning_rate': 0.005387647813336567, 'num_leaves': 29, 'min_child_samples': 80}. Best is trial 68 with value: 0.6303724169475509.\n"
     ]
    },
    {
     "name": "stdout",
     "output_type": "stream",
     "text": [
      "75\n"
     ]
    },
    {
     "name": "stderr",
     "output_type": "stream",
     "text": [
      "[I 2023-10-30 22:50:24,061] Trial 75 finished with value: 0.6322377569361067 and parameters: {'reg_alpha': 0.02930193535268744, 'reg_lambda': 3.7375073640411824, 'colsample_bytree': 0.57027109755498, 'subsample': 0.7574290257520888, 'learning_rate': 0.00523242685380066, 'num_leaves': 29, 'min_child_samples': 84}. Best is trial 68 with value: 0.6303724169475509.\n"
     ]
    },
    {
     "name": "stdout",
     "output_type": "stream",
     "text": [
      "76\n"
     ]
    },
    {
     "name": "stderr",
     "output_type": "stream",
     "text": [
      "[I 2023-10-30 22:50:28,979] Trial 76 finished with value: 0.630712304506329 and parameters: {'reg_alpha': 0.05667235341269207, 'reg_lambda': 6.839175991463996, 'colsample_bytree': 0.5388555823306126, 'subsample': 0.718042107438908, 'learning_rate': 0.007517370629952142, 'num_leaves': 31, 'min_child_samples': 80}. Best is trial 68 with value: 0.6303724169475509.\n"
     ]
    },
    {
     "name": "stdout",
     "output_type": "stream",
     "text": [
      "77\n"
     ]
    },
    {
     "name": "stderr",
     "output_type": "stream",
     "text": [
      "[I 2023-10-30 22:50:33,580] Trial 77 finished with value: 0.6326047625124749 and parameters: {'reg_alpha': 0.0404053313122031, 'reg_lambda': 9.024235261244137, 'colsample_bytree': 0.5855801839021901, 'subsample': 0.6678406694893055, 'learning_rate': 0.007228622332338488, 'num_leaves': 32, 'min_child_samples': 94}. Best is trial 68 with value: 0.6303724169475509.\n"
     ]
    },
    {
     "name": "stdout",
     "output_type": "stream",
     "text": [
      "78\n"
     ]
    },
    {
     "name": "stderr",
     "output_type": "stream",
     "text": [
      "[I 2023-10-30 22:50:42,999] Trial 78 finished with value: 0.6320931402747023 and parameters: {'reg_alpha': 0.06893588135121151, 'reg_lambda': 4.927148708472098, 'colsample_bytree': 0.5556147648731574, 'subsample': 0.7135150390924382, 'learning_rate': 0.003442428551229314, 'num_leaves': 30, 'min_child_samples': 70}. Best is trial 68 with value: 0.6303724169475509.\n"
     ]
    },
    {
     "name": "stdout",
     "output_type": "stream",
     "text": [
      "79\n"
     ]
    },
    {
     "name": "stderr",
     "output_type": "stream",
     "text": [
      "[I 2023-10-30 22:50:57,763] Trial 79 finished with value: 0.6330613630555862 and parameters: {'reg_alpha': 0.04530548718691744, 'reg_lambda': 5.868381109586691, 'colsample_bytree': 0.5379052966618602, 'subsample': 0.7293170471738237, 'learning_rate': 0.0017535137160284435, 'num_leaves': 31, 'min_child_samples': 100}. Best is trial 68 with value: 0.6303724169475509.\n"
     ]
    },
    {
     "name": "stdout",
     "output_type": "stream",
     "text": [
      "80\n"
     ]
    },
    {
     "name": "stderr",
     "output_type": "stream",
     "text": [
      "[I 2023-10-30 22:51:01,264] Trial 80 finished with value: 0.6312306823212611 and parameters: {'reg_alpha': 0.09438253599187561, 'reg_lambda': 7.197319327914118, 'colsample_bytree': 0.5724451038505914, 'subsample': 0.6631142046704301, 'learning_rate': 0.0107351252971856, 'num_leaves': 29, 'min_child_samples': 84}. Best is trial 68 with value: 0.6303724169475509.\n"
     ]
    },
    {
     "name": "stdout",
     "output_type": "stream",
     "text": [
      "81\n"
     ]
    },
    {
     "name": "stderr",
     "output_type": "stream",
     "text": [
      "[I 2023-10-30 22:51:05,257] Trial 81 finished with value: 0.631199151622602 and parameters: {'reg_alpha': 0.02166786118496483, 'reg_lambda': 3.228739593087446, 'colsample_bytree': 0.5184145116887043, 'subsample': 0.7559216989355069, 'learning_rate': 0.00812507784186591, 'num_leaves': 26, 'min_child_samples': 80}. Best is trial 68 with value: 0.6303724169475509.\n"
     ]
    },
    {
     "name": "stdout",
     "output_type": "stream",
     "text": [
      "82\n"
     ]
    },
    {
     "name": "stderr",
     "output_type": "stream",
     "text": [
      "[I 2023-10-30 22:51:07,743] Trial 82 finished with value: 0.63198105118331 and parameters: {'reg_alpha': 0.05332379090976671, 'reg_lambda': 2.6570573963487405, 'colsample_bytree': 0.5322946678599039, 'subsample': 0.734752566857945, 'learning_rate': 0.016681676633502063, 'num_leaves': 28, 'min_child_samples': 78}. Best is trial 68 with value: 0.6303724169475509.\n"
     ]
    },
    {
     "name": "stdout",
     "output_type": "stream",
     "text": [
      "83\n"
     ]
    },
    {
     "name": "stderr",
     "output_type": "stream",
     "text": [
      "[I 2023-10-30 22:51:10,451] Trial 83 finished with value: 0.632378194472363 and parameters: {'reg_alpha': 0.015421490589395568, 'reg_lambda': 9.96683048845676, 'colsample_bytree': 0.5478457591534455, 'subsample': 0.7146898320806292, 'learning_rate': 0.014017095808555008, 'num_leaves': 27, 'min_child_samples': 81}. Best is trial 68 with value: 0.6303724169475509.\n"
     ]
    },
    {
     "name": "stdout",
     "output_type": "stream",
     "text": [
      "84\n"
     ]
    },
    {
     "name": "stderr",
     "output_type": "stream",
     "text": [
      "[I 2023-10-30 22:51:16,455] Trial 84 finished with value: 0.6318654459166012 and parameters: {'reg_alpha': 0.029313929446351857, 'reg_lambda': 4.947024730456007, 'colsample_bytree': 0.5157324872134201, 'subsample': 0.7808139988685342, 'learning_rate': 0.005617384540856285, 'num_leaves': 31, 'min_child_samples': 90}. Best is trial 68 with value: 0.6303724169475509.\n"
     ]
    },
    {
     "name": "stdout",
     "output_type": "stream",
     "text": [
      "85\n"
     ]
    },
    {
     "name": "stderr",
     "output_type": "stream",
     "text": [
      "[I 2023-10-30 22:51:20,093] Trial 85 finished with value: 0.6323221135399212 and parameters: {'reg_alpha': 0.018447722486724796, 'reg_lambda': 3.5446570096218926, 'colsample_bytree': 0.5964690905501352, 'subsample': 0.7535249044335676, 'learning_rate': 0.01027086922062526, 'num_leaves': 25, 'min_child_samples': 86}. Best is trial 68 with value: 0.6303724169475509.\n"
     ]
    },
    {
     "name": "stdout",
     "output_type": "stream",
     "text": [
      "86\n"
     ]
    },
    {
     "name": "stderr",
     "output_type": "stream",
     "text": [
      "[I 2023-10-30 22:51:24,690] Trial 86 finished with value: 0.6322047735418326 and parameters: {'reg_alpha': 0.006630787579698994, 'reg_lambda': 2.1626942057774126, 'colsample_bytree': 0.5321878003320996, 'subsample': 0.7054501745158402, 'learning_rate': 0.007461520840781516, 'num_leaves': 28, 'min_child_samples': 73}. Best is trial 68 with value: 0.6303724169475509.\n"
     ]
    },
    {
     "name": "stdout",
     "output_type": "stream",
     "text": [
      "87\n"
     ]
    },
    {
     "name": "stderr",
     "output_type": "stream",
     "text": [
      "[I 2023-10-30 22:51:33,495] Trial 87 finished with value: 0.6309088317176316 and parameters: {'reg_alpha': 0.014101178188105306, 'reg_lambda': 7.0659043728193724, 'colsample_bytree': 0.5630188388179473, 'subsample': 0.7887041143482951, 'learning_rate': 0.003865609870117692, 'num_leaves': 26, 'min_child_samples': 80}. Best is trial 68 with value: 0.6303724169475509.\n"
     ]
    },
    {
     "name": "stdout",
     "output_type": "stream",
     "text": [
      "88\n"
     ]
    },
    {
     "name": "stderr",
     "output_type": "stream",
     "text": [
      "[I 2023-10-30 22:51:43,878] Trial 88 finished with value: 0.632182557354656 and parameters: {'reg_alpha': 0.0013293126057433873, 'reg_lambda': 4.65526338089061, 'colsample_bytree': 0.5572155142306557, 'subsample': 0.7468147939097532, 'learning_rate': 0.0028453726800275908, 'num_leaves': 31, 'min_child_samples': 77}. Best is trial 68 with value: 0.6303724169475509.\n"
     ]
    },
    {
     "name": "stdout",
     "output_type": "stream",
     "text": [
      "89\n"
     ]
    },
    {
     "name": "stderr",
     "output_type": "stream",
     "text": [
      "[I 2023-10-30 22:51:52,698] Trial 89 finished with value: 0.6316648376426033 and parameters: {'reg_alpha': 0.022273017341356643, 'reg_lambda': 6.755588850413399, 'colsample_bytree': 0.5797088436558069, 'subsample': 0.7236030833775041, 'learning_rate': 0.003364240497290427, 'num_leaves': 26, 'min_child_samples': 82}. Best is trial 68 with value: 0.6303724169475509.\n"
     ]
    },
    {
     "name": "stdout",
     "output_type": "stream",
     "text": [
      "90\n"
     ]
    },
    {
     "name": "stderr",
     "output_type": "stream",
     "text": [
      "[I 2023-10-30 22:52:00,716] Trial 90 finished with value: 0.6318669073256218 and parameters: {'reg_alpha': 0.013379950508914475, 'reg_lambda': 8.034260722198997, 'colsample_bytree': 0.5684285689863268, 'subsample': 0.7866039934008521, 'learning_rate': 0.003995737686642153, 'num_leaves': 29, 'min_child_samples': 68}. Best is trial 68 with value: 0.6303724169475509.\n"
     ]
    },
    {
     "name": "stdout",
     "output_type": "stream",
     "text": [
      "91\n"
     ]
    },
    {
     "name": "stderr",
     "output_type": "stream",
     "text": [
      "[I 2023-10-30 22:52:06,771] Trial 91 finished with value: 0.6311233986316734 and parameters: {'reg_alpha': 0.010391550621616515, 'reg_lambda': 2.7144724832181915, 'colsample_bytree': 0.544547459037375, 'subsample': 0.7663610444967519, 'learning_rate': 0.005161320560250489, 'num_leaves': 24, 'min_child_samples': 79}. Best is trial 68 with value: 0.6303724169475509.\n"
     ]
    },
    {
     "name": "stdout",
     "output_type": "stream",
     "text": [
      "92\n"
     ]
    },
    {
     "name": "stderr",
     "output_type": "stream",
     "text": [
      "[I 2023-10-30 22:52:19,899] Trial 92 finished with value: 0.631649501463811 and parameters: {'reg_alpha': 0.025821350007691667, 'reg_lambda': 5.795597123193768, 'colsample_bytree': 0.5275605366575802, 'subsample': 0.8252375341007466, 'learning_rate': 0.00246322148298039, 'num_leaves': 27, 'min_child_samples': 71}. Best is trial 68 with value: 0.6303724169475509.\n"
     ]
    },
    {
     "name": "stdout",
     "output_type": "stream",
     "text": [
      "93\n"
     ]
    },
    {
     "name": "stderr",
     "output_type": "stream",
     "text": [
      "[I 2023-10-30 22:52:25,058] Trial 93 finished with value: 0.6317399741319302 and parameters: {'reg_alpha': 0.017447048904440963, 'reg_lambda': 3.780924824509799, 'colsample_bytree': 0.5114121277125405, 'subsample': 0.7334456907611558, 'learning_rate': 0.0062232779714530085, 'num_leaves': 25, 'min_child_samples': 86}. Best is trial 68 with value: 0.6303724169475509.\n"
     ]
    },
    {
     "name": "stdout",
     "output_type": "stream",
     "text": [
      "94\n"
     ]
    },
    {
     "name": "stderr",
     "output_type": "stream",
     "text": [
      "[I 2023-10-30 22:52:31,945] Trial 94 finished with value: 0.6304223285344721 and parameters: {'reg_alpha': 0.032325055892316414, 'reg_lambda': 5.098330442259922, 'colsample_bytree': 0.5131693342038224, 'subsample': 0.8026671073718097, 'learning_rate': 0.0047525540402367904, 'num_leaves': 25, 'min_child_samples': 80}. Best is trial 68 with value: 0.6303724169475509.\n"
     ]
    },
    {
     "name": "stdout",
     "output_type": "stream",
     "text": [
      "95\n"
     ]
    },
    {
     "name": "stderr",
     "output_type": "stream",
     "text": [
      "[I 2023-10-30 22:52:39,893] Trial 95 finished with value: 0.6308996425446984 and parameters: {'reg_alpha': 0.053401970945156384, 'reg_lambda': 6.669609795867496, 'colsample_bytree': 0.5412543326650324, 'subsample': 0.8043788082656906, 'learning_rate': 0.004492662696276901, 'num_leaves': 28, 'min_child_samples': 76}. Best is trial 68 with value: 0.6303724169475509.\n"
     ]
    },
    {
     "name": "stdout",
     "output_type": "stream",
     "text": [
      "96\n"
     ]
    },
    {
     "name": "stderr",
     "output_type": "stream",
     "text": [
      "[I 2023-10-30 22:52:48,387] Trial 96 finished with value: 0.6322994498449999 and parameters: {'reg_alpha': 0.05073886288701194, 'reg_lambda': 7.948709150736327, 'colsample_bytree': 0.5566431776201932, 'subsample': 0.79888451922718, 'learning_rate': 0.003910868489525685, 'num_leaves': 30, 'min_child_samples': 64}. Best is trial 68 with value: 0.6303724169475509.\n"
     ]
    },
    {
     "name": "stdout",
     "output_type": "stream",
     "text": [
      "97\n"
     ]
    },
    {
     "name": "stderr",
     "output_type": "stream",
     "text": [
      "[I 2023-10-30 22:52:55,372] Trial 97 finished with value: 0.6315390428506995 and parameters: {'reg_alpha': 0.03437151320503554, 'reg_lambda': 6.517359897077736, 'colsample_bytree': 0.5408685361112985, 'subsample': 0.8072658860689962, 'learning_rate': 0.004639306402980469, 'num_leaves': 28, 'min_child_samples': 83}. Best is trial 68 with value: 0.6303724169475509.\n"
     ]
    },
    {
     "name": "stdout",
     "output_type": "stream",
     "text": [
      "98\n"
     ]
    },
    {
     "name": "stderr",
     "output_type": "stream",
     "text": [
      "[I 2023-10-30 22:53:05,904] Trial 98 finished with value: 0.6317976880078653 and parameters: {'reg_alpha': 0.03276890673538459, 'reg_lambda': 5.058320837771387, 'colsample_bytree': 0.5177392854852241, 'subsample': 0.786629221196768, 'learning_rate': 0.0029686314843028225, 'num_leaves': 29, 'min_child_samples': 73}. Best is trial 68 with value: 0.6303724169475509.\n"
     ]
    },
    {
     "name": "stdout",
     "output_type": "stream",
     "text": [
      "99\n"
     ]
    },
    {
     "name": "stderr",
     "output_type": "stream",
     "text": [
      "[I 2023-10-30 22:53:12,567] Trial 99 finished with value: 0.6319416158240387 and parameters: {'reg_alpha': 0.03926420885664263, 'reg_lambda': 9.98013628143466, 'colsample_bytree': 0.5123166806261689, 'subsample': 0.8370122520184817, 'learning_rate': 0.004672024447500664, 'num_leaves': 28, 'min_child_samples': 89}. Best is trial 68 with value: 0.6303724169475509.\n"
     ]
    },
    {
     "name": "stdout",
     "output_type": "stream",
     "text": [
      "100\n"
     ]
    },
    {
     "name": "stderr",
     "output_type": "stream",
     "text": [
      "[I 2023-10-30 22:53:21,323] Trial 100 finished with value: 0.631892884539477 and parameters: {'reg_alpha': 0.059864108566926165, 'reg_lambda': 4.332299645711149, 'colsample_bytree': 0.6042775008714601, 'subsample': 0.849627364543991, 'learning_rate': 0.0035312466780669143, 'num_leaves': 32, 'min_child_samples': 76}. Best is trial 68 with value: 0.6303724169475509.\n"
     ]
    },
    {
     "name": "stdout",
     "output_type": "stream",
     "text": [
      "101\n"
     ]
    },
    {
     "name": "stderr",
     "output_type": "stream",
     "text": [
      "[I 2023-10-30 22:53:26,528] Trial 101 finished with value: 0.6306064223457496 and parameters: {'reg_alpha': 0.02392253134202938, 'reg_lambda': 6.101534034909893, 'colsample_bytree': 0.5282959116950531, 'subsample': 0.7737658357509277, 'learning_rate': 0.006712565118638772, 'num_leaves': 26, 'min_child_samples': 80}. Best is trial 68 with value: 0.6303724169475509.\n"
     ]
    },
    {
     "name": "stdout",
     "output_type": "stream",
     "text": [
      "102\n"
     ]
    },
    {
     "name": "stderr",
     "output_type": "stream",
     "text": [
      "[I 2023-10-30 22:53:31,258] Trial 102 finished with value: 0.631153152341465 and parameters: {'reg_alpha': 0.027001485880993076, 'reg_lambda': 6.181336253237417, 'colsample_bytree': 0.5504707822906936, 'subsample': 0.8234869867012534, 'learning_rate': 0.0069088431985486415, 'num_leaves': 27, 'min_child_samples': 80}. Best is trial 68 with value: 0.6303724169475509.\n"
     ]
    },
    {
     "name": "stdout",
     "output_type": "stream",
     "text": [
      "103\n"
     ]
    },
    {
     "name": "stderr",
     "output_type": "stream",
     "text": [
      "[I 2023-10-30 22:53:36,388] Trial 103 finished with value: 0.6323774891626621 and parameters: {'reg_alpha': 0.021838081956546875, 'reg_lambda': 7.38788998620841, 'colsample_bytree': 0.5409544310903439, 'subsample': 0.8052274569792821, 'learning_rate': 0.005810621837379763, 'num_leaves': 26, 'min_child_samples': 83}. Best is trial 68 with value: 0.6303724169475509.\n"
     ]
    },
    {
     "name": "stdout",
     "output_type": "stream",
     "text": [
      "104\n"
     ]
    },
    {
     "name": "stderr",
     "output_type": "stream",
     "text": [
      "[I 2023-10-30 22:53:44,184] Trial 104 finished with value: 0.63102246495918 and parameters: {'reg_alpha': 0.042246702686902886, 'reg_lambda': 5.322015098183713, 'colsample_bytree': 0.5641673268948788, 'subsample': 0.7756183542777829, 'learning_rate': 0.004249306183023634, 'num_leaves': 26, 'min_child_samples': 75}. Best is trial 68 with value: 0.6303724169475509.\n"
     ]
    },
    {
     "name": "stdout",
     "output_type": "stream",
     "text": [
      "105\n"
     ]
    },
    {
     "name": "stderr",
     "output_type": "stream",
     "text": [
      "[I 2023-10-30 22:53:51,411] Trial 105 finished with value: 0.6324378932616695 and parameters: {'reg_alpha': 0.07938519488015228, 'reg_lambda': 3.677098579410056, 'colsample_bytree': 0.5103669526876573, 'subsample': 0.7629538234925369, 'learning_rate': 0.005231641948351383, 'num_leaves': 24, 'min_child_samples': 31}. Best is trial 68 with value: 0.6303724169475509.\n"
     ]
    },
    {
     "name": "stdout",
     "output_type": "stream",
     "text": [
      "106\n"
     ]
    },
    {
     "name": "stderr",
     "output_type": "stream",
     "text": [
      "[I 2023-10-30 22:54:00,518] Trial 106 finished with value: 0.6319409174671984 and parameters: {'reg_alpha': 0.01806658436132661, 'reg_lambda': 4.494951393832418, 'colsample_bytree': 0.5324875303345813, 'subsample': 0.7914881032066118, 'learning_rate': 0.003113950670517303, 'num_leaves': 27, 'min_child_samples': 87}. Best is trial 68 with value: 0.6303724169475509.\n"
     ]
    },
    {
     "name": "stdout",
     "output_type": "stream",
     "text": [
      "107\n"
     ]
    },
    {
     "name": "stderr",
     "output_type": "stream",
     "text": [
      "[I 2023-10-30 22:54:04,982] Trial 107 finished with value: 0.6307969868051435 and parameters: {'reg_alpha': 0.03263440699282185, 'reg_lambda': 2.621784103137717, 'colsample_bytree': 0.5255321552440614, 'subsample': 0.7434811684861765, 'learning_rate': 0.007614531919032229, 'num_leaves': 30, 'min_child_samples': 80}. Best is trial 68 with value: 0.6303724169475509.\n"
     ]
    },
    {
     "name": "stdout",
     "output_type": "stream",
     "text": [
      "108\n"
     ]
    },
    {
     "name": "stderr",
     "output_type": "stream",
     "text": [
      "[I 2023-10-30 22:54:09,317] Trial 108 finished with value: 0.6325467538652833 and parameters: {'reg_alpha': 0.03457385775042338, 'reg_lambda': 2.532654542671776, 'colsample_bytree': 0.5179567745008884, 'subsample': 0.7212095889100749, 'learning_rate': 0.007902820793313139, 'num_leaves': 30, 'min_child_samples': 69}. Best is trial 68 with value: 0.6303724169475509.\n"
     ]
    },
    {
     "name": "stdout",
     "output_type": "stream",
     "text": [
      "109\n"
     ]
    },
    {
     "name": "stderr",
     "output_type": "stream",
     "text": [
      "[I 2023-10-30 22:54:14,580] Trial 109 finished with value: 0.6314666165947939 and parameters: {'reg_alpha': 0.003031804273269899, 'reg_lambda': 1.7853218867923952, 'colsample_bytree': 0.526378604810868, 'subsample': 0.7494306037146543, 'learning_rate': 0.006840007664996505, 'num_leaves': 29, 'min_child_samples': 73}. Best is trial 68 with value: 0.6303724169475509.\n"
     ]
    },
    {
     "name": "stdout",
     "output_type": "stream",
     "text": [
      "110\n"
     ]
    },
    {
     "name": "stderr",
     "output_type": "stream",
     "text": [
      "[I 2023-10-30 22:54:18,534] Trial 110 finished with value: 0.6306682229260818 and parameters: {'reg_alpha': 0.002108339480892458, 'reg_lambda': 2.7405525601006873, 'colsample_bytree': 0.5419326633477896, 'subsample': 0.7399560276800929, 'learning_rate': 0.009284573054568104, 'num_leaves': 32, 'min_child_samples': 78}. Best is trial 68 with value: 0.6303724169475509.\n"
     ]
    },
    {
     "name": "stdout",
     "output_type": "stream",
     "text": [
      "111\n"
     ]
    },
    {
     "name": "stderr",
     "output_type": "stream",
     "text": [
      "[I 2023-10-30 22:54:21,859] Trial 111 finished with value: 0.6315938475905281 and parameters: {'reg_alpha': 0.0013177836366777428, 'reg_lambda': 3.047413078357044, 'colsample_bytree': 0.5405396585349065, 'subsample': 0.7524518501532503, 'learning_rate': 0.009970797365435307, 'num_leaves': 32, 'min_child_samples': 78}. Best is trial 68 with value: 0.6303724169475509.\n"
     ]
    },
    {
     "name": "stdout",
     "output_type": "stream",
     "text": [
      "112\n"
     ]
    },
    {
     "name": "stderr",
     "output_type": "stream",
     "text": [
      "[I 2023-10-30 22:54:24,746] Trial 112 finished with value: 0.6314723891572509 and parameters: {'reg_alpha': 0.0016630957356497014, 'reg_lambda': 2.1311696201390937, 'colsample_bytree': 0.5101557134034986, 'subsample': 0.7400754866683396, 'learning_rate': 0.01228912084648871, 'num_leaves': 31, 'min_child_samples': 85}. Best is trial 68 with value: 0.6303724169475509.\n"
     ]
    },
    {
     "name": "stdout",
     "output_type": "stream",
     "text": [
      "113\n"
     ]
    },
    {
     "name": "stderr",
     "output_type": "stream",
     "text": [
      "[I 2023-10-30 22:54:29,765] Trial 113 finished with value: 0.632726282814361 and parameters: {'reg_alpha': 0.02535453433373241, 'reg_lambda': 3.5580057644799368, 'colsample_bytree': 0.5487664527796813, 'subsample': 0.762888835106854, 'learning_rate': 0.005971810160358183, 'num_leaves': 31, 'min_child_samples': 82}. Best is trial 68 with value: 0.6303724169475509.\n"
     ]
    },
    {
     "name": "stdout",
     "output_type": "stream",
     "text": [
      "114\n"
     ]
    },
    {
     "name": "stderr",
     "output_type": "stream",
     "text": [
      "[I 2023-10-30 22:54:34,048] Trial 114 finished with value: 0.630907981065334 and parameters: {'reg_alpha': 0.00228694900003429, 'reg_lambda': 1.3821974144082934, 'colsample_bytree': 0.525053624777287, 'subsample': 0.7442966463364306, 'learning_rate': 0.008972219440181829, 'num_leaves': 30, 'min_child_samples': 72}. Best is trial 68 with value: 0.6303724169475509.\n"
     ]
    },
    {
     "name": "stdout",
     "output_type": "stream",
     "text": [
      "115\n"
     ]
    },
    {
     "name": "stderr",
     "output_type": "stream",
     "text": [
      "[I 2023-10-30 22:54:38,524] Trial 115 finished with value: 0.63125960692682 and parameters: {'reg_alpha': 0.002045852927660884, 'reg_lambda': 5.441334963340338, 'colsample_bytree': 0.5325219264559968, 'subsample': 0.7239394119507478, 'learning_rate': 0.007521925921479437, 'num_leaves': 32, 'min_child_samples': 76}. Best is trial 68 with value: 0.6303724169475509.\n"
     ]
    },
    {
     "name": "stdout",
     "output_type": "stream",
     "text": [
      "116\n"
     ]
    },
    {
     "name": "stderr",
     "output_type": "stream",
     "text": [
      "[I 2023-10-30 22:54:45,011] Trial 116 finished with value: 0.631330201221388 and parameters: {'reg_alpha': 0.06094034830412167, 'reg_lambda': 2.671753225622102, 'colsample_bytree': 0.5811941120902998, 'subsample': 0.6994544756919898, 'learning_rate': 0.004788391030277945, 'num_leaves': 28, 'min_child_samples': 79}. Best is trial 68 with value: 0.6303724169475509.\n"
     ]
    },
    {
     "name": "stdout",
     "output_type": "stream",
     "text": [
      "117\n"
     ]
    },
    {
     "name": "stderr",
     "output_type": "stream",
     "text": [
      "[I 2023-10-30 22:54:48,231] Trial 117 finished with value: 0.631138496381152 and parameters: {'reg_alpha': 0.0010129816052589088, 'reg_lambda': 4.072574834832797, 'colsample_bytree': 0.5093473021054068, 'subsample': 0.7363832653713103, 'learning_rate': 0.011307928949613372, 'num_leaves': 30, 'min_child_samples': 84}. Best is trial 68 with value: 0.6303724169475509.\n"
     ]
    },
    {
     "name": "stdout",
     "output_type": "stream",
     "text": [
      "118\n"
     ]
    },
    {
     "name": "stderr",
     "output_type": "stream",
     "text": [
      "[I 2023-10-30 22:54:52,277] Trial 118 finished with value: 0.6320592374919256 and parameters: {'reg_alpha': 0.0014701793174677566, 'reg_lambda': 1.8233190042493153, 'colsample_bytree': 0.55597101796772, 'subsample': 0.7767385429379139, 'learning_rate': 0.008559650729490803, 'num_leaves': 29, 'min_child_samples': 81}. Best is trial 68 with value: 0.6303724169475509.\n"
     ]
    },
    {
     "name": "stdout",
     "output_type": "stream",
     "text": [
      "119\n"
     ]
    },
    {
     "name": "stderr",
     "output_type": "stream",
     "text": [
      "[I 2023-10-30 22:54:57,116] Trial 119 finished with value: 0.631264378288039 and parameters: {'reg_alpha': 0.0011735360148707804, 'reg_lambda': 8.298998828417675, 'colsample_bytree': 0.5004184574240336, 'subsample': 0.7103936223248566, 'learning_rate': 0.006766894013927964, 'num_leaves': 25, 'min_child_samples': 75}. Best is trial 68 with value: 0.6303724169475509.\n"
     ]
    },
    {
     "name": "stdout",
     "output_type": "stream",
     "text": [
      "120\n"
     ]
    },
    {
     "name": "stderr",
     "output_type": "stream",
     "text": [
      "[I 2023-10-30 22:55:03,185] Trial 120 finished with value: 0.631631633026867 and parameters: {'reg_alpha': 0.04429094923558833, 'reg_lambda': 3.082109468522214, 'colsample_bytree': 0.5708636513544842, 'subsample': 0.758899199863839, 'learning_rate': 0.005758352929460282, 'num_leaves': 28, 'min_child_samples': 79}. Best is trial 68 with value: 0.6303724169475509.\n"
     ]
    },
    {
     "name": "stdout",
     "output_type": "stream",
     "text": [
      "121\n"
     ]
    },
    {
     "name": "stderr",
     "output_type": "stream",
     "text": [
      "[I 2023-10-30 22:55:06,952] Trial 121 finished with value: 0.6321518253707662 and parameters: {'reg_alpha': 0.0021235120229031873, 'reg_lambda': 1.4049758313970255, 'colsample_bytree': 0.5241778464534416, 'subsample': 0.7420869384307146, 'learning_rate': 0.009573512260740078, 'num_leaves': 31, 'min_child_samples': 71}. Best is trial 68 with value: 0.6303724169475509.\n"
     ]
    },
    {
     "name": "stdout",
     "output_type": "stream",
     "text": [
      "122\n"
     ]
    },
    {
     "name": "stderr",
     "output_type": "stream",
     "text": [
      "[I 2023-10-30 22:55:11,394] Trial 122 finished with value: 0.6308118184335209 and parameters: {'reg_alpha': 0.0024386245225424554, 'reg_lambda': 2.3051816414634305, 'colsample_bytree': 0.5253706380863647, 'subsample': 0.74933592105713, 'learning_rate': 0.008367802781765389, 'num_leaves': 30, 'min_child_samples': 77}. Best is trial 68 with value: 0.6303724169475509.\n"
     ]
    },
    {
     "name": "stdout",
     "output_type": "stream",
     "text": [
      "123\n"
     ]
    },
    {
     "name": "stderr",
     "output_type": "stream",
     "text": [
      "[I 2023-10-30 22:55:15,949] Trial 123 finished with value: 0.63145272122762 and parameters: {'reg_alpha': 0.00279078852232008, 'reg_lambda': 4.655701524907742, 'colsample_bytree': 0.5386282836909261, 'subsample': 0.7706587421492485, 'learning_rate': 0.007838531752759212, 'num_leaves': 27, 'min_child_samples': 77}. Best is trial 68 with value: 0.6303724169475509.\n"
     ]
    },
    {
     "name": "stdout",
     "output_type": "stream",
     "text": [
      "124\n"
     ]
    },
    {
     "name": "stderr",
     "output_type": "stream",
     "text": [
      "[I 2023-10-30 22:55:18,752] Trial 124 finished with value: 0.6317485308774544 and parameters: {'reg_alpha': 0.0013862839708800182, 'reg_lambda': 2.334217875520814, 'colsample_bytree': 0.5209229899944644, 'subsample': 0.7236630169928518, 'learning_rate': 0.013993627938915456, 'num_leaves': 30, 'min_child_samples': 81}. Best is trial 68 with value: 0.6303724169475509.\n"
     ]
    },
    {
     "name": "stdout",
     "output_type": "stream",
     "text": [
      "125\n"
     ]
    },
    {
     "name": "stderr",
     "output_type": "stream",
     "text": [
      "[I 2023-10-30 22:55:24,913] Trial 125 finished with value: 0.6314924811680961 and parameters: {'reg_alpha': 0.0019090779102331873, 'reg_lambda': 5.766509518493923, 'colsample_bytree': 0.5461289228861504, 'subsample': 0.7505431965928502, 'learning_rate': 0.005296263027196105, 'num_leaves': 29, 'min_child_samples': 83}. Best is trial 68 with value: 0.6303724169475509.\n"
     ]
    },
    {
     "name": "stdout",
     "output_type": "stream",
     "text": [
      "126\n"
     ]
    },
    {
     "name": "stderr",
     "output_type": "stream",
     "text": [
      "[I 2023-10-30 22:55:28,295] Trial 126 finished with value: 0.6317923962540768 and parameters: {'reg_alpha': 0.004541882803600065, 'reg_lambda': 1.6729568924187956, 'colsample_bytree': 0.5359537022365927, 'subsample': 0.7323586532017575, 'learning_rate': 0.011517535481737297, 'num_leaves': 32, 'min_child_samples': 74}. Best is trial 68 with value: 0.6303724169475509.\n"
     ]
    },
    {
     "name": "stdout",
     "output_type": "stream",
     "text": [
      "127\n"
     ]
    },
    {
     "name": "stderr",
     "output_type": "stream",
     "text": [
      "[I 2023-10-30 22:55:35,657] Trial 127 finished with value: 0.6310671333064944 and parameters: {'reg_alpha': 0.003932639380489645, 'reg_lambda': 3.4642587460845298, 'colsample_bytree': 0.5002730554443862, 'subsample': 0.7818469479512189, 'learning_rate': 0.004308357248003251, 'num_leaves': 23, 'min_child_samples': 77}. Best is trial 68 with value: 0.6303724169475509.\n"
     ]
    },
    {
     "name": "stdout",
     "output_type": "stream",
     "text": [
      "128\n"
     ]
    },
    {
     "name": "stderr",
     "output_type": "stream",
     "text": [
      "[I 2023-10-30 22:55:40,458] Trial 128 finished with value: 0.6325032272752754 and parameters: {'reg_alpha': 0.0015965594943761585, 'reg_lambda': 4.101950583143071, 'colsample_bytree': 0.5126475496483475, 'subsample': 0.7979497741250253, 'learning_rate': 0.006446532191897073, 'num_leaves': 12, 'min_child_samples': 94}. Best is trial 68 with value: 0.6303724169475509.\n"
     ]
    },
    {
     "name": "stdout",
     "output_type": "stream",
     "text": [
      "129\n"
     ]
    },
    {
     "name": "stderr",
     "output_type": "stream",
     "text": [
      "[I 2023-10-30 22:55:44,402] Trial 129 finished with value: 0.6333199072311045 and parameters: {'reg_alpha': 0.00243310198987858, 'reg_lambda': 6.572364587867475, 'colsample_bytree': 0.5578847975079844, 'subsample': 0.7658199491762374, 'learning_rate': 0.010197263434433874, 'num_leaves': 28, 'min_child_samples': 86}. Best is trial 68 with value: 0.6303724169475509.\n"
     ]
    },
    {
     "name": "stdout",
     "output_type": "stream",
     "text": [
      "130\n"
     ]
    },
    {
     "name": "stderr",
     "output_type": "stream",
     "text": [
      "[I 2023-10-30 22:55:47,175] Trial 130 finished with value: 0.6307333055150938 and parameters: {'reg_alpha': 0.007207733566618051, 'reg_lambda': 2.617805172943874, 'colsample_bytree': 0.5320278123310563, 'subsample': 0.7186436826621406, 'learning_rate': 0.015644697436101907, 'num_leaves': 31, 'min_child_samples': 79}. Best is trial 68 with value: 0.6303724169475509.\n"
     ]
    },
    {
     "name": "stdout",
     "output_type": "stream",
     "text": [
      "131\n"
     ]
    },
    {
     "name": "stderr",
     "output_type": "stream",
     "text": [
      "[I 2023-10-30 22:55:49,940] Trial 131 finished with value: 0.6315825862687168 and parameters: {'reg_alpha': 0.009350951974757233, 'reg_lambda': 2.833642528268849, 'colsample_bytree': 0.5297201864071067, 'subsample': 0.7167586807289728, 'learning_rate': 0.015790675258512004, 'num_leaves': 31, 'min_child_samples': 79}. Best is trial 68 with value: 0.6303724169475509.\n"
     ]
    },
    {
     "name": "stdout",
     "output_type": "stream",
     "text": [
      "132\n"
     ]
    },
    {
     "name": "stderr",
     "output_type": "stream",
     "text": [
      "[I 2023-10-30 22:55:51,991] Trial 132 finished with value: 0.6319544153556654 and parameters: {'reg_alpha': 0.006751341009019916, 'reg_lambda': 1.954661913141201, 'colsample_bytree': 0.5217971382888866, 'subsample': 0.7335031383824859, 'learning_rate': 0.020130559320794324, 'num_leaves': 30, 'min_child_samples': 81}. Best is trial 68 with value: 0.6303724169475509.\n"
     ]
    },
    {
     "name": "stdout",
     "output_type": "stream",
     "text": [
      "133\n"
     ]
    },
    {
     "name": "stderr",
     "output_type": "stream",
     "text": [
      "[I 2023-10-30 22:55:54,982] Trial 133 finished with value: 0.6320269330744076 and parameters: {'reg_alpha': 0.00769652047661778, 'reg_lambda': 4.986209086598, 'colsample_bytree': 0.5479033915845382, 'subsample': 0.7039969697501862, 'learning_rate': 0.012611748634246852, 'num_leaves': 29, 'min_child_samples': 76}. Best is trial 68 with value: 0.6303724169475509.\n"
     ]
    },
    {
     "name": "stdout",
     "output_type": "stream",
     "text": [
      "134\n"
     ]
    },
    {
     "name": "stderr",
     "output_type": "stream",
     "text": [
      "[I 2023-10-30 22:55:59,143] Trial 134 finished with value: 0.6319499169488281 and parameters: {'reg_alpha': 0.0033195518239297413, 'reg_lambda': 2.430536982899652, 'colsample_bytree': 0.5380023939790702, 'subsample': 0.7566050559258091, 'learning_rate': 0.00868421253610833, 'num_leaves': 32, 'min_child_samples': 84}. Best is trial 68 with value: 0.6303724169475509.\n"
     ]
    },
    {
     "name": "stdout",
     "output_type": "stream",
     "text": [
      "135\n"
     ]
    },
    {
     "name": "stderr",
     "output_type": "stream",
     "text": [
      "[I 2023-10-30 22:56:03,470] Trial 135 finished with value: 0.6328632520535291 and parameters: {'reg_alpha': 0.032019026327188935, 'reg_lambda': 3.602958203306737, 'colsample_bytree': 0.512166803411764, 'subsample': 0.9880208461924714, 'learning_rate': 0.007376349619303854, 'num_leaves': 25, 'min_child_samples': 88}. Best is trial 68 with value: 0.6303724169475509.\n"
     ]
    },
    {
     "name": "stdout",
     "output_type": "stream",
     "text": [
      "136\n"
     ]
    },
    {
     "name": "stderr",
     "output_type": "stream",
     "text": [
      "[I 2023-10-30 22:56:13,862] Trial 136 finished with value: 0.6354664892629351 and parameters: {'reg_alpha': 0.020295355172840545, 'reg_lambda': 1.2139448611682981, 'colsample_bytree': 0.5696574417347666, 'subsample': 0.695831077480879, 'learning_rate': 0.0049184754003885256, 'num_leaves': 31, 'min_child_samples': 5}. Best is trial 68 with value: 0.6303724169475509.\n"
     ]
    },
    {
     "name": "stdout",
     "output_type": "stream",
     "text": [
      "137\n"
     ]
    },
    {
     "name": "stderr",
     "output_type": "stream",
     "text": [
      "[I 2023-10-30 22:56:16,300] Trial 137 finished with value: 0.6327722835069238 and parameters: {'reg_alpha': 0.01198602293548769, 'reg_lambda': 8.331546591137483, 'colsample_bytree': 0.553819710239899, 'subsample': 0.7087037211951582, 'learning_rate': 0.01889749587350198, 'num_leaves': 26, 'min_child_samples': 78}. Best is trial 68 with value: 0.6303724169475509.\n"
     ]
    },
    {
     "name": "stdout",
     "output_type": "stream",
     "text": [
      "138\n"
     ]
    },
    {
     "name": "stderr",
     "output_type": "stream",
     "text": [
      "[I 2023-10-30 22:56:21,864] Trial 138 finished with value: 0.6308826430150626 and parameters: {'reg_alpha': 0.004857556296917324, 'reg_lambda': 0.38104186108102656, 'colsample_bytree': 0.5272820644216609, 'subsample': 0.7418194204273667, 'learning_rate': 0.0060596174079531, 'num_leaves': 27, 'min_child_samples': 81}. Best is trial 68 with value: 0.6303724169475509.\n"
     ]
    },
    {
     "name": "stdout",
     "output_type": "stream",
     "text": [
      "139\n"
     ]
    },
    {
     "name": "stderr",
     "output_type": "stream",
     "text": [
      "[I 2023-10-30 22:56:26,767] Trial 139 finished with value: 0.6325946307941354 and parameters: {'reg_alpha': 0.005392598619304772, 'reg_lambda': 1.546124018979504, 'colsample_bytree': 0.5281838232926092, 'subsample': 0.7464688782862985, 'learning_rate': 0.0059367358804200115, 'num_leaves': 27, 'min_child_samples': 83}. Best is trial 68 with value: 0.6303724169475509.\n"
     ]
    },
    {
     "name": "stdout",
     "output_type": "stream",
     "text": [
      "140\n"
     ]
    },
    {
     "name": "stderr",
     "output_type": "stream",
     "text": [
      "[I 2023-10-30 22:56:28,677] Trial 140 finished with value: 0.6340031590111441 and parameters: {'reg_alpha': 0.015641674018074387, 'reg_lambda': 0.34806762142088404, 'colsample_bytree': 0.5172661241444149, 'subsample': 0.7219212943614138, 'learning_rate': 0.022166244498566478, 'num_leaves': 24, 'min_child_samples': 51}. Best is trial 68 with value: 0.6303724169475509.\n"
     ]
    },
    {
     "name": "stdout",
     "output_type": "stream",
     "text": [
      "141\n"
     ]
    },
    {
     "name": "stderr",
     "output_type": "stream",
     "text": [
      "[I 2023-10-30 22:56:33,926] Trial 141 finished with value: 0.6319457727131264 and parameters: {'reg_alpha': 0.05019530308272684, 'reg_lambda': 0.5911952315122865, 'colsample_bytree': 0.542619555279303, 'subsample': 0.8695102210391044, 'learning_rate': 0.006821338688175373, 'num_leaves': 27, 'min_child_samples': 74}. Best is trial 68 with value: 0.6303724169475509.\n"
     ]
    },
    {
     "name": "stdout",
     "output_type": "stream",
     "text": [
      "142\n"
     ]
    },
    {
     "name": "stderr",
     "output_type": "stream",
     "text": [
      "[I 2023-10-30 22:56:42,223] Trial 142 finished with value: 0.6307322222855383 and parameters: {'reg_alpha': 0.008582807887022028, 'reg_lambda': 0.2331302105694267, 'colsample_bytree': 0.5087980766671313, 'subsample': 0.7402351700969826, 'learning_rate': 0.003766638135585323, 'num_leaves': 28, 'min_child_samples': 80}. Best is trial 68 with value: 0.6303724169475509.\n"
     ]
    },
    {
     "name": "stdout",
     "output_type": "stream",
     "text": [
      "143\n"
     ]
    },
    {
     "name": "stderr",
     "output_type": "stream",
     "text": [
      "[I 2023-10-30 22:56:50,302] Trial 143 finished with value: 0.6316428561641422 and parameters: {'reg_alpha': 0.005887180041064333, 'reg_lambda': 0.22862809476964852, 'colsample_bytree': 0.51320768454675, 'subsample': 0.732630007639589, 'learning_rate': 0.00362330779918253, 'num_leaves': 30, 'min_child_samples': 81}. Best is trial 68 with value: 0.6303724169475509.\n"
     ]
    },
    {
     "name": "stdout",
     "output_type": "stream",
     "text": [
      "144\n"
     ]
    },
    {
     "name": "stderr",
     "output_type": "stream",
     "text": [
      "[I 2023-10-30 22:56:54,289] Trial 144 finished with value: 0.6303649622938383 and parameters: {'reg_alpha': 0.007539402314662852, 'reg_lambda': 0.15140381754812257, 'colsample_bytree': 0.5057107597638524, 'subsample': 0.7404104968666735, 'learning_rate': 0.00873436497536343, 'num_leaves': 29, 'min_child_samples': 79}. Best is trial 144 with value: 0.6303649622938383.\n"
     ]
    },
    {
     "name": "stdout",
     "output_type": "stream",
     "text": [
      "145\n"
     ]
    },
    {
     "name": "stderr",
     "output_type": "stream",
     "text": [
      "[I 2023-10-30 22:56:58,124] Trial 145 finished with value: 0.6302262436310924 and parameters: {'reg_alpha': 0.009527830464212851, 'reg_lambda': 0.16462928814142544, 'colsample_bytree': 0.5075400996740442, 'subsample': 0.7500390903990137, 'learning_rate': 0.008759700851646507, 'num_leaves': 29, 'min_child_samples': 79}. Best is trial 145 with value: 0.6302262436310924.\n"
     ]
    },
    {
     "name": "stdout",
     "output_type": "stream",
     "text": [
      "146\n"
     ]
    },
    {
     "name": "stderr",
     "output_type": "stream",
     "text": [
      "[I 2023-10-30 22:57:02,006] Trial 146 finished with value: 0.6308284244466158 and parameters: {'reg_alpha': 0.00827191652753006, 'reg_lambda': 0.20944013015347487, 'colsample_bytree': 0.5026449543895658, 'subsample': 0.6879247125952721, 'learning_rate': 0.009089077705291465, 'num_leaves': 31, 'min_child_samples': 85}. Best is trial 145 with value: 0.6302262436310924.\n"
     ]
    },
    {
     "name": "stdout",
     "output_type": "stream",
     "text": [
      "147\n"
     ]
    },
    {
     "name": "stderr",
     "output_type": "stream",
     "text": [
      "[I 2023-10-30 22:57:05,203] Trial 147 finished with value: 0.6313232767451075 and parameters: {'reg_alpha': 0.01025078241750397, 'reg_lambda': 0.06393374043647086, 'colsample_bytree': 0.5094978370418894, 'subsample': 0.717260887853642, 'learning_rate': 0.011361826253987104, 'num_leaves': 29, 'min_child_samples': 78}. Best is trial 145 with value: 0.6302262436310924.\n"
     ]
    },
    {
     "name": "stdout",
     "output_type": "stream",
     "text": [
      "148\n"
     ]
    },
    {
     "name": "stderr",
     "output_type": "stream",
     "text": [
      "[I 2023-10-30 22:57:08,092] Trial 148 finished with value: 0.6309855997317421 and parameters: {'reg_alpha': 0.007071152456605964, 'reg_lambda': 0.11528083377766558, 'colsample_bytree': 0.5172716006152401, 'subsample': 0.7749368470645814, 'learning_rate': 0.014032976303223787, 'num_leaves': 25, 'min_child_samples': 72}. Best is trial 145 with value: 0.6302262436310924.\n"
     ]
    },
    {
     "name": "stdout",
     "output_type": "stream",
     "text": [
      "149\n"
     ]
    },
    {
     "name": "stderr",
     "output_type": "stream",
     "text": [
      "[I 2023-10-30 22:57:12,244] Trial 149 finished with value: 0.6305678095271514 and parameters: {'reg_alpha': 0.00880396674419444, 'reg_lambda': 0.15945582829775193, 'colsample_bytree': 0.5077909031691371, 'subsample': 0.750013350909915, 'learning_rate': 0.008092277845598236, 'num_leaves': 30, 'min_child_samples': 79}. Best is trial 145 with value: 0.6302262436310924.\n"
     ]
    }
   ],
   "source": [
    "if cnfg.use_optuna_tuning:\n",
    "    study = optuna.create_study(\n",
    "        direction=\"minimize\", study_name=\"Optimize boosting hyperparameters\"\n",
    "    )\n",
    "    study.optimize(\n",
    "        lambda trial: objective(trial, train_feats), n_trials=cnfg.num_trials_optuna\n",
    "    )"
   ]
  },
  {
   "cell_type": "code",
   "execution_count": 32,
   "id": "95bb6912-e1c2-4c01-86f8-d6798c1311ac",
   "metadata": {
    "execution": {
     "iopub.execute_input": "2023-10-30T21:57:12.248325Z",
     "iopub.status.busy": "2023-10-30T21:57:12.247934Z",
     "iopub.status.idle": "2023-10-30T21:57:12.251606Z",
     "shell.execute_reply": "2023-10-30T21:57:12.251185Z",
     "shell.execute_reply.started": "2023-10-30T21:57:12.248284Z"
    },
    "papermill": {
     "duration": 0.027034,
     "end_time": "2023-10-24T19:15:40.674798",
     "exception": false,
     "start_time": "2023-10-24T19:15:40.647764",
     "status": "completed"
    },
    "tags": []
   },
   "outputs": [
    {
     "name": "stdout",
     "output_type": "stream",
     "text": [
      "Best trial: {'reg_alpha': 0.009527830464212851, 'reg_lambda': 0.16462928814142544, 'colsample_bytree': 0.5075400996740442, 'subsample': 0.7500390903990137, 'learning_rate': 0.008759700851646507, 'num_leaves': 29, 'min_child_samples': 79}\n"
     ]
    }
   ],
   "source": [
    "if cnfg.use_optuna_tuning:\n",
    "    print(\"Best trial:\", study.best_trial.params)"
   ]
  },
  {
   "cell_type": "code",
   "execution_count": 33,
   "id": "25a34b05-e7ec-47c9-9565-327f1dbb41d1",
   "metadata": {
    "execution": {
     "iopub.execute_input": "2023-10-30T21:57:12.252730Z",
     "iopub.status.busy": "2023-10-30T21:57:12.252350Z",
     "iopub.status.idle": "2023-10-30T21:57:12.278001Z",
     "shell.execute_reply": "2023-10-30T21:57:12.277488Z",
     "shell.execute_reply.started": "2023-10-30T21:57:12.252708Z"
    }
   },
   "outputs": [
    {
     "data": {
      "text/html": [
       "<div>\n",
       "<style scoped>\n",
       "    .dataframe tbody tr th:only-of-type {\n",
       "        vertical-align: middle;\n",
       "    }\n",
       "\n",
       "    .dataframe tbody tr th {\n",
       "        vertical-align: top;\n",
       "    }\n",
       "\n",
       "    .dataframe thead th {\n",
       "        text-align: right;\n",
       "    }\n",
       "</style>\n",
       "<table border=\"1\" class=\"dataframe\">\n",
       "  <thead>\n",
       "    <tr style=\"text-align: right;\">\n",
       "      <th></th>\n",
       "      <th>id</th>\n",
       "      <th>total_time_taken</th>\n",
       "      <th>total_idle_time</th>\n",
       "      <th>total_word_count</th>\n",
       "      <th>max_cursor_position</th>\n",
       "      <th>num_events</th>\n",
       "      <th>total_type_of_activities</th>\n",
       "      <th>speed_of_activity</th>\n",
       "      <th>speed_of_writing</th>\n",
       "      <th>events_per_word</th>\n",
       "      <th>...</th>\n",
       "      <th>words_of_len_4_share</th>\n",
       "      <th>words_of_len_5_share</th>\n",
       "      <th>words_of_len_6_share</th>\n",
       "      <th>words_of_len_7_share</th>\n",
       "      <th>words_of_len_8_share</th>\n",
       "      <th>words_of_len_9_share</th>\n",
       "      <th>words_of_len_10_share</th>\n",
       "      <th>words_of_len_more_than_10_share</th>\n",
       "      <th>score</th>\n",
       "      <th>fold</th>\n",
       "    </tr>\n",
       "  </thead>\n",
       "  <tbody>\n",
       "    <tr>\n",
       "      <th>0</th>\n",
       "      <td>001519c8</td>\n",
       "      <td>1797.351</td>\n",
       "      <td>2094.432</td>\n",
       "      <td>255</td>\n",
       "      <td>1539</td>\n",
       "      <td>2557</td>\n",
       "      <td>5</td>\n",
       "      <td>1.422649</td>\n",
       "      <td>0.141875</td>\n",
       "      <td>0.099726</td>\n",
       "      <td>...</td>\n",
       "      <td>49</td>\n",
       "      <td>43</td>\n",
       "      <td>29</td>\n",
       "      <td>30</td>\n",
       "      <td>15</td>\n",
       "      <td>21</td>\n",
       "      <td>10</td>\n",
       "      <td>31</td>\n",
       "      <td>3.5</td>\n",
       "      <td>4.0</td>\n",
       "    </tr>\n",
       "    <tr>\n",
       "      <th>1</th>\n",
       "      <td>0022f953</td>\n",
       "      <td>1758.219</td>\n",
       "      <td>2033.053</td>\n",
       "      <td>320</td>\n",
       "      <td>1676</td>\n",
       "      <td>2454</td>\n",
       "      <td>5</td>\n",
       "      <td>1.395731</td>\n",
       "      <td>0.182002</td>\n",
       "      <td>0.130399</td>\n",
       "      <td>...</td>\n",
       "      <td>69</td>\n",
       "      <td>45</td>\n",
       "      <td>37</td>\n",
       "      <td>13</td>\n",
       "      <td>8</td>\n",
       "      <td>6</td>\n",
       "      <td>6</td>\n",
       "      <td>17</td>\n",
       "      <td>3.5</td>\n",
       "      <td>2.0</td>\n",
       "    </tr>\n",
       "    <tr>\n",
       "      <th>2</th>\n",
       "      <td>0042269b</td>\n",
       "      <td>1766.778</td>\n",
       "      <td>2186.390</td>\n",
       "      <td>404</td>\n",
       "      <td>2291</td>\n",
       "      <td>4136</td>\n",
       "      <td>4</td>\n",
       "      <td>2.340985</td>\n",
       "      <td>0.228665</td>\n",
       "      <td>0.097679</td>\n",
       "      <td>...</td>\n",
       "      <td>102</td>\n",
       "      <td>70</td>\n",
       "      <td>48</td>\n",
       "      <td>54</td>\n",
       "      <td>34</td>\n",
       "      <td>31</td>\n",
       "      <td>13</td>\n",
       "      <td>58</td>\n",
       "      <td>6.0</td>\n",
       "      <td>0.0</td>\n",
       "    </tr>\n",
       "    <tr>\n",
       "      <th>3</th>\n",
       "      <td>0059420b</td>\n",
       "      <td>1362.999</td>\n",
       "      <td>1552.444</td>\n",
       "      <td>206</td>\n",
       "      <td>1047</td>\n",
       "      <td>1556</td>\n",
       "      <td>5</td>\n",
       "      <td>1.141600</td>\n",
       "      <td>0.151137</td>\n",
       "      <td>0.132391</td>\n",
       "      <td>...</td>\n",
       "      <td>50</td>\n",
       "      <td>27</td>\n",
       "      <td>24</td>\n",
       "      <td>25</td>\n",
       "      <td>4</td>\n",
       "      <td>4</td>\n",
       "      <td>3</td>\n",
       "      <td>13</td>\n",
       "      <td>2.0</td>\n",
       "      <td>3.0</td>\n",
       "    </tr>\n",
       "    <tr>\n",
       "      <th>4</th>\n",
       "      <td>0075873a</td>\n",
       "      <td>1583.920</td>\n",
       "      <td>1897.356</td>\n",
       "      <td>252</td>\n",
       "      <td>1402</td>\n",
       "      <td>2531</td>\n",
       "      <td>3</td>\n",
       "      <td>1.597934</td>\n",
       "      <td>0.159099</td>\n",
       "      <td>0.099565</td>\n",
       "      <td>...</td>\n",
       "      <td>72</td>\n",
       "      <td>47</td>\n",
       "      <td>33</td>\n",
       "      <td>16</td>\n",
       "      <td>20</td>\n",
       "      <td>16</td>\n",
       "      <td>13</td>\n",
       "      <td>25</td>\n",
       "      <td>4.0</td>\n",
       "      <td>1.0</td>\n",
       "    </tr>\n",
       "    <tr>\n",
       "      <th>...</th>\n",
       "      <td>...</td>\n",
       "      <td>...</td>\n",
       "      <td>...</td>\n",
       "      <td>...</td>\n",
       "      <td>...</td>\n",
       "      <td>...</td>\n",
       "      <td>...</td>\n",
       "      <td>...</td>\n",
       "      <td>...</td>\n",
       "      <td>...</td>\n",
       "      <td>...</td>\n",
       "      <td>...</td>\n",
       "      <td>...</td>\n",
       "      <td>...</td>\n",
       "      <td>...</td>\n",
       "      <td>...</td>\n",
       "      <td>...</td>\n",
       "      <td>...</td>\n",
       "      <td>...</td>\n",
       "      <td>...</td>\n",
       "      <td>...</td>\n",
       "    </tr>\n",
       "    <tr>\n",
       "      <th>2466</th>\n",
       "      <td>ffb8c745</td>\n",
       "      <td>1769.114</td>\n",
       "      <td>2267.887</td>\n",
       "      <td>273</td>\n",
       "      <td>1634</td>\n",
       "      <td>4739</td>\n",
       "      <td>4</td>\n",
       "      <td>2.678742</td>\n",
       "      <td>0.154315</td>\n",
       "      <td>0.057607</td>\n",
       "      <td>...</td>\n",
       "      <td>147</td>\n",
       "      <td>74</td>\n",
       "      <td>54</td>\n",
       "      <td>49</td>\n",
       "      <td>38</td>\n",
       "      <td>32</td>\n",
       "      <td>17</td>\n",
       "      <td>47</td>\n",
       "      <td>3.5</td>\n",
       "      <td>1.0</td>\n",
       "    </tr>\n",
       "    <tr>\n",
       "      <th>2467</th>\n",
       "      <td>ffbef7e5</td>\n",
       "      <td>1777.392</td>\n",
       "      <td>1991.318</td>\n",
       "      <td>438</td>\n",
       "      <td>1877</td>\n",
       "      <td>2604</td>\n",
       "      <td>4</td>\n",
       "      <td>1.465068</td>\n",
       "      <td>0.246428</td>\n",
       "      <td>0.168203</td>\n",
       "      <td>...</td>\n",
       "      <td>101</td>\n",
       "      <td>56</td>\n",
       "      <td>36</td>\n",
       "      <td>30</td>\n",
       "      <td>23</td>\n",
       "      <td>10</td>\n",
       "      <td>6</td>\n",
       "      <td>3</td>\n",
       "      <td>4.0</td>\n",
       "      <td>2.0</td>\n",
       "    </tr>\n",
       "    <tr>\n",
       "      <th>2468</th>\n",
       "      <td>ffccd6fd</td>\n",
       "      <td>1935.791</td>\n",
       "      <td>2167.278</td>\n",
       "      <td>201</td>\n",
       "      <td>2761</td>\n",
       "      <td>3063</td>\n",
       "      <td>3</td>\n",
       "      <td>1.582299</td>\n",
       "      <td>0.103834</td>\n",
       "      <td>0.065622</td>\n",
       "      <td>...</td>\n",
       "      <td>31</td>\n",
       "      <td>27</td>\n",
       "      <td>27</td>\n",
       "      <td>12</td>\n",
       "      <td>11</td>\n",
       "      <td>8</td>\n",
       "      <td>1</td>\n",
       "      <td>12</td>\n",
       "      <td>1.5</td>\n",
       "      <td>4.0</td>\n",
       "    </tr>\n",
       "    <tr>\n",
       "      <th>2469</th>\n",
       "      <td>ffec5b38</td>\n",
       "      <td>1488.450</td>\n",
       "      <td>1777.663</td>\n",
       "      <td>413</td>\n",
       "      <td>2133</td>\n",
       "      <td>3242</td>\n",
       "      <td>3</td>\n",
       "      <td>2.178105</td>\n",
       "      <td>0.277470</td>\n",
       "      <td>0.127390</td>\n",
       "      <td>...</td>\n",
       "      <td>76</td>\n",
       "      <td>54</td>\n",
       "      <td>43</td>\n",
       "      <td>47</td>\n",
       "      <td>20</td>\n",
       "      <td>21</td>\n",
       "      <td>9</td>\n",
       "      <td>44</td>\n",
       "      <td>5.0</td>\n",
       "      <td>1.0</td>\n",
       "    </tr>\n",
       "    <tr>\n",
       "      <th>2470</th>\n",
       "      <td>fff05981</td>\n",
       "      <td>2030.338</td>\n",
       "      <td>2331.241</td>\n",
       "      <td>240</td>\n",
       "      <td>1496</td>\n",
       "      <td>3619</td>\n",
       "      <td>6</td>\n",
       "      <td>1.782462</td>\n",
       "      <td>0.118207</td>\n",
       "      <td>0.066317</td>\n",
       "      <td>...</td>\n",
       "      <td>72</td>\n",
       "      <td>45</td>\n",
       "      <td>55</td>\n",
       "      <td>43</td>\n",
       "      <td>23</td>\n",
       "      <td>11</td>\n",
       "      <td>18</td>\n",
       "      <td>49</td>\n",
       "      <td>4.0</td>\n",
       "      <td>4.0</td>\n",
       "    </tr>\n",
       "  </tbody>\n",
       "</table>\n",
       "<p>2471 rows × 186 columns</p>\n",
       "</div>"
      ],
      "text/plain": [
       "            id  total_time_taken  total_idle_time  total_word_count  \\\n",
       "0     001519c8          1797.351         2094.432               255   \n",
       "1     0022f953          1758.219         2033.053               320   \n",
       "2     0042269b          1766.778         2186.390               404   \n",
       "3     0059420b          1362.999         1552.444               206   \n",
       "4     0075873a          1583.920         1897.356               252   \n",
       "...        ...               ...              ...               ...   \n",
       "2466  ffb8c745          1769.114         2267.887               273   \n",
       "2467  ffbef7e5          1777.392         1991.318               438   \n",
       "2468  ffccd6fd          1935.791         2167.278               201   \n",
       "2469  ffec5b38          1488.450         1777.663               413   \n",
       "2470  fff05981          2030.338         2331.241               240   \n",
       "\n",
       "      max_cursor_position  num_events  total_type_of_activities  \\\n",
       "0                    1539        2557                         5   \n",
       "1                    1676        2454                         5   \n",
       "2                    2291        4136                         4   \n",
       "3                    1047        1556                         5   \n",
       "4                    1402        2531                         3   \n",
       "...                   ...         ...                       ...   \n",
       "2466                 1634        4739                         4   \n",
       "2467                 1877        2604                         4   \n",
       "2468                 2761        3063                         3   \n",
       "2469                 2133        3242                         3   \n",
       "2470                 1496        3619                         6   \n",
       "\n",
       "      speed_of_activity  speed_of_writing  events_per_word  ...  \\\n",
       "0              1.422649          0.141875         0.099726  ...   \n",
       "1              1.395731          0.182002         0.130399  ...   \n",
       "2              2.340985          0.228665         0.097679  ...   \n",
       "3              1.141600          0.151137         0.132391  ...   \n",
       "4              1.597934          0.159099         0.099565  ...   \n",
       "...                 ...               ...              ...  ...   \n",
       "2466           2.678742          0.154315         0.057607  ...   \n",
       "2467           1.465068          0.246428         0.168203  ...   \n",
       "2468           1.582299          0.103834         0.065622  ...   \n",
       "2469           2.178105          0.277470         0.127390  ...   \n",
       "2470           1.782462          0.118207         0.066317  ...   \n",
       "\n",
       "      words_of_len_4_share  words_of_len_5_share  words_of_len_6_share  \\\n",
       "0                       49                    43                    29   \n",
       "1                       69                    45                    37   \n",
       "2                      102                    70                    48   \n",
       "3                       50                    27                    24   \n",
       "4                       72                    47                    33   \n",
       "...                    ...                   ...                   ...   \n",
       "2466                   147                    74                    54   \n",
       "2467                   101                    56                    36   \n",
       "2468                    31                    27                    27   \n",
       "2469                    76                    54                    43   \n",
       "2470                    72                    45                    55   \n",
       "\n",
       "      words_of_len_7_share  words_of_len_8_share  words_of_len_9_share  \\\n",
       "0                       30                    15                    21   \n",
       "1                       13                     8                     6   \n",
       "2                       54                    34                    31   \n",
       "3                       25                     4                     4   \n",
       "4                       16                    20                    16   \n",
       "...                    ...                   ...                   ...   \n",
       "2466                    49                    38                    32   \n",
       "2467                    30                    23                    10   \n",
       "2468                    12                    11                     8   \n",
       "2469                    47                    20                    21   \n",
       "2470                    43                    23                    11   \n",
       "\n",
       "      words_of_len_10_share  words_of_len_more_than_10_share  score  fold  \n",
       "0                        10                               31    3.5   4.0  \n",
       "1                         6                               17    3.5   2.0  \n",
       "2                        13                               58    6.0   0.0  \n",
       "3                         3                               13    2.0   3.0  \n",
       "4                        13                               25    4.0   1.0  \n",
       "...                     ...                              ...    ...   ...  \n",
       "2466                     17                               47    3.5   1.0  \n",
       "2467                      6                                3    4.0   2.0  \n",
       "2468                      1                               12    1.5   4.0  \n",
       "2469                      9                               44    5.0   1.0  \n",
       "2470                     18                               49    4.0   4.0  \n",
       "\n",
       "[2471 rows x 186 columns]"
      ]
     },
     "execution_count": 33,
     "metadata": {},
     "output_type": "execute_result"
    }
   ],
   "source": [
    "train_feats"
   ]
  },
  {
   "cell_type": "code",
   "execution_count": 34,
   "id": "7f923f98-2614-4196-a4bf-eeab9e79e4b8",
   "metadata": {
    "execution": {
     "iopub.execute_input": "2023-10-30T21:57:12.279068Z",
     "iopub.status.busy": "2023-10-30T21:57:12.278832Z",
     "iopub.status.idle": "2023-10-30T21:57:12.286949Z",
     "shell.execute_reply": "2023-10-30T21:57:12.286283Z",
     "shell.execute_reply.started": "2023-10-30T21:57:12.279045Z"
    }
   },
   "outputs": [
    {
     "data": {
      "text/html": [
       "<div>\n",
       "<style scoped>\n",
       "    .dataframe tbody tr th:only-of-type {\n",
       "        vertical-align: middle;\n",
       "    }\n",
       "\n",
       "    .dataframe tbody tr th {\n",
       "        vertical-align: top;\n",
       "    }\n",
       "\n",
       "    .dataframe thead th {\n",
       "        text-align: right;\n",
       "    }\n",
       "</style>\n",
       "<table border=\"1\" class=\"dataframe\">\n",
       "  <thead>\n",
       "    <tr style=\"text-align: right;\">\n",
       "      <th></th>\n",
       "      <th>total_word_count</th>\n",
       "      <th>input_word_count</th>\n",
       "    </tr>\n",
       "  </thead>\n",
       "  <tbody>\n",
       "    <tr>\n",
       "      <th>0</th>\n",
       "      <td>255</td>\n",
       "      <td>366</td>\n",
       "    </tr>\n",
       "    <tr>\n",
       "      <th>1</th>\n",
       "      <td>320</td>\n",
       "      <td>385</td>\n",
       "    </tr>\n",
       "    <tr>\n",
       "      <th>2</th>\n",
       "      <td>404</td>\n",
       "      <td>627</td>\n",
       "    </tr>\n",
       "    <tr>\n",
       "      <th>3</th>\n",
       "      <td>206</td>\n",
       "      <td>251</td>\n",
       "    </tr>\n",
       "    <tr>\n",
       "      <th>4</th>\n",
       "      <td>252</td>\n",
       "      <td>412</td>\n",
       "    </tr>\n",
       "    <tr>\n",
       "      <th>...</th>\n",
       "      <td>...</td>\n",
       "      <td>...</td>\n",
       "    </tr>\n",
       "    <tr>\n",
       "      <th>2466</th>\n",
       "      <td>273</td>\n",
       "      <td>734</td>\n",
       "    </tr>\n",
       "    <tr>\n",
       "      <th>2467</th>\n",
       "      <td>438</td>\n",
       "      <td>470</td>\n",
       "    </tr>\n",
       "    <tr>\n",
       "      <th>2468</th>\n",
       "      <td>201</td>\n",
       "      <td>222</td>\n",
       "    </tr>\n",
       "    <tr>\n",
       "      <th>2469</th>\n",
       "      <td>413</td>\n",
       "      <td>500</td>\n",
       "    </tr>\n",
       "    <tr>\n",
       "      <th>2470</th>\n",
       "      <td>240</td>\n",
       "      <td>526</td>\n",
       "    </tr>\n",
       "  </tbody>\n",
       "</table>\n",
       "<p>2471 rows × 2 columns</p>\n",
       "</div>"
      ],
      "text/plain": [
       "      total_word_count  input_word_count\n",
       "0                  255               366\n",
       "1                  320               385\n",
       "2                  404               627\n",
       "3                  206               251\n",
       "4                  252               412\n",
       "...                ...               ...\n",
       "2466               273               734\n",
       "2467               438               470\n",
       "2468               201               222\n",
       "2469               413               500\n",
       "2470               240               526\n",
       "\n",
       "[2471 rows x 2 columns]"
      ]
     },
     "execution_count": 34,
     "metadata": {},
     "output_type": "execute_result"
    }
   ],
   "source": [
    "train_feats[[\"total_word_count\", \"input_word_count\"]]"
   ]
  },
  {
   "cell_type": "code",
   "execution_count": null,
   "id": "b5f470b2-7637-4739-aa81-6627f2ffddf2",
   "metadata": {},
   "outputs": [],
   "source": []
  },
  {
   "cell_type": "code",
   "execution_count": 35,
   "id": "0c3dfd0a-a5a5-4806-84d3-798ee857978a",
   "metadata": {
    "execution": {
     "iopub.execute_input": "2023-10-30T21:57:12.287735Z",
     "iopub.status.busy": "2023-10-30T21:57:12.287445Z",
     "iopub.status.idle": "2023-10-30T21:57:12.291532Z",
     "shell.execute_reply": "2023-10-30T21:57:12.290970Z",
     "shell.execute_reply.started": "2023-10-30T21:57:12.287720Z"
    }
   },
   "outputs": [],
   "source": [
    "# 0.6350757558970195 and parameters: {'reg_alpha': 0.03956405207360401, 'reg_lambda': 0.17326220197667552, 'colsample_bytree': 0.560711214460409, 'subsample': 0.5941057238026961, 'learning_rate': 0.006761201503676211, 'num_leaves': 29, 'min_child_samples': 8}"
   ]
  },
  {
   "cell_type": "code",
   "execution_count": 36,
   "id": "621b2434-c127-4911-83c5-aa8abec702b4",
   "metadata": {
    "execution": {
     "iopub.execute_input": "2023-10-30T21:57:12.292340Z",
     "iopub.status.busy": "2023-10-30T21:57:12.292122Z",
     "iopub.status.idle": "2023-10-30T21:57:12.296750Z",
     "shell.execute_reply": "2023-10-30T21:57:12.296293Z",
     "shell.execute_reply.started": "2023-10-30T21:57:12.292323Z"
    }
   },
   "outputs": [],
   "source": [
    "# {'reg_alpha': 0.0034851289289925228, 'reg_lambda': 0.02930609011860095, 'colsample_bytree': 0.5220997197702997, 'subsample': 0.622990252650952, 'learning_rate': 0.0027978209525525255, 'num_leaves': 26, 'min_child_samples': 5}\n",
    "# 0.63189"
   ]
  },
  {
   "cell_type": "markdown",
   "id": "edadc8f5-c2bc-4ef6-9293-a31edce39a7a",
   "metadata": {
    "papermill": {
     "duration": 0.019393,
     "end_time": "2023-10-24T19:15:40.713679",
     "exception": false,
     "start_time": "2023-10-24T19:15:40.694286",
     "status": "completed"
    },
    "tags": []
   },
   "source": [
    "# Train OOF LGBM Models"
   ]
  },
  {
   "cell_type": "code",
   "execution_count": 51,
   "id": "d3e65936-854f-47e8-a825-acf8242d5bcb",
   "metadata": {
    "execution": {
     "iopub.execute_input": "2023-10-30T21:59:19.181121Z",
     "iopub.status.busy": "2023-10-30T21:59:19.180831Z",
     "iopub.status.idle": "2023-10-30T21:59:19.183579Z",
     "shell.execute_reply": "2023-10-30T21:59:19.183138Z",
     "shell.execute_reply.started": "2023-10-30T21:59:19.181104Z"
    }
   },
   "outputs": [],
   "source": [
    "cnfg.use_optuna_tuning = False"
   ]
  },
  {
   "cell_type": "code",
   "execution_count": 52,
   "id": "4b489eb1-f24d-41a8-bcf5-0677da5105a9",
   "metadata": {
    "execution": {
     "iopub.execute_input": "2023-10-30T21:59:19.579843Z",
     "iopub.status.busy": "2023-10-30T21:59:19.579480Z",
     "iopub.status.idle": "2023-10-30T21:59:21.568511Z",
     "shell.execute_reply": "2023-10-30T21:59:21.568005Z",
     "shell.execute_reply.started": "2023-10-30T21:59:19.579811Z"
    },
    "papermill": {
     "duration": 25.185588,
     "end_time": "2023-10-24T19:16:05.919317",
     "exception": false,
     "start_time": "2023-10-24T19:15:40.733729",
     "status": "completed"
    },
    "tags": []
   },
   "outputs": [
    {
     "name": "stdout",
     "output_type": "stream",
     "text": [
      "{'reg_alpha': 0.002333698391220378, 'reg_lambda': 0.19122210526689265, 'colsample_bytree': 0.5547938642836329, 'subsample': 0.782269098248984, 'learning_rate': 0.01636065797320474, 'num_leaves': 14, 'min_child_samples': 43, 'verbose': -1, 'early_stopping_rounds': 100}\n",
      "Training for FOLD 0\n",
      "Training for FOLD 1\n",
      "Training for FOLD 2\n",
      "Training for FOLD 3\n",
      "Training for FOLD 4\n"
     ]
    }
   ],
   "source": [
    "feature_names = list(\n",
    "    filter(\n",
    "        lambda x: x not in [cnfg.response_variate, \"id\", \"fold\"], train_feats.columns\n",
    "    )\n",
    ")\n",
    "\n",
    "if not cnfg.use_optuna_tuning:\n",
    "    # 0.638\n",
    "    # best_params = {\n",
    "    #     \"reg_alpha\": 0.002333698391220378,\n",
    "    #     \"reg_lambda\": 0.19122210526689265,\n",
    "    #     \"colsample_bytree\": 0.5547938642836329,\n",
    "    #     \"subsample\": 0.782269098248984,\n",
    "    #     \"learning_rate\": 0.01636065797320474,\n",
    "    #     \"num_leaves\": 14,\n",
    "    #     \"min_child_samples\": 43,\n",
    "    # }\n",
    "    # # 0.6350\n",
    "    # best_params = {\n",
    "    #     \"reg_alpha\": 0.0034851289289925228,\n",
    "    #     \"reg_lambda\": 0.02930609011860095,\n",
    "    #     \"colsample_bytree\": 0.5220997197702997,\n",
    "    #     \"subsample\": 0.622990252650952,\n",
    "    #     \"learning_rate\": 0.0027978209525525255,\n",
    "    #     \"num_leaves\": 26,\n",
    "    #     \"min_child_samples\": 5,\n",
    "    # }\n",
    "    # # 0.634808\n",
    "    # best_params = {\n",
    "    #     \"reg_alpha\": 0.11626442023658703,\n",
    "    #     \"reg_lambda\": 0.28213612893777507,\n",
    "    #     \"colsample_bytree\": 0.5061951276237436,\n",
    "    #     \"subsample\": 0.6325740294633214,\n",
    "    #     \"learning_rate\": 0.008094899490541256,\n",
    "    #     \"num_leaves\": 14,\n",
    "    #     \"min_child_samples\": 91,\n",
    "    # }\n",
    "    # # 0.632345\n",
    "    # best_params = {\n",
    "    #     \"reg_alpha\": 0.1530813665702311,\n",
    "    #     \"reg_lambda\": 0.0060192372576638046,\n",
    "    #     \"colsample_bytree\": 0.5230873872974973,\n",
    "    #     \"subsample\": 0.6128969852118816,\n",
    "    #     \"learning_rate\": 0.004578106461943341,\n",
    "    #     \"num_leaves\": 19,\n",
    "    #     \"min_child_samples\": 13,\n",
    "    # }\n",
    "    # # 0.6324\n",
    "    # best_params = {\n",
    "    #     \"reg_alpha\": 0.004006121641277766,\n",
    "    #     \"reg_lambda\": 0.12440014948183088,\n",
    "    #     \"colsample_bytree\": 0.6112309108417324,\n",
    "    #     \"subsample\": 0.7578516952234549,\n",
    "    #     \"learning_rate\": 0.008002801226418776,\n",
    "    #     \"num_leaves\": 9,\n",
    "    #     \"min_child_samples\": 6,\n",
    "    # }\n",
    "    # # 0.63125\n",
    "    # best_params = {\n",
    "    #     \"reg_alpha\": 0.046918022306084856,\n",
    "    #     \"reg_lambda\": 0.9188563635385238,\n",
    "    #     \"colsample_bytree\": 0.5090929056657377,\n",
    "    #     \"subsample\": 0.8627739028744885,\n",
    "    #     \"learning_rate\": 0.003835462933324096,\n",
    "    #     \"num_leaves\": 17,\n",
    "    #     \"min_child_samples\": 83,\n",
    "    # }\n",
    "    # 0.63022\n",
    "    best_params = {\n",
    "        \"reg_alpha\": 0.009527830464212851,\n",
    "        \"reg_lambda\": 0.16462928814142544,\n",
    "        \"colsample_bytree\": 0.5075400996740442,\n",
    "        \"subsample\": 0.7500390903990137,\n",
    "        \"learning_rate\": 0.008759700851646507,\n",
    "        \"num_leaves\": 29,\n",
    "        \"min_child_samples\": 79,\n",
    "    }\n",
    "else:\n",
    "    best_params = study.best_params\n",
    "\n",
    "best_params[\"verbose\"] = -1\n",
    "best_params[\"early_stopping_rounds\"] = cnfg.num_trials_early_stopping\n",
    "\n",
    "print(best_params)\n",
    "\n",
    "lgbm_params = {\n",
    "    \"metric\": \"rmse\",\n",
    "    \"random_state\": cnfg.seed,\n",
    "    \"n_estimators\": cnfg.num_estimators,\n",
    "    **best_params,\n",
    "}\n",
    "\n",
    "# [fold]: model\n",
    "models_dict = {}\n",
    "\n",
    "for fold in range(cnfg.num_folds):\n",
    "    print(f\"Training for FOLD {fold}\")\n",
    "\n",
    "    X_train = train_feats[train_feats[\"fold\"] != fold][feature_names]\n",
    "    Y_train = train_feats[train_feats[\"fold\"] != fold][cnfg.response_variate]\n",
    "\n",
    "    X_val = train_feats[train_feats[\"fold\"] == fold][feature_names]\n",
    "    Y_val = train_feats[train_feats[\"fold\"] == fold][cnfg.response_variate]\n",
    "\n",
    "    model = lgb.LGBMRegressor(**lgbm_params)\n",
    "\n",
    "    model.fit(\n",
    "        X_train,\n",
    "        Y_train,\n",
    "        eval_names=[\"train\", \"valid\"],\n",
    "        eval_set=[(X_train, Y_train), (X_val, Y_val)],\n",
    "        # verbose=-1,\n",
    "        eval_metric=\"rmse\",\n",
    "        # early_stopping_rounds=cnfg.num_trials_early_stopping,\n",
    "    )\n",
    "\n",
    "    models_dict[fold] = model"
   ]
  },
  {
   "cell_type": "markdown",
   "id": "2874d267-7fa7-4fe2-8fc7-738d57170c64",
   "metadata": {
    "papermill": {
     "duration": 0.023331,
     "end_time": "2023-10-24T19:16:05.973301",
     "exception": false,
     "start_time": "2023-10-24T19:16:05.949970",
     "status": "completed"
    },
    "tags": []
   },
   "source": [
    "# Mean Feature Importances OF LGBM Models"
   ]
  },
  {
   "cell_type": "code",
   "execution_count": 53,
   "id": "d8048164-c6d1-4afb-a417-58254e81d409",
   "metadata": {
    "execution": {
     "iopub.execute_input": "2023-10-30T21:59:21.570038Z",
     "iopub.status.busy": "2023-10-30T21:59:21.569610Z",
     "iopub.status.idle": "2023-10-30T21:59:21.574842Z",
     "shell.execute_reply": "2023-10-30T21:59:21.574326Z",
     "shell.execute_reply.started": "2023-10-30T21:59:21.570014Z"
    },
    "papermill": {
     "duration": 0.045557,
     "end_time": "2023-10-24T19:16:06.042601",
     "exception": false,
     "start_time": "2023-10-24T19:16:05.997044",
     "status": "completed"
    },
    "tags": []
   },
   "outputs": [],
   "source": [
    "feature_importances_values = np.asarray(\n",
    "    [model.feature_importances_ for model in models_dict.values()]\n",
    ").mean(axis=0)\n",
    "feature_importance_df = pd.DataFrame(\n",
    "    {\"name\": feature_names, \"importance\": feature_importances_values}\n",
    ")\n",
    "\n",
    "feature_importance_df = feature_importance_df.sort_values(\n",
    "    \"importance\", ascending=False\n",
    ").head(cnfg.num_features_to_display)"
   ]
  },
  {
   "cell_type": "code",
   "execution_count": 54,
   "id": "e99430dc-e3c0-47ad-8a7b-a4d026497c59",
   "metadata": {
    "execution": {
     "iopub.execute_input": "2023-10-30T21:59:21.575703Z",
     "iopub.status.busy": "2023-10-30T21:59:21.575496Z",
     "iopub.status.idle": "2023-10-30T21:59:22.068634Z",
     "shell.execute_reply": "2023-10-30T21:59:22.068022Z",
     "shell.execute_reply.started": "2023-10-30T21:59:21.575684Z"
    },
    "papermill": {
     "duration": 1.14728,
     "end_time": "2023-10-24T19:16:07.212482",
     "exception": false,
     "start_time": "2023-10-24T19:16:06.065202",
     "status": "completed"
    },
    "tags": []
   },
   "outputs": [
    {
     "data": {
      "image/png": "[encoded data removed]",
      "text/plain": [
       "<Figure size 1500x600 with 1 Axes>"
      ]
     },
     "metadata": {},
     "output_type": "display_data"
    }
   ],
   "source": [
    "plt.figure(figsize=(15, 6))\n",
    "\n",
    "ax = sns.barplot(data=feature_importance_df, x=\"name\", y=\"importance\")\n",
    "ax.set_title(f\"Mean feature importances\")\n",
    "ax.set_xticks(ax.get_xticks(), ax.get_xticklabels(), rotation=90)\n",
    "\n",
    "plt.show()"
   ]
  },
  {
   "cell_type": "markdown",
   "id": "06a2a349-c306-414d-b854-afd1b7f35e3d",
   "metadata": {
    "papermill": {
     "duration": 0.021782,
     "end_time": "2023-10-24T19:16:07.256800",
     "exception": false,
     "start_time": "2023-10-24T19:16:07.235018",
     "status": "completed"
    },
    "tags": []
   },
   "source": [
    "# Evaluation of OOF Preds on Training Set (CV)"
   ]
  },
  {
   "cell_type": "code",
   "execution_count": 55,
   "id": "7e7d6b49-32b9-4c4d-861d-a86b9733e51c",
   "metadata": {
    "execution": {
     "iopub.execute_input": "2023-10-30T21:59:29.539398Z",
     "iopub.status.busy": "2023-10-30T21:59:29.539185Z",
     "iopub.status.idle": "2023-10-30T21:59:29.583622Z",
     "shell.execute_reply": "2023-10-30T21:59:29.583127Z",
     "shell.execute_reply.started": "2023-10-30T21:59:29.539383Z"
    },
    "papermill": {
     "duration": 0.541644,
     "end_time": "2023-10-24T19:16:07.823709",
     "exception": false,
     "start_time": "2023-10-24T19:16:07.282065",
     "status": "completed"
    },
    "tags": []
   },
   "outputs": [
    {
     "name": "stdout",
     "output_type": "stream",
     "text": [
      "Predicting the train set with FOLD 0\n",
      "Predicting the train set with FOLD 1\n",
      "Predicting the train set with FOLD 2\n",
      "Predicting the train set with FOLD 3\n",
      "Predicting the train set with FOLD 4\n"
     ]
    }
   ],
   "source": [
    "for fold in range(cnfg.num_folds):\n",
    "    print(f\"Predicting the train set with FOLD {fold}\")\n",
    "    X_train = train_feats[train_feats[\"fold\"] != fold][feature_names]\n",
    "    Y_train = train_feats[train_feats[\"fold\"] != fold][cnfg.response_variate]\n",
    "\n",
    "    X_val = train_feats[train_feats[\"fold\"] == fold][feature_names]\n",
    "    Y_val = train_feats[train_feats[\"fold\"] == fold][cnfg.response_variate]\n",
    "\n",
    "    lgb_model = models_dict[fold]\n",
    "    pred_val = lgb_model.predict(X_val, num_iteration=lgb_model.best_iteration_)\n",
    "    train_feats.loc[X_val.index, f\"pred_{cnfg.response_variate}\"] = pred_val"
   ]
  },
  {
   "cell_type": "code",
   "execution_count": 56,
   "id": "2b0b508c-940e-44c5-a876-80122f6ada01",
   "metadata": {
    "execution": {
     "iopub.execute_input": "2023-10-30T21:59:30.418184Z",
     "iopub.status.busy": "2023-10-30T21:59:30.417443Z",
     "iopub.status.idle": "2023-10-30T21:59:30.432016Z",
     "shell.execute_reply": "2023-10-30T21:59:30.431514Z",
     "shell.execute_reply.started": "2023-10-30T21:59:30.418114Z"
    },
    "papermill": {
     "duration": 0.0367,
     "end_time": "2023-10-24T19:16:07.884056",
     "exception": false,
     "start_time": "2023-10-24T19:16:07.847356",
     "status": "completed"
    },
    "tags": []
   },
   "outputs": [
    {
     "name": "stdout",
     "output_type": "stream",
     "text": [
      "CV RMSE: 0.6352823798728754\n"
     ]
    }
   ],
   "source": [
    "rmse = mean_squared_error(\n",
    "    train_feats[cnfg.response_variate],\n",
    "    np.clip(train_feats[f\"pred_{cnfg.response_variate}\"], a_min=0.5, a_max=6.0),\n",
    "    squared=False,\n",
    ")\n",
    "print(\"CV RMSE:\", rmse)\n",
    "train_feats = train_feats.drop(columns=[\"pred_score\"])"
   ]
  },
  {
   "cell_type": "markdown",
   "id": "e4b31369-128c-4084-99b0-7f80c05a70c2",
   "metadata": {
    "papermill": {
     "duration": 0.02323,
     "end_time": "2023-10-24T19:16:07.930669",
     "exception": false,
     "start_time": "2023-10-24T19:16:07.907439",
     "status": "completed"
    },
    "tags": []
   },
   "source": [
    "# Predicting The Test Set\n",
    "\n",
    "We use the mean of all the predictions for all the fold models"
   ]
  },
  {
   "cell_type": "code",
   "execution_count": 43,
   "id": "e7b42b3c-585a-4df6-9a42-e6554858e326",
   "metadata": {
    "execution": {
     "iopub.execute_input": "2023-10-30T21:57:16.679219Z",
     "iopub.status.busy": "2023-10-30T21:57:16.678972Z",
     "iopub.status.idle": "2023-10-30T21:57:16.697274Z",
     "shell.execute_reply": "2023-10-30T21:57:16.696691Z",
     "shell.execute_reply.started": "2023-10-30T21:57:16.679202Z"
    },
    "papermill": {
     "duration": 0.433478,
     "end_time": "2023-10-24T19:16:08.387728",
     "exception": false,
     "start_time": "2023-10-24T19:16:07.954250",
     "status": "completed"
    },
    "tags": []
   },
   "outputs": [
    {
     "name": "stdout",
     "output_type": "stream",
     "text": [
      "Predicting the test set with FOLD 0\n",
      "Predicting the test set with FOLD 1\n",
      "Predicting the test set with FOLD 2\n",
      "Predicting the test set with FOLD 3\n",
      "Predicting the test set with FOLD 4\n"
     ]
    }
   ],
   "source": [
    "for fold in range(cnfg.num_folds):\n",
    "    print(f\"Predicting the test set with FOLD {fold}\")\n",
    "    X_test = test_feats[feature_names]\n",
    "\n",
    "    lgb_model = models_dict[fold]\n",
    "    pred = lgb_model.predict(X_test, num_iteration=lgb_model.best_iteration_)\n",
    "    test_feats[f\"pred_{cnfg.response_variate}_fold{fold}\"] = pred\n",
    "\n",
    "test_feats[cnfg.response_variate] = test_feats[\n",
    "    [f\"pred_{cnfg.response_variate}_fold{fold}\" for fold in range(cnfg.num_folds)]\n",
    "].mean(axis=1)\n",
    "test_feats[cnfg.response_variate] = np.clip(\n",
    "    test_feats[cnfg.response_variate], a_min=0.5, a_max=6.0\n",
    ")"
   ]
  },
  {
   "cell_type": "markdown",
   "id": "ff1cdeae-9b0d-4cdf-a9e1-d03ebb45d6e8",
   "metadata": {
    "papermill": {
     "duration": 0.021794,
     "end_time": "2023-10-24T19:16:08.430726",
     "exception": false,
     "start_time": "2023-10-24T19:16:08.408932",
     "status": "completed"
    },
    "tags": []
   },
   "source": [
    "# Submission"
   ]
  },
  {
   "cell_type": "code",
   "execution_count": 44,
   "id": "2fbe0581-e328-4755-a159-27da90e836a2",
   "metadata": {
    "execution": {
     "iopub.execute_input": "2023-10-30T21:57:16.698120Z",
     "iopub.status.busy": "2023-10-30T21:57:16.697875Z",
     "iopub.status.idle": "2023-10-30T21:57:16.704116Z",
     "shell.execute_reply": "2023-10-30T21:57:16.703634Z",
     "shell.execute_reply.started": "2023-10-30T21:57:16.698103Z"
    },
    "papermill": {
     "duration": 0.038144,
     "end_time": "2023-10-24T19:16:08.491099",
     "exception": false,
     "start_time": "2023-10-24T19:16:08.452955",
     "status": "completed"
    },
    "tags": []
   },
   "outputs": [
    {
     "data": {
      "text/html": [
       "<div>\n",
       "<style scoped>\n",
       "    .dataframe tbody tr th:only-of-type {\n",
       "        vertical-align: middle;\n",
       "    }\n",
       "\n",
       "    .dataframe tbody tr th {\n",
       "        vertical-align: top;\n",
       "    }\n",
       "\n",
       "    .dataframe thead th {\n",
       "        text-align: right;\n",
       "    }\n",
       "</style>\n",
       "<table border=\"1\" class=\"dataframe\">\n",
       "  <thead>\n",
       "    <tr style=\"text-align: right;\">\n",
       "      <th></th>\n",
       "      <th>id</th>\n",
       "      <th>score</th>\n",
       "    </tr>\n",
       "  </thead>\n",
       "  <tbody>\n",
       "    <tr>\n",
       "      <th>0</th>\n",
       "      <td>0000aaaa</td>\n",
       "      <td>1.627326</td>\n",
       "    </tr>\n",
       "    <tr>\n",
       "      <th>1</th>\n",
       "      <td>2222bbbb</td>\n",
       "      <td>1.685968</td>\n",
       "    </tr>\n",
       "    <tr>\n",
       "      <th>2</th>\n",
       "      <td>4444cccc</td>\n",
       "      <td>1.657229</td>\n",
       "    </tr>\n",
       "  </tbody>\n",
       "</table>\n",
       "</div>"
      ],
      "text/plain": [
       "         id     score\n",
       "0  0000aaaa  1.627326\n",
       "1  2222bbbb  1.685968\n",
       "2  4444cccc  1.657229"
      ]
     },
     "execution_count": 44,
     "metadata": {},
     "output_type": "execute_result"
    }
   ],
   "source": [
    "submission = test_feats[[\"id\", cnfg.response_variate]]\n",
    "submission"
   ]
  },
  {
   "cell_type": "code",
   "execution_count": 45,
   "id": "d2dd44dd-5c1e-464f-b3c1-db2b37f79bee",
   "metadata": {
    "execution": {
     "iopub.execute_input": "2023-10-30T21:57:16.704947Z",
     "iopub.status.busy": "2023-10-30T21:57:16.704716Z",
     "iopub.status.idle": "2023-10-30T21:57:16.718143Z",
     "shell.execute_reply": "2023-10-30T21:57:16.717295Z",
     "shell.execute_reply.started": "2023-10-30T21:57:16.704929Z"
    },
    "papermill": {
     "duration": 0.044082,
     "end_time": "2023-10-24T19:16:08.559758",
     "exception": false,
     "start_time": "2023-10-24T19:16:08.515676",
     "status": "completed"
    },
    "tags": []
   },
   "outputs": [],
   "source": [
    "submission.to_csv(\"submission.csv\", index=False)"
   ]
  },
  {
   "cell_type": "code",
   "execution_count": null,
   "id": "b611da83-46d9-4aa5-acd9-bb87a07a4611",
   "metadata": {},
   "outputs": [],
   "source": []
  },
  {
   "cell_type": "code",
   "execution_count": null,
   "id": "30c834dc-df71-4c58-abc9-15329d18ec1c",
   "metadata": {},
   "outputs": [],
   "source": []
  }
 ],
 "metadata": {
  "kernelspec": {
   "display_name": "Python 3 (ipykernel)",
   "language": "python",
   "name": "python3"
  },
  "language_info": {
   "codemirror_mode": {
    "name": "ipython",
    "version": 3
   },
   "file_extension": ".py",
   "mimetype": "text/x-python",
   "name": "python",
   "nbconvert_exporter": "python",
   "pygments_lexer": "ipython3",
   "version": "3.9.12"
  }
 },
 "nbformat": 4,
 "nbformat_minor": 5
}
