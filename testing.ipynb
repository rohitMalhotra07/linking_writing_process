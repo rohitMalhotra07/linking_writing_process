{
 "cells": [
  {
   "cell_type": "code",
   "execution_count": 1,
   "id": "dae26ec3-3aba-4faa-813a-9c1466b8f6bd",
   "metadata": {
    "execution": {
     "iopub.execute_input": "2023-10-20T20:11:44.546059Z",
     "iopub.status.busy": "2023-10-20T20:11:44.545561Z",
     "iopub.status.idle": "2023-10-20T20:11:45.982268Z",
     "shell.execute_reply": "2023-10-20T20:11:45.981733Z",
     "shell.execute_reply.started": "2023-10-20T20:11:44.546040Z"
    }
   },
   "outputs": [],
   "source": [
    "import numpy as np\n",
    "import pytorch_lightning as pl\n",
    "import torch\n",
    "from tqdm import tqdm"
   ]
  },
  {
   "cell_type": "code",
   "execution_count": 1,
   "id": "e36f0870-6748-4a0c-aa6f-c5cbbb07bf8c",
   "metadata": {
    "execution": {
     "iopub.execute_input": "2023-11-23T21:22:26.781040Z",
     "iopub.status.busy": "2023-11-23T21:22:26.780827Z",
     "iopub.status.idle": "2023-11-23T21:22:29.745199Z",
     "shell.execute_reply": "2023-11-23T21:22:29.744791Z",
     "shell.execute_reply.started": "2023-11-23T21:22:26.781025Z"
    }
   },
   "outputs": [
    {
     "name": "stderr",
     "output_type": "stream",
     "text": [
      "/home/rohit/Desktop/kaggle/virtualenvs/writing_quality/lib/python3.9/site-packages/tqdm/auto.py:21: TqdmWarning: IProgress not found. Please update jupyter and ipywidgets. See https://ipywidgets.readthedocs.io/en/stable/user_install.html\n",
      "  from .autonotebook import tqdm as notebook_tqdm\n"
     ]
    },
    {
     "data": {
      "text/plain": [
       "'0.5.5'"
      ]
     },
     "execution_count": 1,
     "metadata": {},
     "output_type": "execute_result"
    }
   ],
   "source": [
    "import umap\n",
    "umap.__version__"
   ]
  },
  {
   "cell_type": "code",
   "execution_count": 2,
   "id": "3bf2ed28-ccc5-4085-a36a-cf13ce02735a",
   "metadata": {
    "execution": {
     "iopub.execute_input": "2023-10-20T20:11:45.983260Z",
     "iopub.status.busy": "2023-10-20T20:11:45.983061Z",
     "iopub.status.idle": "2023-10-20T20:11:45.996681Z",
     "shell.execute_reply": "2023-10-20T20:11:45.995972Z",
     "shell.execute_reply.started": "2023-10-20T20:11:45.983246Z"
    }
   },
   "outputs": [
    {
     "name": "stdout",
     "output_type": "stream",
     "text": [
      "True 2.1.0+cu121 2.1.0\n"
     ]
    }
   ],
   "source": [
    "print(torch.cuda.is_available(), torch.__version__, pl.__version__)"
   ]
  },
  {
   "cell_type": "code",
   "execution_count": 3,
   "id": "dc500b4f-fe80-4de5-a996-33892cf7c21b",
   "metadata": {
    "execution": {
     "iopub.execute_input": "2023-10-20T20:11:51.079319Z",
     "iopub.status.busy": "2023-10-20T20:11:51.079100Z",
     "iopub.status.idle": "2023-10-20T20:11:51.081943Z",
     "shell.execute_reply": "2023-10-20T20:11:51.081433Z",
     "shell.execute_reply.started": "2023-10-20T20:11:51.079305Z"
    }
   },
   "outputs": [],
   "source": [
    "hyper_params = {\n",
    "    \"encoder\": {\"num_layers\": 4, \"enable_nested_tensor\": True},\n",
    "    \"encoder_layer\": {\"nhead\": 8, \"dim_feedforward\": 512},\n",
    "}"
   ]
  },
  {
   "cell_type": "code",
   "execution_count": 4,
   "id": "090be092-9088-4907-82a2-a03a3a35086b",
   "metadata": {
    "execution": {
     "iopub.execute_input": "2023-10-20T20:12:03.553518Z",
     "iopub.status.busy": "2023-10-20T20:12:03.553006Z",
     "iopub.status.idle": "2023-10-20T20:12:03.560967Z",
     "shell.execute_reply": "2023-10-20T20:12:03.560378Z",
     "shell.execute_reply.started": "2023-10-20T20:12:03.553493Z"
    }
   },
   "outputs": [],
   "source": [
    "encoder_layer = torch.nn.TransformerEncoderLayer(\n",
    "    d_model=16,\n",
    "    nhead=hyper_params[\"encoder_layer\"][\"nhead\"],\n",
    "    dim_feedforward=hyper_params[\"encoder_layer\"][\"dim_feedforward\"],\n",
    "    batch_first=True,\n",
    ")\n",
    "encoder = torch.nn.TransformerEncoder(\n",
    "    encoder_layer,\n",
    "    hyper_params[\"encoder\"][\"num_layers\"],\n",
    "    enable_nested_tensor=hyper_params[\"encoder\"][\"enable_nested_tensor\"],\n",
    ")"
   ]
  },
  {
   "cell_type": "code",
   "execution_count": 5,
   "id": "9d7a0f91-39ac-463b-9b3d-bf0b65692634",
   "metadata": {
    "execution": {
     "iopub.execute_input": "2023-10-20T20:12:07.082393Z",
     "iopub.status.busy": "2023-10-20T20:12:07.082032Z",
     "iopub.status.idle": "2023-10-20T20:12:07.092143Z",
     "shell.execute_reply": "2023-10-20T20:12:07.091585Z",
     "shell.execute_reply.started": "2023-10-20T20:12:07.082361Z"
    }
   },
   "outputs": [],
   "source": [
    "src = torch.rand(32, 10, 16)\n",
    "out = encoder(src)"
   ]
  },
  {
   "cell_type": "code",
   "execution_count": 6,
   "id": "0439bcfb-3c68-4113-b351-6de612ba4e26",
   "metadata": {
    "execution": {
     "iopub.execute_input": "2023-10-20T20:12:08.551414Z",
     "iopub.status.busy": "2023-10-20T20:12:08.551013Z",
     "iopub.status.idle": "2023-10-20T20:12:08.558687Z",
     "shell.execute_reply": "2023-10-20T20:12:08.558321Z",
     "shell.execute_reply.started": "2023-10-20T20:12:08.551379Z"
    }
   },
   "outputs": [
    {
     "data": {
      "text/plain": [
       "torch.Size([32, 10, 16])"
      ]
     },
     "execution_count": 6,
     "metadata": {},
     "output_type": "execute_result"
    }
   ],
   "source": [
    "out.shape"
   ]
  },
  {
   "cell_type": "code",
   "execution_count": 7,
   "id": "9fb487b7-cef2-41f0-9701-81eaff553b74",
   "metadata": {
    "execution": {
     "iopub.execute_input": "2023-10-20T20:12:13.481752Z",
     "iopub.status.busy": "2023-10-20T20:12:13.481537Z",
     "iopub.status.idle": "2023-10-20T20:12:13.485511Z",
     "shell.execute_reply": "2023-10-20T20:12:13.485168Z",
     "shell.execute_reply.started": "2023-10-20T20:12:13.481738Z"
    }
   },
   "outputs": [
    {
     "data": {
      "text/plain": [
       "torch.Size([32, 160])"
      ]
     },
     "execution_count": 7,
     "metadata": {},
     "output_type": "execute_result"
    }
   ],
   "source": [
    "out.flatten(start_dim=1).shape"
   ]
  },
  {
   "cell_type": "code",
   "execution_count": null,
   "id": "64bbdb77-c661-4091-b9cc-a268099da6ad",
   "metadata": {},
   "outputs": [],
   "source": []
  },
  {
   "cell_type": "code",
   "execution_count": 6,
   "id": "5ea4a339-e7c0-4558-9523-c9c08c9996b8",
   "metadata": {
    "execution": {
     "iopub.execute_input": "2023-10-17T19:50:49.694995Z",
     "iopub.status.busy": "2023-10-17T19:50:49.694609Z",
     "iopub.status.idle": "2023-10-17T19:50:49.698756Z",
     "shell.execute_reply": "2023-10-17T19:50:49.698124Z",
     "shell.execute_reply.started": "2023-10-17T19:50:49.694972Z"
    }
   },
   "outputs": [
    {
     "name": "stdout",
     "output_type": "stream",
     "text": [
      "TransformerEncoder(\n",
      "  (layers): ModuleList(\n",
      "    (0-3): 4 x TransformerEncoderLayer(\n",
      "      (self_attn): MultiheadAttention(\n",
      "        (out_proj): NonDynamicallyQuantizableLinear(in_features=16, out_features=16, bias=True)\n",
      "      )\n",
      "      (linear1): Linear(in_features=16, out_features=512, bias=True)\n",
      "      (dropout): Dropout(p=0.1, inplace=False)\n",
      "      (linear2): Linear(in_features=512, out_features=16, bias=True)\n",
      "      (norm1): LayerNorm((16,), eps=1e-05, elementwise_affine=True)\n",
      "      (norm2): LayerNorm((16,), eps=1e-05, elementwise_affine=True)\n",
      "      (dropout1): Dropout(p=0.1, inplace=False)\n",
      "      (dropout2): Dropout(p=0.1, inplace=False)\n",
      "    )\n",
      "  )\n",
      ")\n"
     ]
    }
   ],
   "source": [
    "print(encoder)"
   ]
  },
  {
   "cell_type": "code",
   "execution_count": null,
   "id": "fc85164f-91c9-4db0-ada6-43d7ac4d77e9",
   "metadata": {},
   "outputs": [],
   "source": []
  }
 ],
 "metadata": {
  "kernelspec": {
   "display_name": "Python 3 (ipykernel)",
   "language": "python",
   "name": "python3"
  },
  "language_info": {
   "codemirror_mode": {
    "name": "ipython",
    "version": 3
   },
   "file_extension": ".py",
   "mimetype": "text/x-python",
   "name": "python",
   "nbconvert_exporter": "python",
   "pygments_lexer": "ipython3",
   "version": "3.9.12"
  }
 },
 "nbformat": 4,
 "nbformat_minor": 5
}
