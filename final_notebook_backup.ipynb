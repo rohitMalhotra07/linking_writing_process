{
 "cells": [
  {
   "cell_type": "code",
   "execution_count": 1,
   "id": "88a04674",
   "metadata": {
    "execution": {
     "iopub.execute_input": "2023-12-29T23:20:52.665982Z",
     "iopub.status.busy": "2023-12-29T23:20:52.665738Z",
     "iopub.status.idle": "2023-12-29T23:20:56.942440Z",
     "shell.execute_reply": "2023-12-29T23:20:56.941893Z",
     "shell.execute_reply.started": "2023-12-29T23:20:52.665966Z"
    },
    "papermill": {
     "duration": 17.093467,
     "end_time": "2023-11-22T04:48:10.538783",
     "exception": false,
     "start_time": "2023-11-22T04:47:53.445316",
     "status": "completed"
    },
    "tags": []
   },
   "outputs": [
    {
     "name": "stderr",
     "output_type": "stream",
     "text": [
      "/home/rohit/Desktop/kaggle/virtualenvs/writing_quality/lib/python3.9/site-packages/tqdm/auto.py:21: TqdmWarning: IProgress not found. Please update jupyter and ipywidgets. See https://ipywidgets.readthedocs.io/en/stable/user_install.html\n",
      "  from .autonotebook import tqdm as notebook_tqdm\n"
     ]
    }
   ],
   "source": [
    "import copy\n",
    "import gc\n",
    "import itertools\n",
    "import os\n",
    "import pickle\n",
    "import pprint\n",
    "import random\n",
    "import re\n",
    "import time\n",
    "\n",
    "# from transformers import BertTokenizer\n",
    "import warnings\n",
    "from collections import Counter, defaultdict\n",
    "from functools import reduce\n",
    "from itertools import cycle\n",
    "from random import choice, choices\n",
    "\n",
    "import joblib\n",
    "import lightgbm as lgb\n",
    "import matplotlib.pyplot as plt\n",
    "import numpy as np\n",
    "\n",
    "# import catboost as cb\n",
    "import optuna\n",
    "import pandas as pd\n",
    "import seaborn as sns\n",
    "import umap\n",
    "import xgboost as xgb\n",
    "from gensim.models import Word2Vec\n",
    "from gensim.test.utils import common_texts\n",
    "from scipy import stats\n",
    "from scipy.stats import kurtosis, skew\n",
    "from sklearn import (\n",
    "    decomposition,\n",
    "    ensemble,\n",
    "    linear_model,\n",
    "    metrics,\n",
    "    model_selection,\n",
    "    preprocessing,\n",
    "    tree,\n",
    ")\n",
    "from sklearn.feature_extraction.text import CountVectorizer, TfidfVectorizer\n",
    "from sklearn.impute import SimpleImputer\n",
    "from sklearn.metrics import accuracy_score, mean_absolute_error, mean_squared_error\n",
    "from sklearn.model_selection import GroupKFold, KFold, StratifiedKFold, train_test_split\n",
    "from sklearn.pipeline import Pipeline\n",
    "\n",
    "# from gensim.models import Word2Vec\n",
    "from sklearn.preprocessing import (\n",
    "    FunctionTransformer,\n",
    "    LabelEncoder,\n",
    "    PowerTransformer,\n",
    "    RobustScaler,\n",
    ")\n",
    "from sklearn.svm import SVR\n",
    "from tqdm import tqdm\n",
    "from tqdm.autonotebook import tqdm"
   ]
  },
  {
   "cell_type": "code",
   "execution_count": 2,
   "id": "bbdd6610",
   "metadata": {
    "execution": {
     "iopub.execute_input": "2023-12-29T23:20:56.943496Z",
     "iopub.status.busy": "2023-12-29T23:20:56.943266Z",
     "iopub.status.idle": "2023-12-29T23:20:56.948614Z",
     "shell.execute_reply": "2023-12-29T23:20:56.947947Z",
     "shell.execute_reply.started": "2023-12-29T23:20:56.943480Z"
    },
    "papermill": {
     "duration": 0.031629,
     "end_time": "2023-11-22T04:48:10.593054",
     "exception": false,
     "start_time": "2023-11-22T04:48:10.561425",
     "status": "completed"
    },
    "tags": []
   },
   "outputs": [
    {
     "data": {
      "text/plain": [
       "'2.0.3'"
      ]
     },
     "execution_count": 2,
     "metadata": {},
     "output_type": "execute_result"
    }
   ],
   "source": [
    "pd.__version__"
   ]
  },
  {
   "cell_type": "code",
   "execution_count": null,
   "id": "28c9f98c-21ac-4604-afa3-ffc8b3d686bc",
   "metadata": {},
   "outputs": [],
   "source": []
  },
  {
   "cell_type": "code",
   "execution_count": null,
   "id": "a7cab1d1-4fbe-417a-aaa4-6b9443f6d6c5",
   "metadata": {},
   "outputs": [],
   "source": []
  },
  {
   "cell_type": "code",
   "execution_count": 3,
   "id": "3423a3bc",
   "metadata": {
    "execution": {
     "iopub.execute_input": "2023-12-29T23:21:12.261791Z",
     "iopub.status.busy": "2023-12-29T23:21:12.261427Z",
     "iopub.status.idle": "2023-12-29T23:21:12.265586Z",
     "shell.execute_reply": "2023-12-29T23:21:12.265183Z",
     "shell.execute_reply.started": "2023-12-29T23:21:12.261768Z"
    },
    "papermill": {
     "duration": 0.029896,
     "end_time": "2023-11-22T04:48:10.646351",
     "exception": false,
     "start_time": "2023-11-22T04:48:10.616455",
     "status": "completed"
    },
    "tags": []
   },
   "outputs": [],
   "source": [
    "class MyConfig:\n",
    "    INPUT_DIR = \"./data\"\n",
    "    seed = 42\n",
    "    is_time_in_secs = True\n",
    "    time_divider = 1000 if is_time_in_secs else 1\n",
    "\n",
    "    num_folds = 10\n",
    "    num_estimators = 12001\n",
    "    num_trials_early_stopping = 200\n",
    "\n",
    "    response_variate = \"score\"\n",
    "    is_local = True\n",
    "    use_optuna_tuning = True\n",
    "    test_size_local = 0.2\n",
    "    num_trials_optuna = 100\n",
    "\n",
    "    num_features_to_display = 50\n",
    "    vector_size = 64\n",
    "    umap_filename = \"count_vectoriser_umap2.sav\""
   ]
  },
  {
   "cell_type": "code",
   "execution_count": 4,
   "id": "24183bb2",
   "metadata": {
    "execution": {
     "iopub.execute_input": "2023-12-29T23:21:12.836234Z",
     "iopub.status.busy": "2023-12-29T23:21:12.835735Z",
     "iopub.status.idle": "2023-12-29T23:21:12.841879Z",
     "shell.execute_reply": "2023-12-29T23:21:12.840498Z",
     "shell.execute_reply.started": "2023-12-29T23:21:12.836192Z"
    },
    "papermill": {
     "duration": 0.028456,
     "end_time": "2023-11-22T04:48:10.697051",
     "exception": false,
     "start_time": "2023-11-22T04:48:10.668595",
     "status": "completed"
    },
    "tags": []
   },
   "outputs": [],
   "source": [
    "cnfg = MyConfig()"
   ]
  },
  {
   "cell_type": "code",
   "execution_count": 5,
   "id": "5968ae5f-36ab-41d1-8e3a-d1e28f7cee17",
   "metadata": {
    "execution": {
     "iopub.execute_input": "2023-12-29T23:21:13.336565Z",
     "iopub.status.busy": "2023-12-29T23:21:13.336102Z",
     "iopub.status.idle": "2023-12-29T23:21:13.343914Z",
     "shell.execute_reply": "2023-12-29T23:21:13.342593Z",
     "shell.execute_reply.started": "2023-12-29T23:21:13.336524Z"
    }
   },
   "outputs": [],
   "source": [
    "tqdm.pandas()\n",
    "sns.set_style(\"whitegrid\")\n",
    "warnings.simplefilter(\"ignore\")\n",
    "random.seed(cnfg.seed)\n",
    "np.random.seed(cnfg.seed)"
   ]
  },
  {
   "cell_type": "markdown",
   "id": "be2315ef",
   "metadata": {
    "papermill": {
     "duration": 0.021971,
     "end_time": "2023-11-22T04:48:10.741196",
     "exception": false,
     "start_time": "2023-11-22T04:48:10.719225",
     "status": "completed"
    },
    "tags": []
   },
   "source": [
    "# Import Data"
   ]
  },
  {
   "cell_type": "code",
   "execution_count": 6,
   "id": "6d33ffaf",
   "metadata": {
    "execution": {
     "iopub.execute_input": "2023-12-29T23:21:15.187182Z",
     "iopub.status.busy": "2023-12-29T23:21:15.186973Z",
     "iopub.status.idle": "2023-12-29T23:21:19.909903Z",
     "shell.execute_reply": "2023-12-29T23:21:19.909367Z",
     "shell.execute_reply.started": "2023-12-29T23:21:15.187168Z"
    },
    "papermill": {
     "duration": 13.636537,
     "end_time": "2023-11-22T04:48:24.400176",
     "exception": false,
     "start_time": "2023-11-22T04:48:10.763639",
     "status": "completed"
    },
    "tags": []
   },
   "outputs": [],
   "source": [
    "traindf = pd.read_csv(f\"{cnfg.INPUT_DIR}/train_logs.csv\")\n",
    "train_scores = pd.read_csv(f\"{cnfg.INPUT_DIR}/train_scores.csv\")\n",
    "\n",
    "if cnfg.is_local:\n",
    "    train_scores, test_scores = train_test_split(\n",
    "        train_scores,\n",
    "        test_size=cnfg.test_size_local,\n",
    "        random_state=cnfg.seed,\n",
    "        stratify=train_scores.score,\n",
    "    )\n",
    "    train_scores = train_scores.reset_index(drop=True)\n",
    "    test_scores = test_scores.reset_index(drop=True)\n",
    "    testdf = traindf[traindf.id.isin(test_scores.id.unique())].reset_index(drop=True)\n",
    "    traindf = traindf[traindf.id.isin(train_scores.id.unique())].reset_index(drop=True)\n",
    "else:\n",
    "    testdf = pd.read_csv(f\"{cnfg.INPUT_DIR}/test_logs.csv\")"
   ]
  },
  {
   "cell_type": "code",
   "execution_count": 7,
   "id": "eeda7207-4a8e-4dec-8954-946afce166d5",
   "metadata": {
    "execution": {
     "iopub.execute_input": "2023-12-29T23:21:19.910802Z",
     "iopub.status.busy": "2023-12-29T23:21:19.910659Z",
     "iopub.status.idle": "2023-12-29T23:21:19.914783Z",
     "shell.execute_reply": "2023-12-29T23:21:19.914075Z",
     "shell.execute_reply.started": "2023-12-29T23:21:19.910789Z"
    }
   },
   "outputs": [
    {
     "data": {
      "text/plain": [
       "((6719293, 11), (1686605, 11))"
      ]
     },
     "execution_count": 7,
     "metadata": {},
     "output_type": "execute_result"
    }
   ],
   "source": [
    "traindf.shape, testdf.shape"
   ]
  },
  {
   "cell_type": "markdown",
   "id": "0c4b2f5e",
   "metadata": {
    "papermill": {
     "duration": 0.029161,
     "end_time": "2023-11-22T04:48:24.460439",
     "exception": false,
     "start_time": "2023-11-22T04:48:24.431278",
     "status": "completed"
    },
    "tags": []
   },
   "source": [
    "## Essay Constructor"
   ]
  },
  {
   "cell_type": "code",
   "execution_count": 8,
   "id": "4f37ee7e",
   "metadata": {
    "execution": {
     "iopub.execute_input": "2023-12-29T23:22:13.974524Z",
     "iopub.status.busy": "2023-12-29T23:22:13.973698Z",
     "iopub.status.idle": "2023-12-29T23:22:13.986168Z",
     "shell.execute_reply": "2023-12-29T23:22:13.985660Z",
     "shell.execute_reply.started": "2023-12-29T23:22:13.974449Z"
    },
    "papermill": {
     "duration": 0.05104,
     "end_time": "2023-11-22T04:48:24.540794",
     "exception": false,
     "start_time": "2023-11-22T04:48:24.489754",
     "status": "completed"
    },
    "tags": []
   },
   "outputs": [],
   "source": [
    "def getEssays(df):\n",
    "    # Copy required columns\n",
    "    textInputDf = df[[\"id\", \"activity\", \"cursor_position\", \"text_change\"]].copy()\n",
    "\n",
    "    # Get rid of text inputs that make no change\n",
    "    # Note: Shift was unpreditcable so ignored\n",
    "    textInputDf = textInputDf[textInputDf.activity != \"Nonproduction\"]\n",
    "\n",
    "    # Get how much each Id there is\n",
    "    valCountsArr = textInputDf[\"id\"].value_counts(sort=False).values\n",
    "\n",
    "    # Holds the final index of the previous Id\n",
    "    lastIndex = 0\n",
    "\n",
    "    # Holds all the essays\n",
    "    essaySeries = pd.Series()\n",
    "\n",
    "    # Fills essay series with essays\n",
    "    for index, valCount in enumerate(valCountsArr):\n",
    "        # Indexes down_time at current Id\n",
    "        currTextInput = textInputDf[\n",
    "            [\"activity\", \"cursor_position\", \"text_change\"]\n",
    "        ].iloc[lastIndex : lastIndex + valCount]\n",
    "\n",
    "        # Update the last index\n",
    "        lastIndex += valCount\n",
    "\n",
    "        # Where the essay content will be stored\n",
    "        essayText = \"\"\n",
    "\n",
    "        # Produces the essay\n",
    "        for Input in currTextInput.values:\n",
    "            # Input[0] = activity\n",
    "            # Input[2] = cursor_position\n",
    "            # Input[3] = text_change\n",
    "\n",
    "            # If activity = Replace\n",
    "            if Input[0] == \"Replace\":\n",
    "                # splits text_change at ' => '\n",
    "                replaceTxt = Input[2].split(\" => \")\n",
    "\n",
    "                # DONT TOUCH\n",
    "                essayText = (\n",
    "                    essayText[: Input[1] - len(replaceTxt[1])]\n",
    "                    + replaceTxt[1]\n",
    "                    + essayText[Input[1] - len(replaceTxt[1]) + len(replaceTxt[0]) :]\n",
    "                )\n",
    "                continue\n",
    "\n",
    "            # If activity = Paste\n",
    "            if Input[0] == \"Paste\":\n",
    "                # DONT TOUCH\n",
    "                essayText = (\n",
    "                    essayText[: Input[1] - len(Input[2])]\n",
    "                    + Input[2]\n",
    "                    + essayText[Input[1] - len(Input[2]) :]\n",
    "                )\n",
    "                continue\n",
    "\n",
    "            # If activity = Remove/Cut\n",
    "            if Input[0] == \"Remove/Cut\":\n",
    "                # DONT TOUCH\n",
    "                essayText = (\n",
    "                    essayText[: Input[1]] + essayText[Input[1] + len(Input[2]) :]\n",
    "                )\n",
    "                continue\n",
    "\n",
    "            # If activity = Move...\n",
    "            if \"M\" in Input[0]:\n",
    "                # Gets rid of the \"Move from to\" text\n",
    "                croppedTxt = Input[0][10:]\n",
    "\n",
    "                # Splits cropped text by ' To '\n",
    "                splitTxt = croppedTxt.split(\" To \")\n",
    "\n",
    "                # Splits split text again by ', ' for each item\n",
    "                valueArr = [item.split(\", \") for item in splitTxt]\n",
    "\n",
    "                # Move from [2, 4] To [5, 7] = (2, 4, 5, 7)\n",
    "                moveData = (\n",
    "                    int(valueArr[0][0][1:]),\n",
    "                    int(valueArr[0][1][:-1]),\n",
    "                    int(valueArr[1][0][1:]),\n",
    "                    int(valueArr[1][1][:-1]),\n",
    "                )\n",
    "\n",
    "                # Skip if someone manages to activiate this by moving to same place\n",
    "                if moveData[0] != moveData[2]:\n",
    "                    # Check if they move text forward in essay (they are different)\n",
    "                    if moveData[0] < moveData[2]:\n",
    "                        # DONT TOUCH\n",
    "                        essayText = (\n",
    "                            essayText[: moveData[0]]\n",
    "                            + essayText[moveData[1] : moveData[3]]\n",
    "                            + essayText[moveData[0] : moveData[1]]\n",
    "                            + essayText[moveData[3] :]\n",
    "                        )\n",
    "                    else:\n",
    "                        # DONT TOUCH\n",
    "                        essayText = (\n",
    "                            essayText[: moveData[2]]\n",
    "                            + essayText[moveData[0] : moveData[1]]\n",
    "                            + essayText[moveData[2] : moveData[0]]\n",
    "                            + essayText[moveData[1] :]\n",
    "                        )\n",
    "                continue\n",
    "\n",
    "            # If just input\n",
    "            # DONT TOUCH\n",
    "            essayText = (\n",
    "                essayText[: Input[1] - len(Input[2])]\n",
    "                + Input[2]\n",
    "                + essayText[Input[1] - len(Input[2]) :]\n",
    "            )\n",
    "\n",
    "        # Sets essay at index\n",
    "        essaySeries[index] = essayText\n",
    "\n",
    "    # Sets essay series index to the ids\n",
    "    essaySeries.index = textInputDf[\"id\"].unique()\n",
    "\n",
    "    # Returns the essay series\n",
    "    return essaySeries"
   ]
  },
  {
   "cell_type": "code",
   "execution_count": 9,
   "id": "8ffa20f4",
   "metadata": {
    "execution": {
     "iopub.execute_input": "2023-12-29T23:22:15.102010Z",
     "iopub.status.busy": "2023-12-29T23:22:15.100756Z",
     "iopub.status.idle": "2023-12-29T23:24:54.146689Z",
     "shell.execute_reply": "2023-12-29T23:24:54.146221Z",
     "shell.execute_reply.started": "2023-12-29T23:22:15.101893Z"
    },
    "papermill": {
     "duration": 594.961777,
     "end_time": "2023-11-22T04:58:19.526510",
     "exception": false,
     "start_time": "2023-11-22T04:48:24.564733",
     "status": "completed"
    },
    "tags": []
   },
   "outputs": [
    {
     "name": "stdout",
     "output_type": "stream",
     "text": [
      "CPU times: user 1min 57s, sys: 41.1 s, total: 2min 39s\n",
      "Wall time: 2min 39s\n"
     ]
    }
   ],
   "source": [
    "%%time\n",
    "train_essays = getEssays(traindf)"
   ]
  },
  {
   "cell_type": "code",
   "execution_count": 10,
   "id": "81140c97",
   "metadata": {
    "execution": {
     "iopub.execute_input": "2023-12-29T23:24:54.147654Z",
     "iopub.status.busy": "2023-12-29T23:24:54.147468Z",
     "iopub.status.idle": "2023-12-29T23:25:02.972255Z",
     "shell.execute_reply": "2023-12-29T23:25:02.971716Z",
     "shell.execute_reply.started": "2023-12-29T23:24:54.147641Z"
    },
    "papermill": {
     "duration": 0.037082,
     "end_time": "2023-11-22T04:58:19.586248",
     "exception": false,
     "start_time": "2023-11-22T04:58:19.549166",
     "status": "completed"
    },
    "tags": []
   },
   "outputs": [],
   "source": [
    "test_essays = getEssays(testdf)"
   ]
  },
  {
   "cell_type": "code",
   "execution_count": 11,
   "id": "e5cf7ae8",
   "metadata": {
    "execution": {
     "iopub.execute_input": "2023-12-29T23:25:02.972937Z",
     "iopub.status.busy": "2023-12-29T23:25:02.972764Z",
     "iopub.status.idle": "2023-12-29T23:25:02.976293Z",
     "shell.execute_reply": "2023-12-29T23:25:02.975714Z",
     "shell.execute_reply.started": "2023-12-29T23:25:02.972924Z"
    },
    "papermill": {
     "duration": 0.030618,
     "end_time": "2023-11-22T04:58:19.639906",
     "exception": false,
     "start_time": "2023-11-22T04:58:19.609288",
     "status": "completed"
    },
    "tags": []
   },
   "outputs": [],
   "source": [
    "train_essaysdf = pd.DataFrame({\"id\": train_essays.index, \"essay\": train_essays.values})\n",
    "test_essaysdf = pd.DataFrame({\"id\": test_essays.index, \"essay\": test_essays.values})"
   ]
  },
  {
   "cell_type": "code",
   "execution_count": 12,
   "id": "32b0cee6",
   "metadata": {
    "execution": {
     "iopub.execute_input": "2023-12-29T23:25:02.977927Z",
     "iopub.status.busy": "2023-12-29T23:25:02.977683Z",
     "iopub.status.idle": "2023-12-29T23:25:02.994741Z",
     "shell.execute_reply": "2023-12-29T23:25:02.994081Z",
     "shell.execute_reply.started": "2023-12-29T23:25:02.977899Z"
    },
    "papermill": {
     "duration": 0.037183,
     "end_time": "2023-11-22T04:58:19.699652",
     "exception": false,
     "start_time": "2023-11-22T04:58:19.662469",
     "status": "completed"
    },
    "tags": []
   },
   "outputs": [],
   "source": [
    "merged_data = train_essaysdf.merge(train_scores, on=\"id\")"
   ]
  },
  {
   "cell_type": "code",
   "execution_count": null,
   "id": "3df091d3-b35d-4065-afc7-71d4a11afc6f",
   "metadata": {},
   "outputs": [],
   "source": []
  },
  {
   "cell_type": "markdown",
   "id": "18ee9139",
   "metadata": {
    "papermill": {
     "duration": 0.022053,
     "end_time": "2023-11-22T04:58:19.743975",
     "exception": false,
     "start_time": "2023-11-22T04:58:19.721922",
     "status": "completed"
    },
    "tags": []
   },
   "source": [
    "## Using Tokenizer"
   ]
  },
  {
   "cell_type": "code",
   "execution_count": 13,
   "id": "f571f38f",
   "metadata": {
    "execution": {
     "iopub.execute_input": "2023-12-29T23:25:02.995606Z",
     "iopub.status.busy": "2023-12-29T23:25:02.995368Z",
     "iopub.status.idle": "2023-12-29T23:25:03.480463Z",
     "shell.execute_reply": "2023-12-29T23:25:03.479897Z",
     "shell.execute_reply.started": "2023-12-29T23:25:02.995591Z"
    },
    "papermill": {
     "duration": 1.451119,
     "end_time": "2023-11-22T04:58:21.217443",
     "exception": false,
     "start_time": "2023-11-22T04:58:19.766324",
     "status": "completed"
    },
    "tags": []
   },
   "outputs": [],
   "source": [
    "count_vectorizer = CountVectorizer(ngram_range=(1, 2))\n",
    "# count_vectorizer = TfidfVectorizer(ngram_range=(1, 2))\n",
    "X_tokenizer_train = count_vectorizer.fit_transform(merged_data[\"essay\"])\n",
    "X_tokenizer_test = count_vectorizer.transform(test_essaysdf[\"essay\"])"
   ]
  },
  {
   "cell_type": "code",
   "execution_count": null,
   "id": "e8c4ba89-cc81-447c-a0c6-ad0f6bc6e57c",
   "metadata": {},
   "outputs": [],
   "source": []
  },
  {
   "cell_type": "code",
   "execution_count": 14,
   "id": "38c57558-a20c-486b-b415-de3aa2a1a221",
   "metadata": {
    "execution": {
     "iopub.execute_input": "2023-12-29T23:25:03.481217Z",
     "iopub.status.busy": "2023-12-29T23:25:03.481053Z",
     "iopub.status.idle": "2023-12-29T23:25:03.483742Z",
     "shell.execute_reply": "2023-12-29T23:25:03.483224Z",
     "shell.execute_reply.started": "2023-12-29T23:25:03.481204Z"
    }
   },
   "outputs": [],
   "source": [
    "# dim_reduction_model = umap.UMAP(\n",
    "#     n_components=64, metric=\"hellinger\", random_state=cnfg.seed\n",
    "# )\n",
    "# dim_reduction_model = dim_reduction_model.fit(X_tokenizer_train)\n",
    "# joblib.dump(dim_reduction_model, cnfg.umap_filename)"
   ]
  },
  {
   "cell_type": "code",
   "execution_count": 15,
   "id": "950f60c7-b39d-4fce-ba7d-8a929fd7481b",
   "metadata": {
    "execution": {
     "iopub.execute_input": "2023-12-29T23:25:03.484658Z",
     "iopub.status.busy": "2023-12-29T23:25:03.484448Z",
     "iopub.status.idle": "2023-12-29T23:25:03.491277Z",
     "shell.execute_reply": "2023-12-29T23:25:03.490593Z",
     "shell.execute_reply.started": "2023-12-29T23:25:03.484619Z"
    }
   },
   "outputs": [],
   "source": [
    "# dim_reduction_model = joblib.load(cnfg.umap_filename)"
   ]
  },
  {
   "cell_type": "code",
   "execution_count": 16,
   "id": "e1f3e115-2b8a-4fd5-814e-fc5c168b2135",
   "metadata": {
    "execution": {
     "iopub.execute_input": "2023-12-29T23:25:03.492245Z",
     "iopub.status.busy": "2023-12-29T23:25:03.492061Z",
     "iopub.status.idle": "2023-12-29T23:25:03.496814Z",
     "shell.execute_reply": "2023-12-29T23:25:03.496338Z",
     "shell.execute_reply.started": "2023-12-29T23:25:03.492232Z"
    }
   },
   "outputs": [],
   "source": [
    "# dim_reduction_model = TruncatedSVD(n_components=64, n_iter=10, random_state=cnfg.seed)\n",
    "# dim_reduction_model = dim_reduction_model.fit(X_tokenizer_train)"
   ]
  },
  {
   "cell_type": "code",
   "execution_count": 17,
   "id": "e6b288fe-278f-4a0a-a79f-3ac2cd9d00ba",
   "metadata": {
    "execution": {
     "iopub.execute_input": "2023-12-29T23:25:03.497745Z",
     "iopub.status.busy": "2023-12-29T23:25:03.497374Z",
     "iopub.status.idle": "2023-12-29T23:25:03.501861Z",
     "shell.execute_reply": "2023-12-29T23:25:03.501521Z",
     "shell.execute_reply.started": "2023-12-29T23:25:03.497731Z"
    }
   },
   "outputs": [],
   "source": [
    "# dim_reduction_model"
   ]
  },
  {
   "cell_type": "code",
   "execution_count": null,
   "id": "1bd176e8-7f2b-4d36-965c-75b4aba463f4",
   "metadata": {},
   "outputs": [],
   "source": []
  },
  {
   "cell_type": "code",
   "execution_count": 18,
   "id": "aa656a8d",
   "metadata": {
    "execution": {
     "iopub.execute_input": "2023-12-29T23:25:03.503783Z",
     "iopub.status.busy": "2023-12-29T23:25:03.503532Z",
     "iopub.status.idle": "2023-12-29T23:25:03.509555Z",
     "shell.execute_reply": "2023-12-29T23:25:03.509230Z",
     "shell.execute_reply.started": "2023-12-29T23:25:03.503770Z"
    },
    "papermill": {
     "duration": 0.03347,
     "end_time": "2023-11-22T04:58:21.277451",
     "exception": false,
     "start_time": "2023-11-22T04:58:21.243981",
     "status": "completed"
    },
    "tags": []
   },
   "outputs": [
    {
     "data": {
      "text/plain": [
       "(1976, 277)"
      ]
     },
     "execution_count": 18,
     "metadata": {},
     "output_type": "execute_result"
    }
   ],
   "source": [
    "X_tokenizer_train.shape"
   ]
  },
  {
   "cell_type": "code",
   "execution_count": 19,
   "id": "039ee3f8",
   "metadata": {
    "execution": {
     "iopub.execute_input": "2023-12-29T23:25:03.510220Z",
     "iopub.status.busy": "2023-12-29T23:25:03.509996Z",
     "iopub.status.idle": "2023-12-29T23:25:03.516088Z",
     "shell.execute_reply": "2023-12-29T23:25:03.515560Z",
     "shell.execute_reply.started": "2023-12-29T23:25:03.510207Z"
    },
    "papermill": {
     "duration": 0.033084,
     "end_time": "2023-11-22T04:58:21.333856",
     "exception": false,
     "start_time": "2023-11-22T04:58:21.300772",
     "status": "completed"
    },
    "tags": []
   },
   "outputs": [
    {
     "data": {
      "text/plain": [
       "(495, 277)"
      ]
     },
     "execution_count": 19,
     "metadata": {},
     "output_type": "execute_result"
    }
   ],
   "source": [
    "X_tokenizer_test.shape"
   ]
  },
  {
   "cell_type": "code",
   "execution_count": 20,
   "id": "673e1fbd",
   "metadata": {
    "execution": {
     "iopub.execute_input": "2023-12-29T23:25:03.517004Z",
     "iopub.status.busy": "2023-12-29T23:25:03.516738Z",
     "iopub.status.idle": "2023-12-29T23:25:03.524400Z",
     "shell.execute_reply": "2023-12-29T23:25:03.523894Z",
     "shell.execute_reply.started": "2023-12-29T23:25:03.516987Z"
    },
    "papermill": {
     "duration": 0.033352,
     "end_time": "2023-11-22T04:58:21.394506",
     "exception": false,
     "start_time": "2023-11-22T04:58:21.361154",
     "status": "completed"
    },
    "tags": []
   },
   "outputs": [],
   "source": [
    "df_train = pd.DataFrame()\n",
    "df_test = pd.DataFrame()"
   ]
  },
  {
   "cell_type": "code",
   "execution_count": 21,
   "id": "5f084450-2c6b-4a81-b12c-2b007c07274a",
   "metadata": {
    "execution": {
     "iopub.execute_input": "2023-12-29T23:25:03.525239Z",
     "iopub.status.busy": "2023-12-29T23:25:03.524957Z",
     "iopub.status.idle": "2023-12-29T23:25:03.530064Z",
     "shell.execute_reply": "2023-12-29T23:25:03.529715Z",
     "shell.execute_reply.started": "2023-12-29T23:25:03.525223Z"
    }
   },
   "outputs": [],
   "source": [
    "X_tokenizer_train = np.array(X_tokenizer_train.todense())\n",
    "X_tokenizer_test = np.array(X_tokenizer_test.todense())"
   ]
  },
  {
   "cell_type": "code",
   "execution_count": 22,
   "id": "5f694a75-340a-44e5-b550-c0f5c72593db",
   "metadata": {
    "execution": {
     "iopub.execute_input": "2023-12-29T23:25:03.530820Z",
     "iopub.status.busy": "2023-12-29T23:25:03.530561Z",
     "iopub.status.idle": "2023-12-29T23:25:03.534268Z",
     "shell.execute_reply": "2023-12-29T23:25:03.533941Z",
     "shell.execute_reply.started": "2023-12-29T23:25:03.530806Z"
    }
   },
   "outputs": [],
   "source": [
    "# X_tokenizer_train = dim_reduction_model.transform(X_tokenizer_train)\n",
    "# X_tokenizer_test = dim_reduction_model.transform(X_tokenizer_test)"
   ]
  },
  {
   "cell_type": "code",
   "execution_count": 23,
   "id": "9c32797b-0f96-4256-9fd5-5b32905e8305",
   "metadata": {
    "execution": {
     "iopub.execute_input": "2023-12-29T23:25:03.535094Z",
     "iopub.status.busy": "2023-12-29T23:25:03.534737Z",
     "iopub.status.idle": "2023-12-29T23:25:03.540506Z",
     "shell.execute_reply": "2023-12-29T23:25:03.540065Z",
     "shell.execute_reply.started": "2023-12-29T23:25:03.535063Z"
    }
   },
   "outputs": [
    {
     "data": {
      "text/plain": [
       "((1976, 277), (495, 277))"
      ]
     },
     "execution_count": 23,
     "metadata": {},
     "output_type": "execute_result"
    }
   ],
   "source": [
    "X_tokenizer_train.shape, X_tokenizer_test.shape"
   ]
  },
  {
   "cell_type": "code",
   "execution_count": null,
   "id": "6a7fef38-a888-4190-b215-3a4c8004e433",
   "metadata": {},
   "outputs": [],
   "source": []
  },
  {
   "cell_type": "code",
   "execution_count": null,
   "id": "aa1bb363-12f8-4bf6-b824-5c531a209884",
   "metadata": {},
   "outputs": [],
   "source": []
  },
  {
   "cell_type": "code",
   "execution_count": null,
   "id": "7d08da56",
   "metadata": {
    "papermill": {
     "duration": 0.041779,
     "end_time": "2023-11-22T04:58:21.459647",
     "exception": false,
     "start_time": "2023-11-22T04:58:21.417868",
     "status": "completed"
    },
    "tags": []
   },
   "outputs": [],
   "source": []
  },
  {
   "cell_type": "markdown",
   "id": "4b48fcf1",
   "metadata": {
    "papermill": {
     "duration": 0.02269,
     "end_time": "2023-11-22T04:58:21.508177",
     "exception": false,
     "start_time": "2023-11-22T04:58:21.485487",
     "status": "completed"
    },
    "tags": []
   },
   "source": [
    "## Create Features from the tokenizer"
   ]
  },
  {
   "cell_type": "code",
   "execution_count": 24,
   "id": "3ed5e919",
   "metadata": {
    "execution": {
     "iopub.execute_input": "2023-12-29T23:25:03.541461Z",
     "iopub.status.busy": "2023-12-29T23:25:03.541097Z",
     "iopub.status.idle": "2023-12-29T23:25:03.549154Z",
     "shell.execute_reply": "2023-12-29T23:25:03.548496Z",
     "shell.execute_reply.started": "2023-12-29T23:25:03.541430Z"
    },
    "papermill": {
     "duration": 0.03358,
     "end_time": "2023-11-22T04:58:21.564375",
     "exception": false,
     "start_time": "2023-11-22T04:58:21.530795",
     "status": "completed"
    },
    "tags": []
   },
   "outputs": [],
   "source": [
    "df_train = pd.DataFrame(\n",
    "    X_tokenizer_train,\n",
    "    columns=[f\"token_feature_{i}\" for i in range(X_tokenizer_train.shape[1])],\n",
    ")"
   ]
  },
  {
   "cell_type": "code",
   "execution_count": 25,
   "id": "e8a3141f",
   "metadata": {
    "execution": {
     "iopub.execute_input": "2023-12-29T23:25:03.550114Z",
     "iopub.status.busy": "2023-12-29T23:25:03.549830Z",
     "iopub.status.idle": "2023-12-29T23:25:03.557387Z",
     "shell.execute_reply": "2023-12-29T23:25:03.556822Z",
     "shell.execute_reply.started": "2023-12-29T23:25:03.550097Z"
    },
    "papermill": {
     "duration": 0.031564,
     "end_time": "2023-11-22T04:58:21.622480",
     "exception": false,
     "start_time": "2023-11-22T04:58:21.590916",
     "status": "completed"
    },
    "tags": []
   },
   "outputs": [],
   "source": [
    "df_test = pd.DataFrame(\n",
    "    X_tokenizer_test,\n",
    "    columns=[f\"token_feature_{i}\" for i in range(X_tokenizer_test.shape[1])],\n",
    ")"
   ]
  },
  {
   "cell_type": "code",
   "execution_count": 26,
   "id": "92073a1e",
   "metadata": {
    "execution": {
     "iopub.execute_input": "2023-12-29T23:25:03.558325Z",
     "iopub.status.busy": "2023-12-29T23:25:03.558135Z",
     "iopub.status.idle": "2023-12-29T23:25:03.562777Z",
     "shell.execute_reply": "2023-12-29T23:25:03.562409Z",
     "shell.execute_reply.started": "2023-12-29T23:25:03.558310Z"
    },
    "papermill": {
     "duration": 0.030656,
     "end_time": "2023-11-22T04:58:21.675911",
     "exception": false,
     "start_time": "2023-11-22T04:58:21.645255",
     "status": "completed"
    },
    "tags": []
   },
   "outputs": [],
   "source": [
    "df_train_index = train_essaysdf[\"id\"]\n",
    "df_test_index = test_essaysdf[\"id\"]"
   ]
  },
  {
   "cell_type": "code",
   "execution_count": null,
   "id": "90e23091-1688-49ae-9525-dfef9b4b0792",
   "metadata": {},
   "outputs": [],
   "source": []
  },
  {
   "cell_type": "code",
   "execution_count": 27,
   "id": "a5dd5842",
   "metadata": {
    "execution": {
     "iopub.execute_input": "2023-12-29T23:25:03.563978Z",
     "iopub.status.busy": "2023-12-29T23:25:03.563584Z",
     "iopub.status.idle": "2023-12-29T23:25:03.570039Z",
     "shell.execute_reply": "2023-12-29T23:25:03.569460Z",
     "shell.execute_reply.started": "2023-12-29T23:25:03.563961Z"
    },
    "papermill": {
     "duration": 0.03196,
     "end_time": "2023-11-22T04:58:21.730869",
     "exception": false,
     "start_time": "2023-11-22T04:58:21.698909",
     "status": "completed"
    },
    "tags": []
   },
   "outputs": [],
   "source": [
    "df_train.loc[:, \"id\"] = df_train_index\n",
    "df_test.loc[:, \"id\"] = df_test_index"
   ]
  },
  {
   "cell_type": "code",
   "execution_count": 28,
   "id": "349025f7-9306-415b-b298-7d25d2656856",
   "metadata": {
    "execution": {
     "iopub.execute_input": "2023-12-29T23:25:03.570891Z",
     "iopub.status.busy": "2023-12-29T23:25:03.570665Z",
     "iopub.status.idle": "2023-12-29T23:25:03.588232Z",
     "shell.execute_reply": "2023-12-29T23:25:03.587621Z",
     "shell.execute_reply.started": "2023-12-29T23:25:03.570864Z"
    }
   },
   "outputs": [
    {
     "data": {
      "text/html": [
       "<div>\n",
       "<style scoped>\n",
       "    .dataframe tbody tr th:only-of-type {\n",
       "        vertical-align: middle;\n",
       "    }\n",
       "\n",
       "    .dataframe tbody tr th {\n",
       "        vertical-align: top;\n",
       "    }\n",
       "\n",
       "    .dataframe thead th {\n",
       "        text-align: right;\n",
       "    }\n",
       "</style>\n",
       "<table border=\"1\" class=\"dataframe\">\n",
       "  <thead>\n",
       "    <tr style=\"text-align: right;\">\n",
       "      <th></th>\n",
       "      <th>token_feature_0</th>\n",
       "      <th>token_feature_1</th>\n",
       "      <th>token_feature_2</th>\n",
       "      <th>token_feature_3</th>\n",
       "      <th>token_feature_4</th>\n",
       "      <th>token_feature_5</th>\n",
       "      <th>token_feature_6</th>\n",
       "      <th>token_feature_7</th>\n",
       "      <th>token_feature_8</th>\n",
       "      <th>token_feature_9</th>\n",
       "      <th>...</th>\n",
       "      <th>token_feature_268</th>\n",
       "      <th>token_feature_269</th>\n",
       "      <th>token_feature_270</th>\n",
       "      <th>token_feature_271</th>\n",
       "      <th>token_feature_272</th>\n",
       "      <th>token_feature_273</th>\n",
       "      <th>token_feature_274</th>\n",
       "      <th>token_feature_275</th>\n",
       "      <th>token_feature_276</th>\n",
       "      <th>id</th>\n",
       "    </tr>\n",
       "  </thead>\n",
       "  <tbody>\n",
       "    <tr>\n",
       "      <th>0</th>\n",
       "      <td>61</td>\n",
       "      <td>8</td>\n",
       "      <td>12</td>\n",
       "      <td>19</td>\n",
       "      <td>11</td>\n",
       "      <td>5</td>\n",
       "      <td>1</td>\n",
       "      <td>1</td>\n",
       "      <td>0</td>\n",
       "      <td>1</td>\n",
       "      <td>...</td>\n",
       "      <td>0</td>\n",
       "      <td>0</td>\n",
       "      <td>0</td>\n",
       "      <td>0</td>\n",
       "      <td>0</td>\n",
       "      <td>0</td>\n",
       "      <td>0</td>\n",
       "      <td>0</td>\n",
       "      <td>0</td>\n",
       "      <td>0022f953</td>\n",
       "    </tr>\n",
       "    <tr>\n",
       "      <th>1</th>\n",
       "      <td>64</td>\n",
       "      <td>6</td>\n",
       "      <td>8</td>\n",
       "      <td>8</td>\n",
       "      <td>6</td>\n",
       "      <td>6</td>\n",
       "      <td>4</td>\n",
       "      <td>10</td>\n",
       "      <td>4</td>\n",
       "      <td>4</td>\n",
       "      <td>...</td>\n",
       "      <td>0</td>\n",
       "      <td>0</td>\n",
       "      <td>0</td>\n",
       "      <td>0</td>\n",
       "      <td>0</td>\n",
       "      <td>0</td>\n",
       "      <td>0</td>\n",
       "      <td>0</td>\n",
       "      <td>0</td>\n",
       "      <td>0042269b</td>\n",
       "    </tr>\n",
       "    <tr>\n",
       "      <th>2</th>\n",
       "      <td>44</td>\n",
       "      <td>6</td>\n",
       "      <td>7</td>\n",
       "      <td>8</td>\n",
       "      <td>4</td>\n",
       "      <td>6</td>\n",
       "      <td>6</td>\n",
       "      <td>1</td>\n",
       "      <td>1</td>\n",
       "      <td>2</td>\n",
       "      <td>...</td>\n",
       "      <td>0</td>\n",
       "      <td>0</td>\n",
       "      <td>0</td>\n",
       "      <td>0</td>\n",
       "      <td>0</td>\n",
       "      <td>0</td>\n",
       "      <td>0</td>\n",
       "      <td>0</td>\n",
       "      <td>0</td>\n",
       "      <td>0059420b</td>\n",
       "    </tr>\n",
       "    <tr>\n",
       "      <th>3</th>\n",
       "      <td>49</td>\n",
       "      <td>3</td>\n",
       "      <td>15</td>\n",
       "      <td>11</td>\n",
       "      <td>9</td>\n",
       "      <td>2</td>\n",
       "      <td>3</td>\n",
       "      <td>3</td>\n",
       "      <td>0</td>\n",
       "      <td>1</td>\n",
       "      <td>...</td>\n",
       "      <td>0</td>\n",
       "      <td>0</td>\n",
       "      <td>0</td>\n",
       "      <td>0</td>\n",
       "      <td>0</td>\n",
       "      <td>0</td>\n",
       "      <td>0</td>\n",
       "      <td>0</td>\n",
       "      <td>0</td>\n",
       "      <td>0075873a</td>\n",
       "    </tr>\n",
       "    <tr>\n",
       "      <th>4</th>\n",
       "      <td>59</td>\n",
       "      <td>12</td>\n",
       "      <td>3</td>\n",
       "      <td>17</td>\n",
       "      <td>12</td>\n",
       "      <td>6</td>\n",
       "      <td>2</td>\n",
       "      <td>2</td>\n",
       "      <td>0</td>\n",
       "      <td>3</td>\n",
       "      <td>...</td>\n",
       "      <td>0</td>\n",
       "      <td>0</td>\n",
       "      <td>0</td>\n",
       "      <td>0</td>\n",
       "      <td>0</td>\n",
       "      <td>0</td>\n",
       "      <td>0</td>\n",
       "      <td>0</td>\n",
       "      <td>0</td>\n",
       "      <td>0081af50</td>\n",
       "    </tr>\n",
       "    <tr>\n",
       "      <th>...</th>\n",
       "      <td>...</td>\n",
       "      <td>...</td>\n",
       "      <td>...</td>\n",
       "      <td>...</td>\n",
       "      <td>...</td>\n",
       "      <td>...</td>\n",
       "      <td>...</td>\n",
       "      <td>...</td>\n",
       "      <td>...</td>\n",
       "      <td>...</td>\n",
       "      <td>...</td>\n",
       "      <td>...</td>\n",
       "      <td>...</td>\n",
       "      <td>...</td>\n",
       "      <td>...</td>\n",
       "      <td>...</td>\n",
       "      <td>...</td>\n",
       "      <td>...</td>\n",
       "      <td>...</td>\n",
       "      <td>...</td>\n",
       "      <td>...</td>\n",
       "    </tr>\n",
       "    <tr>\n",
       "      <th>1971</th>\n",
       "      <td>49</td>\n",
       "      <td>5</td>\n",
       "      <td>4</td>\n",
       "      <td>9</td>\n",
       "      <td>13</td>\n",
       "      <td>7</td>\n",
       "      <td>7</td>\n",
       "      <td>0</td>\n",
       "      <td>1</td>\n",
       "      <td>0</td>\n",
       "      <td>...</td>\n",
       "      <td>0</td>\n",
       "      <td>0</td>\n",
       "      <td>0</td>\n",
       "      <td>0</td>\n",
       "      <td>0</td>\n",
       "      <td>0</td>\n",
       "      <td>0</td>\n",
       "      <td>0</td>\n",
       "      <td>0</td>\n",
       "      <td>ffb8c745</td>\n",
       "    </tr>\n",
       "    <tr>\n",
       "      <th>1972</th>\n",
       "      <td>74</td>\n",
       "      <td>16</td>\n",
       "      <td>9</td>\n",
       "      <td>21</td>\n",
       "      <td>10</td>\n",
       "      <td>7</td>\n",
       "      <td>4</td>\n",
       "      <td>4</td>\n",
       "      <td>1</td>\n",
       "      <td>1</td>\n",
       "      <td>...</td>\n",
       "      <td>0</td>\n",
       "      <td>0</td>\n",
       "      <td>0</td>\n",
       "      <td>0</td>\n",
       "      <td>0</td>\n",
       "      <td>0</td>\n",
       "      <td>0</td>\n",
       "      <td>0</td>\n",
       "      <td>0</td>\n",
       "      <td>ffbef7e5</td>\n",
       "    </tr>\n",
       "    <tr>\n",
       "      <th>1973</th>\n",
       "      <td>42</td>\n",
       "      <td>5</td>\n",
       "      <td>9</td>\n",
       "      <td>8</td>\n",
       "      <td>7</td>\n",
       "      <td>5</td>\n",
       "      <td>3</td>\n",
       "      <td>1</td>\n",
       "      <td>1</td>\n",
       "      <td>1</td>\n",
       "      <td>...</td>\n",
       "      <td>0</td>\n",
       "      <td>0</td>\n",
       "      <td>0</td>\n",
       "      <td>0</td>\n",
       "      <td>0</td>\n",
       "      <td>0</td>\n",
       "      <td>0</td>\n",
       "      <td>0</td>\n",
       "      <td>0</td>\n",
       "      <td>ffccd6fd</td>\n",
       "    </tr>\n",
       "    <tr>\n",
       "      <th>1974</th>\n",
       "      <td>80</td>\n",
       "      <td>5</td>\n",
       "      <td>19</td>\n",
       "      <td>12</td>\n",
       "      <td>11</td>\n",
       "      <td>6</td>\n",
       "      <td>11</td>\n",
       "      <td>2</td>\n",
       "      <td>1</td>\n",
       "      <td>5</td>\n",
       "      <td>...</td>\n",
       "      <td>0</td>\n",
       "      <td>0</td>\n",
       "      <td>0</td>\n",
       "      <td>0</td>\n",
       "      <td>0</td>\n",
       "      <td>0</td>\n",
       "      <td>0</td>\n",
       "      <td>0</td>\n",
       "      <td>0</td>\n",
       "      <td>ffec5b38</td>\n",
       "    </tr>\n",
       "    <tr>\n",
       "      <th>1975</th>\n",
       "      <td>47</td>\n",
       "      <td>5</td>\n",
       "      <td>5</td>\n",
       "      <td>10</td>\n",
       "      <td>4</td>\n",
       "      <td>4</td>\n",
       "      <td>3</td>\n",
       "      <td>2</td>\n",
       "      <td>5</td>\n",
       "      <td>1</td>\n",
       "      <td>...</td>\n",
       "      <td>0</td>\n",
       "      <td>0</td>\n",
       "      <td>0</td>\n",
       "      <td>0</td>\n",
       "      <td>0</td>\n",
       "      <td>0</td>\n",
       "      <td>0</td>\n",
       "      <td>0</td>\n",
       "      <td>0</td>\n",
       "      <td>fff05981</td>\n",
       "    </tr>\n",
       "  </tbody>\n",
       "</table>\n",
       "<p>1976 rows × 278 columns</p>\n",
       "</div>"
      ],
      "text/plain": [
       "      token_feature_0  token_feature_1  token_feature_2  token_feature_3  \\\n",
       "0                  61                8               12               19   \n",
       "1                  64                6                8                8   \n",
       "2                  44                6                7                8   \n",
       "3                  49                3               15               11   \n",
       "4                  59               12                3               17   \n",
       "...               ...              ...              ...              ...   \n",
       "1971               49                5                4                9   \n",
       "1972               74               16                9               21   \n",
       "1973               42                5                9                8   \n",
       "1974               80                5               19               12   \n",
       "1975               47                5                5               10   \n",
       "\n",
       "      token_feature_4  token_feature_5  token_feature_6  token_feature_7  \\\n",
       "0                  11                5                1                1   \n",
       "1                   6                6                4               10   \n",
       "2                   4                6                6                1   \n",
       "3                   9                2                3                3   \n",
       "4                  12                6                2                2   \n",
       "...               ...              ...              ...              ...   \n",
       "1971               13                7                7                0   \n",
       "1972               10                7                4                4   \n",
       "1973                7                5                3                1   \n",
       "1974               11                6               11                2   \n",
       "1975                4                4                3                2   \n",
       "\n",
       "      token_feature_8  token_feature_9  ...  token_feature_268  \\\n",
       "0                   0                1  ...                  0   \n",
       "1                   4                4  ...                  0   \n",
       "2                   1                2  ...                  0   \n",
       "3                   0                1  ...                  0   \n",
       "4                   0                3  ...                  0   \n",
       "...               ...              ...  ...                ...   \n",
       "1971                1                0  ...                  0   \n",
       "1972                1                1  ...                  0   \n",
       "1973                1                1  ...                  0   \n",
       "1974                1                5  ...                  0   \n",
       "1975                5                1  ...                  0   \n",
       "\n",
       "      token_feature_269  token_feature_270  token_feature_271  \\\n",
       "0                     0                  0                  0   \n",
       "1                     0                  0                  0   \n",
       "2                     0                  0                  0   \n",
       "3                     0                  0                  0   \n",
       "4                     0                  0                  0   \n",
       "...                 ...                ...                ...   \n",
       "1971                  0                  0                  0   \n",
       "1972                  0                  0                  0   \n",
       "1973                  0                  0                  0   \n",
       "1974                  0                  0                  0   \n",
       "1975                  0                  0                  0   \n",
       "\n",
       "      token_feature_272  token_feature_273  token_feature_274  \\\n",
       "0                     0                  0                  0   \n",
       "1                     0                  0                  0   \n",
       "2                     0                  0                  0   \n",
       "3                     0                  0                  0   \n",
       "4                     0                  0                  0   \n",
       "...                 ...                ...                ...   \n",
       "1971                  0                  0                  0   \n",
       "1972                  0                  0                  0   \n",
       "1973                  0                  0                  0   \n",
       "1974                  0                  0                  0   \n",
       "1975                  0                  0                  0   \n",
       "\n",
       "      token_feature_275  token_feature_276        id  \n",
       "0                     0                  0  0022f953  \n",
       "1                     0                  0  0042269b  \n",
       "2                     0                  0  0059420b  \n",
       "3                     0                  0  0075873a  \n",
       "4                     0                  0  0081af50  \n",
       "...                 ...                ...       ...  \n",
       "1971                  0                  0  ffb8c745  \n",
       "1972                  0                  0  ffbef7e5  \n",
       "1973                  0                  0  ffccd6fd  \n",
       "1974                  0                  0  ffec5b38  \n",
       "1975                  0                  0  fff05981  \n",
       "\n",
       "[1976 rows x 278 columns]"
      ]
     },
     "execution_count": 28,
     "metadata": {},
     "output_type": "execute_result"
    }
   ],
   "source": [
    "df_train"
   ]
  },
  {
   "cell_type": "code",
   "execution_count": 29,
   "id": "12637dfc-9be9-417d-b4d0-a0a3f0e1353f",
   "metadata": {
    "execution": {
     "iopub.execute_input": "2023-12-29T23:25:03.589113Z",
     "iopub.status.busy": "2023-12-29T23:25:03.588890Z",
     "iopub.status.idle": "2023-12-29T23:25:03.591532Z",
     "shell.execute_reply": "2023-12-29T23:25:03.590966Z",
     "shell.execute_reply.started": "2023-12-29T23:25:03.589097Z"
    }
   },
   "outputs": [],
   "source": [
    "# df_train"
   ]
  },
  {
   "cell_type": "code",
   "execution_count": 30,
   "id": "b3269e8a-918a-4489-acc8-ad44d011d31a",
   "metadata": {
    "execution": {
     "iopub.execute_input": "2023-12-29T23:25:03.592458Z",
     "iopub.status.busy": "2023-12-29T23:25:03.592240Z",
     "iopub.status.idle": "2023-12-29T23:25:03.598138Z",
     "shell.execute_reply": "2023-12-29T23:25:03.597429Z",
     "shell.execute_reply.started": "2023-12-29T23:25:03.592443Z"
    }
   },
   "outputs": [],
   "source": [
    "# count_vectorizer.vocabulary_"
   ]
  },
  {
   "cell_type": "markdown",
   "id": "89c7f0e1",
   "metadata": {
    "papermill": {
     "duration": 0.02272,
     "end_time": "2023-11-22T04:58:21.776167",
     "exception": false,
     "start_time": "2023-11-22T04:58:21.753447",
     "status": "completed"
    },
    "tags": []
   },
   "source": [
    "# Feature Engineering"
   ]
  },
  {
   "cell_type": "code",
   "execution_count": 31,
   "id": "fda6219f",
   "metadata": {
    "execution": {
     "iopub.execute_input": "2023-12-29T23:25:03.599378Z",
     "iopub.status.busy": "2023-12-29T23:25:03.598992Z",
     "iopub.status.idle": "2023-12-29T23:25:05.275533Z",
     "shell.execute_reply": "2023-12-29T23:25:05.275047Z",
     "shell.execute_reply.started": "2023-12-29T23:25:03.599353Z"
    },
    "papermill": {
     "duration": 4.825372,
     "end_time": "2023-11-22T04:58:26.624346",
     "exception": false,
     "start_time": "2023-11-22T04:58:21.798974",
     "status": "completed"
    },
    "tags": []
   },
   "outputs": [],
   "source": [
    "train_agg_fe_df = traindf.groupby(\"id\")[\n",
    "    [\"down_time\", \"up_time\", \"action_time\", \"cursor_position\", \"word_count\"]\n",
    "].agg([\"mean\", \"std\", \"min\", \"max\", \"last\", \"first\", \"sem\", \"median\", \"sum\"])\n",
    "train_agg_fe_df.columns = [\"_\".join(x) for x in train_agg_fe_df.columns]\n",
    "train_agg_fe_df = train_agg_fe_df.add_prefix(\"tmp_\")\n",
    "train_agg_fe_df.reset_index(inplace=True)"
   ]
  },
  {
   "cell_type": "code",
   "execution_count": 32,
   "id": "4e0194d4",
   "metadata": {
    "execution": {
     "iopub.execute_input": "2023-12-29T23:25:05.276260Z",
     "iopub.status.busy": "2023-12-29T23:25:05.276102Z",
     "iopub.status.idle": "2023-12-29T23:25:05.681268Z",
     "shell.execute_reply": "2023-12-29T23:25:05.680708Z",
     "shell.execute_reply.started": "2023-12-29T23:25:05.276247Z"
    },
    "papermill": {
     "duration": 0.051756,
     "end_time": "2023-11-22T04:58:26.699806",
     "exception": false,
     "start_time": "2023-11-22T04:58:26.648050",
     "status": "completed"
    },
    "tags": []
   },
   "outputs": [],
   "source": [
    "test_agg_fe_df = testdf.groupby(\"id\")[\n",
    "    [\"down_time\", \"up_time\", \"action_time\", \"cursor_position\", \"word_count\"]\n",
    "].agg([\"mean\", \"std\", \"min\", \"max\", \"last\", \"first\", \"sem\", \"median\", \"sum\"])\n",
    "test_agg_fe_df.columns = [\"_\".join(x) for x in test_agg_fe_df.columns]\n",
    "test_agg_fe_df = test_agg_fe_df.add_prefix(\"tmp_\")\n",
    "test_agg_fe_df.reset_index(inplace=True)"
   ]
  },
  {
   "cell_type": "markdown",
   "id": "ba5aad2d",
   "metadata": {
    "papermill": {
     "duration": 0.022308,
     "end_time": "2023-11-22T04:58:26.744564",
     "exception": false,
     "start_time": "2023-11-22T04:58:26.722256",
     "status": "completed"
    },
    "tags": []
   },
   "source": [
    "### Word2Vec ###"
   ]
  },
  {
   "cell_type": "code",
   "execution_count": 33,
   "id": "0cb7e3fc",
   "metadata": {
    "execution": {
     "iopub.execute_input": "2023-12-29T23:25:05.681955Z",
     "iopub.status.busy": "2023-12-29T23:25:05.681777Z",
     "iopub.status.idle": "2023-12-29T23:25:05.755209Z",
     "shell.execute_reply": "2023-12-29T23:25:05.754634Z",
     "shell.execute_reply.started": "2023-12-29T23:25:05.681942Z"
    },
    "papermill": {
     "duration": 0.240294,
     "end_time": "2023-11-22T04:58:27.007803",
     "exception": false,
     "start_time": "2023-11-22T04:58:26.767509",
     "status": "completed"
    },
    "tags": []
   },
   "outputs": [],
   "source": [
    "train_sentences = train_essaysdf.essay.apply(\n",
    "    lambda x: [k.strip() for k in x.split(\" \") if k != \"\"]\n",
    ")"
   ]
  },
  {
   "cell_type": "code",
   "execution_count": 34,
   "id": "a71c2731",
   "metadata": {
    "execution": {
     "iopub.execute_input": "2023-12-29T23:25:05.755861Z",
     "iopub.status.busy": "2023-12-29T23:25:05.755728Z",
     "iopub.status.idle": "2023-12-29T23:25:05.776206Z",
     "shell.execute_reply": "2023-12-29T23:25:05.775605Z",
     "shell.execute_reply.started": "2023-12-29T23:25:05.755848Z"
    },
    "papermill": {
     "duration": 0.030552,
     "end_time": "2023-11-22T04:58:27.061458",
     "exception": false,
     "start_time": "2023-11-22T04:58:27.030906",
     "status": "completed"
    },
    "tags": []
   },
   "outputs": [],
   "source": [
    "test_sentences = test_essaysdf.essay.apply(\n",
    "    lambda x: [k.strip() for k in x.split(\" \") if k != \"\"]\n",
    ")"
   ]
  },
  {
   "cell_type": "code",
   "execution_count": 35,
   "id": "195d9dc8",
   "metadata": {
    "execution": {
     "iopub.execute_input": "2023-12-29T23:25:05.777128Z",
     "iopub.status.busy": "2023-12-29T23:25:05.776897Z",
     "iopub.status.idle": "2023-12-29T23:26:22.112162Z",
     "shell.execute_reply": "2023-12-29T23:26:22.111690Z",
     "shell.execute_reply.started": "2023-12-29T23:25:05.777114Z"
    },
    "papermill": {
     "duration": 172.847692,
     "end_time": "2023-11-22T05:01:19.931824",
     "exception": false,
     "start_time": "2023-11-22T04:58:27.084132",
     "status": "completed"
    },
    "tags": []
   },
   "outputs": [
    {
     "data": {
      "text/plain": [
       "(29788256, 152867600)"
      ]
     },
     "execution_count": 35,
     "metadata": {},
     "output_type": "execute_result"
    }
   ],
   "source": [
    "model_w2vec = Word2Vec(\n",
    "    # sentences=train_sentences,\n",
    "    vector_size=cnfg.vector_size,\n",
    "    window=5,\n",
    "    min_count=1,\n",
    "    workers=1,\n",
    "    alpha=0.03,\n",
    "    seed=cnfg.seed,\n",
    "    sg=1,\n",
    ")\n",
    "model_w2vec.build_vocab(train_sentences, progress_per=10000)\n",
    "model_w2vec.train(\n",
    "    train_sentences, total_examples=model_w2vec.corpus_count, epochs=200, report_delay=1\n",
    ")"
   ]
  },
  {
   "cell_type": "code",
   "execution_count": 36,
   "id": "bd422015",
   "metadata": {
    "execution": {
     "iopub.execute_input": "2023-12-29T23:26:22.115747Z",
     "iopub.status.busy": "2023-12-29T23:26:22.115587Z",
     "iopub.status.idle": "2023-12-29T23:26:22.119756Z",
     "shell.execute_reply": "2023-12-29T23:26:22.119405Z",
     "shell.execute_reply.started": "2023-12-29T23:26:22.115734Z"
    },
    "papermill": {
     "duration": 0.034599,
     "end_time": "2023-11-22T05:01:19.989505",
     "exception": false,
     "start_time": "2023-11-22T05:01:19.954906",
     "status": "completed"
    },
    "tags": []
   },
   "outputs": [],
   "source": [
    "def get_w2vec_embeddings(mdl, sentences, vector_size=64):\n",
    "    all_embd_final = []\n",
    "    not_found_words = []\n",
    "    for i in tqdm(range(len(sentences))):\n",
    "        all_embd = []\n",
    "        for j in range(len(sentences[i])):\n",
    "            try:\n",
    "                emb = mdl.wv[sentences[i][j]]\n",
    "                all_embd.append(emb)\n",
    "            except:\n",
    "                all_embd.append(np.zeros(vector_size))\n",
    "                not_found_words.append(sentences[i][j])\n",
    "        if all_embd == []:\n",
    "            embd_final = np.zeros(vector_size)\n",
    "        else:\n",
    "            embd_final = np.mean(all_embd, axis=0)\n",
    "        all_embd_final.append(embd_final)\n",
    "    embd_df = pd.DataFrame(\n",
    "        all_embd_final, columns=[f\"w2vec_dim_{k}\" for k in range(vector_size)]\n",
    "    )\n",
    "    return embd_df, not_found_words"
   ]
  },
  {
   "cell_type": "code",
   "execution_count": 37,
   "id": "c67923cd",
   "metadata": {
    "execution": {
     "iopub.execute_input": "2023-12-29T23:26:22.120441Z",
     "iopub.status.busy": "2023-12-29T23:26:22.120317Z",
     "iopub.status.idle": "2023-12-29T23:26:24.015393Z",
     "shell.execute_reply": "2023-12-29T23:26:24.015019Z",
     "shell.execute_reply.started": "2023-12-29T23:26:22.120428Z"
    },
    "papermill": {
     "duration": 7.224659,
     "end_time": "2023-11-22T05:01:27.237984",
     "exception": false,
     "start_time": "2023-11-22T05:01:20.013325",
     "status": "completed"
    },
    "tags": []
   },
   "outputs": [
    {
     "name": "stderr",
     "output_type": "stream",
     "text": [
      "100%|█████████████████████████████████████| 1976/1976 [00:01<00:00, 1060.33it/s]\n"
     ]
    }
   ],
   "source": [
    "embd_df_train, not_found_words_train = get_w2vec_embeddings(\n",
    "    model_w2vec, train_sentences, vector_size=cnfg.vector_size\n",
    ")\n",
    "embd_df_train[\"id\"] = train_essaysdf.id"
   ]
  },
  {
   "cell_type": "code",
   "execution_count": 38,
   "id": "2765c919",
   "metadata": {
    "execution": {
     "iopub.execute_input": "2023-12-29T23:26:24.016023Z",
     "iopub.status.busy": "2023-12-29T23:26:24.015877Z",
     "iopub.status.idle": "2023-12-29T23:26:24.505283Z",
     "shell.execute_reply": "2023-12-29T23:26:24.504791Z",
     "shell.execute_reply.started": "2023-12-29T23:26:24.016010Z"
    },
    "papermill": {
     "duration": 0.050996,
     "end_time": "2023-11-22T05:01:27.312574",
     "exception": false,
     "start_time": "2023-11-22T05:01:27.261578",
     "status": "completed"
    },
    "tags": []
   },
   "outputs": [
    {
     "name": "stderr",
     "output_type": "stream",
     "text": [
      "100%|███████████████████████████████████████| 495/495 [00:00<00:00, 1030.16it/s]\n"
     ]
    }
   ],
   "source": [
    "embd_df_test, not_found_words_test = get_w2vec_embeddings(\n",
    "    model_w2vec, test_sentences, vector_size=cnfg.vector_size\n",
    ")\n",
    "embd_df_test[\"id\"] = test_essaysdf.id"
   ]
  },
  {
   "cell_type": "code",
   "execution_count": 39,
   "id": "32b59e4c",
   "metadata": {
    "execution": {
     "iopub.execute_input": "2023-12-29T23:26:24.506063Z",
     "iopub.status.busy": "2023-12-29T23:26:24.505889Z",
     "iopub.status.idle": "2023-12-29T23:26:24.513655Z",
     "shell.execute_reply": "2023-12-29T23:26:24.513177Z",
     "shell.execute_reply.started": "2023-12-29T23:26:24.506050Z"
    },
    "papermill": {
     "duration": 0.03837,
     "end_time": "2023-11-22T05:01:27.374228",
     "exception": false,
     "start_time": "2023-11-22T05:01:27.335858",
     "status": "completed"
    },
    "tags": []
   },
   "outputs": [],
   "source": [
    "df_train = df_train.merge(embd_df_train, on=\"id\")\n",
    "df_test = df_test.merge(embd_df_test, on=\"id\")"
   ]
  },
  {
   "cell_type": "code",
   "execution_count": 40,
   "id": "27a7468f",
   "metadata": {
    "execution": {
     "iopub.execute_input": "2023-12-29T23:26:24.514354Z",
     "iopub.status.busy": "2023-12-29T23:26:24.514205Z",
     "iopub.status.idle": "2023-12-29T23:26:24.527159Z",
     "shell.execute_reply": "2023-12-29T23:26:24.526437Z",
     "shell.execute_reply.started": "2023-12-29T23:26:24.514341Z"
    },
    "papermill": {
     "duration": 0.031528,
     "end_time": "2023-11-22T05:01:27.428815",
     "exception": false,
     "start_time": "2023-11-22T05:01:27.397287",
     "status": "completed"
    },
    "tags": []
   },
   "outputs": [
    {
     "data": {
      "text/plain": [
       "((1976, 342), (495, 342))"
      ]
     },
     "execution_count": 40,
     "metadata": {},
     "output_type": "execute_result"
    }
   ],
   "source": [
    "df_train.shape, df_test.shape"
   ]
  },
  {
   "cell_type": "code",
   "execution_count": 41,
   "id": "f25d4e1a",
   "metadata": {
    "execution": {
     "iopub.execute_input": "2023-12-29T23:26:24.528357Z",
     "iopub.status.busy": "2023-12-29T23:26:24.527903Z",
     "iopub.status.idle": "2023-12-29T23:26:24.547386Z",
     "shell.execute_reply": "2023-12-29T23:26:24.546707Z",
     "shell.execute_reply.started": "2023-12-29T23:26:24.528336Z"
    },
    "papermill": {
     "duration": 0.022962,
     "end_time": "2023-11-22T05:01:27.474751",
     "exception": false,
     "start_time": "2023-11-22T05:01:27.451789",
     "status": "completed"
    },
    "tags": []
   },
   "outputs": [
    {
     "data": {
      "text/html": [
       "<div>\n",
       "<style scoped>\n",
       "    .dataframe tbody tr th:only-of-type {\n",
       "        vertical-align: middle;\n",
       "    }\n",
       "\n",
       "    .dataframe tbody tr th {\n",
       "        vertical-align: top;\n",
       "    }\n",
       "\n",
       "    .dataframe thead th {\n",
       "        text-align: right;\n",
       "    }\n",
       "</style>\n",
       "<table border=\"1\" class=\"dataframe\">\n",
       "  <thead>\n",
       "    <tr style=\"text-align: right;\">\n",
       "      <th></th>\n",
       "      <th>w2vec_dim_0</th>\n",
       "      <th>w2vec_dim_1</th>\n",
       "      <th>w2vec_dim_2</th>\n",
       "      <th>w2vec_dim_3</th>\n",
       "      <th>w2vec_dim_4</th>\n",
       "      <th>w2vec_dim_5</th>\n",
       "      <th>w2vec_dim_6</th>\n",
       "      <th>w2vec_dim_7</th>\n",
       "      <th>w2vec_dim_8</th>\n",
       "      <th>w2vec_dim_9</th>\n",
       "      <th>...</th>\n",
       "      <th>w2vec_dim_55</th>\n",
       "      <th>w2vec_dim_56</th>\n",
       "      <th>w2vec_dim_57</th>\n",
       "      <th>w2vec_dim_58</th>\n",
       "      <th>w2vec_dim_59</th>\n",
       "      <th>w2vec_dim_60</th>\n",
       "      <th>w2vec_dim_61</th>\n",
       "      <th>w2vec_dim_62</th>\n",
       "      <th>w2vec_dim_63</th>\n",
       "      <th>id</th>\n",
       "    </tr>\n",
       "  </thead>\n",
       "  <tbody>\n",
       "    <tr>\n",
       "      <th>0</th>\n",
       "      <td>-0.120961</td>\n",
       "      <td>0.008124</td>\n",
       "      <td>0.189207</td>\n",
       "      <td>-0.257088</td>\n",
       "      <td>-0.023798</td>\n",
       "      <td>-0.073213</td>\n",
       "      <td>-0.050833</td>\n",
       "      <td>-0.109157</td>\n",
       "      <td>-0.160328</td>\n",
       "      <td>-0.025513</td>\n",
       "      <td>...</td>\n",
       "      <td>-0.135022</td>\n",
       "      <td>-0.017231</td>\n",
       "      <td>-0.079651</td>\n",
       "      <td>-0.009296</td>\n",
       "      <td>-0.091024</td>\n",
       "      <td>-0.074310</td>\n",
       "      <td>-0.008469</td>\n",
       "      <td>-0.071511</td>\n",
       "      <td>0.005326</td>\n",
       "      <td>0022f953</td>\n",
       "    </tr>\n",
       "    <tr>\n",
       "      <th>1</th>\n",
       "      <td>-0.121321</td>\n",
       "      <td>0.041959</td>\n",
       "      <td>0.207654</td>\n",
       "      <td>-0.251683</td>\n",
       "      <td>-0.008331</td>\n",
       "      <td>-0.055835</td>\n",
       "      <td>-0.042590</td>\n",
       "      <td>-0.106092</td>\n",
       "      <td>-0.150785</td>\n",
       "      <td>-0.015334</td>\n",
       "      <td>...</td>\n",
       "      <td>-0.153256</td>\n",
       "      <td>-0.030884</td>\n",
       "      <td>-0.072392</td>\n",
       "      <td>0.018172</td>\n",
       "      <td>-0.094070</td>\n",
       "      <td>-0.044517</td>\n",
       "      <td>-0.016554</td>\n",
       "      <td>-0.089601</td>\n",
       "      <td>0.004782</td>\n",
       "      <td>0042269b</td>\n",
       "    </tr>\n",
       "    <tr>\n",
       "      <th>2</th>\n",
       "      <td>-0.133752</td>\n",
       "      <td>0.018474</td>\n",
       "      <td>0.199096</td>\n",
       "      <td>-0.251982</td>\n",
       "      <td>-0.012915</td>\n",
       "      <td>-0.044597</td>\n",
       "      <td>-0.060598</td>\n",
       "      <td>-0.095827</td>\n",
       "      <td>-0.155384</td>\n",
       "      <td>-0.020722</td>\n",
       "      <td>...</td>\n",
       "      <td>-0.126775</td>\n",
       "      <td>-0.032979</td>\n",
       "      <td>-0.083987</td>\n",
       "      <td>0.018990</td>\n",
       "      <td>-0.105324</td>\n",
       "      <td>-0.072488</td>\n",
       "      <td>-0.028955</td>\n",
       "      <td>-0.088966</td>\n",
       "      <td>-0.016339</td>\n",
       "      <td>0059420b</td>\n",
       "    </tr>\n",
       "    <tr>\n",
       "      <th>3</th>\n",
       "      <td>-0.135792</td>\n",
       "      <td>0.012024</td>\n",
       "      <td>0.186571</td>\n",
       "      <td>-0.248868</td>\n",
       "      <td>-0.023798</td>\n",
       "      <td>-0.080221</td>\n",
       "      <td>-0.056188</td>\n",
       "      <td>-0.121245</td>\n",
       "      <td>-0.174053</td>\n",
       "      <td>-0.019118</td>\n",
       "      <td>...</td>\n",
       "      <td>-0.159412</td>\n",
       "      <td>-0.018472</td>\n",
       "      <td>-0.064057</td>\n",
       "      <td>-0.000311</td>\n",
       "      <td>-0.077134</td>\n",
       "      <td>-0.055951</td>\n",
       "      <td>-0.004523</td>\n",
       "      <td>-0.064981</td>\n",
       "      <td>0.030872</td>\n",
       "      <td>0075873a</td>\n",
       "    </tr>\n",
       "    <tr>\n",
       "      <th>4</th>\n",
       "      <td>-0.128574</td>\n",
       "      <td>0.031428</td>\n",
       "      <td>0.199653</td>\n",
       "      <td>-0.257360</td>\n",
       "      <td>-0.010355</td>\n",
       "      <td>-0.049244</td>\n",
       "      <td>-0.045932</td>\n",
       "      <td>-0.108550</td>\n",
       "      <td>-0.164943</td>\n",
       "      <td>-0.023780</td>\n",
       "      <td>...</td>\n",
       "      <td>-0.127782</td>\n",
       "      <td>-0.033632</td>\n",
       "      <td>-0.075955</td>\n",
       "      <td>0.016297</td>\n",
       "      <td>-0.100076</td>\n",
       "      <td>-0.062259</td>\n",
       "      <td>-0.014316</td>\n",
       "      <td>-0.095985</td>\n",
       "      <td>0.002560</td>\n",
       "      <td>0081af50</td>\n",
       "    </tr>\n",
       "    <tr>\n",
       "      <th>...</th>\n",
       "      <td>...</td>\n",
       "      <td>...</td>\n",
       "      <td>...</td>\n",
       "      <td>...</td>\n",
       "      <td>...</td>\n",
       "      <td>...</td>\n",
       "      <td>...</td>\n",
       "      <td>...</td>\n",
       "      <td>...</td>\n",
       "      <td>...</td>\n",
       "      <td>...</td>\n",
       "      <td>...</td>\n",
       "      <td>...</td>\n",
       "      <td>...</td>\n",
       "      <td>...</td>\n",
       "      <td>...</td>\n",
       "      <td>...</td>\n",
       "      <td>...</td>\n",
       "      <td>...</td>\n",
       "      <td>...</td>\n",
       "      <td>...</td>\n",
       "    </tr>\n",
       "    <tr>\n",
       "      <th>1971</th>\n",
       "      <td>-0.129806</td>\n",
       "      <td>0.018659</td>\n",
       "      <td>0.203291</td>\n",
       "      <td>-0.259275</td>\n",
       "      <td>-0.021951</td>\n",
       "      <td>-0.058274</td>\n",
       "      <td>-0.054073</td>\n",
       "      <td>-0.101140</td>\n",
       "      <td>-0.163914</td>\n",
       "      <td>-0.023695</td>\n",
       "      <td>...</td>\n",
       "      <td>-0.145320</td>\n",
       "      <td>-0.018962</td>\n",
       "      <td>-0.075197</td>\n",
       "      <td>0.004702</td>\n",
       "      <td>-0.090093</td>\n",
       "      <td>-0.048943</td>\n",
       "      <td>-0.005364</td>\n",
       "      <td>-0.084302</td>\n",
       "      <td>0.015464</td>\n",
       "      <td>ffb8c745</td>\n",
       "    </tr>\n",
       "    <tr>\n",
       "      <th>1972</th>\n",
       "      <td>-0.119191</td>\n",
       "      <td>0.021719</td>\n",
       "      <td>0.193000</td>\n",
       "      <td>-0.257254</td>\n",
       "      <td>-0.011898</td>\n",
       "      <td>-0.067292</td>\n",
       "      <td>-0.051586</td>\n",
       "      <td>-0.110319</td>\n",
       "      <td>-0.155872</td>\n",
       "      <td>-0.008588</td>\n",
       "      <td>...</td>\n",
       "      <td>-0.125003</td>\n",
       "      <td>-0.022075</td>\n",
       "      <td>-0.073387</td>\n",
       "      <td>-0.006806</td>\n",
       "      <td>-0.088617</td>\n",
       "      <td>-0.050712</td>\n",
       "      <td>-0.005840</td>\n",
       "      <td>-0.065724</td>\n",
       "      <td>0.019867</td>\n",
       "      <td>ffbef7e5</td>\n",
       "    </tr>\n",
       "    <tr>\n",
       "      <th>1973</th>\n",
       "      <td>-0.127125</td>\n",
       "      <td>0.042635</td>\n",
       "      <td>0.204098</td>\n",
       "      <td>-0.254229</td>\n",
       "      <td>-0.014637</td>\n",
       "      <td>-0.045684</td>\n",
       "      <td>-0.047279</td>\n",
       "      <td>-0.105268</td>\n",
       "      <td>-0.163525</td>\n",
       "      <td>-0.025287</td>\n",
       "      <td>...</td>\n",
       "      <td>-0.135819</td>\n",
       "      <td>-0.028612</td>\n",
       "      <td>-0.075048</td>\n",
       "      <td>0.013527</td>\n",
       "      <td>-0.106716</td>\n",
       "      <td>-0.061366</td>\n",
       "      <td>-0.005881</td>\n",
       "      <td>-0.106782</td>\n",
       "      <td>-0.008976</td>\n",
       "      <td>ffccd6fd</td>\n",
       "    </tr>\n",
       "    <tr>\n",
       "      <th>1974</th>\n",
       "      <td>-0.121368</td>\n",
       "      <td>0.013506</td>\n",
       "      <td>0.211346</td>\n",
       "      <td>-0.251176</td>\n",
       "      <td>-0.009017</td>\n",
       "      <td>-0.065065</td>\n",
       "      <td>-0.043447</td>\n",
       "      <td>-0.112276</td>\n",
       "      <td>-0.155649</td>\n",
       "      <td>-0.022374</td>\n",
       "      <td>...</td>\n",
       "      <td>-0.159799</td>\n",
       "      <td>-0.027713</td>\n",
       "      <td>-0.062996</td>\n",
       "      <td>0.019536</td>\n",
       "      <td>-0.096322</td>\n",
       "      <td>-0.053839</td>\n",
       "      <td>-0.020176</td>\n",
       "      <td>-0.090533</td>\n",
       "      <td>0.012730</td>\n",
       "      <td>ffec5b38</td>\n",
       "    </tr>\n",
       "    <tr>\n",
       "      <th>1975</th>\n",
       "      <td>-0.140006</td>\n",
       "      <td>0.032300</td>\n",
       "      <td>0.198850</td>\n",
       "      <td>-0.239147</td>\n",
       "      <td>-0.012714</td>\n",
       "      <td>-0.053604</td>\n",
       "      <td>-0.063009</td>\n",
       "      <td>-0.113965</td>\n",
       "      <td>-0.159648</td>\n",
       "      <td>-0.013871</td>\n",
       "      <td>...</td>\n",
       "      <td>-0.155565</td>\n",
       "      <td>-0.028635</td>\n",
       "      <td>-0.073250</td>\n",
       "      <td>0.008799</td>\n",
       "      <td>-0.085866</td>\n",
       "      <td>-0.061460</td>\n",
       "      <td>-0.017045</td>\n",
       "      <td>-0.098551</td>\n",
       "      <td>0.007566</td>\n",
       "      <td>fff05981</td>\n",
       "    </tr>\n",
       "  </tbody>\n",
       "</table>\n",
       "<p>1976 rows × 65 columns</p>\n",
       "</div>"
      ],
      "text/plain": [
       "      w2vec_dim_0  w2vec_dim_1  w2vec_dim_2  w2vec_dim_3  w2vec_dim_4  \\\n",
       "0       -0.120961     0.008124     0.189207    -0.257088    -0.023798   \n",
       "1       -0.121321     0.041959     0.207654    -0.251683    -0.008331   \n",
       "2       -0.133752     0.018474     0.199096    -0.251982    -0.012915   \n",
       "3       -0.135792     0.012024     0.186571    -0.248868    -0.023798   \n",
       "4       -0.128574     0.031428     0.199653    -0.257360    -0.010355   \n",
       "...           ...          ...          ...          ...          ...   \n",
       "1971    -0.129806     0.018659     0.203291    -0.259275    -0.021951   \n",
       "1972    -0.119191     0.021719     0.193000    -0.257254    -0.011898   \n",
       "1973    -0.127125     0.042635     0.204098    -0.254229    -0.014637   \n",
       "1974    -0.121368     0.013506     0.211346    -0.251176    -0.009017   \n",
       "1975    -0.140006     0.032300     0.198850    -0.239147    -0.012714   \n",
       "\n",
       "      w2vec_dim_5  w2vec_dim_6  w2vec_dim_7  w2vec_dim_8  w2vec_dim_9  ...  \\\n",
       "0       -0.073213    -0.050833    -0.109157    -0.160328    -0.025513  ...   \n",
       "1       -0.055835    -0.042590    -0.106092    -0.150785    -0.015334  ...   \n",
       "2       -0.044597    -0.060598    -0.095827    -0.155384    -0.020722  ...   \n",
       "3       -0.080221    -0.056188    -0.121245    -0.174053    -0.019118  ...   \n",
       "4       -0.049244    -0.045932    -0.108550    -0.164943    -0.023780  ...   \n",
       "...           ...          ...          ...          ...          ...  ...   \n",
       "1971    -0.058274    -0.054073    -0.101140    -0.163914    -0.023695  ...   \n",
       "1972    -0.067292    -0.051586    -0.110319    -0.155872    -0.008588  ...   \n",
       "1973    -0.045684    -0.047279    -0.105268    -0.163525    -0.025287  ...   \n",
       "1974    -0.065065    -0.043447    -0.112276    -0.155649    -0.022374  ...   \n",
       "1975    -0.053604    -0.063009    -0.113965    -0.159648    -0.013871  ...   \n",
       "\n",
       "      w2vec_dim_55  w2vec_dim_56  w2vec_dim_57  w2vec_dim_58  w2vec_dim_59  \\\n",
       "0        -0.135022     -0.017231     -0.079651     -0.009296     -0.091024   \n",
       "1        -0.153256     -0.030884     -0.072392      0.018172     -0.094070   \n",
       "2        -0.126775     -0.032979     -0.083987      0.018990     -0.105324   \n",
       "3        -0.159412     -0.018472     -0.064057     -0.000311     -0.077134   \n",
       "4        -0.127782     -0.033632     -0.075955      0.016297     -0.100076   \n",
       "...            ...           ...           ...           ...           ...   \n",
       "1971     -0.145320     -0.018962     -0.075197      0.004702     -0.090093   \n",
       "1972     -0.125003     -0.022075     -0.073387     -0.006806     -0.088617   \n",
       "1973     -0.135819     -0.028612     -0.075048      0.013527     -0.106716   \n",
       "1974     -0.159799     -0.027713     -0.062996      0.019536     -0.096322   \n",
       "1975     -0.155565     -0.028635     -0.073250      0.008799     -0.085866   \n",
       "\n",
       "      w2vec_dim_60  w2vec_dim_61  w2vec_dim_62  w2vec_dim_63        id  \n",
       "0        -0.074310     -0.008469     -0.071511      0.005326  0022f953  \n",
       "1        -0.044517     -0.016554     -0.089601      0.004782  0042269b  \n",
       "2        -0.072488     -0.028955     -0.088966     -0.016339  0059420b  \n",
       "3        -0.055951     -0.004523     -0.064981      0.030872  0075873a  \n",
       "4        -0.062259     -0.014316     -0.095985      0.002560  0081af50  \n",
       "...            ...           ...           ...           ...       ...  \n",
       "1971     -0.048943     -0.005364     -0.084302      0.015464  ffb8c745  \n",
       "1972     -0.050712     -0.005840     -0.065724      0.019867  ffbef7e5  \n",
       "1973     -0.061366     -0.005881     -0.106782     -0.008976  ffccd6fd  \n",
       "1974     -0.053839     -0.020176     -0.090533      0.012730  ffec5b38  \n",
       "1975     -0.061460     -0.017045     -0.098551      0.007566  fff05981  \n",
       "\n",
       "[1976 rows x 65 columns]"
      ]
     },
     "execution_count": 41,
     "metadata": {},
     "output_type": "execute_result"
    }
   ],
   "source": [
    "embd_df_train"
   ]
  },
  {
   "cell_type": "code",
   "execution_count": null,
   "id": "12f5e1f3",
   "metadata": {
    "papermill": {
     "duration": 0.022906,
     "end_time": "2023-11-22T05:01:27.520956",
     "exception": false,
     "start_time": "2023-11-22T05:01:27.498050",
     "status": "completed"
    },
    "tags": []
   },
   "outputs": [],
   "source": []
  },
  {
   "cell_type": "code",
   "execution_count": 42,
   "id": "e18c35ed",
   "metadata": {
    "execution": {
     "iopub.execute_input": "2023-12-29T23:26:24.548598Z",
     "iopub.status.busy": "2023-12-29T23:26:24.548351Z",
     "iopub.status.idle": "2023-12-29T23:26:24.584589Z",
     "shell.execute_reply": "2023-12-29T23:26:24.584059Z",
     "shell.execute_reply.started": "2023-12-29T23:26:24.548584Z"
    },
    "papermill": {
     "duration": 0.083639,
     "end_time": "2023-11-22T05:01:27.627558",
     "exception": false,
     "start_time": "2023-11-22T05:01:27.543919",
     "status": "completed"
    },
    "tags": []
   },
   "outputs": [],
   "source": [
    "class Preprocessor:\n",
    "    def __init__(self, seed):\n",
    "        self.seed = seed\n",
    "\n",
    "        self.activities = [\"Input\", \"Remove/Cut\", \"Nonproduction\", \"Replace\", \"Paste\"]\n",
    "        self.events = [\n",
    "            \"q\",\n",
    "            \"Space\",\n",
    "            \"Backspace\",\n",
    "            \"Shift\",\n",
    "            \"ArrowRight\",\n",
    "            \"Leftclick\",\n",
    "            \"ArrowLeft\",\n",
    "            \".\",\n",
    "            \",\",\n",
    "            \"ArrowDown\",\n",
    "            \"ArrowUp\",\n",
    "            \"Enter\",\n",
    "            \"CapsLock\",\n",
    "            \"'\",\n",
    "            \"Delete\",\n",
    "            \"Unidentified\",\n",
    "        ]\n",
    "        self.text_changes = [\n",
    "            \"q\",\n",
    "            \" \",\n",
    "            \"NoChange\",\n",
    "            \".\",\n",
    "            \",\",\n",
    "            \"\\n\",\n",
    "            \"'\",\n",
    "            '\"',\n",
    "            \"-\",\n",
    "            \"?\",\n",
    "            \";\",\n",
    "            \"=\",\n",
    "            \"/\",\n",
    "            \"\\\\\",\n",
    "            \":\",\n",
    "        ]\n",
    "        self.punctuations = [\n",
    "            '\"',\n",
    "            \".\",\n",
    "            \",\",\n",
    "            \"'\",\n",
    "            \"-\",\n",
    "            \";\",\n",
    "            \":\",\n",
    "            \"?\",\n",
    "            \"!\",\n",
    "            \"<\",\n",
    "            \">\",\n",
    "            \"/\",\n",
    "            \"@\",\n",
    "            \"#\",\n",
    "            \"$\",\n",
    "            \"%\",\n",
    "            \"^\",\n",
    "            \"&\",\n",
    "            \"*\",\n",
    "            \"(\",\n",
    "            \")\",\n",
    "            \"_\",\n",
    "            \"+\",\n",
    "        ]\n",
    "        self.gaps = [1, 2, 3, 5, 10, 20, 50, 100]\n",
    "\n",
    "        self.idf = defaultdict(float)\n",
    "\n",
    "    #         self.gaps = [1, 2]\n",
    "\n",
    "    def activity_counts(self, df):\n",
    "        tmp_df = df.groupby(\"id\").agg({\"activity\": list}).reset_index()\n",
    "        ret = list()\n",
    "        for li in tqdm(tmp_df[\"activity\"].values):\n",
    "            items = list(Counter(li).items())\n",
    "            di = dict()\n",
    "            for k in self.activities:\n",
    "                di[k] = 0\n",
    "            for item in items:\n",
    "                k, v = item[0], item[1]\n",
    "                if k in di:\n",
    "                    di[k] = v\n",
    "            ret.append(di)\n",
    "        ret = pd.DataFrame(ret)\n",
    "        cols = [f\"activity_{i}_count\" for i in range(len(ret.columns))]\n",
    "        ret.columns = cols\n",
    "\n",
    "        cnts = ret.sum(1)\n",
    "\n",
    "        for col in cols:\n",
    "            if col in self.idf.keys():\n",
    "                idf = self.idf[col]\n",
    "            else:\n",
    "                idf = df.shape[0] / (ret[col].sum() + 1)\n",
    "                idf = np.log(idf)\n",
    "                self.idf[col] = idf\n",
    "\n",
    "            ret[col] = 1 + np.log(ret[col] / cnts)\n",
    "            ret[col] *= idf\n",
    "\n",
    "        return ret\n",
    "\n",
    "    def event_counts(self, df, colname):\n",
    "        tmp_df = df.groupby(\"id\").agg({colname: list}).reset_index()\n",
    "        ret = list()\n",
    "        for li in tqdm(tmp_df[colname].values):\n",
    "            items = list(Counter(li).items())\n",
    "            di = dict()\n",
    "            for k in self.events:\n",
    "                di[k] = 0\n",
    "            for item in items:\n",
    "                k, v = item[0], item[1]\n",
    "                if k in di:\n",
    "                    di[k] = v\n",
    "            ret.append(di)\n",
    "        ret = pd.DataFrame(ret)\n",
    "        cols = [f\"{colname}_{i}_count\" for i in range(len(ret.columns))]\n",
    "        ret.columns = cols\n",
    "\n",
    "        cnts = ret.sum(1)\n",
    "\n",
    "        for col in cols:\n",
    "            if col in self.idf.keys():\n",
    "                idf = self.idf[col]\n",
    "            else:\n",
    "                idf = df.shape[0] / (ret[col].sum() + 1)\n",
    "                idf = np.log(idf)\n",
    "                self.idf[col] = idf\n",
    "\n",
    "            ret[col] = 1 + np.log(ret[col] / cnts)\n",
    "            ret[col] *= idf\n",
    "\n",
    "        return ret\n",
    "\n",
    "    def text_change_counts(self, df):\n",
    "        tmp_df = df.groupby(\"id\").agg({\"text_change\": list}).reset_index()\n",
    "        ret = list()\n",
    "        for li in tqdm(tmp_df[\"text_change\"].values):\n",
    "            items = list(Counter(li).items())\n",
    "            di = dict()\n",
    "            for k in self.text_changes:\n",
    "                di[k] = 0\n",
    "            for item in items:\n",
    "                k, v = item[0], item[1]\n",
    "                if k in di:\n",
    "                    di[k] = v\n",
    "            ret.append(di)\n",
    "        ret = pd.DataFrame(ret)\n",
    "        cols = [f\"text_change_{i}_count\" for i in range(len(ret.columns))]\n",
    "        ret.columns = cols\n",
    "\n",
    "        cnts = ret.sum(1)\n",
    "\n",
    "        for col in cols:\n",
    "            if col in self.idf.keys():\n",
    "                idf = self.idf[col]\n",
    "            else:\n",
    "                idf = df.shape[0] / (ret[col].sum() + 1)\n",
    "                idf = np.log(idf)\n",
    "                self.idf[col] = idf\n",
    "\n",
    "            ret[col] = 1 + np.log(ret[col] / cnts)\n",
    "            ret[col] *= idf\n",
    "\n",
    "        return ret\n",
    "\n",
    "    def match_punctuations(self, df):\n",
    "        tmp_df = df.groupby(\"id\").agg({\"down_event\": list}).reset_index()\n",
    "        ret = list()\n",
    "        for li in tqdm(tmp_df[\"down_event\"].values):\n",
    "            cnt = 0\n",
    "            items = list(Counter(li).items())\n",
    "            for item in items:\n",
    "                k, v = item[0], item[1]\n",
    "                if k in self.punctuations:\n",
    "                    cnt += v\n",
    "            ret.append(cnt)\n",
    "        ret = pd.DataFrame({\"punct_cnt\": ret})\n",
    "        return ret\n",
    "\n",
    "    def get_input_words(self, df):\n",
    "        tmp_df = df[\n",
    "            (~df[\"text_change\"].str.contains(\"=>\")) & (df[\"text_change\"] != \"NoChange\")\n",
    "        ].reset_index(drop=True)\n",
    "        tmp_df = tmp_df.groupby(\"id\").agg({\"text_change\": list}).reset_index()\n",
    "        tmp_df[\"text_change\"] = tmp_df[\"text_change\"].apply(lambda x: \"\".join(x))\n",
    "        tmp_df[\"text_change\"] = tmp_df[\"text_change\"].apply(\n",
    "            lambda x: re.findall(r\"q+\", x)\n",
    "        )\n",
    "        tmp_df[\"input_word_count\"] = tmp_df[\"text_change\"].apply(len)\n",
    "        tmp_df[\"input_word_length_mean\"] = tmp_df[\"text_change\"].apply(\n",
    "            lambda x: np.mean([len(i) for i in x] if len(x) > 0 else 0)\n",
    "        )\n",
    "        tmp_df[\"input_word_length_max\"] = tmp_df[\"text_change\"].apply(\n",
    "            lambda x: np.max([len(i) for i in x] if len(x) > 0 else 0)\n",
    "        )\n",
    "        tmp_df[\"input_word_length_std\"] = tmp_df[\"text_change\"].apply(\n",
    "            lambda x: np.std([len(i) for i in x] if len(x) > 0 else 0)\n",
    "        )\n",
    "        tmp_df.drop([\"text_change\"], axis=1, inplace=True)\n",
    "        return tmp_df\n",
    "\n",
    "    def make_feats(self, df):\n",
    "        print(\"Starting to engineer features\")\n",
    "\n",
    "        # initialize features dataframe\n",
    "        feats = pd.DataFrame({\"id\": df[\"id\"].unique().tolist()})\n",
    "\n",
    "        # get shifted features\n",
    "        # time shift\n",
    "        print(\"Engineering time data\")\n",
    "        for gap in self.gaps:\n",
    "            print(f\"> for gap {gap}\")\n",
    "            df[f\"up_time_shift{gap}\"] = df.groupby(\"id\")[\"up_time\"].shift(gap)\n",
    "            df[f\"action_time_gap{gap}\"] = df[\"down_time\"] - df[f\"up_time_shift{gap}\"]\n",
    "        df.drop(columns=[f\"up_time_shift{gap}\" for gap in self.gaps], inplace=True)\n",
    "\n",
    "        # cursor position shift\n",
    "        print(\"Engineering cursor position data\")\n",
    "        for gap in self.gaps:\n",
    "            print(f\"> for gap {gap}\")\n",
    "            df[f\"cursor_position_shift{gap}\"] = df.groupby(\"id\")[\n",
    "                \"cursor_position\"\n",
    "            ].shift(gap)\n",
    "            df[f\"cursor_position_change{gap}\"] = (\n",
    "                df[\"cursor_position\"] - df[f\"cursor_position_shift{gap}\"]\n",
    "            )\n",
    "            df[f\"cursor_position_abs_change{gap}\"] = np.abs(\n",
    "                df[f\"cursor_position_change{gap}\"]\n",
    "            )\n",
    "        df.drop(\n",
    "            columns=[f\"cursor_position_shift{gap}\" for gap in self.gaps], inplace=True\n",
    "        )\n",
    "\n",
    "        # word count shift\n",
    "        print(\"Engineering word count data\")\n",
    "        for gap in self.gaps:\n",
    "            print(f\"> for gap {gap}\")\n",
    "            df[f\"word_count_shift{gap}\"] = df.groupby(\"id\")[\"word_count\"].shift(gap)\n",
    "            df[f\"word_count_change{gap}\"] = (\n",
    "                df[\"word_count\"] - df[f\"word_count_shift{gap}\"]\n",
    "            )\n",
    "            df[f\"word_count_abs_change{gap}\"] = np.abs(df[f\"word_count_change{gap}\"])\n",
    "        df.drop(columns=[f\"word_count_shift{gap}\" for gap in self.gaps], inplace=True)\n",
    "\n",
    "        # get aggregate statistical features\n",
    "        print(\"Engineering statistical summaries for features\")\n",
    "        # [(feature name, [ stat summaries to add ])]\n",
    "        feats_stat = [\n",
    "            (\"event_id\", [\"max\"]),\n",
    "            (\"up_time\", [\"max\"]),\n",
    "            (\n",
    "                \"action_time\",\n",
    "                [\n",
    "                    \"max\",\n",
    "                    \"min\",\n",
    "                    \"mean\",\n",
    "                    \"std\",\n",
    "                    \"quantile\",\n",
    "                    \"sem\",\n",
    "                    \"sum\",\n",
    "                    \"skew\",\n",
    "                    pd.DataFrame.kurt,\n",
    "                ],\n",
    "            ),\n",
    "            (\"activity\", [\"nunique\"]),\n",
    "            (\"down_event\", [\"nunique\"]),\n",
    "            (\"up_event\", [\"nunique\"]),\n",
    "            (\"text_change\", [\"nunique\"]),\n",
    "            (\"cursor_position\", [\"nunique\", \"max\", \"quantile\", \"sem\", \"mean\"]),\n",
    "            (\"word_count\", [\"nunique\", \"max\", \"quantile\", \"sem\", \"mean\"]),\n",
    "        ]\n",
    "        for gap in self.gaps:\n",
    "            feats_stat.extend(\n",
    "                [\n",
    "                    (\n",
    "                        f\"action_time_gap{gap}\",\n",
    "                        [\n",
    "                            \"max\",\n",
    "                            \"min\",\n",
    "                            \"mean\",\n",
    "                            \"std\",\n",
    "                            \"quantile\",\n",
    "                            \"sem\",\n",
    "                            \"sum\",\n",
    "                            \"skew\",\n",
    "                            pd.DataFrame.kurt,\n",
    "                        ],\n",
    "                    ),\n",
    "                    (\n",
    "                        f\"cursor_position_change{gap}\",\n",
    "                        [\n",
    "                            \"max\",\n",
    "                            \"mean\",\n",
    "                            \"std\",\n",
    "                            \"quantile\",\n",
    "                            \"sem\",\n",
    "                            \"sum\",\n",
    "                            \"skew\",\n",
    "                            pd.DataFrame.kurt,\n",
    "                        ],\n",
    "                    ),\n",
    "                    (\n",
    "                        f\"word_count_change{gap}\",\n",
    "                        [\n",
    "                            \"max\",\n",
    "                            \"mean\",\n",
    "                            \"std\",\n",
    "                            \"quantile\",\n",
    "                            \"sem\",\n",
    "                            \"sum\",\n",
    "                            \"skew\",\n",
    "                            pd.DataFrame.kurt,\n",
    "                        ],\n",
    "                    ),\n",
    "                ]\n",
    "            )\n",
    "\n",
    "        pbar = tqdm(feats_stat)\n",
    "        for item in pbar:\n",
    "            colname, methods = item[0], item[1]\n",
    "            for method in methods:\n",
    "                pbar.set_postfix()\n",
    "                if isinstance(method, str):\n",
    "                    method_name = method\n",
    "                else:\n",
    "                    method_name = method.__name__\n",
    "\n",
    "                pbar.set_postfix(column=colname, method=method_name)\n",
    "                tmp_df = (\n",
    "                    df.groupby([\"id\"])\n",
    "                    .agg({colname: method})\n",
    "                    .reset_index()\n",
    "                    .rename(columns={colname: f\"{colname}_{method_name}\"})\n",
    "                )\n",
    "                feats = feats.merge(tmp_df, on=\"id\", how=\"left\")\n",
    "\n",
    "        # counts\n",
    "        print(\"Engineering activity counts data\")\n",
    "        tmp_df = self.activity_counts(df)\n",
    "        feats = pd.concat([feats, tmp_df], axis=1)\n",
    "\n",
    "        print(\"Engineering event counts data\")\n",
    "        tmp_df = self.event_counts(df, \"down_event\")\n",
    "        feats = pd.concat([feats, tmp_df], axis=1)\n",
    "        tmp_df = self.event_counts(df, \"up_event\")\n",
    "        feats = pd.concat([feats, tmp_df], axis=1)\n",
    "\n",
    "        print(\"Engineering text change counts data\")\n",
    "        tmp_df = self.text_change_counts(df)\n",
    "        feats = pd.concat([feats, tmp_df], axis=1)\n",
    "\n",
    "        print(\"Engineering punctuation counts data\")\n",
    "        tmp_df = self.match_punctuations(df)\n",
    "        feats = pd.concat([feats, tmp_df], axis=1)\n",
    "\n",
    "        # # input words\n",
    "        # print(\"Engineering input words data\")\n",
    "        # tmp_df = self.get_input_words(df)\n",
    "        # feats = pd.merge(feats, tmp_df, on='id', how='left')\n",
    "\n",
    "        # compare feats\n",
    "        print(\"Engineering ratios data\")\n",
    "        feats[\"word_time_ratio\"] = feats[\"word_count_max\"] / feats[\"up_time_max\"]\n",
    "        feats[\"word_event_ratio\"] = feats[\"word_count_max\"] / feats[\"event_id_max\"]\n",
    "        feats[\"event_time_ratio\"] = feats[\"event_id_max\"] / feats[\"up_time_max\"]\n",
    "        feats[\"idle_time_ratio\"] = feats[\"action_time_gap1_sum\"] / feats[\"up_time_max\"]\n",
    "\n",
    "        print(\"Done!\")\n",
    "        return feats"
   ]
  },
  {
   "cell_type": "code",
   "execution_count": null,
   "id": "7958c0ca",
   "metadata": {
    "execution": {
     "iopub.execute_input": "2023-12-29T23:26:24.585281Z",
     "iopub.status.busy": "2023-12-29T23:26:24.585120Z"
    },
    "papermill": {
     "duration": 312.601255,
     "end_time": "2023-11-22T05:06:40.252479",
     "exception": false,
     "start_time": "2023-11-22T05:01:27.651224",
     "status": "completed"
    },
    "tags": []
   },
   "outputs": [
    {
     "name": "stdout",
     "output_type": "stream",
     "text": [
      "Engineering features for training data\n",
      "Starting to engineer features\n",
      "Engineering time data\n",
      "> for gap 1\n",
      "> for gap 2\n",
      "> for gap 3\n",
      "> for gap 5\n",
      "> for gap 10\n",
      "> for gap 20\n",
      "> for gap 50\n",
      "> for gap 100\n",
      "Engineering cursor position data\n",
      "> for gap 1\n",
      "> for gap 2\n",
      "> for gap 3\n",
      "> for gap 5\n",
      "> for gap 10\n",
      "> for gap 20\n",
      "> for gap 50\n",
      "> for gap 100\n",
      "Engineering word count data\n",
      "> for gap 1\n",
      "> for gap 2\n",
      "> for gap 3\n",
      "> for gap 5\n",
      "> for gap 10\n",
      "> for gap 20\n",
      "> for gap 50\n",
      "> for gap 100\n",
      "Engineering statistical summaries for features\n"
     ]
    },
    {
     "name": "stderr",
     "output_type": "stream",
     "text": [
      " 36%|▎| 12/33 [00:17<00:43,  2.05s/it, column=action_time_gap2, method=quantile]"
     ]
    }
   ],
   "source": [
    "preprocessor = Preprocessor(seed=cnfg.seed)\n",
    "\n",
    "print(\"Engineering features for training data\")\n",
    "\n",
    "other_train_feats = preprocessor.make_feats(traindf)\n",
    "\n",
    "print()\n",
    "print(\"-\" * 25)\n",
    "print(\"Engineering features for test data\")\n",
    "print(\"-\" * 25)\n",
    "other_test_feats = preprocessor.make_feats(testdf)"
   ]
  },
  {
   "cell_type": "code",
   "execution_count": null,
   "id": "f0dede6d",
   "metadata": {
    "papermill": {
     "duration": 0.036591,
     "end_time": "2023-11-22T05:06:40.317786",
     "exception": false,
     "start_time": "2023-11-22T05:06:40.281195",
     "status": "completed"
    },
    "tags": []
   },
   "outputs": [],
   "source": [
    "other_train_feats.shape, other_test_feats.shape"
   ]
  },
  {
   "cell_type": "code",
   "execution_count": null,
   "id": "57055375",
   "metadata": {
    "papermill": {
     "duration": 0.035624,
     "end_time": "2023-11-22T05:06:40.382268",
     "exception": false,
     "start_time": "2023-11-22T05:06:40.346644",
     "status": "completed"
    },
    "tags": []
   },
   "outputs": [],
   "source": [
    "df_train_all = pd.DataFrame()\n",
    "df_test_all = pd.DataFrame()"
   ]
  },
  {
   "cell_type": "code",
   "execution_count": null,
   "id": "7bfc03bb",
   "metadata": {
    "papermill": {
     "duration": 0.040356,
     "end_time": "2023-11-22T05:06:40.451457",
     "exception": false,
     "start_time": "2023-11-22T05:06:40.411101",
     "status": "completed"
    },
    "tags": []
   },
   "outputs": [],
   "source": [
    "df_train_all = df_train.merge(train_agg_fe_df, on=\"id\")"
   ]
  },
  {
   "cell_type": "code",
   "execution_count": null,
   "id": "1dfbf5f5",
   "metadata": {
    "papermill": {
     "duration": 0.038116,
     "end_time": "2023-11-22T05:06:40.517958",
     "exception": false,
     "start_time": "2023-11-22T05:06:40.479842",
     "status": "completed"
    },
    "tags": []
   },
   "outputs": [],
   "source": [
    "df_test_all = df_test.merge(test_agg_fe_df, on=\"id\")"
   ]
  },
  {
   "cell_type": "code",
   "execution_count": null,
   "id": "4e193d5e",
   "metadata": {
    "papermill": {
     "duration": 0.035052,
     "end_time": "2023-11-22T05:06:40.581761",
     "exception": false,
     "start_time": "2023-11-22T05:06:40.546709",
     "status": "completed"
    },
    "tags": []
   },
   "outputs": [],
   "source": [
    "def q1(x):\n",
    "    return x.quantile(0.25)\n",
    "\n",
    "\n",
    "def q3(x):\n",
    "    return x.quantile(0.75)"
   ]
  },
  {
   "cell_type": "code",
   "execution_count": null,
   "id": "de248ca1",
   "metadata": {
    "papermill": {
     "duration": 0.046306,
     "end_time": "2023-11-22T05:06:40.656332",
     "exception": false,
     "start_time": "2023-11-22T05:06:40.610026",
     "status": "completed"
    },
    "tags": []
   },
   "outputs": [],
   "source": [
    "AGGREGATIONS = [\n",
    "    \"count\",\n",
    "    \"mean\",\n",
    "    \"std\",\n",
    "    \"min\",\n",
    "    \"max\",\n",
    "    \"first\",\n",
    "    \"last\",\n",
    "    \"sem\",\n",
    "    q1,\n",
    "    \"median\",\n",
    "    q3,\n",
    "    \"skew\",\n",
    "    pd.DataFrame.kurt,\n",
    "    \"sum\",\n",
    "]\n",
    "\n",
    "\n",
    "def split_essays_into_sentences(df):\n",
    "    essay_df = df.copy()\n",
    "    essay_df[\"id\"] = essay_df.index\n",
    "    essay_df[\"sent\"] = essay_df[\"essay\"].apply(\n",
    "        lambda x: re.split(\"\\\\.|\\\\?|\\\\!\", str(x))\n",
    "    )\n",
    "    essay_df = essay_df.explode(\"sent\")\n",
    "    essay_df[\"sent\"] = essay_df[\"sent\"].apply(lambda x: x.replace(\"\\n\", \"\").strip())\n",
    "    # Number of characters in sentences\n",
    "    essay_df[\"sent_len\"] = essay_df[\"sent\"].apply(lambda x: len(x))\n",
    "    # Number of words in sentences\n",
    "    essay_df[\"sent_word_count\"] = essay_df[\"sent\"].apply(lambda x: len(x.split(\" \")))\n",
    "    essay_df = essay_df[essay_df.columns.tolist()].reset_index(drop=True)\n",
    "    return essay_df\n",
    "\n",
    "\n",
    "def compute_sentence_aggregations(df):\n",
    "    sent_agg_df = pd.concat(\n",
    "        [\n",
    "            df[[\"id\", \"sent_len\"]].groupby([\"id\"]).agg(AGGREGATIONS),\n",
    "            df[[\"id\", \"sent_word_count\"]].groupby([\"id\"]).agg(AGGREGATIONS),\n",
    "        ],\n",
    "        axis=1,\n",
    "    )\n",
    "    sent_agg_df.columns = [\"_\".join(x) for x in sent_agg_df.columns]\n",
    "    sent_agg_df[\"id\"] = sent_agg_df.index\n",
    "    sent_agg_df = sent_agg_df.reset_index(drop=True)\n",
    "    sent_agg_df.drop(columns=[\"sent_word_count_count\"], inplace=True)\n",
    "    sent_agg_df = sent_agg_df.rename(columns={\"sent_len_count\": \"sent_count\"})\n",
    "    return sent_agg_df\n",
    "\n",
    "\n",
    "def split_essays_into_paragraphs(df):\n",
    "    essay_df = df.copy()\n",
    "    essay_df[\"id\"] = essay_df.index\n",
    "    essay_df[\"paragraph\"] = essay_df[\"essay\"].apply(lambda x: str(x).split(\"\\n\"))\n",
    "    essay_df = essay_df.explode(\"paragraph\")\n",
    "    # Number of characters in paragraphs\n",
    "    essay_df[\"paragraph_len\"] = essay_df[\"paragraph\"].apply(lambda x: len(x))\n",
    "    # Number of words in paragraphs\n",
    "    essay_df[\"paragraph_word_count\"] = essay_df[\"paragraph\"].apply(\n",
    "        lambda x: len(x.split(\" \"))\n",
    "    )\n",
    "    essay_df = essay_df[essay_df.paragraph_len != 0].reset_index(drop=True)\n",
    "    return essay_df\n",
    "\n",
    "\n",
    "def compute_paragraph_aggregations(df):\n",
    "    paragraph_agg_df = pd.concat(\n",
    "        [\n",
    "            df[[\"id\", \"paragraph_len\"]].groupby([\"id\"]).agg(AGGREGATIONS),\n",
    "            df[[\"id\", \"paragraph_word_count\"]].groupby([\"id\"]).agg(AGGREGATIONS),\n",
    "        ],\n",
    "        axis=1,\n",
    "    )\n",
    "    paragraph_agg_df.columns = [\"_\".join(x) for x in paragraph_agg_df.columns]\n",
    "    paragraph_agg_df[\"id\"] = paragraph_agg_df.index\n",
    "    paragraph_agg_df = paragraph_agg_df.reset_index(drop=True)\n",
    "    paragraph_agg_df.drop(columns=[\"paragraph_word_count_count\"], inplace=True)\n",
    "    paragraph_agg_df = paragraph_agg_df.rename(\n",
    "        columns={\"paragraph_len_count\": \"paragraph_count\"}\n",
    "    )\n",
    "    return paragraph_agg_df"
   ]
  },
  {
   "cell_type": "code",
   "execution_count": null,
   "id": "856f9d57",
   "metadata": {
    "papermill": {
     "duration": 6.984449,
     "end_time": "2023-11-22T05:06:47.669108",
     "exception": false,
     "start_time": "2023-11-22T05:06:40.684659",
     "status": "completed"
    },
    "tags": []
   },
   "outputs": [],
   "source": [
    "# Sentence features for train dataset\n",
    "train_sent_df = split_essays_into_sentences(train_essaysdf)\n",
    "train_sent_agg_df = compute_sentence_aggregations(train_sent_df)\n",
    "# plt.figure(figsize=(15, 1.5))\n",
    "# plt.boxplot(x=train_sent_df.sent_len, vert=False, labels=['Sentence length'])\n",
    "# plt.show()"
   ]
  },
  {
   "cell_type": "code",
   "execution_count": null,
   "id": "b477c3a2",
   "metadata": {
    "papermill": {
     "duration": 6.822637,
     "end_time": "2023-11-22T05:06:54.523120",
     "exception": false,
     "start_time": "2023-11-22T05:06:47.700483",
     "status": "completed"
    },
    "tags": []
   },
   "outputs": [],
   "source": [
    "train_paragraph_df = split_essays_into_paragraphs(train_essaysdf)\n",
    "train_paragraph_agg_df = compute_paragraph_aggregations(train_paragraph_df)"
   ]
  },
  {
   "cell_type": "code",
   "execution_count": null,
   "id": "9f2124de",
   "metadata": {
    "papermill": {
     "duration": 0.088963,
     "end_time": "2023-11-22T05:06:54.641133",
     "exception": false,
     "start_time": "2023-11-22T05:06:54.552170",
     "status": "completed"
    },
    "tags": []
   },
   "outputs": [],
   "source": [
    "test_sent_agg_df = compute_sentence_aggregations(\n",
    "    split_essays_into_sentences(test_essaysdf)\n",
    ")\n",
    "test_paragraph_agg_df = compute_paragraph_aggregations(\n",
    "    split_essays_into_paragraphs(test_essaysdf)\n",
    ")"
   ]
  },
  {
   "cell_type": "code",
   "execution_count": null,
   "id": "bbb74c74",
   "metadata": {
    "papermill": {
     "duration": 0.03726,
     "end_time": "2023-11-22T05:06:54.706878",
     "exception": false,
     "start_time": "2023-11-22T05:06:54.669618",
     "status": "completed"
    },
    "tags": []
   },
   "outputs": [],
   "source": [
    "train_paragraph_agg_df.loc[:, \"id\"] = df_train_index\n",
    "train_sent_agg_df.loc[:, \"id\"] = df_train_index"
   ]
  },
  {
   "cell_type": "code",
   "execution_count": null,
   "id": "9bd42dbf",
   "metadata": {
    "papermill": {
     "duration": 0.036288,
     "end_time": "2023-11-22T05:06:54.771573",
     "exception": false,
     "start_time": "2023-11-22T05:06:54.735285",
     "status": "completed"
    },
    "tags": []
   },
   "outputs": [],
   "source": [
    "test_paragraph_agg_df.loc[:, \"id\"] = df_test_index\n",
    "test_sent_agg_df.loc[:, \"id\"] = df_test_index"
   ]
  },
  {
   "cell_type": "code",
   "execution_count": null,
   "id": "5a273432",
   "metadata": {
    "papermill": {
     "duration": 0.035825,
     "end_time": "2023-11-22T05:06:54.835760",
     "exception": false,
     "start_time": "2023-11-22T05:06:54.799935",
     "status": "completed"
    },
    "tags": []
   },
   "outputs": [],
   "source": [
    "new_train_feats = pd.DataFrame()\n",
    "new_test_feats = pd.DataFrame()"
   ]
  },
  {
   "cell_type": "code",
   "execution_count": null,
   "id": "3051b8f7",
   "metadata": {
    "papermill": {
     "duration": 0.046572,
     "end_time": "2023-11-22T05:06:54.910543",
     "exception": false,
     "start_time": "2023-11-22T05:06:54.863971",
     "status": "completed"
    },
    "tags": []
   },
   "outputs": [],
   "source": [
    "new_train_feats = train_paragraph_agg_df.merge(df_train_all, on=\"id\")\n",
    "new_train_feats = new_train_feats.merge(train_sent_agg_df, on=\"id\")"
   ]
  },
  {
   "cell_type": "code",
   "execution_count": null,
   "id": "f6e1d885",
   "metadata": {
    "papermill": {
     "duration": 0.039612,
     "end_time": "2023-11-22T05:06:54.978874",
     "exception": false,
     "start_time": "2023-11-22T05:06:54.939262",
     "status": "completed"
    },
    "tags": []
   },
   "outputs": [],
   "source": [
    "new_test_feats = test_paragraph_agg_df.merge(df_test_all, on=\"id\")\n",
    "new_test_feats = new_test_feats.merge(test_sent_agg_df, on=\"id\")"
   ]
  },
  {
   "cell_type": "code",
   "execution_count": null,
   "id": "dc739b5b",
   "metadata": {
    "papermill": {
     "duration": 0.036652,
     "end_time": "2023-11-22T05:06:55.044317",
     "exception": false,
     "start_time": "2023-11-22T05:06:55.007665",
     "status": "completed"
    },
    "tags": []
   },
   "outputs": [],
   "source": [
    "new_train_feats.shape"
   ]
  },
  {
   "cell_type": "code",
   "execution_count": null,
   "id": "ea74dad8",
   "metadata": {
    "papermill": {
     "duration": 0.037632,
     "end_time": "2023-11-22T05:06:55.110549",
     "exception": false,
     "start_time": "2023-11-22T05:06:55.072917",
     "status": "completed"
    },
    "tags": []
   },
   "outputs": [],
   "source": [
    "df_train_all.shape, df_test_all.shape"
   ]
  },
  {
   "cell_type": "code",
   "execution_count": null,
   "id": "fa9b16cd",
   "metadata": {
    "papermill": {
     "duration": 0.035883,
     "end_time": "2023-11-22T05:06:55.174906",
     "exception": false,
     "start_time": "2023-11-22T05:06:55.139023",
     "status": "completed"
    },
    "tags": []
   },
   "outputs": [],
   "source": [
    "train_feats = pd.DataFrame()\n",
    "test_feats = pd.DataFrame()"
   ]
  },
  {
   "cell_type": "code",
   "execution_count": null,
   "id": "6fbe6dac",
   "metadata": {
    "papermill": {
     "duration": 0.068748,
     "end_time": "2023-11-22T05:06:55.272339",
     "exception": false,
     "start_time": "2023-11-22T05:06:55.203591",
     "status": "completed"
    },
    "tags": []
   },
   "outputs": [],
   "source": [
    "train_feats = new_train_feats.merge(other_train_feats, on=\"id\")\n",
    "test_feats = new_test_feats.merge(other_test_feats, on=\"id\")"
   ]
  },
  {
   "cell_type": "code",
   "execution_count": null,
   "id": "223801a9",
   "metadata": {
    "papermill": {
     "duration": 0.028237,
     "end_time": "2023-11-22T05:06:55.329322",
     "exception": false,
     "start_time": "2023-11-22T05:06:55.301085",
     "status": "completed"
    },
    "tags": []
   },
   "outputs": [],
   "source": []
  },
  {
   "cell_type": "code",
   "execution_count": null,
   "id": "dd34fce2",
   "metadata": {
    "papermill": {
     "duration": 9.426252,
     "end_time": "2023-11-22T05:07:04.784181",
     "exception": false,
     "start_time": "2023-11-22T05:06:55.357929",
     "status": "completed"
    },
    "tags": []
   },
   "outputs": [],
   "source": [
    "data = []\n",
    "\n",
    "for logs in [traindf, testdf]:\n",
    "    logs[\"up_time_lagged\"] = (\n",
    "        logs.groupby(\"id\")[\"up_time\"].shift(1).fillna(logs[\"down_time\"])\n",
    "    )\n",
    "    logs[\"time_diff\"] = abs(logs[\"down_time\"] - logs[\"up_time_lagged\"]) / 1000\n",
    "\n",
    "    group = logs.groupby(\"id\")[\"time_diff\"]\n",
    "    largest_lantency = group.max()\n",
    "    smallest_lantency = group.min()\n",
    "    median_lantency = group.median()\n",
    "    initial_pause = logs.groupby(\"id\")[\"down_time\"].first() / 1000\n",
    "    pauses_half_sec = group.apply(lambda x: ((x > 0.5) & (x < 1)).sum())\n",
    "    pauses_1_sec = group.apply(lambda x: ((x > 1) & (x < 1.5)).sum())\n",
    "    pauses_1_half_sec = group.apply(lambda x: ((x > 1.5) & (x < 2)).sum())\n",
    "    pauses_2_sec = group.apply(lambda x: ((x > 2) & (x < 3)).sum())\n",
    "    pauses_3_sec = group.apply(lambda x: (x > 3).sum())\n",
    "\n",
    "    data.append(\n",
    "        pd.DataFrame(\n",
    "            {\n",
    "                \"id\": logs[\"id\"].unique(),\n",
    "                \"largest_lantency\": largest_lantency,\n",
    "                \"smallest_lantency\": smallest_lantency,\n",
    "                \"median_lantency\": median_lantency,\n",
    "                \"initial_pause\": initial_pause,\n",
    "                \"pauses_half_sec\": pauses_half_sec,\n",
    "                \"pauses_1_sec\": pauses_1_sec,\n",
    "                \"pauses_1_half_sec\": pauses_1_half_sec,\n",
    "                \"pauses_2_sec\": pauses_2_sec,\n",
    "                \"pauses_3_sec\": pauses_3_sec,\n",
    "            }\n",
    "        ).reset_index(drop=True)\n",
    "    )\n",
    "\n",
    "train_eD592674, test_eD592674 = data"
   ]
  },
  {
   "cell_type": "code",
   "execution_count": null,
   "id": "06fc8fed-a9d9-4b1c-becc-f83a60aaa36e",
   "metadata": {},
   "outputs": [],
   "source": []
  },
  {
   "cell_type": "code",
   "execution_count": null,
   "id": "f72fcf60-d86b-4fa7-9cef-143b71a3c2bc",
   "metadata": {},
   "outputs": [],
   "source": []
  },
  {
   "cell_type": "code",
   "execution_count": null,
   "id": "2107da84-fe85-4a23-8325-87de4303100f",
   "metadata": {},
   "outputs": [],
   "source": [
    "train_feats = train_feats.merge(train_eD592674, on=\"id\", how=\"left\")\n",
    "test_feats = test_feats.merge(test_eD592674, on=\"id\", how=\"left\")"
   ]
  },
  {
   "cell_type": "code",
   "execution_count": null,
   "id": "912363df-1a8d-4573-8e31-8b0fcf6915f0",
   "metadata": {},
   "outputs": [],
   "source": [
    "train_feats = train_feats.merge(train_scores, on=\"id\", how=\"left\")"
   ]
  },
  {
   "cell_type": "code",
   "execution_count": null,
   "id": "bd8a9fb4-af22-4205-a020-674bad2f6275",
   "metadata": {},
   "outputs": [],
   "source": [
    "if cnfg.is_local:\n",
    "    test_feats = test_feats.merge(test_scores, on=\"id\", how=\"left\")"
   ]
  },
  {
   "cell_type": "code",
   "execution_count": null,
   "id": "e110df17",
   "metadata": {
    "papermill": {
     "duration": 0.321822,
     "end_time": "2023-11-22T05:07:05.135373",
     "exception": false,
     "start_time": "2023-11-22T05:07:04.813551",
     "status": "completed"
    },
    "tags": []
   },
   "outputs": [],
   "source": [
    "def my_max(lst):\n",
    "    try:\n",
    "        x = max(lst)\n",
    "    except:\n",
    "        x = 0\n",
    "    return x\n",
    "\n",
    "\n",
    "def my_min(lst):\n",
    "    try:\n",
    "        x = min(lst)\n",
    "    except:\n",
    "        x = 0\n",
    "    return x\n",
    "\n",
    "\n",
    "def my_mean(lst):\n",
    "    try:\n",
    "        x = np.mean(lst)\n",
    "    except:\n",
    "        x = 0\n",
    "    return x\n",
    "\n",
    "\n",
    "def my_std(lst):\n",
    "    try:\n",
    "        x = st.stdev(lst)\n",
    "    except:\n",
    "        x = 0\n",
    "    return x\n",
    "\n",
    "\n",
    "def my_skew(lst):\n",
    "    try:\n",
    "        x = skew(lst)\n",
    "    except:\n",
    "        x = 0\n",
    "    return x\n",
    "\n",
    "\n",
    "def my_kurtosis(lst):\n",
    "    try:\n",
    "        x = kurtosis(lst, nan_policy=\"omit\")\n",
    "    except:\n",
    "        x = 0\n",
    "    return x\n",
    "\n",
    "\n",
    "def my_median_grouped(lst):\n",
    "    try:\n",
    "        x = st.median_grouped(lst)\n",
    "    except:\n",
    "        x = 0\n",
    "    return x\n",
    "\n",
    "\n",
    "def my_sum(lst):\n",
    "    try:\n",
    "        x = sum(lst)\n",
    "    except:\n",
    "        x = 0\n",
    "    return x\n",
    "\n",
    "\n",
    "# def my_kurtosis_series(x):\n",
    "#     k = my_kurtosis(x.values.tolist())\n",
    "#     return k\n",
    "\n",
    "\n",
    "class MyPreprocessor:\n",
    "    def __init__(self, df):\n",
    "        self.activities = [\"Input\", \"Remove/Cut\", \"Nonproduction\", \"Replace\", \"Paste\"]\n",
    "        self.activities_name_mapping = {\n",
    "            \"Input\": \"input\",\n",
    "            \"Remove/Cut\": \"remove\",\n",
    "            \"Nonproduction\": \"non_production\",\n",
    "            \"Replace\": \"replace\",\n",
    "            \"Paste\": \"paste\",\n",
    "        }\n",
    "        self.text_changes = text_changes = [\n",
    "            \"q\",\n",
    "            \" \",\n",
    "            # \"NoChange\",\n",
    "            \".\",\n",
    "            \",\",\n",
    "            \"\\n\",\n",
    "            \"'\",\n",
    "            '\"',\n",
    "            \"-\",\n",
    "            \"?\",\n",
    "            \";\",\n",
    "            \"=\",\n",
    "            \"/\",\n",
    "            \"\\\\\",\n",
    "            \":\",\n",
    "        ]\n",
    "        self.special_character_name_mapping = special_character_name_mapping = {\n",
    "            \"'\": \"qoute\",\n",
    "            '\"': \"double_qoute\",\n",
    "            \".\": \"full_stop\",\n",
    "            \",\": \"comma\",\n",
    "            \"-\": \"hyphen\",\n",
    "            \"?\": \"question_mark\",\n",
    "            \";\": \"semi_colon\",\n",
    "            \"=\": \"equal_to\",\n",
    "            \"/\": \"forward_slash\",\n",
    "            \"\\\\\": \"back_slash\",\n",
    "            \":\": \"colon\",\n",
    "            \"(\": \"bracket_open\",\n",
    "            \")\": \"bracket_close\",\n",
    "            \"!\": \"exclamation_mark\",\n",
    "            \"[\": \"square_bracket_open\",\n",
    "            \"$\": \"dollar\",\n",
    "            \">\": \"greater_than_sign\",\n",
    "            \"]\": \"square_bracket_close\",\n",
    "            \"*\": \"star\",\n",
    "            \"%\": \"percentage\",\n",
    "            \"&\": \"ampresand\",\n",
    "            \"<\": \"less_than_sign\",\n",
    "            \"+\": \"plus_sign\",\n",
    "            \"_\": \"under_score\",\n",
    "            \"{\": \"curly_bracket_open\",\n",
    "            \"`\": \"tilted_qoute\",\n",
    "            \"#\": \"hashtag\",\n",
    "            \" \": \"blank_space\",\n",
    "            \"\\n\": \"new_line_char\",\n",
    "        }\n",
    "        self.df = df.sort_values([\"id\", \"event_id\"]).reset_index(drop=True)\n",
    "\n",
    "    def remove_lower_categorical_values(self):\n",
    "        ## Clean activity\n",
    "        self.df[\"activity\"] = self.df.activity.apply(\n",
    "            lambda x: x if x in self.activities else \"__OUTLIER__\"\n",
    "        )\n",
    "\n",
    "    def clean_up_time(self):\n",
    "        \"\"\"\n",
    "        For maximum number of ids uptime is not increasing. In each id for one or two events, up_time is incorrectly recorded\n",
    "        Procedure: Calculate the difference with next if diff is negative replace up_time with the up_time of next.\n",
    "        \"\"\"\n",
    "        print(f\"Before uptime cleaning, data shape: {self.df.shape}\")\n",
    "        tmp_df = self.df[[\"id\", \"event_id\", \"up_time\"]]\n",
    "        tmp_df[\"up_time_next\"] = tmp_df.groupby(\"id\").up_time.shift(-1)\n",
    "        tmp_df[\"up_time_diff\"] = tmp_df[\"up_time_next\"] - tmp_df.up_time\n",
    "\n",
    "        tmp_df.loc[tmp_df[tmp_df.up_time_diff < 0].index, \"up_time\"] = tmp_df[\n",
    "            tmp_df.up_time_diff < 0\n",
    "        ].up_time_next\n",
    "\n",
    "        # Do it once more\n",
    "        tmp_df = tmp_df[[\"id\", \"event_id\", \"up_time\"]]\n",
    "        tmp_df[\"up_time_next\"] = tmp_df.groupby(\"id\").up_time.shift(-1)\n",
    "        tmp_df[\"up_time_diff\"] = tmp_df[\"up_time_next\"] - tmp_df.up_time\n",
    "        tmp_df.loc[tmp_df[tmp_df.up_time_diff < 0].index, \"up_time\"] = tmp_df[\n",
    "            tmp_df.up_time_diff < 0\n",
    "        ].up_time_next\n",
    "\n",
    "        self.df[\"up_time\"] = tmp_df[\"up_time\"]\n",
    "        print(f\"After uptime cleaning, data shape: {self.df.shape}\")\n",
    "\n",
    "    def add_latency_columns(self):\n",
    "        # HL -> Hold latency, up_time-down_time\n",
    "        # IL-> Interkey latency -> down_time(event2) - up_time(event1)\n",
    "        # PL -> Press latency -> down_time(event2)- down_time(event1) or HL+IL\n",
    "        # RL -> Release Latency -> up_time(event2)- up_time(event1)\n",
    "        # self.df[\"HL\"] = self.df[\"up_time\"] - self.df[\"down_time\"] #same as action_time\n",
    "        self.df[\"IL\"] = self.df[\"down_time\"] - self.df.groupby(\"id\").up_time.shift(\n",
    "            1\n",
    "        ).fillna(self.df.down_time)\n",
    "        # self.df[\"IL\"] = self.df[\"IL\"].fillna(0)\n",
    "        self.df[\"PL\"] = self.df[\"down_time\"] - self.df.groupby(\"id\").down_time.shift(\n",
    "            1\n",
    "        ).fillna(self.df.down_time)\n",
    "        # self.df[\"PL\"] = self.df[\"PL\"].fillna(0)\n",
    "        self.df[\"RL\"] = self.df[\"up_time\"] - self.df.groupby(\"id\").up_time.shift(\n",
    "            1\n",
    "        ).fillna(self.df.up_time)\n",
    "        # self.df[\"RL\"] = self.df[\"RL\"].fillna(0)\n",
    "\n",
    "        # self.df = self.df[~self.df.isna().any(axis=1)].reset_index(drop=True)\n",
    "\n",
    "    def clean_data(self):\n",
    "        self.remove_lower_categorical_values()\n",
    "        self.clean_up_time()\n",
    "\n",
    "        self.add_latency_columns()\n",
    "\n",
    "    def change_time_columns_to_secs(self):\n",
    "        time_columns = [\"down_time\", \"up_time\", \"action_time\", \"IL\", \"PL\", \"RL\"]\n",
    "        for clm in time_columns:\n",
    "            self.df[clm] = self.df[clm] / cnfg.time_divider\n",
    "\n",
    "    def activity_features(self, tmp_df):\n",
    "        # Activity Counts to total activity count ratio\n",
    "        # Number of different activities\n",
    "        features_to_drop = []\n",
    "        ret = list()\n",
    "        for i, li in tqdm(enumerate(tmp_df[\"activity_list\"].values)):\n",
    "            items = list(Counter(li).items())\n",
    "            di = dict()\n",
    "            for k in self.activities_name_mapping.keys():\n",
    "                di[self.activities_name_mapping[k]] = 0\n",
    "            for item in items:\n",
    "                k, v = item[0], item[1]\n",
    "                if k in self.activities_name_mapping.keys():\n",
    "                    # if self.activities_name_mapping[k] in di:\n",
    "                    di[self.activities_name_mapping[k]] = v\n",
    "            ret.append(di)\n",
    "        ret = pd.DataFrame(ret)\n",
    "        cols = [f\"activity_{act_name}_count\" for act_name in ret.columns]\n",
    "        ret.columns = cols\n",
    "\n",
    "        # If using ratios drop count columns\n",
    "        features_to_drop.extend(cols)\n",
    "\n",
    "        tmp_df = pd.concat([tmp_df, ret], axis=1)\n",
    "        ###############################################################################\n",
    "        # Ratios to total activity\n",
    "        for act_clm in self.activities_name_mapping.values():\n",
    "            tmp_df[f\"activity_{act_clm}_ratio_total\"] = (\n",
    "                tmp_df[f\"activity_{act_clm}_count\"] / tmp_df[\"total_num_activites\"]\n",
    "            )\n",
    "        ###############################################################################\n",
    "        # Ratio to \"Input\" Activity\n",
    "        for act_clm in self.activities_name_mapping.values():\n",
    "            if act_clm != \"input\":\n",
    "                tmp_df[f\"activity_{act_clm}_ratio_input\"] = (\n",
    "                    tmp_df[f\"activity_{act_clm}_count\"] / tmp_df[\"activity_input_count\"]\n",
    "                )\n",
    "        ###############################################################################\n",
    "        # Ratio to \"Nonproduction\"\n",
    "        for act_clm in self.activities_name_mapping.values():\n",
    "            if act_clm != \"non_production\":\n",
    "                tmp_df[f\"activity_{act_clm}_ratio_non_production\"] = (\n",
    "                    tmp_df[f\"activity_{act_clm}_count\"]\n",
    "                    / tmp_df[\"activity_non_production_count\"]\n",
    "                )\n",
    "        ###############################################################################\n",
    "        # Ratio of first occurence of each activity to total_time taken\n",
    "        for act_clm in self.activities_name_mapping.keys():\n",
    "            first_occr_df = self.df[self.df.activity == act_clm].drop_duplicates(\n",
    "                subset=[\"id\", \"activity\"], keep=\"first\"\n",
    "            )\n",
    "            first_occr_df[\n",
    "                f\"{self.activities_name_mapping[act_clm]}_first_time\"\n",
    "            ] = first_occr_df[\"down_time\"]\n",
    "            first_occr_df = first_occr_df[\n",
    "                [\"id\", f\"{self.activities_name_mapping[act_clm]}_first_time\"]\n",
    "            ]\n",
    "            tmp_df = tmp_df.merge(first_occr_df, on=\"id\", how=\"left\")\n",
    "            tmp_df[f\"{self.activities_name_mapping[act_clm]}_first_time\"] = (\n",
    "                tmp_df[f\"{self.activities_name_mapping[act_clm]}_first_time\"]\n",
    "                - tmp_df[\"start_time\"]\n",
    "            )\n",
    "            tmp_df[\n",
    "                f\"{self.activities_name_mapping[act_clm]}_first_time_total_ratio\"\n",
    "            ] = (\n",
    "                tmp_df[f\"{self.activities_name_mapping[act_clm]}_first_time\"]\n",
    "                / tmp_df[\"total_time_taken\"]\n",
    "            )\n",
    "\n",
    "            tmp_df[\n",
    "                f\"{self.activities_name_mapping[act_clm]}_first_time_total_ratio\"\n",
    "            ] = tmp_df[\n",
    "                f\"{self.activities_name_mapping[act_clm]}_first_time_total_ratio\"\n",
    "            ].fillna(\n",
    "                -1\n",
    "            )  # RMVD\n",
    "\n",
    "            features_to_drop.append(\n",
    "                f\"{self.activities_name_mapping[act_clm]}_first_time\"\n",
    "            )\n",
    "        ###############################################################################\n",
    "        # Ratio of last occurence of each activity to total_time taken\n",
    "        for act_clm in self.activities_name_mapping.keys():\n",
    "            last_occr_df = self.df[self.df.activity == act_clm].drop_duplicates(\n",
    "                subset=[\"id\", \"activity\"], keep=\"last\"\n",
    "            )\n",
    "            last_occr_df[\n",
    "                f\"{self.activities_name_mapping[act_clm]}_last_time\"\n",
    "            ] = last_occr_df[\"down_time\"]\n",
    "            last_occr_df = last_occr_df[\n",
    "                [\"id\", f\"{self.activities_name_mapping[act_clm]}_last_time\"]\n",
    "            ]\n",
    "            tmp_df = tmp_df.merge(last_occr_df, on=\"id\", how=\"left\")\n",
    "            tmp_df[f\"{self.activities_name_mapping[act_clm]}_last_time\"] = (\n",
    "                tmp_df[f\"{self.activities_name_mapping[act_clm]}_last_time\"]\n",
    "                - tmp_df[\"start_time\"]\n",
    "            )\n",
    "            tmp_df[f\"{self.activities_name_mapping[act_clm]}_last_time_total_ratio\"] = (\n",
    "                tmp_df[f\"{self.activities_name_mapping[act_clm]}_last_time\"]\n",
    "                / tmp_df[\"total_time_taken\"]\n",
    "            )\n",
    "\n",
    "            tmp_df[\n",
    "                f\"{self.activities_name_mapping[act_clm]}_last_time_total_ratio\"\n",
    "            ] = tmp_df[\n",
    "                f\"{self.activities_name_mapping[act_clm]}_last_time_total_ratio\"\n",
    "            ].fillna(\n",
    "                -1\n",
    "            )  # RMVD\n",
    "\n",
    "            features_to_drop.append(\n",
    "                f\"{self.activities_name_mapping[act_clm]}_last_time\"\n",
    "            )\n",
    "\n",
    "        ###############################################################################\n",
    "        # min max mean std and other stats values of time between each type of activity\n",
    "        methods_to_apply = [\n",
    "            my_min,\n",
    "            my_max,\n",
    "            my_mean,\n",
    "            my_std,\n",
    "            my_skew,\n",
    "            # my_kurtosis,\n",
    "            pd.DataFrame.kurt,\n",
    "            my_median_grouped,\n",
    "        ]\n",
    "\n",
    "        for act_clm in [\"Input\", \"Remove/Cut\", \"Nonproduction\"]:\n",
    "            particular_act_df = self.df[self.df.activity == act_clm].reset_index(\n",
    "                drop=True\n",
    "            )\n",
    "            act_clm = self.activities_name_mapping[act_clm]\n",
    "            particular_act_df[f\"{act_clm}_prev_event_time\"] = particular_act_df.groupby(\n",
    "                \"id\"\n",
    "            ).down_time.shift(1)\n",
    "            particular_act_df[f\"{act_clm}_inter_act_latency\"] = (\n",
    "                particular_act_df[\"down_time\"]\n",
    "                - particular_act_df[f\"{act_clm}_prev_event_time\"]\n",
    "            )\n",
    "\n",
    "            particular_act_df[f\"{act_clm}_inter_act_latency\"] = particular_act_df[\n",
    "                f\"{act_clm}_inter_act_latency\"\n",
    "            ].fillna(0)\n",
    "\n",
    "            # particular_act_df = particular_act_df[\n",
    "            #     ~particular_act_df.isna().any(axis=1)\n",
    "            # ].reset_index(drop=True)\n",
    "\n",
    "            colname = f\"{act_clm}_inter_act_latency\"\n",
    "            for method in methods_to_apply:\n",
    "                if isinstance(method, str):\n",
    "                    method_name = method\n",
    "                else:\n",
    "                    method_name = method.__name__\n",
    "                colname_method = f\"{act_clm}_{method_name}_inter_act_latency\"\n",
    "                tmp2_df = (\n",
    "                    particular_act_df.groupby([\"id\"])\n",
    "                    .agg({colname: method})\n",
    "                    .reset_index()\n",
    "                    .rename(columns={colname: colname_method})\n",
    "                )\n",
    "\n",
    "                tmp_df = tmp_df.merge(tmp2_df, on=\"id\", how=\"left\")\n",
    "                tmp_df[colname_method] = tmp_df[colname_method].fillna(0)  # RMVD\n",
    "\n",
    "        ###############################################################################\n",
    "        # Number of type of down_events in each of [\"Input\", \"Remove/Cut\", \"Nonproduction\"]\n",
    "        for act_clm in [\"Input\", \"Remove/Cut\", \"Nonproduction\"]:\n",
    "            particular_act_df = self.df[self.df.activity == act_clm].reset_index(\n",
    "                drop=True\n",
    "            )\n",
    "            act_clm = self.activities_name_mapping[act_clm]\n",
    "            colname = f\"num_type_down_events_in_{act_clm}\"\n",
    "            tmp2_df = (\n",
    "                particular_act_df.groupby(\"id\", as_index=False)\n",
    "                .agg({\"down_event\": \"nunique\"})\n",
    "                .rename(columns={\"down_event\": colname})\n",
    "            )\n",
    "            tmp_df = tmp_df.merge(tmp2_df, on=\"id\", how=\"left\")\n",
    "            tmp_df[colname] = tmp_df[colname].fillna(0)\n",
    "\n",
    "        ###############################################################################\n",
    "        ## Ways in which remove/cut happens -> Top ways -> ['Backspace','Delete','x','z','Rightclick'] ratios\n",
    "        remove_df = self.df[self.df.activity == \"Remove/Cut\"].reset_index(drop=True)\n",
    "        name_for_remove = self.activities_name_mapping[\"Remove/Cut\"]\n",
    "        remove_feats_df = remove_df.groupby(\"id\", as_index=False).agg(\n",
    "            total_remove_activity=(\"down_event\", lambda x: len(list(x)))\n",
    "        )\n",
    "        tmp_df = tmp_df.merge(remove_feats_df, on=\"id\", how=\"left\")\n",
    "\n",
    "        features_to_drop.append(\"total_remove_activity\")  # Remove this column\n",
    "\n",
    "        for dwn_evnt in [\"Backspace\", \"Delete\", \"x\", \"z\", \"Rightclick\"]:\n",
    "            colname = f\"{dwn_evnt}_in_{name_for_remove}_share\"\n",
    "            tmp2_df = (\n",
    "                remove_df[remove_df.down_event == dwn_evnt]\n",
    "                .groupby(\"id\", as_index=False)\n",
    "                .agg({\"down_event\": lambda x: len(list(x))})\n",
    "                .rename(columns={\"down_event\": colname})\n",
    "            )\n",
    "            tmp_df = tmp_df.merge(tmp2_df, on=\"id\", how=\"left\")\n",
    "            tmp_df[colname] = tmp_df[colname].fillna(0)\n",
    "        # Normalise\n",
    "        for dwn_evnt in [\"Backspace\", \"Delete\", \"x\", \"z\", \"Rightclick\"]:\n",
    "            colname = f\"{dwn_evnt}_in_{name_for_remove}_share\"\n",
    "            tmp_df[colname] = tmp_df[colname] / tmp_df[\"total_remove_activity\"]\n",
    "            tmp_df[colname] = tmp_df[colname].fillna(0)\n",
    "\n",
    "        ###############################################################################\n",
    "        ## Ways in which replace happens -> Top ways -> ['q','Space','.',',','z','v','Enter','Rightclick'] ratios\n",
    "        replace_df = self.df[self.df.activity == \"Replace\"].reset_index(drop=True)\n",
    "        name_for_replace = self.activities_name_mapping[\"Replace\"]\n",
    "        replace_feats_df = replace_df.groupby(\"id\", as_index=False).agg(\n",
    "            total_replace_activity=(\"down_event\", lambda x: len(list(x)))\n",
    "        )\n",
    "        tmp_df = tmp_df.merge(replace_feats_df, on=\"id\", how=\"left\")\n",
    "\n",
    "        features_to_drop.append(\"total_replace_activity\")  # Remove this column\n",
    "\n",
    "        for dwn_evnt in [\"q\", \"Space\", \".\", \",\", \"z\", \"v\", \"Enter\", \"Rightclick\"]:\n",
    "            dwn_evnt_name = (\n",
    "                dwn_evnt\n",
    "                if dwn_evnt not in self.special_character_name_mapping.keys()\n",
    "                else self.special_character_name_mapping[dwn_evnt]\n",
    "            )\n",
    "            colname = f\"{dwn_evnt_name}_in_{name_for_replace}_share\"\n",
    "            tmp2_df = (\n",
    "                replace_df[replace_df.down_event == dwn_evnt]\n",
    "                .groupby(\"id\", as_index=False)\n",
    "                .agg({\"down_event\": lambda x: len(list(x))})\n",
    "                .rename(columns={\"down_event\": colname})\n",
    "            )\n",
    "            tmp_df = tmp_df.merge(tmp2_df, on=\"id\", how=\"left\")\n",
    "            tmp_df[colname] = tmp_df[colname].fillna(0)\n",
    "        # Normalise\n",
    "        for dwn_evnt in [\"q\", \"Space\", \".\", \",\", \"z\", \"v\", \"Enter\", \"Rightclick\"]:\n",
    "            dwn_evnt_name = (\n",
    "                dwn_evnt\n",
    "                if dwn_evnt not in self.special_character_name_mapping.keys()\n",
    "                else self.special_character_name_mapping[dwn_evnt]\n",
    "            )\n",
    "            colname = f\"{dwn_evnt_name}_in_{name_for_replace}_share\"\n",
    "            tmp_df[colname] = tmp_df[colname] / tmp_df[\"total_replace_activity\"]\n",
    "            tmp_df[colname] = tmp_df[colname].fillna(0)\n",
    "\n",
    "        ###############################################################################\n",
    "        \"\"\"\n",
    "        Ways in which Nonproduction happens -> Top ways ->  top_ways_np ratios\n",
    "        \"\"\"\n",
    "        top_ways_np = [\n",
    "            \"Shift\",\n",
    "            \"ArrowRight\",\n",
    "            \"Leftclick\",\n",
    "            \"ArrowLeft\",\n",
    "            \"ArrowDown\",\n",
    "            \"ArrowUp\",\n",
    "            \"CapsLock\",\n",
    "            \"Control\",\n",
    "            \"Backspace\",\n",
    "            \"Tab\",\n",
    "            \"ContextMenu\",\n",
    "            \"End\",\n",
    "            \"Rightclick\",\n",
    "        ]\n",
    "        np_df = self.df[self.df.activity == \"Nonproduction\"].reset_index(drop=True)\n",
    "        name_for_np = self.activities_name_mapping[\"Nonproduction\"]\n",
    "        np_feats_df = np_df.groupby(\"id\", as_index=False).agg(\n",
    "            total_np_activity=(\"down_event\", lambda x: len(list(x)))\n",
    "        )\n",
    "        tmp_df = tmp_df.merge(np_feats_df, on=\"id\", how=\"left\")\n",
    "\n",
    "        features_to_drop.append(\"total_np_activity\")  # Remove this column\n",
    "\n",
    "        for dwn_evnt in top_ways_np:\n",
    "            dwn_evnt_name = (\n",
    "                dwn_evnt\n",
    "                if dwn_evnt not in self.special_character_name_mapping.keys()\n",
    "                else self.special_character_name_mapping[dwn_evnt]\n",
    "            )\n",
    "            colname = f\"{dwn_evnt_name}_in_{name_for_np}_share\"\n",
    "            tmp2_df = (\n",
    "                np_df[np_df.down_event == dwn_evnt]\n",
    "                .groupby(\"id\", as_index=False)\n",
    "                .agg({\"down_event\": lambda x: len(list(x))})\n",
    "                .rename(columns={\"down_event\": colname})\n",
    "            )\n",
    "            tmp_df = tmp_df.merge(tmp2_df, on=\"id\", how=\"left\")\n",
    "            tmp_df[colname] = tmp_df[colname].fillna(0)\n",
    "        # Normalise\n",
    "        for dwn_evnt in top_ways_np:\n",
    "            dwn_evnt_name = (\n",
    "                dwn_evnt\n",
    "                if dwn_evnt not in self.special_character_name_mapping.keys()\n",
    "                else self.special_character_name_mapping[dwn_evnt]\n",
    "            )\n",
    "            colname = f\"{dwn_evnt_name}_in_{name_for_np}_share\"\n",
    "            tmp_df[colname] = tmp_df[colname] / tmp_df[\"total_np_activity\"]\n",
    "            tmp_df[colname] = tmp_df[colname].fillna(0)\n",
    "\n",
    "        ###############################################################################\n",
    "        \"\"\"\n",
    "        Ways in which Input happens -> Top ways ->  top_ways_np ratios\n",
    "        \"\"\"\n",
    "        top_ways_input = [\n",
    "            \"q\",\n",
    "            \"Space\",\n",
    "            \"Enter\",\n",
    "        ] + list(self.special_character_name_mapping.keys())\n",
    "\n",
    "        top_ways_input = [\n",
    "            inp\n",
    "            for inp in top_ways_input\n",
    "            if inp\n",
    "            not in [\n",
    "                \":\",\n",
    "                \"(\",\n",
    "                \")\",\n",
    "                \"!\",\n",
    "                \"[\",\n",
    "                \"$\",\n",
    "                \">\",\n",
    "                \"]\",\n",
    "                \"*\",\n",
    "                \"%\",\n",
    "                \"&\",\n",
    "                \"<\",\n",
    "                \"+\",\n",
    "                \"_\",\n",
    "                \"{\",\n",
    "                \"`\",\n",
    "                \"#\",\n",
    "                \" \",\n",
    "                \"\\n\",\n",
    "            ]\n",
    "        ]\n",
    "        input_df = self.df[self.df.activity == \"Input\"].reset_index(drop=True)\n",
    "        name_for_input = self.activities_name_mapping[\"Input\"]\n",
    "        input_feats_df = input_df.groupby(\"id\", as_index=False).agg(\n",
    "            total_input_activity=(\"down_event\", lambda x: len(list(x)))\n",
    "        )\n",
    "        tmp_df = tmp_df.merge(input_feats_df, on=\"id\", how=\"left\")\n",
    "\n",
    "        features_to_drop.append(\"total_input_activity\")  # Remove this column\n",
    "\n",
    "        for dwn_evnt in top_ways_input:\n",
    "            dwn_evnt_name = (\n",
    "                dwn_evnt\n",
    "                if dwn_evnt not in self.special_character_name_mapping.keys()\n",
    "                else self.special_character_name_mapping[dwn_evnt]\n",
    "            )\n",
    "            colname = f\"{dwn_evnt_name}_in_{name_for_input}_share\"\n",
    "            tmp2_df = (\n",
    "                input_df[input_df.down_event == dwn_evnt]\n",
    "                .groupby(\"id\", as_index=False)\n",
    "                .agg({\"down_event\": lambda x: len(list(x))})\n",
    "                .rename(columns={\"down_event\": colname})\n",
    "            )\n",
    "            tmp_df = tmp_df.merge(tmp2_df, on=\"id\", how=\"left\")\n",
    "            tmp_df[colname] = tmp_df[colname].fillna(0)\n",
    "        # Normalise\n",
    "        for dwn_evnt in top_ways_input:\n",
    "            dwn_evnt_name = (\n",
    "                dwn_evnt\n",
    "                if dwn_evnt not in self.special_character_name_mapping.keys()\n",
    "                else self.special_character_name_mapping[dwn_evnt]\n",
    "            )\n",
    "            colname = f\"{dwn_evnt_name}_in_{name_for_input}_share\"\n",
    "            tmp_df[colname] = tmp_df[colname] / tmp_df[\"total_input_activity\"]\n",
    "            tmp_df[colname] = tmp_df[colname].fillna(0)\n",
    "\n",
    "        ###############################################################################\n",
    "\n",
    "        ###############################################################################\n",
    "        print(f\"Features dropping in activity function {features_to_drop}\")\n",
    "        tmp_df = tmp_df.drop(columns=features_to_drop)\n",
    "        return tmp_df\n",
    "\n",
    "    def word_count_features(self, tmp_df):\n",
    "        word_count_df = self.df[[\"id\", \"event_id\", \"word_count\", \"down_time\"]]\n",
    "        # Number of times words deleted:\n",
    "        word_count_df[\"word_count_first_derivative\"] = word_count_df[\n",
    "            \"word_count\"\n",
    "        ] - word_count_df.groupby(\"id\").word_count.shift(1)\n",
    "\n",
    "        word_count_df[\"word_count_first_derivative\"] = word_count_df[\n",
    "            \"word_count_first_derivative\"\n",
    "        ].fillna(0)\n",
    "        # word_count_df = word_count_df[~word_count_df.isna().any(axis=1)].reset_index(\n",
    "        #     drop=True\n",
    "        # )\n",
    "\n",
    "        wc_feats_df = word_count_df.groupby(\"id\", as_index=False).agg(\n",
    "            num_times_word_deleted=(\n",
    "                \"word_count_first_derivative\",\n",
    "                lambda x: my_sum([1 for i in list(x) if i < 0]),\n",
    "            ),\n",
    "            num_words_deleted=(  # take ratio with total words\n",
    "                \"word_count_first_derivative\",\n",
    "                lambda x: my_sum([-i for i in list(x) if i < 0]),\n",
    "            ),\n",
    "            size_of_biggest_chunk_removed=(  # take ratio with total words\n",
    "                \"word_count_first_derivative\",\n",
    "                lambda x: my_max([-i for i in list(x) if i < 0]),\n",
    "            ),\n",
    "            avg_num_words_removed_at_a_time=(  # take ratio with total words\n",
    "                \"word_count_first_derivative\",\n",
    "                lambda x: my_mean([-i for i in list(x) if i < 0]),\n",
    "            ),\n",
    "        )\n",
    "        wc_feats_df = wc_feats_df.fillna(0)\n",
    "        tmp_df = tmp_df.merge(wc_feats_df, on=\"id\", how=\"left\")\n",
    "        tmp_df[\"num_words_deleted\"] = (\n",
    "            tmp_df[\"num_words_deleted\"] / tmp_df[\"total_word_count\"]\n",
    "        )\n",
    "        tmp_df[\"num_words_deleted\"] = tmp_df[\"num_words_deleted\"].fillna(0)\n",
    "\n",
    "        tmp_df[\"size_of_biggest_chunk_removed\"] = (\n",
    "            tmp_df[\"size_of_biggest_chunk_removed\"] / tmp_df[\"total_word_count\"]\n",
    "        )\n",
    "        tmp_df[\"size_of_biggest_chunk_removed\"] = tmp_df[\n",
    "            \"size_of_biggest_chunk_removed\"\n",
    "        ].fillna(0)\n",
    "\n",
    "        tmp_df[\"avg_num_words_removed_at_a_time\"] = (\n",
    "            tmp_df[\"avg_num_words_removed_at_a_time\"] / tmp_df[\"total_word_count\"]\n",
    "        )\n",
    "        tmp_df[\"avg_num_words_removed_at_a_time\"] = tmp_df[\n",
    "            \"avg_num_words_removed_at_a_time\"\n",
    "        ].fillna(0)\n",
    "\n",
    "        word_count_df2 = word_count_df[\n",
    "            word_count_df.word_count_first_derivative < 0\n",
    "        ].reset_index(drop=True)\n",
    "        word_count_df2 = word_count_df2.merge(\n",
    "            tmp_df[[\"id\", \"start_time\", \"total_time_taken\"]], on=\"id\"\n",
    "        )\n",
    "        word_count_df2[\"time_for_word_deletion_share\"] = (\n",
    "            word_count_df2[\"down_time\"] - word_count_df2[\"start_time\"]\n",
    "        )\n",
    "        word_count_df2[\"time_for_word_deletion_share\"] = (\n",
    "            word_count_df2[\"time_for_word_deletion_share\"]\n",
    "            / word_count_df2[\"total_time_taken\"]\n",
    "        )\n",
    "\n",
    "        # Time after start when word is deleted first time and last time\n",
    "        wc_feats_df = word_count_df2.groupby(\"id\", as_index=False).agg(\n",
    "            first_time_word_deletion=(\n",
    "                \"time_for_word_deletion_share\",\n",
    "                lambda x: list(x)[0],\n",
    "            ),\n",
    "            last_time_word_deletion=(\n",
    "                \"time_for_word_deletion_share\",\n",
    "                lambda x: list(x)[-1],\n",
    "            ),\n",
    "        )\n",
    "        wc_feats_df = wc_feats_df.fillna(0)\n",
    "        tmp_df = tmp_df.merge(wc_feats_df, on=\"id\", how=\"left\")\n",
    "        tmp_df[\"first_time_word_deletion\"] = tmp_df[\"first_time_word_deletion\"].fillna(\n",
    "            0\n",
    "        )\n",
    "        tmp_df[\"last_time_word_deletion\"] = tmp_df[\"last_time_word_deletion\"].fillna(0)\n",
    "\n",
    "        # Average,max,min,std of time between word deletions\n",
    "        word_count_df2[\"time_between_word_deletions\"] = word_count_df2[\n",
    "            \"down_time\"\n",
    "        ] - word_count_df2.groupby(\"id\").down_time.shift(1)\n",
    "        word_count_df2[\"time_between_word_deletions\"] = word_count_df2[\n",
    "            \"time_between_word_deletions\"\n",
    "        ].fillna(0)\n",
    "        # word_count_df2 = word_count_df2[~word_count_df2.isna().any(axis=1)].reset_index(\n",
    "        #     drop=True\n",
    "        # )\n",
    "\n",
    "        wc_feats_df = word_count_df2.groupby(\"id\", as_index=False).agg(\n",
    "            mean_time_btw_word_deletions=(\n",
    "                \"time_between_word_deletions\",\n",
    "                lambda x: my_mean(list(x)),\n",
    "            ),\n",
    "            max_time_btw_word_deletions=(\n",
    "                \"time_between_word_deletions\",\n",
    "                lambda x: my_max(list(x)),\n",
    "            ),\n",
    "            min_time_btw_word_deletions=(\n",
    "                \"time_between_word_deletions\",\n",
    "                lambda x: my_min(list(x)),\n",
    "            ),\n",
    "            std_time_btw_word_deletions=(\n",
    "                \"time_between_word_deletions\",\n",
    "                lambda x: my_std(list(x)),\n",
    "            ),\n",
    "        )\n",
    "\n",
    "        wc_feats_df = wc_feats_df.fillna(0)\n",
    "        tmp_df = tmp_df.merge(wc_feats_df, on=\"id\", how=\"left\")\n",
    "        tmp_df[\"mean_time_btw_word_deletions\"] = (\n",
    "            tmp_df[\"mean_time_btw_word_deletions\"] / tmp_df[\"total_time_taken\"]\n",
    "        )\n",
    "        tmp_df[\"mean_time_btw_word_deletions\"] = tmp_df[\n",
    "            \"mean_time_btw_word_deletions\"\n",
    "        ].fillna(0)\n",
    "\n",
    "        tmp_df[\"max_time_btw_word_deletions\"] = (\n",
    "            tmp_df[\"max_time_btw_word_deletions\"] / tmp_df[\"total_time_taken\"]\n",
    "        )\n",
    "        tmp_df[\"max_time_btw_word_deletions\"] = tmp_df[\n",
    "            \"max_time_btw_word_deletions\"\n",
    "        ].fillna(0)\n",
    "\n",
    "        tmp_df[\"min_time_btw_word_deletions\"] = (\n",
    "            tmp_df[\"min_time_btw_word_deletions\"] / tmp_df[\"total_time_taken\"]\n",
    "        )\n",
    "        tmp_df[\"min_time_btw_word_deletions\"] = tmp_df[\n",
    "            \"min_time_btw_word_deletions\"\n",
    "        ].fillna(0)\n",
    "\n",
    "        tmp_df[\"std_time_btw_word_deletions\"] = (\n",
    "            tmp_df[\"std_time_btw_word_deletions\"] / tmp_df[\"total_time_taken\"]\n",
    "        )\n",
    "        tmp_df[\"std_time_btw_word_deletions\"] = tmp_df[\n",
    "            \"std_time_btw_word_deletions\"\n",
    "        ].fillna(0)\n",
    "\n",
    "        return tmp_df\n",
    "\n",
    "    def cursor_position_features(self, tmp_df):\n",
    "        cursor_pos_df = self.df[[\"id\", \"event_id\", \"cursor_position\", \"down_time\"]]\n",
    "        # Number of times cursor position is decreased means gone back to see something:\n",
    "        cursor_pos_df[\"cursor_pos_first_derivative\"] = cursor_pos_df[\n",
    "            \"cursor_position\"\n",
    "        ] - cursor_pos_df.groupby(\"id\").cursor_position.shift(1)\n",
    "        cursor_pos_df[\"cursor_pos_first_derivative\"] = cursor_pos_df[\n",
    "            \"cursor_pos_first_derivative\"\n",
    "        ].fillna(0)\n",
    "        # cursor_pos_df = cursor_pos_df[~cursor_pos_df.isna().any(axis=1)].reset_index(\n",
    "        #     drop=True\n",
    "        # )\n",
    "\n",
    "        cp_feats_df = cursor_pos_df.groupby(\"id\", as_index=False).agg(\n",
    "            num_times_cp_decreased=(\n",
    "                \"cursor_pos_first_derivative\",\n",
    "                lambda x: my_sum([1 for i in list(x) if i < 0]),\n",
    "            ),\n",
    "            size_of_biggest_cp_decreased=(\n",
    "                \"cursor_pos_first_derivative\",\n",
    "                lambda x: my_max([-i for i in list(x) if i < 0]),\n",
    "            ),\n",
    "            avg_size_of_cp_decreased_at_a_time=(\n",
    "                \"cursor_pos_first_derivative\",\n",
    "                lambda x: my_mean([-i for i in list(x) if i < 0]),\n",
    "            ),\n",
    "        )\n",
    "        cp_feats_df = cp_feats_df.fillna(0)\n",
    "        tmp_df = tmp_df.merge(cp_feats_df, on=\"id\", how=\"left\")\n",
    "\n",
    "        return tmp_df\n",
    "\n",
    "    def text_change_features(self, tmp_df):\n",
    "        # Count of all text_change features\n",
    "        for txt_chng in self.text_changes:\n",
    "            txt_chng_name = (\n",
    "                txt_chng\n",
    "                if txt_chng not in self.special_character_name_mapping.keys()\n",
    "                else self.special_character_name_mapping[txt_chng]\n",
    "            )\n",
    "\n",
    "            text_change_df = self.df[self.df.text_change == txt_chng]\n",
    "            cnt_col_name = f\"{txt_chng_name}_tc_total_share\"\n",
    "            text_change_features = (\n",
    "                text_change_df.groupby(\"id\", as_index=False)\n",
    "                .agg({\"text_change\": lambda x: len(list(x))})\n",
    "                .rename(columns={\"text_change\": cnt_col_name})\n",
    "            )\n",
    "            tmp_df = tmp_df.merge(text_change_features, on=\"id\", how=\"left\")\n",
    "            tmp_df[cnt_col_name] = tmp_df[cnt_col_name].fillna(0)\n",
    "            ## Ratio of text_change in particular activity\n",
    "            for act in [\"Input\", \"Remove/Cut\"]:\n",
    "                act_name = self.activities_name_mapping[act]\n",
    "                cnt_col_name2 = f\"{txt_chng_name}_in_{act_name}_tc_total_share\"\n",
    "                text_change_df2 = text_change_df[text_change_df.activity == act]\n",
    "                text_change_features2 = (\n",
    "                    text_change_df2.groupby(\"id\", as_index=False)\n",
    "                    .agg({\"text_change\": lambda x: len(list(x))})\n",
    "                    .rename(columns={\"text_change\": cnt_col_name2})\n",
    "                )\n",
    "\n",
    "                tmp_df = tmp_df.merge(text_change_features2, on=\"id\", how=\"left\")\n",
    "                tmp_df[cnt_col_name2] = tmp_df[cnt_col_name2].fillna(0)\n",
    "                # Normalise\n",
    "                tmp_df[cnt_col_name2] = tmp_df[cnt_col_name2] / tmp_df[cnt_col_name]\n",
    "                tmp_df[cnt_col_name2] = tmp_df[cnt_col_name2].fillna(0)\n",
    "\n",
    "            # Normalise count of text change type with total event count\n",
    "            tmp_df[cnt_col_name] = tmp_df[cnt_col_name] / tmp_df[\"num_events\"]\n",
    "            tmp_df[cnt_col_name] = tmp_df[cnt_col_name].fillna(0)\n",
    "\n",
    "        return tmp_df\n",
    "\n",
    "    def word_len_features(self, tmp_df):\n",
    "        essay_text_df = self.df[\n",
    "            (~self.df[\"text_change\"].str.contains(\"=>\"))\n",
    "            & (self.df[\"text_change\"] != \"NoChange\")\n",
    "        ].reset_index(drop=True)\n",
    "        essay_text_df = (\n",
    "            essay_text_df.groupby(\"id\").agg({\"text_change\": list}).reset_index()\n",
    "        )\n",
    "        essay_text_df[\"text_change\"] = essay_text_df[\"text_change\"].apply(\n",
    "            lambda x: \"\".join(x)\n",
    "        )\n",
    "        essay_text_df[\"text_change2\"] = essay_text_df[\"text_change\"].apply(\n",
    "            lambda x: re.findall(r\"q+\", x)\n",
    "        )\n",
    "        essay_text_df[\"input_word_count\"] = essay_text_df[\"text_change2\"].apply(len)\n",
    "        essay_text_df[\"input_word_length_mean\"] = essay_text_df[\"text_change2\"].apply(\n",
    "            lambda x: np.mean([len(i) for i in x] if len(x) > 0 else 0)\n",
    "        )\n",
    "        essay_text_df[\"input_word_length_max\"] = essay_text_df[\"text_change2\"].apply(\n",
    "            lambda x: np.max([len(i) for i in x] if len(x) > 0 else 0)\n",
    "        )\n",
    "        essay_text_df[\"input_word_length_std\"] = essay_text_df[\"text_change2\"].apply(\n",
    "            lambda x: np.std([len(i) for i in x] if len(x) > 0 else 0)\n",
    "        )\n",
    "\n",
    "        essay_text_df[\"input_word_length_skew\"] = essay_text_df[\"text_change2\"].apply(\n",
    "            lambda x: my_skew([len(i) for i in x] if len(x) > 0 else 0)\n",
    "        )\n",
    "\n",
    "        essay_text_df[\"input_word_length_kurtosis\"] = essay_text_df[\n",
    "            \"text_change2\"\n",
    "        ].apply(lambda x: my_kurtosis([len(i) for i in x] if len(x) > 0 else 0))\n",
    "\n",
    "        essay_text_df2 = essay_text_df[[\"id\", \"text_change2\"]].explode(\n",
    "            column=\"text_change2\"\n",
    "        )\n",
    "        essay_text_df2 = essay_text_df2.dropna().reset_index(drop=True)\n",
    "\n",
    "        essay_text_df = essay_text_df.drop(columns=[\"text_change\", \"text_change2\"])\n",
    "\n",
    "        tmp_df = tmp_df.merge(essay_text_df, on=\"id\", how=\"left\")\n",
    "\n",
    "        ## Count number of words of lengths ['1', '2', '3', '4', '5', '6', '7', '8', '9', '10', 'more_than_10']\n",
    "        essay_text_df2[\"word_len\"] = essay_text_df2.text_change2.apply(\n",
    "            lambda x: \"more_than_10\" if len(x) > 10 else str(len(x))\n",
    "        )\n",
    "\n",
    "        essay_text_df2 = essay_text_df2.groupby(\"id\", as_index=False).agg(\n",
    "            {\"word_len\": list}\n",
    "        )\n",
    "        list_of_word_lens = [\n",
    "            \"1\",\n",
    "            \"2\",\n",
    "            \"3\",\n",
    "            \"4\",\n",
    "            \"5\",\n",
    "            \"6\",\n",
    "            \"7\",\n",
    "            \"8\",\n",
    "            \"9\",\n",
    "            \"10\",\n",
    "            \"more_than_10\",\n",
    "        ]\n",
    "        ret = list()\n",
    "        for li in tqdm(essay_text_df2[\"word_len\"].values):\n",
    "            items = list(Counter(li).items())\n",
    "            di = dict()\n",
    "            for k in list_of_word_lens:\n",
    "                di[k] = 0\n",
    "            for item in items:\n",
    "                k, v = item[0], item[1]\n",
    "                if k in di:\n",
    "                    di[k] = v\n",
    "            ret.append(di)\n",
    "        ret = pd.DataFrame(ret)\n",
    "        cols = [f\"words_of_len_{i}_share\" for i in ret.columns]\n",
    "        ret.columns = cols\n",
    "        tmp_df = pd.concat([tmp_df, ret], axis=1)\n",
    "        # Normalise\n",
    "        for word_len in list_of_word_lens:\n",
    "            colname = f\"words_of_len_{word_len}_share\"\n",
    "            tmp_df[colname] = tmp_df[colname] / tmp_df[\"input_word_count\"]\n",
    "\n",
    "        return tmp_df\n",
    "\n",
    "    def get_stats_for_different_features(self, tmp_df):\n",
    "        methods_to_apply = [\n",
    "            # my_min,\n",
    "            my_max,\n",
    "            my_mean,\n",
    "            my_std,\n",
    "            my_skew,\n",
    "            # my_kurtosis,\n",
    "            pd.DataFrame.kurt,\n",
    "            my_median_grouped,\n",
    "            \"last\",\n",
    "            \"first\",\n",
    "            \"sem\",\n",
    "            # \"median\",\n",
    "            \"sum\",\n",
    "        ]\n",
    "        clms_for_stats = [\n",
    "            \"IL\",\n",
    "            \"PL\",\n",
    "        ]\n",
    "\n",
    "        for clm in clms_for_stats:\n",
    "            colname = f\"{clm}_stats\"\n",
    "            for method in methods_to_apply:\n",
    "                if isinstance(method, str):\n",
    "                    method_name = method\n",
    "                else:\n",
    "                    method_name = method.__name__\n",
    "                colname_method = f\"{colname}_{method_name}\"\n",
    "                tmp2_df = (\n",
    "                    self.df.groupby([\"id\"])\n",
    "                    .agg({clm: method})\n",
    "                    .reset_index()\n",
    "                    .rename(columns={clm: colname_method})\n",
    "                )\n",
    "\n",
    "                tmp_df = tmp_df.merge(tmp2_df, on=\"id\", how=\"left\")\n",
    "\n",
    "        return tmp_df\n",
    "\n",
    "    def feature_engineering(self):\n",
    "        # initialize features dataframe\n",
    "        # feats = pd.DataFrame({\"id\": self.df[\"id\"].unique().tolist()})\n",
    "\n",
    "        feats = self.df.groupby(\"id\", as_index=False).agg(\n",
    "            total_time_taken=(\"down_time\", lambda x: list(x)[-1] - list(x)[0]),\n",
    "            total_idle_time=(\"IL\", lambda x: sum(x)),\n",
    "            total_word_count=(\"word_count\", lambda x: list(x)[-1] - list(x)[0]),\n",
    "            max_cursor_position=(\"cursor_position\", lambda x: my_max(list(x))),\n",
    "            num_events=(\"event_id\", lambda x: len(list(x))),\n",
    "            activity_list=(\"activity\", list),\n",
    "            total_num_activites=(\"activity\", lambda x: len(list(x))),\n",
    "            total_type_of_activities=(\"activity\", lambda x: len(set(x))),\n",
    "            start_time=(\"down_time\", lambda x: list(x)[0]),\n",
    "            end_time=(\"down_time\", lambda x: list(x)[-1]),\n",
    "        )\n",
    "\n",
    "        print(print(f\"After first groupby: {self.df.shape},{feats.shape}\"))\n",
    "\n",
    "        features_to_drop = [\n",
    "            \"activity_list\",\n",
    "            \"total_num_activites\",\n",
    "            \"start_time\",\n",
    "            \"end_time\",\n",
    "        ]\n",
    "\n",
    "        # events to time ratio or rate of event or speed of activity\n",
    "        feats[\"speed_of_activity\"] = feats[\"num_events\"] / feats[\"total_time_taken\"]\n",
    "        feats[\"speed_of_writing\"] = (\n",
    "            feats[\"total_word_count\"] / feats[\"total_time_taken\"]\n",
    "        )\n",
    "        feats[\"events_per_word\"] = feats[\"total_word_count\"] / feats[\"num_events\"]\n",
    "        feats[\"idle_time_ratio\"] = feats[\"total_idle_time\"] / feats[\"total_time_taken\"]\n",
    "\n",
    "        feats[\"words_to_cp_ratio\"] = (\n",
    "            feats[\"total_word_count\"] / feats[\"max_cursor_position\"]\n",
    "        )  # indicator of words per line\n",
    "\n",
    "        # After Activity features\n",
    "        print(\"-\" * 25)\n",
    "        print(\"Starting Activity Features\")\n",
    "        feats = self.activity_features(feats)\n",
    "\n",
    "        # Word count features\n",
    "        print(\"-\" * 25)\n",
    "        print(\"Starting Word Count Features\")\n",
    "        feats = self.word_count_features(feats)\n",
    "\n",
    "        # Cursor position features\n",
    "        print(\"-\" * 25)\n",
    "        print(\"Starting Cursor Position Features\")\n",
    "        feats = self.cursor_position_features(feats)\n",
    "\n",
    "        # IL, PL, action_time statistical features\n",
    "        print(\"-\" * 25)\n",
    "        print(\"Starting Stats Features\")\n",
    "        feats = self.get_stats_for_different_features(feats)\n",
    "\n",
    "        print(\"-\" * 25)\n",
    "        print(\"Starting Text Change Features\")\n",
    "        feats = self.text_change_features(feats)\n",
    "\n",
    "        print(\"-\" * 25)\n",
    "        print(\"Starting Word Length Features\")\n",
    "        feats = self.word_len_features(feats)\n",
    "\n",
    "        feats = feats.drop(columns=features_to_drop)\n",
    "        feats = feats.set_index([\"id\"]).add_prefix(\"additional_\").reset_index()\n",
    "        return feats\n",
    "\n",
    "    def pre_process_data(self):\n",
    "        self.clean_data()\n",
    "        print(f\"In pre process data: {self.df.shape}\")\n",
    "\n",
    "        if cnfg.is_time_in_secs:\n",
    "            self.change_time_columns_to_secs()\n",
    "\n",
    "        return self.df\n",
    "\n",
    "    def pre_process_and_engineer_features(self):\n",
    "        _ = self.pre_process_data()\n",
    "        features_df = self.feature_engineering()\n",
    "        return self.df, features_df"
   ]
  },
  {
   "cell_type": "code",
   "execution_count": null,
   "id": "385845b7",
   "metadata": {
    "papermill": {
     "duration": 0.035653,
     "end_time": "2023-11-22T05:07:05.200210",
     "exception": false,
     "start_time": "2023-11-22T05:07:05.164557",
     "status": "completed"
    },
    "tags": []
   },
   "outputs": [],
   "source": [
    "my_preprocess_train = MyPreprocessor(traindf)\n",
    "(\n",
    "    train_logs2,\n",
    "    my_train_feats,\n",
    ") = my_preprocess_train.pre_process_and_engineer_features()\n",
    "\n",
    "print()\n",
    "print(\"-\" * 25)\n",
    "print(\"Engineering features for test data\")\n",
    "print(\"-\" * 25)\n",
    "my_preprocess_test = MyPreprocessor(testdf)\n",
    "_, my_test_feats = my_preprocess_test.pre_process_and_engineer_features()"
   ]
  },
  {
   "cell_type": "code",
   "execution_count": null,
   "id": "d4c384d6",
   "metadata": {
    "papermill": {
     "duration": 0.035328,
     "end_time": "2023-11-22T05:07:05.264174",
     "exception": false,
     "start_time": "2023-11-22T05:07:05.228846",
     "status": "completed"
    },
    "tags": []
   },
   "outputs": [],
   "source": [
    "my_train_feats.shape"
   ]
  },
  {
   "cell_type": "code",
   "execution_count": null,
   "id": "f00f6f35",
   "metadata": {
    "papermill": {
     "duration": 0.034492,
     "end_time": "2023-11-22T05:07:05.327304",
     "exception": false,
     "start_time": "2023-11-22T05:07:05.292812",
     "status": "completed"
    },
    "tags": []
   },
   "outputs": [],
   "source": [
    "my_train_feats.columns[my_train_feats.isnull().any()].tolist()"
   ]
  },
  {
   "cell_type": "code",
   "execution_count": null,
   "id": "29f64bf3",
   "metadata": {
    "papermill": {
     "duration": 0.053452,
     "end_time": "2023-11-22T05:07:05.409082",
     "exception": false,
     "start_time": "2023-11-22T05:07:05.355630",
     "status": "completed"
    },
    "tags": []
   },
   "outputs": [],
   "source": [
    "train_feats.columns[train_feats.isnull().any()].tolist()"
   ]
  },
  {
   "cell_type": "code",
   "execution_count": null,
   "id": "9facc33c",
   "metadata": {
    "papermill": {
     "duration": 0.035055,
     "end_time": "2023-11-22T05:07:05.472927",
     "exception": false,
     "start_time": "2023-11-22T05:07:05.437872",
     "status": "completed"
    },
    "tags": []
   },
   "outputs": [],
   "source": [
    "train_feats = train_feats.merge(my_train_feats, on=\"id\")"
   ]
  },
  {
   "cell_type": "code",
   "execution_count": null,
   "id": "1b6686e9",
   "metadata": {
    "papermill": {
     "duration": 0.034985,
     "end_time": "2023-11-22T05:07:05.536595",
     "exception": false,
     "start_time": "2023-11-22T05:07:05.501610",
     "status": "completed"
    },
    "tags": []
   },
   "outputs": [],
   "source": [
    "test_feats = test_feats.merge(my_test_feats, on=\"id\")"
   ]
  },
  {
   "cell_type": "code",
   "execution_count": null,
   "id": "479ecb5d",
   "metadata": {
    "papermill": {
     "duration": 0.036737,
     "end_time": "2023-11-22T05:07:05.602045",
     "exception": false,
     "start_time": "2023-11-22T05:07:05.565308",
     "status": "completed"
    },
    "tags": []
   },
   "outputs": [],
   "source": [
    "train_feats.shape, test_feats.shape"
   ]
  },
  {
   "cell_type": "code",
   "execution_count": null,
   "id": "2d8636b7",
   "metadata": {
    "papermill": {
     "duration": 0.036941,
     "end_time": "2023-11-22T05:07:05.802133",
     "exception": false,
     "start_time": "2023-11-22T05:07:05.765192",
     "status": "completed"
    },
    "tags": []
   },
   "outputs": [],
   "source": [
    "train_feats.shape, test_feats.shape"
   ]
  },
  {
   "cell_type": "code",
   "execution_count": null,
   "id": "ca391c8c",
   "metadata": {
    "papermill": {
     "duration": 0.052898,
     "end_time": "2023-11-22T05:07:05.883983",
     "exception": false,
     "start_time": "2023-11-22T05:07:05.831085",
     "status": "completed"
    },
    "tags": []
   },
   "outputs": [],
   "source": [
    "nan_cols = train_feats.columns[train_feats.isna().any()].tolist()\n",
    "nan_cols"
   ]
  },
  {
   "cell_type": "code",
   "execution_count": null,
   "id": "7eac0fdb",
   "metadata": {
    "papermill": {
     "duration": 0.044009,
     "end_time": "2023-11-22T05:07:05.957040",
     "exception": false,
     "start_time": "2023-11-22T05:07:05.913031",
     "status": "completed"
    },
    "tags": []
   },
   "outputs": [],
   "source": [
    "for col in nan_cols:\n",
    "    mode_value_train = train_feats[col].mode()[\n",
    "        0\n",
    "    ]  # In case there are multiple modes, choose the first one\n",
    "    train_feats[col].fillna(mode_value_train, inplace=True)"
   ]
  },
  {
   "cell_type": "code",
   "execution_count": null,
   "id": "476e894e",
   "metadata": {
    "papermill": {
     "duration": 0.162697,
     "end_time": "2023-11-22T05:07:06.149607",
     "exception": false,
     "start_time": "2023-11-22T05:07:05.986910",
     "status": "completed"
    },
    "tags": []
   },
   "outputs": [],
   "source": [
    "for col in test_feats.columns[test_feats.isna().any()].tolist():\n",
    "    # Find the most frequent value in the training set for the current feature\n",
    "    most_frequent_value_train = train_feats[col].mode()[0]\n",
    "\n",
    "    # Fill missing values in the test set with the most frequent value from the training set\n",
    "    test_feats[col].fillna(most_frequent_value_train, inplace=True)"
   ]
  },
  {
   "cell_type": "code",
   "execution_count": null,
   "id": "9c958724-6522-4271-83f0-1ac7b8c65b06",
   "metadata": {},
   "outputs": [],
   "source": [
    "train_feats.shape, test_feats.shape"
   ]
  },
  {
   "cell_type": "code",
   "execution_count": null,
   "id": "12a011e1",
   "metadata": {
    "papermill": {
     "duration": 0.053368,
     "end_time": "2023-11-22T05:07:06.232510",
     "exception": false,
     "start_time": "2023-11-22T05:07:06.179142",
     "status": "completed"
    },
    "tags": []
   },
   "outputs": [],
   "source": [
    "train_feats.columns[train_feats.isna().any()].tolist()"
   ]
  },
  {
   "cell_type": "code",
   "execution_count": null,
   "id": "fc2e974a",
   "metadata": {
    "papermill": {
     "duration": 0.053235,
     "end_time": "2023-11-22T05:07:06.315106",
     "exception": false,
     "start_time": "2023-11-22T05:07:06.261871",
     "status": "completed"
    },
    "tags": []
   },
   "outputs": [],
   "source": [
    "nan_values_test = test_feats.columns[test_feats.isna().any()].tolist()\n",
    "nan_values_test"
   ]
  },
  {
   "cell_type": "code",
   "execution_count": null,
   "id": "fa904251",
   "metadata": {
    "papermill": {
     "duration": 0.050617,
     "end_time": "2023-11-22T05:07:06.395441",
     "exception": false,
     "start_time": "2023-11-22T05:07:06.344824",
     "status": "completed"
    },
    "tags": []
   },
   "outputs": [],
   "source": [
    "# train_feats.columns.tolist()"
   ]
  },
  {
   "cell_type": "code",
   "execution_count": null,
   "id": "0d0b8bbb-4676-446e-9a94-ffec7696bd4d",
   "metadata": {},
   "outputs": [],
   "source": []
  },
  {
   "cell_type": "code",
   "execution_count": null,
   "id": "7f61e675-58eb-493e-bc26-c9c12aa9083d",
   "metadata": {},
   "outputs": [],
   "source": []
  },
  {
   "cell_type": "markdown",
   "id": "7499e9cb-aa5d-42ab-b805-6f8f355f23b8",
   "metadata": {},
   "source": [
    "#### Training ####"
   ]
  },
  {
   "cell_type": "code",
   "execution_count": 118,
   "id": "c6630ef3-e8be-4766-8880-838f5cdb56f4",
   "metadata": {
    "execution": {
     "iopub.execute_input": "2023-11-25T18:19:15.979455Z",
     "iopub.status.busy": "2023-11-25T18:19:15.979145Z",
     "iopub.status.idle": "2023-11-25T18:19:15.983769Z",
     "shell.execute_reply": "2023-11-25T18:19:15.983239Z",
     "shell.execute_reply.started": "2023-11-25T18:19:15.979439Z"
    }
   },
   "outputs": [
    {
     "data": {
      "text/plain": [
       "(920, 1)"
      ]
     },
     "execution_count": 118,
     "metadata": {},
     "output_type": "execute_result"
    }
   ],
   "source": [
    "target_col = [cnfg.response_variate]\n",
    "\n",
    "# drop_cols = [\"id\", \"score_class\"]\n",
    "\n",
    "train_cols = list(\n",
    "    filter(\n",
    "        lambda x: x not in [cnfg.response_variate, \"id\", \"fold\"],\n",
    "        train_feats.columns,\n",
    "    )\n",
    ")\n",
    "\n",
    "train_cols.__len__(), target_col.__len__()"
   ]
  },
  {
   "cell_type": "code",
   "execution_count": 119,
   "id": "c05e70a0-b19f-467a-81bf-94e00fbbc8c8",
   "metadata": {
    "execution": {
     "iopub.execute_input": "2023-11-25T18:19:16.356781Z",
     "iopub.status.busy": "2023-11-25T18:19:16.356574Z",
     "iopub.status.idle": "2023-11-25T18:19:16.359794Z",
     "shell.execute_reply": "2023-11-25T18:19:16.359244Z",
     "shell.execute_reply.started": "2023-11-25T18:19:16.356763Z"
    }
   },
   "outputs": [],
   "source": [
    "# [name for name in train_cols if np.std(train_feats[name]) == 0]"
   ]
  },
  {
   "cell_type": "code",
   "execution_count": 120,
   "id": "47e1ad23-996b-454f-9998-7d71100f49e2",
   "metadata": {
    "execution": {
     "iopub.execute_input": "2023-11-25T18:19:16.630409Z",
     "iopub.status.busy": "2023-11-25T18:19:16.629989Z",
     "iopub.status.idle": "2023-11-25T18:19:16.738364Z",
     "shell.execute_reply": "2023-11-25T18:19:16.737817Z",
     "shell.execute_reply.started": "2023-11-25T18:19:16.630372Z"
    }
   },
   "outputs": [],
   "source": [
    "train_cols = [name for name in train_cols if np.std(train_feats[name]) > 0]"
   ]
  },
  {
   "cell_type": "code",
   "execution_count": 121,
   "id": "d18b9d68-5e17-46a2-8551-3770be5dfc1c",
   "metadata": {
    "execution": {
     "iopub.execute_input": "2023-11-25T18:19:16.903465Z",
     "iopub.status.busy": "2023-11-25T18:19:16.903243Z",
     "iopub.status.idle": "2023-11-25T18:19:16.907451Z",
     "shell.execute_reply": "2023-11-25T18:19:16.906951Z",
     "shell.execute_reply.started": "2023-11-25T18:19:16.903446Z"
    }
   },
   "outputs": [
    {
     "data": {
      "text/plain": [
       "861"
      ]
     },
     "execution_count": 121,
     "metadata": {},
     "output_type": "execute_result"
    }
   ],
   "source": [
    "len(train_cols)"
   ]
  },
  {
   "cell_type": "code",
   "execution_count": 122,
   "id": "d6a5c2ed-af8d-4f7e-9afe-b91255d8345a",
   "metadata": {
    "execution": {
     "iopub.execute_input": "2023-11-25T18:19:17.255505Z",
     "iopub.status.busy": "2023-11-25T18:19:17.254390Z",
     "iopub.status.idle": "2023-11-25T18:19:17.259120Z",
     "shell.execute_reply": "2023-11-25T18:19:17.258225Z",
     "shell.execute_reply.started": "2023-11-25T18:19:17.255461Z"
    }
   },
   "outputs": [],
   "source": [
    "# test_feats.score.values"
   ]
  },
  {
   "cell_type": "markdown",
   "id": "d3d0b9d1-4dfc-414d-a077-8ac839704d9f",
   "metadata": {
    "papermill": {
     "duration": 0.019093,
     "end_time": "2023-10-24T19:15:40.474724",
     "exception": false,
     "start_time": "2023-10-24T19:15:40.455631",
     "status": "completed"
    },
    "tags": []
   },
   "source": [
    "# Optimizing Hyperparameters with Optuna"
   ]
  },
  {
   "cell_type": "code",
   "execution_count": null,
   "id": "da59ef47-ae1a-47e8-bcd3-c12a963e4264",
   "metadata": {
    "papermill": {
     "duration": 0.035316,
     "end_time": "2023-10-24T19:15:40.529526",
     "exception": false,
     "start_time": "2023-10-24T19:15:40.494210",
     "status": "completed"
    },
    "tags": []
   },
   "outputs": [],
   "source": []
  },
  {
   "cell_type": "code",
   "execution_count": 123,
   "id": "79134099-fc21-4f85-a990-eace37321cbd",
   "metadata": {
    "execution": {
     "iopub.execute_input": "2023-11-25T18:19:18.296204Z",
     "iopub.status.busy": "2023-11-25T18:19:18.295904Z",
     "iopub.status.idle": "2023-11-25T18:19:18.306223Z",
     "shell.execute_reply": "2023-11-25T18:19:18.305728Z",
     "shell.execute_reply.started": "2023-11-25T18:19:18.296178Z"
    },
    "papermill": {
     "duration": 0.031689,
     "end_time": "2023-10-24T19:15:40.581311",
     "exception": false,
     "start_time": "2023-10-24T19:15:40.549622",
     "status": "completed"
    },
    "tags": []
   },
   "outputs": [],
   "source": [
    "def objective(trial, train_feats):\n",
    "    train_feats_df = train_feats.copy()\n",
    "    if cnfg.is_local:\n",
    "        test_feats_df = test_feats.copy()\n",
    "        test_predict_list = []\n",
    "    print(trial.number)\n",
    "    param = {\n",
    "        \"objective\": \"regression\",\n",
    "        \"boosting_type\": \"gbdt\",\n",
    "        \"metric\": \"rmse\",\n",
    "        # \"device_type\": \"gpu\",\n",
    "        \"verbosity\": -1,\n",
    "        \"bagging_freq\": 1,\n",
    "        \"random_state\": cnfg.seed,\n",
    "        \"n_estimators\": cnfg.num_estimators,\n",
    "        \"early_stopping_rounds\": cnfg.num_trials_early_stopping,\n",
    "        \"reg_alpha\": trial.suggest_loguniform(\"reg_alpha\", 1e-3, 10.0),\n",
    "        \"reg_lambda\": trial.suggest_loguniform(\"reg_lambda\", 1e-3, 10.0),\n",
    "        \"feature_fraction\": trial.suggest_float(\"feature_fraction\", 0.5, 1),\n",
    "        \"bagging_fraction\": trial.suggest_float(\"bagging_fraction\", 0.6, 1),\n",
    "        \"learning_rate\": trial.suggest_float(\"learning_rate\", 1e-2, 0.1, log=True),\n",
    "        \"num_leaves\": trial.suggest_int(\"num_leaves\", 8, 128),\n",
    "        # \"max_depth\": trial.suggest_int(\"max_depth\", 15, 100),\n",
    "        \"min_child_samples\": trial.suggest_int(\"min_child_samples\", 1, 100),\n",
    "    }\n",
    "\n",
    "    scores = []\n",
    "\n",
    "    for i in range(5):\n",
    "        kf = model_selection.KFold(\n",
    "            n_splits=cnfg.num_folds, random_state=cnfg.seed + i, shuffle=True\n",
    "        )\n",
    "\n",
    "        oof_valid_preds = np.zeros(\n",
    "            train_feats_df.shape[0],\n",
    "        )\n",
    "\n",
    "        if cnfg.is_local:\n",
    "            X_test = test_feats_df[train_cols]\n",
    "\n",
    "        for fold, (train_idx, valid_idx) in enumerate(kf.split(train_feats_df)):\n",
    "            # print(\"==-\" * 50)\n",
    "            # print(\"Fold : \", fold)\n",
    "\n",
    "            X_train, y_train = (\n",
    "                train_feats_df.iloc[train_idx][train_cols],\n",
    "                train_feats_df.iloc[train_idx][target_col],\n",
    "            )\n",
    "            X_valid, y_valid = (\n",
    "                train_feats_df.iloc[valid_idx][train_cols],\n",
    "                train_feats_df.iloc[valid_idx][target_col],\n",
    "            )\n",
    "\n",
    "            # print(\"Trian :\", X_train.shape, y_train.shape)\n",
    "            # print(\"Valid :\", X_valid.shape, y_valid.shape)\n",
    "\n",
    "            model = lgb.LGBMRegressor(**param)\n",
    "\n",
    "            # early_stopping_callback = lgb.early_stopping(\n",
    "            #     cnfg.num_trials_early_stopping, first_metric_only=True, verbose=False\n",
    "            # )\n",
    "            # verbose_callback = lgb.log_evaluation(100)\n",
    "\n",
    "            model.fit(\n",
    "                X_train,\n",
    "                y_train,\n",
    "                eval_set=[(X_valid, y_valid)],\n",
    "                # callbacks=[early_stopping_callback],\n",
    "                # early_stopping_rounds=cnfg.num_trials_early_stopping,\n",
    "                # verbose=False\n",
    "            )\n",
    "\n",
    "            valid_predict = model.predict(X_valid)\n",
    "            oof_valid_preds[valid_idx] = valid_predict\n",
    "\n",
    "            if cnfg.is_local:\n",
    "                test_predict = model.predict(X_test)\n",
    "                test_predict_list.append(test_predict)\n",
    "\n",
    "        oof_score = metrics.mean_squared_error(\n",
    "            train_feats_df[target_col], oof_valid_preds, squared=False\n",
    "        )\n",
    "        scores.append(oof_score)\n",
    "\n",
    "    rmse = np.mean(scores)\n",
    "    print(\"OOF RMSE Score : \", rmse)\n",
    "    if cnfg.is_local:\n",
    "        test_feats_df[\"pred_score\"] = np.mean(test_predict_list, axis=0)\n",
    "        test_rmse = metrics.mean_squared_error(\n",
    "            test_feats_df.score.values, test_feats_df.pred_score.values, squared=False\n",
    "        )\n",
    "        print(\"Test Set RMSE Score : \", test_rmse)\n",
    "        final_rmse = 0.3 * rmse + 0.7 * test_rmse\n",
    "        # final_rmse = (rmse + test_rmse) / 2\n",
    "    else:\n",
    "        final_rmse = rmse\n",
    "\n",
    "    print(\"Final RMSE Score : \", final_rmse)\n",
    "    return final_rmse"
   ]
  },
  {
   "cell_type": "code",
   "execution_count": 124,
   "id": "c5b1a7fb-388e-4c56-a74b-b8dcacbf0090",
   "metadata": {
    "_kg_hide-output": true,
    "execution": {
     "iopub.execute_input": "2023-11-25T18:19:18.715230Z",
     "iopub.status.busy": "2023-11-25T18:19:18.714714Z",
     "iopub.status.idle": "2023-11-25T22:01:16.658530Z",
     "shell.execute_reply": "2023-11-25T22:01:16.657999Z",
     "shell.execute_reply.started": "2023-11-25T18:19:18.715183Z"
    },
    "papermill": {
     "duration": 0.027542,
     "end_time": "2023-10-24T19:15:40.628707",
     "exception": false,
     "start_time": "2023-10-24T19:15:40.601165",
     "status": "completed"
    },
    "scrolled": true,
    "tags": []
   },
   "outputs": [
    {
     "name": "stderr",
     "output_type": "stream",
     "text": [
      "[I 2023-11-25 19:19:18,717] A new study created in memory with name: Optimize boosting hyperparameters\n"
     ]
    },
    {
     "name": "stdout",
     "output_type": "stream",
     "text": [
      "0\n"
     ]
    },
    {
     "name": "stderr",
     "output_type": "stream",
     "text": [
      "[I 2023-11-25 19:20:04,024] Trial 0 finished with value: 0.6192564689277608 and parameters: {'reg_alpha': 0.04910032333445084, 'reg_lambda': 0.0630543344471732, 'feature_fraction': 0.5597960453193216, 'bagging_fraction': 0.7848970648764313, 'learning_rate': 0.02755695999201737, 'num_leaves': 12, 'min_child_samples': 40}. Best is trial 0 with value: 0.6192564689277608.\n"
     ]
    },
    {
     "name": "stdout",
     "output_type": "stream",
     "text": [
      "OOF RMSE Score :  0.5994593940609595\n",
      "Test Set RMSE Score :  0.6277409295849614\n",
      "Final RMSE Score :  0.6192564689277608\n",
      "1\n"
     ]
    },
    {
     "name": "stderr",
     "output_type": "stream",
     "text": [
      "[I 2023-11-25 19:20:42,278] Trial 1 finished with value: 0.6203708727644526 and parameters: {'reg_alpha': 0.13894001357566635, 'reg_lambda': 0.003236722413270021, 'feature_fraction': 0.5317106484847469, 'bagging_fraction': 0.7222889010263404, 'learning_rate': 0.05699644660169151, 'num_leaves': 17, 'min_child_samples': 52}. Best is trial 0 with value: 0.6192564689277608.\n"
     ]
    },
    {
     "name": "stdout",
     "output_type": "stream",
     "text": [
      "OOF RMSE Score :  0.605436667975226\n",
      "Test Set RMSE Score :  0.6267712462455498\n",
      "Final RMSE Score :  0.6203708727644526\n",
      "2\n"
     ]
    },
    {
     "name": "stderr",
     "output_type": "stream",
     "text": [
      "[I 2023-11-25 19:21:44,510] Trial 2 finished with value: 0.6214939575026457 and parameters: {'reg_alpha': 0.31930955002749223, 'reg_lambda': 0.0016936607657866971, 'feature_fraction': 0.8106688042529058, 'bagging_fraction': 0.9167567679641027, 'learning_rate': 0.031493691713451476, 'num_leaves': 98, 'min_child_samples': 66}. Best is trial 0 with value: 0.6192564689277608.\n"
     ]
    },
    {
     "name": "stdout",
     "output_type": "stream",
     "text": [
      "OOF RMSE Score :  0.6056982731950769\n",
      "Test Set RMSE Score :  0.6282635364916037\n",
      "Final RMSE Score :  0.6214939575026457\n",
      "3\n"
     ]
    },
    {
     "name": "stderr",
     "output_type": "stream",
     "text": [
      "[I 2023-11-25 19:23:25,111] Trial 3 finished with value: 0.6176625183612872 and parameters: {'reg_alpha': 0.7644649036218165, 'reg_lambda': 2.9442295822885804, 'feature_fraction': 0.8470208757095417, 'bagging_fraction': 0.6156810801759421, 'learning_rate': 0.015558458219277222, 'num_leaves': 19, 'min_child_samples': 31}. Best is trial 3 with value: 0.6176625183612872.\n"
     ]
    },
    {
     "name": "stdout",
     "output_type": "stream",
     "text": [
      "OOF RMSE Score :  0.6016460316596195\n",
      "Test Set RMSE Score :  0.6245267269477162\n",
      "Final RMSE Score :  0.6176625183612872\n",
      "4\n"
     ]
    },
    {
     "name": "stderr",
     "output_type": "stream",
     "text": [
      "[I 2023-11-25 19:26:35,853] Trial 4 finished with value: 0.6207767293793252 and parameters: {'reg_alpha': 0.3517019692614536, 'reg_lambda': 0.024647215615452203, 'feature_fraction': 0.7953251699754278, 'bagging_fraction': 0.9294891075717828, 'learning_rate': 0.017498116870145852, 'num_leaves': 97, 'min_child_samples': 25}. Best is trial 3 with value: 0.6176625183612872.\n"
     ]
    },
    {
     "name": "stdout",
     "output_type": "stream",
     "text": [
      "OOF RMSE Score :  0.6097106057750981\n",
      "Test Set RMSE Score :  0.6255193537811368\n",
      "Final RMSE Score :  0.6207767293793252\n",
      "5\n"
     ]
    },
    {
     "name": "stderr",
     "output_type": "stream",
     "text": [
      "[I 2023-11-25 19:27:32,244] Trial 5 finished with value: 0.6183338113926558 and parameters: {'reg_alpha': 1.5341526017101472, 'reg_lambda': 0.0029706911951729387, 'feature_fraction': 0.9195420945840694, 'bagging_fraction': 0.611505646292574, 'learning_rate': 0.014072806733652877, 'num_leaves': 68, 'min_child_samples': 84}. Best is trial 3 with value: 0.6176625183612872.\n"
     ]
    },
    {
     "name": "stdout",
     "output_type": "stream",
     "text": [
      "OOF RMSE Score :  0.602843161900066\n",
      "Test Set RMSE Score :  0.6249726611751942\n",
      "Final RMSE Score :  0.6183338113926558\n",
      "6\n"
     ]
    },
    {
     "name": "stderr",
     "output_type": "stream",
     "text": [
      "[I 2023-11-25 19:28:50,056] Trial 6 finished with value: 0.6221494423856827 and parameters: {'reg_alpha': 0.22037247380820366, 'reg_lambda': 0.15716588806302756, 'feature_fraction': 0.6361404806683979, 'bagging_fraction': 0.8884498881862175, 'learning_rate': 0.060013224971888504, 'num_leaves': 35, 'min_child_samples': 24}. Best is trial 3 with value: 0.6176625183612872.\n"
     ]
    },
    {
     "name": "stdout",
     "output_type": "stream",
     "text": [
      "OOF RMSE Score :  0.6107267516694584\n",
      "Test Set RMSE Score :  0.6270448812640647\n",
      "Final RMSE Score :  0.6221494423856827\n",
      "7\n"
     ]
    },
    {
     "name": "stderr",
     "output_type": "stream",
     "text": [
      "[I 2023-11-25 19:30:26,850] Trial 7 finished with value: 0.6194495393508394 and parameters: {'reg_alpha': 5.497776749983711, 'reg_lambda': 0.11755445332267733, 'feature_fraction': 0.52392534742179, 'bagging_fraction': 0.9598612081048599, 'learning_rate': 0.013019337723056634, 'num_leaves': 73, 'min_child_samples': 33}. Best is trial 3 with value: 0.6176625183612872.\n"
     ]
    },
    {
     "name": "stdout",
     "output_type": "stream",
     "text": [
      "OOF RMSE Score :  0.6055271393108426\n",
      "Test Set RMSE Score :  0.6254162822251238\n",
      "Final RMSE Score :  0.6194495393508394\n",
      "8\n"
     ]
    },
    {
     "name": "stderr",
     "output_type": "stream",
     "text": [
      "[I 2023-11-25 19:31:09,334] Trial 8 finished with value: 0.619119939430347 and parameters: {'reg_alpha': 1.838249410278048, 'reg_lambda': 0.011924195095175064, 'feature_fraction': 0.7355810526421851, 'bagging_fraction': 0.7681889567483431, 'learning_rate': 0.028707221629690024, 'num_leaves': 39, 'min_child_samples': 77}. Best is trial 3 with value: 0.6176625183612872.\n"
     ]
    },
    {
     "name": "stdout",
     "output_type": "stream",
     "text": [
      "OOF RMSE Score :  0.6040164165598914\n",
      "Test Set RMSE Score :  0.6255928778033996\n",
      "Final RMSE Score :  0.619119939430347\n",
      "9\n"
     ]
    },
    {
     "name": "stderr",
     "output_type": "stream",
     "text": [
      "[I 2023-11-25 19:31:59,697] Trial 9 finished with value: 0.6183014514593976 and parameters: {'reg_alpha': 0.0038454739646623963, 'reg_lambda': 2.008335557169692, 'feature_fraction': 0.8075759251833203, 'bagging_fraction': 0.756822274755299, 'learning_rate': 0.018180246716119595, 'num_leaves': 66, 'min_child_samples': 99}. Best is trial 3 with value: 0.6176625183612872.\n"
     ]
    },
    {
     "name": "stdout",
     "output_type": "stream",
     "text": [
      "OOF RMSE Score :  0.6027983164917353\n",
      "Test Set RMSE Score :  0.6249456521598243\n",
      "Final RMSE Score :  0.6183014514593976\n",
      "10\n"
     ]
    },
    {
     "name": "stderr",
     "output_type": "stream",
     "text": [
      "[I 2023-11-25 19:34:19,741] Trial 10 finished with value: 0.6215370462963062 and parameters: {'reg_alpha': 8.99295344973016, 'reg_lambda': 6.519939690908502, 'feature_fraction': 0.9902034090863903, 'bagging_fraction': 0.6071652048234091, 'learning_rate': 0.010006399830989339, 'num_leaves': 119, 'min_child_samples': 17}. Best is trial 3 with value: 0.6176625183612872.\n"
     ]
    },
    {
     "name": "stdout",
     "output_type": "stream",
     "text": [
      "OOF RMSE Score :  0.6117897998818236\n",
      "Test Set RMSE Score :  0.6257144376167989\n",
      "Final RMSE Score :  0.6215370462963062\n",
      "11\n"
     ]
    },
    {
     "name": "stderr",
     "output_type": "stream",
     "text": [
      "[I 2023-11-25 19:41:51,811] Trial 11 finished with value: 0.6189564040714516 and parameters: {'reg_alpha': 0.002085226369301856, 'reg_lambda': 3.779620981543946, 'feature_fraction': 0.8872690973877722, 'bagging_fraction': 0.6840213029613129, 'learning_rate': 0.019574363462918843, 'num_leaves': 54, 'min_child_samples': 2}. Best is trial 3 with value: 0.6176625183612872.\n"
     ]
    },
    {
     "name": "stdout",
     "output_type": "stream",
     "text": [
      "OOF RMSE Score :  0.606862010072764\n",
      "Test Set RMSE Score :  0.6241397157851749\n",
      "Final RMSE Score :  0.6189564040714516\n",
      "12\n"
     ]
    },
    {
     "name": "stderr",
     "output_type": "stream",
     "text": [
      "[I 2023-11-25 19:43:10,870] Trial 12 finished with value: 0.6206415450211685 and parameters: {'reg_alpha': 0.0026366307639944016, 'reg_lambda': 1.2340532871131085, 'feature_fraction': 0.7381802408212327, 'bagging_fraction': 0.8511122803688491, 'learning_rate': 0.021602186996057936, 'num_leaves': 35, 'min_child_samples': 56}. Best is trial 3 with value: 0.6176625183612872.\n"
     ]
    },
    {
     "name": "stdout",
     "output_type": "stream",
     "text": [
      "OOF RMSE Score :  0.6050550709353256\n",
      "Test Set RMSE Score :  0.6273214624865299\n",
      "Final RMSE Score :  0.6206415450211685\n",
      "13\n"
     ]
    },
    {
     "name": "stderr",
     "output_type": "stream",
     "text": [
      "[I 2023-11-25 19:43:43,189] Trial 13 finished with value: 0.618209338985648 and parameters: {'reg_alpha': 0.017035766166389903, 'reg_lambda': 0.8848551232904808, 'feature_fraction': 0.8540477461917177, 'bagging_fraction': 0.6762630436326695, 'learning_rate': 0.04197815153427136, 'num_leaves': 76, 'min_child_samples': 94}. Best is trial 3 with value: 0.6176625183612872.\n"
     ]
    },
    {
     "name": "stdout",
     "output_type": "stream",
     "text": [
      "OOF RMSE Score :  0.6033739083715765\n",
      "Test Set RMSE Score :  0.624567380677393\n",
      "Final RMSE Score :  0.618209338985648\n",
      "14\n"
     ]
    },
    {
     "name": "stderr",
     "output_type": "stream",
     "text": [
      "[I 2023-11-25 19:44:15,547] Trial 14 finished with value: 0.6185385596726893 and parameters: {'reg_alpha': 0.03408300252967394, 'reg_lambda': 0.8738618780860585, 'feature_fraction': 0.8958065715438961, 'bagging_fraction': 0.6711206733106209, 'learning_rate': 0.04360146965030653, 'num_leaves': 94, 'min_child_samples': 95}. Best is trial 3 with value: 0.6176625183612872.\n"
     ]
    },
    {
     "name": "stdout",
     "output_type": "stream",
     "text": [
      "OOF RMSE Score :  0.6038517257703895\n",
      "Test Set RMSE Score :  0.6248329170593894\n",
      "Final RMSE Score :  0.6185385596726893\n",
      "15\n"
     ]
    },
    {
     "name": "stderr",
     "output_type": "stream",
     "text": [
      "[I 2023-11-25 19:45:04,093] Trial 15 finished with value: 0.6222184086391851 and parameters: {'reg_alpha': 0.011451121062621033, 'reg_lambda': 9.045295209966065, 'feature_fraction': 0.8626660600758006, 'bagging_fraction': 0.659461731256854, 'learning_rate': 0.09419404914575487, 'num_leaves': 126, 'min_child_samples': 42}. Best is trial 3 with value: 0.6176625183612872.\n"
     ]
    },
    {
     "name": "stdout",
     "output_type": "stream",
     "text": [
      "OOF RMSE Score :  0.6100692339399004\n",
      "Test Set RMSE Score :  0.6274251977960215\n",
      "Final RMSE Score :  0.6222184086391851\n",
      "16\n"
     ]
    },
    {
     "name": "stderr",
     "output_type": "stream",
     "text": [
      "[I 2023-11-25 19:45:54,465] Trial 16 finished with value: 0.619015470416993 and parameters: {'reg_alpha': 0.012240872397176451, 'reg_lambda': 0.6015022886717231, 'feature_fraction': 0.9706340647312452, 'bagging_fraction': 0.7052030171910104, 'learning_rate': 0.04001824290154228, 'num_leaves': 83, 'min_child_samples': 67}. Best is trial 3 with value: 0.6176625183612872.\n"
     ]
    },
    {
     "name": "stdout",
     "output_type": "stream",
     "text": [
      "OOF RMSE Score :  0.6038172264656938\n",
      "Test Set RMSE Score :  0.6255290035389783\n",
      "Final RMSE Score :  0.619015470416993\n",
      "17\n"
     ]
    },
    {
     "name": "stderr",
     "output_type": "stream",
     "text": [
      "[I 2023-11-25 19:50:12,235] Trial 17 finished with value: 0.6161963798017601 and parameters: {'reg_alpha': 0.001189103325598625, 'reg_lambda': 0.4744377655090047, 'feature_fraction': 0.9318965504168271, 'bagging_fraction': 0.6197753710682793, 'learning_rate': 0.02324096509025706, 'num_leaves': 51, 'min_child_samples': 11}. Best is trial 17 with value: 0.6161963798017601.\n"
     ]
    },
    {
     "name": "stdout",
     "output_type": "stream",
     "text": [
      "OOF RMSE Score :  0.6052981153347373\n",
      "Test Set RMSE Score :  0.6208670645733414\n",
      "Final RMSE Score :  0.6161963798017601\n",
      "18\n"
     ]
    },
    {
     "name": "stderr",
     "output_type": "stream",
     "text": [
      "[I 2023-11-25 19:56:53,670] Trial 18 finished with value: 0.6172613529478476 and parameters: {'reg_alpha': 0.001491407379128429, 'reg_lambda': 0.3642234114938527, 'feature_fraction': 0.9364006452698904, 'bagging_fraction': 0.6039468648246071, 'learning_rate': 0.0231055062102981, 'num_leaves': 51, 'min_child_samples': 1}. Best is trial 17 with value: 0.6161963798017601.\n"
     ]
    },
    {
     "name": "stdout",
     "output_type": "stream",
     "text": [
      "OOF RMSE Score :  0.6070129978411046\n",
      "Test Set RMSE Score :  0.6216535051364518\n",
      "Final RMSE Score :  0.6172613529478476\n",
      "19\n"
     ]
    },
    {
     "name": "stderr",
     "output_type": "stream",
     "text": [
      "[I 2023-11-25 20:03:04,414] Trial 19 finished with value: 0.6177211925742755 and parameters: {'reg_alpha': 0.0013078805455091947, 'reg_lambda': 0.3215372819251577, 'feature_fraction': 0.9470201412639913, 'bagging_fraction': 0.6441447673583865, 'learning_rate': 0.02462715448398589, 'num_leaves': 50, 'min_child_samples': 2}. Best is trial 17 with value: 0.6161963798017601.\n"
     ]
    },
    {
     "name": "stdout",
     "output_type": "stream",
     "text": [
      "OOF RMSE Score :  0.6074296391585963\n",
      "Test Set RMSE Score :  0.6221318583238523\n",
      "Final RMSE Score :  0.6177211925742755\n",
      "20\n"
     ]
    },
    {
     "name": "stderr",
     "output_type": "stream",
     "text": [
      "[I 2023-11-25 20:08:18,462] Trial 20 finished with value: 0.617774569506768 and parameters: {'reg_alpha': 0.0011035872160026809, 'reg_lambda': 0.3536743816956211, 'feature_fraction': 0.9395582042125115, 'bagging_fraction': 0.7291951329479371, 'learning_rate': 0.024625782524255277, 'num_leaves': 58, 'min_child_samples': 11}. Best is trial 17 with value: 0.6161963798017601.\n"
     ]
    },
    {
     "name": "stdout",
     "output_type": "stream",
     "text": [
      "OOF RMSE Score :  0.609634663342602\n",
      "Test Set RMSE Score :  0.6212631007199821\n",
      "Final RMSE Score :  0.617774569506768\n",
      "21\n"
     ]
    },
    {
     "name": "stderr",
     "output_type": "stream",
     "text": [
      "[I 2023-11-25 20:11:06,703] Trial 21 finished with value: 0.6162348938324085 and parameters: {'reg_alpha': 0.004897862546743631, 'reg_lambda': 2.510322255108352, 'feature_fraction': 0.9808546090146135, 'bagging_fraction': 0.6032405488284904, 'learning_rate': 0.016428500838615603, 'num_leaves': 23, 'min_child_samples': 13}. Best is trial 17 with value: 0.6161963798017601.\n"
     ]
    },
    {
     "name": "stdout",
     "output_type": "stream",
     "text": [
      "OOF RMSE Score :  0.6017364389032485\n",
      "Test Set RMSE Score :  0.6224485173734771\n",
      "Final RMSE Score :  0.6162348938324085\n",
      "22\n"
     ]
    },
    {
     "name": "stderr",
     "output_type": "stream",
     "text": [
      "[I 2023-11-25 20:14:02,766] Trial 22 finished with value: 0.6161469398660685 and parameters: {'reg_alpha': 0.004883349914821944, 'reg_lambda': 1.5367615689857892, 'feature_fraction': 0.9923481459806911, 'bagging_fraction': 0.6341246760331869, 'learning_rate': 0.02195339979442927, 'num_leaves': 28, 'min_child_samples': 12}. Best is trial 22 with value: 0.6161469398660685.\n"
     ]
    },
    {
     "name": "stdout",
     "output_type": "stream",
     "text": [
      "OOF RMSE Score :  0.6035176309783973\n",
      "Test Set RMSE Score :  0.6215595008179275\n",
      "Final RMSE Score :  0.6161469398660685\n",
      "23\n"
     ]
    },
    {
     "name": "stderr",
     "output_type": "stream",
     "text": [
      "[I 2023-11-25 20:16:36,104] Trial 23 finished with value: 0.6170674121470583 and parameters: {'reg_alpha': 0.004862076178635013, 'reg_lambda': 2.94765628870549, 'feature_fraction': 0.9923604893274931, 'bagging_fraction': 0.6353965143886027, 'learning_rate': 0.01948518911212361, 'num_leaves': 23, 'min_child_samples': 13}. Best is trial 22 with value: 0.6161469398660685.\n"
     ]
    },
    {
     "name": "stdout",
     "output_type": "stream",
     "text": [
      "OOF RMSE Score :  0.6017396865900129\n",
      "Test Set RMSE Score :  0.623636437385792\n",
      "Final RMSE Score :  0.6170674121470583\n",
      "24\n"
     ]
    },
    {
     "name": "stderr",
     "output_type": "stream",
     "text": [
      "[I 2023-11-25 20:19:37,603] Trial 24 finished with value: 0.6170554114933761 and parameters: {'reg_alpha': 0.0058384014381734125, 'reg_lambda': 1.4667568346338116, 'feature_fraction': 0.9993368552134984, 'bagging_fraction': 0.6521198212966774, 'learning_rate': 0.01608099720655014, 'num_leaves': 28, 'min_child_samples': 19}. Best is trial 22 with value: 0.6161469398660685.\n"
     ]
    },
    {
     "name": "stdout",
     "output_type": "stream",
     "text": [
      "OOF RMSE Score :  0.6032297242750027\n",
      "Test Set RMSE Score :  0.6229807060155361\n",
      "Final RMSE Score :  0.6170554114933761\n",
      "25\n"
     ]
    },
    {
     "name": "stderr",
     "output_type": "stream",
     "text": [
      "[I 2023-11-25 20:24:08,300] Trial 25 finished with value: 0.617275206301607 and parameters: {'reg_alpha': 0.006408050328026939, 'reg_lambda': 5.828416154339399, 'feature_fraction': 0.953385552374641, 'bagging_fraction': 0.6375301568173852, 'learning_rate': 0.022549271872965865, 'num_leaves': 43, 'min_child_samples': 9}. Best is trial 22 with value: 0.6161469398660685.\n"
     ]
    },
    {
     "name": "stdout",
     "output_type": "stream",
     "text": [
      "OOF RMSE Score :  0.6052233480662597\n",
      "Test Set RMSE Score :  0.6224402884024702\n",
      "Final RMSE Score :  0.617275206301607\n",
      "26\n"
     ]
    },
    {
     "name": "stderr",
     "output_type": "stream",
     "text": [
      "[I 2023-11-25 20:27:12,805] Trial 26 finished with value: 0.6183392682898375 and parameters: {'reg_alpha': 0.0030542474658474443, 'reg_lambda': 1.936202099556617, 'feature_fraction': 0.9041057529319236, 'bagging_fraction': 0.6899562557649219, 'learning_rate': 0.013275029678534694, 'num_leaves': 30, 'min_child_samples': 25}. Best is trial 22 with value: 0.6161469398660685.\n"
     ]
    },
    {
     "name": "stdout",
     "output_type": "stream",
     "text": [
      "OOF RMSE Score :  0.6030387159452764\n",
      "Test Set RMSE Score :  0.6248966478660781\n",
      "Final RMSE Score :  0.6183392682898375\n",
      "27\n"
     ]
    },
    {
     "name": "stderr",
     "output_type": "stream",
     "text": [
      "[I 2023-11-25 20:28:09,508] Trial 27 finished with value: 0.6173265785333706 and parameters: {'reg_alpha': 0.001050126736577291, 'reg_lambda': 9.907819128137083, 'feature_fraction': 0.9640006399064187, 'bagging_fraction': 0.6352661310404218, 'learning_rate': 0.020445769230992405, 'num_leaves': 9, 'min_child_samples': 40}. Best is trial 22 with value: 0.6161469398660685.\n"
     ]
    },
    {
     "name": "stdout",
     "output_type": "stream",
     "text": [
      "OOF RMSE Score :  0.6002884388287046\n",
      "Test Set RMSE Score :  0.6246286384067988\n",
      "Final RMSE Score :  0.6173265785333706\n",
      "28\n"
     ]
    },
    {
     "name": "stderr",
     "output_type": "stream",
     "text": [
      "[I 2023-11-25 20:32:25,740] Trial 28 finished with value: 0.6175182936463677 and parameters: {'reg_alpha': 0.0024764762413245402, 'reg_lambda': 0.6547850931298513, 'feature_fraction': 0.906888291518642, 'bagging_fraction': 0.7098147192407174, 'learning_rate': 0.02635722374575406, 'num_leaves': 46, 'min_child_samples': 8}. Best is trial 22 with value: 0.6161469398660685.\n"
     ]
    },
    {
     "name": "stdout",
     "output_type": "stream",
     "text": [
      "OOF RMSE Score :  0.6071819706304457\n",
      "Test Set RMSE Score :  0.6219481463674772\n",
      "Final RMSE Score :  0.6175182936463677\n",
      "29\n"
     ]
    },
    {
     "name": "stderr",
     "output_type": "stream",
     "text": [
      "[I 2023-11-25 20:33:10,432] Trial 29 finished with value: 0.6188285180988591 and parameters: {'reg_alpha': 0.05474786195873647, 'reg_lambda': 0.19031003967330443, 'feature_fraction': 0.9969959835870335, 'bagging_fraction': 0.6026233428168745, 'learning_rate': 0.030127476357945403, 'num_leaves': 9, 'min_child_samples': 38}. Best is trial 22 with value: 0.6161469398660685.\n"
     ]
    },
    {
     "name": "stdout",
     "output_type": "stream",
     "text": [
      "OOF RMSE Score :  0.5992830400871139\n",
      "Test Set RMSE Score :  0.6272051515324643\n",
      "Final RMSE Score :  0.6188285180988591\n",
      "30\n"
     ]
    },
    {
     "name": "stderr",
     "output_type": "stream",
     "text": [
      "[I 2023-11-25 20:35:20,733] Trial 30 finished with value: 0.6190616939501856 and parameters: {'reg_alpha': 0.00862456842528624, 'reg_lambda': 0.05638903460761841, 'feature_fraction': 0.9302762008345461, 'bagging_fraction': 0.8010126914937497, 'learning_rate': 0.027264052985608512, 'num_leaves': 27, 'min_child_samples': 19}. Best is trial 22 with value: 0.6161469398660685.\n"
     ]
    },
    {
     "name": "stdout",
     "output_type": "stream",
     "text": [
      "OOF RMSE Score :  0.605763059220938\n",
      "Test Set RMSE Score :  0.6247611088341489\n",
      "Final RMSE Score :  0.6190616939501856\n",
      "31\n"
     ]
    },
    {
     "name": "stderr",
     "output_type": "stream",
     "text": [
      "[I 2023-11-25 20:38:26,132] Trial 31 finished with value: 0.6173498455144586 and parameters: {'reg_alpha': 0.005386794286697194, 'reg_lambda': 1.5297945675133637, 'feature_fraction': 0.9987011971319149, 'bagging_fraction': 0.6555470638919777, 'learning_rate': 0.015618995722397014, 'num_leaves': 29, 'min_child_samples': 19}. Best is trial 22 with value: 0.6161469398660685.\n"
     ]
    },
    {
     "name": "stdout",
     "output_type": "stream",
     "text": [
      "OOF RMSE Score :  0.602712342532162\n",
      "Test Set RMSE Score :  0.6236230610783001\n",
      "Final RMSE Score :  0.6173498455144586\n",
      "32\n"
     ]
    },
    {
     "name": "stderr",
     "output_type": "stream",
     "text": [
      "[I 2023-11-25 20:40:58,269] Trial 32 finished with value: 0.6162004584118617 and parameters: {'reg_alpha': 0.020774544037363563, 'reg_lambda': 1.4413679957522159, 'feature_fraction': 0.9767676049545183, 'bagging_fraction': 0.6557280148532143, 'learning_rate': 0.017343058729086997, 'num_leaves': 21, 'min_child_samples': 14}. Best is trial 22 with value: 0.6161469398660685.\n"
     ]
    },
    {
     "name": "stdout",
     "output_type": "stream",
     "text": [
      "OOF RMSE Score :  0.6017251323802134\n",
      "Test Set RMSE Score :  0.6224041695682824\n",
      "Final RMSE Score :  0.6162004584118617\n",
      "33\n"
     ]
    },
    {
     "name": "stderr",
     "output_type": "stream",
     "text": [
      "[I 2023-11-25 20:43:29,329] Trial 33 finished with value: 0.6159269871384153 and parameters: {'reg_alpha': 0.013278409935731508, 'reg_lambda': 4.076034420830784, 'feature_fraction': 0.9631999877379084, 'bagging_fraction': 0.631507478258797, 'learning_rate': 0.01818136106912918, 'num_leaves': 18, 'min_child_samples': 7}. Best is trial 33 with value: 0.6159269871384153.\n"
     ]
    },
    {
     "name": "stdout",
     "output_type": "stream",
     "text": [
      "OOF RMSE Score :  0.6004090368921045\n",
      "Test Set RMSE Score :  0.6225775372439771\n",
      "Final RMSE Score :  0.6159269871384153\n",
      "34\n"
     ]
    },
    {
     "name": "stderr",
     "output_type": "stream",
     "text": [
      "[I 2023-11-25 20:45:40,230] Trial 34 finished with value: 0.6166159596595789 and parameters: {'reg_alpha': 0.026204565917080244, 'reg_lambda': 5.617956233055956, 'feature_fraction': 0.9589580969987335, 'bagging_fraction': 0.6279861642351919, 'learning_rate': 0.021423954653071862, 'num_leaves': 17, 'min_child_samples': 7}. Best is trial 33 with value: 0.6159269871384153.\n"
     ]
    },
    {
     "name": "stdout",
     "output_type": "stream",
     "text": [
      "OOF RMSE Score :  0.6019629040663073\n",
      "Test Set RMSE Score :  0.622895840628124\n",
      "Final RMSE Score :  0.6166159596595789\n",
      "35\n"
     ]
    },
    {
     "name": "stderr",
     "output_type": "stream",
     "text": [
      "[I 2023-11-25 20:47:23,450] Trial 35 finished with value: 0.6176671625069784 and parameters: {'reg_alpha': 0.06495777482312318, 'reg_lambda': 3.588370600305335, 'feature_fraction': 0.956781368035607, 'bagging_fraction': 0.6924555951130758, 'learning_rate': 0.01881821712729104, 'num_leaves': 17, 'min_child_samples': 31}. Best is trial 33 with value: 0.6159269871384153.\n"
     ]
    },
    {
     "name": "stdout",
     "output_type": "stream",
     "text": [
      "OOF RMSE Score :  0.6015241280599375\n",
      "Test Set RMSE Score :  0.6245856058414245\n",
      "Final RMSE Score :  0.6176671625069784\n",
      "36\n"
     ]
    },
    {
     "name": "stderr",
     "output_type": "stream",
     "text": [
      "[I 2023-11-25 20:48:30,299] Trial 36 finished with value: 0.6180802996171679 and parameters: {'reg_alpha': 0.019796183254619508, 'reg_lambda': 1.171023521930026, 'feature_fraction': 0.9252311830081648, 'bagging_fraction': 0.6617584197197443, 'learning_rate': 0.03281610719342216, 'num_leaves': 40, 'min_child_samples': 50}. Best is trial 33 with value: 0.6159269871384153.\n"
     ]
    },
    {
     "name": "stdout",
     "output_type": "stream",
     "text": [
      "OOF RMSE Score :  0.6019672601723028\n",
      "Test Set RMSE Score :  0.6249858879506816\n",
      "Final RMSE Score :  0.6180802996171679\n",
      "37\n"
     ]
    },
    {
     "name": "stderr",
     "output_type": "stream",
     "text": [
      "[I 2023-11-25 20:50:46,989] Trial 37 finished with value: 0.618599343920323 and parameters: {'reg_alpha': 0.011169880695790927, 'reg_lambda': 0.6350923801165742, 'feature_fraction': 0.885426342757121, 'bagging_fraction': 0.6263026781293771, 'learning_rate': 0.018461628069993505, 'num_leaves': 61, 'min_child_samples': 26}. Best is trial 33 with value: 0.6159269871384153.\n"
     ]
    },
    {
     "name": "stdout",
     "output_type": "stream",
     "text": [
      "OOF RMSE Score :  0.6037550217574371\n",
      "Test Set RMSE Score :  0.6249611962758456\n",
      "Final RMSE Score :  0.618599343920323\n",
      "38\n"
     ]
    },
    {
     "name": "stderr",
     "output_type": "stream",
     "text": [
      "[I 2023-11-25 20:52:26,087] Trial 38 finished with value: 0.6168106125110306 and parameters: {'reg_alpha': 0.02658562075596393, 'reg_lambda': 2.263037103708583, 'feature_fraction': 0.9186557182656868, 'bagging_fraction': 0.6734955293543953, 'learning_rate': 0.02382188463755079, 'num_leaves': 17, 'min_child_samples': 14}. Best is trial 33 with value: 0.6159269871384153.\n"
     ]
    },
    {
     "name": "stdout",
     "output_type": "stream",
     "text": [
      "OOF RMSE Score :  0.6009937879947861\n",
      "Test Set RMSE Score :  0.6235892515894212\n",
      "Final RMSE Score :  0.6168106125110306\n",
      "39\n"
     ]
    },
    {
     "name": "stderr",
     "output_type": "stream",
     "text": [
      "[I 2023-11-25 20:57:57,730] Trial 39 finished with value: 0.6173990376819326 and parameters: {'reg_alpha': 0.09092196984265402, 'reg_lambda': 4.080685410109984, 'feature_fraction': 0.9651424789539285, 'bagging_fraction': 0.7229153420643982, 'learning_rate': 0.0149357692134643, 'num_leaves': 36, 'min_child_samples': 5}. Best is trial 33 with value: 0.6159269871384153.\n"
     ]
    },
    {
     "name": "stdout",
     "output_type": "stream",
     "text": [
      "OOF RMSE Score :  0.6044871298722796\n",
      "Test Set RMSE Score :  0.6229327124574983\n",
      "Final RMSE Score :  0.6173990376819326\n",
      "40\n"
     ]
    },
    {
     "name": "stderr",
     "output_type": "stream",
     "text": [
      "[I 2023-11-25 20:59:04,139] Trial 40 finished with value: 0.6170996823094351 and parameters: {'reg_alpha': 0.002002841610474097, 'reg_lambda': 1.0817089504358293, 'feature_fraction': 0.8629124260400891, 'bagging_fraction': 0.6229070414620272, 'learning_rate': 0.01740394949853064, 'num_leaves': 11, 'min_child_samples': 24}. Best is trial 33 with value: 0.6159269871384153.\n"
     ]
    },
    {
     "name": "stdout",
     "output_type": "stream",
     "text": [
      "OOF RMSE Score :  0.5978744351280634\n",
      "Test Set RMSE Score :  0.6253390739585946\n",
      "Final RMSE Score :  0.6170996823094351\n",
      "41\n"
     ]
    },
    {
     "name": "stderr",
     "output_type": "stream",
     "text": [
      "[I 2023-11-25 21:01:34,436] Trial 41 finished with value: 0.616144098332825 and parameters: {'reg_alpha': 0.003955112672050498, 'reg_lambda': 2.2102715860487705, 'feature_fraction': 0.9783925115306532, 'bagging_fraction': 0.6210753941902419, 'learning_rate': 0.01728841853352996, 'num_leaves': 22, 'min_child_samples': 14}. Best is trial 33 with value: 0.6159269871384153.\n"
     ]
    },
    {
     "name": "stdout",
     "output_type": "stream",
     "text": [
      "OOF RMSE Score :  0.6010585192049863\n",
      "Test Set RMSE Score :  0.6226093465304702\n",
      "Final RMSE Score :  0.616144098332825\n",
      "42\n"
     ]
    },
    {
     "name": "stderr",
     "output_type": "stream",
     "text": [
      "[I 2023-11-25 21:04:19,219] Trial 42 finished with value: 0.6163122153538261 and parameters: {'reg_alpha': 0.0031877549098596383, 'reg_lambda': 1.8372363538541014, 'feature_fraction': 0.9750193842050916, 'bagging_fraction': 0.6491716126568791, 'learning_rate': 0.01415933643190365, 'num_leaves': 22, 'min_child_samples': 15}. Best is trial 33 with value: 0.6159269871384153.\n"
     ]
    },
    {
     "name": "stdout",
     "output_type": "stream",
     "text": [
      "OOF RMSE Score :  0.6011361867570162\n",
      "Test Set RMSE Score :  0.6228162276096019\n",
      "Final RMSE Score :  0.6163122153538261\n",
      "43\n"
     ]
    },
    {
     "name": "stderr",
     "output_type": "stream",
     "text": [
      "[I 2023-11-25 21:07:06,900] Trial 43 finished with value: 0.6182495164530786 and parameters: {'reg_alpha': 0.007678041020153404, 'reg_lambda': 3.0171682015456245, 'feature_fraction': 0.9369271122503811, 'bagging_fraction': 0.6210368034301167, 'learning_rate': 0.011828802944955443, 'num_leaves': 33, 'min_child_samples': 30}. Best is trial 33 with value: 0.6159269871384153.\n"
     ]
    },
    {
     "name": "stdout",
     "output_type": "stream",
     "text": [
      "OOF RMSE Score :  0.6023769428938119\n",
      "Test Set RMSE Score :  0.6250520479784787\n",
      "Final RMSE Score :  0.6182495164530786\n",
      "44\n"
     ]
    },
    {
     "name": "stderr",
     "output_type": "stream",
     "text": [
      "[I 2023-11-25 21:08:53,059] Trial 44 finished with value: 0.6160111151495293 and parameters: {'reg_alpha': 0.004052880686662454, 'reg_lambda': 4.332580881617239, 'feature_fraction': 0.9695001983733711, 'bagging_fraction': 0.6213908291360606, 'learning_rate': 0.01719592215103115, 'num_leaves': 15, 'min_child_samples': 21}. Best is trial 33 with value: 0.6159269871384153.\n"
     ]
    },
    {
     "name": "stdout",
     "output_type": "stream",
     "text": [
      "OOF RMSE Score :  0.5989111187340058\n",
      "Test Set RMSE Score :  0.6233396850418966\n",
      "Final RMSE Score :  0.6160111151495293\n",
      "45\n"
     ]
    },
    {
     "name": "stderr",
     "output_type": "stream",
     "text": [
      "[I 2023-11-25 21:10:12,876] Trial 45 finished with value: 0.6169597807204535 and parameters: {'reg_alpha': 0.004374291988082123, 'reg_lambda': 4.36943227268602, 'feature_fraction': 0.9140557854103198, 'bagging_fraction': 0.6218268001288746, 'learning_rate': 0.02164002958131453, 'num_leaves': 14, 'min_child_samples': 21}. Best is trial 33 with value: 0.6159269871384153.\n"
     ]
    },
    {
     "name": "stdout",
     "output_type": "stream",
     "text": [
      "OOF RMSE Score :  0.5996994826207627\n",
      "Test Set RMSE Score :  0.6243570513346068\n",
      "Final RMSE Score :  0.6169597807204535\n",
      "46\n"
     ]
    },
    {
     "name": "stderr",
     "output_type": "stream",
     "text": [
      "[I 2023-11-25 21:15:23,888] Trial 46 finished with value: 0.6186874733584203 and parameters: {'reg_alpha': 0.001982141814853282, 'reg_lambda': 5.96785866029472, 'feature_fraction': 0.8785695458653107, 'bagging_fraction': 0.6129731035264651, 'learning_rate': 0.02008098915466235, 'num_leaves': 45, 'min_child_samples': 5}. Best is trial 33 with value: 0.6159269871384153.\n"
     ]
    },
    {
     "name": "stdout",
     "output_type": "stream",
     "text": [
      "OOF RMSE Score :  0.6063625974415766\n",
      "Test Set RMSE Score :  0.6239695630370677\n",
      "Final RMSE Score :  0.6186874733584203\n",
      "47\n"
     ]
    },
    {
     "name": "stderr",
     "output_type": "stream",
     "text": [
      "[I 2023-11-25 21:18:09,626] Trial 47 finished with value: 0.6162794409191504 and parameters: {'reg_alpha': 0.00161059757444533, 'reg_lambda': 4.007548783590708, 'feature_fraction': 0.8236317167430678, 'bagging_fraction': 0.67458203394921, 'learning_rate': 0.01700876849416171, 'num_leaves': 24, 'min_child_samples': 9}. Best is trial 33 with value: 0.6159269871384153.\n"
     ]
    },
    {
     "name": "stdout",
     "output_type": "stream",
     "text": [
      "OOF RMSE Score :  0.6019112763583374\n",
      "Test Set RMSE Score :  0.6224372257309274\n",
      "Final RMSE Score :  0.6162794409191504\n",
      "48\n"
     ]
    },
    {
     "name": "stderr",
     "output_type": "stream",
     "text": [
      "[I 2023-11-25 21:19:45,507] Trial 48 finished with value: 0.6190351677297433 and parameters: {'reg_alpha': 0.00400504582630915, 'reg_lambda': 2.3914932756987137, 'feature_fraction': 0.9501059520611403, 'bagging_fraction': 0.6005961538070789, 'learning_rate': 0.018245420682869655, 'num_leaves': 39, 'min_child_samples': 36}. Best is trial 33 with value: 0.6159269871384153.\n"
     ]
    },
    {
     "name": "stdout",
     "output_type": "stream",
     "text": [
      "OOF RMSE Score :  0.6020047987133921\n",
      "Test Set RMSE Score :  0.6263338973081797\n",
      "Final RMSE Score :  0.6190351677297433\n",
      "49\n"
     ]
    },
    {
     "name": "stderr",
     "output_type": "stream",
     "text": [
      "[I 2023-11-25 21:21:14,114] Trial 49 finished with value: 0.6177317359118726 and parameters: {'reg_alpha': 0.002750346345306348, 'reg_lambda': 8.643877516827292, 'feature_fraction': 0.9732001691720605, 'bagging_fraction': 0.6426759172000922, 'learning_rate': 0.015376923050939763, 'num_leaves': 14, 'min_child_samples': 49}. Best is trial 33 with value: 0.6159269871384153.\n"
     ]
    },
    {
     "name": "stdout",
     "output_type": "stream",
     "text": [
      "OOF RMSE Score :  0.601233939535063\n",
      "Test Set RMSE Score :  0.6248022200733625\n",
      "Final RMSE Score :  0.6177317359118726\n",
      "50\n"
     ]
    },
    {
     "name": "stderr",
     "output_type": "stream",
     "text": [
      "[I 2023-11-25 21:23:47,547] Trial 50 finished with value: 0.6183230109886796 and parameters: {'reg_alpha': 0.008343846939359793, 'reg_lambda': 0.8566263703617237, 'feature_fraction': 0.9130586149879564, 'bagging_fraction': 0.666666133794306, 'learning_rate': 0.02040073309185226, 'num_leaves': 31, 'min_child_samples': 22}. Best is trial 33 with value: 0.6159269871384153.\n"
     ]
    },
    {
     "name": "stdout",
     "output_type": "stream",
     "text": [
      "OOF RMSE Score :  0.6035354030058724\n",
      "Test Set RMSE Score :  0.6246605572670256\n",
      "Final RMSE Score :  0.6183230109886796\n",
      "51\n"
     ]
    },
    {
     "name": "stderr",
     "output_type": "stream",
     "text": [
      "[I 2023-11-25 21:25:47,102] Trial 51 finished with value: 0.6181442492873813 and parameters: {'reg_alpha': 0.014564011617261008, 'reg_lambda': 1.5583047974565383, 'feature_fraction': 0.9806426697642397, 'bagging_fraction': 0.6485781627860787, 'learning_rate': 0.01727183316162053, 'num_leaves': 19, 'min_child_samples': 28}. Best is trial 33 with value: 0.6159269871384153.\n"
     ]
    },
    {
     "name": "stdout",
     "output_type": "stream",
     "text": [
      "OOF RMSE Score :  0.6009826861775865\n",
      "Test Set RMSE Score :  0.6254992049058649\n",
      "Final RMSE Score :  0.6181442492873813\n",
      "52\n"
     ]
    },
    {
     "name": "stderr",
     "output_type": "stream",
     "text": [
      "[I 2023-11-25 21:30:28,488] Trial 52 finished with value: 0.6178040448962829 and parameters: {'reg_alpha': 0.003518735471243538, 'reg_lambda': 2.5735006427263807, 'feature_fraction': 0.9789396341972524, 'bagging_fraction': 0.625316470274205, 'learning_rate': 0.01451927380234171, 'num_leaves': 110, 'min_child_samples': 16}. Best is trial 33 with value: 0.6159269871384153.\n"
     ]
    },
    {
     "name": "stdout",
     "output_type": "stream",
     "text": [
      "OOF RMSE Score :  0.6043109528975448\n",
      "Test Set RMSE Score :  0.6235867986100279\n",
      "Final RMSE Score :  0.6178040448962829\n",
      "53\n"
     ]
    },
    {
     "name": "stderr",
     "output_type": "stream",
     "text": [
      "[I 2023-11-25 21:33:59,905] Trial 53 finished with value: 0.6149705232273407 and parameters: {'reg_alpha': 0.009377808447871812, 'reg_lambda': 1.2552479181869494, 'feature_fraction': 0.9372168343783626, 'bagging_fraction': 0.6159694762813432, 'learning_rate': 0.018406758708311256, 'num_leaves': 25, 'min_child_samples': 4}. Best is trial 53 with value: 0.6149705232273407.\n"
     ]
    },
    {
     "name": "stdout",
     "output_type": "stream",
     "text": [
      "OOF RMSE Score :  0.6013783159295225\n",
      "Test Set RMSE Score :  0.6207957549264057\n",
      "Final RMSE Score :  0.6149705232273407\n",
      "54\n"
     ]
    },
    {
     "name": "stderr",
     "output_type": "stream",
     "text": [
      "[I 2023-11-25 21:35:02,980] Trial 54 finished with value: 0.615851169748538 and parameters: {'reg_alpha': 0.0015686640433997653, 'reg_lambda': 1.080881536612184, 'feature_fraction': 0.9374568176150448, 'bagging_fraction': 0.6209687270448391, 'learning_rate': 0.022466751140571492, 'num_leaves': 8, 'min_child_samples': 4}. Best is trial 53 with value: 0.6149705232273407.\n"
     ]
    },
    {
     "name": "stdout",
     "output_type": "stream",
     "text": [
      "OOF RMSE Score :  0.598037257491139\n",
      "Test Set RMSE Score :  0.6234857035731376\n",
      "Final RMSE Score :  0.615851169748538\n",
      "55\n"
     ]
    },
    {
     "name": "stderr",
     "output_type": "stream",
     "text": [
      "[I 2023-11-25 21:36:56,353] Trial 55 finished with value: 0.6158872810078424 and parameters: {'reg_alpha': 0.009159306670142848, 'reg_lambda': 0.8858453966854486, 'feature_fraction': 0.9478564316327273, 'bagging_fraction': 0.6121937596599051, 'learning_rate': 0.019188576110095463, 'num_leaves': 12, 'min_child_samples': 1}. Best is trial 53 with value: 0.6149705232273407.\n"
     ]
    },
    {
     "name": "stdout",
     "output_type": "stream",
     "text": [
      "OOF RMSE Score :  0.5985041995857978\n",
      "Test Set RMSE Score :  0.6233371730458616\n",
      "Final RMSE Score :  0.6158872810078424\n",
      "56\n"
     ]
    },
    {
     "name": "stderr",
     "output_type": "stream",
     "text": [
      "[I 2023-11-25 21:38:41,925] Trial 56 finished with value: 0.6154111790449901 and parameters: {'reg_alpha': 0.008943778336848156, 'reg_lambda': 4.549381606425531, 'feature_fraction': 0.8957570612774884, 'bagging_fraction': 0.613211416727038, 'learning_rate': 0.01910071148633025, 'num_leaves': 13, 'min_child_samples': 4}. Best is trial 53 with value: 0.6149705232273407.\n"
     ]
    },
    {
     "name": "stdout",
     "output_type": "stream",
     "text": [
      "OOF RMSE Score :  0.5986035906727895\n",
      "Test Set RMSE Score :  0.6226144312045047\n",
      "Final RMSE Score :  0.6154111790449901\n",
      "57\n"
     ]
    },
    {
     "name": "stderr",
     "output_type": "stream",
     "text": [
      "[I 2023-11-25 21:39:47,222] Trial 57 finished with value: 0.61583362430179 and parameters: {'reg_alpha': 0.009910053631732085, 'reg_lambda': 4.961977349940372, 'feature_fraction': 0.8891465451450722, 'bagging_fraction': 0.6107138454868799, 'learning_rate': 0.025330956524491653, 'num_leaves': 8, 'min_child_samples': 1}. Best is trial 53 with value: 0.6149705232273407.\n"
     ]
    },
    {
     "name": "stdout",
     "output_type": "stream",
     "text": [
      "OOF RMSE Score :  0.5985301820088444\n",
      "Test Set RMSE Score :  0.623249385284481\n",
      "Final RMSE Score :  0.61583362430179\n",
      "58\n"
     ]
    },
    {
     "name": "stderr",
     "output_type": "stream",
     "text": [
      "[I 2023-11-25 21:41:06,579] Trial 58 finished with value: 0.6151276315729224 and parameters: {'reg_alpha': 0.03833383882523086, 'reg_lambda': 7.493998808424791, 'feature_fraction': 0.8919515673894447, 'bagging_fraction': 0.6039926925932457, 'learning_rate': 0.0255596718239841, 'num_leaves': 9, 'min_child_samples': 1}. Best is trial 53 with value: 0.6149705232273407.\n"
     ]
    },
    {
     "name": "stdout",
     "output_type": "stream",
     "text": [
      "OOF RMSE Score :  0.5986996009601313\n",
      "Test Set RMSE Score :  0.6221682161212614\n",
      "Final RMSE Score :  0.6151276315729224\n",
      "59\n"
     ]
    },
    {
     "name": "stderr",
     "output_type": "stream",
     "text": [
      "[I 2023-11-25 21:42:16,785] Trial 59 finished with value: 0.6156829900058365 and parameters: {'reg_alpha': 0.03553166987855473, 'reg_lambda': 7.33418333558121, 'feature_fraction': 0.8904155721198748, 'bagging_fraction': 0.603240896474149, 'learning_rate': 0.0292479620618565, 'num_leaves': 9, 'min_child_samples': 1}. Best is trial 53 with value: 0.6149705232273407.\n"
     ]
    },
    {
     "name": "stdout",
     "output_type": "stream",
     "text": [
      "OOF RMSE Score :  0.5984233391631253\n",
      "Test Set RMSE Score :  0.6230799832241414\n",
      "Final RMSE Score :  0.6156829900058365\n",
      "60\n"
     ]
    },
    {
     "name": "stderr",
     "output_type": "stream",
     "text": [
      "[I 2023-11-25 21:43:15,453] Trial 60 finished with value: 0.6157251594752806 and parameters: {'reg_alpha': 0.035268836808439515, 'reg_lambda': 7.199773209959531, 'feature_fraction': 0.8434665643843535, 'bagging_fraction': 0.6037810477972657, 'learning_rate': 0.025591731664145814, 'num_leaves': 8, 'min_child_samples': 4}. Best is trial 53 with value: 0.6149705232273407.\n"
     ]
    },
    {
     "name": "stdout",
     "output_type": "stream",
     "text": [
      "OOF RMSE Score :  0.598008151351955\n",
      "Test Set RMSE Score :  0.6233181629567058\n",
      "Final RMSE Score :  0.6157251594752806\n",
      "61\n"
     ]
    },
    {
     "name": "stderr",
     "output_type": "stream",
     "text": [
      "[I 2023-11-25 21:44:24,560] Trial 61 finished with value: 0.6154498346647328 and parameters: {'reg_alpha': 0.033848011728642366, 'reg_lambda': 7.313071578162864, 'feature_fraction': 0.8923076116245177, 'bagging_fraction': 0.6000246763094003, 'learning_rate': 0.026242005475390597, 'num_leaves': 9, 'min_child_samples': 5}. Best is trial 53 with value: 0.6149705232273407.\n"
     ]
    },
    {
     "name": "stdout",
     "output_type": "stream",
     "text": [
      "OOF RMSE Score :  0.5982239948536144\n",
      "Test Set RMSE Score :  0.6228323374409265\n",
      "Final RMSE Score :  0.6154498346647328\n",
      "62\n"
     ]
    },
    {
     "name": "stderr",
     "output_type": "stream",
     "text": [
      "[I 2023-11-25 21:45:23,390] Trial 62 finished with value: 0.6164628568224776 and parameters: {'reg_alpha': 0.03629086284934415, 'reg_lambda': 7.093590553961442, 'feature_fraction': 0.8399548040716327, 'bagging_fraction': 0.6067064373639567, 'learning_rate': 0.027099549575008805, 'num_leaves': 8, 'min_child_samples': 4}. Best is trial 53 with value: 0.6149705232273407.\n"
     ]
    },
    {
     "name": "stdout",
     "output_type": "stream",
     "text": [
      "OOF RMSE Score :  0.598346770882649\n",
      "Test Set RMSE Score :  0.6242268936538328\n",
      "Final RMSE Score :  0.6164628568224776\n",
      "63\n"
     ]
    },
    {
     "name": "stderr",
     "output_type": "stream",
     "text": [
      "[I 2023-11-25 21:47:03,867] Trial 63 finished with value: 0.6152072431506751 and parameters: {'reg_alpha': 0.04036574235505126, 'reg_lambda': 7.184008410305605, 'feature_fraction': 0.8756382973128656, 'bagging_fraction': 0.6009662544571389, 'learning_rate': 0.02567008881234173, 'num_leaves': 12, 'min_child_samples': 2}. Best is trial 53 with value: 0.6149705232273407.\n"
     ]
    },
    {
     "name": "stdout",
     "output_type": "stream",
     "text": [
      "OOF RMSE Score :  0.5991516945340087\n",
      "Test Set RMSE Score :  0.6220881925578179\n",
      "Final RMSE Score :  0.6152072431506751\n",
      "64\n"
     ]
    },
    {
     "name": "stderr",
     "output_type": "stream",
     "text": [
      "[I 2023-11-25 21:48:21,954] Trial 64 finished with value: 0.6164408040462293 and parameters: {'reg_alpha': 0.03653765658739456, 'reg_lambda': 7.763588858279361, 'feature_fraction': 0.8726659132173872, 'bagging_fraction': 0.6417110788772245, 'learning_rate': 0.028489731742907413, 'num_leaves': 13, 'min_child_samples': 10}. Best is trial 53 with value: 0.6149705232273407.\n"
     ]
    },
    {
     "name": "stdout",
     "output_type": "stream",
     "text": [
      "OOF RMSE Score :  0.6003422837947198\n",
      "Test Set RMSE Score :  0.6233401698683049\n",
      "Final RMSE Score :  0.6164408040462293\n",
      "65\n"
     ]
    },
    {
     "name": "stderr",
     "output_type": "stream",
     "text": [
      "[I 2023-11-25 21:49:07,225] Trial 65 finished with value: 0.61814302027207 and parameters: {'reg_alpha': 0.05040815235830785, 'reg_lambda': 6.109534512077219, 'feature_fraction': 0.898658057160714, 'bagging_fraction': 0.6025819142785965, 'learning_rate': 0.03386235186387024, 'num_leaves': 12, 'min_child_samples': 64}. Best is trial 53 with value: 0.6149705232273407.\n"
     ]
    },
    {
     "name": "stdout",
     "output_type": "stream",
     "text": [
      "OOF RMSE Score :  0.6021902827279388\n",
      "Test Set RMSE Score :  0.6249799077909834\n",
      "Final RMSE Score :  0.61814302027207\n",
      "66\n"
     ]
    },
    {
     "name": "stderr",
     "output_type": "stream",
     "text": [
      "[I 2023-11-25 21:51:46,467] Trial 66 finished with value: 0.6178908971560351 and parameters: {'reg_alpha': 0.1303310497426375, 'reg_lambda': 9.123580278667326, 'feature_fraction': 0.8566053673156692, 'bagging_fraction': 0.6006945827681497, 'learning_rate': 0.025174562566685734, 'num_leaves': 25, 'min_child_samples': 5}. Best is trial 53 with value: 0.6149705232273407.\n"
     ]
    },
    {
     "name": "stdout",
     "output_type": "stream",
     "text": [
      "OOF RMSE Score :  0.6051221984211099\n",
      "Test Set RMSE Score :  0.6233631966138602\n",
      "Final RMSE Score :  0.6178908971560351\n",
      "67\n"
     ]
    },
    {
     "name": "stderr",
     "output_type": "stream",
     "text": [
      "[I 2023-11-25 21:52:28,052] Trial 67 finished with value: 0.6187730175947083 and parameters: {'reg_alpha': 0.016134305246306622, 'reg_lambda': 7.772387998740981, 'feature_fraction': 0.8718813173924046, 'bagging_fraction': 0.6404644718048661, 'learning_rate': 0.02876242200449114, 'num_leaves': 19, 'min_child_samples': 80}. Best is trial 53 with value: 0.6149705232273407.\n"
     ]
    },
    {
     "name": "stdout",
     "output_type": "stream",
     "text": [
      "OOF RMSE Score :  0.6038476361792586\n",
      "Test Set RMSE Score :  0.625169609629901\n",
      "Final RMSE Score :  0.6187730175947083\n",
      "68\n"
     ]
    },
    {
     "name": "stderr",
     "output_type": "stream",
     "text": [
      "[I 2023-11-25 21:53:49,796] Trial 68 finished with value: 0.616522116656961 and parameters: {'reg_alpha': 0.0812331166300228, 'reg_lambda': 6.458083543232138, 'feature_fraction': 0.837179841034396, 'bagging_fraction': 0.6621241548790422, 'learning_rate': 0.031629039642782235, 'num_leaves': 12, 'min_child_samples': 1}. Best is trial 53 with value: 0.6149705232273407.\n"
     ]
    },
    {
     "name": "stdout",
     "output_type": "stream",
     "text": [
      "OOF RMSE Score :  0.6005109755615436\n",
      "Test Set RMSE Score :  0.6233840342692828\n",
      "Final RMSE Score :  0.616522116656961\n",
      "69\n"
     ]
    },
    {
     "name": "stderr",
     "output_type": "stream",
     "text": [
      "[I 2023-11-25 21:55:32,349] Trial 69 finished with value: 0.6157266398981627 and parameters: {'reg_alpha': 0.03979373706243259, 'reg_lambda': 3.4608005775751245, 'feature_fraction': 0.900207013621321, 'bagging_fraction': 0.6127313337448422, 'learning_rate': 0.025219536516282778, 'num_leaves': 14, 'min_child_samples': 7}. Best is trial 53 with value: 0.6149705232273407.\n"
     ]
    },
    {
     "name": "stdout",
     "output_type": "stream",
     "text": [
      "OOF RMSE Score :  0.6006989661098272\n",
      "Test Set RMSE Score :  0.6221670715217351\n",
      "Final RMSE Score :  0.6157266398981627\n",
      "70\n"
     ]
    },
    {
     "name": "stderr",
     "output_type": "stream",
     "text": [
      "[I 2023-11-25 21:57:51,889] Trial 70 finished with value: 0.6173179739190168 and parameters: {'reg_alpha': 0.025742339605780897, 'reg_lambda': 9.257931377906642, 'feature_fraction': 0.8022260770636317, 'bagging_fraction': 0.6347596902553941, 'learning_rate': 0.02404320340898354, 'num_leaves': 26, 'min_child_samples': 11}. Best is trial 53 with value: 0.6149705232273407.\n"
     ]
    },
    {
     "name": "stdout",
     "output_type": "stream",
     "text": [
      "OOF RMSE Score :  0.6029142376419345\n",
      "Test Set RMSE Score :  0.6234910037520521\n",
      "Final RMSE Score :  0.6173179739190168\n",
      "71\n"
     ]
    },
    {
     "name": "stderr",
     "output_type": "stream",
     "text": [
      "[I 2023-11-25 21:59:29,636] Trial 71 finished with value: 0.615829268294086 and parameters: {'reg_alpha': 0.04095695741521741, 'reg_lambda': 3.4763542106058742, 'feature_fraction': 0.8945533351350734, 'bagging_fraction': 0.6122627386084898, 'learning_rate': 0.026181860776564352, 'num_leaves': 15, 'min_child_samples': 8}. Best is trial 53 with value: 0.6149705232273407.\n"
     ]
    },
    {
     "name": "stdout",
     "output_type": "stream",
     "text": [
      "OOF RMSE Score :  0.599821137233608\n",
      "Test Set RMSE Score :  0.6226898958914338\n",
      "Final RMSE Score :  0.615829268294086\n",
      "72\n"
     ]
    },
    {
     "name": "stderr",
     "output_type": "stream",
     "text": [
      "[I 2023-11-25 22:07:51,138] Trial 72 finished with value: 0.6228983553850462 and parameters: {'reg_alpha': 0.06362096884740387, 'reg_lambda': 5.160656034990446, 'feature_fraction': 0.8994652352202234, 'bagging_fraction': 0.6157848952870675, 'learning_rate': 0.024338881918052304, 'num_leaves': 85, 'min_child_samples': 4}. Best is trial 53 with value: 0.6149705232273407.\n"
     ]
    },
    {
     "name": "stdout",
     "output_type": "stream",
     "text": [
      "OOF RMSE Score :  0.610810364967855\n",
      "Test Set RMSE Score :  0.6280789227066997\n",
      "Final RMSE Score :  0.6228983553850462\n",
      "73\n"
     ]
    },
    {
     "name": "stderr",
     "output_type": "stream",
     "text": [
      "[I 2023-11-25 22:09:43,810] Trial 73 finished with value: 0.6164966241012928 and parameters: {'reg_alpha': 0.04559989973668394, 'reg_lambda': 2.982975886954124, 'feature_fraction': 0.8746351160470879, 'bagging_fraction': 0.6017471390464302, 'learning_rate': 0.030619729243387458, 'num_leaves': 20, 'min_child_samples': 7}. Best is trial 53 with value: 0.6149705232273407.\n"
     ]
    },
    {
     "name": "stdout",
     "output_type": "stream",
     "text": [
      "OOF RMSE Score :  0.6025528953034678\n",
      "Test Set RMSE Score :  0.6224725078717892\n",
      "Final RMSE Score :  0.6164966241012928\n",
      "74\n"
     ]
    },
    {
     "name": "stderr",
     "output_type": "stream",
     "text": [
      "[I 2023-11-25 22:11:02,434] Trial 74 finished with value: 0.6161996253483452 and parameters: {'reg_alpha': 0.029653656084342537, 'reg_lambda': 9.73734057498154, 'feature_fraction': 0.8562987865686933, 'bagging_fraction': 0.6330765617578441, 'learning_rate': 0.027532818306853547, 'num_leaves': 11, 'min_child_samples': 3}. Best is trial 53 with value: 0.6149705232273407.\n"
     ]
    },
    {
     "name": "stdout",
     "output_type": "stream",
     "text": [
      "OOF RMSE Score :  0.6005197555465954\n",
      "Test Set RMSE Score :  0.6229195695490951\n",
      "Final RMSE Score :  0.6161996253483452\n",
      "75\n"
     ]
    },
    {
     "name": "stderr",
     "output_type": "stream",
     "text": [
      "[I 2023-11-25 22:12:09,617] Trial 75 finished with value: 0.615889764985244 and parameters: {'reg_alpha': 0.02120977186065474, 'reg_lambda': 6.464015885592539, 'feature_fraction': 0.9211444619250655, 'bagging_fraction': 0.6468768475994615, 'learning_rate': 0.02085082876867565, 'num_leaves': 8, 'min_child_samples': 7}. Best is trial 53 with value: 0.6149705232273407.\n"
     ]
    },
    {
     "name": "stdout",
     "output_type": "stream",
     "text": [
      "OOF RMSE Score :  0.5985467509817769\n",
      "Test Set RMSE Score :  0.6233224852724442\n",
      "Final RMSE Score :  0.615889764985244\n",
      "76\n"
     ]
    },
    {
     "name": "stderr",
     "output_type": "stream",
     "text": [
      "[I 2023-11-25 22:13:40,746] Trial 76 finished with value: 0.6165392451914153 and parameters: {'reg_alpha': 0.01763744630198308, 'reg_lambda': 5.082778516394912, 'feature_fraction': 0.8856553833511086, 'bagging_fraction': 0.6124270955668786, 'learning_rate': 0.023606317609903452, 'num_leaves': 16, 'min_child_samples': 17}. Best is trial 53 with value: 0.6149705232273407.\n"
     ]
    },
    {
     "name": "stdout",
     "output_type": "stream",
     "text": [
      "OOF RMSE Score :  0.6001030205719359\n",
      "Test Set RMSE Score :  0.6235833414569066\n",
      "Final RMSE Score :  0.6165392451914153\n",
      "77\n"
     ]
    },
    {
     "name": "stderr",
     "output_type": "stream",
     "text": [
      "[I 2023-11-25 22:15:23,694] Trial 77 finished with value: 0.6167714591083415 and parameters: {'reg_alpha': 0.030526488180105844, 'reg_lambda': 7.136452248386644, 'feature_fraction': 0.8458430197335127, 'bagging_fraction': 0.6300255829507867, 'learning_rate': 0.025894957301380424, 'num_leaves': 19, 'min_child_samples': 11}. Best is trial 53 with value: 0.6149705232273407.\n"
     ]
    },
    {
     "name": "stdout",
     "output_type": "stream",
     "text": [
      "OOF RMSE Score :  0.6013147020559758\n",
      "Test Set RMSE Score :  0.6233957835593555\n",
      "Final RMSE Score :  0.6167714591083415\n",
      "78\n"
     ]
    },
    {
     "name": "stderr",
     "output_type": "stream",
     "text": [
      "[I 2023-11-25 22:17:09,402] Trial 78 finished with value: 0.6157110640507889 and parameters: {'reg_alpha': 0.04236483908785437, 'reg_lambda': 3.1958726993227318, 'feature_fraction': 0.9053284230711584, 'bagging_fraction': 0.6564666597335972, 'learning_rate': 0.02240021978290456, 'num_leaves': 12, 'min_child_samples': 1}. Best is trial 53 with value: 0.6149705232273407.\n"
     ]
    },
    {
     "name": "stdout",
     "output_type": "stream",
     "text": [
      "OOF RMSE Score :  0.5986604060563214\n",
      "Test Set RMSE Score :  0.6230184889055607\n",
      "Final RMSE Score :  0.6157110640507889\n",
      "79\n"
     ]
    },
    {
     "name": "stderr",
     "output_type": "stream",
     "text": [
      "[I 2023-11-25 22:18:43,360] Trial 79 finished with value: 0.6160772810962325 and parameters: {'reg_alpha': 0.06900124637917196, 'reg_lambda': 4.893827447547851, 'feature_fraction': 0.914521958439198, 'bagging_fraction': 0.6560926363091097, 'learning_rate': 0.022530432996443646, 'num_leaves': 11, 'min_child_samples': 1}. Best is trial 53 with value: 0.6149705232273407.\n"
     ]
    },
    {
     "name": "stdout",
     "output_type": "stream",
     "text": [
      "OOF RMSE Score :  0.5992452248518301\n",
      "Test Set RMSE Score :  0.6232910194866907\n",
      "Final RMSE Score :  0.6160772810962325\n",
      "80\n"
     ]
    },
    {
     "name": "stderr",
     "output_type": "stream",
     "text": [
      "[I 2023-11-25 22:21:21,381] Trial 80 finished with value: 0.6160035128672494 and parameters: {'reg_alpha': 0.11046464460677856, 'reg_lambda': 2.9265759545788486, 'feature_fraction': 0.7843304501009228, 'bagging_fraction': 0.6321365453514436, 'learning_rate': 0.0213759442242869, 'num_leaves': 22, 'min_child_samples': 4}. Best is trial 53 with value: 0.6149705232273407.\n"
     ]
    },
    {
     "name": "stdout",
     "output_type": "stream",
     "text": [
      "OOF RMSE Score :  0.6007568642003147\n",
      "Test Set RMSE Score :  0.6225377908673643\n",
      "Final RMSE Score :  0.6160035128672494\n",
      "81\n"
     ]
    },
    {
     "name": "stderr",
     "output_type": "stream",
     "text": [
      "[I 2023-11-25 22:23:12,891] Trial 81 finished with value: 0.6162286640247263 and parameters: {'reg_alpha': 0.04507097867310692, 'reg_lambda': 3.452759371688877, 'feature_fraction': 0.900327854839737, 'bagging_fraction': 0.6002406620200544, 'learning_rate': 0.028848646446999766, 'num_leaves': 16, 'min_child_samples': 6}. Best is trial 53 with value: 0.6149705232273407.\n"
     ]
    },
    {
     "name": "stdout",
     "output_type": "stream",
     "text": [
      "OOF RMSE Score :  0.600715399024643\n",
      "Test Set RMSE Score :  0.6228772061676192\n",
      "Final RMSE Score :  0.6162286640247263\n",
      "82\n"
     ]
    },
    {
     "name": "stderr",
     "output_type": "stream",
     "text": [
      "[I 2023-11-25 22:24:34,453] Trial 82 finished with value: 0.6159661605057803 and parameters: {'reg_alpha': 0.022436535990271917, 'reg_lambda': 7.246505740793353, 'feature_fraction': 0.9239599533957883, 'bagging_fraction': 0.6137379896014548, 'learning_rate': 0.023164357235673474, 'num_leaves': 11, 'min_child_samples': 9}. Best is trial 53 with value: 0.6149705232273407.\n"
     ]
    },
    {
     "name": "stdout",
     "output_type": "stream",
     "text": [
      "OOF RMSE Score :  0.5992592893464797\n",
      "Test Set RMSE Score :  0.6231262481454807\n",
      "Final RMSE Score :  0.6159661605057803\n",
      "83\n"
     ]
    },
    {
     "name": "stderr",
     "output_type": "stream",
     "text": [
      "[I 2023-11-25 22:26:24,558] Trial 83 finished with value: 0.6165362532303551 and parameters: {'reg_alpha': 0.03721702032739279, 'reg_lambda': 9.981296790216911, 'feature_fraction': 0.9075294628032723, 'bagging_fraction': 0.6145192648624666, 'learning_rate': 0.019948902187772972, 'num_leaves': 14, 'min_child_samples': 12}. Best is trial 53 with value: 0.6149705232273407.\n"
     ]
    },
    {
     "name": "stdout",
     "output_type": "stream",
     "text": [
      "OOF RMSE Score :  0.6007526418973212\n",
      "Test Set RMSE Score :  0.6233006580873696\n",
      "Final RMSE Score :  0.6165362532303551\n",
      "84\n"
     ]
    },
    {
     "name": "stderr",
     "output_type": "stream",
     "text": [
      "[I 2023-11-25 22:28:50,005] Trial 84 finished with value: 0.616041215150133 and parameters: {'reg_alpha': 0.0546752905938632, 'reg_lambda': 4.973576405075345, 'feature_fraction': 0.8772465175151406, 'bagging_fraction': 0.6243138734748704, 'learning_rate': 0.02571920262095159, 'num_leaves': 18, 'min_child_samples': 1}. Best is trial 53 with value: 0.6149705232273407.\n"
     ]
    },
    {
     "name": "stdout",
     "output_type": "stream",
     "text": [
      "OOF RMSE Score :  0.601092507442477\n",
      "Test Set RMSE Score :  0.6224478041677\n",
      "Final RMSE Score :  0.616041215150133\n",
      "85\n"
     ]
    },
    {
     "name": "stderr",
     "output_type": "stream",
     "text": [
      "[I 2023-11-25 22:31:58,409] Trial 85 finished with value: 0.6162946401121349 and parameters: {'reg_alpha': 0.018120841866898236, 'reg_lambda': 1.9551576907371555, 'feature_fraction': 0.8655786877684855, 'bagging_fraction': 0.6469861870829846, 'learning_rate': 0.022265232438446043, 'num_leaves': 26, 'min_child_samples': 6}. Best is trial 53 with value: 0.6149705232273407.\n"
     ]
    },
    {
     "name": "stdout",
     "output_type": "stream",
     "text": [
      "OOF RMSE Score :  0.6027867216531381\n",
      "Test Set RMSE Score :  0.6220837480231336\n",
      "Final RMSE Score :  0.6162946401121349\n",
      "86\n"
     ]
    },
    {
     "name": "stderr",
     "output_type": "stream",
     "text": [
      "[I 2023-11-25 22:32:59,357] Trial 86 finished with value: 0.6156650951717875 and parameters: {'reg_alpha': 0.013154855294667428, 'reg_lambda': 3.6490884188394395, 'feature_fraction': 0.8856966191184761, 'bagging_fraction': 0.6387029525038698, 'learning_rate': 0.024816558657123934, 'num_leaves': 8, 'min_child_samples': 3}. Best is trial 53 with value: 0.6149705232273407.\n"
     ]
    },
    {
     "name": "stdout",
     "output_type": "stream",
     "text": [
      "OOF RMSE Score :  0.5980804736062645\n",
      "Test Set RMSE Score :  0.6232013615570116\n",
      "Final RMSE Score :  0.6156650951717875\n",
      "87\n"
     ]
    },
    {
     "name": "stderr",
     "output_type": "stream",
     "text": [
      "[I 2023-11-25 22:34:13,981] Trial 87 finished with value: 0.6161482343928697 and parameters: {'reg_alpha': 0.012474034168113352, 'reg_lambda': 5.714878730895182, 'feature_fraction': 0.8871064005531867, 'bagging_fraction': 0.6388674923966436, 'learning_rate': 0.019322148531629446, 'num_leaves': 8, 'min_child_samples': 3}. Best is trial 53 with value: 0.6149705232273407.\n"
     ]
    },
    {
     "name": "stdout",
     "output_type": "stream",
     "text": [
      "OOF RMSE Score :  0.598530128424623\n",
      "Test Set RMSE Score :  0.623698851236404\n",
      "Final RMSE Score :  0.6161482343928697\n",
      "88\n"
     ]
    },
    {
     "name": "stderr",
     "output_type": "stream",
     "text": [
      "[I 2023-11-25 22:35:19,496] Trial 88 finished with value: 0.6158633850369919 and parameters: {'reg_alpha': 0.015570090766427801, 'reg_lambda': 4.202735724678009, 'feature_fraction': 0.866384499197716, 'bagging_fraction': 0.658945865446305, 'learning_rate': 0.027031332499944973, 'num_leaves': 10, 'min_child_samples': 9}. Best is trial 53 with value: 0.6149705232273407.\n"
     ]
    },
    {
     "name": "stdout",
     "output_type": "stream",
     "text": [
      "OOF RMSE Score :  0.5985411845459079\n",
      "Test Set RMSE Score :  0.6232871852474565\n",
      "Final RMSE Score :  0.6158633850369919\n",
      "89\n"
     ]
    },
    {
     "name": "stderr",
     "output_type": "stream",
     "text": [
      "[I 2023-11-25 22:37:13,621] Trial 89 finished with value: 0.6161658890050559 and parameters: {'reg_alpha': 0.006650558516044778, 'reg_lambda': 6.6987481401265425, 'feature_fraction': 0.9300950459004423, 'bagging_fraction': 0.6837501130075027, 'learning_rate': 0.021379110343443763, 'num_leaves': 16, 'min_child_samples': 13}. Best is trial 53 with value: 0.6149705232273407.\n"
     ]
    },
    {
     "name": "stdout",
     "output_type": "stream",
     "text": [
      "OOF RMSE Score :  0.6008320725377878\n",
      "Test Set RMSE Score :  0.6227375246338851\n",
      "Final RMSE Score :  0.6161658890050559\n",
      "90\n"
     ]
    },
    {
     "name": "stderr",
     "output_type": "stream",
     "text": [
      "[I 2023-11-25 22:44:01,134] Trial 90 finished with value: 0.6194756521790488 and parameters: {'reg_alpha': 0.02538795091539478, 'reg_lambda': 2.4560197058359083, 'feature_fraction': 0.8531655947547662, 'bagging_fraction': 0.6266872289534553, 'learning_rate': 0.02363888454433265, 'num_leaves': 68, 'min_child_samples': 3}. Best is trial 53 with value: 0.6149705232273407.\n"
     ]
    },
    {
     "name": "stdout",
     "output_type": "stream",
     "text": [
      "OOF RMSE Score :  0.6092855051411045\n",
      "Test Set RMSE Score :  0.6238428580524534\n",
      "Final RMSE Score :  0.6194756521790488\n",
      "91\n"
     ]
    },
    {
     "name": "stderr",
     "output_type": "stream",
     "text": [
      "[I 2023-11-25 22:45:27,613] Trial 91 finished with value: 0.6162101953443836 and parameters: {'reg_alpha': 0.03416541068721746, 'reg_lambda': 3.7040653326308037, 'feature_fraction': 0.8943514115590014, 'bagging_fraction': 0.6167169697136503, 'learning_rate': 0.025278392043449067, 'num_leaves': 13, 'min_child_samples': 6}. Best is trial 53 with value: 0.6149705232273407.\n"
     ]
    },
    {
     "name": "stdout",
     "output_type": "stream",
     "text": [
      "OOF RMSE Score :  0.5992393402178247\n",
      "Test Set RMSE Score :  0.6234834189700517\n",
      "Final RMSE Score :  0.6162101953443836\n",
      "92\n"
     ]
    },
    {
     "name": "stderr",
     "output_type": "stream",
     "text": [
      "[I 2023-11-25 22:46:37,244] Trial 92 finished with value: 0.6163631717595999 and parameters: {'reg_alpha': 0.03042414846359584, 'reg_lambda': 7.7402434131942135, 'feature_fraction': 0.9091202617174331, 'bagging_fraction': 0.6093831823522298, 'learning_rate': 0.02813722776618071, 'num_leaves': 10, 'min_child_samples': 3}. Best is trial 53 with value: 0.6149705232273407.\n"
     ]
    },
    {
     "name": "stdout",
     "output_type": "stream",
     "text": [
      "OOF RMSE Score :  0.5998477140628136\n",
      "Test Set RMSE Score :  0.6234412250582226\n",
      "Final RMSE Score :  0.6163631717595999\n",
      "93\n"
     ]
    },
    {
     "name": "stderr",
     "output_type": "stream",
     "text": [
      "[I 2023-11-25 22:48:36,168] Trial 93 finished with value: 0.6158506550568461 and parameters: {'reg_alpha': 0.05046511202816149, 'reg_lambda': 3.1217216946272135, 'feature_fraction': 0.8805304080017611, 'bagging_fraction': 0.6094594933997581, 'learning_rate': 0.02977715240445734, 'num_leaves': 21, 'min_child_samples': 9}. Best is trial 53 with value: 0.6149705232273407.\n"
     ]
    },
    {
     "name": "stdout",
     "output_type": "stream",
     "text": [
      "OOF RMSE Score :  0.601142010647532\n",
      "Test Set RMSE Score :  0.6221543598036949\n",
      "Final RMSE Score :  0.6158506550568461\n",
      "94\n"
     ]
    },
    {
     "name": "stderr",
     "output_type": "stream",
     "text": [
      "[I 2023-11-25 22:50:25,265] Trial 94 finished with value: 0.6152101025097563 and parameters: {'reg_alpha': 0.012093173711734975, 'reg_lambda': 4.525270017012984, 'feature_fraction': 0.9435522537037768, 'bagging_fraction': 0.6317389180452977, 'learning_rate': 0.024698396144419443, 'num_leaves': 15, 'min_child_samples': 7}. Best is trial 53 with value: 0.6149705232273407.\n"
     ]
    },
    {
     "name": "stdout",
     "output_type": "stream",
     "text": [
      "OOF RMSE Score :  0.5997906668401505\n",
      "Test Set RMSE Score :  0.6218184320824446\n",
      "Final RMSE Score :  0.6152101025097563\n",
      "95\n"
     ]
    },
    {
     "name": "stderr",
     "output_type": "stream",
     "text": [
      "[I 2023-11-25 22:51:05,600] Trial 95 finished with value: 0.6183897705029664 and parameters: {'reg_alpha': 0.011279756647073313, 'reg_lambda': 4.756647688665626, 'feature_fraction': 0.9396225851233674, 'bagging_fraction': 0.6307792434254041, 'learning_rate': 0.026953121950187498, 'num_leaves': 74, 'min_child_samples': 90}. Best is trial 53 with value: 0.6149705232273407.\n"
     ]
    },
    {
     "name": "stdout",
     "output_type": "stream",
     "text": [
      "OOF RMSE Score :  0.6033131171186523\n",
      "Test Set RMSE Score :  0.6248511933819583\n",
      "Final RMSE Score :  0.6183897705029664\n",
      "96\n"
     ]
    },
    {
     "name": "stderr",
     "output_type": "stream",
     "text": [
      "[I 2023-11-25 22:52:50,999] Trial 96 finished with value: 0.6162436980826906 and parameters: {'reg_alpha': 0.01269200546443633, 'reg_lambda': 5.5597582716710106, 'feature_fraction': 0.9233968958828813, 'bagging_fraction': 0.6681301930610766, 'learning_rate': 0.02295006955695938, 'num_leaves': 17, 'min_child_samples': 18}. Best is trial 53 with value: 0.6149705232273407.\n"
     ]
    },
    {
     "name": "stdout",
     "output_type": "stream",
     "text": [
      "OOF RMSE Score :  0.6003335235652052\n",
      "Test Set RMSE Score :  0.6230623443044702\n",
      "Final RMSE Score :  0.6162436980826906\n",
      "97\n"
     ]
    },
    {
     "name": "stderr",
     "output_type": "stream",
     "text": [
      "[I 2023-11-25 22:55:01,854] Trial 97 finished with value: 0.6156356590488032 and parameters: {'reg_alpha': 0.021846251294692105, 'reg_lambda': 2.6434029222425113, 'feature_fraction': 0.9106156352436353, 'bagging_fraction': 0.6409508778625664, 'learning_rate': 0.02073608833908812, 'num_leaves': 20, 'min_child_samples': 11}. Best is trial 53 with value: 0.6149705232273407.\n"
     ]
    },
    {
     "name": "stdout",
     "output_type": "stream",
     "text": [
      "OOF RMSE Score :  0.6011650001624336\n",
      "Test Set RMSE Score :  0.6218373700001045\n",
      "Final RMSE Score :  0.6156356590488032\n",
      "98\n"
     ]
    },
    {
     "name": "stderr",
     "output_type": "stream",
     "text": [
      "[I 2023-11-25 22:57:20,568] Trial 98 finished with value: 0.6172860325634252 and parameters: {'reg_alpha': 0.015271629839331235, 'reg_lambda': 2.6433845534059697, 'feature_fraction': 0.9495296316550143, 'bagging_fraction': 0.6525478368003806, 'learning_rate': 0.020485459873597744, 'num_leaves': 24, 'min_child_samples': 16}. Best is trial 53 with value: 0.6149705232273407.\n"
     ]
    },
    {
     "name": "stdout",
     "output_type": "stream",
     "text": [
      "OOF RMSE Score :  0.6028977771261219\n",
      "Test Set RMSE Score :  0.6234524277508409\n",
      "Final RMSE Score :  0.6172860325634252\n",
      "99\n"
     ]
    },
    {
     "name": "stderr",
     "output_type": "stream",
     "text": [
      "[I 2023-11-25 23:01:16,656] Trial 99 finished with value: 0.6164924953294428 and parameters: {'reg_alpha': 0.021341051730309937, 'reg_lambda': 4.085558442406593, 'feature_fraction': 0.9115049647184795, 'bagging_fraction': 0.6423799384006051, 'learning_rate': 0.01910313134687062, 'num_leaves': 34, 'min_child_samples': 11}. Best is trial 53 with value: 0.6149705232273407.\n"
     ]
    },
    {
     "name": "stdout",
     "output_type": "stream",
     "text": [
      "OOF RMSE Score :  0.6034208437738124\n",
      "Test Set RMSE Score :  0.6220946317104273\n",
      "Final RMSE Score :  0.6164924953294428\n"
     ]
    }
   ],
   "source": [
    "if cnfg.use_optuna_tuning:\n",
    "    study = optuna.create_study(\n",
    "        direction=\"minimize\", study_name=\"Optimize boosting hyperparameters\"\n",
    "    )\n",
    "    study.optimize(\n",
    "        lambda trial: objective(trial, train_feats), n_trials=cnfg.num_trials_optuna\n",
    "    )"
   ]
  },
  {
   "cell_type": "code",
   "execution_count": 125,
   "id": "908e24c1-c4e6-4001-8fe6-8d96cec7d30f",
   "metadata": {
    "execution": {
     "iopub.execute_input": "2023-11-25T22:01:16.659641Z",
     "iopub.status.busy": "2023-11-25T22:01:16.659470Z",
     "iopub.status.idle": "2023-11-25T22:01:16.662595Z",
     "shell.execute_reply": "2023-11-25T22:01:16.662123Z",
     "shell.execute_reply.started": "2023-11-25T22:01:16.659624Z"
    },
    "papermill": {
     "duration": 0.027034,
     "end_time": "2023-10-24T19:15:40.674798",
     "exception": false,
     "start_time": "2023-10-24T19:15:40.647764",
     "status": "completed"
    },
    "tags": []
   },
   "outputs": [
    {
     "name": "stdout",
     "output_type": "stream",
     "text": [
      "Best trial: {'reg_alpha': 0.009377808447871812, 'reg_lambda': 1.2552479181869494, 'feature_fraction': 0.9372168343783626, 'bagging_fraction': 0.6159694762813432, 'learning_rate': 0.018406758708311256, 'num_leaves': 25, 'min_child_samples': 4}\n"
     ]
    }
   ],
   "source": [
    "if cnfg.use_optuna_tuning:\n",
    "    print(\"Best trial:\", study.best_trial.params)"
   ]
  },
  {
   "cell_type": "code",
   "execution_count": null,
   "id": "3f430b5e-685d-420a-92e5-5dbc15575cbc",
   "metadata": {},
   "outputs": [],
   "source": [
    "# OOF RMSE Score :  0.5997906668401505\n",
    "# Test Set RMSE Score :  0.6218184320824446\n",
    "# Final RMSE Score :  0.6152101025097563\n",
    "# Trial 94\n",
    "# {\n",
    "#     \"reg_alpha\": 0.012093173711734975,\n",
    "#     \"reg_lambda\": 4.525270017012984,\n",
    "#     \"feature_fraction\": 0.9435522537037768,\n",
    "#     \"bagging_fraction\": 0.6317389180452977,\n",
    "#     \"learning_rate\": 0.024698396144419443,\n",
    "#     \"num_leaves\": 15,\n",
    "#     \"min_child_samples\": 7,\n",
    "# }"
   ]
  },
  {
   "cell_type": "code",
   "execution_count": null,
   "id": "1228942c-c589-4207-90be-278929b060bf",
   "metadata": {},
   "outputs": [],
   "source": [
    "# 0.6207957 Trial 53\n",
    "# {\n",
    "#     \"reg_alpha\": 0.009377808447871812,\n",
    "#     \"reg_lambda\": 1.2552479181869494,\n",
    "#     \"feature_fraction\": 0.9372168343783626,\n",
    "#     \"bagging_fraction\": 0.6159694762813432,\n",
    "#     \"learning_rate\": 0.018406758708311256,\n",
    "#     \"num_leaves\": 25,\n",
    "#     \"min_child_samples\": 4,\n",
    "# }"
   ]
  },
  {
   "cell_type": "code",
   "execution_count": 126,
   "id": "a0cf5c88-b182-497b-afbe-d9ff5726150d",
   "metadata": {
    "execution": {
     "iopub.execute_input": "2023-11-25T22:01:16.663223Z",
     "iopub.status.busy": "2023-11-25T22:01:16.663082Z",
     "iopub.status.idle": "2023-11-25T22:01:16.675492Z",
     "shell.execute_reply": "2023-11-25T22:01:16.675094Z",
     "shell.execute_reply.started": "2023-11-25T22:01:16.663208Z"
    }
   },
   "outputs": [],
   "source": [
    "# # .599750\n",
    "# best_params = {\n",
    "#     \"reg_alpha\": 0.006207770393726873,\n",
    "#     \"reg_lambda\": 0.0030941407353811015,\n",
    "#     \"feature_fraction\": 0.502402121779547,\n",
    "#     \"bagging_fraction\": 0.8256265305250075,\n",
    "#     \"learning_rate\": 0.013317073923676816,\n",
    "#     \"num_leaves\": 8,\n",
    "#     \"min_child_samples\": 16,\n",
    "# }"
   ]
  },
  {
   "cell_type": "markdown",
   "id": "397b6f66-8723-41e3-b121-b6cbe615230f",
   "metadata": {
    "papermill": {
     "duration": 0.019393,
     "end_time": "2023-10-24T19:15:40.713679",
     "exception": false,
     "start_time": "2023-10-24T19:15:40.694286",
     "status": "completed"
    },
    "tags": []
   },
   "source": [
    "# Train OOF LGBM Models"
   ]
  },
  {
   "cell_type": "code",
   "execution_count": 91,
   "id": "887a82c0-d76e-4408-9608-4b674d87289d",
   "metadata": {
    "execution": {
     "iopub.execute_input": "2023-11-25T18:11:20.064817Z",
     "iopub.status.busy": "2023-11-25T18:11:20.064437Z",
     "iopub.status.idle": "2023-11-25T18:11:20.067891Z",
     "shell.execute_reply": "2023-11-25T18:11:20.067517Z",
     "shell.execute_reply.started": "2023-11-25T18:11:20.064759Z"
    }
   },
   "outputs": [],
   "source": [
    "# cnfg.use_optuna_tuning = False"
   ]
  },
  {
   "cell_type": "code",
   "execution_count": 92,
   "id": "7cc37d7a-a102-47f4-9517-3dd3e5363119",
   "metadata": {
    "execution": {
     "iopub.execute_input": "2023-11-25T18:11:20.456847Z",
     "iopub.status.busy": "2023-11-25T18:11:20.456431Z",
     "iopub.status.idle": "2023-11-25T18:12:40.523153Z",
     "shell.execute_reply": "2023-11-25T18:12:40.522552Z",
     "shell.execute_reply.started": "2023-11-25T18:11:20.456809Z"
    },
    "papermill": {
     "duration": 25.185588,
     "end_time": "2023-10-24T19:16:05.919317",
     "exception": false,
     "start_time": "2023-10-24T19:15:40.733729",
     "status": "completed"
    },
    "tags": []
   },
   "outputs": [
    {
     "name": "stdout",
     "output_type": "stream",
     "text": [
      "{'reg_alpha': 0.05924802200631763, 'reg_lambda': 0.0023346433510371923, 'feature_fraction': 0.5569998490351998, 'bagging_fraction': 0.6262979921849824, 'learning_rate': 0.01180328936041837, 'num_leaves': 86, 'min_child_samples': 56}\n",
      "==-==-==-==-==-==-==-==-==-==-==-==-==-==-==-==-==-==-==-==-==-==-==-==-==-==-==-==-==-==-==-==-==-==-==-==-==-==-==-==-==-==-==-==-==-==-==-==-==-==-\n",
      "Fold :  0\n",
      "Trian : (1778, 861) (1778, 1)\n",
      "Valid : (198, 861) (198, 1)\n",
      "[100]\tvalid_0's rmse: 0.686424\n",
      "[200]\tvalid_0's rmse: 0.629173\n",
      "[300]\tvalid_0's rmse: 0.62062\n",
      "[400]\tvalid_0's rmse: 0.617641\n",
      "[500]\tvalid_0's rmse: 0.616288\n",
      "[600]\tvalid_0's rmse: 0.617958\n",
      "Fold RMSE Score :  0.6156593620648608\n",
      "==-==-==-==-==-==-==-==-==-==-==-==-==-==-==-==-==-==-==-==-==-==-==-==-==-==-==-==-==-==-==-==-==-==-==-==-==-==-==-==-==-==-==-==-==-==-==-==-==-==-\n",
      "Fold :  1\n",
      "Trian : (1778, 861) (1778, 1)\n",
      "Valid : (198, 861) (198, 1)\n",
      "[100]\tvalid_0's rmse: 0.721354\n",
      "[200]\tvalid_0's rmse: 0.650666\n",
      "[300]\tvalid_0's rmse: 0.635563\n",
      "[400]\tvalid_0's rmse: 0.635964\n",
      "[500]\tvalid_0's rmse: 0.638082\n",
      "Fold RMSE Score :  0.633840314885007\n",
      "==-==-==-==-==-==-==-==-==-==-==-==-==-==-==-==-==-==-==-==-==-==-==-==-==-==-==-==-==-==-==-==-==-==-==-==-==-==-==-==-==-==-==-==-==-==-==-==-==-==-\n",
      "Fold :  2\n",
      "Trian : (1778, 861) (1778, 1)\n",
      "Valid : (198, 861) (198, 1)\n",
      "[100]\tvalid_0's rmse: 0.654618\n",
      "[200]\tvalid_0's rmse: 0.618275\n",
      "[300]\tvalid_0's rmse: 0.607664\n",
      "[400]\tvalid_0's rmse: 0.604727\n",
      "[500]\tvalid_0's rmse: 0.600641\n",
      "[600]\tvalid_0's rmse: 0.598401\n",
      "[700]\tvalid_0's rmse: 0.595269\n",
      "[800]\tvalid_0's rmse: 0.593741\n",
      "[900]\tvalid_0's rmse: 0.592802\n",
      "[1000]\tvalid_0's rmse: 0.591046\n",
      "[1100]\tvalid_0's rmse: 0.589049\n",
      "[1200]\tvalid_0's rmse: 0.588619\n",
      "[1300]\tvalid_0's rmse: 0.588358\n",
      "[1400]\tvalid_0's rmse: 0.58832\n",
      "[1500]\tvalid_0's rmse: 0.587149\n",
      "[1600]\tvalid_0's rmse: 0.587427\n",
      "Fold RMSE Score :  0.5869280914122607\n",
      "==-==-==-==-==-==-==-==-==-==-==-==-==-==-==-==-==-==-==-==-==-==-==-==-==-==-==-==-==-==-==-==-==-==-==-==-==-==-==-==-==-==-==-==-==-==-==-==-==-==-\n",
      "Fold :  3\n",
      "Trian : (1778, 861) (1778, 1)\n",
      "Valid : (198, 861) (198, 1)\n",
      "[100]\tvalid_0's rmse: 0.722906\n",
      "[200]\tvalid_0's rmse: 0.658226\n",
      "[300]\tvalid_0's rmse: 0.646285\n",
      "[400]\tvalid_0's rmse: 0.640598\n",
      "[500]\tvalid_0's rmse: 0.641606\n",
      "[600]\tvalid_0's rmse: 0.643815\n",
      "Fold RMSE Score :  0.6404189316736234\n",
      "==-==-==-==-==-==-==-==-==-==-==-==-==-==-==-==-==-==-==-==-==-==-==-==-==-==-==-==-==-==-==-==-==-==-==-==-==-==-==-==-==-==-==-==-==-==-==-==-==-==-\n",
      "Fold :  4\n",
      "Trian : (1778, 861) (1778, 1)\n",
      "Valid : (198, 861) (198, 1)\n",
      "[100]\tvalid_0's rmse: 0.640943\n",
      "[200]\tvalid_0's rmse: 0.563941\n",
      "[300]\tvalid_0's rmse: 0.545533\n",
      "[400]\tvalid_0's rmse: 0.543473\n",
      "[500]\tvalid_0's rmse: 0.543206\n",
      "Fold RMSE Score :  0.5427903682677118\n",
      "==-==-==-==-==-==-==-==-==-==-==-==-==-==-==-==-==-==-==-==-==-==-==-==-==-==-==-==-==-==-==-==-==-==-==-==-==-==-==-==-==-==-==-==-==-==-==-==-==-==-\n",
      "Fold :  5\n",
      "Trian : (1778, 861) (1778, 1)\n",
      "Valid : (198, 861) (198, 1)\n",
      "[100]\tvalid_0's rmse: 0.636673\n",
      "[200]\tvalid_0's rmse: 0.579748\n",
      "[300]\tvalid_0's rmse: 0.571573\n",
      "[400]\tvalid_0's rmse: 0.569401\n",
      "[500]\tvalid_0's rmse: 0.569464\n",
      "Fold RMSE Score :  0.5685886671555344\n",
      "==-==-==-==-==-==-==-==-==-==-==-==-==-==-==-==-==-==-==-==-==-==-==-==-==-==-==-==-==-==-==-==-==-==-==-==-==-==-==-==-==-==-==-==-==-==-==-==-==-==-\n",
      "Fold :  6\n",
      "Trian : (1779, 861) (1779, 1)\n",
      "Valid : (197, 861) (197, 1)\n",
      "[100]\tvalid_0's rmse: 0.704215\n",
      "[200]\tvalid_0's rmse: 0.641098\n",
      "[300]\tvalid_0's rmse: 0.629132\n",
      "[400]\tvalid_0's rmse: 0.628126\n",
      "[500]\tvalid_0's rmse: 0.628989\n",
      "[600]\tvalid_0's rmse: 0.628676\n",
      "Fold RMSE Score :  0.6267207273671679\n",
      "==-==-==-==-==-==-==-==-==-==-==-==-==-==-==-==-==-==-==-==-==-==-==-==-==-==-==-==-==-==-==-==-==-==-==-==-==-==-==-==-==-==-==-==-==-==-==-==-==-==-\n",
      "Fold :  7\n",
      "Trian : (1779, 861) (1779, 1)\n",
      "Valid : (197, 861) (197, 1)\n",
      "[100]\tvalid_0's rmse: 0.654606\n",
      "[200]\tvalid_0's rmse: 0.574404\n",
      "[300]\tvalid_0's rmse: 0.557147\n",
      "[400]\tvalid_0's rmse: 0.548581\n",
      "[500]\tvalid_0's rmse: 0.547917\n",
      "[600]\tvalid_0's rmse: 0.546786\n",
      "[700]\tvalid_0's rmse: 0.545251\n",
      "[800]\tvalid_0's rmse: 0.544802\n",
      "[900]\tvalid_0's rmse: 0.545293\n",
      "[1000]\tvalid_0's rmse: 0.547578\n",
      "Fold RMSE Score :  0.5445508711568634\n",
      "==-==-==-==-==-==-==-==-==-==-==-==-==-==-==-==-==-==-==-==-==-==-==-==-==-==-==-==-==-==-==-==-==-==-==-==-==-==-==-==-==-==-==-==-==-==-==-==-==-==-\n",
      "Fold :  8\n",
      "Trian : (1779, 861) (1779, 1)\n",
      "Valid : (197, 861) (197, 1)\n",
      "[100]\tvalid_0's rmse: 0.707304\n",
      "[200]\tvalid_0's rmse: 0.664581\n",
      "[300]\tvalid_0's rmse: 0.658368\n",
      "[400]\tvalid_0's rmse: 0.657002\n",
      "[500]\tvalid_0's rmse: 0.658468\n",
      "Fold RMSE Score :  0.6562801383795296\n",
      "==-==-==-==-==-==-==-==-==-==-==-==-==-==-==-==-==-==-==-==-==-==-==-==-==-==-==-==-==-==-==-==-==-==-==-==-==-==-==-==-==-==-==-==-==-==-==-==-==-==-\n",
      "Fold :  9\n",
      "Trian : (1779, 861) (1779, 1)\n",
      "Valid : (197, 861) (197, 1)\n",
      "[100]\tvalid_0's rmse: 0.671735\n",
      "[200]\tvalid_0's rmse: 0.607808\n",
      "[300]\tvalid_0's rmse: 0.592143\n",
      "[400]\tvalid_0's rmse: 0.589521\n",
      "[500]\tvalid_0's rmse: 0.587848\n",
      "[600]\tvalid_0's rmse: 0.589053\n",
      "Fold RMSE Score :  0.5876895242489395\n",
      "OOF RMSE Score :  0.601550657387844\n",
      "==-==-==-==-==-==-==-==-==-==-==-==-==-==-==-==-==-==-==-==-==-==-==-==-==-==-==-==-==-==-==-==-==-==-==-==-==-==-==-==-==-==-==-==-==-==-==-==-==-==-\n",
      "Fold :  0\n",
      "Trian : (1778, 861) (1778, 1)\n",
      "Valid : (198, 861) (198, 1)\n",
      "[100]\tvalid_0's rmse: 0.67413\n",
      "[200]\tvalid_0's rmse: 0.622085\n",
      "[300]\tvalid_0's rmse: 0.615227\n",
      "[400]\tvalid_0's rmse: 0.613909\n",
      "[500]\tvalid_0's rmse: 0.615187\n",
      "Fold RMSE Score :  0.6134918296949289\n",
      "==-==-==-==-==-==-==-==-==-==-==-==-==-==-==-==-==-==-==-==-==-==-==-==-==-==-==-==-==-==-==-==-==-==-==-==-==-==-==-==-==-==-==-==-==-==-==-==-==-==-\n",
      "Fold :  1\n",
      "Trian : (1778, 861) (1778, 1)\n",
      "Valid : (198, 861) (198, 1)\n",
      "[100]\tvalid_0's rmse: 0.686168\n",
      "[200]\tvalid_0's rmse: 0.609288\n",
      "[300]\tvalid_0's rmse: 0.595764\n",
      "[400]\tvalid_0's rmse: 0.595849\n",
      "[500]\tvalid_0's rmse: 0.597094\n",
      "Fold RMSE Score :  0.5937412596280938\n",
      "==-==-==-==-==-==-==-==-==-==-==-==-==-==-==-==-==-==-==-==-==-==-==-==-==-==-==-==-==-==-==-==-==-==-==-==-==-==-==-==-==-==-==-==-==-==-==-==-==-==-\n",
      "Fold :  2\n",
      "Trian : (1778, 861) (1778, 1)\n",
      "Valid : (198, 861) (198, 1)\n",
      "[100]\tvalid_0's rmse: 0.697786\n",
      "[200]\tvalid_0's rmse: 0.621732\n",
      "[300]\tvalid_0's rmse: 0.607699\n",
      "[400]\tvalid_0's rmse: 0.605541\n",
      "[500]\tvalid_0's rmse: 0.604474\n",
      "[600]\tvalid_0's rmse: 0.60383\n",
      "[700]\tvalid_0's rmse: 0.602103\n",
      "[800]\tvalid_0's rmse: 0.602628\n",
      "[900]\tvalid_0's rmse: 0.603351\n",
      "Fold RMSE Score :  0.6017807069138711\n",
      "==-==-==-==-==-==-==-==-==-==-==-==-==-==-==-==-==-==-==-==-==-==-==-==-==-==-==-==-==-==-==-==-==-==-==-==-==-==-==-==-==-==-==-==-==-==-==-==-==-==-\n",
      "Fold :  3\n",
      "Trian : (1778, 861) (1778, 1)\n",
      "Valid : (198, 861) (198, 1)\n",
      "[100]\tvalid_0's rmse: 0.658949\n",
      "[200]\tvalid_0's rmse: 0.599757\n",
      "[300]\tvalid_0's rmse: 0.588956\n",
      "[400]\tvalid_0's rmse: 0.589159\n",
      "[500]\tvalid_0's rmse: 0.590243\n",
      "Fold RMSE Score :  0.5884878434503098\n",
      "==-==-==-==-==-==-==-==-==-==-==-==-==-==-==-==-==-==-==-==-==-==-==-==-==-==-==-==-==-==-==-==-==-==-==-==-==-==-==-==-==-==-==-==-==-==-==-==-==-==-\n",
      "Fold :  4\n",
      "Trian : (1778, 861) (1778, 1)\n",
      "Valid : (198, 861) (198, 1)\n",
      "[100]\tvalid_0's rmse: 0.715545\n",
      "[200]\tvalid_0's rmse: 0.630567\n",
      "[300]\tvalid_0's rmse: 0.612926\n",
      "[400]\tvalid_0's rmse: 0.608254\n",
      "[500]\tvalid_0's rmse: 0.604014\n",
      "[600]\tvalid_0's rmse: 0.60162\n",
      "[700]\tvalid_0's rmse: 0.600925\n",
      "[800]\tvalid_0's rmse: 0.600173\n",
      "[900]\tvalid_0's rmse: 0.599541\n",
      "[1000]\tvalid_0's rmse: 0.600477\n",
      "[1100]\tvalid_0's rmse: 0.600693\n",
      "Fold RMSE Score :  0.5993277249794733\n",
      "==-==-==-==-==-==-==-==-==-==-==-==-==-==-==-==-==-==-==-==-==-==-==-==-==-==-==-==-==-==-==-==-==-==-==-==-==-==-==-==-==-==-==-==-==-==-==-==-==-==-\n",
      "Fold :  5\n",
      "Trian : (1778, 861) (1778, 1)\n",
      "Valid : (198, 861) (198, 1)\n",
      "[100]\tvalid_0's rmse: 0.676089\n",
      "[200]\tvalid_0's rmse: 0.616286\n",
      "[300]\tvalid_0's rmse: 0.604659\n",
      "[400]\tvalid_0's rmse: 0.601699\n",
      "[500]\tvalid_0's rmse: 0.600262\n",
      "[600]\tvalid_0's rmse: 0.598137\n",
      "[700]\tvalid_0's rmse: 0.599516\n",
      "Fold RMSE Score :  0.5979401867713491\n",
      "==-==-==-==-==-==-==-==-==-==-==-==-==-==-==-==-==-==-==-==-==-==-==-==-==-==-==-==-==-==-==-==-==-==-==-==-==-==-==-==-==-==-==-==-==-==-==-==-==-==-\n",
      "Fold :  6\n",
      "Trian : (1779, 861) (1779, 1)\n",
      "Valid : (197, 861) (197, 1)\n",
      "[100]\tvalid_0's rmse: 0.688122\n",
      "[200]\tvalid_0's rmse: 0.643309\n",
      "[300]\tvalid_0's rmse: 0.635641\n",
      "[400]\tvalid_0's rmse: 0.635132\n",
      "[500]\tvalid_0's rmse: 0.635329\n",
      "[600]\tvalid_0's rmse: 0.635447\n",
      "[700]\tvalid_0's rmse: 0.635952\n",
      "Fold RMSE Score :  0.6340044481445549\n",
      "==-==-==-==-==-==-==-==-==-==-==-==-==-==-==-==-==-==-==-==-==-==-==-==-==-==-==-==-==-==-==-==-==-==-==-==-==-==-==-==-==-==-==-==-==-==-==-==-==-==-\n",
      "Fold :  7\n",
      "Trian : (1779, 861) (1779, 1)\n",
      "Valid : (197, 861) (197, 1)\n",
      "[100]\tvalid_0's rmse: 0.636088\n",
      "[200]\tvalid_0's rmse: 0.560334\n",
      "[300]\tvalid_0's rmse: 0.542661\n",
      "[400]\tvalid_0's rmse: 0.535584\n",
      "[500]\tvalid_0's rmse: 0.534161\n",
      "[600]\tvalid_0's rmse: 0.53334\n",
      "[700]\tvalid_0's rmse: 0.53272\n",
      "[800]\tvalid_0's rmse: 0.532153\n",
      "[900]\tvalid_0's rmse: 0.532577\n",
      "[1000]\tvalid_0's rmse: 0.531971\n",
      "[1100]\tvalid_0's rmse: 0.531639\n",
      "[1200]\tvalid_0's rmse: 0.532174\n",
      "Fold RMSE Score :  0.5313283938026057\n",
      "==-==-==-==-==-==-==-==-==-==-==-==-==-==-==-==-==-==-==-==-==-==-==-==-==-==-==-==-==-==-==-==-==-==-==-==-==-==-==-==-==-==-==-==-==-==-==-==-==-==-\n",
      "Fold :  8\n",
      "Trian : (1779, 861) (1779, 1)\n",
      "Valid : (197, 861) (197, 1)\n",
      "[100]\tvalid_0's rmse: 0.64235\n",
      "[200]\tvalid_0's rmse: 0.585051\n",
      "[300]\tvalid_0's rmse: 0.574407\n",
      "[400]\tvalid_0's rmse: 0.573866\n",
      "[500]\tvalid_0's rmse: 0.573851\n",
      "Fold RMSE Score :  0.5729878066842985\n",
      "==-==-==-==-==-==-==-==-==-==-==-==-==-==-==-==-==-==-==-==-==-==-==-==-==-==-==-==-==-==-==-==-==-==-==-==-==-==-==-==-==-==-==-==-==-==-==-==-==-==-\n",
      "Fold :  9\n",
      "Trian : (1779, 861) (1779, 1)\n",
      "Valid : (197, 861) (197, 1)\n",
      "[100]\tvalid_0's rmse: 0.710403\n",
      "[200]\tvalid_0's rmse: 0.664971\n",
      "[300]\tvalid_0's rmse: 0.654742\n",
      "[400]\tvalid_0's rmse: 0.651038\n",
      "[500]\tvalid_0's rmse: 0.652288\n",
      "[600]\tvalid_0's rmse: 0.654509\n",
      "Fold RMSE Score :  0.6504377755808963\n",
      "OOF RMSE Score :  0.5991445655725915\n",
      "==-==-==-==-==-==-==-==-==-==-==-==-==-==-==-==-==-==-==-==-==-==-==-==-==-==-==-==-==-==-==-==-==-==-==-==-==-==-==-==-==-==-==-==-==-==-==-==-==-==-\n",
      "Fold :  0\n",
      "Trian : (1778, 861) (1778, 1)\n",
      "Valid : (198, 861) (198, 1)\n",
      "[100]\tvalid_0's rmse: 0.601392\n",
      "[200]\tvalid_0's rmse: 0.545164\n",
      "[300]\tvalid_0's rmse: 0.531224\n",
      "[400]\tvalid_0's rmse: 0.524625\n",
      "[500]\tvalid_0's rmse: 0.520154\n",
      "[600]\tvalid_0's rmse: 0.519204\n",
      "[700]\tvalid_0's rmse: 0.518774\n",
      "Fold RMSE Score :  0.5176810574253488\n",
      "==-==-==-==-==-==-==-==-==-==-==-==-==-==-==-==-==-==-==-==-==-==-==-==-==-==-==-==-==-==-==-==-==-==-==-==-==-==-==-==-==-==-==-==-==-==-==-==-==-==-\n",
      "Fold :  1\n",
      "Trian : (1778, 861) (1778, 1)\n",
      "Valid : (198, 861) (198, 1)\n",
      "[100]\tvalid_0's rmse: 0.633273\n",
      "[200]\tvalid_0's rmse: 0.574981\n",
      "[300]\tvalid_0's rmse: 0.567987\n",
      "[400]\tvalid_0's rmse: 0.567426\n",
      "[500]\tvalid_0's rmse: 0.56685\n",
      "[600]\tvalid_0's rmse: 0.569201\n",
      "Fold RMSE Score :  0.5659099582396151\n",
      "==-==-==-==-==-==-==-==-==-==-==-==-==-==-==-==-==-==-==-==-==-==-==-==-==-==-==-==-==-==-==-==-==-==-==-==-==-==-==-==-==-==-==-==-==-==-==-==-==-==-\n",
      "Fold :  2\n",
      "Trian : (1778, 861) (1778, 1)\n",
      "Valid : (198, 861) (198, 1)\n",
      "[100]\tvalid_0's rmse: 0.694183\n",
      "[200]\tvalid_0's rmse: 0.625061\n",
      "[300]\tvalid_0's rmse: 0.607926\n",
      "[400]\tvalid_0's rmse: 0.603038\n",
      "[500]\tvalid_0's rmse: 0.602088\n",
      "[600]\tvalid_0's rmse: 0.6035\n",
      "[700]\tvalid_0's rmse: 0.604378\n",
      "Fold RMSE Score :  0.6016039613979994\n",
      "==-==-==-==-==-==-==-==-==-==-==-==-==-==-==-==-==-==-==-==-==-==-==-==-==-==-==-==-==-==-==-==-==-==-==-==-==-==-==-==-==-==-==-==-==-==-==-==-==-==-\n",
      "Fold :  3\n",
      "Trian : (1778, 861) (1778, 1)\n",
      "Valid : (198, 861) (198, 1)\n",
      "[100]\tvalid_0's rmse: 0.653814\n",
      "[200]\tvalid_0's rmse: 0.60567\n",
      "[300]\tvalid_0's rmse: 0.593951\n",
      "[400]\tvalid_0's rmse: 0.592166\n",
      "[500]\tvalid_0's rmse: 0.591111\n",
      "[600]\tvalid_0's rmse: 0.591928\n",
      "[700]\tvalid_0's rmse: 0.589531\n",
      "[800]\tvalid_0's rmse: 0.590273\n",
      "[900]\tvalid_0's rmse: 0.59156\n",
      "Fold RMSE Score :  0.5894906207373265\n",
      "==-==-==-==-==-==-==-==-==-==-==-==-==-==-==-==-==-==-==-==-==-==-==-==-==-==-==-==-==-==-==-==-==-==-==-==-==-==-==-==-==-==-==-==-==-==-==-==-==-==-\n",
      "Fold :  4\n",
      "Trian : (1778, 861) (1778, 1)\n",
      "Valid : (198, 861) (198, 1)\n",
      "[100]\tvalid_0's rmse: 0.779798\n",
      "[200]\tvalid_0's rmse: 0.701527\n",
      "[300]\tvalid_0's rmse: 0.68236\n",
      "[400]\tvalid_0's rmse: 0.675422\n",
      "[500]\tvalid_0's rmse: 0.674681\n",
      "[600]\tvalid_0's rmse: 0.673402\n",
      "[700]\tvalid_0's rmse: 0.674134\n",
      "[800]\tvalid_0's rmse: 0.674712\n",
      "Fold RMSE Score :  0.6730893224086334\n",
      "==-==-==-==-==-==-==-==-==-==-==-==-==-==-==-==-==-==-==-==-==-==-==-==-==-==-==-==-==-==-==-==-==-==-==-==-==-==-==-==-==-==-==-==-==-==-==-==-==-==-\n",
      "Fold :  5\n",
      "Trian : (1778, 861) (1778, 1)\n",
      "Valid : (198, 861) (198, 1)\n",
      "[100]\tvalid_0's rmse: 0.711903\n",
      "[200]\tvalid_0's rmse: 0.627591\n",
      "[300]\tvalid_0's rmse: 0.61251\n",
      "[400]\tvalid_0's rmse: 0.610452\n",
      "[500]\tvalid_0's rmse: 0.608834\n",
      "[600]\tvalid_0's rmse: 0.608573\n",
      "[700]\tvalid_0's rmse: 0.607723\n",
      "[800]\tvalid_0's rmse: 0.610455\n",
      "Fold RMSE Score :  0.6076224505526153\n",
      "==-==-==-==-==-==-==-==-==-==-==-==-==-==-==-==-==-==-==-==-==-==-==-==-==-==-==-==-==-==-==-==-==-==-==-==-==-==-==-==-==-==-==-==-==-==-==-==-==-==-\n",
      "Fold :  6\n",
      "Trian : (1779, 861) (1779, 1)\n",
      "Valid : (197, 861) (197, 1)\n",
      "[100]\tvalid_0's rmse: 0.712061\n",
      "[200]\tvalid_0's rmse: 0.641595\n",
      "[300]\tvalid_0's rmse: 0.629496\n",
      "[400]\tvalid_0's rmse: 0.625128\n",
      "[500]\tvalid_0's rmse: 0.626203\n",
      "[600]\tvalid_0's rmse: 0.628323\n",
      "Fold RMSE Score :  0.6247714825251126\n",
      "==-==-==-==-==-==-==-==-==-==-==-==-==-==-==-==-==-==-==-==-==-==-==-==-==-==-==-==-==-==-==-==-==-==-==-==-==-==-==-==-==-==-==-==-==-==-==-==-==-==-\n",
      "Fold :  7\n",
      "Trian : (1779, 861) (1779, 1)\n",
      "Valid : (197, 861) (197, 1)\n",
      "[100]\tvalid_0's rmse: 0.653379\n",
      "[200]\tvalid_0's rmse: 0.591826\n",
      "[300]\tvalid_0's rmse: 0.576132\n",
      "[400]\tvalid_0's rmse: 0.573119\n",
      "[500]\tvalid_0's rmse: 0.570666\n",
      "[600]\tvalid_0's rmse: 0.568623\n",
      "[700]\tvalid_0's rmse: 0.569933\n",
      "[800]\tvalid_0's rmse: 0.572011\n",
      "Fold RMSE Score :  0.5684032226752106\n",
      "==-==-==-==-==-==-==-==-==-==-==-==-==-==-==-==-==-==-==-==-==-==-==-==-==-==-==-==-==-==-==-==-==-==-==-==-==-==-==-==-==-==-==-==-==-==-==-==-==-==-\n",
      "Fold :  8\n",
      "Trian : (1779, 861) (1779, 1)\n",
      "Valid : (197, 861) (197, 1)\n",
      "[100]\tvalid_0's rmse: 0.701284\n",
      "[200]\tvalid_0's rmse: 0.642958\n",
      "[300]\tvalid_0's rmse: 0.630209\n",
      "[400]\tvalid_0's rmse: 0.623622\n",
      "[500]\tvalid_0's rmse: 0.620667\n",
      "[600]\tvalid_0's rmse: 0.6183\n",
      "[700]\tvalid_0's rmse: 0.617374\n",
      "[800]\tvalid_0's rmse: 0.616387\n",
      "[900]\tvalid_0's rmse: 0.61601\n",
      "[1000]\tvalid_0's rmse: 0.615658\n",
      "Fold RMSE Score :  0.6152020565816074\n",
      "==-==-==-==-==-==-==-==-==-==-==-==-==-==-==-==-==-==-==-==-==-==-==-==-==-==-==-==-==-==-==-==-==-==-==-==-==-==-==-==-==-==-==-==-==-==-==-==-==-==-\n",
      "Fold :  9\n",
      "Trian : (1779, 861) (1779, 1)\n",
      "Valid : (197, 861) (197, 1)\n",
      "[100]\tvalid_0's rmse: 0.645568\n",
      "[200]\tvalid_0's rmse: 0.592302\n",
      "[300]\tvalid_0's rmse: 0.588515\n",
      "[400]\tvalid_0's rmse: 0.59074\n",
      "Fold RMSE Score :  0.5878318877799047\n",
      "OOF RMSE Score :  0.596430778440131\n",
      "==-==-==-==-==-==-==-==-==-==-==-==-==-==-==-==-==-==-==-==-==-==-==-==-==-==-==-==-==-==-==-==-==-==-==-==-==-==-==-==-==-==-==-==-==-==-==-==-==-==-\n",
      "Fold :  0\n",
      "Trian : (1778, 861) (1778, 1)\n",
      "Valid : (198, 861) (198, 1)\n",
      "[100]\tvalid_0's rmse: 0.695878\n",
      "[200]\tvalid_0's rmse: 0.634232\n",
      "[300]\tvalid_0's rmse: 0.629196\n",
      "[400]\tvalid_0's rmse: 0.627562\n",
      "[500]\tvalid_0's rmse: 0.632746\n",
      "Fold RMSE Score :  0.6268796221464499\n",
      "==-==-==-==-==-==-==-==-==-==-==-==-==-==-==-==-==-==-==-==-==-==-==-==-==-==-==-==-==-==-==-==-==-==-==-==-==-==-==-==-==-==-==-==-==-==-==-==-==-==-\n",
      "Fold :  1\n",
      "Trian : (1778, 861) (1778, 1)\n",
      "Valid : (198, 861) (198, 1)\n",
      "[100]\tvalid_0's rmse: 0.652007\n",
      "[200]\tvalid_0's rmse: 0.597162\n",
      "[300]\tvalid_0's rmse: 0.584228\n",
      "[400]\tvalid_0's rmse: 0.581789\n",
      "[500]\tvalid_0's rmse: 0.580458\n",
      "[600]\tvalid_0's rmse: 0.580395\n",
      "[700]\tvalid_0's rmse: 0.581039\n",
      "[800]\tvalid_0's rmse: 0.58293\n",
      "Fold RMSE Score :  0.579759540382621\n",
      "==-==-==-==-==-==-==-==-==-==-==-==-==-==-==-==-==-==-==-==-==-==-==-==-==-==-==-==-==-==-==-==-==-==-==-==-==-==-==-==-==-==-==-==-==-==-==-==-==-==-\n",
      "Fold :  2\n",
      "Trian : (1778, 861) (1778, 1)\n",
      "Valid : (198, 861) (198, 1)\n",
      "[100]\tvalid_0's rmse: 0.678103\n",
      "[200]\tvalid_0's rmse: 0.610938\n",
      "[300]\tvalid_0's rmse: 0.595671\n",
      "[400]\tvalid_0's rmse: 0.592907\n",
      "[500]\tvalid_0's rmse: 0.594463\n",
      "Fold RMSE Score :  0.5917387873442519\n",
      "==-==-==-==-==-==-==-==-==-==-==-==-==-==-==-==-==-==-==-==-==-==-==-==-==-==-==-==-==-==-==-==-==-==-==-==-==-==-==-==-==-==-==-==-==-==-==-==-==-==-\n",
      "Fold :  3\n",
      "Trian : (1778, 861) (1778, 1)\n",
      "Valid : (198, 861) (198, 1)\n",
      "[100]\tvalid_0's rmse: 0.653359\n",
      "[200]\tvalid_0's rmse: 0.596139\n",
      "[300]\tvalid_0's rmse: 0.579008\n",
      "[400]\tvalid_0's rmse: 0.570308\n",
      "[500]\tvalid_0's rmse: 0.566222\n",
      "[600]\tvalid_0's rmse: 0.563523\n",
      "[700]\tvalid_0's rmse: 0.562411\n",
      "[800]\tvalid_0's rmse: 0.56076\n",
      "[900]\tvalid_0's rmse: 0.560287\n",
      "[1000]\tvalid_0's rmse: 0.560602\n",
      "[1100]\tvalid_0's rmse: 0.560691\n",
      "[1200]\tvalid_0's rmse: 0.560984\n",
      "Fold RMSE Score :  0.5600744031156125\n",
      "==-==-==-==-==-==-==-==-==-==-==-==-==-==-==-==-==-==-==-==-==-==-==-==-==-==-==-==-==-==-==-==-==-==-==-==-==-==-==-==-==-==-==-==-==-==-==-==-==-==-\n",
      "Fold :  4\n",
      "Trian : (1778, 861) (1778, 1)\n",
      "Valid : (198, 861) (198, 1)\n",
      "[100]\tvalid_0's rmse: 0.665927\n",
      "[200]\tvalid_0's rmse: 0.606594\n",
      "[300]\tvalid_0's rmse: 0.596692\n",
      "[400]\tvalid_0's rmse: 0.59591\n",
      "[500]\tvalid_0's rmse: 0.595648\n",
      "[600]\tvalid_0's rmse: 0.595901\n",
      "Fold RMSE Score :  0.594728063811866\n",
      "==-==-==-==-==-==-==-==-==-==-==-==-==-==-==-==-==-==-==-==-==-==-==-==-==-==-==-==-==-==-==-==-==-==-==-==-==-==-==-==-==-==-==-==-==-==-==-==-==-==-\n",
      "Fold :  5\n",
      "Trian : (1778, 861) (1778, 1)\n",
      "Valid : (198, 861) (198, 1)\n",
      "[100]\tvalid_0's rmse: 0.662019\n",
      "[200]\tvalid_0's rmse: 0.614821\n",
      "[300]\tvalid_0's rmse: 0.608459\n",
      "[400]\tvalid_0's rmse: 0.60493\n",
      "[500]\tvalid_0's rmse: 0.604634\n",
      "[600]\tvalid_0's rmse: 0.604984\n",
      "[700]\tvalid_0's rmse: 0.60454\n",
      "Fold RMSE Score :  0.6041013931951063\n",
      "==-==-==-==-==-==-==-==-==-==-==-==-==-==-==-==-==-==-==-==-==-==-==-==-==-==-==-==-==-==-==-==-==-==-==-==-==-==-==-==-==-==-==-==-==-==-==-==-==-==-\n",
      "Fold :  6\n",
      "Trian : (1779, 861) (1779, 1)\n",
      "Valid : (197, 861) (197, 1)\n",
      "[100]\tvalid_0's rmse: 0.700558\n",
      "[200]\tvalid_0's rmse: 0.643178\n",
      "[300]\tvalid_0's rmse: 0.638971\n",
      "[400]\tvalid_0's rmse: 0.636164\n",
      "[500]\tvalid_0's rmse: 0.638502\n",
      "[600]\tvalid_0's rmse: 0.637202\n",
      "Fold RMSE Score :  0.6359907790712909\n",
      "==-==-==-==-==-==-==-==-==-==-==-==-==-==-==-==-==-==-==-==-==-==-==-==-==-==-==-==-==-==-==-==-==-==-==-==-==-==-==-==-==-==-==-==-==-==-==-==-==-==-\n",
      "Fold :  7\n",
      "Trian : (1779, 861) (1779, 1)\n",
      "Valid : (197, 861) (197, 1)\n",
      "[100]\tvalid_0's rmse: 0.659258\n",
      "[200]\tvalid_0's rmse: 0.602783\n",
      "[300]\tvalid_0's rmse: 0.59021\n",
      "[400]\tvalid_0's rmse: 0.588376\n",
      "[500]\tvalid_0's rmse: 0.58576\n",
      "[600]\tvalid_0's rmse: 0.584849\n",
      "[700]\tvalid_0's rmse: 0.585099\n",
      "[800]\tvalid_0's rmse: 0.58538\n",
      "[900]\tvalid_0's rmse: 0.586777\n",
      "Fold RMSE Score :  0.5843159828116227\n",
      "==-==-==-==-==-==-==-==-==-==-==-==-==-==-==-==-==-==-==-==-==-==-==-==-==-==-==-==-==-==-==-==-==-==-==-==-==-==-==-==-==-==-==-==-==-==-==-==-==-==-\n",
      "Fold :  8\n",
      "Trian : (1779, 861) (1779, 1)\n",
      "Valid : (197, 861) (197, 1)\n",
      "[100]\tvalid_0's rmse: 0.741115\n",
      "[200]\tvalid_0's rmse: 0.669701\n",
      "[300]\tvalid_0's rmse: 0.654473\n",
      "[400]\tvalid_0's rmse: 0.652778\n",
      "[500]\tvalid_0's rmse: 0.649341\n",
      "[600]\tvalid_0's rmse: 0.649596\n",
      "[700]\tvalid_0's rmse: 0.650304\n",
      "Fold RMSE Score :  0.6486187201213935\n",
      "==-==-==-==-==-==-==-==-==-==-==-==-==-==-==-==-==-==-==-==-==-==-==-==-==-==-==-==-==-==-==-==-==-==-==-==-==-==-==-==-==-==-==-==-==-==-==-==-==-==-\n",
      "Fold :  9\n",
      "Trian : (1779, 861) (1779, 1)\n",
      "Valid : (197, 861) (197, 1)\n",
      "[100]\tvalid_0's rmse: 0.690331\n",
      "[200]\tvalid_0's rmse: 0.612352\n",
      "[300]\tvalid_0's rmse: 0.598137\n",
      "[400]\tvalid_0's rmse: 0.59668\n",
      "[500]\tvalid_0's rmse: 0.597825\n",
      "[600]\tvalid_0's rmse: 0.59929\n",
      "Fold RMSE Score :  0.5962219541284699\n",
      "OOF RMSE Score :  0.6027707920497625\n",
      "==-==-==-==-==-==-==-==-==-==-==-==-==-==-==-==-==-==-==-==-==-==-==-==-==-==-==-==-==-==-==-==-==-==-==-==-==-==-==-==-==-==-==-==-==-==-==-==-==-==-\n",
      "Fold :  0\n",
      "Trian : (1778, 861) (1778, 1)\n",
      "Valid : (198, 861) (198, 1)\n",
      "[100]\tvalid_0's rmse: 0.66902\n",
      "[200]\tvalid_0's rmse: 0.619985\n",
      "[300]\tvalid_0's rmse: 0.616153\n",
      "[400]\tvalid_0's rmse: 0.619201\n",
      "[500]\tvalid_0's rmse: 0.621944\n",
      "Fold RMSE Score :  0.6158586392366677\n",
      "==-==-==-==-==-==-==-==-==-==-==-==-==-==-==-==-==-==-==-==-==-==-==-==-==-==-==-==-==-==-==-==-==-==-==-==-==-==-==-==-==-==-==-==-==-==-==-==-==-==-\n",
      "Fold :  1\n",
      "Trian : (1778, 861) (1778, 1)\n",
      "Valid : (198, 861) (198, 1)\n",
      "[100]\tvalid_0's rmse: 0.615012\n",
      "[200]\tvalid_0's rmse: 0.567747\n",
      "[300]\tvalid_0's rmse: 0.562379\n",
      "[400]\tvalid_0's rmse: 0.559884\n",
      "[500]\tvalid_0's rmse: 0.559901\n",
      "[600]\tvalid_0's rmse: 0.559801\n",
      "[700]\tvalid_0's rmse: 0.560107\n",
      "Fold RMSE Score :  0.5594507927288638\n",
      "==-==-==-==-==-==-==-==-==-==-==-==-==-==-==-==-==-==-==-==-==-==-==-==-==-==-==-==-==-==-==-==-==-==-==-==-==-==-==-==-==-==-==-==-==-==-==-==-==-==-\n",
      "Fold :  2\n",
      "Trian : (1778, 861) (1778, 1)\n",
      "Valid : (198, 861) (198, 1)\n",
      "[100]\tvalid_0's rmse: 0.667927\n",
      "[200]\tvalid_0's rmse: 0.598278\n",
      "[300]\tvalid_0's rmse: 0.590555\n",
      "[400]\tvalid_0's rmse: 0.59006\n",
      "[500]\tvalid_0's rmse: 0.591637\n",
      "Fold RMSE Score :  0.5891257755439966\n",
      "==-==-==-==-==-==-==-==-==-==-==-==-==-==-==-==-==-==-==-==-==-==-==-==-==-==-==-==-==-==-==-==-==-==-==-==-==-==-==-==-==-==-==-==-==-==-==-==-==-==-\n",
      "Fold :  3\n",
      "Trian : (1778, 861) (1778, 1)\n",
      "Valid : (198, 861) (198, 1)\n",
      "[100]\tvalid_0's rmse: 0.710924\n",
      "[200]\tvalid_0's rmse: 0.646947\n",
      "[300]\tvalid_0's rmse: 0.628174\n",
      "[400]\tvalid_0's rmse: 0.621487\n",
      "[500]\tvalid_0's rmse: 0.616581\n",
      "[600]\tvalid_0's rmse: 0.614529\n",
      "[700]\tvalid_0's rmse: 0.611504\n",
      "[800]\tvalid_0's rmse: 0.61244\n",
      "[900]\tvalid_0's rmse: 0.611609\n",
      "[1000]\tvalid_0's rmse: 0.612411\n",
      "Fold RMSE Score :  0.6112288320255144\n",
      "==-==-==-==-==-==-==-==-==-==-==-==-==-==-==-==-==-==-==-==-==-==-==-==-==-==-==-==-==-==-==-==-==-==-==-==-==-==-==-==-==-==-==-==-==-==-==-==-==-==-\n",
      "Fold :  4\n",
      "Trian : (1778, 861) (1778, 1)\n",
      "Valid : (198, 861) (198, 1)\n",
      "[100]\tvalid_0's rmse: 0.672806\n",
      "[200]\tvalid_0's rmse: 0.590893\n",
      "[300]\tvalid_0's rmse: 0.573726\n",
      "[400]\tvalid_0's rmse: 0.570743\n",
      "[500]\tvalid_0's rmse: 0.571737\n",
      "[600]\tvalid_0's rmse: 0.57109\n",
      "[700]\tvalid_0's rmse: 0.571536\n",
      "Fold RMSE Score :  0.570294990885534\n",
      "==-==-==-==-==-==-==-==-==-==-==-==-==-==-==-==-==-==-==-==-==-==-==-==-==-==-==-==-==-==-==-==-==-==-==-==-==-==-==-==-==-==-==-==-==-==-==-==-==-==-\n",
      "Fold :  5\n",
      "Trian : (1778, 861) (1778, 1)\n",
      "Valid : (198, 861) (198, 1)\n",
      "[100]\tvalid_0's rmse: 0.657655\n",
      "[200]\tvalid_0's rmse: 0.604688\n",
      "[300]\tvalid_0's rmse: 0.5925\n",
      "[400]\tvalid_0's rmse: 0.592776\n",
      "[500]\tvalid_0's rmse: 0.592298\n",
      "[600]\tvalid_0's rmse: 0.591918\n",
      "[700]\tvalid_0's rmse: 0.593713\n",
      "Fold RMSE Score :  0.5908989358260934\n",
      "==-==-==-==-==-==-==-==-==-==-==-==-==-==-==-==-==-==-==-==-==-==-==-==-==-==-==-==-==-==-==-==-==-==-==-==-==-==-==-==-==-==-==-==-==-==-==-==-==-==-\n",
      "Fold :  6\n",
      "Trian : (1779, 861) (1779, 1)\n",
      "Valid : (197, 861) (197, 1)\n",
      "[100]\tvalid_0's rmse: 0.629054\n",
      "[200]\tvalid_0's rmse: 0.55626\n",
      "[300]\tvalid_0's rmse: 0.539737\n",
      "[400]\tvalid_0's rmse: 0.535226\n",
      "[500]\tvalid_0's rmse: 0.53236\n",
      "[600]\tvalid_0's rmse: 0.53198\n",
      "[700]\tvalid_0's rmse: 0.533596\n",
      "Fold RMSE Score :  0.531618173436187\n",
      "==-==-==-==-==-==-==-==-==-==-==-==-==-==-==-==-==-==-==-==-==-==-==-==-==-==-==-==-==-==-==-==-==-==-==-==-==-==-==-==-==-==-==-==-==-==-==-==-==-==-\n",
      "Fold :  7\n",
      "Trian : (1779, 861) (1779, 1)\n",
      "Valid : (197, 861) (197, 1)\n",
      "[100]\tvalid_0's rmse: 0.706298\n",
      "[200]\tvalid_0's rmse: 0.656725\n",
      "[300]\tvalid_0's rmse: 0.646286\n",
      "[400]\tvalid_0's rmse: 0.64508\n",
      "[500]\tvalid_0's rmse: 0.643678\n",
      "[600]\tvalid_0's rmse: 0.642305\n",
      "[700]\tvalid_0's rmse: 0.643866\n",
      "Fold RMSE Score :  0.6415621532464678\n",
      "==-==-==-==-==-==-==-==-==-==-==-==-==-==-==-==-==-==-==-==-==-==-==-==-==-==-==-==-==-==-==-==-==-==-==-==-==-==-==-==-==-==-==-==-==-==-==-==-==-==-\n",
      "Fold :  8\n",
      "Trian : (1779, 861) (1779, 1)\n",
      "Valid : (197, 861) (197, 1)\n",
      "[100]\tvalid_0's rmse: 0.799042\n",
      "[200]\tvalid_0's rmse: 0.724453\n",
      "[300]\tvalid_0's rmse: 0.702884\n",
      "[400]\tvalid_0's rmse: 0.696968\n",
      "[500]\tvalid_0's rmse: 0.696794\n",
      "[600]\tvalid_0's rmse: 0.697918\n",
      "[700]\tvalid_0's rmse: 0.697317\n",
      "Fold RMSE Score :  0.6958590483270055\n",
      "==-==-==-==-==-==-==-==-==-==-==-==-==-==-==-==-==-==-==-==-==-==-==-==-==-==-==-==-==-==-==-==-==-==-==-==-==-==-==-==-==-==-==-==-==-==-==-==-==-==-\n",
      "Fold :  9\n",
      "Trian : (1779, 861) (1779, 1)\n",
      "Valid : (197, 861) (197, 1)\n",
      "[100]\tvalid_0's rmse: 0.655695\n",
      "[200]\tvalid_0's rmse: 0.60118\n",
      "[300]\tvalid_0's rmse: 0.588863\n",
      "[400]\tvalid_0's rmse: 0.585032\n",
      "[500]\tvalid_0's rmse: 0.583776\n",
      "[600]\tvalid_0's rmse: 0.582673\n",
      "[700]\tvalid_0's rmse: 0.580521\n",
      "[800]\tvalid_0's rmse: 0.582337\n",
      "Fold RMSE Score :  0.580265376366171\n",
      "OOF RMSE Score :  0.6001755718982043\n"
     ]
    }
   ],
   "source": [
    "models_dict = {}\n",
    "scores = []\n",
    "\n",
    "test_predict_list = []\n",
    "# best_params = {\n",
    "#     \"reg_alpha\": 0.003188447814669599,\n",
    "#     \"reg_lambda\": 0.0010228604507564066,\n",
    "#     \"feature_fraction\": 0.8,\n",
    "#     \"bagging_fraction\": 0.75,\n",
    "#     \"learning_rate\": 0.01716485155812008,\n",
    "#     \"num_leaves\": 19,\n",
    "#     # \"max_depth\": 41,\n",
    "#     \"min_child_samples\": 46,\n",
    "# }\n",
    "\n",
    "# best_params = {\n",
    "#     \"reg_alpha\": 0.006207770393726873,\n",
    "#     \"reg_lambda\": 0.0030941407353811015,\n",
    "#     \"feature_fraction\": 0.502402121779547,\n",
    "#     \"bagging_fraction\": 0.8256265305250075,\n",
    "#     \"learning_rate\": 0.013317073923676816,\n",
    "#     \"num_leaves\": 8,\n",
    "#     \"min_child_samples\": 16,\n",
    "# }\n",
    "\n",
    "best_params = {\n",
    "    \"reg_alpha\": 0.05924802200631763,\n",
    "    \"reg_lambda\": 0.0023346433510371923,\n",
    "    \"feature_fraction\": 0.5569998490351998,\n",
    "    \"bagging_fraction\": 0.6262979921849824,\n",
    "    \"learning_rate\": 0.01180328936041837,\n",
    "    \"num_leaves\": 86,\n",
    "    \"min_child_samples\": 56,\n",
    "}\n",
    "\n",
    "# best_params[\"verbose\"] = -1\n",
    "# best_params[\"early_stopping_rounds\"] = cnfg.num_trials_early_stopping\n",
    "\n",
    "print(best_params)\n",
    "\n",
    "for i in range(5):\n",
    "    kf = model_selection.KFold(\n",
    "        n_splits=cnfg.num_folds, random_state=cnfg.seed + i, shuffle=True\n",
    "    )\n",
    "\n",
    "    oof_valid_preds = np.zeros(\n",
    "        train_feats.shape[0],\n",
    "    )\n",
    "\n",
    "    X_test = test_feats[train_cols]\n",
    "\n",
    "    for fold, (train_idx, valid_idx) in enumerate(kf.split(train_feats)):\n",
    "        print(\"==-\" * 50)\n",
    "        print(\"Fold : \", fold)\n",
    "\n",
    "        X_train, y_train = (\n",
    "            train_feats.iloc[train_idx][train_cols],\n",
    "            train_feats.iloc[train_idx][target_col],\n",
    "        )\n",
    "        X_valid, y_valid = (\n",
    "            train_feats.iloc[valid_idx][train_cols],\n",
    "            train_feats.iloc[valid_idx][target_col],\n",
    "        )\n",
    "\n",
    "        print(\"Trian :\", X_train.shape, y_train.shape)\n",
    "        print(\"Valid :\", X_valid.shape, y_valid.shape)\n",
    "\n",
    "        params = {\n",
    "            \"objective\": \"regression\",\n",
    "            \"boosting_type\": \"gbdt\",\n",
    "            \"metric\": \"rmse\",\n",
    "            # \"device_type\": \"gpu\",\n",
    "            \"verbosity\": -1,\n",
    "            \"bagging_freq\": 1,\n",
    "            \"random_state\": cnfg.seed,\n",
    "            \"n_estimators\": cnfg.num_estimators,\n",
    "            **best_params,\n",
    "        }\n",
    "\n",
    "        model = lgb.LGBMRegressor(**params)\n",
    "\n",
    "        early_stopping_callback = lgb.early_stopping(\n",
    "            cnfg.num_trials_early_stopping, first_metric_only=True, verbose=False\n",
    "        )\n",
    "        verbose_callback = lgb.log_evaluation(100)\n",
    "\n",
    "        model.fit(\n",
    "            X_train,\n",
    "            y_train,\n",
    "            eval_set=[(X_valid, y_valid)],\n",
    "            callbacks=[early_stopping_callback, verbose_callback],\n",
    "        )\n",
    "\n",
    "        valid_predict = model.predict(X_valid)\n",
    "        oof_valid_preds[valid_idx] = valid_predict\n",
    "\n",
    "        test_predict = model.predict(X_test)\n",
    "        test_predict_list.append(test_predict)\n",
    "\n",
    "        score = metrics.mean_squared_error(y_valid, valid_predict, squared=False)\n",
    "        print(\"Fold RMSE Score : \", score)\n",
    "\n",
    "        models_dict[f\"{fold}_{i}\"] = model\n",
    "\n",
    "    oof_score = metrics.mean_squared_error(\n",
    "        train_feats[target_col], oof_valid_preds, squared=False\n",
    "    )\n",
    "    scores.append(oof_score)\n",
    "    print(\"OOF RMSE Score : \", oof_score)"
   ]
  },
  {
   "cell_type": "markdown",
   "id": "0223fa35-e6d2-4d43-9b93-fcea2fd4d046",
   "metadata": {
    "papermill": {
     "duration": 0.023331,
     "end_time": "2023-10-24T19:16:05.973301",
     "exception": false,
     "start_time": "2023-10-24T19:16:05.949970",
     "status": "completed"
    },
    "tags": []
   },
   "source": [
    "# Mean Feature Importances OF LGBM Models"
   ]
  },
  {
   "cell_type": "code",
   "execution_count": 93,
   "id": "3ebdd9d0-d680-4236-9844-bb30dfd6b5c7",
   "metadata": {
    "execution": {
     "iopub.execute_input": "2023-11-25T18:12:40.524760Z",
     "iopub.status.busy": "2023-11-25T18:12:40.524340Z",
     "iopub.status.idle": "2023-11-25T18:12:40.535851Z",
     "shell.execute_reply": "2023-11-25T18:12:40.535265Z",
     "shell.execute_reply.started": "2023-11-25T18:12:40.524736Z"
    },
    "papermill": {
     "duration": 0.045557,
     "end_time": "2023-10-24T19:16:06.042601",
     "exception": false,
     "start_time": "2023-10-24T19:16:05.997044",
     "status": "completed"
    },
    "tags": []
   },
   "outputs": [],
   "source": [
    "feature_importances_values = np.asarray(\n",
    "    [model.feature_importances_ for model in models_dict.values()]\n",
    ").mean(axis=0)\n",
    "feature_importance_df = pd.DataFrame(\n",
    "    {\"name\": train_cols, \"importance\": feature_importances_values}\n",
    ")\n",
    "\n",
    "feature_importance_df = feature_importance_df.sort_values(\"importance\", ascending=False)"
   ]
  },
  {
   "cell_type": "code",
   "execution_count": 94,
   "id": "337f36bd-0b57-44a5-8832-f00abfc5ef80",
   "metadata": {
    "execution": {
     "iopub.execute_input": "2023-11-25T18:12:40.536688Z",
     "iopub.status.busy": "2023-11-25T18:12:40.536473Z",
     "iopub.status.idle": "2023-11-25T18:12:40.542039Z",
     "shell.execute_reply": "2023-11-25T18:12:40.541643Z",
     "shell.execute_reply.started": "2023-11-25T18:12:40.536666Z"
    }
   },
   "outputs": [
    {
     "data": {
      "text/plain": [
       "0.6000144730697066"
      ]
     },
     "execution_count": 94,
     "metadata": {},
     "output_type": "execute_result"
    }
   ],
   "source": [
    "np.mean(scores)"
   ]
  },
  {
   "cell_type": "code",
   "execution_count": 95,
   "id": "14cea37e-205d-4508-8073-f7ff6e952f36",
   "metadata": {
    "execution": {
     "iopub.execute_input": "2023-11-25T18:12:40.543741Z",
     "iopub.status.busy": "2023-11-25T18:12:40.543459Z",
     "iopub.status.idle": "2023-11-25T18:12:40.547911Z",
     "shell.execute_reply": "2023-11-25T18:12:40.547495Z",
     "shell.execute_reply.started": "2023-11-25T18:12:40.543704Z"
    }
   },
   "outputs": [
    {
     "data": {
      "text/plain": [
       "0.6009025103465506"
      ]
     },
     "execution_count": 95,
     "metadata": {},
     "output_type": "execute_result"
    }
   ],
   "source": [
    "0.6009025103465506"
   ]
  },
  {
   "cell_type": "code",
   "execution_count": 96,
   "id": "78815a12-c60f-4212-83a6-85b47721bd7d",
   "metadata": {
    "execution": {
     "iopub.execute_input": "2023-11-25T18:12:40.548882Z",
     "iopub.status.busy": "2023-11-25T18:12:40.548543Z",
     "iopub.status.idle": "2023-11-25T18:12:40.554639Z",
     "shell.execute_reply": "2023-11-25T18:12:40.554150Z",
     "shell.execute_reply.started": "2023-11-25T18:12:40.548860Z"
    }
   },
   "outputs": [
    {
     "data": {
      "text/plain": [
       "0.6005351024728696"
      ]
     },
     "execution_count": 96,
     "metadata": {},
     "output_type": "execute_result"
    }
   ],
   "source": [
    "0.6005351024728696"
   ]
  },
  {
   "cell_type": "code",
   "execution_count": null,
   "id": "99d3fb08-b9d7-4ab3-909a-92069b2de516",
   "metadata": {},
   "outputs": [],
   "source": []
  },
  {
   "cell_type": "code",
   "execution_count": 97,
   "id": "593e5de5-b523-4353-b471-1b661b0aa7ee",
   "metadata": {
    "execution": {
     "iopub.execute_input": "2023-11-25T18:12:40.555758Z",
     "iopub.status.busy": "2023-11-25T18:12:40.555359Z",
     "iopub.status.idle": "2023-11-25T18:12:40.949848Z",
     "shell.execute_reply": "2023-11-25T18:12:40.949267Z",
     "shell.execute_reply.started": "2023-11-25T18:12:40.555737Z"
    },
    "papermill": {
     "duration": 1.14728,
     "end_time": "2023-10-24T19:16:07.212482",
     "exception": false,
     "start_time": "2023-10-24T19:16:06.065202",
     "status": "completed"
    },
    "tags": []
   },
   "outputs": [
    {
     "data": {
      "image/png": "[encoded data removed]",
      "text/plain": [
       "<Figure size 1500x600 with 1 Axes>"
      ]
     },
     "metadata": {},
     "output_type": "display_data"
    }
   ],
   "source": [
    "plt.figure(figsize=(15, 6))\n",
    "\n",
    "ax = sns.barplot(data=feature_importance_df.head(30), x=\"name\", y=\"importance\")\n",
    "ax.set_title(f\"Mean feature importances\")\n",
    "ax.set_xticks(ax.get_xticks(), ax.get_xticklabels(), rotation=90)\n",
    "\n",
    "plt.show()"
   ]
  },
  {
   "cell_type": "code",
   "execution_count": null,
   "id": "c54f2001-4bb0-472d-a59f-d1719d79ecc8",
   "metadata": {},
   "outputs": [],
   "source": []
  },
  {
   "cell_type": "markdown",
   "id": "7f6df2c0-1560-4c0e-9649-31e122e0c489",
   "metadata": {
    "papermill": {
     "duration": 0.02323,
     "end_time": "2023-10-24T19:16:07.930669",
     "exception": false,
     "start_time": "2023-10-24T19:16:07.907439",
     "status": "completed"
    },
    "tags": []
   },
   "source": [
    "# Predicting The Test Set\n",
    "\n",
    "We use the mean of all the predictions for all the fold models"
   ]
  },
  {
   "cell_type": "code",
   "execution_count": 98,
   "id": "6532d051-32a0-48a6-b918-50d46ffffe13",
   "metadata": {
    "execution": {
     "iopub.execute_input": "2023-11-25T18:12:40.950677Z",
     "iopub.status.busy": "2023-11-25T18:12:40.950529Z",
     "iopub.status.idle": "2023-11-25T18:12:40.953134Z",
     "shell.execute_reply": "2023-11-25T18:12:40.952657Z",
     "shell.execute_reply.started": "2023-11-25T18:12:40.950664Z"
    }
   },
   "outputs": [],
   "source": [
    "# test_predict_list"
   ]
  },
  {
   "cell_type": "code",
   "execution_count": 99,
   "id": "0bc12edf-40a2-4bb5-88a2-81715791d6b0",
   "metadata": {
    "execution": {
     "iopub.execute_input": "2023-11-25T18:12:40.953857Z",
     "iopub.status.busy": "2023-11-25T18:12:40.953682Z",
     "iopub.status.idle": "2023-11-25T18:12:40.967392Z",
     "shell.execute_reply": "2023-11-25T18:12:40.966797Z",
     "shell.execute_reply.started": "2023-11-25T18:12:40.953842Z"
    }
   },
   "outputs": [
    {
     "name": "stdout",
     "output_type": "stream",
     "text": [
      "Test Set RMSE Score :  0.6250251676120598\n"
     ]
    }
   ],
   "source": [
    "if cnfg.is_local:\n",
    "    # test_feats_df[\"pred_score\"] = np.mean(test_predict_list, axis=0)\n",
    "    test_rmse = metrics.mean_squared_error(\n",
    "        test_feats[\"score\"], np.mean(test_predict_list, axis=0), squared=False\n",
    "    )\n",
    "    print(\"Test Set RMSE Score : \", test_rmse)\n",
    "else:\n",
    "    test_feats[\"score\"] = np.mean(test_predict_list, axis=0)\n",
    "    test_feats[[\"id\", \"score\"]].to_csv(\"submission.csv\", index=False)"
   ]
  },
  {
   "cell_type": "code",
   "execution_count": null,
   "id": "0d94953d-009d-4718-9419-380846ca658e",
   "metadata": {
    "papermill": {
     "duration": 0.433478,
     "end_time": "2023-10-24T19:16:08.387728",
     "exception": false,
     "start_time": "2023-10-24T19:16:07.954250",
     "status": "completed"
    },
    "tags": []
   },
   "outputs": [],
   "source": []
  },
  {
   "cell_type": "code",
   "execution_count": null,
   "id": "93749cc2",
   "metadata": {
    "papermill": {
     "duration": 0.049712,
     "end_time": "2023-11-22T05:13:02.758988",
     "exception": false,
     "start_time": "2023-11-22T05:13:02.709276",
     "status": "completed"
    },
    "tags": []
   },
   "outputs": [],
   "source": []
  },
  {
   "cell_type": "code",
   "execution_count": null,
   "id": "3d5c5a6b-6d0d-4b38-b041-42c9fe43d511",
   "metadata": {},
   "outputs": [],
   "source": []
  },
  {
   "cell_type": "code",
   "execution_count": null,
   "id": "58dc006c-f930-45eb-b08f-8f534efc788c",
   "metadata": {},
   "outputs": [],
   "source": []
  }
 ],
 "metadata": {
  "kaggle": {
   "accelerator": "gpu",
   "dataSources": [
    {
     "databundleVersionId": 6678907,
     "sourceId": 59291,
     "sourceType": "competition"
    }
   ],
   "dockerImageVersionId": 30558,
   "isGpuEnabled": true,
   "isInternetEnabled": false,
   "language": "python",
   "sourceType": "notebook"
  },
  "kernelspec": {
   "display_name": "Python 3 (ipykernel)",
   "language": "python",
   "name": "python3"
  },
  "language_info": {
   "codemirror_mode": {
    "name": "ipython",
    "version": 3
   },
   "file_extension": ".py",
   "mimetype": "text/x-python",
   "name": "python",
   "nbconvert_exporter": "python",
   "pygments_lexer": "ipython3",
   "version": "3.9.12"
  },
  "papermill": {
   "default_parameters": {},
   "duration": 1515.184726,
   "end_time": "2023-11-22T05:13:05.317225",
   "environment_variables": {},
   "exception": null,
   "input_path": "__notebook__.ipynb",
   "output_path": "__notebook__.ipynb",
   "parameters": {},
   "start_time": "2023-11-22T04:47:50.132499",
   "version": "2.4.0"
  },
  "widgets": {
   "application/vnd.jupyter.widget-state+json": {
    "state": {
     "00f9456fc206497a9f702b36440f368d": {
      "model_module": "@jupyter-widgets/controls",
      "model_module_version": "1.5.0",
      "model_name": "FloatProgressModel",
      "state": {
       "_dom_classes": [],
       "_model_module": "@jupyter-widgets/controls",
       "_model_module_version": "1.5.0",
       "_model_name": "FloatProgressModel",
       "_view_count": null,
       "_view_module": "@jupyter-widgets/controls",
       "_view_module_version": "1.5.0",
       "_view_name": "ProgressView",
       "bar_style": "success",
       "description": "",
       "description_tooltip": null,
       "layout": "IPY_MODEL_39e7dbb9a0804a50b0244a48cbf8f3d5",
       "max": 3,
       "min": 0,
       "orientation": "horizontal",
       "style": "IPY_MODEL_9676067ac06f445db53fbf6210ece45f",
       "value": 3
      }
     },
     "028aa7254f2b437997db6ec355ac6e92": {
      "model_module": "@jupyter-widgets/base",
      "model_module_version": "1.2.0",
      "model_name": "LayoutModel",
      "state": {
       "_model_module": "@jupyter-widgets/base",
       "_model_module_version": "1.2.0",
       "_model_name": "LayoutModel",
       "_view_count": null,
       "_view_module": "@jupyter-widgets/base",
       "_view_module_version": "1.2.0",
       "_view_name": "LayoutView",
       "align_content": null,
       "align_items": null,
       "align_self": null,
       "border": null,
       "bottom": null,
       "display": null,
       "flex": null,
       "flex_flow": null,
       "grid_area": null,
       "grid_auto_columns": null,
       "grid_auto_flow": null,
       "grid_auto_rows": null,
       "grid_column": null,
       "grid_gap": null,
       "grid_row": null,
       "grid_template_areas": null,
       "grid_template_columns": null,
       "grid_template_rows": null,
       "height": null,
       "justify_content": null,
       "justify_items": null,
       "left": null,
       "margin": null,
       "max_height": null,
       "max_width": null,
       "min_height": null,
       "min_width": null,
       "object_fit": null,
       "object_position": null,
       "order": null,
       "overflow": null,
       "overflow_x": null,
       "overflow_y": null,
       "padding": null,
       "right": null,
       "top": null,
       "visibility": null,
       "width": null
      }
     },
     "03283cfa32ef4c05b60f089615596a6c": {
      "model_module": "@jupyter-widgets/base",
      "model_module_version": "1.2.0",
      "model_name": "LayoutModel",
      "state": {
       "_model_module": "@jupyter-widgets/base",
       "_model_module_version": "1.2.0",
       "_model_name": "LayoutModel",
       "_view_count": null,
       "_view_module": "@jupyter-widgets/base",
       "_view_module_version": "1.2.0",
       "_view_name": "LayoutView",
       "align_content": null,
       "align_items": null,
       "align_self": null,
       "border": null,
       "bottom": null,
       "display": null,
       "flex": null,
       "flex_flow": null,
       "grid_area": null,
       "grid_auto_columns": null,
       "grid_auto_flow": null,
       "grid_auto_rows": null,
       "grid_column": null,
       "grid_gap": null,
       "grid_row": null,
       "grid_template_areas": null,
       "grid_template_columns": null,
       "grid_template_rows": null,
       "height": null,
       "justify_content": null,
       "justify_items": null,
       "left": null,
       "margin": null,
       "max_height": null,
       "max_width": null,
       "min_height": null,
       "min_width": null,
       "object_fit": null,
       "object_position": null,
       "order": null,
       "overflow": null,
       "overflow_x": null,
       "overflow_y": null,
       "padding": null,
       "right": null,
       "top": null,
       "visibility": null,
       "width": null
      }
     },
     "058036a82e2a4393803cc7997c7014eb": {
      "model_module": "@jupyter-widgets/controls",
      "model_module_version": "1.5.0",
      "model_name": "HBoxModel",
      "state": {
       "_dom_classes": [],
       "_model_module": "@jupyter-widgets/controls",
       "_model_module_version": "1.5.0",
       "_model_name": "HBoxModel",
       "_view_count": null,
       "_view_module": "@jupyter-widgets/controls",
       "_view_module_version": "1.5.0",
       "_view_name": "HBoxView",
       "box_style": "",
       "children": [
        "IPY_MODEL_af1424e323e94e2f8ad280827deef565",
        "IPY_MODEL_00f9456fc206497a9f702b36440f368d",
        "IPY_MODEL_d31548e4521a4dc9935b6b0c8bd5d163"
       ],
       "layout": "IPY_MODEL_5b644b35cac543e4b3655d157a41238c"
      }
     },
     "06e769cc35914d0e968938eecc977ed5": {
      "model_module": "@jupyter-widgets/controls",
      "model_module_version": "1.5.0",
      "model_name": "DescriptionStyleModel",
      "state": {
       "_model_module": "@jupyter-widgets/controls",
       "_model_module_version": "1.5.0",
       "_model_name": "DescriptionStyleModel",
       "_view_count": null,
       "_view_module": "@jupyter-widgets/base",
       "_view_module_version": "1.2.0",
       "_view_name": "StyleView",
       "description_width": ""
      }
     },
     "077b679760324f689a8272aeafc816ec": {
      "model_module": "@jupyter-widgets/base",
      "model_module_version": "1.2.0",
      "model_name": "LayoutModel",
      "state": {
       "_model_module": "@jupyter-widgets/base",
       "_model_module_version": "1.2.0",
       "_model_name": "LayoutModel",
       "_view_count": null,
       "_view_module": "@jupyter-widgets/base",
       "_view_module_version": "1.2.0",
       "_view_name": "LayoutView",
       "align_content": null,
       "align_items": null,
       "align_self": null,
       "border": null,
       "bottom": null,
       "display": null,
       "flex": null,
       "flex_flow": null,
       "grid_area": null,
       "grid_auto_columns": null,
       "grid_auto_flow": null,
       "grid_auto_rows": null,
       "grid_column": null,
       "grid_gap": null,
       "grid_row": null,
       "grid_template_areas": null,
       "grid_template_columns": null,
       "grid_template_rows": null,
       "height": null,
       "justify_content": null,
       "justify_items": null,
       "left": null,
       "margin": null,
       "max_height": null,
       "max_width": null,
       "min_height": null,
       "min_width": null,
       "object_fit": null,
       "object_position": null,
       "order": null,
       "overflow": null,
       "overflow_x": null,
       "overflow_y": null,
       "padding": null,
       "right": null,
       "top": null,
       "visibility": null,
       "width": null
      }
     },
     "08d2ea0babd344cbabbd5982ba00003b": {
      "model_module": "@jupyter-widgets/controls",
      "model_module_version": "1.5.0",
      "model_name": "DescriptionStyleModel",
      "state": {
       "_model_module": "@jupyter-widgets/controls",
       "_model_module_version": "1.5.0",
       "_model_name": "DescriptionStyleModel",
       "_view_count": null,
       "_view_module": "@jupyter-widgets/base",
       "_view_module_version": "1.2.0",
       "_view_name": "StyleView",
       "description_width": ""
      }
     },
     "09491b4f9326457495b5d70c2e4d7e2c": {
      "model_module": "@jupyter-widgets/base",
      "model_module_version": "1.2.0",
      "model_name": "LayoutModel",
      "state": {
       "_model_module": "@jupyter-widgets/base",
       "_model_module_version": "1.2.0",
       "_model_name": "LayoutModel",
       "_view_count": null,
       "_view_module": "@jupyter-widgets/base",
       "_view_module_version": "1.2.0",
       "_view_name": "LayoutView",
       "align_content": null,
       "align_items": null,
       "align_self": null,
       "border": null,
       "bottom": null,
       "display": null,
       "flex": null,
       "flex_flow": null,
       "grid_area": null,
       "grid_auto_columns": null,
       "grid_auto_flow": null,
       "grid_auto_rows": null,
       "grid_column": null,
       "grid_gap": null,
       "grid_row": null,
       "grid_template_areas": null,
       "grid_template_columns": null,
       "grid_template_rows": null,
       "height": null,
       "justify_content": null,
       "justify_items": null,
       "left": null,
       "margin": null,
       "max_height": null,
       "max_width": null,
       "min_height": null,
       "min_width": null,
       "object_fit": null,
       "object_position": null,
       "order": null,
       "overflow": null,
       "overflow_x": null,
       "overflow_y": null,
       "padding": null,
       "right": null,
       "top": null,
       "visibility": null,
       "width": null
      }
     },
     "0c6b73c3a2634d9c9650821f1a567858": {
      "model_module": "@jupyter-widgets/controls",
      "model_module_version": "1.5.0",
      "model_name": "HBoxModel",
      "state": {
       "_dom_classes": [],
       "_model_module": "@jupyter-widgets/controls",
       "_model_module_version": "1.5.0",
       "_model_name": "HBoxModel",
       "_view_count": null,
       "_view_module": "@jupyter-widgets/controls",
       "_view_module_version": "1.5.0",
       "_view_name": "HBoxView",
       "box_style": "",
       "children": [
        "IPY_MODEL_5e7d7e0f435a4d03868979f32241effb",
        "IPY_MODEL_782b33fa192e483a8f8405019b8ffa1a",
        "IPY_MODEL_26410c6b60f94dd4a68367e8addb4204"
       ],
       "layout": "IPY_MODEL_87b1895226bb40188ba70ba0301c34cf"
      }
     },
     "0e7e7728ab5d447aa63a48a170de5672": {
      "model_module": "@jupyter-widgets/controls",
      "model_module_version": "1.5.0",
      "model_name": "HTMLModel",
      "state": {
       "_dom_classes": [],
       "_model_module": "@jupyter-widgets/controls",
       "_model_module_version": "1.5.0",
       "_model_name": "HTMLModel",
       "_view_count": null,
       "_view_module": "@jupyter-widgets/controls",
       "_view_module_version": "1.5.0",
       "_view_name": "HTMLView",
       "description": "",
       "description_tooltip": null,
       "layout": "IPY_MODEL_7b2999bacf4a4966b52f67f6b09d8810",
       "placeholder": "​",
       "style": "IPY_MODEL_e785c67820b14ae7ade2b610e1bea013",
       "value": " 33/33 [00:01&lt;00:00, 20.81it/s, column=word_count_change100, method=kurt]"
      }
     },
     "0e839e8a8b424aea82527c0fdab96606": {
      "model_module": "@jupyter-widgets/base",
      "model_module_version": "1.2.0",
      "model_name": "LayoutModel",
      "state": {
       "_model_module": "@jupyter-widgets/base",
       "_model_module_version": "1.2.0",
       "_model_name": "LayoutModel",
       "_view_count": null,
       "_view_module": "@jupyter-widgets/base",
       "_view_module_version": "1.2.0",
       "_view_name": "LayoutView",
       "align_content": null,
       "align_items": null,
       "align_self": null,
       "border": null,
       "bottom": null,
       "display": null,
       "flex": null,
       "flex_flow": null,
       "grid_area": null,
       "grid_auto_columns": null,
       "grid_auto_flow": null,
       "grid_auto_rows": null,
       "grid_column": null,
       "grid_gap": null,
       "grid_row": null,
       "grid_template_areas": null,
       "grid_template_columns": null,
       "grid_template_rows": null,
       "height": null,
       "justify_content": null,
       "justify_items": null,
       "left": null,
       "margin": null,
       "max_height": null,
       "max_width": null,
       "min_height": null,
       "min_width": null,
       "object_fit": null,
       "object_position": null,
       "order": null,
       "overflow": null,
       "overflow_x": null,
       "overflow_y": null,
       "padding": null,
       "right": null,
       "top": null,
       "visibility": null,
       "width": null
      }
     },
     "0eb8b7d6d45d43cdb97b1b35e29f7c41": {
      "model_module": "@jupyter-widgets/base",
      "model_module_version": "1.2.0",
      "model_name": "LayoutModel",
      "state": {
       "_model_module": "@jupyter-widgets/base",
       "_model_module_version": "1.2.0",
       "_model_name": "LayoutModel",
       "_view_count": null,
       "_view_module": "@jupyter-widgets/base",
       "_view_module_version": "1.2.0",
       "_view_name": "LayoutView",
       "align_content": null,
       "align_items": null,
       "align_self": null,
       "border": null,
       "bottom": null,
       "display": null,
       "flex": null,
       "flex_flow": null,
       "grid_area": null,
       "grid_auto_columns": null,
       "grid_auto_flow": null,
       "grid_auto_rows": null,
       "grid_column": null,
       "grid_gap": null,
       "grid_row": null,
       "grid_template_areas": null,
       "grid_template_columns": null,
       "grid_template_rows": null,
       "height": null,
       "justify_content": null,
       "justify_items": null,
       "left": null,
       "margin": null,
       "max_height": null,
       "max_width": null,
       "min_height": null,
       "min_width": null,
       "object_fit": null,
       "object_position": null,
       "order": null,
       "overflow": null,
       "overflow_x": null,
       "overflow_y": null,
       "padding": null,
       "right": null,
       "top": null,
       "visibility": null,
       "width": null
      }
     },
     "133abfcbb0cc40d1b946821ad15cf32c": {
      "model_module": "@jupyter-widgets/base",
      "model_module_version": "1.2.0",
      "model_name": "LayoutModel",
      "state": {
       "_model_module": "@jupyter-widgets/base",
       "_model_module_version": "1.2.0",
       "_model_name": "LayoutModel",
       "_view_count": null,
       "_view_module": "@jupyter-widgets/base",
       "_view_module_version": "1.2.0",
       "_view_name": "LayoutView",
       "align_content": null,
       "align_items": null,
       "align_self": null,
       "border": null,
       "bottom": null,
       "display": null,
       "flex": null,
       "flex_flow": null,
       "grid_area": null,
       "grid_auto_columns": null,
       "grid_auto_flow": null,
       "grid_auto_rows": null,
       "grid_column": null,
       "grid_gap": null,
       "grid_row": null,
       "grid_template_areas": null,
       "grid_template_columns": null,
       "grid_template_rows": null,
       "height": null,
       "justify_content": null,
       "justify_items": null,
       "left": null,
       "margin": null,
       "max_height": null,
       "max_width": null,
       "min_height": null,
       "min_width": null,
       "object_fit": null,
       "object_position": null,
       "order": null,
       "overflow": null,
       "overflow_x": null,
       "overflow_y": null,
       "padding": null,
       "right": null,
       "top": null,
       "visibility": null,
       "width": null
      }
     },
     "15b3def35e5f42f0b3d6775e86ef939e": {
      "model_module": "@jupyter-widgets/controls",
      "model_module_version": "1.5.0",
      "model_name": "FloatProgressModel",
      "state": {
       "_dom_classes": [],
       "_model_module": "@jupyter-widgets/controls",
       "_model_module_version": "1.5.0",
       "_model_name": "FloatProgressModel",
       "_view_count": null,
       "_view_module": "@jupyter-widgets/controls",
       "_view_module_version": "1.5.0",
       "_view_name": "ProgressView",
       "bar_style": "success",
       "description": "",
       "description_tooltip": null,
       "layout": "IPY_MODEL_53302bd5df094b21a0ad5a9f5e1a7c85",
       "max": 2471,
       "min": 0,
       "orientation": "horizontal",
       "style": "IPY_MODEL_4054da4c6da44d1983ca3b883b2c18a7",
       "value": 2471
      }
     },
     "16c50d044925401abba5785c279875d9": {
      "model_module": "@jupyter-widgets/controls",
      "model_module_version": "1.5.0",
      "model_name": "HTMLModel",
      "state": {
       "_dom_classes": [],
       "_model_module": "@jupyter-widgets/controls",
       "_model_module_version": "1.5.0",
       "_model_name": "HTMLModel",
       "_view_count": null,
       "_view_module": "@jupyter-widgets/controls",
       "_view_module_version": "1.5.0",
       "_view_name": "HTMLView",
       "description": "",
       "description_tooltip": null,
       "layout": "IPY_MODEL_b23f76cf4d924ab48c9418ea1796c42f",
       "placeholder": "​",
       "style": "IPY_MODEL_58684898f38844c2b75f4eefdca28332",
       "value": " 2471/2471 [00:00&lt;00:00, 5551.86it/s]"
      }
     },
     "180aef39e0694a28977cbb9cebce5fdf": {
      "model_module": "@jupyter-widgets/controls",
      "model_module_version": "1.5.0",
      "model_name": "HTMLModel",
      "state": {
       "_dom_classes": [],
       "_model_module": "@jupyter-widgets/controls",
       "_model_module_version": "1.5.0",
       "_model_name": "HTMLModel",
       "_view_count": null,
       "_view_module": "@jupyter-widgets/controls",
       "_view_module_version": "1.5.0",
       "_view_name": "HTMLView",
       "description": "",
       "description_tooltip": null,
       "layout": "IPY_MODEL_25065b6905794d26844b861c1af5cc58",
       "placeholder": "​",
       "style": "IPY_MODEL_29a2a9abfc0a421e8b072c95c21b7224",
       "value": " 2471/2471 [00:07&lt;00:00, 346.64it/s]"
      }
     },
     "183afc09a7c74a9490b9bd9933d689d1": {
      "model_module": "@jupyter-widgets/controls",
      "model_module_version": "1.5.0",
      "model_name": "HBoxModel",
      "state": {
       "_dom_classes": [],
       "_model_module": "@jupyter-widgets/controls",
       "_model_module_version": "1.5.0",
       "_model_name": "HBoxModel",
       "_view_count": null,
       "_view_module": "@jupyter-widgets/controls",
       "_view_module_version": "1.5.0",
       "_view_name": "HBoxView",
       "box_style": "",
       "children": [
        "IPY_MODEL_97a5acde57b54e818a3039739ac636cf",
        "IPY_MODEL_4f1e585537b142a2980e912a20cee8c1",
        "IPY_MODEL_7cb0e15222a24715817fa55932cfae28"
       ],
       "layout": "IPY_MODEL_b8c4bf4943784135be2bd1b19e27bf2c"
      }
     },
     "1a39cb800c894d269635b417b3cbd645": {
      "model_module": "@jupyter-widgets/controls",
      "model_module_version": "1.5.0",
      "model_name": "DescriptionStyleModel",
      "state": {
       "_model_module": "@jupyter-widgets/controls",
       "_model_module_version": "1.5.0",
       "_model_name": "DescriptionStyleModel",
       "_view_count": null,
       "_view_module": "@jupyter-widgets/base",
       "_view_module_version": "1.2.0",
       "_view_name": "StyleView",
       "description_width": ""
      }
     },
     "1a5737b7b77a42d0baaad8dd531b3f1c": {
      "model_module": "@jupyter-widgets/controls",
      "model_module_version": "1.5.0",
      "model_name": "DescriptionStyleModel",
      "state": {
       "_model_module": "@jupyter-widgets/controls",
       "_model_module_version": "1.5.0",
       "_model_name": "DescriptionStyleModel",
       "_view_count": null,
       "_view_module": "@jupyter-widgets/base",
       "_view_module_version": "1.2.0",
       "_view_name": "StyleView",
       "description_width": ""
      }
     },
     "1b3b1575df4e47df8128dcba2a65b47f": {
      "model_module": "@jupyter-widgets/base",
      "model_module_version": "1.2.0",
      "model_name": "LayoutModel",
      "state": {
       "_model_module": "@jupyter-widgets/base",
       "_model_module_version": "1.2.0",
       "_model_name": "LayoutModel",
       "_view_count": null,
       "_view_module": "@jupyter-widgets/base",
       "_view_module_version": "1.2.0",
       "_view_name": "LayoutView",
       "align_content": null,
       "align_items": null,
       "align_self": null,
       "border": null,
       "bottom": null,
       "display": null,
       "flex": null,
       "flex_flow": null,
       "grid_area": null,
       "grid_auto_columns": null,
       "grid_auto_flow": null,
       "grid_auto_rows": null,
       "grid_column": null,
       "grid_gap": null,
       "grid_row": null,
       "grid_template_areas": null,
       "grid_template_columns": null,
       "grid_template_rows": null,
       "height": null,
       "justify_content": null,
       "justify_items": null,
       "left": null,
       "margin": null,
       "max_height": null,
       "max_width": null,
       "min_height": null,
       "min_width": null,
       "object_fit": null,
       "object_position": null,
       "order": null,
       "overflow": null,
       "overflow_x": null,
       "overflow_y": null,
       "padding": null,
       "right": null,
       "top": null,
       "visibility": null,
       "width": null
      }
     },
     "1b41d9f0373d4b2681a3bcc9bf9527a0": {
      "model_module": "@jupyter-widgets/controls",
      "model_module_version": "1.5.0",
      "model_name": "HBoxModel",
      "state": {
       "_dom_classes": [],
       "_model_module": "@jupyter-widgets/controls",
       "_model_module_version": "1.5.0",
       "_model_name": "HBoxModel",
       "_view_count": null,
       "_view_module": "@jupyter-widgets/controls",
       "_view_module_version": "1.5.0",
       "_view_name": "HBoxView",
       "box_style": "",
       "children": [
        "IPY_MODEL_a647910294014fffb5e2ef2950eeaaa4",
        "IPY_MODEL_15b3def35e5f42f0b3d6775e86ef939e",
        "IPY_MODEL_16c50d044925401abba5785c279875d9"
       ],
       "layout": "IPY_MODEL_3e4ecfc93ad84087b68a62ce7641714b"
      }
     },
     "1b4213e8cfe145efb43263d0f2ec0fb8": {
      "model_module": "@jupyter-widgets/base",
      "model_module_version": "1.2.0",
      "model_name": "LayoutModel",
      "state": {
       "_model_module": "@jupyter-widgets/base",
       "_model_module_version": "1.2.0",
       "_model_name": "LayoutModel",
       "_view_count": null,
       "_view_module": "@jupyter-widgets/base",
       "_view_module_version": "1.2.0",
       "_view_name": "LayoutView",
       "align_content": null,
       "align_items": null,
       "align_self": null,
       "border": null,
       "bottom": null,
       "display": null,
       "flex": null,
       "flex_flow": null,
       "grid_area": null,
       "grid_auto_columns": null,
       "grid_auto_flow": null,
       "grid_auto_rows": null,
       "grid_column": null,
       "grid_gap": null,
       "grid_row": null,
       "grid_template_areas": null,
       "grid_template_columns": null,
       "grid_template_rows": null,
       "height": null,
       "justify_content": null,
       "justify_items": null,
       "left": null,
       "margin": null,
       "max_height": null,
       "max_width": null,
       "min_height": null,
       "min_width": null,
       "object_fit": null,
       "object_position": null,
       "order": null,
       "overflow": null,
       "overflow_x": null,
       "overflow_y": null,
       "padding": null,
       "right": null,
       "top": null,
       "visibility": null,
       "width": null
      }
     },
     "1b48156d79cd41348e0a7248b1132650": {
      "model_module": "@jupyter-widgets/controls",
      "model_module_version": "1.5.0",
      "model_name": "FloatProgressModel",
      "state": {
       "_dom_classes": [],
       "_model_module": "@jupyter-widgets/controls",
       "_model_module_version": "1.5.0",
       "_model_name": "FloatProgressModel",
       "_view_count": null,
       "_view_module": "@jupyter-widgets/controls",
       "_view_module_version": "1.5.0",
       "_view_name": "ProgressView",
       "bar_style": "success",
       "description": "",
       "description_tooltip": null,
       "layout": "IPY_MODEL_70834571cf944ed4be77b2894f57047e",
       "max": 2471,
       "min": 0,
       "orientation": "horizontal",
       "style": "IPY_MODEL_a9e252c48d45433ca5367f21ab473f13",
       "value": 2471
      }
     },
     "1bf40e695587405880eb26a0e9d40133": {
      "model_module": "@jupyter-widgets/controls",
      "model_module_version": "1.5.0",
      "model_name": "DescriptionStyleModel",
      "state": {
       "_model_module": "@jupyter-widgets/controls",
       "_model_module_version": "1.5.0",
       "_model_name": "DescriptionStyleModel",
       "_view_count": null,
       "_view_module": "@jupyter-widgets/base",
       "_view_module_version": "1.2.0",
       "_view_name": "StyleView",
       "description_width": ""
      }
     },
     "20335a5c53ae452880109960047ac661": {
      "model_module": "@jupyter-widgets/controls",
      "model_module_version": "1.5.0",
      "model_name": "ProgressStyleModel",
      "state": {
       "_model_module": "@jupyter-widgets/controls",
       "_model_module_version": "1.5.0",
       "_model_name": "ProgressStyleModel",
       "_view_count": null,
       "_view_module": "@jupyter-widgets/base",
       "_view_module_version": "1.2.0",
       "_view_name": "StyleView",
       "bar_color": null,
       "description_width": ""
      }
     },
     "2120db3fb6c94982b651520f3e455683": {
      "model_module": "@jupyter-widgets/base",
      "model_module_version": "1.2.0",
      "model_name": "LayoutModel",
      "state": {
       "_model_module": "@jupyter-widgets/base",
       "_model_module_version": "1.2.0",
       "_model_name": "LayoutModel",
       "_view_count": null,
       "_view_module": "@jupyter-widgets/base",
       "_view_module_version": "1.2.0",
       "_view_name": "LayoutView",
       "align_content": null,
       "align_items": null,
       "align_self": null,
       "border": null,
       "bottom": null,
       "display": null,
       "flex": null,
       "flex_flow": null,
       "grid_area": null,
       "grid_auto_columns": null,
       "grid_auto_flow": null,
       "grid_auto_rows": null,
       "grid_column": null,
       "grid_gap": null,
       "grid_row": null,
       "grid_template_areas": null,
       "grid_template_columns": null,
       "grid_template_rows": null,
       "height": null,
       "justify_content": null,
       "justify_items": null,
       "left": null,
       "margin": null,
       "max_height": null,
       "max_width": null,
       "min_height": null,
       "min_width": null,
       "object_fit": null,
       "object_position": null,
       "order": null,
       "overflow": null,
       "overflow_x": null,
       "overflow_y": null,
       "padding": null,
       "right": null,
       "top": null,
       "visibility": null,
       "width": null
      }
     },
     "238e8f111b0a45c380d5af35ffd17f9e": {
      "model_module": "@jupyter-widgets/base",
      "model_module_version": "1.2.0",
      "model_name": "LayoutModel",
      "state": {
       "_model_module": "@jupyter-widgets/base",
       "_model_module_version": "1.2.0",
       "_model_name": "LayoutModel",
       "_view_count": null,
       "_view_module": "@jupyter-widgets/base",
       "_view_module_version": "1.2.0",
       "_view_name": "LayoutView",
       "align_content": null,
       "align_items": null,
       "align_self": null,
       "border": null,
       "bottom": null,
       "display": null,
       "flex": null,
       "flex_flow": null,
       "grid_area": null,
       "grid_auto_columns": null,
       "grid_auto_flow": null,
       "grid_auto_rows": null,
       "grid_column": null,
       "grid_gap": null,
       "grid_row": null,
       "grid_template_areas": null,
       "grid_template_columns": null,
       "grid_template_rows": null,
       "height": null,
       "justify_content": null,
       "justify_items": null,
       "left": null,
       "margin": null,
       "max_height": null,
       "max_width": null,
       "min_height": null,
       "min_width": null,
       "object_fit": null,
       "object_position": null,
       "order": null,
       "overflow": null,
       "overflow_x": null,
       "overflow_y": null,
       "padding": null,
       "right": null,
       "top": null,
       "visibility": null,
       "width": null
      }
     },
     "23b493013d524fcab8cf49667bfbceae": {
      "model_module": "@jupyter-widgets/base",
      "model_module_version": "1.2.0",
      "model_name": "LayoutModel",
      "state": {
       "_model_module": "@jupyter-widgets/base",
       "_model_module_version": "1.2.0",
       "_model_name": "LayoutModel",
       "_view_count": null,
       "_view_module": "@jupyter-widgets/base",
       "_view_module_version": "1.2.0",
       "_view_name": "LayoutView",
       "align_content": null,
       "align_items": null,
       "align_self": null,
       "border": null,
       "bottom": null,
       "display": null,
       "flex": null,
       "flex_flow": null,
       "grid_area": null,
       "grid_auto_columns": null,
       "grid_auto_flow": null,
       "grid_auto_rows": null,
       "grid_column": null,
       "grid_gap": null,
       "grid_row": null,
       "grid_template_areas": null,
       "grid_template_columns": null,
       "grid_template_rows": null,
       "height": null,
       "justify_content": null,
       "justify_items": null,
       "left": null,
       "margin": null,
       "max_height": null,
       "max_width": null,
       "min_height": null,
       "min_width": null,
       "object_fit": null,
       "object_position": null,
       "order": null,
       "overflow": null,
       "overflow_x": null,
       "overflow_y": null,
       "padding": null,
       "right": null,
       "top": null,
       "visibility": null,
       "width": null
      }
     },
     "25065b6905794d26844b861c1af5cc58": {
      "model_module": "@jupyter-widgets/base",
      "model_module_version": "1.2.0",
      "model_name": "LayoutModel",
      "state": {
       "_model_module": "@jupyter-widgets/base",
       "_model_module_version": "1.2.0",
       "_model_name": "LayoutModel",
       "_view_count": null,
       "_view_module": "@jupyter-widgets/base",
       "_view_module_version": "1.2.0",
       "_view_name": "LayoutView",
       "align_content": null,
       "align_items": null,
       "align_self": null,
       "border": null,
       "bottom": null,
       "display": null,
       "flex": null,
       "flex_flow": null,
       "grid_area": null,
       "grid_auto_columns": null,
       "grid_auto_flow": null,
       "grid_auto_rows": null,
       "grid_column": null,
       "grid_gap": null,
       "grid_row": null,
       "grid_template_areas": null,
       "grid_template_columns": null,
       "grid_template_rows": null,
       "height": null,
       "justify_content": null,
       "justify_items": null,
       "left": null,
       "margin": null,
       "max_height": null,
       "max_width": null,
       "min_height": null,
       "min_width": null,
       "object_fit": null,
       "object_position": null,
       "order": null,
       "overflow": null,
       "overflow_x": null,
       "overflow_y": null,
       "padding": null,
       "right": null,
       "top": null,
       "visibility": null,
       "width": null
      }
     },
     "2520687fec6e42f18a8b300d7784e44c": {
      "model_module": "@jupyter-widgets/controls",
      "model_module_version": "1.5.0",
      "model_name": "HBoxModel",
      "state": {
       "_dom_classes": [],
       "_model_module": "@jupyter-widgets/controls",
       "_model_module_version": "1.5.0",
       "_model_name": "HBoxModel",
       "_view_count": null,
       "_view_module": "@jupyter-widgets/controls",
       "_view_module_version": "1.5.0",
       "_view_name": "HBoxView",
       "box_style": "",
       "children": [
        "IPY_MODEL_ef38f995e02347ffb9bb9fb0c7df4ba1",
        "IPY_MODEL_329b8eea540340b89a808d1fe67b86e4",
        "IPY_MODEL_d5e6bd075f014403b12650ffaf0a756f"
       ],
       "layout": "IPY_MODEL_c5ab9bf7e7284fa2a817d4434e2255e8"
      }
     },
     "260e4e9488884ebabb2c674965998800": {
      "model_module": "@jupyter-widgets/controls",
      "model_module_version": "1.5.0",
      "model_name": "FloatProgressModel",
      "state": {
       "_dom_classes": [],
       "_model_module": "@jupyter-widgets/controls",
       "_model_module_version": "1.5.0",
       "_model_name": "FloatProgressModel",
       "_view_count": null,
       "_view_module": "@jupyter-widgets/controls",
       "_view_module_version": "1.5.0",
       "_view_name": "ProgressView",
       "bar_style": "success",
       "description": "",
       "description_tooltip": null,
       "layout": "IPY_MODEL_077b679760324f689a8272aeafc816ec",
       "max": 2471,
       "min": 0,
       "orientation": "horizontal",
       "style": "IPY_MODEL_841888a574144933b07f16385e76dacb",
       "value": 2471
      }
     },
     "26410c6b60f94dd4a68367e8addb4204": {
      "model_module": "@jupyter-widgets/controls",
      "model_module_version": "1.5.0",
      "model_name": "HTMLModel",
      "state": {
       "_dom_classes": [],
       "_model_module": "@jupyter-widgets/controls",
       "_model_module_version": "1.5.0",
       "_model_name": "HTMLModel",
       "_view_count": null,
       "_view_module": "@jupyter-widgets/controls",
       "_view_module_version": "1.5.0",
       "_view_name": "HTMLView",
       "description": "",
       "description_tooltip": null,
       "layout": "IPY_MODEL_0eb8b7d6d45d43cdb97b1b35e29f7c41",
       "placeholder": "​",
       "style": "IPY_MODEL_6821a66cf33e4aeba1db42a712fa129c",
       "value": " 3/3 [00:00&lt;00:00, 294.32it/s]"
      }
     },
     "26f4759f7a49422fa58bd4a0dc17e837": {
      "model_module": "@jupyter-widgets/base",
      "model_module_version": "1.2.0",
      "model_name": "LayoutModel",
      "state": {
       "_model_module": "@jupyter-widgets/base",
       "_model_module_version": "1.2.0",
       "_model_name": "LayoutModel",
       "_view_count": null,
       "_view_module": "@jupyter-widgets/base",
       "_view_module_version": "1.2.0",
       "_view_name": "LayoutView",
       "align_content": null,
       "align_items": null,
       "align_self": null,
       "border": null,
       "bottom": null,
       "display": null,
       "flex": null,
       "flex_flow": null,
       "grid_area": null,
       "grid_auto_columns": null,
       "grid_auto_flow": null,
       "grid_auto_rows": null,
       "grid_column": null,
       "grid_gap": null,
       "grid_row": null,
       "grid_template_areas": null,
       "grid_template_columns": null,
       "grid_template_rows": null,
       "height": null,
       "justify_content": null,
       "justify_items": null,
       "left": null,
       "margin": null,
       "max_height": null,
       "max_width": null,
       "min_height": null,
       "min_width": null,
       "object_fit": null,
       "object_position": null,
       "order": null,
       "overflow": null,
       "overflow_x": null,
       "overflow_y": null,
       "padding": null,
       "right": null,
       "top": null,
       "visibility": null,
       "width": null
      }
     },
     "27a9aa6e61204b10a56e991e794773f3": {
      "model_module": "@jupyter-widgets/base",
      "model_module_version": "1.2.0",
      "model_name": "LayoutModel",
      "state": {
       "_model_module": "@jupyter-widgets/base",
       "_model_module_version": "1.2.0",
       "_model_name": "LayoutModel",
       "_view_count": null,
       "_view_module": "@jupyter-widgets/base",
       "_view_module_version": "1.2.0",
       "_view_name": "LayoutView",
       "align_content": null,
       "align_items": null,
       "align_self": null,
       "border": null,
       "bottom": null,
       "display": null,
       "flex": null,
       "flex_flow": null,
       "grid_area": null,
       "grid_auto_columns": null,
       "grid_auto_flow": null,
       "grid_auto_rows": null,
       "grid_column": null,
       "grid_gap": null,
       "grid_row": null,
       "grid_template_areas": null,
       "grid_template_columns": null,
       "grid_template_rows": null,
       "height": null,
       "justify_content": null,
       "justify_items": null,
       "left": null,
       "margin": null,
       "max_height": null,
       "max_width": null,
       "min_height": null,
       "min_width": null,
       "object_fit": null,
       "object_position": null,
       "order": null,
       "overflow": null,
       "overflow_x": null,
       "overflow_y": null,
       "padding": null,
       "right": null,
       "top": null,
       "visibility": null,
       "width": null
      }
     },
     "2881c66453a4463aaaf8ae80ecf67039": {
      "model_module": "@jupyter-widgets/controls",
      "model_module_version": "1.5.0",
      "model_name": "ProgressStyleModel",
      "state": {
       "_model_module": "@jupyter-widgets/controls",
       "_model_module_version": "1.5.0",
       "_model_name": "ProgressStyleModel",
       "_view_count": null,
       "_view_module": "@jupyter-widgets/base",
       "_view_module_version": "1.2.0",
       "_view_name": "StyleView",
       "bar_color": null,
       "description_width": ""
      }
     },
     "29a2a9abfc0a421e8b072c95c21b7224": {
      "model_module": "@jupyter-widgets/controls",
      "model_module_version": "1.5.0",
      "model_name": "DescriptionStyleModel",
      "state": {
       "_model_module": "@jupyter-widgets/controls",
       "_model_module_version": "1.5.0",
       "_model_name": "DescriptionStyleModel",
       "_view_count": null,
       "_view_module": "@jupyter-widgets/base",
       "_view_module_version": "1.2.0",
       "_view_name": "StyleView",
       "description_width": ""
      }
     },
     "2f20917bd5024751af7eab128b59d6be": {
      "model_module": "@jupyter-widgets/base",
      "model_module_version": "1.2.0",
      "model_name": "LayoutModel",
      "state": {
       "_model_module": "@jupyter-widgets/base",
       "_model_module_version": "1.2.0",
       "_model_name": "LayoutModel",
       "_view_count": null,
       "_view_module": "@jupyter-widgets/base",
       "_view_module_version": "1.2.0",
       "_view_name": "LayoutView",
       "align_content": null,
       "align_items": null,
       "align_self": null,
       "border": null,
       "bottom": null,
       "display": null,
       "flex": null,
       "flex_flow": null,
       "grid_area": null,
       "grid_auto_columns": null,
       "grid_auto_flow": null,
       "grid_auto_rows": null,
       "grid_column": null,
       "grid_gap": null,
       "grid_row": null,
       "grid_template_areas": null,
       "grid_template_columns": null,
       "grid_template_rows": null,
       "height": null,
       "justify_content": null,
       "justify_items": null,
       "left": null,
       "margin": null,
       "max_height": null,
       "max_width": null,
       "min_height": null,
       "min_width": null,
       "object_fit": null,
       "object_position": null,
       "order": null,
       "overflow": null,
       "overflow_x": null,
       "overflow_y": null,
       "padding": null,
       "right": null,
       "top": null,
       "visibility": null,
       "width": null
      }
     },
     "329b8eea540340b89a808d1fe67b86e4": {
      "model_module": "@jupyter-widgets/controls",
      "model_module_version": "1.5.0",
      "model_name": "FloatProgressModel",
      "state": {
       "_dom_classes": [],
       "_model_module": "@jupyter-widgets/controls",
       "_model_module_version": "1.5.0",
       "_model_name": "FloatProgressModel",
       "_view_count": null,
       "_view_module": "@jupyter-widgets/controls",
       "_view_module_version": "1.5.0",
       "_view_name": "ProgressView",
       "bar_style": "success",
       "description": "",
       "description_tooltip": null,
       "layout": "IPY_MODEL_5b4b26036873438d98690bdb81927b17",
       "max": 3,
       "min": 0,
       "orientation": "horizontal",
       "style": "IPY_MODEL_d25f56ce628044c7a84d752a583f4040",
       "value": 3
      }
     },
     "330456d5445c4fe9ad5d8ba462bfcaeb": {
      "model_module": "@jupyter-widgets/controls",
      "model_module_version": "1.5.0",
      "model_name": "DescriptionStyleModel",
      "state": {
       "_model_module": "@jupyter-widgets/controls",
       "_model_module_version": "1.5.0",
       "_model_name": "DescriptionStyleModel",
       "_view_count": null,
       "_view_module": "@jupyter-widgets/base",
       "_view_module_version": "1.2.0",
       "_view_name": "StyleView",
       "description_width": ""
      }
     },
     "3367e74bef4e4bb7ad09df558713021b": {
      "model_module": "@jupyter-widgets/controls",
      "model_module_version": "1.5.0",
      "model_name": "HTMLModel",
      "state": {
       "_dom_classes": [],
       "_model_module": "@jupyter-widgets/controls",
       "_model_module_version": "1.5.0",
       "_model_name": "HTMLModel",
       "_view_count": null,
       "_view_module": "@jupyter-widgets/controls",
       "_view_module_version": "1.5.0",
       "_view_name": "HTMLView",
       "description": "",
       "description_tooltip": null,
       "layout": "IPY_MODEL_eba53a9e6e1f42c482cab28f684721b0",
       "placeholder": "​",
       "style": "IPY_MODEL_1a5737b7b77a42d0baaad8dd531b3f1c",
       "value": "100%"
      }
     },
     "363bc9de513247c38eb90b247f403523": {
      "model_module": "@jupyter-widgets/controls",
      "model_module_version": "1.5.0",
      "model_name": "FloatProgressModel",
      "state": {
       "_dom_classes": [],
       "_model_module": "@jupyter-widgets/controls",
       "_model_module_version": "1.5.0",
       "_model_name": "FloatProgressModel",
       "_view_count": null,
       "_view_module": "@jupyter-widgets/controls",
       "_view_module_version": "1.5.0",
       "_view_name": "ProgressView",
       "bar_style": "success",
       "description": "",
       "description_tooltip": null,
       "layout": "IPY_MODEL_45aaef35ccbc4805906a1f1120586fbc",
       "max": 33,
       "min": 0,
       "orientation": "horizontal",
       "style": "IPY_MODEL_20335a5c53ae452880109960047ac661",
       "value": 33
      }
     },
     "36ff53171bfc4109b2558b0acfb60879": {
      "model_module": "@jupyter-widgets/controls",
      "model_module_version": "1.5.0",
      "model_name": "HBoxModel",
      "state": {
       "_dom_classes": [],
       "_model_module": "@jupyter-widgets/controls",
       "_model_module_version": "1.5.0",
       "_model_name": "HBoxModel",
       "_view_count": null,
       "_view_module": "@jupyter-widgets/controls",
       "_view_module_version": "1.5.0",
       "_view_name": "HBoxView",
       "box_style": "",
       "children": [
        "IPY_MODEL_9ce3964fd0d74ef393790746378d76e7",
        "IPY_MODEL_d8d4f19cbd284bddb57ea23bf878e412",
        "IPY_MODEL_51d5218a2aac466594a385f2a8232af7"
       ],
       "layout": "IPY_MODEL_bf9f6ab1518a4a55bb8d19bee009d881"
      }
     },
     "37d13cb7e6164494bd7e0413133e8c0e": {
      "model_module": "@jupyter-widgets/controls",
      "model_module_version": "1.5.0",
      "model_name": "DescriptionStyleModel",
      "state": {
       "_model_module": "@jupyter-widgets/controls",
       "_model_module_version": "1.5.0",
       "_model_name": "DescriptionStyleModel",
       "_view_count": null,
       "_view_module": "@jupyter-widgets/base",
       "_view_module_version": "1.2.0",
       "_view_name": "StyleView",
       "description_width": ""
      }
     },
     "39e7dbb9a0804a50b0244a48cbf8f3d5": {
      "model_module": "@jupyter-widgets/base",
      "model_module_version": "1.2.0",
      "model_name": "LayoutModel",
      "state": {
       "_model_module": "@jupyter-widgets/base",
       "_model_module_version": "1.2.0",
       "_model_name": "LayoutModel",
       "_view_count": null,
       "_view_module": "@jupyter-widgets/base",
       "_view_module_version": "1.2.0",
       "_view_name": "LayoutView",
       "align_content": null,
       "align_items": null,
       "align_self": null,
       "border": null,
       "bottom": null,
       "display": null,
       "flex": null,
       "flex_flow": null,
       "grid_area": null,
       "grid_auto_columns": null,
       "grid_auto_flow": null,
       "grid_auto_rows": null,
       "grid_column": null,
       "grid_gap": null,
       "grid_row": null,
       "grid_template_areas": null,
       "grid_template_columns": null,
       "grid_template_rows": null,
       "height": null,
       "justify_content": null,
       "justify_items": null,
       "left": null,
       "margin": null,
       "max_height": null,
       "max_width": null,
       "min_height": null,
       "min_width": null,
       "object_fit": null,
       "object_position": null,
       "order": null,
       "overflow": null,
       "overflow_x": null,
       "overflow_y": null,
       "padding": null,
       "right": null,
       "top": null,
       "visibility": null,
       "width": null
      }
     },
     "3c94ce559143479191d89873aa6f4160": {
      "model_module": "@jupyter-widgets/controls",
      "model_module_version": "1.5.0",
      "model_name": "HTMLModel",
      "state": {
       "_dom_classes": [],
       "_model_module": "@jupyter-widgets/controls",
       "_model_module_version": "1.5.0",
       "_model_name": "HTMLModel",
       "_view_count": null,
       "_view_module": "@jupyter-widgets/controls",
       "_view_module_version": "1.5.0",
       "_view_name": "HTMLView",
       "description": "",
       "description_tooltip": null,
       "layout": "IPY_MODEL_0e839e8a8b424aea82527c0fdab96606",
       "placeholder": "​",
       "style": "IPY_MODEL_eb3e0d66ce97433396944a1b9e162469",
       "value": "100%"
      }
     },
     "3d976dcd779d4a1ba77a61ba51d0071d": {
      "model_module": "@jupyter-widgets/base",
      "model_module_version": "1.2.0",
      "model_name": "LayoutModel",
      "state": {
       "_model_module": "@jupyter-widgets/base",
       "_model_module_version": "1.2.0",
       "_model_name": "LayoutModel",
       "_view_count": null,
       "_view_module": "@jupyter-widgets/base",
       "_view_module_version": "1.2.0",
       "_view_name": "LayoutView",
       "align_content": null,
       "align_items": null,
       "align_self": null,
       "border": null,
       "bottom": null,
       "display": null,
       "flex": null,
       "flex_flow": null,
       "grid_area": null,
       "grid_auto_columns": null,
       "grid_auto_flow": null,
       "grid_auto_rows": null,
       "grid_column": null,
       "grid_gap": null,
       "grid_row": null,
       "grid_template_areas": null,
       "grid_template_columns": null,
       "grid_template_rows": null,
       "height": null,
       "justify_content": null,
       "justify_items": null,
       "left": null,
       "margin": null,
       "max_height": null,
       "max_width": null,
       "min_height": null,
       "min_width": null,
       "object_fit": null,
       "object_position": null,
       "order": null,
       "overflow": null,
       "overflow_x": null,
       "overflow_y": null,
       "padding": null,
       "right": null,
       "top": null,
       "visibility": null,
       "width": null
      }
     },
     "3e4ecfc93ad84087b68a62ce7641714b": {
      "model_module": "@jupyter-widgets/base",
      "model_module_version": "1.2.0",
      "model_name": "LayoutModel",
      "state": {
       "_model_module": "@jupyter-widgets/base",
       "_model_module_version": "1.2.0",
       "_model_name": "LayoutModel",
       "_view_count": null,
       "_view_module": "@jupyter-widgets/base",
       "_view_module_version": "1.2.0",
       "_view_name": "LayoutView",
       "align_content": null,
       "align_items": null,
       "align_self": null,
       "border": null,
       "bottom": null,
       "display": null,
       "flex": null,
       "flex_flow": null,
       "grid_area": null,
       "grid_auto_columns": null,
       "grid_auto_flow": null,
       "grid_auto_rows": null,
       "grid_column": null,
       "grid_gap": null,
       "grid_row": null,
       "grid_template_areas": null,
       "grid_template_columns": null,
       "grid_template_rows": null,
       "height": null,
       "justify_content": null,
       "justify_items": null,
       "left": null,
       "margin": null,
       "max_height": null,
       "max_width": null,
       "min_height": null,
       "min_width": null,
       "object_fit": null,
       "object_position": null,
       "order": null,
       "overflow": null,
       "overflow_x": null,
       "overflow_y": null,
       "padding": null,
       "right": null,
       "top": null,
       "visibility": null,
       "width": null
      }
     },
     "3ff1757df4634b3ba24e6d1d479f526e": {
      "model_module": "@jupyter-widgets/controls",
      "model_module_version": "1.5.0",
      "model_name": "DescriptionStyleModel",
      "state": {
       "_model_module": "@jupyter-widgets/controls",
       "_model_module_version": "1.5.0",
       "_model_name": "DescriptionStyleModel",
       "_view_count": null,
       "_view_module": "@jupyter-widgets/base",
       "_view_module_version": "1.2.0",
       "_view_name": "StyleView",
       "description_width": ""
      }
     },
     "4054da4c6da44d1983ca3b883b2c18a7": {
      "model_module": "@jupyter-widgets/controls",
      "model_module_version": "1.5.0",
      "model_name": "ProgressStyleModel",
      "state": {
       "_model_module": "@jupyter-widgets/controls",
       "_model_module_version": "1.5.0",
       "_model_name": "ProgressStyleModel",
       "_view_count": null,
       "_view_module": "@jupyter-widgets/base",
       "_view_module_version": "1.2.0",
       "_view_name": "StyleView",
       "bar_color": null,
       "description_width": ""
      }
     },
     "4255be3b3f714082a0af2ef5e4d94487": {
      "model_module": "@jupyter-widgets/controls",
      "model_module_version": "1.5.0",
      "model_name": "FloatProgressModel",
      "state": {
       "_dom_classes": [],
       "_model_module": "@jupyter-widgets/controls",
       "_model_module_version": "1.5.0",
       "_model_name": "FloatProgressModel",
       "_view_count": null,
       "_view_module": "@jupyter-widgets/controls",
       "_view_module_version": "1.5.0",
       "_view_name": "ProgressView",
       "bar_style": "success",
       "description": "",
       "description_tooltip": null,
       "layout": "IPY_MODEL_2120db3fb6c94982b651520f3e455683",
       "max": 33,
       "min": 0,
       "orientation": "horizontal",
       "style": "IPY_MODEL_9248d8b4d2c2456e868f5c518fce99e4",
       "value": 33
      }
     },
     "43cb746619c54ce3b2185d36ccc8bb60": {
      "model_module": "@jupyter-widgets/controls",
      "model_module_version": "1.5.0",
      "model_name": "FloatProgressModel",
      "state": {
       "_dom_classes": [],
       "_model_module": "@jupyter-widgets/controls",
       "_model_module_version": "1.5.0",
       "_model_name": "FloatProgressModel",
       "_view_count": null,
       "_view_module": "@jupyter-widgets/controls",
       "_view_module_version": "1.5.0",
       "_view_name": "ProgressView",
       "bar_style": "success",
       "description": "",
       "description_tooltip": null,
       "layout": "IPY_MODEL_f2c0532c21a3490386f8a1c200598a4c",
       "max": 2471,
       "min": 0,
       "orientation": "horizontal",
       "style": "IPY_MODEL_4e582aa365d04e7b8de719c019904659",
       "value": 2471
      }
     },
     "442456dfa7c943d69a9fb808d9b4db8c": {
      "model_module": "@jupyter-widgets/controls",
      "model_module_version": "1.5.0",
      "model_name": "HBoxModel",
      "state": {
       "_dom_classes": [],
       "_model_module": "@jupyter-widgets/controls",
       "_model_module_version": "1.5.0",
       "_model_name": "HBoxModel",
       "_view_count": null,
       "_view_module": "@jupyter-widgets/controls",
       "_view_module_version": "1.5.0",
       "_view_name": "HBoxView",
       "box_style": "",
       "children": [
        "IPY_MODEL_8797afacf074476f8e97a5544d90e6f3",
        "IPY_MODEL_da316dc998154498a2373f6e2640a5dc",
        "IPY_MODEL_6a32b79193d4417db74eab3dab5d43bc"
       ],
       "layout": "IPY_MODEL_f3d92bf551fb430aa1ec50f080b273c6"
      }
     },
     "45aaef35ccbc4805906a1f1120586fbc": {
      "model_module": "@jupyter-widgets/base",
      "model_module_version": "1.2.0",
      "model_name": "LayoutModel",
      "state": {
       "_model_module": "@jupyter-widgets/base",
       "_model_module_version": "1.2.0",
       "_model_name": "LayoutModel",
       "_view_count": null,
       "_view_module": "@jupyter-widgets/base",
       "_view_module_version": "1.2.0",
       "_view_name": "LayoutView",
       "align_content": null,
       "align_items": null,
       "align_self": null,
       "border": null,
       "bottom": null,
       "display": null,
       "flex": null,
       "flex_flow": null,
       "grid_area": null,
       "grid_auto_columns": null,
       "grid_auto_flow": null,
       "grid_auto_rows": null,
       "grid_column": null,
       "grid_gap": null,
       "grid_row": null,
       "grid_template_areas": null,
       "grid_template_columns": null,
       "grid_template_rows": null,
       "height": null,
       "justify_content": null,
       "justify_items": null,
       "left": null,
       "margin": null,
       "max_height": null,
       "max_width": null,
       "min_height": null,
       "min_width": null,
       "object_fit": null,
       "object_position": null,
       "order": null,
       "overflow": null,
       "overflow_x": null,
       "overflow_y": null,
       "padding": null,
       "right": null,
       "top": null,
       "visibility": null,
       "width": null
      }
     },
     "486db724acab4a57a742206b86ce3f62": {
      "model_module": "@jupyter-widgets/controls",
      "model_module_version": "1.5.0",
      "model_name": "DescriptionStyleModel",
      "state": {
       "_model_module": "@jupyter-widgets/controls",
       "_model_module_version": "1.5.0",
       "_model_name": "DescriptionStyleModel",
       "_view_count": null,
       "_view_module": "@jupyter-widgets/base",
       "_view_module_version": "1.2.0",
       "_view_name": "StyleView",
       "description_width": ""
      }
     },
     "48f0c4a7bb664d7d893349a3c172fb43": {
      "model_module": "@jupyter-widgets/base",
      "model_module_version": "1.2.0",
      "model_name": "LayoutModel",
      "state": {
       "_model_module": "@jupyter-widgets/base",
       "_model_module_version": "1.2.0",
       "_model_name": "LayoutModel",
       "_view_count": null,
       "_view_module": "@jupyter-widgets/base",
       "_view_module_version": "1.2.0",
       "_view_name": "LayoutView",
       "align_content": null,
       "align_items": null,
       "align_self": null,
       "border": null,
       "bottom": null,
       "display": null,
       "flex": null,
       "flex_flow": null,
       "grid_area": null,
       "grid_auto_columns": null,
       "grid_auto_flow": null,
       "grid_auto_rows": null,
       "grid_column": null,
       "grid_gap": null,
       "grid_row": null,
       "grid_template_areas": null,
       "grid_template_columns": null,
       "grid_template_rows": null,
       "height": null,
       "justify_content": null,
       "justify_items": null,
       "left": null,
       "margin": null,
       "max_height": null,
       "max_width": null,
       "min_height": null,
       "min_width": null,
       "object_fit": null,
       "object_position": null,
       "order": null,
       "overflow": null,
       "overflow_x": null,
       "overflow_y": null,
       "padding": null,
       "right": null,
       "top": null,
       "visibility": null,
       "width": null
      }
     },
     "4e582aa365d04e7b8de719c019904659": {
      "model_module": "@jupyter-widgets/controls",
      "model_module_version": "1.5.0",
      "model_name": "ProgressStyleModel",
      "state": {
       "_model_module": "@jupyter-widgets/controls",
       "_model_module_version": "1.5.0",
       "_model_name": "ProgressStyleModel",
       "_view_count": null,
       "_view_module": "@jupyter-widgets/base",
       "_view_module_version": "1.2.0",
       "_view_name": "StyleView",
       "bar_color": null,
       "description_width": ""
      }
     },
     "4f1e585537b142a2980e912a20cee8c1": {
      "model_module": "@jupyter-widgets/controls",
      "model_module_version": "1.5.0",
      "model_name": "FloatProgressModel",
      "state": {
       "_dom_classes": [],
       "_model_module": "@jupyter-widgets/controls",
       "_model_module_version": "1.5.0",
       "_model_name": "FloatProgressModel",
       "_view_count": null,
       "_view_module": "@jupyter-widgets/controls",
       "_view_module_version": "1.5.0",
       "_view_name": "ProgressView",
       "bar_style": "success",
       "description": "",
       "description_tooltip": null,
       "layout": "IPY_MODEL_27a9aa6e61204b10a56e991e794773f3",
       "max": 3,
       "min": 0,
       "orientation": "horizontal",
       "style": "IPY_MODEL_d6165c2df5b145cab5416728677afe1e",
       "value": 3
      }
     },
     "50451477a5874f77bdf23f4dd270b8c7": {
      "model_module": "@jupyter-widgets/controls",
      "model_module_version": "1.5.0",
      "model_name": "HTMLModel",
      "state": {
       "_dom_classes": [],
       "_model_module": "@jupyter-widgets/controls",
       "_model_module_version": "1.5.0",
       "_model_name": "HTMLModel",
       "_view_count": null,
       "_view_module": "@jupyter-widgets/controls",
       "_view_module_version": "1.5.0",
       "_view_name": "HTMLView",
       "description": "",
       "description_tooltip": null,
       "layout": "IPY_MODEL_f1d7a27c15e14af0a456253e82aff040",
       "placeholder": "​",
       "style": "IPY_MODEL_06e769cc35914d0e968938eecc977ed5",
       "value": " 3/3 [00:00&lt;00:00, 313.16it/s]"
      }
     },
     "51d5218a2aac466594a385f2a8232af7": {
      "model_module": "@jupyter-widgets/controls",
      "model_module_version": "1.5.0",
      "model_name": "HTMLModel",
      "state": {
       "_dom_classes": [],
       "_model_module": "@jupyter-widgets/controls",
       "_model_module_version": "1.5.0",
       "_model_name": "HTMLModel",
       "_view_count": null,
       "_view_module": "@jupyter-widgets/controls",
       "_view_module_version": "1.5.0",
       "_view_name": "HTMLView",
       "description": "",
       "description_tooltip": null,
       "layout": "IPY_MODEL_7034fbd8e10440d98d94e2d53a9eda07",
       "placeholder": "​",
       "style": "IPY_MODEL_b0dc65321d8849ca9045978fc2fbe0ba",
       "value": " 2471/2471 [00:00&lt;00:00, 5197.54it/s]"
      }
     },
     "53302bd5df094b21a0ad5a9f5e1a7c85": {
      "model_module": "@jupyter-widgets/base",
      "model_module_version": "1.2.0",
      "model_name": "LayoutModel",
      "state": {
       "_model_module": "@jupyter-widgets/base",
       "_model_module_version": "1.2.0",
       "_model_name": "LayoutModel",
       "_view_count": null,
       "_view_module": "@jupyter-widgets/base",
       "_view_module_version": "1.2.0",
       "_view_name": "LayoutView",
       "align_content": null,
       "align_items": null,
       "align_self": null,
       "border": null,
       "bottom": null,
       "display": null,
       "flex": null,
       "flex_flow": null,
       "grid_area": null,
       "grid_auto_columns": null,
       "grid_auto_flow": null,
       "grid_auto_rows": null,
       "grid_column": null,
       "grid_gap": null,
       "grid_row": null,
       "grid_template_areas": null,
       "grid_template_columns": null,
       "grid_template_rows": null,
       "height": null,
       "justify_content": null,
       "justify_items": null,
       "left": null,
       "margin": null,
       "max_height": null,
       "max_width": null,
       "min_height": null,
       "min_width": null,
       "object_fit": null,
       "object_position": null,
       "order": null,
       "overflow": null,
       "overflow_x": null,
       "overflow_y": null,
       "padding": null,
       "right": null,
       "top": null,
       "visibility": null,
       "width": null
      }
     },
     "58684898f38844c2b75f4eefdca28332": {
      "model_module": "@jupyter-widgets/controls",
      "model_module_version": "1.5.0",
      "model_name": "DescriptionStyleModel",
      "state": {
       "_model_module": "@jupyter-widgets/controls",
       "_model_module_version": "1.5.0",
       "_model_name": "DescriptionStyleModel",
       "_view_count": null,
       "_view_module": "@jupyter-widgets/base",
       "_view_module_version": "1.2.0",
       "_view_name": "StyleView",
       "description_width": ""
      }
     },
     "5adc2d7d3549415fbb19ee3ff6da27f3": {
      "model_module": "@jupyter-widgets/controls",
      "model_module_version": "1.5.0",
      "model_name": "DescriptionStyleModel",
      "state": {
       "_model_module": "@jupyter-widgets/controls",
       "_model_module_version": "1.5.0",
       "_model_name": "DescriptionStyleModel",
       "_view_count": null,
       "_view_module": "@jupyter-widgets/base",
       "_view_module_version": "1.2.0",
       "_view_name": "StyleView",
       "description_width": ""
      }
     },
     "5b0028f6c827417abbc0b04c9af86b50": {
      "model_module": "@jupyter-widgets/base",
      "model_module_version": "1.2.0",
      "model_name": "LayoutModel",
      "state": {
       "_model_module": "@jupyter-widgets/base",
       "_model_module_version": "1.2.0",
       "_model_name": "LayoutModel",
       "_view_count": null,
       "_view_module": "@jupyter-widgets/base",
       "_view_module_version": "1.2.0",
       "_view_name": "LayoutView",
       "align_content": null,
       "align_items": null,
       "align_self": null,
       "border": null,
       "bottom": null,
       "display": null,
       "flex": null,
       "flex_flow": null,
       "grid_area": null,
       "grid_auto_columns": null,
       "grid_auto_flow": null,
       "grid_auto_rows": null,
       "grid_column": null,
       "grid_gap": null,
       "grid_row": null,
       "grid_template_areas": null,
       "grid_template_columns": null,
       "grid_template_rows": null,
       "height": null,
       "justify_content": null,
       "justify_items": null,
       "left": null,
       "margin": null,
       "max_height": null,
       "max_width": null,
       "min_height": null,
       "min_width": null,
       "object_fit": null,
       "object_position": null,
       "order": null,
       "overflow": null,
       "overflow_x": null,
       "overflow_y": null,
       "padding": null,
       "right": null,
       "top": null,
       "visibility": null,
       "width": null
      }
     },
     "5b4b26036873438d98690bdb81927b17": {
      "model_module": "@jupyter-widgets/base",
      "model_module_version": "1.2.0",
      "model_name": "LayoutModel",
      "state": {
       "_model_module": "@jupyter-widgets/base",
       "_model_module_version": "1.2.0",
       "_model_name": "LayoutModel",
       "_view_count": null,
       "_view_module": "@jupyter-widgets/base",
       "_view_module_version": "1.2.0",
       "_view_name": "LayoutView",
       "align_content": null,
       "align_items": null,
       "align_self": null,
       "border": null,
       "bottom": null,
       "display": null,
       "flex": null,
       "flex_flow": null,
       "grid_area": null,
       "grid_auto_columns": null,
       "grid_auto_flow": null,
       "grid_auto_rows": null,
       "grid_column": null,
       "grid_gap": null,
       "grid_row": null,
       "grid_template_areas": null,
       "grid_template_columns": null,
       "grid_template_rows": null,
       "height": null,
       "justify_content": null,
       "justify_items": null,
       "left": null,
       "margin": null,
       "max_height": null,
       "max_width": null,
       "min_height": null,
       "min_width": null,
       "object_fit": null,
       "object_position": null,
       "order": null,
       "overflow": null,
       "overflow_x": null,
       "overflow_y": null,
       "padding": null,
       "right": null,
       "top": null,
       "visibility": null,
       "width": null
      }
     },
     "5b644b35cac543e4b3655d157a41238c": {
      "model_module": "@jupyter-widgets/base",
      "model_module_version": "1.2.0",
      "model_name": "LayoutModel",
      "state": {
       "_model_module": "@jupyter-widgets/base",
       "_model_module_version": "1.2.0",
       "_model_name": "LayoutModel",
       "_view_count": null,
       "_view_module": "@jupyter-widgets/base",
       "_view_module_version": "1.2.0",
       "_view_name": "LayoutView",
       "align_content": null,
       "align_items": null,
       "align_self": null,
       "border": null,
       "bottom": null,
       "display": null,
       "flex": null,
       "flex_flow": null,
       "grid_area": null,
       "grid_auto_columns": null,
       "grid_auto_flow": null,
       "grid_auto_rows": null,
       "grid_column": null,
       "grid_gap": null,
       "grid_row": null,
       "grid_template_areas": null,
       "grid_template_columns": null,
       "grid_template_rows": null,
       "height": null,
       "justify_content": null,
       "justify_items": null,
       "left": null,
       "margin": null,
       "max_height": null,
       "max_width": null,
       "min_height": null,
       "min_width": null,
       "object_fit": null,
       "object_position": null,
       "order": null,
       "overflow": null,
       "overflow_x": null,
       "overflow_y": null,
       "padding": null,
       "right": null,
       "top": null,
       "visibility": null,
       "width": null
      }
     },
     "5d55b1bb0a2f4abbbaa0f52ee7e510ba": {
      "model_module": "@jupyter-widgets/controls",
      "model_module_version": "1.5.0",
      "model_name": "HTMLModel",
      "state": {
       "_dom_classes": [],
       "_model_module": "@jupyter-widgets/controls",
       "_model_module_version": "1.5.0",
       "_model_name": "HTMLModel",
       "_view_count": null,
       "_view_module": "@jupyter-widgets/controls",
       "_view_module_version": "1.5.0",
       "_view_name": "HTMLView",
       "description": "",
       "description_tooltip": null,
       "layout": "IPY_MODEL_1b3b1575df4e47df8128dcba2a65b47f",
       "placeholder": "​",
       "style": "IPY_MODEL_61503ee2ae80472fbf40a13dbb985f44",
       "value": "100%"
      }
     },
     "5e5162cd23124f208d2def4e6ec0f6b4": {
      "model_module": "@jupyter-widgets/controls",
      "model_module_version": "1.5.0",
      "model_name": "DescriptionStyleModel",
      "state": {
       "_model_module": "@jupyter-widgets/controls",
       "_model_module_version": "1.5.0",
       "_model_name": "DescriptionStyleModel",
       "_view_count": null,
       "_view_module": "@jupyter-widgets/base",
       "_view_module_version": "1.2.0",
       "_view_name": "StyleView",
       "description_width": ""
      }
     },
     "5e7d7e0f435a4d03868979f32241effb": {
      "model_module": "@jupyter-widgets/controls",
      "model_module_version": "1.5.0",
      "model_name": "HTMLModel",
      "state": {
       "_dom_classes": [],
       "_model_module": "@jupyter-widgets/controls",
       "_model_module_version": "1.5.0",
       "_model_name": "HTMLModel",
       "_view_count": null,
       "_view_module": "@jupyter-widgets/controls",
       "_view_module_version": "1.5.0",
       "_view_name": "HTMLView",
       "description": "",
       "description_tooltip": null,
       "layout": "IPY_MODEL_f0538d3bfae44cb8bb8e2526ee892fa8",
       "placeholder": "​",
       "style": "IPY_MODEL_08d2ea0babd344cbabbd5982ba00003b",
       "value": "100%"
      }
     },
     "604582e8805c431d8e5aaafa7c28afd3": {
      "model_module": "@jupyter-widgets/base",
      "model_module_version": "1.2.0",
      "model_name": "LayoutModel",
      "state": {
       "_model_module": "@jupyter-widgets/base",
       "_model_module_version": "1.2.0",
       "_model_name": "LayoutModel",
       "_view_count": null,
       "_view_module": "@jupyter-widgets/base",
       "_view_module_version": "1.2.0",
       "_view_name": "LayoutView",
       "align_content": null,
       "align_items": null,
       "align_self": null,
       "border": null,
       "bottom": null,
       "display": null,
       "flex": null,
       "flex_flow": null,
       "grid_area": null,
       "grid_auto_columns": null,
       "grid_auto_flow": null,
       "grid_auto_rows": null,
       "grid_column": null,
       "grid_gap": null,
       "grid_row": null,
       "grid_template_areas": null,
       "grid_template_columns": null,
       "grid_template_rows": null,
       "height": null,
       "justify_content": null,
       "justify_items": null,
       "left": null,
       "margin": null,
       "max_height": null,
       "max_width": null,
       "min_height": null,
       "min_width": null,
       "object_fit": null,
       "object_position": null,
       "order": null,
       "overflow": null,
       "overflow_x": null,
       "overflow_y": null,
       "padding": null,
       "right": null,
       "top": null,
       "visibility": null,
       "width": null
      }
     },
     "61503ee2ae80472fbf40a13dbb985f44": {
      "model_module": "@jupyter-widgets/controls",
      "model_module_version": "1.5.0",
      "model_name": "DescriptionStyleModel",
      "state": {
       "_model_module": "@jupyter-widgets/controls",
       "_model_module_version": "1.5.0",
       "_model_name": "DescriptionStyleModel",
       "_view_count": null,
       "_view_module": "@jupyter-widgets/base",
       "_view_module_version": "1.2.0",
       "_view_name": "StyleView",
       "description_width": ""
      }
     },
     "6596e0fa2f6941e49e59e3c6a9b92828": {
      "model_module": "@jupyter-widgets/controls",
      "model_module_version": "1.5.0",
      "model_name": "HTMLModel",
      "state": {
       "_dom_classes": [],
       "_model_module": "@jupyter-widgets/controls",
       "_model_module_version": "1.5.0",
       "_model_name": "HTMLModel",
       "_view_count": null,
       "_view_module": "@jupyter-widgets/controls",
       "_view_module_version": "1.5.0",
       "_view_name": "HTMLView",
       "description": "",
       "description_tooltip": null,
       "layout": "IPY_MODEL_a4abd0521d1f4b89a4ce83011534dd01",
       "placeholder": "​",
       "style": "IPY_MODEL_330456d5445c4fe9ad5d8ba462bfcaeb",
       "value": " 2471/2471 [00:00&lt;00:00, 5535.75it/s]"
      }
     },
     "6821a66cf33e4aeba1db42a712fa129c": {
      "model_module": "@jupyter-widgets/controls",
      "model_module_version": "1.5.0",
      "model_name": "DescriptionStyleModel",
      "state": {
       "_model_module": "@jupyter-widgets/controls",
       "_model_module_version": "1.5.0",
       "_model_name": "DescriptionStyleModel",
       "_view_count": null,
       "_view_module": "@jupyter-widgets/base",
       "_view_module_version": "1.2.0",
       "_view_name": "StyleView",
       "description_width": ""
      }
     },
     "69802a79ea144f99be4390ba35239ce1": {
      "model_module": "@jupyter-widgets/controls",
      "model_module_version": "1.5.0",
      "model_name": "DescriptionStyleModel",
      "state": {
       "_model_module": "@jupyter-widgets/controls",
       "_model_module_version": "1.5.0",
       "_model_name": "DescriptionStyleModel",
       "_view_count": null,
       "_view_module": "@jupyter-widgets/base",
       "_view_module_version": "1.2.0",
       "_view_name": "StyleView",
       "description_width": ""
      }
     },
     "6a32b79193d4417db74eab3dab5d43bc": {
      "model_module": "@jupyter-widgets/controls",
      "model_module_version": "1.5.0",
      "model_name": "HTMLModel",
      "state": {
       "_dom_classes": [],
       "_model_module": "@jupyter-widgets/controls",
       "_model_module_version": "1.5.0",
       "_model_name": "HTMLModel",
       "_view_count": null,
       "_view_module": "@jupyter-widgets/controls",
       "_view_module_version": "1.5.0",
       "_view_name": "HTMLView",
       "description": "",
       "description_tooltip": null,
       "layout": "IPY_MODEL_028aa7254f2b437997db6ec355ac6e92",
       "placeholder": "​",
       "style": "IPY_MODEL_69802a79ea144f99be4390ba35239ce1",
       "value": " 3/3 [00:00&lt;00:00, 268.34it/s]"
      }
     },
     "6b6a46d3163748efb001aa044edbe1f2": {
      "model_module": "@jupyter-widgets/controls",
      "model_module_version": "1.5.0",
      "model_name": "DescriptionStyleModel",
      "state": {
       "_model_module": "@jupyter-widgets/controls",
       "_model_module_version": "1.5.0",
       "_model_name": "DescriptionStyleModel",
       "_view_count": null,
       "_view_module": "@jupyter-widgets/base",
       "_view_module_version": "1.2.0",
       "_view_name": "StyleView",
       "description_width": ""
      }
     },
     "6e15396f017a4b81b37e33fc808d76f5": {
      "model_module": "@jupyter-widgets/controls",
      "model_module_version": "1.5.0",
      "model_name": "DescriptionStyleModel",
      "state": {
       "_model_module": "@jupyter-widgets/controls",
       "_model_module_version": "1.5.0",
       "_model_name": "DescriptionStyleModel",
       "_view_count": null,
       "_view_module": "@jupyter-widgets/base",
       "_view_module_version": "1.2.0",
       "_view_name": "StyleView",
       "description_width": ""
      }
     },
     "7034fbd8e10440d98d94e2d53a9eda07": {
      "model_module": "@jupyter-widgets/base",
      "model_module_version": "1.2.0",
      "model_name": "LayoutModel",
      "state": {
       "_model_module": "@jupyter-widgets/base",
       "_model_module_version": "1.2.0",
       "_model_name": "LayoutModel",
       "_view_count": null,
       "_view_module": "@jupyter-widgets/base",
       "_view_module_version": "1.2.0",
       "_view_name": "LayoutView",
       "align_content": null,
       "align_items": null,
       "align_self": null,
       "border": null,
       "bottom": null,
       "display": null,
       "flex": null,
       "flex_flow": null,
       "grid_area": null,
       "grid_auto_columns": null,
       "grid_auto_flow": null,
       "grid_auto_rows": null,
       "grid_column": null,
       "grid_gap": null,
       "grid_row": null,
       "grid_template_areas": null,
       "grid_template_columns": null,
       "grid_template_rows": null,
       "height": null,
       "justify_content": null,
       "justify_items": null,
       "left": null,
       "margin": null,
       "max_height": null,
       "max_width": null,
       "min_height": null,
       "min_width": null,
       "object_fit": null,
       "object_position": null,
       "order": null,
       "overflow": null,
       "overflow_x": null,
       "overflow_y": null,
       "padding": null,
       "right": null,
       "top": null,
       "visibility": null,
       "width": null
      }
     },
     "70834571cf944ed4be77b2894f57047e": {
      "model_module": "@jupyter-widgets/base",
      "model_module_version": "1.2.0",
      "model_name": "LayoutModel",
      "state": {
       "_model_module": "@jupyter-widgets/base",
       "_model_module_version": "1.2.0",
       "_model_name": "LayoutModel",
       "_view_count": null,
       "_view_module": "@jupyter-widgets/base",
       "_view_module_version": "1.2.0",
       "_view_name": "LayoutView",
       "align_content": null,
       "align_items": null,
       "align_self": null,
       "border": null,
       "bottom": null,
       "display": null,
       "flex": null,
       "flex_flow": null,
       "grid_area": null,
       "grid_auto_columns": null,
       "grid_auto_flow": null,
       "grid_auto_rows": null,
       "grid_column": null,
       "grid_gap": null,
       "grid_row": null,
       "grid_template_areas": null,
       "grid_template_columns": null,
       "grid_template_rows": null,
       "height": null,
       "justify_content": null,
       "justify_items": null,
       "left": null,
       "margin": null,
       "max_height": null,
       "max_width": null,
       "min_height": null,
       "min_width": null,
       "object_fit": null,
       "object_position": null,
       "order": null,
       "overflow": null,
       "overflow_x": null,
       "overflow_y": null,
       "padding": null,
       "right": null,
       "top": null,
       "visibility": null,
       "width": null
      }
     },
     "710edca1305a407e91f65d587e1b586f": {
      "model_module": "@jupyter-widgets/base",
      "model_module_version": "1.2.0",
      "model_name": "LayoutModel",
      "state": {
       "_model_module": "@jupyter-widgets/base",
       "_model_module_version": "1.2.0",
       "_model_name": "LayoutModel",
       "_view_count": null,
       "_view_module": "@jupyter-widgets/base",
       "_view_module_version": "1.2.0",
       "_view_name": "LayoutView",
       "align_content": null,
       "align_items": null,
       "align_self": null,
       "border": null,
       "bottom": null,
       "display": null,
       "flex": null,
       "flex_flow": null,
       "grid_area": null,
       "grid_auto_columns": null,
       "grid_auto_flow": null,
       "grid_auto_rows": null,
       "grid_column": null,
       "grid_gap": null,
       "grid_row": null,
       "grid_template_areas": null,
       "grid_template_columns": null,
       "grid_template_rows": null,
       "height": null,
       "justify_content": null,
       "justify_items": null,
       "left": null,
       "margin": null,
       "max_height": null,
       "max_width": null,
       "min_height": null,
       "min_width": null,
       "object_fit": null,
       "object_position": null,
       "order": null,
       "overflow": null,
       "overflow_x": null,
       "overflow_y": null,
       "padding": null,
       "right": null,
       "top": null,
       "visibility": null,
       "width": null
      }
     },
     "71a495ddcd904fb3a17b99c33380b8ad": {
      "model_module": "@jupyter-widgets/base",
      "model_module_version": "1.2.0",
      "model_name": "LayoutModel",
      "state": {
       "_model_module": "@jupyter-widgets/base",
       "_model_module_version": "1.2.0",
       "_model_name": "LayoutModel",
       "_view_count": null,
       "_view_module": "@jupyter-widgets/base",
       "_view_module_version": "1.2.0",
       "_view_name": "LayoutView",
       "align_content": null,
       "align_items": null,
       "align_self": null,
       "border": null,
       "bottom": null,
       "display": null,
       "flex": null,
       "flex_flow": null,
       "grid_area": null,
       "grid_auto_columns": null,
       "grid_auto_flow": null,
       "grid_auto_rows": null,
       "grid_column": null,
       "grid_gap": null,
       "grid_row": null,
       "grid_template_areas": null,
       "grid_template_columns": null,
       "grid_template_rows": null,
       "height": null,
       "justify_content": null,
       "justify_items": null,
       "left": null,
       "margin": null,
       "max_height": null,
       "max_width": null,
       "min_height": null,
       "min_width": null,
       "object_fit": null,
       "object_position": null,
       "order": null,
       "overflow": null,
       "overflow_x": null,
       "overflow_y": null,
       "padding": null,
       "right": null,
       "top": null,
       "visibility": null,
       "width": null
      }
     },
     "782b33fa192e483a8f8405019b8ffa1a": {
      "model_module": "@jupyter-widgets/controls",
      "model_module_version": "1.5.0",
      "model_name": "FloatProgressModel",
      "state": {
       "_dom_classes": [],
       "_model_module": "@jupyter-widgets/controls",
       "_model_module_version": "1.5.0",
       "_model_name": "FloatProgressModel",
       "_view_count": null,
       "_view_module": "@jupyter-widgets/controls",
       "_view_module_version": "1.5.0",
       "_view_name": "ProgressView",
       "bar_style": "success",
       "description": "",
       "description_tooltip": null,
       "layout": "IPY_MODEL_b406a4fe0f7f49e0bba3b6851e102191",
       "max": 3,
       "min": 0,
       "orientation": "horizontal",
       "style": "IPY_MODEL_996efd2bac8e4b4e8a798ebc13cb40ce",
       "value": 3
      }
     },
     "7b2999bacf4a4966b52f67f6b09d8810": {
      "model_module": "@jupyter-widgets/base",
      "model_module_version": "1.2.0",
      "model_name": "LayoutModel",
      "state": {
       "_model_module": "@jupyter-widgets/base",
       "_model_module_version": "1.2.0",
       "_model_name": "LayoutModel",
       "_view_count": null,
       "_view_module": "@jupyter-widgets/base",
       "_view_module_version": "1.2.0",
       "_view_name": "LayoutView",
       "align_content": null,
       "align_items": null,
       "align_self": null,
       "border": null,
       "bottom": null,
       "display": null,
       "flex": null,
       "flex_flow": null,
       "grid_area": null,
       "grid_auto_columns": null,
       "grid_auto_flow": null,
       "grid_auto_rows": null,
       "grid_column": null,
       "grid_gap": null,
       "grid_row": null,
       "grid_template_areas": null,
       "grid_template_columns": null,
       "grid_template_rows": null,
       "height": null,
       "justify_content": null,
       "justify_items": null,
       "left": null,
       "margin": null,
       "max_height": null,
       "max_width": null,
       "min_height": null,
       "min_width": null,
       "object_fit": null,
       "object_position": null,
       "order": null,
       "overflow": null,
       "overflow_x": null,
       "overflow_y": null,
       "padding": null,
       "right": null,
       "top": null,
       "visibility": null,
       "width": null
      }
     },
     "7cabe5e2d56d4c8e8fb2c254db663ea5": {
      "model_module": "@jupyter-widgets/base",
      "model_module_version": "1.2.0",
      "model_name": "LayoutModel",
      "state": {
       "_model_module": "@jupyter-widgets/base",
       "_model_module_version": "1.2.0",
       "_model_name": "LayoutModel",
       "_view_count": null,
       "_view_module": "@jupyter-widgets/base",
       "_view_module_version": "1.2.0",
       "_view_name": "LayoutView",
       "align_content": null,
       "align_items": null,
       "align_self": null,
       "border": null,
       "bottom": null,
       "display": null,
       "flex": null,
       "flex_flow": null,
       "grid_area": null,
       "grid_auto_columns": null,
       "grid_auto_flow": null,
       "grid_auto_rows": null,
       "grid_column": null,
       "grid_gap": null,
       "grid_row": null,
       "grid_template_areas": null,
       "grid_template_columns": null,
       "grid_template_rows": null,
       "height": null,
       "justify_content": null,
       "justify_items": null,
       "left": null,
       "margin": null,
       "max_height": null,
       "max_width": null,
       "min_height": null,
       "min_width": null,
       "object_fit": null,
       "object_position": null,
       "order": null,
       "overflow": null,
       "overflow_x": null,
       "overflow_y": null,
       "padding": null,
       "right": null,
       "top": null,
       "visibility": null,
       "width": null
      }
     },
     "7cb0e15222a24715817fa55932cfae28": {
      "model_module": "@jupyter-widgets/controls",
      "model_module_version": "1.5.0",
      "model_name": "HTMLModel",
      "state": {
       "_dom_classes": [],
       "_model_module": "@jupyter-widgets/controls",
       "_model_module_version": "1.5.0",
       "_model_name": "HTMLModel",
       "_view_count": null,
       "_view_module": "@jupyter-widgets/controls",
       "_view_module_version": "1.5.0",
       "_view_name": "HTMLView",
       "description": "",
       "description_tooltip": null,
       "layout": "IPY_MODEL_eb9e0785854a4773a2620c474c7a4f9d",
       "placeholder": "​",
       "style": "IPY_MODEL_5e5162cd23124f208d2def4e6ec0f6b4",
       "value": " 3/3 [00:00&lt;00:00, 273.21it/s]"
      }
     },
     "7e962a1251e8480a8eea6c12faf11334": {
      "model_module": "@jupyter-widgets/controls",
      "model_module_version": "1.5.0",
      "model_name": "HBoxModel",
      "state": {
       "_dom_classes": [],
       "_model_module": "@jupyter-widgets/controls",
       "_model_module_version": "1.5.0",
       "_model_name": "HBoxModel",
       "_view_count": null,
       "_view_module": "@jupyter-widgets/controls",
       "_view_module_version": "1.5.0",
       "_view_name": "HBoxView",
       "box_style": "",
       "children": [
        "IPY_MODEL_8ce5f01b556645c2bd64fe28a701f76a",
        "IPY_MODEL_363bc9de513247c38eb90b247f403523",
        "IPY_MODEL_cb08f9c8226f4af2a3d832868cf6ef79"
       ],
       "layout": "IPY_MODEL_03283cfa32ef4c05b60f089615596a6c"
      }
     },
     "8298e1ea3eae447cb1e2a768f7444ccb": {
      "model_module": "@jupyter-widgets/base",
      "model_module_version": "1.2.0",
      "model_name": "LayoutModel",
      "state": {
       "_model_module": "@jupyter-widgets/base",
       "_model_module_version": "1.2.0",
       "_model_name": "LayoutModel",
       "_view_count": null,
       "_view_module": "@jupyter-widgets/base",
       "_view_module_version": "1.2.0",
       "_view_name": "LayoutView",
       "align_content": null,
       "align_items": null,
       "align_self": null,
       "border": null,
       "bottom": null,
       "display": null,
       "flex": null,
       "flex_flow": null,
       "grid_area": null,
       "grid_auto_columns": null,
       "grid_auto_flow": null,
       "grid_auto_rows": null,
       "grid_column": null,
       "grid_gap": null,
       "grid_row": null,
       "grid_template_areas": null,
       "grid_template_columns": null,
       "grid_template_rows": null,
       "height": null,
       "justify_content": null,
       "justify_items": null,
       "left": null,
       "margin": null,
       "max_height": null,
       "max_width": null,
       "min_height": null,
       "min_width": null,
       "object_fit": null,
       "object_position": null,
       "order": null,
       "overflow": null,
       "overflow_x": null,
       "overflow_y": null,
       "padding": null,
       "right": null,
       "top": null,
       "visibility": null,
       "width": null
      }
     },
     "841888a574144933b07f16385e76dacb": {
      "model_module": "@jupyter-widgets/controls",
      "model_module_version": "1.5.0",
      "model_name": "ProgressStyleModel",
      "state": {
       "_model_module": "@jupyter-widgets/controls",
       "_model_module_version": "1.5.0",
       "_model_name": "ProgressStyleModel",
       "_view_count": null,
       "_view_module": "@jupyter-widgets/base",
       "_view_module_version": "1.2.0",
       "_view_name": "StyleView",
       "bar_color": null,
       "description_width": ""
      }
     },
     "861512c34a7d4eb89d67f7545fcf2157": {
      "model_module": "@jupyter-widgets/controls",
      "model_module_version": "1.5.0",
      "model_name": "DescriptionStyleModel",
      "state": {
       "_model_module": "@jupyter-widgets/controls",
       "_model_module_version": "1.5.0",
       "_model_name": "DescriptionStyleModel",
       "_view_count": null,
       "_view_module": "@jupyter-widgets/base",
       "_view_module_version": "1.2.0",
       "_view_name": "StyleView",
       "description_width": ""
      }
     },
     "8797afacf074476f8e97a5544d90e6f3": {
      "model_module": "@jupyter-widgets/controls",
      "model_module_version": "1.5.0",
      "model_name": "HTMLModel",
      "state": {
       "_dom_classes": [],
       "_model_module": "@jupyter-widgets/controls",
       "_model_module_version": "1.5.0",
       "_model_name": "HTMLModel",
       "_view_count": null,
       "_view_module": "@jupyter-widgets/controls",
       "_view_module_version": "1.5.0",
       "_view_name": "HTMLView",
       "description": "",
       "description_tooltip": null,
       "layout": "IPY_MODEL_3d976dcd779d4a1ba77a61ba51d0071d",
       "placeholder": "​",
       "style": "IPY_MODEL_1a39cb800c894d269635b417b3cbd645",
       "value": "100%"
      }
     },
     "87b1895226bb40188ba70ba0301c34cf": {
      "model_module": "@jupyter-widgets/base",
      "model_module_version": "1.2.0",
      "model_name": "LayoutModel",
      "state": {
       "_model_module": "@jupyter-widgets/base",
       "_model_module_version": "1.2.0",
       "_model_name": "LayoutModel",
       "_view_count": null,
       "_view_module": "@jupyter-widgets/base",
       "_view_module_version": "1.2.0",
       "_view_name": "LayoutView",
       "align_content": null,
       "align_items": null,
       "align_self": null,
       "border": null,
       "bottom": null,
       "display": null,
       "flex": null,
       "flex_flow": null,
       "grid_area": null,
       "grid_auto_columns": null,
       "grid_auto_flow": null,
       "grid_auto_rows": null,
       "grid_column": null,
       "grid_gap": null,
       "grid_row": null,
       "grid_template_areas": null,
       "grid_template_columns": null,
       "grid_template_rows": null,
       "height": null,
       "justify_content": null,
       "justify_items": null,
       "left": null,
       "margin": null,
       "max_height": null,
       "max_width": null,
       "min_height": null,
       "min_width": null,
       "object_fit": null,
       "object_position": null,
       "order": null,
       "overflow": null,
       "overflow_x": null,
       "overflow_y": null,
       "padding": null,
       "right": null,
       "top": null,
       "visibility": null,
       "width": null
      }
     },
     "899e232c7e63403399c097ac2dd36e42": {
      "model_module": "@jupyter-widgets/base",
      "model_module_version": "1.2.0",
      "model_name": "LayoutModel",
      "state": {
       "_model_module": "@jupyter-widgets/base",
       "_model_module_version": "1.2.0",
       "_model_name": "LayoutModel",
       "_view_count": null,
       "_view_module": "@jupyter-widgets/base",
       "_view_module_version": "1.2.0",
       "_view_name": "LayoutView",
       "align_content": null,
       "align_items": null,
       "align_self": null,
       "border": null,
       "bottom": null,
       "display": null,
       "flex": null,
       "flex_flow": null,
       "grid_area": null,
       "grid_auto_columns": null,
       "grid_auto_flow": null,
       "grid_auto_rows": null,
       "grid_column": null,
       "grid_gap": null,
       "grid_row": null,
       "grid_template_areas": null,
       "grid_template_columns": null,
       "grid_template_rows": null,
       "height": null,
       "justify_content": null,
       "justify_items": null,
       "left": null,
       "margin": null,
       "max_height": null,
       "max_width": null,
       "min_height": null,
       "min_width": null,
       "object_fit": null,
       "object_position": null,
       "order": null,
       "overflow": null,
       "overflow_x": null,
       "overflow_y": null,
       "padding": null,
       "right": null,
       "top": null,
       "visibility": null,
       "width": null
      }
     },
     "8c6cb90005434cf7ac3e2c10c4a82804": {
      "model_module": "@jupyter-widgets/controls",
      "model_module_version": "1.5.0",
      "model_name": "HTMLModel",
      "state": {
       "_dom_classes": [],
       "_model_module": "@jupyter-widgets/controls",
       "_model_module_version": "1.5.0",
       "_model_name": "HTMLModel",
       "_view_count": null,
       "_view_module": "@jupyter-widgets/controls",
       "_view_module_version": "1.5.0",
       "_view_name": "HTMLView",
       "description": "",
       "description_tooltip": null,
       "layout": "IPY_MODEL_8298e1ea3eae447cb1e2a768f7444ccb",
       "placeholder": "​",
       "style": "IPY_MODEL_91ae50b297aa4bdfb4f55761b84fa056",
       "value": "100%"
      }
     },
     "8ca2fde46f6143bc950423cc78583b3e": {
      "model_module": "@jupyter-widgets/controls",
      "model_module_version": "1.5.0",
      "model_name": "HBoxModel",
      "state": {
       "_dom_classes": [],
       "_model_module": "@jupyter-widgets/controls",
       "_model_module_version": "1.5.0",
       "_model_name": "HBoxModel",
       "_view_count": null,
       "_view_module": "@jupyter-widgets/controls",
       "_view_module_version": "1.5.0",
       "_view_name": "HBoxView",
       "box_style": "",
       "children": [
        "IPY_MODEL_a193d971a0bc415da2050d04323b44d0",
        "IPY_MODEL_4255be3b3f714082a0af2ef5e4d94487",
        "IPY_MODEL_0e7e7728ab5d447aa63a48a170de5672"
       ],
       "layout": "IPY_MODEL_604582e8805c431d8e5aaafa7c28afd3"
      }
     },
     "8ce5f01b556645c2bd64fe28a701f76a": {
      "model_module": "@jupyter-widgets/controls",
      "model_module_version": "1.5.0",
      "model_name": "HTMLModel",
      "state": {
       "_dom_classes": [],
       "_model_module": "@jupyter-widgets/controls",
       "_model_module_version": "1.5.0",
       "_model_name": "HTMLModel",
       "_view_count": null,
       "_view_module": "@jupyter-widgets/controls",
       "_view_module_version": "1.5.0",
       "_view_name": "HTMLView",
       "description": "",
       "description_tooltip": null,
       "layout": "IPY_MODEL_fb6f20af3958429b871a105a59715d81",
       "placeholder": "​",
       "style": "IPY_MODEL_e3750a586062409cb60bbfdc1a795bd9",
       "value": "100%"
      }
     },
     "918aeb69a8a641b2ba8370deb81199b7": {
      "model_module": "@jupyter-widgets/base",
      "model_module_version": "1.2.0",
      "model_name": "LayoutModel",
      "state": {
       "_model_module": "@jupyter-widgets/base",
       "_model_module_version": "1.2.0",
       "_model_name": "LayoutModel",
       "_view_count": null,
       "_view_module": "@jupyter-widgets/base",
       "_view_module_version": "1.2.0",
       "_view_name": "LayoutView",
       "align_content": null,
       "align_items": null,
       "align_self": null,
       "border": null,
       "bottom": null,
       "display": null,
       "flex": null,
       "flex_flow": null,
       "grid_area": null,
       "grid_auto_columns": null,
       "grid_auto_flow": null,
       "grid_auto_rows": null,
       "grid_column": null,
       "grid_gap": null,
       "grid_row": null,
       "grid_template_areas": null,
       "grid_template_columns": null,
       "grid_template_rows": null,
       "height": null,
       "justify_content": null,
       "justify_items": null,
       "left": null,
       "margin": null,
       "max_height": null,
       "max_width": null,
       "min_height": null,
       "min_width": null,
       "object_fit": null,
       "object_position": null,
       "order": null,
       "overflow": null,
       "overflow_x": null,
       "overflow_y": null,
       "padding": null,
       "right": null,
       "top": null,
       "visibility": null,
       "width": null
      }
     },
     "91ae50b297aa4bdfb4f55761b84fa056": {
      "model_module": "@jupyter-widgets/controls",
      "model_module_version": "1.5.0",
      "model_name": "DescriptionStyleModel",
      "state": {
       "_model_module": "@jupyter-widgets/controls",
       "_model_module_version": "1.5.0",
       "_model_name": "DescriptionStyleModel",
       "_view_count": null,
       "_view_module": "@jupyter-widgets/base",
       "_view_module_version": "1.2.0",
       "_view_name": "StyleView",
       "description_width": ""
      }
     },
     "91c83e7acaf24e3b8b6b87b46bbf30eb": {
      "model_module": "@jupyter-widgets/base",
      "model_module_version": "1.2.0",
      "model_name": "LayoutModel",
      "state": {
       "_model_module": "@jupyter-widgets/base",
       "_model_module_version": "1.2.0",
       "_model_name": "LayoutModel",
       "_view_count": null,
       "_view_module": "@jupyter-widgets/base",
       "_view_module_version": "1.2.0",
       "_view_name": "LayoutView",
       "align_content": null,
       "align_items": null,
       "align_self": null,
       "border": null,
       "bottom": null,
       "display": null,
       "flex": null,
       "flex_flow": null,
       "grid_area": null,
       "grid_auto_columns": null,
       "grid_auto_flow": null,
       "grid_auto_rows": null,
       "grid_column": null,
       "grid_gap": null,
       "grid_row": null,
       "grid_template_areas": null,
       "grid_template_columns": null,
       "grid_template_rows": null,
       "height": null,
       "justify_content": null,
       "justify_items": null,
       "left": null,
       "margin": null,
       "max_height": null,
       "max_width": null,
       "min_height": null,
       "min_width": null,
       "object_fit": null,
       "object_position": null,
       "order": null,
       "overflow": null,
       "overflow_x": null,
       "overflow_y": null,
       "padding": null,
       "right": null,
       "top": null,
       "visibility": null,
       "width": null
      }
     },
     "9248d8b4d2c2456e868f5c518fce99e4": {
      "model_module": "@jupyter-widgets/controls",
      "model_module_version": "1.5.0",
      "model_name": "ProgressStyleModel",
      "state": {
       "_model_module": "@jupyter-widgets/controls",
       "_model_module_version": "1.5.0",
       "_model_name": "ProgressStyleModel",
       "_view_count": null,
       "_view_module": "@jupyter-widgets/base",
       "_view_module_version": "1.2.0",
       "_view_name": "StyleView",
       "bar_color": null,
       "description_width": ""
      }
     },
     "93506f6cd86844e4a4a8c0d0eae4d9df": {
      "model_module": "@jupyter-widgets/controls",
      "model_module_version": "1.5.0",
      "model_name": "FloatProgressModel",
      "state": {
       "_dom_classes": [],
       "_model_module": "@jupyter-widgets/controls",
       "_model_module_version": "1.5.0",
       "_model_name": "FloatProgressModel",
       "_view_count": null,
       "_view_module": "@jupyter-widgets/controls",
       "_view_module_version": "1.5.0",
       "_view_name": "ProgressView",
       "bar_style": "success",
       "description": "",
       "description_tooltip": null,
       "layout": "IPY_MODEL_f0dad9e3a64047549e8741c1e9fa1137",
       "max": 3,
       "min": 0,
       "orientation": "horizontal",
       "style": "IPY_MODEL_ef793847042a4975b7fb2cf1dc2c7f8f",
       "value": 3
      }
     },
     "9676067ac06f445db53fbf6210ece45f": {
      "model_module": "@jupyter-widgets/controls",
      "model_module_version": "1.5.0",
      "model_name": "ProgressStyleModel",
      "state": {
       "_model_module": "@jupyter-widgets/controls",
       "_model_module_version": "1.5.0",
       "_model_name": "ProgressStyleModel",
       "_view_count": null,
       "_view_module": "@jupyter-widgets/base",
       "_view_module_version": "1.2.0",
       "_view_name": "StyleView",
       "bar_color": null,
       "description_width": ""
      }
     },
     "97a5acde57b54e818a3039739ac636cf": {
      "model_module": "@jupyter-widgets/controls",
      "model_module_version": "1.5.0",
      "model_name": "HTMLModel",
      "state": {
       "_dom_classes": [],
       "_model_module": "@jupyter-widgets/controls",
       "_model_module_version": "1.5.0",
       "_model_name": "HTMLModel",
       "_view_count": null,
       "_view_module": "@jupyter-widgets/controls",
       "_view_module_version": "1.5.0",
       "_view_name": "HTMLView",
       "description": "",
       "description_tooltip": null,
       "layout": "IPY_MODEL_133abfcbb0cc40d1b946821ad15cf32c",
       "placeholder": "​",
       "style": "IPY_MODEL_37d13cb7e6164494bd7e0413133e8c0e",
       "value": "100%"
      }
     },
     "996efd2bac8e4b4e8a798ebc13cb40ce": {
      "model_module": "@jupyter-widgets/controls",
      "model_module_version": "1.5.0",
      "model_name": "ProgressStyleModel",
      "state": {
       "_model_module": "@jupyter-widgets/controls",
       "_model_module_version": "1.5.0",
       "_model_name": "ProgressStyleModel",
       "_view_count": null,
       "_view_module": "@jupyter-widgets/base",
       "_view_module_version": "1.2.0",
       "_view_name": "StyleView",
       "bar_color": null,
       "description_width": ""
      }
     },
     "9ce3964fd0d74ef393790746378d76e7": {
      "model_module": "@jupyter-widgets/controls",
      "model_module_version": "1.5.0",
      "model_name": "HTMLModel",
      "state": {
       "_dom_classes": [],
       "_model_module": "@jupyter-widgets/controls",
       "_model_module_version": "1.5.0",
       "_model_name": "HTMLModel",
       "_view_count": null,
       "_view_module": "@jupyter-widgets/controls",
       "_view_module_version": "1.5.0",
       "_view_name": "HTMLView",
       "description": "",
       "description_tooltip": null,
       "layout": "IPY_MODEL_e53bfccab1a14c81bb4624dc6780a606",
       "placeholder": "​",
       "style": "IPY_MODEL_6b6a46d3163748efb001aa044edbe1f2",
       "value": "100%"
      }
     },
     "9db7aeb036e34fabac6e76fc45cc913c": {
      "model_module": "@jupyter-widgets/controls",
      "model_module_version": "1.5.0",
      "model_name": "ProgressStyleModel",
      "state": {
       "_model_module": "@jupyter-widgets/controls",
       "_model_module_version": "1.5.0",
       "_model_name": "ProgressStyleModel",
       "_view_count": null,
       "_view_module": "@jupyter-widgets/base",
       "_view_module_version": "1.2.0",
       "_view_name": "StyleView",
       "bar_color": null,
       "description_width": ""
      }
     },
     "a0f210e08dee400283d58707e6d96913": {
      "model_module": "@jupyter-widgets/base",
      "model_module_version": "1.2.0",
      "model_name": "LayoutModel",
      "state": {
       "_model_module": "@jupyter-widgets/base",
       "_model_module_version": "1.2.0",
       "_model_name": "LayoutModel",
       "_view_count": null,
       "_view_module": "@jupyter-widgets/base",
       "_view_module_version": "1.2.0",
       "_view_name": "LayoutView",
       "align_content": null,
       "align_items": null,
       "align_self": null,
       "border": null,
       "bottom": null,
       "display": null,
       "flex": null,
       "flex_flow": null,
       "grid_area": null,
       "grid_auto_columns": null,
       "grid_auto_flow": null,
       "grid_auto_rows": null,
       "grid_column": null,
       "grid_gap": null,
       "grid_row": null,
       "grid_template_areas": null,
       "grid_template_columns": null,
       "grid_template_rows": null,
       "height": null,
       "justify_content": null,
       "justify_items": null,
       "left": null,
       "margin": null,
       "max_height": null,
       "max_width": null,
       "min_height": null,
       "min_width": null,
       "object_fit": null,
       "object_position": null,
       "order": null,
       "overflow": null,
       "overflow_x": null,
       "overflow_y": null,
       "padding": null,
       "right": null,
       "top": null,
       "visibility": null,
       "width": null
      }
     },
     "a193d971a0bc415da2050d04323b44d0": {
      "model_module": "@jupyter-widgets/controls",
      "model_module_version": "1.5.0",
      "model_name": "HTMLModel",
      "state": {
       "_dom_classes": [],
       "_model_module": "@jupyter-widgets/controls",
       "_model_module_version": "1.5.0",
       "_model_name": "HTMLModel",
       "_view_count": null,
       "_view_module": "@jupyter-widgets/controls",
       "_view_module_version": "1.5.0",
       "_view_name": "HTMLView",
       "description": "",
       "description_tooltip": null,
       "layout": "IPY_MODEL_7cabe5e2d56d4c8e8fb2c254db663ea5",
       "placeholder": "​",
       "style": "IPY_MODEL_486db724acab4a57a742206b86ce3f62",
       "value": "100%"
      }
     },
     "a4abd0521d1f4b89a4ce83011534dd01": {
      "model_module": "@jupyter-widgets/base",
      "model_module_version": "1.2.0",
      "model_name": "LayoutModel",
      "state": {
       "_model_module": "@jupyter-widgets/base",
       "_model_module_version": "1.2.0",
       "_model_name": "LayoutModel",
       "_view_count": null,
       "_view_module": "@jupyter-widgets/base",
       "_view_module_version": "1.2.0",
       "_view_name": "LayoutView",
       "align_content": null,
       "align_items": null,
       "align_self": null,
       "border": null,
       "bottom": null,
       "display": null,
       "flex": null,
       "flex_flow": null,
       "grid_area": null,
       "grid_auto_columns": null,
       "grid_auto_flow": null,
       "grid_auto_rows": null,
       "grid_column": null,
       "grid_gap": null,
       "grid_row": null,
       "grid_template_areas": null,
       "grid_template_columns": null,
       "grid_template_rows": null,
       "height": null,
       "justify_content": null,
       "justify_items": null,
       "left": null,
       "margin": null,
       "max_height": null,
       "max_width": null,
       "min_height": null,
       "min_width": null,
       "object_fit": null,
       "object_position": null,
       "order": null,
       "overflow": null,
       "overflow_x": null,
       "overflow_y": null,
       "padding": null,
       "right": null,
       "top": null,
       "visibility": null,
       "width": null
      }
     },
     "a647910294014fffb5e2ef2950eeaaa4": {
      "model_module": "@jupyter-widgets/controls",
      "model_module_version": "1.5.0",
      "model_name": "HTMLModel",
      "state": {
       "_dom_classes": [],
       "_model_module": "@jupyter-widgets/controls",
       "_model_module_version": "1.5.0",
       "_model_name": "HTMLModel",
       "_view_count": null,
       "_view_module": "@jupyter-widgets/controls",
       "_view_module_version": "1.5.0",
       "_view_name": "HTMLView",
       "description": "",
       "description_tooltip": null,
       "layout": "IPY_MODEL_b49564642ec44895bda0ca409a3bfaf7",
       "placeholder": "​",
       "style": "IPY_MODEL_b779cb045eb643bcb97c2a0978d040e4",
       "value": "100%"
      }
     },
     "a9e252c48d45433ca5367f21ab473f13": {
      "model_module": "@jupyter-widgets/controls",
      "model_module_version": "1.5.0",
      "model_name": "ProgressStyleModel",
      "state": {
       "_model_module": "@jupyter-widgets/controls",
       "_model_module_version": "1.5.0",
       "_model_name": "ProgressStyleModel",
       "_view_count": null,
       "_view_module": "@jupyter-widgets/base",
       "_view_module_version": "1.2.0",
       "_view_name": "StyleView",
       "bar_color": null,
       "description_width": ""
      }
     },
     "acc38bd63cf74883bbbf9314998c7915": {
      "model_module": "@jupyter-widgets/base",
      "model_module_version": "1.2.0",
      "model_name": "LayoutModel",
      "state": {
       "_model_module": "@jupyter-widgets/base",
       "_model_module_version": "1.2.0",
       "_model_name": "LayoutModel",
       "_view_count": null,
       "_view_module": "@jupyter-widgets/base",
       "_view_module_version": "1.2.0",
       "_view_name": "LayoutView",
       "align_content": null,
       "align_items": null,
       "align_self": null,
       "border": null,
       "bottom": null,
       "display": null,
       "flex": null,
       "flex_flow": null,
       "grid_area": null,
       "grid_auto_columns": null,
       "grid_auto_flow": null,
       "grid_auto_rows": null,
       "grid_column": null,
       "grid_gap": null,
       "grid_row": null,
       "grid_template_areas": null,
       "grid_template_columns": null,
       "grid_template_rows": null,
       "height": null,
       "justify_content": null,
       "justify_items": null,
       "left": null,
       "margin": null,
       "max_height": null,
       "max_width": null,
       "min_height": null,
       "min_width": null,
       "object_fit": null,
       "object_position": null,
       "order": null,
       "overflow": null,
       "overflow_x": null,
       "overflow_y": null,
       "padding": null,
       "right": null,
       "top": null,
       "visibility": null,
       "width": null
      }
     },
     "af1424e323e94e2f8ad280827deef565": {
      "model_module": "@jupyter-widgets/controls",
      "model_module_version": "1.5.0",
      "model_name": "HTMLModel",
      "state": {
       "_dom_classes": [],
       "_model_module": "@jupyter-widgets/controls",
       "_model_module_version": "1.5.0",
       "_model_name": "HTMLModel",
       "_view_count": null,
       "_view_module": "@jupyter-widgets/controls",
       "_view_module_version": "1.5.0",
       "_view_name": "HTMLView",
       "description": "",
       "description_tooltip": null,
       "layout": "IPY_MODEL_238e8f111b0a45c380d5af35ffd17f9e",
       "placeholder": "​",
       "style": "IPY_MODEL_fdaf04429ee0457fa0f2fd4eb09c7491",
       "value": "100%"
      }
     },
     "afe419693ba443a68e4dbcc3229f6a97": {
      "model_module": "@jupyter-widgets/controls",
      "model_module_version": "1.5.0",
      "model_name": "HBoxModel",
      "state": {
       "_dom_classes": [],
       "_model_module": "@jupyter-widgets/controls",
       "_model_module_version": "1.5.0",
       "_model_name": "HBoxModel",
       "_view_count": null,
       "_view_module": "@jupyter-widgets/controls",
       "_view_module_version": "1.5.0",
       "_view_name": "HBoxView",
       "box_style": "",
       "children": [
        "IPY_MODEL_be4fec67587840e580b6c3b1578be4cb",
        "IPY_MODEL_93506f6cd86844e4a4a8c0d0eae4d9df",
        "IPY_MODEL_50451477a5874f77bdf23f4dd270b8c7"
       ],
       "layout": "IPY_MODEL_09491b4f9326457495b5d70c2e4d7e2c"
      }
     },
     "b0dc65321d8849ca9045978fc2fbe0ba": {
      "model_module": "@jupyter-widgets/controls",
      "model_module_version": "1.5.0",
      "model_name": "DescriptionStyleModel",
      "state": {
       "_model_module": "@jupyter-widgets/controls",
       "_model_module_version": "1.5.0",
       "_model_name": "DescriptionStyleModel",
       "_view_count": null,
       "_view_module": "@jupyter-widgets/base",
       "_view_module_version": "1.2.0",
       "_view_name": "StyleView",
       "description_width": ""
      }
     },
     "b23f76cf4d924ab48c9418ea1796c42f": {
      "model_module": "@jupyter-widgets/base",
      "model_module_version": "1.2.0",
      "model_name": "LayoutModel",
      "state": {
       "_model_module": "@jupyter-widgets/base",
       "_model_module_version": "1.2.0",
       "_model_name": "LayoutModel",
       "_view_count": null,
       "_view_module": "@jupyter-widgets/base",
       "_view_module_version": "1.2.0",
       "_view_name": "LayoutView",
       "align_content": null,
       "align_items": null,
       "align_self": null,
       "border": null,
       "bottom": null,
       "display": null,
       "flex": null,
       "flex_flow": null,
       "grid_area": null,
       "grid_auto_columns": null,
       "grid_auto_flow": null,
       "grid_auto_rows": null,
       "grid_column": null,
       "grid_gap": null,
       "grid_row": null,
       "grid_template_areas": null,
       "grid_template_columns": null,
       "grid_template_rows": null,
       "height": null,
       "justify_content": null,
       "justify_items": null,
       "left": null,
       "margin": null,
       "max_height": null,
       "max_width": null,
       "min_height": null,
       "min_width": null,
       "object_fit": null,
       "object_position": null,
       "order": null,
       "overflow": null,
       "overflow_x": null,
       "overflow_y": null,
       "padding": null,
       "right": null,
       "top": null,
       "visibility": null,
       "width": null
      }
     },
     "b33dd84e4ce94a9992bc459c2938f689": {
      "model_module": "@jupyter-widgets/controls",
      "model_module_version": "1.5.0",
      "model_name": "HTMLModel",
      "state": {
       "_dom_classes": [],
       "_model_module": "@jupyter-widgets/controls",
       "_model_module_version": "1.5.0",
       "_model_name": "HTMLModel",
       "_view_count": null,
       "_view_module": "@jupyter-widgets/controls",
       "_view_module_version": "1.5.0",
       "_view_name": "HTMLView",
       "description": "",
       "description_tooltip": null,
       "layout": "IPY_MODEL_1b4213e8cfe145efb43263d0f2ec0fb8",
       "placeholder": "​",
       "style": "IPY_MODEL_1bf40e695587405880eb26a0e9d40133",
       "value": " 2471/2471 [00:00&lt;00:00, 4614.23it/s]"
      }
     },
     "b406a4fe0f7f49e0bba3b6851e102191": {
      "model_module": "@jupyter-widgets/base",
      "model_module_version": "1.2.0",
      "model_name": "LayoutModel",
      "state": {
       "_model_module": "@jupyter-widgets/base",
       "_model_module_version": "1.2.0",
       "_model_name": "LayoutModel",
       "_view_count": null,
       "_view_module": "@jupyter-widgets/base",
       "_view_module_version": "1.2.0",
       "_view_name": "LayoutView",
       "align_content": null,
       "align_items": null,
       "align_self": null,
       "border": null,
       "bottom": null,
       "display": null,
       "flex": null,
       "flex_flow": null,
       "grid_area": null,
       "grid_auto_columns": null,
       "grid_auto_flow": null,
       "grid_auto_rows": null,
       "grid_column": null,
       "grid_gap": null,
       "grid_row": null,
       "grid_template_areas": null,
       "grid_template_columns": null,
       "grid_template_rows": null,
       "height": null,
       "justify_content": null,
       "justify_items": null,
       "left": null,
       "margin": null,
       "max_height": null,
       "max_width": null,
       "min_height": null,
       "min_width": null,
       "object_fit": null,
       "object_position": null,
       "order": null,
       "overflow": null,
       "overflow_x": null,
       "overflow_y": null,
       "padding": null,
       "right": null,
       "top": null,
       "visibility": null,
       "width": null
      }
     },
     "b49564642ec44895bda0ca409a3bfaf7": {
      "model_module": "@jupyter-widgets/base",
      "model_module_version": "1.2.0",
      "model_name": "LayoutModel",
      "state": {
       "_model_module": "@jupyter-widgets/base",
       "_model_module_version": "1.2.0",
       "_model_name": "LayoutModel",
       "_view_count": null,
       "_view_module": "@jupyter-widgets/base",
       "_view_module_version": "1.2.0",
       "_view_name": "LayoutView",
       "align_content": null,
       "align_items": null,
       "align_self": null,
       "border": null,
       "bottom": null,
       "display": null,
       "flex": null,
       "flex_flow": null,
       "grid_area": null,
       "grid_auto_columns": null,
       "grid_auto_flow": null,
       "grid_auto_rows": null,
       "grid_column": null,
       "grid_gap": null,
       "grid_row": null,
       "grid_template_areas": null,
       "grid_template_columns": null,
       "grid_template_rows": null,
       "height": null,
       "justify_content": null,
       "justify_items": null,
       "left": null,
       "margin": null,
       "max_height": null,
       "max_width": null,
       "min_height": null,
       "min_width": null,
       "object_fit": null,
       "object_position": null,
       "order": null,
       "overflow": null,
       "overflow_x": null,
       "overflow_y": null,
       "padding": null,
       "right": null,
       "top": null,
       "visibility": null,
       "width": null
      }
     },
     "b779cb045eb643bcb97c2a0978d040e4": {
      "model_module": "@jupyter-widgets/controls",
      "model_module_version": "1.5.0",
      "model_name": "DescriptionStyleModel",
      "state": {
       "_model_module": "@jupyter-widgets/controls",
       "_model_module_version": "1.5.0",
       "_model_name": "DescriptionStyleModel",
       "_view_count": null,
       "_view_module": "@jupyter-widgets/base",
       "_view_module_version": "1.2.0",
       "_view_name": "StyleView",
       "description_width": ""
      }
     },
     "b8c4bf4943784135be2bd1b19e27bf2c": {
      "model_module": "@jupyter-widgets/base",
      "model_module_version": "1.2.0",
      "model_name": "LayoutModel",
      "state": {
       "_model_module": "@jupyter-widgets/base",
       "_model_module_version": "1.2.0",
       "_model_name": "LayoutModel",
       "_view_count": null,
       "_view_module": "@jupyter-widgets/base",
       "_view_module_version": "1.2.0",
       "_view_name": "LayoutView",
       "align_content": null,
       "align_items": null,
       "align_self": null,
       "border": null,
       "bottom": null,
       "display": null,
       "flex": null,
       "flex_flow": null,
       "grid_area": null,
       "grid_auto_columns": null,
       "grid_auto_flow": null,
       "grid_auto_rows": null,
       "grid_column": null,
       "grid_gap": null,
       "grid_row": null,
       "grid_template_areas": null,
       "grid_template_columns": null,
       "grid_template_rows": null,
       "height": null,
       "justify_content": null,
       "justify_items": null,
       "left": null,
       "margin": null,
       "max_height": null,
       "max_width": null,
       "min_height": null,
       "min_width": null,
       "object_fit": null,
       "object_position": null,
       "order": null,
       "overflow": null,
       "overflow_x": null,
       "overflow_y": null,
       "padding": null,
       "right": null,
       "top": null,
       "visibility": null,
       "width": null
      }
     },
     "bc6cc00fe4e246d9820d152707fd4fd9": {
      "model_module": "@jupyter-widgets/controls",
      "model_module_version": "1.5.0",
      "model_name": "FloatProgressModel",
      "state": {
       "_dom_classes": [],
       "_model_module": "@jupyter-widgets/controls",
       "_model_module_version": "1.5.0",
       "_model_name": "FloatProgressModel",
       "_view_count": null,
       "_view_module": "@jupyter-widgets/controls",
       "_view_module_version": "1.5.0",
       "_view_name": "ProgressView",
       "bar_style": "success",
       "description": "",
       "description_tooltip": null,
       "layout": "IPY_MODEL_5b0028f6c827417abbc0b04c9af86b50",
       "max": 2471,
       "min": 0,
       "orientation": "horizontal",
       "style": "IPY_MODEL_daa2f618661f4f18a4fec56a2e07af0b",
       "value": 2471
      }
     },
     "be4fec67587840e580b6c3b1578be4cb": {
      "model_module": "@jupyter-widgets/controls",
      "model_module_version": "1.5.0",
      "model_name": "HTMLModel",
      "state": {
       "_dom_classes": [],
       "_model_module": "@jupyter-widgets/controls",
       "_model_module_version": "1.5.0",
       "_model_name": "HTMLModel",
       "_view_count": null,
       "_view_module": "@jupyter-widgets/controls",
       "_view_module_version": "1.5.0",
       "_view_name": "HTMLView",
       "description": "",
       "description_tooltip": null,
       "layout": "IPY_MODEL_acc38bd63cf74883bbbf9314998c7915",
       "placeholder": "​",
       "style": "IPY_MODEL_3ff1757df4634b3ba24e6d1d479f526e",
       "value": "100%"
      }
     },
     "bf9f6ab1518a4a55bb8d19bee009d881": {
      "model_module": "@jupyter-widgets/base",
      "model_module_version": "1.2.0",
      "model_name": "LayoutModel",
      "state": {
       "_model_module": "@jupyter-widgets/base",
       "_model_module_version": "1.2.0",
       "_model_name": "LayoutModel",
       "_view_count": null,
       "_view_module": "@jupyter-widgets/base",
       "_view_module_version": "1.2.0",
       "_view_name": "LayoutView",
       "align_content": null,
       "align_items": null,
       "align_self": null,
       "border": null,
       "bottom": null,
       "display": null,
       "flex": null,
       "flex_flow": null,
       "grid_area": null,
       "grid_auto_columns": null,
       "grid_auto_flow": null,
       "grid_auto_rows": null,
       "grid_column": null,
       "grid_gap": null,
       "grid_row": null,
       "grid_template_areas": null,
       "grid_template_columns": null,
       "grid_template_rows": null,
       "height": null,
       "justify_content": null,
       "justify_items": null,
       "left": null,
       "margin": null,
       "max_height": null,
       "max_width": null,
       "min_height": null,
       "min_width": null,
       "object_fit": null,
       "object_position": null,
       "order": null,
       "overflow": null,
       "overflow_x": null,
       "overflow_y": null,
       "padding": null,
       "right": null,
       "top": null,
       "visibility": null,
       "width": null
      }
     },
     "c1b5b7afaed94a1bb4c1af77f3bd16d9": {
      "model_module": "@jupyter-widgets/controls",
      "model_module_version": "1.5.0",
      "model_name": "HBoxModel",
      "state": {
       "_dom_classes": [],
       "_model_module": "@jupyter-widgets/controls",
       "_model_module_version": "1.5.0",
       "_model_name": "HBoxModel",
       "_view_count": null,
       "_view_module": "@jupyter-widgets/controls",
       "_view_module_version": "1.5.0",
       "_view_name": "HBoxView",
       "box_style": "",
       "children": [
        "IPY_MODEL_5d55b1bb0a2f4abbbaa0f52ee7e510ba",
        "IPY_MODEL_260e4e9488884ebabb2c674965998800",
        "IPY_MODEL_6596e0fa2f6941e49e59e3c6a9b92828"
       ],
       "layout": "IPY_MODEL_71a495ddcd904fb3a17b99c33380b8ad"
      }
     },
     "c5ab9bf7e7284fa2a817d4434e2255e8": {
      "model_module": "@jupyter-widgets/base",
      "model_module_version": "1.2.0",
      "model_name": "LayoutModel",
      "state": {
       "_model_module": "@jupyter-widgets/base",
       "_model_module_version": "1.2.0",
       "_model_name": "LayoutModel",
       "_view_count": null,
       "_view_module": "@jupyter-widgets/base",
       "_view_module_version": "1.2.0",
       "_view_name": "LayoutView",
       "align_content": null,
       "align_items": null,
       "align_self": null,
       "border": null,
       "bottom": null,
       "display": null,
       "flex": null,
       "flex_flow": null,
       "grid_area": null,
       "grid_auto_columns": null,
       "grid_auto_flow": null,
       "grid_auto_rows": null,
       "grid_column": null,
       "grid_gap": null,
       "grid_row": null,
       "grid_template_areas": null,
       "grid_template_columns": null,
       "grid_template_rows": null,
       "height": null,
       "justify_content": null,
       "justify_items": null,
       "left": null,
       "margin": null,
       "max_height": null,
       "max_width": null,
       "min_height": null,
       "min_width": null,
       "object_fit": null,
       "object_position": null,
       "order": null,
       "overflow": null,
       "overflow_x": null,
       "overflow_y": null,
       "padding": null,
       "right": null,
       "top": null,
       "visibility": null,
       "width": null
      }
     },
     "cb08f9c8226f4af2a3d832868cf6ef79": {
      "model_module": "@jupyter-widgets/controls",
      "model_module_version": "1.5.0",
      "model_name": "HTMLModel",
      "state": {
       "_dom_classes": [],
       "_model_module": "@jupyter-widgets/controls",
       "_model_module_version": "1.5.0",
       "_model_name": "HTMLModel",
       "_view_count": null,
       "_view_module": "@jupyter-widgets/controls",
       "_view_module_version": "1.5.0",
       "_view_name": "HTMLView",
       "description": "",
       "description_tooltip": null,
       "layout": "IPY_MODEL_e69b1ce61ca24e5082ed6ad62a4ed1c5",
       "placeholder": "​",
       "style": "IPY_MODEL_6e15396f017a4b81b37e33fc808d76f5",
       "value": " 33/33 [04:10&lt;00:00,  8.99s/it, column=word_count_change100, method=kurt]"
      }
     },
     "d023f23c7ac34df188c157d4454f0930": {
      "model_module": "@jupyter-widgets/controls",
      "model_module_version": "1.5.0",
      "model_name": "HBoxModel",
      "state": {
       "_dom_classes": [],
       "_model_module": "@jupyter-widgets/controls",
       "_model_module_version": "1.5.0",
       "_model_name": "HBoxModel",
       "_view_count": null,
       "_view_module": "@jupyter-widgets/controls",
       "_view_module_version": "1.5.0",
       "_view_name": "HBoxView",
       "box_style": "",
       "children": [
        "IPY_MODEL_8c6cb90005434cf7ac3e2c10c4a82804",
        "IPY_MODEL_1b48156d79cd41348e0a7248b1132650",
        "IPY_MODEL_180aef39e0694a28977cbb9cebce5fdf"
       ],
       "layout": "IPY_MODEL_710edca1305a407e91f65d587e1b586f"
      }
     },
     "d25f56ce628044c7a84d752a583f4040": {
      "model_module": "@jupyter-widgets/controls",
      "model_module_version": "1.5.0",
      "model_name": "ProgressStyleModel",
      "state": {
       "_model_module": "@jupyter-widgets/controls",
       "_model_module_version": "1.5.0",
       "_model_name": "ProgressStyleModel",
       "_view_count": null,
       "_view_module": "@jupyter-widgets/base",
       "_view_module_version": "1.2.0",
       "_view_name": "StyleView",
       "bar_color": null,
       "description_width": ""
      }
     },
     "d31548e4521a4dc9935b6b0c8bd5d163": {
      "model_module": "@jupyter-widgets/controls",
      "model_module_version": "1.5.0",
      "model_name": "HTMLModel",
      "state": {
       "_dom_classes": [],
       "_model_module": "@jupyter-widgets/controls",
       "_model_module_version": "1.5.0",
       "_model_name": "HTMLModel",
       "_view_count": null,
       "_view_module": "@jupyter-widgets/controls",
       "_view_module_version": "1.5.0",
       "_view_name": "HTMLView",
       "description": "",
       "description_tooltip": null,
       "layout": "IPY_MODEL_48f0c4a7bb664d7d893349a3c172fb43",
       "placeholder": "​",
       "style": "IPY_MODEL_861512c34a7d4eb89d67f7545fcf2157",
       "value": " 3/3 [00:00&lt;00:00, 276.02it/s]"
      }
     },
     "d5e6bd075f014403b12650ffaf0a756f": {
      "model_module": "@jupyter-widgets/controls",
      "model_module_version": "1.5.0",
      "model_name": "HTMLModel",
      "state": {
       "_dom_classes": [],
       "_model_module": "@jupyter-widgets/controls",
       "_model_module_version": "1.5.0",
       "_model_name": "HTMLModel",
       "_view_count": null,
       "_view_module": "@jupyter-widgets/controls",
       "_view_module_version": "1.5.0",
       "_view_name": "HTMLView",
       "description": "",
       "description_tooltip": null,
       "layout": "IPY_MODEL_91c83e7acaf24e3b8b6b87b46bbf30eb",
       "placeholder": "​",
       "style": "IPY_MODEL_da2213314e0f44c99a947993b2647916",
       "value": " 3/3 [00:00&lt;00:00, 308.25it/s]"
      }
     },
     "d6165c2df5b145cab5416728677afe1e": {
      "model_module": "@jupyter-widgets/controls",
      "model_module_version": "1.5.0",
      "model_name": "ProgressStyleModel",
      "state": {
       "_model_module": "@jupyter-widgets/controls",
       "_model_module_version": "1.5.0",
       "_model_name": "ProgressStyleModel",
       "_view_count": null,
       "_view_module": "@jupyter-widgets/base",
       "_view_module_version": "1.2.0",
       "_view_name": "StyleView",
       "bar_color": null,
       "description_width": ""
      }
     },
     "d8d4f19cbd284bddb57ea23bf878e412": {
      "model_module": "@jupyter-widgets/controls",
      "model_module_version": "1.5.0",
      "model_name": "FloatProgressModel",
      "state": {
       "_dom_classes": [],
       "_model_module": "@jupyter-widgets/controls",
       "_model_module_version": "1.5.0",
       "_model_name": "FloatProgressModel",
       "_view_count": null,
       "_view_module": "@jupyter-widgets/controls",
       "_view_module_version": "1.5.0",
       "_view_name": "ProgressView",
       "bar_style": "success",
       "description": "",
       "description_tooltip": null,
       "layout": "IPY_MODEL_2f20917bd5024751af7eab128b59d6be",
       "max": 2471,
       "min": 0,
       "orientation": "horizontal",
       "style": "IPY_MODEL_2881c66453a4463aaaf8ae80ecf67039",
       "value": 2471
      }
     },
     "da2213314e0f44c99a947993b2647916": {
      "model_module": "@jupyter-widgets/controls",
      "model_module_version": "1.5.0",
      "model_name": "DescriptionStyleModel",
      "state": {
       "_model_module": "@jupyter-widgets/controls",
       "_model_module_version": "1.5.0",
       "_model_name": "DescriptionStyleModel",
       "_view_count": null,
       "_view_module": "@jupyter-widgets/base",
       "_view_module_version": "1.2.0",
       "_view_name": "StyleView",
       "description_width": ""
      }
     },
     "da316dc998154498a2373f6e2640a5dc": {
      "model_module": "@jupyter-widgets/controls",
      "model_module_version": "1.5.0",
      "model_name": "FloatProgressModel",
      "state": {
       "_dom_classes": [],
       "_model_module": "@jupyter-widgets/controls",
       "_model_module_version": "1.5.0",
       "_model_name": "FloatProgressModel",
       "_view_count": null,
       "_view_module": "@jupyter-widgets/controls",
       "_view_module_version": "1.5.0",
       "_view_name": "ProgressView",
       "bar_style": "success",
       "description": "",
       "description_tooltip": null,
       "layout": "IPY_MODEL_26f4759f7a49422fa58bd4a0dc17e837",
       "max": 3,
       "min": 0,
       "orientation": "horizontal",
       "style": "IPY_MODEL_9db7aeb036e34fabac6e76fc45cc913c",
       "value": 3
      }
     },
     "daa2f618661f4f18a4fec56a2e07af0b": {
      "model_module": "@jupyter-widgets/controls",
      "model_module_version": "1.5.0",
      "model_name": "ProgressStyleModel",
      "state": {
       "_model_module": "@jupyter-widgets/controls",
       "_model_module_version": "1.5.0",
       "_model_name": "ProgressStyleModel",
       "_view_count": null,
       "_view_module": "@jupyter-widgets/base",
       "_view_module_version": "1.2.0",
       "_view_name": "StyleView",
       "bar_color": null,
       "description_width": ""
      }
     },
     "e3750a586062409cb60bbfdc1a795bd9": {
      "model_module": "@jupyter-widgets/controls",
      "model_module_version": "1.5.0",
      "model_name": "DescriptionStyleModel",
      "state": {
       "_model_module": "@jupyter-widgets/controls",
       "_model_module_version": "1.5.0",
       "_model_name": "DescriptionStyleModel",
       "_view_count": null,
       "_view_module": "@jupyter-widgets/base",
       "_view_module_version": "1.2.0",
       "_view_name": "StyleView",
       "description_width": ""
      }
     },
     "e53bfccab1a14c81bb4624dc6780a606": {
      "model_module": "@jupyter-widgets/base",
      "model_module_version": "1.2.0",
      "model_name": "LayoutModel",
      "state": {
       "_model_module": "@jupyter-widgets/base",
       "_model_module_version": "1.2.0",
       "_model_name": "LayoutModel",
       "_view_count": null,
       "_view_module": "@jupyter-widgets/base",
       "_view_module_version": "1.2.0",
       "_view_name": "LayoutView",
       "align_content": null,
       "align_items": null,
       "align_self": null,
       "border": null,
       "bottom": null,
       "display": null,
       "flex": null,
       "flex_flow": null,
       "grid_area": null,
       "grid_auto_columns": null,
       "grid_auto_flow": null,
       "grid_auto_rows": null,
       "grid_column": null,
       "grid_gap": null,
       "grid_row": null,
       "grid_template_areas": null,
       "grid_template_columns": null,
       "grid_template_rows": null,
       "height": null,
       "justify_content": null,
       "justify_items": null,
       "left": null,
       "margin": null,
       "max_height": null,
       "max_width": null,
       "min_height": null,
       "min_width": null,
       "object_fit": null,
       "object_position": null,
       "order": null,
       "overflow": null,
       "overflow_x": null,
       "overflow_y": null,
       "padding": null,
       "right": null,
       "top": null,
       "visibility": null,
       "width": null
      }
     },
     "e69b1ce61ca24e5082ed6ad62a4ed1c5": {
      "model_module": "@jupyter-widgets/base",
      "model_module_version": "1.2.0",
      "model_name": "LayoutModel",
      "state": {
       "_model_module": "@jupyter-widgets/base",
       "_model_module_version": "1.2.0",
       "_model_name": "LayoutModel",
       "_view_count": null,
       "_view_module": "@jupyter-widgets/base",
       "_view_module_version": "1.2.0",
       "_view_name": "LayoutView",
       "align_content": null,
       "align_items": null,
       "align_self": null,
       "border": null,
       "bottom": null,
       "display": null,
       "flex": null,
       "flex_flow": null,
       "grid_area": null,
       "grid_auto_columns": null,
       "grid_auto_flow": null,
       "grid_auto_rows": null,
       "grid_column": null,
       "grid_gap": null,
       "grid_row": null,
       "grid_template_areas": null,
       "grid_template_columns": null,
       "grid_template_rows": null,
       "height": null,
       "justify_content": null,
       "justify_items": null,
       "left": null,
       "margin": null,
       "max_height": null,
       "max_width": null,
       "min_height": null,
       "min_width": null,
       "object_fit": null,
       "object_position": null,
       "order": null,
       "overflow": null,
       "overflow_x": null,
       "overflow_y": null,
       "padding": null,
       "right": null,
       "top": null,
       "visibility": null,
       "width": null
      }
     },
     "e785c67820b14ae7ade2b610e1bea013": {
      "model_module": "@jupyter-widgets/controls",
      "model_module_version": "1.5.0",
      "model_name": "DescriptionStyleModel",
      "state": {
       "_model_module": "@jupyter-widgets/controls",
       "_model_module_version": "1.5.0",
       "_model_name": "DescriptionStyleModel",
       "_view_count": null,
       "_view_module": "@jupyter-widgets/base",
       "_view_module_version": "1.2.0",
       "_view_name": "StyleView",
       "description_width": ""
      }
     },
     "eb3e0d66ce97433396944a1b9e162469": {
      "model_module": "@jupyter-widgets/controls",
      "model_module_version": "1.5.0",
      "model_name": "DescriptionStyleModel",
      "state": {
       "_model_module": "@jupyter-widgets/controls",
       "_model_module_version": "1.5.0",
       "_model_name": "DescriptionStyleModel",
       "_view_count": null,
       "_view_module": "@jupyter-widgets/base",
       "_view_module_version": "1.2.0",
       "_view_name": "StyleView",
       "description_width": ""
      }
     },
     "eb9e0785854a4773a2620c474c7a4f9d": {
      "model_module": "@jupyter-widgets/base",
      "model_module_version": "1.2.0",
      "model_name": "LayoutModel",
      "state": {
       "_model_module": "@jupyter-widgets/base",
       "_model_module_version": "1.2.0",
       "_model_name": "LayoutModel",
       "_view_count": null,
       "_view_module": "@jupyter-widgets/base",
       "_view_module_version": "1.2.0",
       "_view_name": "LayoutView",
       "align_content": null,
       "align_items": null,
       "align_self": null,
       "border": null,
       "bottom": null,
       "display": null,
       "flex": null,
       "flex_flow": null,
       "grid_area": null,
       "grid_auto_columns": null,
       "grid_auto_flow": null,
       "grid_auto_rows": null,
       "grid_column": null,
       "grid_gap": null,
       "grid_row": null,
       "grid_template_areas": null,
       "grid_template_columns": null,
       "grid_template_rows": null,
       "height": null,
       "justify_content": null,
       "justify_items": null,
       "left": null,
       "margin": null,
       "max_height": null,
       "max_width": null,
       "min_height": null,
       "min_width": null,
       "object_fit": null,
       "object_position": null,
       "order": null,
       "overflow": null,
       "overflow_x": null,
       "overflow_y": null,
       "padding": null,
       "right": null,
       "top": null,
       "visibility": null,
       "width": null
      }
     },
     "eba53a9e6e1f42c482cab28f684721b0": {
      "model_module": "@jupyter-widgets/base",
      "model_module_version": "1.2.0",
      "model_name": "LayoutModel",
      "state": {
       "_model_module": "@jupyter-widgets/base",
       "_model_module_version": "1.2.0",
       "_model_name": "LayoutModel",
       "_view_count": null,
       "_view_module": "@jupyter-widgets/base",
       "_view_module_version": "1.2.0",
       "_view_name": "LayoutView",
       "align_content": null,
       "align_items": null,
       "align_self": null,
       "border": null,
       "bottom": null,
       "display": null,
       "flex": null,
       "flex_flow": null,
       "grid_area": null,
       "grid_auto_columns": null,
       "grid_auto_flow": null,
       "grid_auto_rows": null,
       "grid_column": null,
       "grid_gap": null,
       "grid_row": null,
       "grid_template_areas": null,
       "grid_template_columns": null,
       "grid_template_rows": null,
       "height": null,
       "justify_content": null,
       "justify_items": null,
       "left": null,
       "margin": null,
       "max_height": null,
       "max_width": null,
       "min_height": null,
       "min_width": null,
       "object_fit": null,
       "object_position": null,
       "order": null,
       "overflow": null,
       "overflow_x": null,
       "overflow_y": null,
       "padding": null,
       "right": null,
       "top": null,
       "visibility": null,
       "width": null
      }
     },
     "eba9423cf9f64f33b28426cbd559b9e5": {
      "model_module": "@jupyter-widgets/controls",
      "model_module_version": "1.5.0",
      "model_name": "HBoxModel",
      "state": {
       "_dom_classes": [],
       "_model_module": "@jupyter-widgets/controls",
       "_model_module_version": "1.5.0",
       "_model_name": "HBoxModel",
       "_view_count": null,
       "_view_module": "@jupyter-widgets/controls",
       "_view_module_version": "1.5.0",
       "_view_name": "HBoxView",
       "box_style": "",
       "children": [
        "IPY_MODEL_3c94ce559143479191d89873aa6f4160",
        "IPY_MODEL_bc6cc00fe4e246d9820d152707fd4fd9",
        "IPY_MODEL_b33dd84e4ce94a9992bc459c2938f689"
       ],
       "layout": "IPY_MODEL_23b493013d524fcab8cf49667bfbceae"
      }
     },
     "ef38f995e02347ffb9bb9fb0c7df4ba1": {
      "model_module": "@jupyter-widgets/controls",
      "model_module_version": "1.5.0",
      "model_name": "HTMLModel",
      "state": {
       "_dom_classes": [],
       "_model_module": "@jupyter-widgets/controls",
       "_model_module_version": "1.5.0",
       "_model_name": "HTMLModel",
       "_view_count": null,
       "_view_module": "@jupyter-widgets/controls",
       "_view_module_version": "1.5.0",
       "_view_name": "HTMLView",
       "description": "",
       "description_tooltip": null,
       "layout": "IPY_MODEL_918aeb69a8a641b2ba8370deb81199b7",
       "placeholder": "​",
       "style": "IPY_MODEL_f44f894823804d5bb5331b76e1959eae",
       "value": "100%"
      }
     },
     "ef793847042a4975b7fb2cf1dc2c7f8f": {
      "model_module": "@jupyter-widgets/controls",
      "model_module_version": "1.5.0",
      "model_name": "ProgressStyleModel",
      "state": {
       "_model_module": "@jupyter-widgets/controls",
       "_model_module_version": "1.5.0",
       "_model_name": "ProgressStyleModel",
       "_view_count": null,
       "_view_module": "@jupyter-widgets/base",
       "_view_module_version": "1.2.0",
       "_view_name": "StyleView",
       "bar_color": null,
       "description_width": ""
      }
     },
     "f0538d3bfae44cb8bb8e2526ee892fa8": {
      "model_module": "@jupyter-widgets/base",
      "model_module_version": "1.2.0",
      "model_name": "LayoutModel",
      "state": {
       "_model_module": "@jupyter-widgets/base",
       "_model_module_version": "1.2.0",
       "_model_name": "LayoutModel",
       "_view_count": null,
       "_view_module": "@jupyter-widgets/base",
       "_view_module_version": "1.2.0",
       "_view_name": "LayoutView",
       "align_content": null,
       "align_items": null,
       "align_self": null,
       "border": null,
       "bottom": null,
       "display": null,
       "flex": null,
       "flex_flow": null,
       "grid_area": null,
       "grid_auto_columns": null,
       "grid_auto_flow": null,
       "grid_auto_rows": null,
       "grid_column": null,
       "grid_gap": null,
       "grid_row": null,
       "grid_template_areas": null,
       "grid_template_columns": null,
       "grid_template_rows": null,
       "height": null,
       "justify_content": null,
       "justify_items": null,
       "left": null,
       "margin": null,
       "max_height": null,
       "max_width": null,
       "min_height": null,
       "min_width": null,
       "object_fit": null,
       "object_position": null,
       "order": null,
       "overflow": null,
       "overflow_x": null,
       "overflow_y": null,
       "padding": null,
       "right": null,
       "top": null,
       "visibility": null,
       "width": null
      }
     },
     "f0dad9e3a64047549e8741c1e9fa1137": {
      "model_module": "@jupyter-widgets/base",
      "model_module_version": "1.2.0",
      "model_name": "LayoutModel",
      "state": {
       "_model_module": "@jupyter-widgets/base",
       "_model_module_version": "1.2.0",
       "_model_name": "LayoutModel",
       "_view_count": null,
       "_view_module": "@jupyter-widgets/base",
       "_view_module_version": "1.2.0",
       "_view_name": "LayoutView",
       "align_content": null,
       "align_items": null,
       "align_self": null,
       "border": null,
       "bottom": null,
       "display": null,
       "flex": null,
       "flex_flow": null,
       "grid_area": null,
       "grid_auto_columns": null,
       "grid_auto_flow": null,
       "grid_auto_rows": null,
       "grid_column": null,
       "grid_gap": null,
       "grid_row": null,
       "grid_template_areas": null,
       "grid_template_columns": null,
       "grid_template_rows": null,
       "height": null,
       "justify_content": null,
       "justify_items": null,
       "left": null,
       "margin": null,
       "max_height": null,
       "max_width": null,
       "min_height": null,
       "min_width": null,
       "object_fit": null,
       "object_position": null,
       "order": null,
       "overflow": null,
       "overflow_x": null,
       "overflow_y": null,
       "padding": null,
       "right": null,
       "top": null,
       "visibility": null,
       "width": null
      }
     },
     "f1d7a27c15e14af0a456253e82aff040": {
      "model_module": "@jupyter-widgets/base",
      "model_module_version": "1.2.0",
      "model_name": "LayoutModel",
      "state": {
       "_model_module": "@jupyter-widgets/base",
       "_model_module_version": "1.2.0",
       "_model_name": "LayoutModel",
       "_view_count": null,
       "_view_module": "@jupyter-widgets/base",
       "_view_module_version": "1.2.0",
       "_view_name": "LayoutView",
       "align_content": null,
       "align_items": null,
       "align_self": null,
       "border": null,
       "bottom": null,
       "display": null,
       "flex": null,
       "flex_flow": null,
       "grid_area": null,
       "grid_auto_columns": null,
       "grid_auto_flow": null,
       "grid_auto_rows": null,
       "grid_column": null,
       "grid_gap": null,
       "grid_row": null,
       "grid_template_areas": null,
       "grid_template_columns": null,
       "grid_template_rows": null,
       "height": null,
       "justify_content": null,
       "justify_items": null,
       "left": null,
       "margin": null,
       "max_height": null,
       "max_width": null,
       "min_height": null,
       "min_width": null,
       "object_fit": null,
       "object_position": null,
       "order": null,
       "overflow": null,
       "overflow_x": null,
       "overflow_y": null,
       "padding": null,
       "right": null,
       "top": null,
       "visibility": null,
       "width": null
      }
     },
     "f2c0532c21a3490386f8a1c200598a4c": {
      "model_module": "@jupyter-widgets/base",
      "model_module_version": "1.2.0",
      "model_name": "LayoutModel",
      "state": {
       "_model_module": "@jupyter-widgets/base",
       "_model_module_version": "1.2.0",
       "_model_name": "LayoutModel",
       "_view_count": null,
       "_view_module": "@jupyter-widgets/base",
       "_view_module_version": "1.2.0",
       "_view_name": "LayoutView",
       "align_content": null,
       "align_items": null,
       "align_self": null,
       "border": null,
       "bottom": null,
       "display": null,
       "flex": null,
       "flex_flow": null,
       "grid_area": null,
       "grid_auto_columns": null,
       "grid_auto_flow": null,
       "grid_auto_rows": null,
       "grid_column": null,
       "grid_gap": null,
       "grid_row": null,
       "grid_template_areas": null,
       "grid_template_columns": null,
       "grid_template_rows": null,
       "height": null,
       "justify_content": null,
       "justify_items": null,
       "left": null,
       "margin": null,
       "max_height": null,
       "max_width": null,
       "min_height": null,
       "min_width": null,
       "object_fit": null,
       "object_position": null,
       "order": null,
       "overflow": null,
       "overflow_x": null,
       "overflow_y": null,
       "padding": null,
       "right": null,
       "top": null,
       "visibility": null,
       "width": null
      }
     },
     "f381787be008425cb3c0c3c876b44423": {
      "model_module": "@jupyter-widgets/controls",
      "model_module_version": "1.5.0",
      "model_name": "HBoxModel",
      "state": {
       "_dom_classes": [],
       "_model_module": "@jupyter-widgets/controls",
       "_model_module_version": "1.5.0",
       "_model_name": "HBoxModel",
       "_view_count": null,
       "_view_module": "@jupyter-widgets/controls",
       "_view_module_version": "1.5.0",
       "_view_name": "HBoxView",
       "box_style": "",
       "children": [
        "IPY_MODEL_3367e74bef4e4bb7ad09df558713021b",
        "IPY_MODEL_43cb746619c54ce3b2185d36ccc8bb60",
        "IPY_MODEL_ffc51234b71e4de782c5534f46f8ec85"
       ],
       "layout": "IPY_MODEL_a0f210e08dee400283d58707e6d96913"
      }
     },
     "f3d92bf551fb430aa1ec50f080b273c6": {
      "model_module": "@jupyter-widgets/base",
      "model_module_version": "1.2.0",
      "model_name": "LayoutModel",
      "state": {
       "_model_module": "@jupyter-widgets/base",
       "_model_module_version": "1.2.0",
       "_model_name": "LayoutModel",
       "_view_count": null,
       "_view_module": "@jupyter-widgets/base",
       "_view_module_version": "1.2.0",
       "_view_name": "LayoutView",
       "align_content": null,
       "align_items": null,
       "align_self": null,
       "border": null,
       "bottom": null,
       "display": null,
       "flex": null,
       "flex_flow": null,
       "grid_area": null,
       "grid_auto_columns": null,
       "grid_auto_flow": null,
       "grid_auto_rows": null,
       "grid_column": null,
       "grid_gap": null,
       "grid_row": null,
       "grid_template_areas": null,
       "grid_template_columns": null,
       "grid_template_rows": null,
       "height": null,
       "justify_content": null,
       "justify_items": null,
       "left": null,
       "margin": null,
       "max_height": null,
       "max_width": null,
       "min_height": null,
       "min_width": null,
       "object_fit": null,
       "object_position": null,
       "order": null,
       "overflow": null,
       "overflow_x": null,
       "overflow_y": null,
       "padding": null,
       "right": null,
       "top": null,
       "visibility": null,
       "width": null
      }
     },
     "f44f894823804d5bb5331b76e1959eae": {
      "model_module": "@jupyter-widgets/controls",
      "model_module_version": "1.5.0",
      "model_name": "DescriptionStyleModel",
      "state": {
       "_model_module": "@jupyter-widgets/controls",
       "_model_module_version": "1.5.0",
       "_model_name": "DescriptionStyleModel",
       "_view_count": null,
       "_view_module": "@jupyter-widgets/base",
       "_view_module_version": "1.2.0",
       "_view_name": "StyleView",
       "description_width": ""
      }
     },
     "fb6f20af3958429b871a105a59715d81": {
      "model_module": "@jupyter-widgets/base",
      "model_module_version": "1.2.0",
      "model_name": "LayoutModel",
      "state": {
       "_model_module": "@jupyter-widgets/base",
       "_model_module_version": "1.2.0",
       "_model_name": "LayoutModel",
       "_view_count": null,
       "_view_module": "@jupyter-widgets/base",
       "_view_module_version": "1.2.0",
       "_view_name": "LayoutView",
       "align_content": null,
       "align_items": null,
       "align_self": null,
       "border": null,
       "bottom": null,
       "display": null,
       "flex": null,
       "flex_flow": null,
       "grid_area": null,
       "grid_auto_columns": null,
       "grid_auto_flow": null,
       "grid_auto_rows": null,
       "grid_column": null,
       "grid_gap": null,
       "grid_row": null,
       "grid_template_areas": null,
       "grid_template_columns": null,
       "grid_template_rows": null,
       "height": null,
       "justify_content": null,
       "justify_items": null,
       "left": null,
       "margin": null,
       "max_height": null,
       "max_width": null,
       "min_height": null,
       "min_width": null,
       "object_fit": null,
       "object_position": null,
       "order": null,
       "overflow": null,
       "overflow_x": null,
       "overflow_y": null,
       "padding": null,
       "right": null,
       "top": null,
       "visibility": null,
       "width": null
      }
     },
     "fdaf04429ee0457fa0f2fd4eb09c7491": {
      "model_module": "@jupyter-widgets/controls",
      "model_module_version": "1.5.0",
      "model_name": "DescriptionStyleModel",
      "state": {
       "_model_module": "@jupyter-widgets/controls",
       "_model_module_version": "1.5.0",
       "_model_name": "DescriptionStyleModel",
       "_view_count": null,
       "_view_module": "@jupyter-widgets/base",
       "_view_module_version": "1.2.0",
       "_view_name": "StyleView",
       "description_width": ""
      }
     },
     "ffc51234b71e4de782c5534f46f8ec85": {
      "model_module": "@jupyter-widgets/controls",
      "model_module_version": "1.5.0",
      "model_name": "HTMLModel",
      "state": {
       "_dom_classes": [],
       "_model_module": "@jupyter-widgets/controls",
       "_model_module_version": "1.5.0",
       "_model_name": "HTMLModel",
       "_view_count": null,
       "_view_module": "@jupyter-widgets/controls",
       "_view_module_version": "1.5.0",
       "_view_name": "HTMLView",
       "description": "",
       "description_tooltip": null,
       "layout": "IPY_MODEL_899e232c7e63403399c097ac2dd36e42",
       "placeholder": "​",
       "style": "IPY_MODEL_5adc2d7d3549415fbb19ee3ff6da27f3",
       "value": " 2471/2471 [00:00&lt;00:00, 5432.15it/s]"
      }
     }
    },
    "version_major": 2,
    "version_minor": 0
   }
  }
 },
 "nbformat": 4,
 "nbformat_minor": 5
}
