{
 "cells": [
  {
   "cell_type": "code",
   "execution_count": 1,
   "id": "578630f5-8afa-4f33-ba18-31744444997e",
   "metadata": {
    "execution": {
     "iopub.execute_input": "2023-10-30T20:11:47.714739Z",
     "iopub.status.busy": "2023-10-30T20:11:47.714500Z",
     "iopub.status.idle": "2023-10-30T20:11:48.630530Z",
     "shell.execute_reply": "2023-10-30T20:11:48.629974Z",
     "shell.execute_reply.started": "2023-10-30T20:11:47.714719Z"
    }
   },
   "outputs": [
    {
     "name": "stderr",
     "output_type": "stream",
     "text": [
      "/home/rohit/Desktop/kaggle/virtualenvs/writing_quality/lib/python3.9/site-packages/tqdm/auto.py:21: TqdmWarning: IProgress not found. Please update jupyter and ipywidgets. See https://ipywidgets.readthedocs.io/en/stable/user_install.html\n",
      "  from .autonotebook import tqdm as notebook_tqdm\n"
     ]
    }
   ],
   "source": [
    "import gc\n",
    "import os\n",
    "import random\n",
    "import re\n",
    "import statistics as st\n",
    "import warnings\n",
    "from collections import Counter\n",
    "\n",
    "import lightgbm as lgb\n",
    "import matplotlib.pyplot as plt\n",
    "import numpy as np\n",
    "import optuna\n",
    "import pandas as pd\n",
    "import seaborn as sns\n",
    "from gensim.models import Word2Vec\n",
    "from scipy.stats import kurtosis, skew\n",
    "from sklearn.decomposition import TruncatedSVD\n",
    "from sklearn.feature_extraction.text import TfidfVectorizer\n",
    "from sklearn.metrics import mean_squared_error\n",
    "from sklearn.model_selection import GroupKFold, KFold, StratifiedKFold, train_test_split\n",
    "from sklearn.preprocessing import LabelEncoder\n",
    "from tqdm.autonotebook import tqdm"
   ]
  },
  {
   "cell_type": "code",
   "execution_count": null,
   "id": "f991e650-e1fb-4c95-9ad2-c5321d26ba4f",
   "metadata": {},
   "outputs": [],
   "source": []
  },
  {
   "cell_type": "code",
   "execution_count": null,
   "id": "39b59fbe-105a-4400-97f4-343139dd8f7a",
   "metadata": {},
   "outputs": [],
   "source": []
  },
  {
   "cell_type": "code",
   "execution_count": 2,
   "id": "1409d4aa-1a89-49d4-bb69-94e0445179cb",
   "metadata": {
    "execution": {
     "iopub.execute_input": "2023-10-30T20:11:48.631471Z",
     "iopub.status.busy": "2023-10-30T20:11:48.631260Z",
     "iopub.status.idle": "2023-10-30T20:11:48.634523Z",
     "shell.execute_reply": "2023-10-30T20:11:48.634193Z",
     "shell.execute_reply.started": "2023-10-30T20:11:48.631456Z"
    }
   },
   "outputs": [],
   "source": [
    "class Config:\n",
    "    INPUT_DIR = \"./data\"\n",
    "    seed = 42\n",
    "    is_time_in_secs = True\n",
    "    time_divider = 1000 if is_time_in_secs else 1\n",
    "\n",
    "    num_folds = 5\n",
    "    num_estimators = 10000\n",
    "    num_trials_early_stopping = 100\n",
    "\n",
    "    response_variate = \"score\"\n",
    "    use_optuna_tuning = True\n",
    "    test_size_optuna = 0.3\n",
    "    num_trials_optuna = 150\n",
    "\n",
    "    num_features_to_display = 50"
   ]
  },
  {
   "cell_type": "code",
   "execution_count": 3,
   "id": "83decdd2-1cb4-45df-bfbe-985b1e8ca9a9",
   "metadata": {
    "execution": {
     "iopub.execute_input": "2023-10-30T20:11:48.635135Z",
     "iopub.status.busy": "2023-10-30T20:11:48.634978Z",
     "iopub.status.idle": "2023-10-30T20:11:48.647896Z",
     "shell.execute_reply": "2023-10-30T20:11:48.647378Z",
     "shell.execute_reply.started": "2023-10-30T20:11:48.635121Z"
    }
   },
   "outputs": [],
   "source": [
    "cnfg = Config()"
   ]
  },
  {
   "cell_type": "code",
   "execution_count": 4,
   "id": "466a9440-1ba2-4bda-987a-47f250b941cd",
   "metadata": {
    "execution": {
     "iopub.execute_input": "2023-10-30T20:11:48.649074Z",
     "iopub.status.busy": "2023-10-30T20:11:48.648764Z",
     "iopub.status.idle": "2023-10-30T20:11:48.653482Z",
     "shell.execute_reply": "2023-10-30T20:11:48.653046Z",
     "shell.execute_reply.started": "2023-10-30T20:11:48.649055Z"
    }
   },
   "outputs": [],
   "source": [
    "tqdm.pandas()\n",
    "sns.set_style(\"whitegrid\")\n",
    "warnings.simplefilter(\"ignore\")\n",
    "random.seed(cnfg.seed)"
   ]
  },
  {
   "cell_type": "code",
   "execution_count": null,
   "id": "2b911899-c86e-49f4-8e7d-676565810e7a",
   "metadata": {},
   "outputs": [],
   "source": []
  },
  {
   "cell_type": "code",
   "execution_count": null,
   "id": "3da2f410-1c46-43fb-92e4-f075125e0336",
   "metadata": {},
   "outputs": [],
   "source": []
  },
  {
   "cell_type": "code",
   "execution_count": null,
   "id": "c7b2c53c-c79c-4177-bed8-97cf366f03cf",
   "metadata": {},
   "outputs": [],
   "source": []
  },
  {
   "cell_type": "code",
   "execution_count": 5,
   "id": "69427fba-d8fb-444d-846a-7f3232e2d6a8",
   "metadata": {
    "execution": {
     "iopub.execute_input": "2023-10-30T20:11:48.886811Z",
     "iopub.status.busy": "2023-10-30T20:11:48.886459Z",
     "iopub.status.idle": "2023-10-30T20:11:52.503557Z",
     "shell.execute_reply": "2023-10-30T20:11:52.503010Z",
     "shell.execute_reply.started": "2023-10-30T20:11:48.886779Z"
    }
   },
   "outputs": [],
   "source": [
    "train_logs = pd.read_csv(f\"{cnfg.INPUT_DIR}/train_logs.csv\")\n",
    "train_scores = pd.read_csv(f\"{cnfg.INPUT_DIR}/train_scores.csv\")\n",
    "test_logs = pd.read_csv(f\"{cnfg.INPUT_DIR}/test_logs.csv\")"
   ]
  },
  {
   "cell_type": "code",
   "execution_count": null,
   "id": "bb271bf1-02ce-443e-a4db-cc65562662f6",
   "metadata": {},
   "outputs": [],
   "source": []
  },
  {
   "cell_type": "code",
   "execution_count": 6,
   "id": "d1690ace-accb-430b-ab36-6eccf5f69a7f",
   "metadata": {
    "execution": {
     "iopub.execute_input": "2023-10-30T20:11:52.504395Z",
     "iopub.status.busy": "2023-10-30T20:11:52.504261Z",
     "iopub.status.idle": "2023-10-30T20:11:52.509995Z",
     "shell.execute_reply": "2023-10-30T20:11:52.509608Z",
     "shell.execute_reply.started": "2023-10-30T20:11:52.504382Z"
    }
   },
   "outputs": [
    {
     "data": {
      "text/plain": [
       "Index(['id', 'event_id', 'down_time', 'up_time', 'action_time', 'activity',\n",
       "       'down_event', 'up_event', 'text_change', 'cursor_position',\n",
       "       'word_count'],\n",
       "      dtype='object')"
      ]
     },
     "execution_count": 6,
     "metadata": {},
     "output_type": "execute_result"
    }
   ],
   "source": [
    "train_logs.columns"
   ]
  },
  {
   "cell_type": "markdown",
   "id": "ca975f86-be9f-4c57-a49d-3a3931ed7a87",
   "metadata": {},
   "source": [
    "### Utils ###"
   ]
  },
  {
   "cell_type": "code",
   "execution_count": 7,
   "id": "aa95a002-bdd8-482d-9712-f1112667c08d",
   "metadata": {
    "execution": {
     "iopub.execute_input": "2023-10-30T20:11:52.510905Z",
     "iopub.status.busy": "2023-10-30T20:11:52.510764Z",
     "iopub.status.idle": "2023-10-30T20:11:52.516236Z",
     "shell.execute_reply": "2023-10-30T20:11:52.515782Z",
     "shell.execute_reply.started": "2023-10-30T20:11:52.510891Z"
    }
   },
   "outputs": [],
   "source": [
    "def my_max(lst):\n",
    "    try:\n",
    "        x = max(lst)\n",
    "    except:\n",
    "        x = 0\n",
    "    return x\n",
    "\n",
    "\n",
    "def my_min(lst):\n",
    "    try:\n",
    "        x = min(lst)\n",
    "    except:\n",
    "        x = 0\n",
    "    return x\n",
    "\n",
    "\n",
    "def my_mean(lst):\n",
    "    try:\n",
    "        x = np.mean(lst)\n",
    "    except:\n",
    "        x = 0\n",
    "    return x\n",
    "\n",
    "\n",
    "def my_std(lst):\n",
    "    try:\n",
    "        x = st.stdev(lst)\n",
    "    except:\n",
    "        x = 0\n",
    "    return x\n",
    "\n",
    "\n",
    "def my_skew(lst):\n",
    "    try:\n",
    "        x = skew(lst)\n",
    "    except:\n",
    "        x = 0\n",
    "    return x\n",
    "\n",
    "\n",
    "def my_kurtosis(lst):\n",
    "    try:\n",
    "        x = kurtosis(lst)\n",
    "    except:\n",
    "        x = 0\n",
    "    return x\n",
    "\n",
    "\n",
    "def my_median_grouped(lst):\n",
    "    try:\n",
    "        x = st.median_grouped(lst)\n",
    "    except:\n",
    "        x = 0\n",
    "    return x\n",
    "\n",
    "\n",
    "def my_sum(lst):\n",
    "    try:\n",
    "        x = sum(lst)\n",
    "    except:\n",
    "        x = 0\n",
    "    return x"
   ]
  },
  {
   "cell_type": "code",
   "execution_count": null,
   "id": "b34ce2e5-51f7-418c-8745-cf39ad5a4869",
   "metadata": {},
   "outputs": [],
   "source": []
  },
  {
   "cell_type": "markdown",
   "id": "6ca269fe-fa1f-485e-b8e0-70169fa056fc",
   "metadata": {},
   "source": [
    "### Pre-processing ###"
   ]
  },
  {
   "cell_type": "code",
   "execution_count": 24,
   "id": "9387a7ea-ff21-46cb-b608-b1dfaf525196",
   "metadata": {
    "execution": {
     "iopub.execute_input": "2023-10-30T20:21:33.716309Z",
     "iopub.status.busy": "2023-10-30T20:21:33.715747Z",
     "iopub.status.idle": "2023-10-30T20:21:33.831916Z",
     "shell.execute_reply": "2023-10-30T20:21:33.831429Z",
     "shell.execute_reply.started": "2023-10-30T20:21:33.716255Z"
    }
   },
   "outputs": [],
   "source": [
    "class Preprocessor:\n",
    "    def __init__(self, seed, df):\n",
    "        self.seed = seed\n",
    "\n",
    "        self.activities = [\"Input\", \"Remove/Cut\", \"Nonproduction\", \"Replace\", \"Paste\"]\n",
    "        self.activities_name_mapping = {\n",
    "            \"Input\": \"input\",\n",
    "            \"Remove/Cut\": \"remove\",\n",
    "            \"Nonproduction\": \"non_production\",\n",
    "            \"Replace\": \"replace\",\n",
    "            \"Paste\": \"paste\",\n",
    "        }\n",
    "        self.text_changes = text_changes = [\n",
    "            \"q\",\n",
    "            \" \",\n",
    "            # \"NoChange\",\n",
    "            \".\",\n",
    "            \",\",\n",
    "            \"\\n\",\n",
    "            \"'\",\n",
    "            '\"',\n",
    "            \"-\",\n",
    "            \"?\",\n",
    "            \";\",\n",
    "            \"=\",\n",
    "            \"/\",\n",
    "            \"\\\\\",\n",
    "            \":\",\n",
    "        ]\n",
    "        self.special_character_name_mapping = special_character_name_mapping = {\n",
    "            \"'\": \"qoute\",\n",
    "            '\"': \"double_qoute\",\n",
    "            \".\": \"full_stop\",\n",
    "            \",\": \"comma\",\n",
    "            \"-\": \"hyphen\",\n",
    "            \"?\": \"question_mark\",\n",
    "            \";\": \"semi_colon\",\n",
    "            \"=\": \"equal_to\",\n",
    "            \"/\": \"forward_slash\",\n",
    "            \"\\\\\": \"back_slash\",\n",
    "            \":\": \"colon\",\n",
    "            \"(\": \"bracket_open\",\n",
    "            \")\": \"bracket_close\",\n",
    "            \"!\": \"exclamation_mark\",\n",
    "            \"[\": \"square_bracket_open\",\n",
    "            \"$\": \"dollar\",\n",
    "            \">\": \"greater_than_sign\",\n",
    "            \"]\": \"square_bracket_close\",\n",
    "            \"*\": \"star\",\n",
    "            \"%\": \"percentage\",\n",
    "            \"&\": \"ampresand\",\n",
    "            \"<\": \"less_than_sign\",\n",
    "            \"+\": \"plus_sign\",\n",
    "            \"_\": \"under_score\",\n",
    "            \"{\": \"curly_bracket_open\",\n",
    "            \"`\": \"tilted_qoute\",\n",
    "            \"#\": \"hashtag\",\n",
    "            \" \": \"blank_space\",\n",
    "            \"\\n\": \"new_line_char\",\n",
    "        }\n",
    "        self.df = df.sort_values([\"id\", \"event_id\"]).reset_index(drop=True)\n",
    "\n",
    "    def remove_lower_categorical_values(self):\n",
    "        ## Clean activity\n",
    "        self.df[\"activity\"] = self.df.activity.apply(\n",
    "            lambda x: x if x in self.activities else \"__OUTLIER__\"\n",
    "        )\n",
    "\n",
    "    def clean_up_time(self):\n",
    "        \"\"\"\n",
    "        For maximum number of ids uptime is not increasing. In each id for one or two events, up_time is incorrectly recorded\n",
    "        Procedure: Calculate the difference with next if diff is negative replace up_time with the up_time of next.\n",
    "        \"\"\"\n",
    "        print(f\"Before uptime cleaning, data shape: {self.df.shape}\")\n",
    "        tmp_df = self.df[[\"id\", \"event_id\", \"up_time\"]]\n",
    "        tmp_df[\"up_time_next\"] = tmp_df.groupby(\"id\").up_time.shift(-1)\n",
    "        tmp_df[\"up_time_diff\"] = tmp_df[\"up_time_next\"] - tmp_df.up_time\n",
    "\n",
    "        tmp_df.loc[tmp_df[tmp_df.up_time_diff < 0].index, \"up_time\"] = tmp_df[\n",
    "            tmp_df.up_time_diff < 0\n",
    "        ].up_time_next\n",
    "\n",
    "        # Do it once more\n",
    "        tmp_df = tmp_df[[\"id\", \"event_id\", \"up_time\"]]\n",
    "        tmp_df[\"up_time_next\"] = tmp_df.groupby(\"id\").up_time.shift(-1)\n",
    "        tmp_df[\"up_time_diff\"] = tmp_df[\"up_time_next\"] - tmp_df.up_time\n",
    "        tmp_df.loc[tmp_df[tmp_df.up_time_diff < 0].index, \"up_time\"] = tmp_df[\n",
    "            tmp_df.up_time_diff < 0\n",
    "        ].up_time_next\n",
    "\n",
    "        self.df[\"up_time\"] = tmp_df[\"up_time\"]\n",
    "        print(f\"After uptime cleaning, data shape: {self.df.shape}\")\n",
    "\n",
    "    def add_latency_columns(self):\n",
    "        # HL -> Hold latency, up_time-down_time\n",
    "        # IL-> Interkey latency -> down_time(event2) - up_time(event1)\n",
    "        # PL -> Press latency -> down_time(event2)- down_time(event1) or HL+IL\n",
    "        # RL -> Release Latency -> up_time(event2)- up_time(event1)\n",
    "        # self.df[\"HL\"] = self.df[\"up_time\"] - self.df[\"down_time\"] #same as action_time\n",
    "        self.df[\"IL\"] = self.df[\"up_time\"] - self.df.groupby(\"id\").down_time.shift(1)\n",
    "        self.df[\"IL\"] = self.df[\"IL\"].fillna(0)\n",
    "        self.df[\"PL\"] = self.df[\"down_time\"] - self.df.groupby(\"id\").down_time.shift(1)\n",
    "        self.df[\"PL\"] = self.df[\"PL\"].fillna(0)\n",
    "        self.df[\"RL\"] = self.df[\"up_time\"] - self.df.groupby(\"id\").up_time.shift(1)\n",
    "        self.df[\"RL\"] = self.df[\"RL\"].fillna(0)\n",
    "\n",
    "        # self.df = self.df[~self.df.isna().any(axis=1)].reset_index(drop=True)\n",
    "\n",
    "    def clean_data(self):\n",
    "        self.remove_lower_categorical_values()\n",
    "        self.clean_up_time()\n",
    "\n",
    "        self.add_latency_columns()\n",
    "\n",
    "    def change_time_columns_to_secs(self):\n",
    "        time_columns = [\"down_time\", \"up_time\", \"action_time\", \"IL\", \"PL\", \"RL\"]\n",
    "        for clm in time_columns:\n",
    "            self.df[clm] = self.df[clm] / cnfg.time_divider\n",
    "\n",
    "    def activity_features(self, tmp_df):\n",
    "        # Activity Counts to total activity count ratio\n",
    "        # Number of different activities\n",
    "        features_to_drop = []\n",
    "        ret = list()\n",
    "        for i, li in tqdm(enumerate(tmp_df[\"activity_list\"].values)):\n",
    "            items = list(Counter(li).items())\n",
    "            di = dict()\n",
    "            for k in self.activities_name_mapping.keys():\n",
    "                di[self.activities_name_mapping[k]] = 0\n",
    "            for item in items:\n",
    "                k, v = item[0], item[1]\n",
    "                if k in self.activities_name_mapping.keys():\n",
    "                    # if self.activities_name_mapping[k] in di:\n",
    "                    di[self.activities_name_mapping[k]] = v\n",
    "            ret.append(di)\n",
    "        ret = pd.DataFrame(ret)\n",
    "        cols = [f\"activity_{act_name}_count\" for act_name in ret.columns]\n",
    "        ret.columns = cols\n",
    "\n",
    "        # If using ratios drop count columns\n",
    "        features_to_drop.extend(cols)\n",
    "\n",
    "        tmp_df = pd.concat([tmp_df, ret], axis=1)\n",
    "        ###############################################################################\n",
    "        # Ratios to total activity\n",
    "        for act_clm in self.activities_name_mapping.values():\n",
    "            tmp_df[f\"activity_{act_clm}_ratio_total\"] = (\n",
    "                tmp_df[f\"activity_{act_clm}_count\"] / tmp_df[\"total_num_activites\"]\n",
    "            )\n",
    "        ###############################################################################\n",
    "        # Ratio to \"Input\" Activity\n",
    "        for act_clm in self.activities_name_mapping.values():\n",
    "            if act_clm != \"input\":\n",
    "                tmp_df[f\"activity_{act_clm}_ratio_input\"] = (\n",
    "                    tmp_df[f\"activity_{act_clm}_count\"] / tmp_df[\"activity_input_count\"]\n",
    "                )\n",
    "        ###############################################################################\n",
    "        # Ratio to \"Nonproduction\"\n",
    "        for act_clm in self.activities_name_mapping.values():\n",
    "            if act_clm != \"non_production\":\n",
    "                tmp_df[f\"activity_{act_clm}_ratio_non_production\"] = (\n",
    "                    tmp_df[f\"activity_{act_clm}_count\"]\n",
    "                    / tmp_df[\"activity_non_production_count\"]\n",
    "                )\n",
    "        ###############################################################################\n",
    "        # Ratio of first occurence of each activity to total_time taken\n",
    "        for act_clm in self.activities_name_mapping.keys():\n",
    "            first_occr_df = self.df[self.df.activity == act_clm].drop_duplicates(\n",
    "                subset=[\"id\", \"activity\"], keep=\"first\"\n",
    "            )\n",
    "            first_occr_df[\n",
    "                f\"{self.activities_name_mapping[act_clm]}_first_time\"\n",
    "            ] = first_occr_df[\"down_time\"]\n",
    "            first_occr_df = first_occr_df[\n",
    "                [\"id\", f\"{self.activities_name_mapping[act_clm]}_first_time\"]\n",
    "            ]\n",
    "            tmp_df = tmp_df.merge(first_occr_df, on=\"id\", how=\"left\")\n",
    "            tmp_df[f\"{self.activities_name_mapping[act_clm]}_first_time\"] = (\n",
    "                tmp_df[f\"{self.activities_name_mapping[act_clm]}_first_time\"]\n",
    "                - tmp_df[\"start_time\"]\n",
    "            )\n",
    "            tmp_df[\n",
    "                f\"{self.activities_name_mapping[act_clm]}_first_time_total_ratio\"\n",
    "            ] = (\n",
    "                tmp_df[f\"{self.activities_name_mapping[act_clm]}_first_time\"]\n",
    "                / tmp_df[\"total_time_taken\"]\n",
    "            )\n",
    "\n",
    "            tmp_df[\n",
    "                f\"{self.activities_name_mapping[act_clm]}_first_time_total_ratio\"\n",
    "            ] = tmp_df[\n",
    "                f\"{self.activities_name_mapping[act_clm]}_first_time_total_ratio\"\n",
    "            ].fillna(\n",
    "                -1\n",
    "            )\n",
    "\n",
    "            features_to_drop.append(\n",
    "                f\"{self.activities_name_mapping[act_clm]}_first_time\"\n",
    "            )\n",
    "        ###############################################################################\n",
    "        # Ratio of last occurence of each activity to total_time taken\n",
    "        for act_clm in self.activities_name_mapping.keys():\n",
    "            last_occr_df = self.df[self.df.activity == act_clm].drop_duplicates(\n",
    "                subset=[\"id\", \"activity\"], keep=\"last\"\n",
    "            )\n",
    "            last_occr_df[\n",
    "                f\"{self.activities_name_mapping[act_clm]}_last_time\"\n",
    "            ] = last_occr_df[\"down_time\"]\n",
    "            last_occr_df = last_occr_df[\n",
    "                [\"id\", f\"{self.activities_name_mapping[act_clm]}_last_time\"]\n",
    "            ]\n",
    "            tmp_df = tmp_df.merge(last_occr_df, on=\"id\", how=\"left\")\n",
    "            tmp_df[f\"{self.activities_name_mapping[act_clm]}_last_time\"] = (\n",
    "                tmp_df[f\"{self.activities_name_mapping[act_clm]}_last_time\"]\n",
    "                - tmp_df[\"start_time\"]\n",
    "            )\n",
    "            tmp_df[f\"{self.activities_name_mapping[act_clm]}_last_time_total_ratio\"] = (\n",
    "                tmp_df[f\"{self.activities_name_mapping[act_clm]}_last_time\"]\n",
    "                / tmp_df[\"total_time_taken\"]\n",
    "            )\n",
    "\n",
    "            tmp_df[\n",
    "                f\"{self.activities_name_mapping[act_clm]}_last_time_total_ratio\"\n",
    "            ] = tmp_df[\n",
    "                f\"{self.activities_name_mapping[act_clm]}_last_time_total_ratio\"\n",
    "            ].fillna(\n",
    "                -1\n",
    "            )\n",
    "\n",
    "            features_to_drop.append(\n",
    "                f\"{self.activities_name_mapping[act_clm]}_last_time\"\n",
    "            )\n",
    "\n",
    "        ###############################################################################\n",
    "        # min max mean std and other stats values of time between each type of activity\n",
    "        methods_to_apply = [\n",
    "            my_min,\n",
    "            my_max,\n",
    "            my_mean,\n",
    "            my_std,\n",
    "            my_skew,\n",
    "            my_kurtosis,\n",
    "            my_median_grouped,\n",
    "        ]\n",
    "\n",
    "        for act_clm in [\"Input\", \"Remove/Cut\", \"Nonproduction\"]:\n",
    "            particular_act_df = self.df[self.df.activity == act_clm].reset_index(\n",
    "                drop=True\n",
    "            )\n",
    "            act_clm = self.activities_name_mapping[act_clm]\n",
    "            particular_act_df[f\"{act_clm}_prev_event_time\"] = particular_act_df.groupby(\n",
    "                \"id\"\n",
    "            ).down_time.shift(1)\n",
    "            particular_act_df[f\"{act_clm}_inter_act_latency\"] = (\n",
    "                particular_act_df[\"down_time\"]\n",
    "                - particular_act_df[f\"{act_clm}_prev_event_time\"]\n",
    "            )\n",
    "\n",
    "            particular_act_df[f\"{act_clm}_inter_act_latency\"] = particular_act_df[\n",
    "                f\"{act_clm}_inter_act_latency\"\n",
    "            ].fillna(0)\n",
    "\n",
    "            # particular_act_df = particular_act_df[\n",
    "            #     ~particular_act_df.isna().any(axis=1)\n",
    "            # ].reset_index(drop=True)\n",
    "\n",
    "            colname = f\"{act_clm}_inter_act_latency\"\n",
    "            for method in methods_to_apply:\n",
    "                if isinstance(method, str):\n",
    "                    method_name = method\n",
    "                else:\n",
    "                    method_name = method.__name__\n",
    "                colname_method = f\"{act_clm}_{method_name}_inter_act_latency\"\n",
    "                tmp2_df = (\n",
    "                    particular_act_df.groupby([\"id\"])\n",
    "                    .agg({colname: method})\n",
    "                    .reset_index()\n",
    "                    .rename(columns={colname: colname_method})\n",
    "                )\n",
    "\n",
    "                tmp_df = tmp_df.merge(tmp2_df, on=\"id\", how=\"left\")\n",
    "\n",
    "        ###############################################################################\n",
    "        # Number of type of down_events in each of [\"Input\", \"Remove/Cut\", \"Nonproduction\"]\n",
    "        for act_clm in [\"Input\", \"Remove/Cut\", \"Nonproduction\"]:\n",
    "            particular_act_df = self.df[self.df.activity == act_clm].reset_index(\n",
    "                drop=True\n",
    "            )\n",
    "            act_clm = self.activities_name_mapping[act_clm]\n",
    "            colname = f\"num_type_down_events_in_{act_clm}\"\n",
    "            tmp2_df = (\n",
    "                particular_act_df.groupby(\"id\", as_index=False)\n",
    "                .agg({\"down_event\": \"nunique\"})\n",
    "                .rename(columns={\"down_event\": colname})\n",
    "            )\n",
    "            tmp_df = tmp_df.merge(tmp2_df, on=\"id\", how=\"left\")\n",
    "\n",
    "        ###############################################################################\n",
    "        ## Ways in which remove/cut happens -> Top ways -> ['Backspace','Delete','x','z','Rightclick'] ratios\n",
    "        remove_df = self.df[self.df.activity == \"Remove/Cut\"].reset_index(drop=True)\n",
    "        name_for_remove = self.activities_name_mapping[\"Remove/Cut\"]\n",
    "        remove_feats_df = remove_df.groupby(\"id\", as_index=False).agg(\n",
    "            total_remove_activity=(\"down_event\", lambda x: len(list(x)))\n",
    "        )\n",
    "        tmp_df = tmp_df.merge(remove_feats_df, on=\"id\", how=\"left\")\n",
    "\n",
    "        features_to_drop.append(\"total_remove_activity\")  # Remove this column\n",
    "\n",
    "        for dwn_evnt in [\"Backspace\", \"Delete\", \"x\", \"z\", \"Rightclick\"]:\n",
    "            colname = f\"{dwn_evnt}_in_{name_for_remove}_share\"\n",
    "            tmp2_df = (\n",
    "                remove_df[remove_df.down_event == dwn_evnt]\n",
    "                .groupby(\"id\", as_index=False)\n",
    "                .agg({\"down_event\": lambda x: len(list(x))})\n",
    "                .rename(columns={\"down_event\": colname})\n",
    "            )\n",
    "            tmp_df = tmp_df.merge(tmp2_df, on=\"id\", how=\"left\")\n",
    "            tmp_df[colname] = tmp_df[colname].fillna(0)\n",
    "        # Normalise\n",
    "        for dwn_evnt in [\"Backspace\", \"Delete\", \"x\", \"z\", \"Rightclick\"]:\n",
    "            colname = f\"{dwn_evnt}_in_{name_for_remove}_share\"\n",
    "            tmp_df[colname] = tmp_df[colname] / tmp_df[\"total_remove_activity\"]\n",
    "            tmp_df[colname] = tmp_df[colname].fillna(0)\n",
    "\n",
    "        ###############################################################################\n",
    "        ## Ways in which replace happens -> Top ways -> ['q','Space','.',',','z','v','Enter','Rightclick'] ratios\n",
    "        replace_df = self.df[self.df.activity == \"Replace\"].reset_index(drop=True)\n",
    "        name_for_replace = self.activities_name_mapping[\"Replace\"]\n",
    "        replace_feats_df = replace_df.groupby(\"id\", as_index=False).agg(\n",
    "            total_replace_activity=(\"down_event\", lambda x: len(list(x)))\n",
    "        )\n",
    "        tmp_df = tmp_df.merge(replace_feats_df, on=\"id\", how=\"left\")\n",
    "\n",
    "        features_to_drop.append(\"total_replace_activity\")  # Remove this column\n",
    "\n",
    "        for dwn_evnt in [\"q\", \"Space\", \".\", \",\", \"z\", \"v\", \"Enter\", \"Rightclick\"]:\n",
    "            dwn_evnt_name = (\n",
    "                dwn_evnt\n",
    "                if dwn_evnt not in self.special_character_name_mapping.keys()\n",
    "                else self.special_character_name_mapping[dwn_evnt]\n",
    "            )\n",
    "            colname = f\"{dwn_evnt_name}_in_{name_for_replace}_share\"\n",
    "            tmp2_df = (\n",
    "                replace_df[replace_df.down_event == dwn_evnt]\n",
    "                .groupby(\"id\", as_index=False)\n",
    "                .agg({\"down_event\": lambda x: len(list(x))})\n",
    "                .rename(columns={\"down_event\": colname})\n",
    "            )\n",
    "            tmp_df = tmp_df.merge(tmp2_df, on=\"id\", how=\"left\")\n",
    "            tmp_df[colname] = tmp_df[colname].fillna(0)\n",
    "        # Normalise\n",
    "        for dwn_evnt in [\"q\", \"Space\", \".\", \",\", \"z\", \"v\", \"Enter\", \"Rightclick\"]:\n",
    "            dwn_evnt_name = (\n",
    "                dwn_evnt\n",
    "                if dwn_evnt not in self.special_character_name_mapping.keys()\n",
    "                else self.special_character_name_mapping[dwn_evnt]\n",
    "            )\n",
    "            colname = f\"{dwn_evnt_name}_in_{name_for_replace}_share\"\n",
    "            tmp_df[colname] = tmp_df[colname] / tmp_df[\"total_replace_activity\"]\n",
    "            tmp_df[colname] = tmp_df[colname].fillna(0)\n",
    "\n",
    "        ###############################################################################\n",
    "        \"\"\"\n",
    "        Ways in which Nonproduction happens -> Top ways ->  top_ways_np ratios\n",
    "        \"\"\"\n",
    "        top_ways_np = [\n",
    "            \"Shift\",\n",
    "            \"ArrowRight\",\n",
    "            \"Leftclick\",\n",
    "            \"ArrowLeft\",\n",
    "            \"ArrowDown\",\n",
    "            \"ArrowUp\",\n",
    "            \"CapsLock\",\n",
    "            \"Control\",\n",
    "            \"Backspace\",\n",
    "            \"Tab\",\n",
    "            \"ContextMenu\",\n",
    "            \"End\",\n",
    "            \"Rightclick\",\n",
    "        ]\n",
    "        np_df = self.df[self.df.activity == \"Nonproduction\"].reset_index(drop=True)\n",
    "        name_for_np = self.activities_name_mapping[\"Nonproduction\"]\n",
    "        np_feats_df = np_df.groupby(\"id\", as_index=False).agg(\n",
    "            total_np_activity=(\"down_event\", lambda x: len(list(x)))\n",
    "        )\n",
    "        tmp_df = tmp_df.merge(np_feats_df, on=\"id\", how=\"left\")\n",
    "\n",
    "        features_to_drop.append(\"total_np_activity\")  # Remove this column\n",
    "\n",
    "        for dwn_evnt in top_ways_np:\n",
    "            dwn_evnt_name = (\n",
    "                dwn_evnt\n",
    "                if dwn_evnt not in self.special_character_name_mapping.keys()\n",
    "                else self.special_character_name_mapping[dwn_evnt]\n",
    "            )\n",
    "            colname = f\"{dwn_evnt_name}_in_{name_for_np}_share\"\n",
    "            tmp2_df = (\n",
    "                np_df[np_df.down_event == dwn_evnt]\n",
    "                .groupby(\"id\", as_index=False)\n",
    "                .agg({\"down_event\": lambda x: len(list(x))})\n",
    "                .rename(columns={\"down_event\": colname})\n",
    "            )\n",
    "            tmp_df = tmp_df.merge(tmp2_df, on=\"id\", how=\"left\")\n",
    "            tmp_df[colname] = tmp_df[colname].fillna(0)\n",
    "        # Normalise\n",
    "        for dwn_evnt in top_ways_np:\n",
    "            dwn_evnt_name = (\n",
    "                dwn_evnt\n",
    "                if dwn_evnt not in self.special_character_name_mapping.keys()\n",
    "                else self.special_character_name_mapping[dwn_evnt]\n",
    "            )\n",
    "            colname = f\"{dwn_evnt_name}_in_{name_for_np}_share\"\n",
    "            tmp_df[colname] = tmp_df[colname] / tmp_df[\"total_np_activity\"]\n",
    "            tmp_df[colname] = tmp_df[colname].fillna(0)\n",
    "\n",
    "        ###############################################################################\n",
    "        \"\"\"\n",
    "        Ways in which Input happens -> Top ways ->  top_ways_np ratios\n",
    "        \"\"\"\n",
    "        top_ways_input = [\n",
    "            \"q\",\n",
    "            \"Space\",\n",
    "            \"Enter\",\n",
    "        ] + list(self.special_character_name_mapping.keys())\n",
    "\n",
    "        top_ways_input = [\n",
    "            inp\n",
    "            for inp in top_ways_input\n",
    "            if inp\n",
    "            not in [\n",
    "                \":\",\n",
    "                \"(\",\n",
    "                \")\",\n",
    "                \"!\",\n",
    "                \"[\",\n",
    "                \"$\",\n",
    "                \">\",\n",
    "                \"]\",\n",
    "                \"*\",\n",
    "                \"%\",\n",
    "                \"&\",\n",
    "                \"<\",\n",
    "                \"+\",\n",
    "                \"_\",\n",
    "                \"{\",\n",
    "                \"`\",\n",
    "                \"#\",\n",
    "                \" \",\n",
    "                \"\\n\",\n",
    "            ]\n",
    "        ]\n",
    "        input_df = self.df[self.df.activity == \"Input\"].reset_index(drop=True)\n",
    "        name_for_input = self.activities_name_mapping[\"Input\"]\n",
    "        input_feats_df = input_df.groupby(\"id\", as_index=False).agg(\n",
    "            total_input_activity=(\"down_event\", lambda x: len(list(x)))\n",
    "        )\n",
    "        tmp_df = tmp_df.merge(input_feats_df, on=\"id\", how=\"left\")\n",
    "\n",
    "        features_to_drop.append(\"total_input_activity\")  # Remove this column\n",
    "\n",
    "        for dwn_evnt in top_ways_input:\n",
    "            dwn_evnt_name = (\n",
    "                dwn_evnt\n",
    "                if dwn_evnt not in self.special_character_name_mapping.keys()\n",
    "                else self.special_character_name_mapping[dwn_evnt]\n",
    "            )\n",
    "            colname = f\"{dwn_evnt_name}_in_{name_for_input}_share\"\n",
    "            tmp2_df = (\n",
    "                input_df[input_df.down_event == dwn_evnt]\n",
    "                .groupby(\"id\", as_index=False)\n",
    "                .agg({\"down_event\": lambda x: len(list(x))})\n",
    "                .rename(columns={\"down_event\": colname})\n",
    "            )\n",
    "            tmp_df = tmp_df.merge(tmp2_df, on=\"id\", how=\"left\")\n",
    "            tmp_df[colname] = tmp_df[colname].fillna(0)\n",
    "        # Normalise\n",
    "        for dwn_evnt in top_ways_input:\n",
    "            dwn_evnt_name = (\n",
    "                dwn_evnt\n",
    "                if dwn_evnt not in self.special_character_name_mapping.keys()\n",
    "                else self.special_character_name_mapping[dwn_evnt]\n",
    "            )\n",
    "            colname = f\"{dwn_evnt_name}_in_{name_for_input}_share\"\n",
    "            tmp_df[colname] = tmp_df[colname] / tmp_df[\"total_input_activity\"]\n",
    "            tmp_df[colname] = tmp_df[colname].fillna(0)\n",
    "\n",
    "        ###############################################################################\n",
    "\n",
    "        ###############################################################################\n",
    "        print(f\"Features dropping in activity function {features_to_drop}\")\n",
    "        tmp_df = tmp_df.drop(columns=features_to_drop)\n",
    "        return tmp_df\n",
    "\n",
    "    def word_count_features(self, tmp_df):\n",
    "        word_count_df = self.df[[\"id\", \"event_id\", \"word_count\", \"down_time\"]]\n",
    "        # Number of times words deleted:\n",
    "        word_count_df[\"word_count_first_derivative\"] = word_count_df[\n",
    "            \"word_count\"\n",
    "        ] - word_count_df.groupby(\"id\").word_count.shift(1)\n",
    "\n",
    "        word_count_df[\"word_count_first_derivative\"] = word_count_df[\n",
    "            \"word_count_first_derivative\"\n",
    "        ].fillna(0)\n",
    "        # word_count_df = word_count_df[~word_count_df.isna().any(axis=1)].reset_index(\n",
    "        #     drop=True\n",
    "        # )\n",
    "\n",
    "        wc_feats_df = word_count_df.groupby(\"id\", as_index=False).agg(\n",
    "            num_times_word_deleted=(\n",
    "                \"word_count_first_derivative\",\n",
    "                lambda x: my_sum([1 for i in list(x) if i < 0]),\n",
    "            ),\n",
    "            num_words_deleted=(  # take ratio with total words\n",
    "                \"word_count_first_derivative\",\n",
    "                lambda x: my_sum([-i for i in list(x) if i < 0]),\n",
    "            ),\n",
    "            size_of_biggest_chunk_removed=(  # take ratio with total words\n",
    "                \"word_count_first_derivative\",\n",
    "                lambda x: my_max([-i for i in list(x) if i < 0]),\n",
    "            ),\n",
    "            avg_num_words_removed_at_a_time=(  # take ratio with total words\n",
    "                \"word_count_first_derivative\",\n",
    "                lambda x: my_mean([-i for i in list(x) if i < 0]),\n",
    "            ),\n",
    "        )\n",
    "        wc_feats_df = wc_feats_df.fillna(0)\n",
    "        tmp_df = tmp_df.merge(wc_feats_df, on=\"id\", how=\"left\")\n",
    "        tmp_df[\"num_words_deleted\"] = (\n",
    "            tmp_df[\"num_words_deleted\"] / tmp_df[\"total_word_count\"]\n",
    "        )\n",
    "        tmp_df[\"num_words_deleted\"] = tmp_df[\"num_words_deleted\"].fillna(0)\n",
    "\n",
    "        tmp_df[\"size_of_biggest_chunk_removed\"] = (\n",
    "            tmp_df[\"size_of_biggest_chunk_removed\"] / tmp_df[\"total_word_count\"]\n",
    "        )\n",
    "        tmp_df[\"size_of_biggest_chunk_removed\"] = tmp_df[\n",
    "            \"size_of_biggest_chunk_removed\"\n",
    "        ].fillna(0)\n",
    "\n",
    "        tmp_df[\"avg_num_words_removed_at_a_time\"] = (\n",
    "            tmp_df[\"avg_num_words_removed_at_a_time\"] / tmp_df[\"total_word_count\"]\n",
    "        )\n",
    "        tmp_df[\"avg_num_words_removed_at_a_time\"] = tmp_df[\n",
    "            \"avg_num_words_removed_at_a_time\"\n",
    "        ].fillna(0)\n",
    "\n",
    "        word_count_df2 = word_count_df[\n",
    "            word_count_df.word_count_first_derivative < 0\n",
    "        ].reset_index(drop=True)\n",
    "        word_count_df2 = word_count_df2.merge(\n",
    "            tmp_df[[\"id\", \"start_time\", \"total_time_taken\"]], on=\"id\"\n",
    "        )\n",
    "        word_count_df2[\"time_for_word_deletion_share\"] = (\n",
    "            word_count_df2[\"down_time\"] - word_count_df2[\"start_time\"]\n",
    "        )\n",
    "        word_count_df2[\"time_for_word_deletion_share\"] = (\n",
    "            word_count_df2[\"time_for_word_deletion_share\"]\n",
    "            / word_count_df2[\"total_time_taken\"]\n",
    "        )\n",
    "\n",
    "        # Time after start when word is deleted first time and last time\n",
    "        wc_feats_df = word_count_df2.groupby(\"id\", as_index=False).agg(\n",
    "            first_time_word_deletion=(\n",
    "                \"time_for_word_deletion_share\",\n",
    "                lambda x: list(x)[0],\n",
    "            ),\n",
    "            last_time_word_deletion=(\n",
    "                \"time_for_word_deletion_share\",\n",
    "                lambda x: list(x)[-1],\n",
    "            ),\n",
    "        )\n",
    "        wc_feats_df = wc_feats_df.fillna(0)\n",
    "        tmp_df = tmp_df.merge(wc_feats_df, on=\"id\", how=\"left\")\n",
    "        tmp_df[\"first_time_word_deletion\"] = tmp_df[\"first_time_word_deletion\"].fillna(\n",
    "            0\n",
    "        )\n",
    "        tmp_df[\"last_time_word_deletion\"] = tmp_df[\"last_time_word_deletion\"].fillna(0)\n",
    "\n",
    "        # Average,max,min,std of time between word deletions\n",
    "        word_count_df2[\"time_between_word_deletions\"] = word_count_df2[\n",
    "            \"down_time\"\n",
    "        ] - word_count_df2.groupby(\"id\").down_time.shift(1)\n",
    "        word_count_df2[\"time_between_word_deletions\"] = word_count_df2[\n",
    "            \"time_between_word_deletions\"\n",
    "        ].fillna(0)\n",
    "        # word_count_df2 = word_count_df2[~word_count_df2.isna().any(axis=1)].reset_index(\n",
    "        #     drop=True\n",
    "        # )\n",
    "\n",
    "        wc_feats_df = word_count_df2.groupby(\"id\", as_index=False).agg(\n",
    "            mean_time_btw_word_deletions=(\n",
    "                \"time_between_word_deletions\",\n",
    "                lambda x: my_mean(list(x)),\n",
    "            ),\n",
    "            max_time_btw_word_deletions=(\n",
    "                \"time_between_word_deletions\",\n",
    "                lambda x: my_max(list(x)),\n",
    "            ),\n",
    "            min_time_btw_word_deletions=(\n",
    "                \"time_between_word_deletions\",\n",
    "                lambda x: my_min(list(x)),\n",
    "            ),\n",
    "            std_time_btw_word_deletions=(\n",
    "                \"time_between_word_deletions\",\n",
    "                lambda x: my_std(list(x)),\n",
    "            ),\n",
    "        )\n",
    "\n",
    "        wc_feats_df = wc_feats_df.fillna(0)\n",
    "        tmp_df = tmp_df.merge(wc_feats_df, on=\"id\", how=\"left\")\n",
    "        tmp_df[\"mean_time_btw_word_deletions\"] = (\n",
    "            tmp_df[\"mean_time_btw_word_deletions\"] / tmp_df[\"total_time_taken\"]\n",
    "        )\n",
    "        tmp_df[\"mean_time_btw_word_deletions\"] = tmp_df[\n",
    "            \"mean_time_btw_word_deletions\"\n",
    "        ].fillna(0)\n",
    "\n",
    "        tmp_df[\"max_time_btw_word_deletions\"] = (\n",
    "            tmp_df[\"max_time_btw_word_deletions\"] / tmp_df[\"total_time_taken\"]\n",
    "        )\n",
    "        tmp_df[\"max_time_btw_word_deletions\"] = tmp_df[\n",
    "            \"max_time_btw_word_deletions\"\n",
    "        ].fillna(0)\n",
    "\n",
    "        tmp_df[\"min_time_btw_word_deletions\"] = (\n",
    "            tmp_df[\"min_time_btw_word_deletions\"] / tmp_df[\"total_time_taken\"]\n",
    "        )\n",
    "        tmp_df[\"min_time_btw_word_deletions\"] = tmp_df[\n",
    "            \"min_time_btw_word_deletions\"\n",
    "        ].fillna(0)\n",
    "\n",
    "        tmp_df[\"std_time_btw_word_deletions\"] = (\n",
    "            tmp_df[\"std_time_btw_word_deletions\"] / tmp_df[\"total_time_taken\"]\n",
    "        )\n",
    "        tmp_df[\"std_time_btw_word_deletions\"] = tmp_df[\n",
    "            \"std_time_btw_word_deletions\"\n",
    "        ].fillna(0)\n",
    "\n",
    "        return tmp_df\n",
    "\n",
    "    def cursor_position_features(self, tmp_df):\n",
    "        cursor_pos_df = self.df[[\"id\", \"event_id\", \"cursor_position\", \"down_time\"]]\n",
    "        # Number of times cursor position is decreased means gone back to see something:\n",
    "        cursor_pos_df[\"cursor_pos_first_derivative\"] = cursor_pos_df[\n",
    "            \"cursor_position\"\n",
    "        ] - cursor_pos_df.groupby(\"id\").cursor_position.shift(1)\n",
    "        cursor_pos_df[\"cursor_pos_first_derivative\"] = cursor_pos_df[\n",
    "            \"cursor_pos_first_derivative\"\n",
    "        ].fillna(0)\n",
    "        # cursor_pos_df = cursor_pos_df[~cursor_pos_df.isna().any(axis=1)].reset_index(\n",
    "        #     drop=True\n",
    "        # )\n",
    "\n",
    "        cp_feats_df = cursor_pos_df.groupby(\"id\", as_index=False).agg(\n",
    "            num_times_cp_decreased=(\n",
    "                \"cursor_pos_first_derivative\",\n",
    "                lambda x: my_sum([1 for i in list(x) if i < 0]),\n",
    "            ),\n",
    "            size_of_biggest_cp_decreased=(\n",
    "                \"cursor_pos_first_derivative\",\n",
    "                lambda x: my_max([-i for i in list(x) if i < 0]),\n",
    "            ),\n",
    "            avg_size_of_cp_decreased_at_a_time=(\n",
    "                \"cursor_pos_first_derivative\",\n",
    "                lambda x: my_mean([-i for i in list(x) if i < 0]),\n",
    "            ),\n",
    "        )\n",
    "        cp_feats_df = cp_feats_df.fillna(0)\n",
    "        tmp_df = tmp_df.merge(cp_feats_df, on=\"id\", how=\"left\")\n",
    "\n",
    "        return tmp_df\n",
    "\n",
    "    def text_change_features(self, tmp_df):\n",
    "        # Count of all text_change features\n",
    "        for txt_chng in self.text_changes:\n",
    "            txt_chng_name = (\n",
    "                txt_chng\n",
    "                if txt_chng not in self.special_character_name_mapping.keys()\n",
    "                else self.special_character_name_mapping[txt_chng]\n",
    "            )\n",
    "\n",
    "            text_change_df = self.df[self.df.text_change == txt_chng]\n",
    "            cnt_col_name = f\"{txt_chng_name}_tc_total_share\"\n",
    "            text_change_features = (\n",
    "                text_change_df.groupby(\"id\", as_index=False)\n",
    "                .agg({\"text_change\": lambda x: len(list(x))})\n",
    "                .rename(columns={\"text_change\": cnt_col_name})\n",
    "            )\n",
    "            tmp_df = tmp_df.merge(text_change_features, on=\"id\", how=\"left\")\n",
    "            tmp_df[cnt_col_name] = tmp_df[cnt_col_name].fillna(0)\n",
    "            ## Ratio of text_change in particular activity\n",
    "            for act in [\"Input\", \"Remove/Cut\"]:\n",
    "                act_name = self.activities_name_mapping[act]\n",
    "                cnt_col_name2 = f\"{txt_chng_name}_in_{act_name}_tc_total_share\"\n",
    "                text_change_df2 = text_change_df[text_change_df.activity == act]\n",
    "                text_change_features2 = (\n",
    "                    text_change_df2.groupby(\"id\", as_index=False)\n",
    "                    .agg({\"text_change\": lambda x: len(list(x))})\n",
    "                    .rename(columns={\"text_change\": cnt_col_name2})\n",
    "                )\n",
    "\n",
    "                tmp_df = tmp_df.merge(text_change_features2, on=\"id\", how=\"left\")\n",
    "                tmp_df[cnt_col_name2] = tmp_df[cnt_col_name2].fillna(0)\n",
    "                # Normalise\n",
    "                tmp_df[cnt_col_name2] = tmp_df[cnt_col_name2] / tmp_df[cnt_col_name]\n",
    "                tmp_df[cnt_col_name2] = tmp_df[cnt_col_name2].fillna(0)\n",
    "\n",
    "            # Normalise count of text change type with total event count\n",
    "            tmp_df[cnt_col_name] = tmp_df[cnt_col_name] / tmp_df[\"num_events\"]\n",
    "            tmp_df[cnt_col_name] = tmp_df[cnt_col_name].fillna(0)\n",
    "\n",
    "        return tmp_df\n",
    "\n",
    "    def word_len_features(self, tmp_df):\n",
    "        essay_text_df = self.df[\n",
    "            (~self.df[\"text_change\"].str.contains(\"=>\"))\n",
    "            & (self.df[\"text_change\"] != \"NoChange\")\n",
    "        ].reset_index(drop=True)\n",
    "        essay_text_df = (\n",
    "            essay_text_df.groupby(\"id\").agg({\"text_change\": list}).reset_index()\n",
    "        )\n",
    "        essay_text_df[\"text_change\"] = essay_text_df[\"text_change\"].apply(\n",
    "            lambda x: \"\".join(x)\n",
    "        )\n",
    "        essay_text_df[\"text_change2\"] = essay_text_df[\"text_change\"].apply(\n",
    "            lambda x: re.findall(r\"q+\", x)\n",
    "        )\n",
    "        essay_text_df[\"input_word_count\"] = essay_text_df[\"text_change2\"].apply(len)\n",
    "        essay_text_df[\"input_word_length_mean\"] = essay_text_df[\"text_change2\"].apply(\n",
    "            lambda x: np.mean([len(i) for i in x] if len(x) > 0 else 0)\n",
    "        )\n",
    "        essay_text_df[\"input_word_length_max\"] = essay_text_df[\"text_change2\"].apply(\n",
    "            lambda x: np.max([len(i) for i in x] if len(x) > 0 else 0)\n",
    "        )\n",
    "        essay_text_df[\"input_word_length_std\"] = essay_text_df[\"text_change2\"].apply(\n",
    "            lambda x: np.std([len(i) for i in x] if len(x) > 0 else 0)\n",
    "        )\n",
    "\n",
    "        essay_text_df[\"input_word_length_skew\"] = essay_text_df[\"text_change2\"].apply(\n",
    "            lambda x: my_skew([len(i) for i in x] if len(x) > 0 else 0)\n",
    "        )\n",
    "\n",
    "        essay_text_df[\"input_word_length_kurtosis\"] = essay_text_df[\n",
    "            \"text_change2\"\n",
    "        ].apply(lambda x: my_kurtosis([len(i) for i in x] if len(x) > 0 else 0))\n",
    "\n",
    "        essay_text_df2 = essay_text_df[[\"id\", \"text_change2\"]].explode(\n",
    "            column=\"text_change2\"\n",
    "        )\n",
    "        essay_text_df2 = essay_text_df2.dropna().reset_index(drop=True)\n",
    "\n",
    "        essay_text_df = essay_text_df.drop(columns=[\"text_change\", \"text_change2\"])\n",
    "\n",
    "        tmp_df = tmp_df.merge(essay_text_df, on=\"id\", how=\"left\")\n",
    "\n",
    "        ## Count number of words of lengths ['1', '2', '3', '4', '5', '6', '7', '8', '9', '10', 'more_than_10']\n",
    "        essay_text_df2[\"word_len\"] = essay_text_df2.text_change2.apply(\n",
    "            lambda x: \"more_than_10\" if len(x) > 10 else str(len(x))\n",
    "        )\n",
    "\n",
    "        essay_text_df2 = essay_text_df2.groupby(\"id\", as_index=False).agg(\n",
    "            {\"word_len\": list}\n",
    "        )\n",
    "        list_of_word_lens = [\n",
    "            \"1\",\n",
    "            \"2\",\n",
    "            \"3\",\n",
    "            \"4\",\n",
    "            \"5\",\n",
    "            \"6\",\n",
    "            \"7\",\n",
    "            \"8\",\n",
    "            \"9\",\n",
    "            \"10\",\n",
    "            \"more_than_10\",\n",
    "        ]\n",
    "        ret = list()\n",
    "        for li in tqdm(essay_text_df2[\"word_len\"].values):\n",
    "            items = list(Counter(li).items())\n",
    "            di = dict()\n",
    "            for k in list_of_word_lens:\n",
    "                di[k] = 0\n",
    "            for item in items:\n",
    "                k, v = item[0], item[1]\n",
    "                if k in di:\n",
    "                    di[k] = v\n",
    "            ret.append(di)\n",
    "        ret = pd.DataFrame(ret)\n",
    "        cols = [f\"words_of_len_{i}_share\" for i in ret.columns]\n",
    "        ret.columns = cols\n",
    "        tmp_df = pd.concat([tmp_df, ret], axis=1)\n",
    "        # Normalise\n",
    "        for word_len in list_of_word_lens:\n",
    "            colname = f\"words_of_len_{word_len}_share\"\n",
    "            tmp_df[colname] = tmp_df[colname] / tmp_df[\"input_word_count\"]\n",
    "\n",
    "        return tmp_df\n",
    "\n",
    "    def get_stats_for_different_latency(self, tmp_df):\n",
    "        methods_to_apply = [\n",
    "            # my_min,\n",
    "            my_max,\n",
    "            my_mean,\n",
    "            my_std,\n",
    "            my_skew,\n",
    "            my_kurtosis,\n",
    "            my_median_grouped,\n",
    "        ]\n",
    "        clms_for_stats = [\"action_time\", \"IL\", \"PL\"]\n",
    "\n",
    "        for clm in clms_for_stats:\n",
    "            colname = f\"{clm}_stats\"\n",
    "            for method in methods_to_apply:\n",
    "                if isinstance(method, str):\n",
    "                    method_name = method\n",
    "                else:\n",
    "                    method_name = method.__name__\n",
    "                colname_method = f\"{colname}_{method_name}\"\n",
    "                tmp2_df = (\n",
    "                    self.df.groupby([\"id\"])\n",
    "                    .agg({clm: method})\n",
    "                    .reset_index()\n",
    "                    .rename(columns={clm: colname_method})\n",
    "                )\n",
    "\n",
    "                tmp_df = tmp_df.merge(tmp2_df, on=\"id\", how=\"left\")\n",
    "\n",
    "        return tmp_df\n",
    "\n",
    "    def feature_engineering(self):\n",
    "        # initialize features dataframe\n",
    "        # feats = pd.DataFrame({\"id\": self.df[\"id\"].unique().tolist()})\n",
    "\n",
    "        feats = self.df.groupby(\"id\", as_index=False).agg(\n",
    "            total_time_taken=(\"down_time\", lambda x: list(x)[-1] - list(x)[0]),\n",
    "            total_idle_time=(\"IL\", lambda x: sum(x)),\n",
    "            total_word_count=(\"word_count\", lambda x: list(x)[-1] - list(x)[0]),\n",
    "            max_cursor_position=(\"cursor_position\", lambda x: my_max(list(x))),\n",
    "            num_events=(\"event_id\", lambda x: len(list(x))),\n",
    "            activity_list=(\"activity\", list),\n",
    "            total_num_activites=(\"activity\", lambda x: len(list(x))),\n",
    "            total_type_of_activities=(\"activity\", lambda x: len(set(x))),\n",
    "            start_time=(\"down_time\", lambda x: list(x)[0]),\n",
    "            end_time=(\"down_time\", lambda x: list(x)[-1]),\n",
    "        )\n",
    "\n",
    "        features_to_drop = [\n",
    "            \"activity_list\",\n",
    "            \"total_num_activites\",\n",
    "            \"start_time\",\n",
    "            \"end_time\",\n",
    "        ]\n",
    "\n",
    "        # events to time ratio or rate of event or speed of activity\n",
    "        feats[\"speed_of_activity\"] = feats[\"num_events\"] / feats[\"total_time_taken\"]\n",
    "        feats[\"speed_of_writing\"] = (\n",
    "            feats[\"total_word_count\"] / feats[\"total_time_taken\"]\n",
    "        )\n",
    "        feats[\"events_per_word\"] = feats[\"total_word_count\"] / feats[\"num_events\"]\n",
    "        feats[\"idle_time_ratio\"] = feats[\"total_idle_time\"] / feats[\"total_time_taken\"]\n",
    "\n",
    "        feats[\"words_to_cp_ratio\"] = (\n",
    "            feats[\"total_word_count\"] / feats[\"max_cursor_position\"]\n",
    "        )  # indicator of words per line\n",
    "\n",
    "        # After Activity features\n",
    "        print(\"-\" * 25)\n",
    "        print(\"Starting Activity Features\")\n",
    "        feats = self.activity_features(feats)\n",
    "\n",
    "        # Word count features\n",
    "        print(\"-\" * 25)\n",
    "        print(\"Starting Word Count Features\")\n",
    "        feats = self.word_count_features(feats)\n",
    "\n",
    "        # Cursor position features\n",
    "        print(\"-\" * 25)\n",
    "        print(\"Starting Cursor Position Features\")\n",
    "        feats = self.cursor_position_features(feats)\n",
    "\n",
    "        # IL, PL, action_time statistical features\n",
    "        print(\"-\" * 25)\n",
    "        print(\"Starting Stats Features\")\n",
    "        feats = self.get_stats_for_different_latency(feats)\n",
    "\n",
    "        print(\"-\" * 25)\n",
    "        print(\"Starting Text Change Features\")\n",
    "        feats = self.text_change_features(feats)\n",
    "\n",
    "        print(\"-\" * 25)\n",
    "        print(\"Starting Word Length Features\")\n",
    "        feats = self.word_len_features(feats)\n",
    "\n",
    "        feats = feats.drop(columns=features_to_drop)\n",
    "        return feats\n",
    "\n",
    "    def pre_process_data(self):\n",
    "        self.clean_data()\n",
    "\n",
    "        if cnfg.is_time_in_secs:\n",
    "            self.change_time_columns_to_secs()\n",
    "\n",
    "        return self.df\n",
    "\n",
    "    def pre_process_and_engineer_features(self):\n",
    "        _ = self.pre_process_data()\n",
    "        features_df = self.feature_engineering()\n",
    "\n",
    "        return self.df, features_df"
   ]
  },
  {
   "cell_type": "code",
   "execution_count": null,
   "id": "bd7deed5-ba08-43e1-8cca-3d291ba3f042",
   "metadata": {},
   "outputs": [],
   "source": []
  },
  {
   "cell_type": "code",
   "execution_count": null,
   "id": "bfd1d0b3-a8a8-4a50-b200-bfd35832eef6",
   "metadata": {},
   "outputs": [],
   "source": []
  },
  {
   "cell_type": "code",
   "execution_count": 25,
   "id": "939b80ce-e0d5-4bd5-841a-0e58f90c6d21",
   "metadata": {
    "execution": {
     "iopub.execute_input": "2023-10-30T20:21:34.843858Z",
     "iopub.status.busy": "2023-10-30T20:21:34.843257Z",
     "iopub.status.idle": "2023-10-30T20:23:38.140048Z",
     "shell.execute_reply": "2023-10-30T20:23:38.139522Z",
     "shell.execute_reply.started": "2023-10-30T20:21:34.843802Z"
    }
   },
   "outputs": [
    {
     "name": "stdout",
     "output_type": "stream",
     "text": [
      "Before uptime cleaning, data shape: (8405898, 11)\n",
      "After uptime cleaning, data shape: (8405898, 11)\n",
      "-------------------------\n",
      "Starting Activity Features\n"
     ]
    },
    {
     "name": "stderr",
     "output_type": "stream",
     "text": [
      "2471it [00:00, 11955.87it/s]\n"
     ]
    },
    {
     "name": "stdout",
     "output_type": "stream",
     "text": [
      "Features dropping in activity function ['activity_input_count', 'activity_remove_count', 'activity_non_production_count', 'activity_replace_count', 'activity_paste_count', 'input_first_time', 'remove_first_time', 'non_production_first_time', 'replace_first_time', 'paste_first_time', 'input_last_time', 'remove_last_time', 'non_production_last_time', 'replace_last_time', 'paste_last_time', 'total_remove_activity', 'total_replace_activity', 'total_np_activity', 'total_input_activity']\n",
      "-------------------------\n",
      "Starting Word Count Features\n",
      "-------------------------\n",
      "Starting Cursor Position Features\n",
      "-------------------------\n",
      "Starting Stats Features\n",
      "-------------------------\n",
      "Starting Text Change Features\n",
      "-------------------------\n",
      "Starting Word Length Features\n"
     ]
    },
    {
     "name": "stderr",
     "output_type": "stream",
     "text": [
      "100%|████████████████████████████████████| 2471/2471 [00:00<00:00, 32137.72it/s]\n"
     ]
    },
    {
     "name": "stdout",
     "output_type": "stream",
     "text": [
      "\n",
      "-------------------------\n",
      "Engineering features for test data\n",
      "-------------------------\n",
      "Before uptime cleaning, data shape: (6, 11)\n",
      "After uptime cleaning, data shape: (6, 11)\n",
      "-------------------------\n",
      "Starting Activity Features\n"
     ]
    },
    {
     "name": "stderr",
     "output_type": "stream",
     "text": [
      "3it [00:00, 60787.01it/s]\n"
     ]
    },
    {
     "name": "stdout",
     "output_type": "stream",
     "text": [
      "Features dropping in activity function ['activity_input_count', 'activity_remove_count', 'activity_non_production_count', 'activity_replace_count', 'activity_paste_count', 'input_first_time', 'remove_first_time', 'non_production_first_time', 'replace_first_time', 'paste_first_time', 'input_last_time', 'remove_last_time', 'non_production_last_time', 'replace_last_time', 'paste_last_time', 'total_remove_activity', 'total_replace_activity', 'total_np_activity', 'total_input_activity']\n",
      "-------------------------\n",
      "Starting Word Count Features\n",
      "-------------------------\n",
      "Starting Cursor Position Features\n",
      "-------------------------\n",
      "Starting Stats Features\n",
      "-------------------------\n",
      "Starting Text Change Features\n",
      "-------------------------\n",
      "Starting Word Length Features\n"
     ]
    },
    {
     "name": "stderr",
     "output_type": "stream",
     "text": [
      "100%|██████████████████████████████████████████| 2/2 [00:00<00:00, 41323.19it/s]\n"
     ]
    }
   ],
   "source": [
    "preprocess_train = Preprocessor(cnfg.seed, train_logs)\n",
    "train_logs2, train_feats = preprocess_train.pre_process_and_engineer_features()\n",
    "\n",
    "print()\n",
    "print(\"-\" * 25)\n",
    "print(\"Engineering features for test data\")\n",
    "print(\"-\" * 25)\n",
    "preprocess_test = Preprocessor(cnfg.seed, test_logs)\n",
    "_, test_feats = preprocess_test.pre_process_and_engineer_features()"
   ]
  },
  {
   "cell_type": "code",
   "execution_count": null,
   "id": "9d740383-8ae9-4a06-b50e-3508c3d7a7de",
   "metadata": {},
   "outputs": [],
   "source": []
  },
  {
   "cell_type": "code",
   "execution_count": 26,
   "id": "daa697c0-d783-4169-b5e1-8ae241ae2552",
   "metadata": {
    "execution": {
     "iopub.execute_input": "2023-10-30T20:23:38.141015Z",
     "iopub.status.busy": "2023-10-30T20:23:38.140752Z",
     "iopub.status.idle": "2023-10-30T20:23:38.159088Z",
     "shell.execute_reply": "2023-10-30T20:23:38.158466Z",
     "shell.execute_reply.started": "2023-10-30T20:23:38.140983Z"
    }
   },
   "outputs": [
    {
     "data": {
      "text/html": [
       "<div>\n",
       "<style scoped>\n",
       "    .dataframe tbody tr th:only-of-type {\n",
       "        vertical-align: middle;\n",
       "    }\n",
       "\n",
       "    .dataframe tbody tr th {\n",
       "        vertical-align: top;\n",
       "    }\n",
       "\n",
       "    .dataframe thead th {\n",
       "        text-align: right;\n",
       "    }\n",
       "</style>\n",
       "<table border=\"1\" class=\"dataframe\">\n",
       "  <thead>\n",
       "    <tr style=\"text-align: right;\">\n",
       "      <th></th>\n",
       "      <th>id</th>\n",
       "      <th>event_id</th>\n",
       "      <th>down_time</th>\n",
       "      <th>up_time</th>\n",
       "      <th>action_time</th>\n",
       "      <th>activity</th>\n",
       "      <th>down_event</th>\n",
       "      <th>up_event</th>\n",
       "      <th>text_change</th>\n",
       "      <th>cursor_position</th>\n",
       "      <th>word_count</th>\n",
       "      <th>IL</th>\n",
       "      <th>PL</th>\n",
       "      <th>RL</th>\n",
       "    </tr>\n",
       "  </thead>\n",
       "  <tbody>\n",
       "    <tr>\n",
       "      <th>0</th>\n",
       "      <td>001519c8</td>\n",
       "      <td>1</td>\n",
       "      <td>4.526</td>\n",
       "      <td>4.557</td>\n",
       "      <td>0.031</td>\n",
       "      <td>Nonproduction</td>\n",
       "      <td>Leftclick</td>\n",
       "      <td>Leftclick</td>\n",
       "      <td>NoChange</td>\n",
       "      <td>0</td>\n",
       "      <td>0</td>\n",
       "      <td>0.000</td>\n",
       "      <td>0.000</td>\n",
       "      <td>0.000</td>\n",
       "    </tr>\n",
       "    <tr>\n",
       "      <th>1</th>\n",
       "      <td>001519c8</td>\n",
       "      <td>2</td>\n",
       "      <td>4.558</td>\n",
       "      <td>4.962</td>\n",
       "      <td>0.404</td>\n",
       "      <td>Nonproduction</td>\n",
       "      <td>Leftclick</td>\n",
       "      <td>Leftclick</td>\n",
       "      <td>NoChange</td>\n",
       "      <td>0</td>\n",
       "      <td>0</td>\n",
       "      <td>0.436</td>\n",
       "      <td>0.032</td>\n",
       "      <td>0.405</td>\n",
       "    </tr>\n",
       "    <tr>\n",
       "      <th>2</th>\n",
       "      <td>001519c8</td>\n",
       "      <td>3</td>\n",
       "      <td>106.571</td>\n",
       "      <td>106.571</td>\n",
       "      <td>0.000</td>\n",
       "      <td>Nonproduction</td>\n",
       "      <td>Shift</td>\n",
       "      <td>Shift</td>\n",
       "      <td>NoChange</td>\n",
       "      <td>0</td>\n",
       "      <td>0</td>\n",
       "      <td>102.013</td>\n",
       "      <td>102.013</td>\n",
       "      <td>101.609</td>\n",
       "    </tr>\n",
       "    <tr>\n",
       "      <th>3</th>\n",
       "      <td>001519c8</td>\n",
       "      <td>4</td>\n",
       "      <td>106.686</td>\n",
       "      <td>106.777</td>\n",
       "      <td>0.091</td>\n",
       "      <td>Input</td>\n",
       "      <td>q</td>\n",
       "      <td>q</td>\n",
       "      <td>q</td>\n",
       "      <td>1</td>\n",
       "      <td>1</td>\n",
       "      <td>0.206</td>\n",
       "      <td>0.115</td>\n",
       "      <td>0.206</td>\n",
       "    </tr>\n",
       "    <tr>\n",
       "      <th>4</th>\n",
       "      <td>001519c8</td>\n",
       "      <td>5</td>\n",
       "      <td>107.196</td>\n",
       "      <td>107.323</td>\n",
       "      <td>0.127</td>\n",
       "      <td>Input</td>\n",
       "      <td>q</td>\n",
       "      <td>q</td>\n",
       "      <td>q</td>\n",
       "      <td>2</td>\n",
       "      <td>1</td>\n",
       "      <td>0.637</td>\n",
       "      <td>0.510</td>\n",
       "      <td>0.546</td>\n",
       "    </tr>\n",
       "    <tr>\n",
       "      <th>...</th>\n",
       "      <td>...</td>\n",
       "      <td>...</td>\n",
       "      <td>...</td>\n",
       "      <td>...</td>\n",
       "      <td>...</td>\n",
       "      <td>...</td>\n",
       "      <td>...</td>\n",
       "      <td>...</td>\n",
       "      <td>...</td>\n",
       "      <td>...</td>\n",
       "      <td>...</td>\n",
       "      <td>...</td>\n",
       "      <td>...</td>\n",
       "      <td>...</td>\n",
       "    </tr>\n",
       "    <tr>\n",
       "      <th>8405893</th>\n",
       "      <td>fff05981</td>\n",
       "      <td>3615</td>\n",
       "      <td>2063.944</td>\n",
       "      <td>2064.440</td>\n",
       "      <td>0.496</td>\n",
       "      <td>Nonproduction</td>\n",
       "      <td>Leftclick</td>\n",
       "      <td>Leftclick</td>\n",
       "      <td>NoChange</td>\n",
       "      <td>1031</td>\n",
       "      <td>240</td>\n",
       "      <td>2.023</td>\n",
       "      <td>1.527</td>\n",
       "      <td>1.885</td>\n",
       "    </tr>\n",
       "    <tr>\n",
       "      <th>8405894</th>\n",
       "      <td>fff05981</td>\n",
       "      <td>3616</td>\n",
       "      <td>2064.497</td>\n",
       "      <td>2064.497</td>\n",
       "      <td>0.000</td>\n",
       "      <td>Nonproduction</td>\n",
       "      <td>Shift</td>\n",
       "      <td>Shift</td>\n",
       "      <td>NoChange</td>\n",
       "      <td>1031</td>\n",
       "      <td>240</td>\n",
       "      <td>0.553</td>\n",
       "      <td>0.553</td>\n",
       "      <td>0.057</td>\n",
       "    </tr>\n",
       "    <tr>\n",
       "      <th>8405895</th>\n",
       "      <td>fff05981</td>\n",
       "      <td>3617</td>\n",
       "      <td>2064.657</td>\n",
       "      <td>2064.765</td>\n",
       "      <td>0.108</td>\n",
       "      <td>Replace</td>\n",
       "      <td>q</td>\n",
       "      <td>q</td>\n",
       "      <td>q =&gt; q</td>\n",
       "      <td>1031</td>\n",
       "      <td>240</td>\n",
       "      <td>0.268</td>\n",
       "      <td>0.160</td>\n",
       "      <td>0.268</td>\n",
       "    </tr>\n",
       "    <tr>\n",
       "      <th>8405896</th>\n",
       "      <td>fff05981</td>\n",
       "      <td>3618</td>\n",
       "      <td>2069.186</td>\n",
       "      <td>2069.259</td>\n",
       "      <td>0.073</td>\n",
       "      <td>Nonproduction</td>\n",
       "      <td>Leftclick</td>\n",
       "      <td>Leftclick</td>\n",
       "      <td>NoChange</td>\n",
       "      <td>1028</td>\n",
       "      <td>240</td>\n",
       "      <td>4.602</td>\n",
       "      <td>4.529</td>\n",
       "      <td>4.494</td>\n",
       "    </tr>\n",
       "    <tr>\n",
       "      <th>8405897</th>\n",
       "      <td>fff05981</td>\n",
       "      <td>3619</td>\n",
       "      <td>2070.065</td>\n",
       "      <td>2070.133</td>\n",
       "      <td>0.068</td>\n",
       "      <td>Input</td>\n",
       "      <td>.</td>\n",
       "      <td>.</td>\n",
       "      <td>.</td>\n",
       "      <td>1029</td>\n",
       "      <td>240</td>\n",
       "      <td>0.947</td>\n",
       "      <td>0.879</td>\n",
       "      <td>0.874</td>\n",
       "    </tr>\n",
       "  </tbody>\n",
       "</table>\n",
       "<p>8405898 rows × 14 columns</p>\n",
       "</div>"
      ],
      "text/plain": [
       "               id  event_id  down_time   up_time  action_time       activity  \\\n",
       "0        001519c8         1      4.526     4.557        0.031  Nonproduction   \n",
       "1        001519c8         2      4.558     4.962        0.404  Nonproduction   \n",
       "2        001519c8         3    106.571   106.571        0.000  Nonproduction   \n",
       "3        001519c8         4    106.686   106.777        0.091          Input   \n",
       "4        001519c8         5    107.196   107.323        0.127          Input   \n",
       "...           ...       ...        ...       ...          ...            ...   \n",
       "8405893  fff05981      3615   2063.944  2064.440        0.496  Nonproduction   \n",
       "8405894  fff05981      3616   2064.497  2064.497        0.000  Nonproduction   \n",
       "8405895  fff05981      3617   2064.657  2064.765        0.108        Replace   \n",
       "8405896  fff05981      3618   2069.186  2069.259        0.073  Nonproduction   \n",
       "8405897  fff05981      3619   2070.065  2070.133        0.068          Input   \n",
       "\n",
       "        down_event   up_event text_change  cursor_position  word_count  \\\n",
       "0        Leftclick  Leftclick    NoChange                0           0   \n",
       "1        Leftclick  Leftclick    NoChange                0           0   \n",
       "2            Shift      Shift    NoChange                0           0   \n",
       "3                q          q           q                1           1   \n",
       "4                q          q           q                2           1   \n",
       "...            ...        ...         ...              ...         ...   \n",
       "8405893  Leftclick  Leftclick    NoChange             1031         240   \n",
       "8405894      Shift      Shift    NoChange             1031         240   \n",
       "8405895          q          q      q => q             1031         240   \n",
       "8405896  Leftclick  Leftclick    NoChange             1028         240   \n",
       "8405897          .          .           .             1029         240   \n",
       "\n",
       "              IL       PL       RL  \n",
       "0          0.000    0.000    0.000  \n",
       "1          0.436    0.032    0.405  \n",
       "2        102.013  102.013  101.609  \n",
       "3          0.206    0.115    0.206  \n",
       "4          0.637    0.510    0.546  \n",
       "...          ...      ...      ...  \n",
       "8405893    2.023    1.527    1.885  \n",
       "8405894    0.553    0.553    0.057  \n",
       "8405895    0.268    0.160    0.268  \n",
       "8405896    4.602    4.529    4.494  \n",
       "8405897    0.947    0.879    0.874  \n",
       "\n",
       "[8405898 rows x 14 columns]"
      ]
     },
     "execution_count": 26,
     "metadata": {},
     "output_type": "execute_result"
    }
   ],
   "source": [
    "train_logs2"
   ]
  },
  {
   "cell_type": "code",
   "execution_count": 27,
   "id": "3593d788-fd7e-42c8-b906-a7d8e7613ac3",
   "metadata": {
    "execution": {
     "iopub.execute_input": "2023-10-30T20:23:38.159984Z",
     "iopub.status.busy": "2023-10-30T20:23:38.159755Z",
     "iopub.status.idle": "2023-10-30T20:23:38.176634Z",
     "shell.execute_reply": "2023-10-30T20:23:38.176106Z",
     "shell.execute_reply.started": "2023-10-30T20:23:38.159967Z"
    }
   },
   "outputs": [
    {
     "data": {
      "text/html": [
       "<div>\n",
       "<style scoped>\n",
       "    .dataframe tbody tr th:only-of-type {\n",
       "        vertical-align: middle;\n",
       "    }\n",
       "\n",
       "    .dataframe tbody tr th {\n",
       "        vertical-align: top;\n",
       "    }\n",
       "\n",
       "    .dataframe thead th {\n",
       "        text-align: right;\n",
       "    }\n",
       "</style>\n",
       "<table border=\"1\" class=\"dataframe\">\n",
       "  <thead>\n",
       "    <tr style=\"text-align: right;\">\n",
       "      <th></th>\n",
       "      <th>id</th>\n",
       "      <th>event_id</th>\n",
       "      <th>down_time</th>\n",
       "      <th>up_time</th>\n",
       "      <th>action_time</th>\n",
       "      <th>activity</th>\n",
       "      <th>down_event</th>\n",
       "      <th>up_event</th>\n",
       "      <th>text_change</th>\n",
       "      <th>cursor_position</th>\n",
       "      <th>word_count</th>\n",
       "    </tr>\n",
       "  </thead>\n",
       "  <tbody>\n",
       "    <tr>\n",
       "      <th>0</th>\n",
       "      <td>001519c8</td>\n",
       "      <td>1</td>\n",
       "      <td>4526</td>\n",
       "      <td>4557</td>\n",
       "      <td>31</td>\n",
       "      <td>Nonproduction</td>\n",
       "      <td>Leftclick</td>\n",
       "      <td>Leftclick</td>\n",
       "      <td>NoChange</td>\n",
       "      <td>0</td>\n",
       "      <td>0</td>\n",
       "    </tr>\n",
       "    <tr>\n",
       "      <th>1</th>\n",
       "      <td>001519c8</td>\n",
       "      <td>2</td>\n",
       "      <td>4558</td>\n",
       "      <td>4962</td>\n",
       "      <td>404</td>\n",
       "      <td>Nonproduction</td>\n",
       "      <td>Leftclick</td>\n",
       "      <td>Leftclick</td>\n",
       "      <td>NoChange</td>\n",
       "      <td>0</td>\n",
       "      <td>0</td>\n",
       "    </tr>\n",
       "    <tr>\n",
       "      <th>2</th>\n",
       "      <td>001519c8</td>\n",
       "      <td>3</td>\n",
       "      <td>106571</td>\n",
       "      <td>106571</td>\n",
       "      <td>0</td>\n",
       "      <td>Nonproduction</td>\n",
       "      <td>Shift</td>\n",
       "      <td>Shift</td>\n",
       "      <td>NoChange</td>\n",
       "      <td>0</td>\n",
       "      <td>0</td>\n",
       "    </tr>\n",
       "    <tr>\n",
       "      <th>3</th>\n",
       "      <td>001519c8</td>\n",
       "      <td>4</td>\n",
       "      <td>106686</td>\n",
       "      <td>106777</td>\n",
       "      <td>91</td>\n",
       "      <td>Input</td>\n",
       "      <td>q</td>\n",
       "      <td>q</td>\n",
       "      <td>q</td>\n",
       "      <td>1</td>\n",
       "      <td>1</td>\n",
       "    </tr>\n",
       "    <tr>\n",
       "      <th>4</th>\n",
       "      <td>001519c8</td>\n",
       "      <td>5</td>\n",
       "      <td>107196</td>\n",
       "      <td>107323</td>\n",
       "      <td>127</td>\n",
       "      <td>Input</td>\n",
       "      <td>q</td>\n",
       "      <td>q</td>\n",
       "      <td>q</td>\n",
       "      <td>2</td>\n",
       "      <td>1</td>\n",
       "    </tr>\n",
       "    <tr>\n",
       "      <th>...</th>\n",
       "      <td>...</td>\n",
       "      <td>...</td>\n",
       "      <td>...</td>\n",
       "      <td>...</td>\n",
       "      <td>...</td>\n",
       "      <td>...</td>\n",
       "      <td>...</td>\n",
       "      <td>...</td>\n",
       "      <td>...</td>\n",
       "      <td>...</td>\n",
       "      <td>...</td>\n",
       "    </tr>\n",
       "    <tr>\n",
       "      <th>8405893</th>\n",
       "      <td>fff05981</td>\n",
       "      <td>3615</td>\n",
       "      <td>2063944</td>\n",
       "      <td>2064440</td>\n",
       "      <td>496</td>\n",
       "      <td>Nonproduction</td>\n",
       "      <td>Leftclick</td>\n",
       "      <td>Leftclick</td>\n",
       "      <td>NoChange</td>\n",
       "      <td>1031</td>\n",
       "      <td>240</td>\n",
       "    </tr>\n",
       "    <tr>\n",
       "      <th>8405894</th>\n",
       "      <td>fff05981</td>\n",
       "      <td>3616</td>\n",
       "      <td>2064497</td>\n",
       "      <td>2064497</td>\n",
       "      <td>0</td>\n",
       "      <td>Nonproduction</td>\n",
       "      <td>Shift</td>\n",
       "      <td>Shift</td>\n",
       "      <td>NoChange</td>\n",
       "      <td>1031</td>\n",
       "      <td>240</td>\n",
       "    </tr>\n",
       "    <tr>\n",
       "      <th>8405895</th>\n",
       "      <td>fff05981</td>\n",
       "      <td>3617</td>\n",
       "      <td>2064657</td>\n",
       "      <td>2064765</td>\n",
       "      <td>108</td>\n",
       "      <td>Replace</td>\n",
       "      <td>q</td>\n",
       "      <td>q</td>\n",
       "      <td>q =&gt; q</td>\n",
       "      <td>1031</td>\n",
       "      <td>240</td>\n",
       "    </tr>\n",
       "    <tr>\n",
       "      <th>8405896</th>\n",
       "      <td>fff05981</td>\n",
       "      <td>3618</td>\n",
       "      <td>2069186</td>\n",
       "      <td>2069259</td>\n",
       "      <td>73</td>\n",
       "      <td>Nonproduction</td>\n",
       "      <td>Leftclick</td>\n",
       "      <td>Leftclick</td>\n",
       "      <td>NoChange</td>\n",
       "      <td>1028</td>\n",
       "      <td>240</td>\n",
       "    </tr>\n",
       "    <tr>\n",
       "      <th>8405897</th>\n",
       "      <td>fff05981</td>\n",
       "      <td>3619</td>\n",
       "      <td>2070065</td>\n",
       "      <td>2070133</td>\n",
       "      <td>68</td>\n",
       "      <td>Input</td>\n",
       "      <td>.</td>\n",
       "      <td>.</td>\n",
       "      <td>.</td>\n",
       "      <td>1029</td>\n",
       "      <td>240</td>\n",
       "    </tr>\n",
       "  </tbody>\n",
       "</table>\n",
       "<p>8405898 rows × 11 columns</p>\n",
       "</div>"
      ],
      "text/plain": [
       "               id  event_id  down_time  up_time  action_time       activity  \\\n",
       "0        001519c8         1       4526     4557           31  Nonproduction   \n",
       "1        001519c8         2       4558     4962          404  Nonproduction   \n",
       "2        001519c8         3     106571   106571            0  Nonproduction   \n",
       "3        001519c8         4     106686   106777           91          Input   \n",
       "4        001519c8         5     107196   107323          127          Input   \n",
       "...           ...       ...        ...      ...          ...            ...   \n",
       "8405893  fff05981      3615    2063944  2064440          496  Nonproduction   \n",
       "8405894  fff05981      3616    2064497  2064497            0  Nonproduction   \n",
       "8405895  fff05981      3617    2064657  2064765          108        Replace   \n",
       "8405896  fff05981      3618    2069186  2069259           73  Nonproduction   \n",
       "8405897  fff05981      3619    2070065  2070133           68          Input   \n",
       "\n",
       "        down_event   up_event text_change  cursor_position  word_count  \n",
       "0        Leftclick  Leftclick    NoChange                0           0  \n",
       "1        Leftclick  Leftclick    NoChange                0           0  \n",
       "2            Shift      Shift    NoChange                0           0  \n",
       "3                q          q           q                1           1  \n",
       "4                q          q           q                2           1  \n",
       "...            ...        ...         ...              ...         ...  \n",
       "8405893  Leftclick  Leftclick    NoChange             1031         240  \n",
       "8405894      Shift      Shift    NoChange             1031         240  \n",
       "8405895          q          q      q => q             1031         240  \n",
       "8405896  Leftclick  Leftclick    NoChange             1028         240  \n",
       "8405897          .          .           .             1029         240  \n",
       "\n",
       "[8405898 rows x 11 columns]"
      ]
     },
     "execution_count": 27,
     "metadata": {},
     "output_type": "execute_result"
    }
   ],
   "source": [
    "train_logs"
   ]
  },
  {
   "cell_type": "code",
   "execution_count": 28,
   "id": "f9cbd4ec-c173-429e-ae96-e9091e11db1a",
   "metadata": {
    "execution": {
     "iopub.execute_input": "2023-10-30T20:23:38.177981Z",
     "iopub.status.busy": "2023-10-30T20:23:38.177762Z",
     "iopub.status.idle": "2023-10-30T20:23:38.181367Z",
     "shell.execute_reply": "2023-10-30T20:23:38.180745Z",
     "shell.execute_reply.started": "2023-10-30T20:23:38.177965Z"
    }
   },
   "outputs": [],
   "source": [
    "# tmp = train_logs2.groupby([\"id\"]).agg({'PL': my_std}).reset_index().rename(columns={'PL': 'min_PL'})"
   ]
  },
  {
   "cell_type": "code",
   "execution_count": 29,
   "id": "ccd50d61-3776-4d49-b4c4-8a832fdebcbe",
   "metadata": {
    "execution": {
     "iopub.execute_input": "2023-10-30T20:23:38.182124Z",
     "iopub.status.busy": "2023-10-30T20:23:38.181971Z",
     "iopub.status.idle": "2023-10-30T20:23:38.187154Z",
     "shell.execute_reply": "2023-10-30T20:23:38.186563Z",
     "shell.execute_reply.started": "2023-10-30T20:23:38.182109Z"
    }
   },
   "outputs": [],
   "source": [
    "# tmp.min_PL.describe()"
   ]
  },
  {
   "cell_type": "code",
   "execution_count": 30,
   "id": "8b730ef1-42f5-4680-8e7a-6767cb2fa653",
   "metadata": {
    "execution": {
     "iopub.execute_input": "2023-10-30T20:23:38.188088Z",
     "iopub.status.busy": "2023-10-30T20:23:38.187865Z",
     "iopub.status.idle": "2023-10-30T20:23:38.210551Z",
     "shell.execute_reply": "2023-10-30T20:23:38.209681Z",
     "shell.execute_reply.started": "2023-10-30T20:23:38.188071Z"
    }
   },
   "outputs": [
    {
     "data": {
      "text/html": [
       "<div>\n",
       "<style scoped>\n",
       "    .dataframe tbody tr th:only-of-type {\n",
       "        vertical-align: middle;\n",
       "    }\n",
       "\n",
       "    .dataframe tbody tr th {\n",
       "        vertical-align: top;\n",
       "    }\n",
       "\n",
       "    .dataframe thead th {\n",
       "        text-align: right;\n",
       "    }\n",
       "</style>\n",
       "<table border=\"1\" class=\"dataframe\">\n",
       "  <thead>\n",
       "    <tr style=\"text-align: right;\">\n",
       "      <th></th>\n",
       "      <th>id</th>\n",
       "      <th>total_time_taken</th>\n",
       "      <th>total_idle_time</th>\n",
       "      <th>total_word_count</th>\n",
       "      <th>max_cursor_position</th>\n",
       "      <th>num_events</th>\n",
       "      <th>total_type_of_activities</th>\n",
       "      <th>speed_of_activity</th>\n",
       "      <th>speed_of_writing</th>\n",
       "      <th>events_per_word</th>\n",
       "      <th>...</th>\n",
       "      <th>words_of_len_2_share</th>\n",
       "      <th>words_of_len_3_share</th>\n",
       "      <th>words_of_len_4_share</th>\n",
       "      <th>words_of_len_5_share</th>\n",
       "      <th>words_of_len_6_share</th>\n",
       "      <th>words_of_len_7_share</th>\n",
       "      <th>words_of_len_8_share</th>\n",
       "      <th>words_of_len_9_share</th>\n",
       "      <th>words_of_len_10_share</th>\n",
       "      <th>words_of_len_more_than_10_share</th>\n",
       "    </tr>\n",
       "  </thead>\n",
       "  <tbody>\n",
       "    <tr>\n",
       "      <th>0</th>\n",
       "      <td>001519c8</td>\n",
       "      <td>1797.351</td>\n",
       "      <td>2094.432</td>\n",
       "      <td>255</td>\n",
       "      <td>1539</td>\n",
       "      <td>2557</td>\n",
       "      <td>5</td>\n",
       "      <td>1.422649</td>\n",
       "      <td>0.141875</td>\n",
       "      <td>0.099726</td>\n",
       "      <td>...</td>\n",
       "      <td>0.207650</td>\n",
       "      <td>0.147541</td>\n",
       "      <td>0.133880</td>\n",
       "      <td>0.117486</td>\n",
       "      <td>0.079235</td>\n",
       "      <td>0.081967</td>\n",
       "      <td>0.040984</td>\n",
       "      <td>0.057377</td>\n",
       "      <td>0.027322</td>\n",
       "      <td>0.084699</td>\n",
       "    </tr>\n",
       "    <tr>\n",
       "      <th>1</th>\n",
       "      <td>0022f953</td>\n",
       "      <td>1758.219</td>\n",
       "      <td>2033.053</td>\n",
       "      <td>320</td>\n",
       "      <td>1676</td>\n",
       "      <td>2454</td>\n",
       "      <td>5</td>\n",
       "      <td>1.395731</td>\n",
       "      <td>0.182002</td>\n",
       "      <td>0.130399</td>\n",
       "      <td>...</td>\n",
       "      <td>0.184416</td>\n",
       "      <td>0.254545</td>\n",
       "      <td>0.179221</td>\n",
       "      <td>0.116883</td>\n",
       "      <td>0.096104</td>\n",
       "      <td>0.033766</td>\n",
       "      <td>0.020779</td>\n",
       "      <td>0.015584</td>\n",
       "      <td>0.015584</td>\n",
       "      <td>0.044156</td>\n",
       "    </tr>\n",
       "    <tr>\n",
       "      <th>2</th>\n",
       "      <td>0042269b</td>\n",
       "      <td>1766.778</td>\n",
       "      <td>2186.390</td>\n",
       "      <td>404</td>\n",
       "      <td>2291</td>\n",
       "      <td>4136</td>\n",
       "      <td>4</td>\n",
       "      <td>2.340985</td>\n",
       "      <td>0.228665</td>\n",
       "      <td>0.097679</td>\n",
       "      <td>...</td>\n",
       "      <td>0.156300</td>\n",
       "      <td>0.173844</td>\n",
       "      <td>0.162679</td>\n",
       "      <td>0.111643</td>\n",
       "      <td>0.076555</td>\n",
       "      <td>0.086124</td>\n",
       "      <td>0.054226</td>\n",
       "      <td>0.049442</td>\n",
       "      <td>0.020734</td>\n",
       "      <td>0.092504</td>\n",
       "    </tr>\n",
       "    <tr>\n",
       "      <th>3</th>\n",
       "      <td>0059420b</td>\n",
       "      <td>1362.999</td>\n",
       "      <td>1552.444</td>\n",
       "      <td>206</td>\n",
       "      <td>1047</td>\n",
       "      <td>1556</td>\n",
       "      <td>5</td>\n",
       "      <td>1.141600</td>\n",
       "      <td>0.151137</td>\n",
       "      <td>0.132391</td>\n",
       "      <td>...</td>\n",
       "      <td>0.203187</td>\n",
       "      <td>0.147410</td>\n",
       "      <td>0.199203</td>\n",
       "      <td>0.107570</td>\n",
       "      <td>0.095618</td>\n",
       "      <td>0.099602</td>\n",
       "      <td>0.015936</td>\n",
       "      <td>0.015936</td>\n",
       "      <td>0.011952</td>\n",
       "      <td>0.051793</td>\n",
       "    </tr>\n",
       "    <tr>\n",
       "      <th>4</th>\n",
       "      <td>0075873a</td>\n",
       "      <td>1583.920</td>\n",
       "      <td>1897.356</td>\n",
       "      <td>252</td>\n",
       "      <td>1402</td>\n",
       "      <td>2531</td>\n",
       "      <td>3</td>\n",
       "      <td>1.597934</td>\n",
       "      <td>0.159099</td>\n",
       "      <td>0.099565</td>\n",
       "      <td>...</td>\n",
       "      <td>0.167476</td>\n",
       "      <td>0.182039</td>\n",
       "      <td>0.174757</td>\n",
       "      <td>0.114078</td>\n",
       "      <td>0.080097</td>\n",
       "      <td>0.038835</td>\n",
       "      <td>0.048544</td>\n",
       "      <td>0.038835</td>\n",
       "      <td>0.031553</td>\n",
       "      <td>0.060680</td>\n",
       "    </tr>\n",
       "  </tbody>\n",
       "</table>\n",
       "<p>5 rows × 188 columns</p>\n",
       "</div>"
      ],
      "text/plain": [
       "         id  total_time_taken  total_idle_time  total_word_count  \\\n",
       "0  001519c8          1797.351         2094.432               255   \n",
       "1  0022f953          1758.219         2033.053               320   \n",
       "2  0042269b          1766.778         2186.390               404   \n",
       "3  0059420b          1362.999         1552.444               206   \n",
       "4  0075873a          1583.920         1897.356               252   \n",
       "\n",
       "   max_cursor_position  num_events  total_type_of_activities  \\\n",
       "0                 1539        2557                         5   \n",
       "1                 1676        2454                         5   \n",
       "2                 2291        4136                         4   \n",
       "3                 1047        1556                         5   \n",
       "4                 1402        2531                         3   \n",
       "\n",
       "   speed_of_activity  speed_of_writing  events_per_word  ...  \\\n",
       "0           1.422649          0.141875         0.099726  ...   \n",
       "1           1.395731          0.182002         0.130399  ...   \n",
       "2           2.340985          0.228665         0.097679  ...   \n",
       "3           1.141600          0.151137         0.132391  ...   \n",
       "4           1.597934          0.159099         0.099565  ...   \n",
       "\n",
       "   words_of_len_2_share  words_of_len_3_share  words_of_len_4_share  \\\n",
       "0              0.207650              0.147541              0.133880   \n",
       "1              0.184416              0.254545              0.179221   \n",
       "2              0.156300              0.173844              0.162679   \n",
       "3              0.203187              0.147410              0.199203   \n",
       "4              0.167476              0.182039              0.174757   \n",
       "\n",
       "   words_of_len_5_share  words_of_len_6_share  words_of_len_7_share  \\\n",
       "0              0.117486              0.079235              0.081967   \n",
       "1              0.116883              0.096104              0.033766   \n",
       "2              0.111643              0.076555              0.086124   \n",
       "3              0.107570              0.095618              0.099602   \n",
       "4              0.114078              0.080097              0.038835   \n",
       "\n",
       "   words_of_len_8_share  words_of_len_9_share  words_of_len_10_share  \\\n",
       "0              0.040984              0.057377               0.027322   \n",
       "1              0.020779              0.015584               0.015584   \n",
       "2              0.054226              0.049442               0.020734   \n",
       "3              0.015936              0.015936               0.011952   \n",
       "4              0.048544              0.038835               0.031553   \n",
       "\n",
       "   words_of_len_more_than_10_share  \n",
       "0                         0.084699  \n",
       "1                         0.044156  \n",
       "2                         0.092504  \n",
       "3                         0.051793  \n",
       "4                         0.060680  \n",
       "\n",
       "[5 rows x 188 columns]"
      ]
     },
     "execution_count": 30,
     "metadata": {},
     "output_type": "execute_result"
    }
   ],
   "source": [
    "train_feats.head()"
   ]
  },
  {
   "cell_type": "code",
   "execution_count": 31,
   "id": "bbf86513-18ce-42df-aef0-288cb3a0ad4a",
   "metadata": {
    "execution": {
     "iopub.execute_input": "2023-10-30T20:23:38.211483Z",
     "iopub.status.busy": "2023-10-30T20:23:38.211306Z",
     "iopub.status.idle": "2023-10-30T20:23:38.213883Z",
     "shell.execute_reply": "2023-10-30T20:23:38.213355Z",
     "shell.execute_reply.started": "2023-10-30T20:23:38.211467Z"
    }
   },
   "outputs": [],
   "source": [
    "# train_logs2['IL']"
   ]
  },
  {
   "cell_type": "code",
   "execution_count": 32,
   "id": "9ddcb6ef-31de-480a-8c6d-d6884dd153a9",
   "metadata": {
    "execution": {
     "iopub.execute_input": "2023-10-30T20:23:38.214894Z",
     "iopub.status.busy": "2023-10-30T20:23:38.214505Z",
     "iopub.status.idle": "2023-10-30T20:23:38.225052Z",
     "shell.execute_reply": "2023-10-30T20:23:38.224452Z",
     "shell.execute_reply.started": "2023-10-30T20:23:38.214878Z"
    }
   },
   "outputs": [
    {
     "data": {
      "text/plain": [
       "count    2471.000000\n",
       "mean        0.259707\n",
       "std         0.297508\n",
       "min        -0.388464\n",
       "25%         0.015487\n",
       "50%         0.262545\n",
       "75%         0.510476\n",
       "max         0.970000\n",
       "Name: IL_stats_my_median_grouped, dtype: float64"
      ]
     },
     "execution_count": 32,
     "metadata": {},
     "output_type": "execute_result"
    }
   ],
   "source": [
    "train_feats.IL_stats_my_median_grouped.describe()"
   ]
  },
  {
   "cell_type": "code",
   "execution_count": null,
   "id": "e127832a-33dc-4bca-a406-75753ea91b03",
   "metadata": {},
   "outputs": [],
   "source": []
  },
  {
   "cell_type": "code",
   "execution_count": 33,
   "id": "d984626c-359f-4506-8f95-ed48c196702d",
   "metadata": {
    "execution": {
     "iopub.execute_input": "2023-10-30T20:23:38.225808Z",
     "iopub.status.busy": "2023-10-30T20:23:38.225639Z",
     "iopub.status.idle": "2023-10-30T20:23:38.242372Z",
     "shell.execute_reply": "2023-10-30T20:23:38.242002Z",
     "shell.execute_reply.started": "2023-10-30T20:23:38.225791Z"
    }
   },
   "outputs": [
    {
     "data": {
      "text/html": [
       "<div>\n",
       "<style scoped>\n",
       "    .dataframe tbody tr th:only-of-type {\n",
       "        vertical-align: middle;\n",
       "    }\n",
       "\n",
       "    .dataframe tbody tr th {\n",
       "        vertical-align: top;\n",
       "    }\n",
       "\n",
       "    .dataframe thead th {\n",
       "        text-align: right;\n",
       "    }\n",
       "</style>\n",
       "<table border=\"1\" class=\"dataframe\">\n",
       "  <thead>\n",
       "    <tr style=\"text-align: right;\">\n",
       "      <th></th>\n",
       "      <th>id</th>\n",
       "      <th>total_time_taken</th>\n",
       "      <th>total_idle_time</th>\n",
       "      <th>total_word_count</th>\n",
       "      <th>max_cursor_position</th>\n",
       "      <th>num_events</th>\n",
       "      <th>total_type_of_activities</th>\n",
       "      <th>speed_of_activity</th>\n",
       "      <th>speed_of_writing</th>\n",
       "      <th>events_per_word</th>\n",
       "      <th>...</th>\n",
       "      <th>words_of_len_2_share</th>\n",
       "      <th>words_of_len_3_share</th>\n",
       "      <th>words_of_len_4_share</th>\n",
       "      <th>words_of_len_5_share</th>\n",
       "      <th>words_of_len_6_share</th>\n",
       "      <th>words_of_len_7_share</th>\n",
       "      <th>words_of_len_8_share</th>\n",
       "      <th>words_of_len_9_share</th>\n",
       "      <th>words_of_len_10_share</th>\n",
       "      <th>words_of_len_more_than_10_share</th>\n",
       "    </tr>\n",
       "  </thead>\n",
       "  <tbody>\n",
       "    <tr>\n",
       "      <th>1809</th>\n",
       "      <td>be2130ad</td>\n",
       "      <td>1725.407</td>\n",
       "      <td>2020.685</td>\n",
       "      <td>398</td>\n",
       "      <td>2118</td>\n",
       "      <td>2477</td>\n",
       "      <td>4</td>\n",
       "      <td>1.435603</td>\n",
       "      <td>0.23067</td>\n",
       "      <td>0.160678</td>\n",
       "      <td>...</td>\n",
       "      <td>0.21831</td>\n",
       "      <td>0.183099</td>\n",
       "      <td>0.178404</td>\n",
       "      <td>0.133803</td>\n",
       "      <td>0.100939</td>\n",
       "      <td>0.046948</td>\n",
       "      <td>0.049296</td>\n",
       "      <td>0.00939</td>\n",
       "      <td>0.014085</td>\n",
       "      <td>0.007042</td>\n",
       "    </tr>\n",
       "  </tbody>\n",
       "</table>\n",
       "<p>1 rows × 188 columns</p>\n",
       "</div>"
      ],
      "text/plain": [
       "            id  total_time_taken  total_idle_time  total_word_count  \\\n",
       "1809  be2130ad          1725.407         2020.685               398   \n",
       "\n",
       "      max_cursor_position  num_events  total_type_of_activities  \\\n",
       "1809                 2118        2477                         4   \n",
       "\n",
       "      speed_of_activity  speed_of_writing  events_per_word  ...  \\\n",
       "1809           1.435603           0.23067         0.160678  ...   \n",
       "\n",
       "      words_of_len_2_share  words_of_len_3_share  words_of_len_4_share  \\\n",
       "1809               0.21831              0.183099              0.178404   \n",
       "\n",
       "      words_of_len_5_share  words_of_len_6_share  words_of_len_7_share  \\\n",
       "1809              0.133803              0.100939              0.046948   \n",
       "\n",
       "      words_of_len_8_share  words_of_len_9_share  words_of_len_10_share  \\\n",
       "1809              0.049296               0.00939               0.014085   \n",
       "\n",
       "      words_of_len_more_than_10_share  \n",
       "1809                         0.007042  \n",
       "\n",
       "[1 rows x 188 columns]"
      ]
     },
     "execution_count": 33,
     "metadata": {},
     "output_type": "execute_result"
    }
   ],
   "source": [
    "train_feats[train_feats.isna().any(axis=1)]"
   ]
  },
  {
   "cell_type": "code",
   "execution_count": null,
   "id": "cbd1044b-a3c9-4b0a-829f-cadfa2e5ce85",
   "metadata": {},
   "outputs": [],
   "source": []
  },
  {
   "cell_type": "code",
   "execution_count": 34,
   "id": "f75b2318-ce8d-4468-8e34-336feb02e76d",
   "metadata": {
    "execution": {
     "iopub.execute_input": "2023-10-30T20:23:38.243861Z",
     "iopub.status.busy": "2023-10-30T20:23:38.243680Z",
     "iopub.status.idle": "2023-10-30T20:23:38.252337Z",
     "shell.execute_reply": "2023-10-30T20:23:38.251760Z",
     "shell.execute_reply.started": "2023-10-30T20:23:38.243845Z"
    }
   },
   "outputs": [
    {
     "data": {
      "text/html": [
       "<div>\n",
       "<style scoped>\n",
       "    .dataframe tbody tr th:only-of-type {\n",
       "        vertical-align: middle;\n",
       "    }\n",
       "\n",
       "    .dataframe tbody tr th {\n",
       "        vertical-align: top;\n",
       "    }\n",
       "\n",
       "    .dataframe thead th {\n",
       "        text-align: right;\n",
       "    }\n",
       "</style>\n",
       "<table border=\"1\" class=\"dataframe\">\n",
       "  <thead>\n",
       "    <tr style=\"text-align: right;\">\n",
       "      <th></th>\n",
       "      <th>id</th>\n",
       "      <th>event_id</th>\n",
       "      <th>down_time</th>\n",
       "      <th>up_time</th>\n",
       "      <th>action_time</th>\n",
       "      <th>activity</th>\n",
       "      <th>down_event</th>\n",
       "      <th>up_event</th>\n",
       "      <th>text_change</th>\n",
       "      <th>cursor_position</th>\n",
       "      <th>word_count</th>\n",
       "    </tr>\n",
       "  </thead>\n",
       "  <tbody>\n",
       "    <tr>\n",
       "      <th>0</th>\n",
       "      <td>0000aaaa</td>\n",
       "      <td>1</td>\n",
       "      <td>338433</td>\n",
       "      <td>338518</td>\n",
       "      <td>85</td>\n",
       "      <td>Input</td>\n",
       "      <td>Space</td>\n",
       "      <td>Space</td>\n",
       "      <td></td>\n",
       "      <td>0</td>\n",
       "      <td>0</td>\n",
       "    </tr>\n",
       "    <tr>\n",
       "      <th>1</th>\n",
       "      <td>0000aaaa</td>\n",
       "      <td>2</td>\n",
       "      <td>760073</td>\n",
       "      <td>760160</td>\n",
       "      <td>87</td>\n",
       "      <td>Input</td>\n",
       "      <td>Space</td>\n",
       "      <td>Space</td>\n",
       "      <td></td>\n",
       "      <td>1</td>\n",
       "      <td>0</td>\n",
       "    </tr>\n",
       "    <tr>\n",
       "      <th>2</th>\n",
       "      <td>2222bbbb</td>\n",
       "      <td>1</td>\n",
       "      <td>711956</td>\n",
       "      <td>712023</td>\n",
       "      <td>67</td>\n",
       "      <td>Input</td>\n",
       "      <td>q</td>\n",
       "      <td>q</td>\n",
       "      <td>q</td>\n",
       "      <td>0</td>\n",
       "      <td>1</td>\n",
       "    </tr>\n",
       "    <tr>\n",
       "      <th>3</th>\n",
       "      <td>2222bbbb</td>\n",
       "      <td>2</td>\n",
       "      <td>290502</td>\n",
       "      <td>290548</td>\n",
       "      <td>46</td>\n",
       "      <td>Input</td>\n",
       "      <td>q</td>\n",
       "      <td>q</td>\n",
       "      <td>q</td>\n",
       "      <td>1</td>\n",
       "      <td>1</td>\n",
       "    </tr>\n",
       "    <tr>\n",
       "      <th>4</th>\n",
       "      <td>4444cccc</td>\n",
       "      <td>1</td>\n",
       "      <td>635547</td>\n",
       "      <td>635641</td>\n",
       "      <td>94</td>\n",
       "      <td>Input</td>\n",
       "      <td>Space</td>\n",
       "      <td>Space</td>\n",
       "      <td></td>\n",
       "      <td>0</td>\n",
       "      <td>0</td>\n",
       "    </tr>\n",
       "    <tr>\n",
       "      <th>5</th>\n",
       "      <td>4444cccc</td>\n",
       "      <td>2</td>\n",
       "      <td>184996</td>\n",
       "      <td>185052</td>\n",
       "      <td>56</td>\n",
       "      <td>Input</td>\n",
       "      <td>q</td>\n",
       "      <td>q</td>\n",
       "      <td>q</td>\n",
       "      <td>1</td>\n",
       "      <td>1</td>\n",
       "    </tr>\n",
       "  </tbody>\n",
       "</table>\n",
       "</div>"
      ],
      "text/plain": [
       "         id  event_id  down_time  up_time  action_time activity down_event  \\\n",
       "0  0000aaaa         1     338433   338518           85    Input      Space   \n",
       "1  0000aaaa         2     760073   760160           87    Input      Space   \n",
       "2  2222bbbb         1     711956   712023           67    Input          q   \n",
       "3  2222bbbb         2     290502   290548           46    Input          q   \n",
       "4  4444cccc         1     635547   635641           94    Input      Space   \n",
       "5  4444cccc         2     184996   185052           56    Input          q   \n",
       "\n",
       "  up_event text_change  cursor_position  word_count  \n",
       "0    Space                            0           0  \n",
       "1    Space                            1           0  \n",
       "2        q           q                0           1  \n",
       "3        q           q                1           1  \n",
       "4    Space                            0           0  \n",
       "5        q           q                1           1  "
      ]
     },
     "execution_count": 34,
     "metadata": {},
     "output_type": "execute_result"
    }
   ],
   "source": [
    "test_logs"
   ]
  },
  {
   "cell_type": "code",
   "execution_count": 35,
   "id": "f8d2053b-77d6-4051-b753-9aff80132397",
   "metadata": {
    "execution": {
     "iopub.execute_input": "2023-10-30T20:23:38.253698Z",
     "iopub.status.busy": "2023-10-30T20:23:38.253260Z",
     "iopub.status.idle": "2023-10-30T20:23:38.269832Z",
     "shell.execute_reply": "2023-10-30T20:23:38.269423Z",
     "shell.execute_reply.started": "2023-10-30T20:23:38.253655Z"
    }
   },
   "outputs": [
    {
     "data": {
      "text/html": [
       "<div>\n",
       "<style scoped>\n",
       "    .dataframe tbody tr th:only-of-type {\n",
       "        vertical-align: middle;\n",
       "    }\n",
       "\n",
       "    .dataframe tbody tr th {\n",
       "        vertical-align: top;\n",
       "    }\n",
       "\n",
       "    .dataframe thead th {\n",
       "        text-align: right;\n",
       "    }\n",
       "</style>\n",
       "<table border=\"1\" class=\"dataframe\">\n",
       "  <thead>\n",
       "    <tr style=\"text-align: right;\">\n",
       "      <th></th>\n",
       "      <th>id</th>\n",
       "      <th>total_time_taken</th>\n",
       "      <th>total_idle_time</th>\n",
       "      <th>total_word_count</th>\n",
       "      <th>max_cursor_position</th>\n",
       "      <th>num_events</th>\n",
       "      <th>total_type_of_activities</th>\n",
       "      <th>speed_of_activity</th>\n",
       "      <th>speed_of_writing</th>\n",
       "      <th>events_per_word</th>\n",
       "      <th>...</th>\n",
       "      <th>words_of_len_2_share</th>\n",
       "      <th>words_of_len_3_share</th>\n",
       "      <th>words_of_len_4_share</th>\n",
       "      <th>words_of_len_5_share</th>\n",
       "      <th>words_of_len_6_share</th>\n",
       "      <th>words_of_len_7_share</th>\n",
       "      <th>words_of_len_8_share</th>\n",
       "      <th>words_of_len_9_share</th>\n",
       "      <th>words_of_len_10_share</th>\n",
       "      <th>words_of_len_more_than_10_share</th>\n",
       "    </tr>\n",
       "  </thead>\n",
       "  <tbody>\n",
       "    <tr>\n",
       "      <th>0</th>\n",
       "      <td>0000aaaa</td>\n",
       "      <td>421.640</td>\n",
       "      <td>421.727</td>\n",
       "      <td>0</td>\n",
       "      <td>1</td>\n",
       "      <td>2</td>\n",
       "      <td>1</td>\n",
       "      <td>0.004743</td>\n",
       "      <td>0.00000</td>\n",
       "      <td>0.0</td>\n",
       "      <td>...</td>\n",
       "      <td>inf</td>\n",
       "      <td>NaN</td>\n",
       "      <td>NaN</td>\n",
       "      <td>NaN</td>\n",
       "      <td>NaN</td>\n",
       "      <td>NaN</td>\n",
       "      <td>NaN</td>\n",
       "      <td>NaN</td>\n",
       "      <td>NaN</td>\n",
       "      <td>NaN</td>\n",
       "    </tr>\n",
       "    <tr>\n",
       "      <th>1</th>\n",
       "      <td>2222bbbb</td>\n",
       "      <td>-421.454</td>\n",
       "      <td>-421.408</td>\n",
       "      <td>0</td>\n",
       "      <td>1</td>\n",
       "      <td>2</td>\n",
       "      <td>1</td>\n",
       "      <td>-0.004745</td>\n",
       "      <td>-0.00000</td>\n",
       "      <td>0.0</td>\n",
       "      <td>...</td>\n",
       "      <td>0.0</td>\n",
       "      <td>0.0</td>\n",
       "      <td>0.0</td>\n",
       "      <td>0.0</td>\n",
       "      <td>0.0</td>\n",
       "      <td>0.0</td>\n",
       "      <td>0.0</td>\n",
       "      <td>0.0</td>\n",
       "      <td>0.0</td>\n",
       "      <td>0.0</td>\n",
       "    </tr>\n",
       "    <tr>\n",
       "      <th>2</th>\n",
       "      <td>4444cccc</td>\n",
       "      <td>-450.551</td>\n",
       "      <td>-450.495</td>\n",
       "      <td>1</td>\n",
       "      <td>1</td>\n",
       "      <td>2</td>\n",
       "      <td>1</td>\n",
       "      <td>-0.004439</td>\n",
       "      <td>-0.00222</td>\n",
       "      <td>0.5</td>\n",
       "      <td>...</td>\n",
       "      <td>NaN</td>\n",
       "      <td>NaN</td>\n",
       "      <td>NaN</td>\n",
       "      <td>NaN</td>\n",
       "      <td>NaN</td>\n",
       "      <td>NaN</td>\n",
       "      <td>NaN</td>\n",
       "      <td>NaN</td>\n",
       "      <td>NaN</td>\n",
       "      <td>NaN</td>\n",
       "    </tr>\n",
       "  </tbody>\n",
       "</table>\n",
       "<p>3 rows × 188 columns</p>\n",
       "</div>"
      ],
      "text/plain": [
       "         id  total_time_taken  total_idle_time  total_word_count  \\\n",
       "0  0000aaaa           421.640          421.727                 0   \n",
       "1  2222bbbb          -421.454         -421.408                 0   \n",
       "2  4444cccc          -450.551         -450.495                 1   \n",
       "\n",
       "   max_cursor_position  num_events  total_type_of_activities  \\\n",
       "0                    1           2                         1   \n",
       "1                    1           2                         1   \n",
       "2                    1           2                         1   \n",
       "\n",
       "   speed_of_activity  speed_of_writing  events_per_word  ...  \\\n",
       "0           0.004743           0.00000              0.0  ...   \n",
       "1          -0.004745          -0.00000              0.0  ...   \n",
       "2          -0.004439          -0.00222              0.5  ...   \n",
       "\n",
       "   words_of_len_2_share  words_of_len_3_share  words_of_len_4_share  \\\n",
       "0                   inf                   NaN                   NaN   \n",
       "1                   0.0                   0.0                   0.0   \n",
       "2                   NaN                   NaN                   NaN   \n",
       "\n",
       "   words_of_len_5_share  words_of_len_6_share  words_of_len_7_share  \\\n",
       "0                   NaN                   NaN                   NaN   \n",
       "1                   0.0                   0.0                   0.0   \n",
       "2                   NaN                   NaN                   NaN   \n",
       "\n",
       "   words_of_len_8_share  words_of_len_9_share  words_of_len_10_share  \\\n",
       "0                   NaN                   NaN                    NaN   \n",
       "1                   0.0                   0.0                    0.0   \n",
       "2                   NaN                   NaN                    NaN   \n",
       "\n",
       "   words_of_len_more_than_10_share  \n",
       "0                              NaN  \n",
       "1                              0.0  \n",
       "2                              NaN  \n",
       "\n",
       "[3 rows x 188 columns]"
      ]
     },
     "execution_count": 35,
     "metadata": {},
     "output_type": "execute_result"
    }
   ],
   "source": [
    "test_feats"
   ]
  },
  {
   "cell_type": "code",
   "execution_count": null,
   "id": "4754c4c8-6b4a-4012-9f49-e366fe527d4f",
   "metadata": {},
   "outputs": [],
   "source": []
  },
  {
   "cell_type": "code",
   "execution_count": null,
   "id": "c599a365-5fb9-4066-b5bd-e069f9447d5e",
   "metadata": {},
   "outputs": [],
   "source": []
  },
  {
   "cell_type": "code",
   "execution_count": null,
   "id": "38c71655-ea93-4859-a384-ceb72d807809",
   "metadata": {},
   "outputs": [],
   "source": []
  },
  {
   "cell_type": "code",
   "execution_count": 36,
   "id": "4d40e504-2642-4130-bb6f-64416f5162e7",
   "metadata": {
    "execution": {
     "iopub.execute_input": "2023-10-30T20:23:38.270545Z",
     "iopub.status.busy": "2023-10-30T20:23:38.270347Z",
     "iopub.status.idle": "2023-10-30T20:23:38.274896Z",
     "shell.execute_reply": "2023-10-30T20:23:38.274494Z",
     "shell.execute_reply.started": "2023-10-30T20:23:38.270530Z"
    }
   },
   "outputs": [],
   "source": [
    "# clms_with_na = features_df.columns[features_df.isnull().any()].tolist()"
   ]
  },
  {
   "cell_type": "code",
   "execution_count": 37,
   "id": "51d15035-e8c3-4cb3-8641-704df8c233ef",
   "metadata": {
    "execution": {
     "iopub.execute_input": "2023-10-30T20:23:38.275630Z",
     "iopub.status.busy": "2023-10-30T20:23:38.275431Z",
     "iopub.status.idle": "2023-10-30T20:23:38.280138Z",
     "shell.execute_reply": "2023-10-30T20:23:38.279637Z",
     "shell.execute_reply.started": "2023-10-30T20:23:38.275615Z"
    }
   },
   "outputs": [],
   "source": [
    "# for clm in clms_with_na:\n",
    "#     # print(f\"{clm}\\n\")\n",
    "#     print(features_df[f\"{clm}\"].isna().value_counts())\n",
    "#     print(\"\\n\")"
   ]
  },
  {
   "cell_type": "code",
   "execution_count": 38,
   "id": "27858882-e2c6-48f2-95a1-d70ca379471f",
   "metadata": {
    "execution": {
     "iopub.execute_input": "2023-10-30T20:23:38.281200Z",
     "iopub.status.busy": "2023-10-30T20:23:38.280825Z",
     "iopub.status.idle": "2023-10-30T20:23:38.287852Z",
     "shell.execute_reply": "2023-10-30T20:23:38.287376Z",
     "shell.execute_reply.started": "2023-10-30T20:23:38.281184Z"
    }
   },
   "outputs": [
    {
     "data": {
      "text/plain": [
       "['id',\n",
       " 'total_time_taken',\n",
       " 'total_idle_time',\n",
       " 'total_word_count',\n",
       " 'max_cursor_position',\n",
       " 'num_events',\n",
       " 'total_type_of_activities',\n",
       " 'speed_of_activity',\n",
       " 'speed_of_writing',\n",
       " 'events_per_word',\n",
       " 'idle_time_ratio',\n",
       " 'words_to_cp_ratio',\n",
       " 'activity_input_ratio_total',\n",
       " 'activity_remove_ratio_total',\n",
       " 'activity_non_production_ratio_total',\n",
       " 'activity_replace_ratio_total',\n",
       " 'activity_paste_ratio_total',\n",
       " 'activity_remove_ratio_input',\n",
       " 'activity_non_production_ratio_input',\n",
       " 'activity_replace_ratio_input',\n",
       " 'activity_paste_ratio_input',\n",
       " 'activity_input_ratio_non_production',\n",
       " 'activity_remove_ratio_non_production',\n",
       " 'activity_replace_ratio_non_production',\n",
       " 'activity_paste_ratio_non_production',\n",
       " 'input_first_time_total_ratio',\n",
       " 'remove_first_time_total_ratio',\n",
       " 'non_production_first_time_total_ratio',\n",
       " 'replace_first_time_total_ratio',\n",
       " 'paste_first_time_total_ratio',\n",
       " 'input_last_time_total_ratio',\n",
       " 'remove_last_time_total_ratio',\n",
       " 'non_production_last_time_total_ratio',\n",
       " 'replace_last_time_total_ratio',\n",
       " 'paste_last_time_total_ratio',\n",
       " 'input_my_min_inter_act_latency',\n",
       " 'input_my_max_inter_act_latency',\n",
       " 'input_my_mean_inter_act_latency',\n",
       " 'input_my_std_inter_act_latency',\n",
       " 'input_my_skew_inter_act_latency',\n",
       " 'input_my_kurtosis_inter_act_latency',\n",
       " 'input_my_median_grouped_inter_act_latency',\n",
       " 'remove_my_min_inter_act_latency',\n",
       " 'remove_my_max_inter_act_latency',\n",
       " 'remove_my_mean_inter_act_latency',\n",
       " 'remove_my_std_inter_act_latency',\n",
       " 'remove_my_skew_inter_act_latency',\n",
       " 'remove_my_kurtosis_inter_act_latency',\n",
       " 'remove_my_median_grouped_inter_act_latency',\n",
       " 'non_production_my_min_inter_act_latency',\n",
       " 'non_production_my_max_inter_act_latency',\n",
       " 'non_production_my_mean_inter_act_latency',\n",
       " 'non_production_my_std_inter_act_latency',\n",
       " 'non_production_my_skew_inter_act_latency',\n",
       " 'non_production_my_kurtosis_inter_act_latency',\n",
       " 'non_production_my_median_grouped_inter_act_latency',\n",
       " 'num_type_down_events_in_input',\n",
       " 'num_type_down_events_in_remove',\n",
       " 'num_type_down_events_in_non_production',\n",
       " 'Backspace_in_remove_share',\n",
       " 'Delete_in_remove_share',\n",
       " 'x_in_remove_share',\n",
       " 'z_in_remove_share',\n",
       " 'Rightclick_in_remove_share',\n",
       " 'q_in_replace_share',\n",
       " 'Space_in_replace_share',\n",
       " 'full_stop_in_replace_share',\n",
       " 'comma_in_replace_share',\n",
       " 'z_in_replace_share',\n",
       " 'v_in_replace_share',\n",
       " 'Enter_in_replace_share',\n",
       " 'Rightclick_in_replace_share',\n",
       " 'Shift_in_non_production_share',\n",
       " 'ArrowRight_in_non_production_share',\n",
       " 'Leftclick_in_non_production_share',\n",
       " 'ArrowLeft_in_non_production_share',\n",
       " 'ArrowDown_in_non_production_share',\n",
       " 'ArrowUp_in_non_production_share',\n",
       " 'CapsLock_in_non_production_share',\n",
       " 'Control_in_non_production_share',\n",
       " 'Backspace_in_non_production_share',\n",
       " 'Tab_in_non_production_share',\n",
       " 'ContextMenu_in_non_production_share',\n",
       " 'End_in_non_production_share',\n",
       " 'Rightclick_in_non_production_share',\n",
       " 'q_in_input_share',\n",
       " 'Space_in_input_share',\n",
       " 'Enter_in_input_share',\n",
       " 'qoute_in_input_share',\n",
       " 'double_qoute_in_input_share',\n",
       " 'full_stop_in_input_share',\n",
       " 'comma_in_input_share',\n",
       " 'hyphen_in_input_share',\n",
       " 'question_mark_in_input_share',\n",
       " 'semi_colon_in_input_share',\n",
       " 'equal_to_in_input_share',\n",
       " 'forward_slash_in_input_share',\n",
       " 'back_slash_in_input_share',\n",
       " 'num_times_word_deleted',\n",
       " 'num_words_deleted',\n",
       " 'size_of_biggest_chunk_removed',\n",
       " 'avg_num_words_removed_at_a_time',\n",
       " 'first_time_word_deletion',\n",
       " 'last_time_word_deletion',\n",
       " 'mean_time_btw_word_deletions',\n",
       " 'max_time_btw_word_deletions',\n",
       " 'min_time_btw_word_deletions',\n",
       " 'std_time_btw_word_deletions',\n",
       " 'num_times_cp_decreased',\n",
       " 'size_of_biggest_cp_decreased',\n",
       " 'avg_size_of_cp_decreased_at_a_time',\n",
       " 'action_time_stats_my_max',\n",
       " 'action_time_stats_my_mean',\n",
       " 'action_time_stats_my_std',\n",
       " 'action_time_stats_my_skew',\n",
       " 'action_time_stats_my_kurtosis',\n",
       " 'action_time_stats_my_median_grouped',\n",
       " 'IL_stats_my_max',\n",
       " 'IL_stats_my_mean',\n",
       " 'IL_stats_my_std',\n",
       " 'IL_stats_my_skew',\n",
       " 'IL_stats_my_kurtosis',\n",
       " 'IL_stats_my_median_grouped',\n",
       " 'PL_stats_my_max',\n",
       " 'PL_stats_my_mean',\n",
       " 'PL_stats_my_std',\n",
       " 'PL_stats_my_skew',\n",
       " 'PL_stats_my_kurtosis',\n",
       " 'PL_stats_my_median_grouped',\n",
       " 'q_tc_total_share',\n",
       " 'q_in_input_tc_total_share',\n",
       " 'q_in_remove_tc_total_share',\n",
       " 'blank_space_tc_total_share',\n",
       " 'blank_space_in_input_tc_total_share',\n",
       " 'blank_space_in_remove_tc_total_share',\n",
       " 'full_stop_tc_total_share',\n",
       " 'full_stop_in_input_tc_total_share',\n",
       " 'full_stop_in_remove_tc_total_share',\n",
       " 'comma_tc_total_share',\n",
       " 'comma_in_input_tc_total_share',\n",
       " 'comma_in_remove_tc_total_share',\n",
       " 'new_line_char_tc_total_share',\n",
       " 'new_line_char_in_input_tc_total_share',\n",
       " 'new_line_char_in_remove_tc_total_share',\n",
       " 'qoute_tc_total_share',\n",
       " 'qoute_in_input_tc_total_share',\n",
       " 'qoute_in_remove_tc_total_share',\n",
       " 'double_qoute_tc_total_share',\n",
       " 'double_qoute_in_input_tc_total_share',\n",
       " 'double_qoute_in_remove_tc_total_share',\n",
       " 'hyphen_tc_total_share',\n",
       " 'hyphen_in_input_tc_total_share',\n",
       " 'hyphen_in_remove_tc_total_share',\n",
       " 'question_mark_tc_total_share',\n",
       " 'question_mark_in_input_tc_total_share',\n",
       " 'question_mark_in_remove_tc_total_share',\n",
       " 'semi_colon_tc_total_share',\n",
       " 'semi_colon_in_input_tc_total_share',\n",
       " 'semi_colon_in_remove_tc_total_share',\n",
       " 'equal_to_tc_total_share',\n",
       " 'equal_to_in_input_tc_total_share',\n",
       " 'equal_to_in_remove_tc_total_share',\n",
       " 'forward_slash_tc_total_share',\n",
       " 'forward_slash_in_input_tc_total_share',\n",
       " 'forward_slash_in_remove_tc_total_share',\n",
       " 'back_slash_tc_total_share',\n",
       " 'back_slash_in_input_tc_total_share',\n",
       " 'back_slash_in_remove_tc_total_share',\n",
       " 'colon_tc_total_share',\n",
       " 'colon_in_input_tc_total_share',\n",
       " 'colon_in_remove_tc_total_share',\n",
       " 'input_word_count',\n",
       " 'input_word_length_mean',\n",
       " 'input_word_length_max',\n",
       " 'input_word_length_std',\n",
       " 'input_word_length_skew',\n",
       " 'input_word_length_kurtosis',\n",
       " 'words_of_len_1_share',\n",
       " 'words_of_len_2_share',\n",
       " 'words_of_len_3_share',\n",
       " 'words_of_len_4_share',\n",
       " 'words_of_len_5_share',\n",
       " 'words_of_len_6_share',\n",
       " 'words_of_len_7_share',\n",
       " 'words_of_len_8_share',\n",
       " 'words_of_len_9_share',\n",
       " 'words_of_len_10_share',\n",
       " 'words_of_len_more_than_10_share']"
      ]
     },
     "execution_count": 38,
     "metadata": {},
     "output_type": "execute_result"
    }
   ],
   "source": [
    "train_feats.columns.tolist()"
   ]
  },
  {
   "cell_type": "code",
   "execution_count": 39,
   "id": "a9848813-f552-46f9-8fba-f83bd7d3fbeb",
   "metadata": {
    "execution": {
     "iopub.execute_input": "2023-10-30T20:23:38.288709Z",
     "iopub.status.busy": "2023-10-30T20:23:38.288436Z",
     "iopub.status.idle": "2023-10-30T20:23:38.295088Z",
     "shell.execute_reply": "2023-10-30T20:23:38.294713Z",
     "shell.execute_reply.started": "2023-10-30T20:23:38.288692Z"
    }
   },
   "outputs": [
    {
     "data": {
      "text/plain": [
       "count    2471.000000\n",
       "mean        0.109753\n",
       "std         0.207478\n",
       "min         0.000000\n",
       "25%         0.000000\n",
       "50%         0.000000\n",
       "75%         0.000000\n",
       "max         1.000000\n",
       "Name: equal_to_in_input_tc_total_share, dtype: float64"
      ]
     },
     "execution_count": 39,
     "metadata": {},
     "output_type": "execute_result"
    }
   ],
   "source": [
    "train_feats.equal_to_in_input_tc_total_share.describe()"
   ]
  },
  {
   "cell_type": "code",
   "execution_count": null,
   "id": "fa6f8cd1-0aa1-4cc9-9785-ffd624ebd7ca",
   "metadata": {},
   "outputs": [],
   "source": []
  },
  {
   "cell_type": "code",
   "execution_count": 40,
   "id": "1d59a60b-3100-4b7d-b500-695d159cf1b4",
   "metadata": {
    "execution": {
     "iopub.execute_input": "2023-10-30T20:23:38.296156Z",
     "iopub.status.busy": "2023-10-30T20:23:38.295727Z",
     "iopub.status.idle": "2023-10-30T20:23:38.301420Z",
     "shell.execute_reply": "2023-10-30T20:23:38.300838Z",
     "shell.execute_reply.started": "2023-10-30T20:23:38.296140Z"
    }
   },
   "outputs": [],
   "source": [
    "# features_df.square_bracket_open_in_input_share.value_counts()"
   ]
  },
  {
   "cell_type": "code",
   "execution_count": 41,
   "id": "0781a67d-20da-4334-94a6-753da6ab6a98",
   "metadata": {
    "execution": {
     "iopub.execute_input": "2023-10-30T20:23:38.302260Z",
     "iopub.status.busy": "2023-10-30T20:23:38.301945Z",
     "iopub.status.idle": "2023-10-30T20:23:38.311208Z",
     "shell.execute_reply": "2023-10-30T20:23:38.310808Z",
     "shell.execute_reply.started": "2023-10-30T20:23:38.302246Z"
    }
   },
   "outputs": [],
   "source": [
    "train_feats = train_feats.merge(train_scores, on=\"id\", how=\"left\")"
   ]
  },
  {
   "cell_type": "code",
   "execution_count": 42,
   "id": "117231e4-b9fa-4f10-9f9e-bec51d5d3fb1",
   "metadata": {
    "execution": {
     "iopub.execute_input": "2023-10-30T20:23:38.311894Z",
     "iopub.status.busy": "2023-10-30T20:23:38.311723Z",
     "iopub.status.idle": "2023-10-30T20:23:38.317476Z",
     "shell.execute_reply": "2023-10-30T20:23:38.317062Z",
     "shell.execute_reply.started": "2023-10-30T20:23:38.311880Z"
    }
   },
   "outputs": [
    {
     "name": "stdout",
     "output_type": "stream",
     "text": [
      "Shape of training data: (2471, 189)\n",
      "Shape of test data: (3, 188)\n"
     ]
    }
   ],
   "source": [
    "print(f\"Shape of training data: {train_feats.shape}\")\n",
    "print(f\"Shape of test data: {test_feats.shape}\")"
   ]
  },
  {
   "cell_type": "code",
   "execution_count": 43,
   "id": "52304aa4-1d5f-4a1b-9d4b-90810dfb62ce",
   "metadata": {
    "execution": {
     "iopub.execute_input": "2023-10-30T20:23:38.318209Z",
     "iopub.status.busy": "2023-10-30T20:23:38.318030Z",
     "iopub.status.idle": "2023-10-30T20:23:38.325770Z",
     "shell.execute_reply": "2023-10-30T20:23:38.325170Z",
     "shell.execute_reply.started": "2023-10-30T20:23:38.318194Z"
    }
   },
   "outputs": [
    {
     "data": {
      "text/plain": [
       "Index(['remove_my_min_inter_act_latency', 'remove_my_max_inter_act_latency',\n",
       "       'remove_my_mean_inter_act_latency', 'remove_my_std_inter_act_latency',\n",
       "       'remove_my_skew_inter_act_latency',\n",
       "       'remove_my_kurtosis_inter_act_latency',\n",
       "       'remove_my_median_grouped_inter_act_latency',\n",
       "       'num_type_down_events_in_remove'],\n",
       "      dtype='object')"
      ]
     },
     "execution_count": 43,
     "metadata": {},
     "output_type": "execute_result"
    }
   ],
   "source": [
    "train_feats.columns[train_feats.isna().any()]"
   ]
  },
  {
   "cell_type": "code",
   "execution_count": null,
   "id": "242e3b46-d2e9-4228-b436-7ba5ea1d01de",
   "metadata": {},
   "outputs": [],
   "source": []
  },
  {
   "cell_type": "markdown",
   "id": "6e8c8cc3-c5bf-48c3-8740-54c96b0a5b7e",
   "metadata": {
    "papermill": {
     "duration": 0.019635,
     "end_time": "2023-10-24T19:15:40.378982",
     "exception": false,
     "start_time": "2023-10-24T19:15:40.359347",
     "status": "completed"
    },
    "tags": []
   },
   "source": [
    "# Split Train Data Into Folds For Cross-Validation"
   ]
  },
  {
   "cell_type": "code",
   "execution_count": 44,
   "id": "364df5f8",
   "metadata": {
    "execution": {
     "iopub.execute_input": "2023-10-30T20:24:08.995476Z",
     "iopub.status.busy": "2023-10-30T20:24:08.995149Z",
     "iopub.status.idle": "2023-10-30T20:24:09.008058Z",
     "shell.execute_reply": "2023-10-30T20:24:09.007616Z",
     "shell.execute_reply.started": "2023-10-30T20:24:08.995447Z"
    },
    "papermill": {
     "duration": 0.037256,
     "end_time": "2023-10-24T19:15:40.435965",
     "exception": false,
     "start_time": "2023-10-24T19:15:40.398709",
     "status": "completed"
    },
    "tags": []
   },
   "outputs": [],
   "source": [
    "# kfold = KFold(n_splits=CONFIG.num_folds, shuffle=True, random_state=CONFIG.seed)\n",
    "\n",
    "kfold = StratifiedKFold(n_splits=cnfg.num_folds, shuffle=True, random_state=cnfg.seed)\n",
    "for fold, (_, val_idx) in enumerate(\n",
    "    kfold.split(train_feats, train_feats.score.apply(str).values)\n",
    "):\n",
    "    train_feats.loc[val_idx, \"fold\"] = fold"
   ]
  },
  {
   "cell_type": "code",
   "execution_count": null,
   "id": "fa26f374-b165-44bc-b774-112172b8094d",
   "metadata": {},
   "outputs": [],
   "source": []
  },
  {
   "cell_type": "markdown",
   "id": "9fda6436-3a79-4da4-b3a6-ea0c90ae10e4",
   "metadata": {
    "papermill": {
     "duration": 0.019093,
     "end_time": "2023-10-24T19:15:40.474724",
     "exception": false,
     "start_time": "2023-10-24T19:15:40.455631",
     "status": "completed"
    },
    "tags": []
   },
   "source": [
    "# Optimizing Hyperparameters with Optuna"
   ]
  },
  {
   "cell_type": "code",
   "execution_count": null,
   "id": "eb851da4-75ec-4298-b717-2f90ab48137a",
   "metadata": {
    "papermill": {
     "duration": 0.035316,
     "end_time": "2023-10-24T19:15:40.529526",
     "exception": false,
     "start_time": "2023-10-24T19:15:40.494210",
     "status": "completed"
    },
    "tags": []
   },
   "outputs": [],
   "source": []
  },
  {
   "cell_type": "code",
   "execution_count": 45,
   "id": "689f61d2-8095-419b-85fd-2febab4ddce9",
   "metadata": {
    "execution": {
     "iopub.execute_input": "2023-10-30T20:24:12.989594Z",
     "iopub.status.busy": "2023-10-30T20:24:12.989414Z",
     "iopub.status.idle": "2023-10-30T20:24:12.995634Z",
     "shell.execute_reply": "2023-10-30T20:24:12.995077Z",
     "shell.execute_reply.started": "2023-10-30T20:24:12.989580Z"
    },
    "papermill": {
     "duration": 0.031689,
     "end_time": "2023-10-24T19:15:40.581311",
     "exception": false,
     "start_time": "2023-10-24T19:15:40.549622",
     "status": "completed"
    },
    "tags": []
   },
   "outputs": [],
   "source": [
    "def objective(trial, train_feats):\n",
    "    train_feats_df = train_feats.copy()\n",
    "    print(trial.number)\n",
    "    param = {\n",
    "        \"metric\": \"rmse\",\n",
    "        \"random_state\": cnfg.seed,\n",
    "        \"n_estimators\": cnfg.num_estimators,\n",
    "        \"reg_alpha\": trial.suggest_loguniform(\"reg_alpha\", 1e-3, 10.0),\n",
    "        \"reg_lambda\": trial.suggest_loguniform(\"reg_lambda\", 1e-3, 10.0),\n",
    "        \"colsample_bytree\": trial.suggest_float(\"colsample_bytree\", 0.5, 1),\n",
    "        \"subsample\": trial.suggest_float(\"subsample\", 0.5, 1),\n",
    "        \"learning_rate\": trial.suggest_float(\"learning_rate\", 1e-4, 0.1, log=True),\n",
    "        \"num_leaves\": trial.suggest_int(\"num_leaves\", 2, 32),\n",
    "        \"min_child_samples\": trial.suggest_int(\"min_child_samples\", 1, 100),\n",
    "        \"verbose\": -1,\n",
    "        \"early_stopping_rounds\": cnfg.num_trials_early_stopping,\n",
    "    }\n",
    "\n",
    "    feature_names = list(\n",
    "        filter(\n",
    "            lambda x: x not in [cnfg.response_variate, \"id\", \"fold\"],\n",
    "            train_feats_df.columns,\n",
    "        )\n",
    "    )\n",
    "\n",
    "    # models_dict = {}\n",
    "\n",
    "    for fold in range(cnfg.num_folds):\n",
    "        # print(f\"Training for FOLD {fold}\")\n",
    "\n",
    "        X_train = train_feats_df[train_feats_df[\"fold\"] != fold][feature_names]\n",
    "        Y_train = train_feats_df[train_feats_df[\"fold\"] != fold][cnfg.response_variate]\n",
    "\n",
    "        X_val = train_feats_df[train_feats_df[\"fold\"] == fold][feature_names]\n",
    "        Y_val = train_feats_df[train_feats_df[\"fold\"] == fold][cnfg.response_variate]\n",
    "\n",
    "        model = lgb.LGBMRegressor(**param)\n",
    "\n",
    "        model.fit(\n",
    "            X_train,\n",
    "            Y_train,\n",
    "            eval_names=[\"train\", \"valid\"],\n",
    "            eval_set=[(X_train, Y_train), (X_val, Y_val)],\n",
    "            # verbose=-1,\n",
    "            eval_metric=\"rmse\",\n",
    "            # early_stopping_rounds=cnfg.num_trials_early_stopping,\n",
    "        )\n",
    "\n",
    "        # models_dict[fold] = model\n",
    "\n",
    "        pred_val = model.predict(X_val, num_iteration=model.best_iteration_)\n",
    "        train_feats_df.loc[X_val.index, f\"pred_{cnfg.response_variate}\"] = pred_val\n",
    "\n",
    "    rmse = mean_squared_error(\n",
    "        train_feats_df[cnfg.response_variate],\n",
    "        np.clip(train_feats_df[f\"pred_{cnfg.response_variate}\"], a_min=0.5, a_max=6.0),\n",
    "        squared=False,\n",
    "    )\n",
    "\n",
    "    return rmse"
   ]
  },
  {
   "cell_type": "code",
   "execution_count": 46,
   "id": "41938e70-a95b-4876-8746-098623409e02",
   "metadata": {
    "_kg_hide-output": true,
    "execution": {
     "iopub.execute_input": "2023-10-30T20:24:14.256166Z",
     "iopub.status.busy": "2023-10-30T20:24:14.255797Z",
     "iopub.status.idle": "2023-10-30T20:43:51.781688Z",
     "shell.execute_reply": "2023-10-30T20:43:51.781211Z",
     "shell.execute_reply.started": "2023-10-30T20:24:14.256144Z"
    },
    "papermill": {
     "duration": 0.027542,
     "end_time": "2023-10-24T19:15:40.628707",
     "exception": false,
     "start_time": "2023-10-24T19:15:40.601165",
     "status": "completed"
    },
    "scrolled": true,
    "tags": []
   },
   "outputs": [
    {
     "name": "stderr",
     "output_type": "stream",
     "text": [
      "[I 2023-10-30 21:24:14,257] A new study created in memory with name: Optimize boosting hyperparameters\n"
     ]
    },
    {
     "name": "stdout",
     "output_type": "stream",
     "text": [
      "0\n"
     ]
    },
    {
     "name": "stderr",
     "output_type": "stream",
     "text": [
      "[I 2023-10-30 21:24:15,685] Trial 0 finished with value: 0.6396295216710729 and parameters: {'reg_alpha': 6.6436079964388615, 'reg_lambda': 7.127758276543727, 'colsample_bytree': 0.9653130195642055, 'subsample': 0.6502982098569241, 'learning_rate': 0.03023235416315053, 'num_leaves': 7, 'min_child_samples': 95}. Best is trial 0 with value: 0.6396295216710729.\n"
     ]
    },
    {
     "name": "stdout",
     "output_type": "stream",
     "text": [
      "1\n"
     ]
    },
    {
     "name": "stderr",
     "output_type": "stream",
     "text": [
      "[I 2023-10-30 21:24:35,730] Trial 1 finished with value: 0.6385450724631199 and parameters: {'reg_alpha': 7.3180647535021714, 'reg_lambda': 0.00424347654377821, 'colsample_bytree': 0.7902868431507555, 'subsample': 0.5790993618172582, 'learning_rate': 0.0017168751659475724, 'num_leaves': 21, 'min_child_samples': 44}. Best is trial 1 with value: 0.6385450724631199.\n"
     ]
    },
    {
     "name": "stdout",
     "output_type": "stream",
     "text": [
      "2\n"
     ]
    },
    {
     "name": "stderr",
     "output_type": "stream",
     "text": [
      "[I 2023-10-30 21:24:37,743] Trial 2 finished with value: 0.6372729510207328 and parameters: {'reg_alpha': 0.13541889017733147, 'reg_lambda': 0.005619701361508654, 'colsample_bytree': 0.9362409531145626, 'subsample': 0.9070526173004114, 'learning_rate': 0.01672915675441392, 'num_leaves': 6, 'min_child_samples': 52}. Best is trial 2 with value: 0.6372729510207328.\n"
     ]
    },
    {
     "name": "stdout",
     "output_type": "stream",
     "text": [
      "3\n"
     ]
    },
    {
     "name": "stderr",
     "output_type": "stream",
     "text": [
      "[I 2023-10-30 21:24:38,882] Trial 3 finished with value: 0.6361266863151808 and parameters: {'reg_alpha': 1.2100544284543877, 'reg_lambda': 0.0028826173042353796, 'colsample_bytree': 0.6595563998361779, 'subsample': 0.6825264032502263, 'learning_rate': 0.052943605188307756, 'num_leaves': 28, 'min_child_samples': 98}. Best is trial 3 with value: 0.6361266863151808.\n"
     ]
    },
    {
     "name": "stdout",
     "output_type": "stream",
     "text": [
      "4\n"
     ]
    },
    {
     "name": "stderr",
     "output_type": "stream",
     "text": [
      "[I 2023-10-30 21:25:24,421] Trial 4 finished with value: 0.6361326320056375 and parameters: {'reg_alpha': 0.004776520730537683, 'reg_lambda': 0.0013745894412467347, 'colsample_bytree': 0.6683430789704488, 'subsample': 0.6198972158107499, 'learning_rate': 0.0005767346650149196, 'num_leaves': 17, 'min_child_samples': 58}. Best is trial 3 with value: 0.6361266863151808.\n"
     ]
    },
    {
     "name": "stdout",
     "output_type": "stream",
     "text": [
      "5\n"
     ]
    },
    {
     "name": "stderr",
     "output_type": "stream",
     "text": [
      "[I 2023-10-30 21:26:18,280] Trial 5 finished with value: 0.6365862547897322 and parameters: {'reg_alpha': 0.0025259573976618515, 'reg_lambda': 0.013618229600831163, 'colsample_bytree': 0.6775941207114886, 'subsample': 0.688786345113834, 'learning_rate': 0.0008611417255486777, 'num_leaves': 26, 'min_child_samples': 7}. Best is trial 3 with value: 0.6361266863151808.\n"
     ]
    },
    {
     "name": "stdout",
     "output_type": "stream",
     "text": [
      "6\n"
     ]
    },
    {
     "name": "stderr",
     "output_type": "stream",
     "text": [
      "[I 2023-10-30 21:27:23,738] Trial 6 finished with value: 0.6472418727406358 and parameters: {'reg_alpha': 0.006938801087631763, 'reg_lambda': 0.014341220677860733, 'colsample_bytree': 0.50414192884856, 'subsample': 0.9138347918380292, 'learning_rate': 0.0002506022403614143, 'num_leaves': 22, 'min_child_samples': 24}. Best is trial 3 with value: 0.6361266863151808.\n"
     ]
    },
    {
     "name": "stdout",
     "output_type": "stream",
     "text": [
      "7\n"
     ]
    },
    {
     "name": "stderr",
     "output_type": "stream",
     "text": [
      "[I 2023-10-30 21:27:25,365] Trial 7 finished with value: 0.6344277790039815 and parameters: {'reg_alpha': 0.19352077282051935, 'reg_lambda': 0.0054402753209719795, 'colsample_bytree': 0.7595408349013267, 'subsample': 0.8697553095100029, 'learning_rate': 0.021916878410786655, 'num_leaves': 8, 'min_child_samples': 91}. Best is trial 7 with value: 0.6344277790039815.\n"
     ]
    },
    {
     "name": "stdout",
     "output_type": "stream",
     "text": [
      "8\n"
     ]
    },
    {
     "name": "stderr",
     "output_type": "stream",
     "text": [
      "[I 2023-10-30 21:27:54,519] Trial 8 finished with value: 0.6348785091293121 and parameters: {'reg_alpha': 0.010134742929916217, 'reg_lambda': 0.02123649470515637, 'colsample_bytree': 0.6514161863557237, 'subsample': 0.8360825977555563, 'learning_rate': 0.0011357336933852948, 'num_leaves': 19, 'min_child_samples': 23}. Best is trial 7 with value: 0.6344277790039815.\n"
     ]
    },
    {
     "name": "stdout",
     "output_type": "stream",
     "text": [
      "9\n"
     ]
    },
    {
     "name": "stderr",
     "output_type": "stream",
     "text": [
      "[I 2023-10-30 21:28:30,836] Trial 9 finished with value: 0.6339096574571665 and parameters: {'reg_alpha': 0.0191791197737995, 'reg_lambda': 3.442216606529658, 'colsample_bytree': 0.5810152384063627, 'subsample': 0.6732819890259212, 'learning_rate': 0.0010253417871912052, 'num_leaves': 26, 'min_child_samples': 48}. Best is trial 9 with value: 0.6339096574571665.\n"
     ]
    },
    {
     "name": "stdout",
     "output_type": "stream",
     "text": [
      "10\n"
     ]
    },
    {
     "name": "stderr",
     "output_type": "stream",
     "text": [
      "[I 2023-10-30 21:29:23,206] Trial 10 finished with value: 0.7175644379557096 and parameters: {'reg_alpha': 0.029959597044711725, 'reg_lambda': 1.5917857830387043, 'colsample_bytree': 0.5031308676563415, 'subsample': 0.5203750615405542, 'learning_rate': 0.00010648052766150218, 'num_leaves': 32, 'min_child_samples': 59}. Best is trial 9 with value: 0.6339096574571665.\n"
     ]
    },
    {
     "name": "stdout",
     "output_type": "stream",
     "text": [
      "11\n"
     ]
    },
    {
     "name": "stderr",
     "output_type": "stream",
     "text": [
      "[I 2023-10-30 21:29:27,801] Trial 11 finished with value: 0.6344333598330409 and parameters: {'reg_alpha': 0.12043768405793867, 'reg_lambda': 0.2670624214667674, 'colsample_bytree': 0.7876206876829771, 'subsample': 0.7837218390814905, 'learning_rate': 0.006272837179827603, 'num_leaves': 12, 'min_child_samples': 81}. Best is trial 9 with value: 0.6339096574571665.\n"
     ]
    },
    {
     "name": "stdout",
     "output_type": "stream",
     "text": [
      "12\n"
     ]
    },
    {
     "name": "stderr",
     "output_type": "stream",
     "text": [
      "[I 2023-10-30 21:29:33,877] Trial 12 finished with value: 0.6353114854020222 and parameters: {'reg_alpha': 0.07103003473423004, 'reg_lambda': 0.11002300173386267, 'colsample_bytree': 0.8524503295172441, 'subsample': 0.9870733670882454, 'learning_rate': 0.005049005130053494, 'num_leaves': 12, 'min_child_samples': 76}. Best is trial 9 with value: 0.6339096574571665.\n"
     ]
    },
    {
     "name": "stdout",
     "output_type": "stream",
     "text": [
      "13\n"
     ]
    },
    {
     "name": "stderr",
     "output_type": "stream",
     "text": [
      "[I 2023-10-30 21:29:34,547] Trial 13 finished with value: 0.6372829012222516 and parameters: {'reg_alpha': 0.39259394033229733, 'reg_lambda': 0.5550549631463542, 'colsample_bytree': 0.5874670220128138, 'subsample': 0.7465396382034138, 'learning_rate': 0.08033268286264644, 'num_leaves': 2, 'min_child_samples': 36}. Best is trial 9 with value: 0.6339096574571665.\n"
     ]
    },
    {
     "name": "stdout",
     "output_type": "stream",
     "text": [
      "14\n"
     ]
    },
    {
     "name": "stderr",
     "output_type": "stream",
     "text": [
      "[I 2023-10-30 21:29:37,657] Trial 14 finished with value: 0.6340962811750022 and parameters: {'reg_alpha': 0.0015558942035307692, 'reg_lambda': 0.05062661551531554, 'colsample_bytree': 0.7284020236557694, 'subsample': 0.7645420407450151, 'learning_rate': 0.010490832036272334, 'num_leaves': 12, 'min_child_samples': 72}. Best is trial 9 with value: 0.6339096574571665.\n"
     ]
    },
    {
     "name": "stdout",
     "output_type": "stream",
     "text": [
      "15\n"
     ]
    },
    {
     "name": "stderr",
     "output_type": "stream",
     "text": [
      "[I 2023-10-30 21:29:47,093] Trial 15 finished with value: 0.6332004668972651 and parameters: {'reg_alpha': 0.0012528776418253577, 'reg_lambda': 0.06321632418428523, 'colsample_bytree': 0.5879165659319248, 'subsample': 0.747269911401078, 'learning_rate': 0.0030975355692071313, 'num_leaves': 15, 'min_child_samples': 69}. Best is trial 15 with value: 0.6332004668972651.\n"
     ]
    },
    {
     "name": "stdout",
     "output_type": "stream",
     "text": [
      "16\n"
     ]
    },
    {
     "name": "stderr",
     "output_type": "stream",
     "text": [
      "[I 2023-10-30 21:29:59,880] Trial 16 finished with value: 0.6337873909307068 and parameters: {'reg_alpha': 0.0011703756067712105, 'reg_lambda': 6.596751853500805, 'colsample_bytree': 0.5705529272853334, 'subsample': 0.72157390876929, 'learning_rate': 0.002704542547843352, 'num_leaves': 26, 'min_child_samples': 67}. Best is trial 15 with value: 0.6332004668972651.\n"
     ]
    },
    {
     "name": "stdout",
     "output_type": "stream",
     "text": [
      "17\n"
     ]
    },
    {
     "name": "stderr",
     "output_type": "stream",
     "text": [
      "[I 2023-10-30 21:30:10,979] Trial 17 finished with value: 0.6328032508448519 and parameters: {'reg_alpha': 0.0011328783948498485, 'reg_lambda': 0.8663441063882538, 'colsample_bytree': 0.5801809800114941, 'subsample': 0.7269889303806998, 'learning_rate': 0.0026447845572248356, 'num_leaves': 16, 'min_child_samples': 71}. Best is trial 17 with value: 0.6328032508448519.\n"
     ]
    },
    {
     "name": "stdout",
     "output_type": "stream",
     "text": [
      "18\n"
     ]
    },
    {
     "name": "stderr",
     "output_type": "stream",
     "text": [
      "[I 2023-10-30 21:30:19,699] Trial 18 finished with value: 0.6333598778197966 and parameters: {'reg_alpha': 0.0010489272124420135, 'reg_lambda': 0.590305971669966, 'colsample_bytree': 0.6102172991300157, 'subsample': 0.7945481816661765, 'learning_rate': 0.0031998370229435187, 'num_leaves': 15, 'min_child_samples': 87}. Best is trial 17 with value: 0.6328032508448519.\n"
     ]
    },
    {
     "name": "stdout",
     "output_type": "stream",
     "text": [
      "19\n"
     ]
    },
    {
     "name": "stderr",
     "output_type": "stream",
     "text": [
      "[I 2023-10-30 21:30:24,248] Trial 19 finished with value: 0.6349744220375472 and parameters: {'reg_alpha': 0.0034981905343774294, 'reg_lambda': 0.10869425472862834, 'colsample_bytree': 0.5389852367836374, 'subsample': 0.7278729071896293, 'learning_rate': 0.006627195806670507, 'num_leaves': 15, 'min_child_samples': 66}. Best is trial 17 with value: 0.6328032508448519.\n"
     ]
    },
    {
     "name": "stdout",
     "output_type": "stream",
     "text": [
      "20\n"
     ]
    },
    {
     "name": "stderr",
     "output_type": "stream",
     "text": [
      "[I 2023-10-30 21:30:37,487] Trial 20 finished with value: 0.633074714351368 and parameters: {'reg_alpha': 0.002977870183600454, 'reg_lambda': 1.4581407393267343, 'colsample_bytree': 0.6204163118612155, 'subsample': 0.8146908112659041, 'learning_rate': 0.002367242946170212, 'num_leaves': 21, 'min_child_samples': 79}. Best is trial 17 with value: 0.6328032508448519.\n"
     ]
    },
    {
     "name": "stdout",
     "output_type": "stream",
     "text": [
      "21\n"
     ]
    },
    {
     "name": "stderr",
     "output_type": "stream",
     "text": [
      "[I 2023-10-30 21:30:53,178] Trial 21 finished with value: 0.6325988132499344 and parameters: {'reg_alpha': 0.00319397767159448, 'reg_lambda': 1.7928037277678488, 'colsample_bytree': 0.6218408053567362, 'subsample': 0.8165895740155786, 'learning_rate': 0.0020408917523724855, 'num_leaves': 22, 'min_child_samples': 83}. Best is trial 21 with value: 0.6325988132499344.\n"
     ]
    },
    {
     "name": "stdout",
     "output_type": "stream",
     "text": [
      "22\n"
     ]
    },
    {
     "name": "stderr",
     "output_type": "stream",
     "text": [
      "[I 2023-10-30 21:31:07,364] Trial 22 finished with value: 0.6333696532124635 and parameters: {'reg_alpha': 0.0034968602646035718, 'reg_lambda': 1.6316414463909918, 'colsample_bytree': 0.6308819430696698, 'subsample': 0.8129728674262197, 'learning_rate': 0.001889567495317428, 'num_leaves': 22, 'min_child_samples': 87}. Best is trial 21 with value: 0.6325988132499344.\n"
     ]
    },
    {
     "name": "stdout",
     "output_type": "stream",
     "text": [
      "23\n"
     ]
    },
    {
     "name": "stderr",
     "output_type": "stream",
     "text": [
      "[I 2023-10-30 21:31:14,957] Trial 23 finished with value: 0.6321754927816592 and parameters: {'reg_alpha': 0.009469376867494293, 'reg_lambda': 1.5290171920303384, 'colsample_bytree': 0.5478685600041258, 'subsample': 0.8257896153128712, 'learning_rate': 0.004409810079736034, 'num_leaves': 18, 'min_child_samples': 80}. Best is trial 23 with value: 0.6321754927816592.\n"
     ]
    },
    {
     "name": "stdout",
     "output_type": "stream",
     "text": [
      "24\n"
     ]
    },
    {
     "name": "stderr",
     "output_type": "stream",
     "text": [
      "[I 2023-10-30 21:31:18,984] Trial 24 finished with value: 0.6326225261963246 and parameters: {'reg_alpha': 0.009220811105682401, 'reg_lambda': 3.4254375324976287, 'colsample_bytree': 0.5464026858766817, 'subsample': 0.8500146031875402, 'learning_rate': 0.008991725948441717, 'num_leaves': 18, 'min_child_samples': 87}. Best is trial 23 with value: 0.6321754927816592.\n"
     ]
    },
    {
     "name": "stdout",
     "output_type": "stream",
     "text": [
      "25\n"
     ]
    },
    {
     "name": "stderr",
     "output_type": "stream",
     "text": [
      "[I 2023-10-30 21:31:22,608] Trial 25 finished with value: 0.6324122871969953 and parameters: {'reg_alpha': 0.011009220091683201, 'reg_lambda': 3.5578968260310706, 'colsample_bytree': 0.5400404775989528, 'subsample': 0.8492147788487044, 'learning_rate': 0.010893387408478521, 'num_leaves': 19, 'min_child_samples': 85}. Best is trial 23 with value: 0.6321754927816592.\n"
     ]
    },
    {
     "name": "stdout",
     "output_type": "stream",
     "text": [
      "26\n"
     ]
    },
    {
     "name": "stderr",
     "output_type": "stream",
     "text": [
      "[I 2023-10-30 21:31:25,128] Trial 26 finished with value: 0.6351216529558705 and parameters: {'reg_alpha': 0.015039655238249567, 'reg_lambda': 8.341578660363277, 'colsample_bytree': 0.5353116444647861, 'subsample': 0.876623401716012, 'learning_rate': 0.013209142984484452, 'num_leaves': 20, 'min_child_samples': 99}. Best is trial 23 with value: 0.6321754927816592.\n"
     ]
    },
    {
     "name": "stdout",
     "output_type": "stream",
     "text": [
      "27\n"
     ]
    },
    {
     "name": "stderr",
     "output_type": "stream",
     "text": [
      "[I 2023-10-30 21:31:32,120] Trial 27 finished with value: 0.6315673576914059 and parameters: {'reg_alpha': 0.03776479149517723, 'reg_lambda': 3.6288900714394026, 'colsample_bytree': 0.503344023414674, 'subsample': 0.8150687584675402, 'learning_rate': 0.004702384428719484, 'num_leaves': 24, 'min_child_samples': 82}. Best is trial 27 with value: 0.6315673576914059.\n"
     ]
    },
    {
     "name": "stdout",
     "output_type": "stream",
     "text": [
      "28\n"
     ]
    },
    {
     "name": "stderr",
     "output_type": "stream",
     "text": [
      "[I 2023-10-30 21:31:39,490] Trial 28 finished with value: 0.6338907652717479 and parameters: {'reg_alpha': 0.03814853572521956, 'reg_lambda': 3.296117749160657, 'colsample_bytree': 0.5082923375822981, 'subsample': 0.778363039270505, 'learning_rate': 0.004832691890887733, 'num_leaves': 24, 'min_child_samples': 60}. Best is trial 27 with value: 0.6315673576914059.\n"
     ]
    },
    {
     "name": "stdout",
     "output_type": "stream",
     "text": [
      "29\n"
     ]
    },
    {
     "name": "stderr",
     "output_type": "stream",
     "text": [
      "[I 2023-10-30 21:31:41,183] Trial 29 finished with value: 0.6322764253348607 and parameters: {'reg_alpha': 0.0370497351487825, 'reg_lambda': 6.035022451745202, 'colsample_bytree': 0.5455986488790856, 'subsample': 0.8411714606274716, 'learning_rate': 0.03097936298530681, 'num_leaves': 30, 'min_child_samples': 91}. Best is trial 27 with value: 0.6315673576914059.\n"
     ]
    },
    {
     "name": "stdout",
     "output_type": "stream",
     "text": [
      "30\n"
     ]
    },
    {
     "name": "stderr",
     "output_type": "stream",
     "text": [
      "[I 2023-10-30 21:31:42,772] Trial 30 finished with value: 0.634166756534034 and parameters: {'reg_alpha': 0.05195732629696831, 'reg_lambda': 9.718105781678851, 'colsample_bytree': 0.5464109400951787, 'subsample': 0.8986974916026625, 'learning_rate': 0.030017968719142724, 'num_leaves': 31, 'min_child_samples': 94}. Best is trial 27 with value: 0.6315673576914059.\n"
     ]
    },
    {
     "name": "stdout",
     "output_type": "stream",
     "text": [
      "31\n"
     ]
    },
    {
     "name": "stderr",
     "output_type": "stream",
     "text": [
      "[I 2023-10-30 21:31:45,001] Trial 31 finished with value: 0.6326798686590145 and parameters: {'reg_alpha': 0.02369192101388947, 'reg_lambda': 6.363572899884183, 'colsample_bytree': 0.5314364480399785, 'subsample': 0.8386471365676322, 'learning_rate': 0.016262398648075705, 'num_leaves': 29, 'min_child_samples': 92}. Best is trial 27 with value: 0.6315673576914059.\n"
     ]
    },
    {
     "name": "stdout",
     "output_type": "stream",
     "text": [
      "32\n"
     ]
    },
    {
     "name": "stderr",
     "output_type": "stream",
     "text": [
      "[I 2023-10-30 21:31:46,630] Trial 32 finished with value: 0.6330296012403122 and parameters: {'reg_alpha': 0.010973800335006055, 'reg_lambda': 3.740024501466765, 'colsample_bytree': 0.5006898680652554, 'subsample': 0.8585814112646912, 'learning_rate': 0.03447867313883965, 'num_leaves': 24, 'min_child_samples': 77}. Best is trial 27 with value: 0.6315673576914059.\n"
     ]
    },
    {
     "name": "stdout",
     "output_type": "stream",
     "text": [
      "33\n"
     ]
    },
    {
     "name": "stderr",
     "output_type": "stream",
     "text": [
      "[I 2023-10-30 21:31:50,413] Trial 33 finished with value: 0.6330068218836087 and parameters: {'reg_alpha': 0.017203233592761026, 'reg_lambda': 4.582367768381434, 'colsample_bytree': 0.5568567806557505, 'subsample': 0.8007428597908397, 'learning_rate': 0.00901605062065992, 'num_leaves': 29, 'min_child_samples': 84}. Best is trial 27 with value: 0.6315673576914059.\n"
     ]
    },
    {
     "name": "stdout",
     "output_type": "stream",
     "text": [
      "34\n"
     ]
    },
    {
     "name": "stderr",
     "output_type": "stream",
     "text": [
      "[I 2023-10-30 21:31:52,266] Trial 34 finished with value: 0.6357525274130587 and parameters: {'reg_alpha': 0.040010090029266206, 'reg_lambda': 9.65764304819544, 'colsample_bytree': 0.5636595762086342, 'subsample': 0.928572140864258, 'learning_rate': 0.021513824826382928, 'num_leaves': 24, 'min_child_samples': 100}. Best is trial 27 with value: 0.6315673576914059.\n"
     ]
    },
    {
     "name": "stdout",
     "output_type": "stream",
     "text": [
      "35\n"
     ]
    },
    {
     "name": "stderr",
     "output_type": "stream",
     "text": [
      "[I 2023-10-30 21:31:55,434] Trial 35 finished with value: 0.6329369277610597 and parameters: {'reg_alpha': 0.0613050037037505, 'reg_lambda': 2.57584685814866, 'colsample_bytree': 0.5276769588881974, 'subsample': 0.8335044458034873, 'learning_rate': 0.011627488410403576, 'num_leaves': 18, 'min_child_samples': 91}. Best is trial 27 with value: 0.6315673576914059.\n"
     ]
    },
    {
     "name": "stdout",
     "output_type": "stream",
     "text": [
      "36\n"
     ]
    },
    {
     "name": "stderr",
     "output_type": "stream",
     "text": [
      "[I 2023-10-30 21:31:56,904] Trial 36 finished with value: 0.6353315839869542 and parameters: {'reg_alpha': 0.006895124111152282, 'reg_lambda': 5.522564922504478, 'colsample_bytree': 0.6036116492324852, 'subsample': 0.7759470082926224, 'learning_rate': 0.046498173552287955, 'num_leaves': 28, 'min_child_samples': 75}. Best is trial 27 with value: 0.6315673576914059.\n"
     ]
    },
    {
     "name": "stdout",
     "output_type": "stream",
     "text": [
      "37\n"
     ]
    },
    {
     "name": "stderr",
     "output_type": "stream",
     "text": [
      "[I 2023-10-30 21:32:06,328] Trial 37 finished with value: 0.6333114243380326 and parameters: {'reg_alpha': 0.02925896309257075, 'reg_lambda': 2.2082584502097524, 'colsample_bytree': 0.5646303098358638, 'subsample': 0.9310642803586545, 'learning_rate': 0.004170550553500645, 'num_leaves': 30, 'min_child_samples': 63}. Best is trial 27 with value: 0.6315673576914059.\n"
     ]
    },
    {
     "name": "stdout",
     "output_type": "stream",
     "text": [
      "38\n"
     ]
    },
    {
     "name": "stderr",
     "output_type": "stream",
     "text": [
      "[I 2023-10-30 21:32:16,229] Trial 38 finished with value: 0.633531609657289 and parameters: {'reg_alpha': 0.014434735884735142, 'reg_lambda': 4.785732915271303, 'colsample_bytree': 0.5216666552907079, 'subsample': 0.8806933989632022, 'learning_rate': 0.007147214903485967, 'num_leaves': 27, 'min_child_samples': 2}. Best is trial 27 with value: 0.6315673576914059.\n"
     ]
    },
    {
     "name": "stdout",
     "output_type": "stream",
     "text": [
      "39\n"
     ]
    },
    {
     "name": "stderr",
     "output_type": "stream",
     "text": [
      "[I 2023-10-30 21:32:19,406] Trial 39 finished with value: 0.6368378862347218 and parameters: {'reg_alpha': 0.005997009797865194, 'reg_lambda': 0.8020150370526636, 'colsample_bytree': 0.6924929790568106, 'subsample': 0.852678217587594, 'learning_rate': 0.017138241531510254, 'num_leaves': 24, 'min_child_samples': 52}. Best is trial 27 with value: 0.6315673576914059.\n"
     ]
    },
    {
     "name": "stdout",
     "output_type": "stream",
     "text": [
      "40\n"
     ]
    },
    {
     "name": "stderr",
     "output_type": "stream",
     "text": [
      "[I 2023-10-30 21:32:21,742] Trial 40 finished with value: 0.6352227708369387 and parameters: {'reg_alpha': 0.02003844527357518, 'reg_lambda': 2.496853046772367, 'colsample_bytree': 0.6019803601692562, 'subsample': 0.8193717600219219, 'learning_rate': 0.012842374570455659, 'num_leaves': 10, 'min_child_samples': 96}. Best is trial 27 with value: 0.6315673576914059.\n"
     ]
    },
    {
     "name": "stdout",
     "output_type": "stream",
     "text": [
      "41\n"
     ]
    },
    {
     "name": "stderr",
     "output_type": "stream",
     "text": [
      "[I 2023-10-30 21:32:38,061] Trial 41 finished with value: 0.6324421818453989 and parameters: {'reg_alpha': 0.00515343441109808, 'reg_lambda': 1.3357400202799172, 'colsample_bytree': 0.5522126791396845, 'subsample': 0.8052293212394137, 'learning_rate': 0.0019050078497353342, 'num_leaves': 22, 'min_child_samples': 83}. Best is trial 27 with value: 0.6315673576914059.\n"
     ]
    },
    {
     "name": "stdout",
     "output_type": "stream",
     "text": [
      "42\n"
     ]
    },
    {
     "name": "stderr",
     "output_type": "stream",
     "text": [
      "[I 2023-10-30 21:32:45,388] Trial 42 finished with value: 0.6322321305911267 and parameters: {'reg_alpha': 0.005230898751330224, 'reg_lambda': 1.162206248073105, 'colsample_bytree': 0.5221617105579298, 'subsample': 0.7976039097443777, 'learning_rate': 0.004087007049468073, 'num_leaves': 19, 'min_child_samples': 89}. Best is trial 27 with value: 0.6315673576914059.\n"
     ]
    },
    {
     "name": "stdout",
     "output_type": "stream",
     "text": [
      "43\n"
     ]
    },
    {
     "name": "stderr",
     "output_type": "stream",
     "text": [
      "[I 2023-10-30 21:32:52,471] Trial 43 finished with value: 0.6325913339151225 and parameters: {'reg_alpha': 0.008830442845833727, 'reg_lambda': 5.664614695040595, 'colsample_bytree': 0.5211355239982334, 'subsample': 0.8357525208070272, 'learning_rate': 0.004453086188579622, 'num_leaves': 20, 'min_child_samples': 89}. Best is trial 27 with value: 0.6315673576914059.\n"
     ]
    },
    {
     "name": "stdout",
     "output_type": "stream",
     "text": [
      "44\n"
     ]
    },
    {
     "name": "stderr",
     "output_type": "stream",
     "text": [
      "[I 2023-10-30 21:32:57,005] Trial 44 finished with value: 0.6322360317632333 and parameters: {'reg_alpha': 0.013762340061470356, 'reg_lambda': 2.768041344686668, 'colsample_bytree': 0.5091119737728588, 'subsample': 0.8743362423293457, 'learning_rate': 0.00718292287706642, 'num_leaves': 17, 'min_child_samples': 79}. Best is trial 27 with value: 0.6315673576914059.\n"
     ]
    },
    {
     "name": "stdout",
     "output_type": "stream",
     "text": [
      "45\n"
     ]
    },
    {
     "name": "stderr",
     "output_type": "stream",
     "text": [
      "[I 2023-10-30 21:33:05,973] Trial 45 finished with value: 0.6320488527489582 and parameters: {'reg_alpha': 0.025389573030816, 'reg_lambda': 0.9955343953721855, 'colsample_bytree': 0.5080744994877547, 'subsample': 0.8733516216926721, 'learning_rate': 0.0036731138706213268, 'num_leaves': 17, 'min_child_samples': 80}. Best is trial 27 with value: 0.6315673576914059.\n"
     ]
    },
    {
     "name": "stdout",
     "output_type": "stream",
     "text": [
      "46\n"
     ]
    },
    {
     "name": "stderr",
     "output_type": "stream",
     "text": [
      "[I 2023-10-30 21:33:22,378] Trial 46 finished with value: 0.6357573162297332 and parameters: {'reg_alpha': 0.005426418648140039, 'reg_lambda': 0.3317287679623609, 'colsample_bytree': 0.5035162206359536, 'subsample': 0.8861972947615524, 'learning_rate': 0.0014050078057515438, 'num_leaves': 13, 'min_child_samples': 37}. Best is trial 27 with value: 0.6315673576914059.\n"
     ]
    },
    {
     "name": "stdout",
     "output_type": "stream",
     "text": [
      "47\n"
     ]
    },
    {
     "name": "stderr",
     "output_type": "stream",
     "text": [
      "[I 2023-10-30 21:33:30,859] Trial 47 finished with value: 0.6327964644421183 and parameters: {'reg_alpha': 0.023408387249938545, 'reg_lambda': 1.0775526440124052, 'colsample_bytree': 0.5176969247091527, 'subsample': 0.87113508602743, 'learning_rate': 0.004053687233383994, 'num_leaves': 18, 'min_child_samples': 74}. Best is trial 27 with value: 0.6315673576914059.\n"
     ]
    },
    {
     "name": "stdout",
     "output_type": "stream",
     "text": [
      "48\n"
     ]
    },
    {
     "name": "stderr",
     "output_type": "stream",
     "text": [
      "[I 2023-10-30 21:33:36,997] Trial 48 finished with value: 0.6317837164990703 and parameters: {'reg_alpha': 0.09068597375779194, 'reg_lambda': 2.0841160016261533, 'colsample_bytree': 0.578909863907541, 'subsample': 0.9130837766948339, 'learning_rate': 0.0059666367554893456, 'num_leaves': 16, 'min_child_samples': 78}. Best is trial 27 with value: 0.6315673576914059.\n"
     ]
    },
    {
     "name": "stdout",
     "output_type": "stream",
     "text": [
      "49\n"
     ]
    },
    {
     "name": "stderr",
     "output_type": "stream",
     "text": [
      "[I 2023-10-30 21:33:45,725] Trial 49 finished with value: 0.634921790915532 and parameters: {'reg_alpha': 0.09029260899567446, 'reg_lambda': 0.9648772895781104, 'colsample_bytree': 0.581715144819252, 'subsample': 0.9118926931885087, 'learning_rate': 0.003284080227073324, 'num_leaves': 14, 'min_child_samples': 54}. Best is trial 27 with value: 0.6315673576914059.\n"
     ]
    },
    {
     "name": "stdout",
     "output_type": "stream",
     "text": [
      "50\n"
     ]
    },
    {
     "name": "stderr",
     "output_type": "stream",
     "text": [
      "[I 2023-10-30 21:33:50,397] Trial 50 finished with value: 0.6348603504177385 and parameters: {'reg_alpha': 0.2153721827245827, 'reg_lambda': 1.9742740861418782, 'colsample_bytree': 0.5634644974533026, 'subsample': 0.7626044729018979, 'learning_rate': 0.00599602470003925, 'num_leaves': 9, 'min_child_samples': 20}. Best is trial 27 with value: 0.6315673576914059.\n"
     ]
    },
    {
     "name": "stdout",
     "output_type": "stream",
     "text": [
      "51\n"
     ]
    },
    {
     "name": "stderr",
     "output_type": "stream",
     "text": [
      "[I 2023-10-30 21:33:54,976] Trial 51 finished with value: 0.6313212489743095 and parameters: {'reg_alpha': 0.05202844675639908, 'reg_lambda': 2.5328314971904256, 'colsample_bytree': 0.5011956547104787, 'subsample': 0.9020352704016138, 'learning_rate': 0.00795653380066063, 'num_leaves': 17, 'min_child_samples': 79}. Best is trial 51 with value: 0.6313212489743095.\n"
     ]
    },
    {
     "name": "stdout",
     "output_type": "stream",
     "text": [
      "52\n"
     ]
    },
    {
     "name": "stderr",
     "output_type": "stream",
     "text": [
      "[I 2023-10-30 21:34:01,462] Trial 52 finished with value: 0.6315779203303181 and parameters: {'reg_alpha': 0.066698069875658, 'reg_lambda': 1.3374573473870075, 'colsample_bytree': 0.5188705909125275, 'subsample': 0.9492967020045255, 'learning_rate': 0.0053014208569191115, 'num_leaves': 17, 'min_child_samples': 80}. Best is trial 51 with value: 0.6313212489743095.\n"
     ]
    },
    {
     "name": "stdout",
     "output_type": "stream",
     "text": [
      "53\n"
     ]
    },
    {
     "name": "stderr",
     "output_type": "stream",
     "text": [
      "[I 2023-10-30 21:34:07,289] Trial 53 finished with value: 0.6333620117892564 and parameters: {'reg_alpha': 0.06878712101147244, 'reg_lambda': 2.0410986642187834, 'colsample_bytree': 0.5869982919925167, 'subsample': 0.9401351044542605, 'learning_rate': 0.005711990391380848, 'num_leaves': 16, 'min_child_samples': 71}. Best is trial 51 with value: 0.6313212489743095.\n"
     ]
    },
    {
     "name": "stdout",
     "output_type": "stream",
     "text": [
      "54\n"
     ]
    },
    {
     "name": "stderr",
     "output_type": "stream",
     "text": [
      "[I 2023-10-30 21:34:11,748] Trial 54 finished with value: 0.6319529158356926 and parameters: {'reg_alpha': 0.10207612961396946, 'reg_lambda': 0.5635183841256266, 'colsample_bytree': 0.500895550992495, 'subsample': 0.9410216953047413, 'learning_rate': 0.008135853978721243, 'num_leaves': 16, 'min_child_samples': 80}. Best is trial 51 with value: 0.6313212489743095.\n"
     ]
    },
    {
     "name": "stdout",
     "output_type": "stream",
     "text": [
      "55\n"
     ]
    },
    {
     "name": "stderr",
     "output_type": "stream",
     "text": [
      "[I 2023-10-30 21:34:15,948] Trial 55 finished with value: 0.6333721213448346 and parameters: {'reg_alpha': 0.09564756705242546, 'reg_lambda': 0.6312178191090121, 'colsample_bytree': 0.504444649052244, 'subsample': 0.960456175834508, 'learning_rate': 0.008368926801479583, 'num_leaves': 16, 'min_child_samples': 64}. Best is trial 51 with value: 0.6313212489743095.\n"
     ]
    },
    {
     "name": "stdout",
     "output_type": "stream",
     "text": [
      "56\n"
     ]
    },
    {
     "name": "stderr",
     "output_type": "stream",
     "text": [
      "[I 2023-10-30 21:34:20,009] Trial 56 finished with value: 0.6341345041599862 and parameters: {'reg_alpha': 0.14963602479382146, 'reg_lambda': 0.4509482826278381, 'colsample_bytree': 0.5271748484117205, 'subsample': 0.9031683886610685, 'learning_rate': 0.008003751700165967, 'num_leaves': 13, 'min_child_samples': 69}. Best is trial 51 with value: 0.6313212489743095.\n"
     ]
    },
    {
     "name": "stdout",
     "output_type": "stream",
     "text": [
      "57\n"
     ]
    },
    {
     "name": "stderr",
     "output_type": "stream",
     "text": [
      "[I 2023-10-30 21:34:24,963] Trial 57 finished with value: 0.632933644980017 and parameters: {'reg_alpha': 0.05059752565081305, 'reg_lambda': 0.8478612243418043, 'colsample_bytree': 0.5007087172331812, 'subsample': 0.9998234262299732, 'learning_rate': 0.005651149170722941, 'num_leaves': 11, 'min_child_samples': 75}. Best is trial 51 with value: 0.6313212489743095.\n"
     ]
    },
    {
     "name": "stdout",
     "output_type": "stream",
     "text": [
      "58\n"
     ]
    },
    {
     "name": "stderr",
     "output_type": "stream",
     "text": [
      "[I 2023-10-30 21:34:33,680] Trial 58 finished with value: 0.6326699436917972 and parameters: {'reg_alpha': 0.08567588902265753, 'reg_lambda': 0.19922367253382278, 'colsample_bytree': 0.5672007033955109, 'subsample': 0.9587858595722152, 'learning_rate': 0.0032798634982607634, 'num_leaves': 14, 'min_child_samples': 80}. Best is trial 51 with value: 0.6313212489743095.\n"
     ]
    },
    {
     "name": "stdout",
     "output_type": "stream",
     "text": [
      "59\n"
     ]
    },
    {
     "name": "stderr",
     "output_type": "stream",
     "text": [
      "[I 2023-10-30 21:34:46,277] Trial 59 finished with value: 0.6333679462139512 and parameters: {'reg_alpha': 0.1223647206641949, 'reg_lambda': 1.3750418882004491, 'colsample_bytree': 0.5308193436485846, 'subsample': 0.8957791763001676, 'learning_rate': 0.0023820526826368008, 'num_leaves': 17, 'min_child_samples': 73}. Best is trial 51 with value: 0.6313212489743095.\n"
     ]
    },
    {
     "name": "stdout",
     "output_type": "stream",
     "text": [
      "60\n"
     ]
    },
    {
     "name": "stderr",
     "output_type": "stream",
     "text": [
      "[I 2023-10-30 21:34:50,933] Trial 60 finished with value: 0.635140091914518 and parameters: {'reg_alpha': 0.051849557085886726, 'reg_lambda': 0.4353975487067325, 'colsample_bytree': 0.6425694605703121, 'subsample': 0.967468476794889, 'learning_rate': 0.006812548900009221, 'num_leaves': 14, 'min_child_samples': 68}. Best is trial 51 with value: 0.6313212489743095.\n"
     ]
    },
    {
     "name": "stdout",
     "output_type": "stream",
     "text": [
      "61\n"
     ]
    },
    {
     "name": "stderr",
     "output_type": "stream",
     "text": [
      "[I 2023-10-30 21:34:57,140] Trial 61 finished with value: 0.6318373414083617 and parameters: {'reg_alpha': 0.07682734007208222, 'reg_lambda': 1.9071884578018352, 'colsample_bytree': 0.5421469444230101, 'subsample': 0.9185625856404348, 'learning_rate': 0.004938489148750569, 'num_leaves': 16, 'min_child_samples': 80}. Best is trial 51 with value: 0.6313212489743095.\n"
     ]
    },
    {
     "name": "stdout",
     "output_type": "stream",
     "text": [
      "62\n"
     ]
    },
    {
     "name": "stderr",
     "output_type": "stream",
     "text": [
      "[I 2023-10-30 21:35:02,906] Trial 62 finished with value: 0.6327578142372808 and parameters: {'reg_alpha': 0.07104043064907181, 'reg_lambda': 1.1088023623371623, 'colsample_bytree': 0.5176018309753868, 'subsample': 0.9116325968071948, 'learning_rate': 0.00559725162597035, 'num_leaves': 16, 'min_child_samples': 82}. Best is trial 51 with value: 0.6313212489743095.\n"
     ]
    },
    {
     "name": "stdout",
     "output_type": "stream",
     "text": [
      "63\n"
     ]
    },
    {
     "name": "stderr",
     "output_type": "stream",
     "text": [
      "[I 2023-10-30 21:35:07,077] Trial 63 finished with value: 0.6320765221702892 and parameters: {'reg_alpha': 0.1825707846418002, 'reg_lambda': 1.8299081645314728, 'colsample_bytree': 0.5372016670476042, 'subsample': 0.9251534393111989, 'learning_rate': 0.009308757474609844, 'num_leaves': 20, 'min_child_samples': 78}. Best is trial 51 with value: 0.6313212489743095.\n"
     ]
    },
    {
     "name": "stdout",
     "output_type": "stream",
     "text": [
      "64\n"
     ]
    },
    {
     "name": "stderr",
     "output_type": "stream",
     "text": [
      "[I 2023-10-30 21:35:11,478] Trial 64 finished with value: 0.6356097339197224 and parameters: {'reg_alpha': 0.03364554116644709, 'reg_lambda': 2.6668774737230443, 'colsample_bytree': 0.575617074377794, 'subsample': 0.9392273211445625, 'learning_rate': 0.005135808007907123, 'num_leaves': 4, 'min_child_samples': 85}. Best is trial 51 with value: 0.6313212489743095.\n"
     ]
    },
    {
     "name": "stdout",
     "output_type": "stream",
     "text": [
      "65\n"
     ]
    },
    {
     "name": "stderr",
     "output_type": "stream",
     "text": [
      "[I 2023-10-30 21:35:19,366] Trial 65 finished with value: 0.632958482868396 and parameters: {'reg_alpha': 0.2849892521057928, 'reg_lambda': 0.7407135486149973, 'colsample_bytree': 0.5533218258598109, 'subsample': 0.8941783625789107, 'learning_rate': 0.003700210492815781, 'num_leaves': 15, 'min_child_samples': 76}. Best is trial 51 with value: 0.6313212489743095.\n"
     ]
    },
    {
     "name": "stdout",
     "output_type": "stream",
     "text": [
      "66\n"
     ]
    },
    {
     "name": "stderr",
     "output_type": "stream",
     "text": [
      "[I 2023-10-30 21:35:29,021] Trial 66 finished with value: 0.6344097165661827 and parameters: {'reg_alpha': 0.10843428830044094, 'reg_lambda': 1.6393594572211707, 'colsample_bytree': 0.5177743745024784, 'subsample': 0.9473035545890802, 'learning_rate': 0.003173535864978711, 'num_leaves': 17, 'min_child_samples': 45}. Best is trial 51 with value: 0.6313212489743095.\n"
     ]
    },
    {
     "name": "stdout",
     "output_type": "stream",
     "text": [
      "67\n"
     ]
    },
    {
     "name": "stderr",
     "output_type": "stream",
     "text": [
      "[I 2023-10-30 21:35:39,755] Trial 67 finished with value: 0.6348011630078741 and parameters: {'reg_alpha': 0.044285342477045325, 'reg_lambda': 3.2696447436879166, 'colsample_bytree': 0.5431811090016865, 'subsample': 0.9218094124470585, 'learning_rate': 0.002492618752257893, 'num_leaves': 13, 'min_child_samples': 56}. Best is trial 51 with value: 0.6313212489743095.\n"
     ]
    },
    {
     "name": "stdout",
     "output_type": "stream",
     "text": [
      "68\n"
     ]
    },
    {
     "name": "stderr",
     "output_type": "stream",
     "text": [
      "[I 2023-10-30 21:35:43,595] Trial 68 finished with value: 0.634609476093259 and parameters: {'reg_alpha': 0.07385462631330807, 'reg_lambda': 4.448104053568429, 'colsample_bytree': 0.5976505336433118, 'subsample': 0.9745439591837489, 'learning_rate': 0.007986062664358418, 'num_leaves': 19, 'min_child_samples': 95}. Best is trial 51 with value: 0.6313212489743095.\n"
     ]
    },
    {
     "name": "stdout",
     "output_type": "stream",
     "text": [
      "69\n"
     ]
    },
    {
     "name": "stderr",
     "output_type": "stream",
     "text": [
      "[I 2023-10-30 21:35:47,051] Trial 69 finished with value: 0.6333523177438155 and parameters: {'reg_alpha': 0.027049139274278634, 'reg_lambda': 1.0496729258690123, 'colsample_bytree': 0.5752021080365116, 'subsample': 0.9113726492741131, 'learning_rate': 0.010374771891259774, 'num_leaves': 21, 'min_child_samples': 87}. Best is trial 51 with value: 0.6313212489743095.\n"
     ]
    },
    {
     "name": "stdout",
     "output_type": "stream",
     "text": [
      "70\n"
     ]
    },
    {
     "name": "stderr",
     "output_type": "stream",
     "text": [
      "[I 2023-10-30 21:35:53,882] Trial 70 finished with value: 0.6322730473907321 and parameters: {'reg_alpha': 0.1451503976761195, 'reg_lambda': 0.687599462163971, 'colsample_bytree': 0.5367997831980992, 'subsample': 0.9417900902198509, 'learning_rate': 0.004838735918507318, 'num_leaves': 15, 'min_child_samples': 81}. Best is trial 51 with value: 0.6313212489743095.\n"
     ]
    },
    {
     "name": "stdout",
     "output_type": "stream",
     "text": [
      "71\n"
     ]
    },
    {
     "name": "stderr",
     "output_type": "stream",
     "text": [
      "[I 2023-10-30 21:35:57,885] Trial 71 finished with value: 0.6322029066338244 and parameters: {'reg_alpha': 0.05840373565793631, 'reg_lambda': 1.9679156433010494, 'colsample_bytree': 0.5010383371414097, 'subsample': 0.921807776600778, 'learning_rate': 0.009596366864514974, 'num_leaves': 20, 'min_child_samples': 78}. Best is trial 51 with value: 0.6313212489743095.\n"
     ]
    },
    {
     "name": "stdout",
     "output_type": "stream",
     "text": [
      "72\n"
     ]
    },
    {
     "name": "stderr",
     "output_type": "stream",
     "text": [
      "[I 2023-10-30 21:36:03,950] Trial 72 finished with value: 0.6328989184239527 and parameters: {'reg_alpha': 0.11390952334137858, 'reg_lambda': 1.5710896476444742, 'colsample_bytree': 0.5357659037278655, 'subsample': 0.8888178618869856, 'learning_rate': 0.00694200388164497, 'num_leaves': 23, 'min_child_samples': 71}. Best is trial 51 with value: 0.6313212489743095.\n"
     ]
    },
    {
     "name": "stdout",
     "output_type": "stream",
     "text": [
      "73\n"
     ]
    },
    {
     "name": "stderr",
     "output_type": "stream",
     "text": [
      "[I 2023-10-30 21:36:08,025] Trial 73 finished with value: 0.6321661457193114 and parameters: {'reg_alpha': 0.03399365513556465, 'reg_lambda': 2.1642144046353726, 'colsample_bytree': 0.552160353786655, 'subsample': 0.9537260374857167, 'learning_rate': 0.009417111065367864, 'num_leaves': 18, 'min_child_samples': 78}. Best is trial 51 with value: 0.6313212489743095.\n"
     ]
    },
    {
     "name": "stdout",
     "output_type": "stream",
     "text": [
      "74\n"
     ]
    },
    {
     "name": "stderr",
     "output_type": "stream",
     "text": [
      "[I 2023-10-30 21:36:10,892] Trial 74 finished with value: 0.6315499873743304 and parameters: {'reg_alpha': 0.17240679481662102, 'reg_lambda': 1.2943087516670368, 'colsample_bytree': 0.5150607571344268, 'subsample': 0.9805112044907688, 'learning_rate': 0.014214564225114948, 'num_leaves': 16, 'min_child_samples': 85}. Best is trial 51 with value: 0.6313212489743095.\n"
     ]
    },
    {
     "name": "stdout",
     "output_type": "stream",
     "text": [
      "75\n"
     ]
    },
    {
     "name": "stderr",
     "output_type": "stream",
     "text": [
      "[I 2023-10-30 21:36:13,494] Trial 75 finished with value: 0.6319418750421457 and parameters: {'reg_alpha': 0.04223460442088106, 'reg_lambda': 1.316201593193929, 'colsample_bytree': 0.5171201556699034, 'subsample': 0.9724231287732474, 'learning_rate': 0.013516246386459648, 'num_leaves': 16, 'min_child_samples': 85}. Best is trial 51 with value: 0.6313212489743095.\n"
     ]
    },
    {
     "name": "stdout",
     "output_type": "stream",
     "text": [
      "76\n"
     ]
    },
    {
     "name": "stderr",
     "output_type": "stream",
     "text": [
      "[I 2023-10-30 21:36:16,230] Trial 76 finished with value: 0.6329123019547401 and parameters: {'reg_alpha': 0.04677046583336927, 'reg_lambda': 1.3717585562460355, 'colsample_bytree': 0.5191844397562801, 'subsample': 0.9797022503465204, 'learning_rate': 0.012936590792340065, 'num_leaves': 15, 'min_child_samples': 85}. Best is trial 51 with value: 0.6313212489743095.\n"
     ]
    },
    {
     "name": "stdout",
     "output_type": "stream",
     "text": [
      "77\n"
     ]
    },
    {
     "name": "stderr",
     "output_type": "stream",
     "text": [
      "[I 2023-10-30 21:36:18,522] Trial 77 finished with value: 0.6333154905146051 and parameters: {'reg_alpha': 0.0774360915179976, 'reg_lambda': 2.983044282089413, 'colsample_bytree': 0.5586060352105217, 'subsample': 0.988072205996974, 'learning_rate': 0.015015686995527137, 'num_leaves': 12, 'min_child_samples': 93}. Best is trial 51 with value: 0.6313212489743095.\n"
     ]
    },
    {
     "name": "stdout",
     "output_type": "stream",
     "text": [
      "78\n"
     ]
    },
    {
     "name": "stderr",
     "output_type": "stream",
     "text": [
      "[I 2023-10-30 21:36:20,849] Trial 78 finished with value: 0.6327286009963715 and parameters: {'reg_alpha': 0.10102323064993123, 'reg_lambda': 3.961077398834194, 'colsample_bytree': 0.5309846552511428, 'subsample': 0.9655346559314493, 'learning_rate': 0.021508650834613893, 'num_leaves': 16, 'min_child_samples': 90}. Best is trial 51 with value: 0.6313212489743095.\n"
     ]
    },
    {
     "name": "stdout",
     "output_type": "stream",
     "text": [
      "79\n"
     ]
    },
    {
     "name": "stderr",
     "output_type": "stream",
     "text": [
      "[I 2023-10-30 21:36:23,897] Trial 79 finished with value: 0.6336448195180862 and parameters: {'reg_alpha': 0.064151026095029, 'reg_lambda': 2.430252009170729, 'colsample_bytree': 0.5464659074167539, 'subsample': 0.9507972126800834, 'learning_rate': 0.011202420732377125, 'num_leaves': 14, 'min_child_samples': 96}. Best is trial 51 with value: 0.6313212489743095.\n"
     ]
    },
    {
     "name": "stdout",
     "output_type": "stream",
     "text": [
      "80\n"
     ]
    },
    {
     "name": "stderr",
     "output_type": "stream",
     "text": [
      "[I 2023-10-30 21:36:29,560] Trial 80 finished with value: 0.6320791891690022 and parameters: {'reg_alpha': 0.03878589555429093, 'reg_lambda': 3.8200441378704904, 'colsample_bytree': 0.5143249084389906, 'subsample': 0.9736321781436904, 'learning_rate': 0.006452945794777467, 'num_leaves': 18, 'min_child_samples': 84}. Best is trial 51 with value: 0.6313212489743095.\n"
     ]
    },
    {
     "name": "stdout",
     "output_type": "stream",
     "text": [
      "81\n"
     ]
    },
    {
     "name": "stderr",
     "output_type": "stream",
     "text": [
      "[I 2023-10-30 21:36:35,791] Trial 81 finished with value: 0.6318374149566236 and parameters: {'reg_alpha': 0.026510348246926135, 'reg_lambda': 0.878635632059222, 'colsample_bytree': 0.5082385093896873, 'subsample': 0.9335192887111892, 'learning_rate': 0.004905331477303255, 'num_leaves': 17, 'min_child_samples': 83}. Best is trial 51 with value: 0.6313212489743095.\n"
     ]
    },
    {
     "name": "stdout",
     "output_type": "stream",
     "text": [
      "82\n"
     ]
    },
    {
     "name": "stderr",
     "output_type": "stream",
     "text": [
      "[I 2023-10-30 21:36:42,709] Trial 82 finished with value: 0.6319374313981401 and parameters: {'reg_alpha': 0.05549438464887295, 'reg_lambda': 1.3103609017377462, 'colsample_bytree': 0.5248750237967239, 'subsample': 0.9334920034406732, 'learning_rate': 0.004691953331452023, 'num_leaves': 16, 'min_child_samples': 87}. Best is trial 51 with value: 0.6313212489743095.\n"
     ]
    },
    {
     "name": "stdout",
     "output_type": "stream",
     "text": [
      "83\n"
     ]
    },
    {
     "name": "stderr",
     "output_type": "stream",
     "text": [
      "[I 2023-10-30 21:36:49,474] Trial 83 finished with value: 0.6321784776981424 and parameters: {'reg_alpha': 0.05811058153319116, 'reg_lambda': 1.1664867441176001, 'colsample_bytree': 0.5244500100198888, 'subsample': 0.9566972772932073, 'learning_rate': 0.00477467773200463, 'num_leaves': 17, 'min_child_samples': 89}. Best is trial 51 with value: 0.6313212489743095.\n"
     ]
    },
    {
     "name": "stdout",
     "output_type": "stream",
     "text": [
      "84\n"
     ]
    },
    {
     "name": "stderr",
     "output_type": "stream",
     "text": [
      "[I 2023-10-30 21:37:01,280] Trial 84 finished with value: 0.6321881071951144 and parameters: {'reg_alpha': 0.031293387472403796, 'reg_lambda': 1.3777187630772432, 'colsample_bytree': 0.5671548016319206, 'subsample': 0.9334910812109509, 'learning_rate': 0.002784542433411268, 'num_leaves': 19, 'min_child_samples': 83}. Best is trial 51 with value: 0.6313212489743095.\n"
     ]
    },
    {
     "name": "stdout",
     "output_type": "stream",
     "text": [
      "85\n"
     ]
    },
    {
     "name": "stderr",
     "output_type": "stream",
     "text": [
      "[I 2023-10-30 21:37:07,410] Trial 85 finished with value: 0.6330495892022425 and parameters: {'reg_alpha': 0.019326692176564967, 'reg_lambda': 7.557447462223756, 'colsample_bytree': 0.5415210075732999, 'subsample': 0.9038674200714724, 'learning_rate': 0.005478344853840576, 'num_leaves': 15, 'min_child_samples': 87}. Best is trial 51 with value: 0.6313212489743095.\n"
     ]
    },
    {
     "name": "stdout",
     "output_type": "stream",
     "text": [
      "86\n"
     ]
    },
    {
     "name": "stderr",
     "output_type": "stream",
     "text": [
      "[I 2023-10-30 21:37:15,598] Trial 86 finished with value: 0.632418384530333 and parameters: {'reg_alpha': 0.04117233330882506, 'reg_lambda': 0.8125563892821689, 'colsample_bytree': 0.5130711494516842, 'subsample': 0.9277771664878649, 'learning_rate': 0.003992303456061654, 'num_leaves': 18, 'min_child_samples': 86}. Best is trial 51 with value: 0.6313212489743095.\n"
     ]
    },
    {
     "name": "stdout",
     "output_type": "stream",
     "text": [
      "87\n"
     ]
    },
    {
     "name": "stderr",
     "output_type": "stream",
     "text": [
      "[I 2023-10-30 21:37:21,851] Trial 87 finished with value: 0.6335968269034684 and parameters: {'reg_alpha': 0.048282829549951695, 'reg_lambda': 2.6851258848292865, 'colsample_bytree': 0.5280897621467951, 'subsample': 0.9178499588190155, 'learning_rate': 0.00468725557584086, 'num_leaves': 16, 'min_child_samples': 97}. Best is trial 51 with value: 0.6313212489743095.\n"
     ]
    },
    {
     "name": "stdout",
     "output_type": "stream",
     "text": [
      "88\n"
     ]
    },
    {
     "name": "stderr",
     "output_type": "stream",
     "text": [
      "[I 2023-10-30 21:37:27,357] Trial 88 finished with value: 0.6328792035523214 and parameters: {'reg_alpha': 0.08065170693995465, 'reg_lambda': 1.8286926841524185, 'colsample_bytree': 0.5558083251015165, 'subsample': 0.9890549753904854, 'learning_rate': 0.006590754008563752, 'num_leaves': 19, 'min_child_samples': 93}. Best is trial 51 with value: 0.6313212489743095.\n"
     ]
    },
    {
     "name": "stdout",
     "output_type": "stream",
     "text": [
      "89\n"
     ]
    },
    {
     "name": "stderr",
     "output_type": "stream",
     "text": [
      "[I 2023-10-30 21:37:30,729] Trial 89 finished with value: 0.6325340183592116 and parameters: {'reg_alpha': 0.030070921094138958, 'reg_lambda': 4.442430747409409, 'colsample_bytree': 0.5116538356337526, 'subsample': 0.9526332685990239, 'learning_rate': 0.012097944720985805, 'num_leaves': 21, 'min_child_samples': 82}. Best is trial 51 with value: 0.6313212489743095.\n"
     ]
    },
    {
     "name": "stdout",
     "output_type": "stream",
     "text": [
      "90\n"
     ]
    },
    {
     "name": "stderr",
     "output_type": "stream",
     "text": [
      "[I 2023-10-30 21:37:34,854] Trial 90 finished with value: 0.6337944561234684 and parameters: {'reg_alpha': 0.024512125845353176, 'reg_lambda': 3.040038314381982, 'colsample_bytree': 0.5925724332785448, 'subsample': 0.861517919514686, 'learning_rate': 0.007825523879584254, 'num_leaves': 14, 'min_child_samples': 73}. Best is trial 51 with value: 0.6313212489743095.\n"
     ]
    },
    {
     "name": "stdout",
     "output_type": "stream",
     "text": [
      "91\n"
     ]
    },
    {
     "name": "stderr",
     "output_type": "stream",
     "text": [
      "[I 2023-10-30 21:37:38,753] Trial 91 finished with value: 0.6335277954606892 and parameters: {'reg_alpha': 0.09134232744269376, 'reg_lambda': 0.5444658333284395, 'colsample_bytree': 0.5003150309441685, 'subsample': 0.9402792246014614, 'learning_rate': 0.007994504500385009, 'num_leaves': 16, 'min_child_samples': 77}. Best is trial 51 with value: 0.6313212489743095.\n"
     ]
    },
    {
     "name": "stdout",
     "output_type": "stream",
     "text": [
      "92\n"
     ]
    },
    {
     "name": "stderr",
     "output_type": "stream",
     "text": [
      "[I 2023-10-30 21:37:44,189] Trial 92 finished with value: 0.6323600604276363 and parameters: {'reg_alpha': 0.13254439404274657, 'reg_lambda': 0.9355325698696947, 'colsample_bytree': 0.5126184835373503, 'subsample': 0.9664341381504428, 'learning_rate': 0.00594502464508049, 'num_leaves': 17, 'min_child_samples': 88}. Best is trial 51 with value: 0.6313212489743095.\n"
     ]
    },
    {
     "name": "stdout",
     "output_type": "stream",
     "text": [
      "93\n"
     ]
    },
    {
     "name": "stderr",
     "output_type": "stream",
     "text": [
      "[I 2023-10-30 21:37:47,796] Trial 93 finished with value: 0.632267385288737 and parameters: {'reg_alpha': 0.06657586027413252, 'reg_lambda': 1.278005473266833, 'colsample_bytree': 0.5288251110890542, 'subsample': 0.9337782475690671, 'learning_rate': 0.009627392157106741, 'num_leaves': 13, 'min_child_samples': 80}. Best is trial 51 with value: 0.6313212489743095.\n"
     ]
    },
    {
     "name": "stdout",
     "output_type": "stream",
     "text": [
      "94\n"
     ]
    },
    {
     "name": "stderr",
     "output_type": "stream",
     "text": [
      "[I 2023-10-30 21:37:56,312] Trial 94 finished with value: 0.6326463326727315 and parameters: {'reg_alpha': 0.05487300959695863, 'reg_lambda': 1.729231232105567, 'colsample_bytree': 0.5440275331622383, 'subsample': 0.9072800207406766, 'learning_rate': 0.003488001753256155, 'num_leaves': 16, 'min_child_samples': 91}. Best is trial 51 with value: 0.6313212489743095.\n"
     ]
    },
    {
     "name": "stdout",
     "output_type": "stream",
     "text": [
      "95\n"
     ]
    },
    {
     "name": "stderr",
     "output_type": "stream",
     "text": [
      "[I 2023-10-30 21:37:59,271] Trial 95 finished with value: 0.6331291315427989 and parameters: {'reg_alpha': 0.1027946513892623, 'reg_lambda': 2.371005451284234, 'colsample_bytree': 0.5257256992129399, 'subsample': 0.9482483548174102, 'learning_rate': 0.014570898619525458, 'num_leaves': 15, 'min_child_samples': 75}. Best is trial 51 with value: 0.6313212489743095.\n"
     ]
    },
    {
     "name": "stdout",
     "output_type": "stream",
     "text": [
      "96\n"
     ]
    },
    {
     "name": "stderr",
     "output_type": "stream",
     "text": [
      "[I 2023-10-30 21:38:04,843] Trial 96 finished with value: 0.6327841855919295 and parameters: {'reg_alpha': 0.039981828067132, 'reg_lambda': 0.8919049015970294, 'colsample_bytree': 0.5117869846952893, 'subsample': 0.8843959245585571, 'learning_rate': 0.005162760944612034, 'num_leaves': 11, 'min_child_samples': 82}. Best is trial 51 with value: 0.6313212489743095.\n"
     ]
    },
    {
     "name": "stdout",
     "output_type": "stream",
     "text": [
      "97\n"
     ]
    },
    {
     "name": "stderr",
     "output_type": "stream",
     "text": [
      "[I 2023-10-30 21:38:12,405] Trial 97 finished with value: 0.6322266113029272 and parameters: {'reg_alpha': 0.1773470150614669, 'reg_lambda': 1.5159432132690263, 'colsample_bytree': 0.5006782745553785, 'subsample': 0.9787953225491731, 'learning_rate': 0.004231949930610681, 'num_leaves': 17, 'min_child_samples': 85}. Best is trial 51 with value: 0.6313212489743095.\n"
     ]
    },
    {
     "name": "stdout",
     "output_type": "stream",
     "text": [
      "98\n"
     ]
    },
    {
     "name": "stderr",
     "output_type": "stream",
     "text": [
      "[I 2023-10-30 21:38:17,873] Trial 98 finished with value: 0.6325889815678328 and parameters: {'reg_alpha': 0.08298778571677258, 'reg_lambda': 0.7041949081955436, 'colsample_bytree': 0.5751776440056673, 'subsample': 0.9270997108503553, 'learning_rate': 0.007340758299118162, 'num_leaves': 18, 'min_child_samples': 71}. Best is trial 51 with value: 0.6313212489743095.\n"
     ]
    },
    {
     "name": "stdout",
     "output_type": "stream",
     "text": [
      "99\n"
     ]
    },
    {
     "name": "stderr",
     "output_type": "stream",
     "text": [
      "[I 2023-10-30 21:38:20,344] Trial 99 finished with value: 0.6322464959265367 and parameters: {'reg_alpha': 0.1274089983109901, 'reg_lambda': 1.1599117909003192, 'colsample_bytree': 0.553755445780381, 'subsample': 0.9000321837542888, 'learning_rate': 0.01738808073847859, 'num_leaves': 14, 'min_child_samples': 80}. Best is trial 51 with value: 0.6313212489743095.\n"
     ]
    },
    {
     "name": "stdout",
     "output_type": "stream",
     "text": [
      "100\n"
     ]
    },
    {
     "name": "stderr",
     "output_type": "stream",
     "text": [
      "[I 2023-10-30 21:38:23,717] Trial 100 finished with value: 0.6336735694414436 and parameters: {'reg_alpha': 0.06923128374822803, 'reg_lambda': 2.3990881736237792, 'colsample_bytree': 0.5365221739867, 'subsample': 0.9156181402960131, 'learning_rate': 0.011373245014835992, 'num_leaves': 15, 'min_child_samples': 76}. Best is trial 51 with value: 0.6313212489743095.\n"
     ]
    },
    {
     "name": "stdout",
     "output_type": "stream",
     "text": [
      "101\n"
     ]
    },
    {
     "name": "stderr",
     "output_type": "stream",
     "text": [
      "[I 2023-10-30 21:38:32,249] Trial 101 finished with value: 0.6312505505937492 and parameters: {'reg_alpha': 0.046918022306084856, 'reg_lambda': 0.9188563635385238, 'colsample_bytree': 0.5090929056657377, 'subsample': 0.8627739028744885, 'learning_rate': 0.003835462933324096, 'num_leaves': 17, 'min_child_samples': 83}. Best is trial 101 with value: 0.6312505505937492.\n"
     ]
    },
    {
     "name": "stdout",
     "output_type": "stream",
     "text": [
      "102\n"
     ]
    },
    {
     "name": "stderr",
     "output_type": "stream",
     "text": [
      "[I 2023-10-30 21:38:44,919] Trial 102 finished with value: 0.6322120578904756 and parameters: {'reg_alpha': 0.047027753142154724, 'reg_lambda': 0.5883859914960825, 'colsample_bytree': 0.5183715904761449, 'subsample': 0.8632592341924381, 'learning_rate': 0.0028169805201372377, 'num_leaves': 17, 'min_child_samples': 17}. Best is trial 101 with value: 0.6312505505937492.\n"
     ]
    },
    {
     "name": "stdout",
     "output_type": "stream",
     "text": [
      "103\n"
     ]
    },
    {
     "name": "stderr",
     "output_type": "stream",
     "text": [
      "[I 2023-10-30 21:38:53,285] Trial 103 finished with value: 0.6328576048197144 and parameters: {'reg_alpha': 0.0332556495775225, 'reg_lambda': 0.9605153858289965, 'colsample_bytree': 0.5002020513300288, 'subsample': 0.8920561951559441, 'learning_rate': 0.0037068970133349887, 'num_leaves': 16, 'min_child_samples': 66}. Best is trial 101 with value: 0.6312505505937492.\n"
     ]
    },
    {
     "name": "stdout",
     "output_type": "stream",
     "text": [
      "104\n"
     ]
    },
    {
     "name": "stderr",
     "output_type": "stream",
     "text": [
      "[I 2023-10-30 21:38:58,637] Trial 104 finished with value: 0.6324341205446354 and parameters: {'reg_alpha': 0.05762686518304846, 'reg_lambda': 1.978832725956448, 'colsample_bytree': 0.5263782362612057, 'subsample': 0.9425199778444434, 'learning_rate': 0.006139929283736977, 'num_leaves': 20, 'min_child_samples': 83}. Best is trial 101 with value: 0.6312505505937492.\n"
     ]
    },
    {
     "name": "stdout",
     "output_type": "stream",
     "text": [
      "105\n"
     ]
    },
    {
     "name": "stderr",
     "output_type": "stream",
     "text": [
      "[I 2023-10-30 21:39:05,101] Trial 105 finished with value: 0.6317351848380535 and parameters: {'reg_alpha': 0.023010427097005393, 'reg_lambda': 1.2438333115966238, 'colsample_bytree': 0.5095269127653432, 'subsample': 0.9649097392649727, 'learning_rate': 0.004714828774730752, 'num_leaves': 19, 'min_child_samples': 86}. Best is trial 101 with value: 0.6312505505937492.\n"
     ]
    },
    {
     "name": "stdout",
     "output_type": "stream",
     "text": [
      "106\n"
     ]
    },
    {
     "name": "stderr",
     "output_type": "stream",
     "text": [
      "[I 2023-10-30 21:39:11,273] Trial 106 finished with value: 0.6316716683449102 and parameters: {'reg_alpha': 0.02178850262972011, 'reg_lambda': 1.6268491537361531, 'colsample_bytree': 0.5121528711723442, 'subsample': 0.9649070232516673, 'learning_rate': 0.0051254873658428575, 'num_leaves': 23, 'min_child_samples': 88}. Best is trial 101 with value: 0.6312505505937492.\n"
     ]
    },
    {
     "name": "stdout",
     "output_type": "stream",
     "text": [
      "107\n"
     ]
    },
    {
     "name": "stderr",
     "output_type": "stream",
     "text": [
      "[I 2023-10-30 21:39:17,838] Trial 107 finished with value: 0.6324185104689154 and parameters: {'reg_alpha': 0.016618256223692333, 'reg_lambda': 1.573621340822447, 'colsample_bytree': 0.5368994215171436, 'subsample': 0.958939952018262, 'learning_rate': 0.004449361634465312, 'num_leaves': 26, 'min_child_samples': 90}. Best is trial 101 with value: 0.6312505505937492.\n"
     ]
    },
    {
     "name": "stdout",
     "output_type": "stream",
     "text": [
      "108\n"
     ]
    },
    {
     "name": "stderr",
     "output_type": "stream",
     "text": [
      "[I 2023-10-30 21:39:23,923] Trial 108 finished with value: 0.6323952581056942 and parameters: {'reg_alpha': 0.021787039048698737, 'reg_lambda': 5.286428274232596, 'colsample_bytree': 0.5103757772944771, 'subsample': 0.8799509548099076, 'learning_rate': 0.0052740593038707395, 'num_leaves': 22, 'min_child_samples': 87}. Best is trial 101 with value: 0.6312505505937492.\n"
     ]
    },
    {
     "name": "stdout",
     "output_type": "stream",
     "text": [
      "109\n"
     ]
    },
    {
     "name": "stderr",
     "output_type": "stream",
     "text": [
      "[I 2023-10-30 21:39:33,205] Trial 109 finished with value: 0.633050409135883 and parameters: {'reg_alpha': 0.02736978275663723, 'reg_lambda': 3.3525272489023648, 'colsample_bytree': 0.5603702970569735, 'subsample': 0.9184173960309925, 'learning_rate': 0.003032189027557457, 'num_leaves': 23, 'min_child_samples': 94}. Best is trial 101 with value: 0.6312505505937492.\n"
     ]
    },
    {
     "name": "stdout",
     "output_type": "stream",
     "text": [
      "110\n"
     ]
    },
    {
     "name": "stderr",
     "output_type": "stream",
     "text": [
      "[I 2023-10-30 21:39:43,397] Trial 110 finished with value: 0.6348730698891157 and parameters: {'reg_alpha': 0.018215041042186235, 'reg_lambda': 1.8563296089715973, 'colsample_bytree': 0.5432088613960406, 'subsample': 0.9333021525032713, 'learning_rate': 0.003688343769499235, 'num_leaves': 23, 'min_child_samples': 38}. Best is trial 101 with value: 0.6312505505937492.\n"
     ]
    },
    {
     "name": "stdout",
     "output_type": "stream",
     "text": [
      "111\n"
     ]
    },
    {
     "name": "stderr",
     "output_type": "stream",
     "text": [
      "[I 2023-10-30 21:39:51,115] Trial 111 finished with value: 0.6318590790942256 and parameters: {'reg_alpha': 0.0374199594129037, 'reg_lambda': 1.2139279582159357, 'colsample_bytree': 0.5186754207690425, 'subsample': 0.9641736696543289, 'learning_rate': 0.004337491841363581, 'num_leaves': 25, 'min_child_samples': 85}. Best is trial 101 with value: 0.6312505505937492.\n"
     ]
    },
    {
     "name": "stdout",
     "output_type": "stream",
     "text": [
      "112\n"
     ]
    },
    {
     "name": "stderr",
     "output_type": "stream",
     "text": [
      "[I 2023-10-30 21:39:58,102] Trial 112 finished with value: 0.6319302869660068 and parameters: {'reg_alpha': 0.023492934309703166, 'reg_lambda': 1.121308340882916, 'colsample_bytree': 0.5234365279170925, 'subsample': 0.9575855715761573, 'learning_rate': 0.004466239240317911, 'num_leaves': 25, 'min_child_samples': 92}. Best is trial 101 with value: 0.6312505505937492.\n"
     ]
    },
    {
     "name": "stdout",
     "output_type": "stream",
     "text": [
      "113\n"
     ]
    },
    {
     "name": "stderr",
     "output_type": "stream",
     "text": [
      "[I 2023-10-30 21:40:06,562] Trial 113 finished with value: 0.6318627692691536 and parameters: {'reg_alpha': 0.021844818832175233, 'reg_lambda': 1.0281708784987698, 'colsample_bytree': 0.5332373804887413, 'subsample': 0.9996331162187913, 'learning_rate': 0.004077333709158764, 'num_leaves': 24, 'min_child_samples': 92}. Best is trial 101 with value: 0.6312505505937492.\n"
     ]
    },
    {
     "name": "stdout",
     "output_type": "stream",
     "text": [
      "114\n"
     ]
    },
    {
     "name": "stderr",
     "output_type": "stream",
     "text": [
      "[I 2023-10-30 21:40:11,610] Trial 114 finished with value: 0.6336204246682918 and parameters: {'reg_alpha': 0.014985172612102977, 'reg_lambda': 0.7688111812573397, 'colsample_bytree': 0.5489784835636271, 'subsample': 0.9920302882360126, 'learning_rate': 0.006163619425499483, 'num_leaves': 25, 'min_child_samples': 98}. Best is trial 101 with value: 0.6312505505937492.\n"
     ]
    },
    {
     "name": "stdout",
     "output_type": "stream",
     "text": [
      "115\n"
     ]
    },
    {
     "name": "stderr",
     "output_type": "stream",
     "text": [
      "[I 2023-10-30 21:40:20,990] Trial 115 finished with value: 0.6323601860113247 and parameters: {'reg_alpha': 0.03539012992723213, 'reg_lambda': 2.2429697460930065, 'colsample_bytree': 0.5335575684765297, 'subsample': 0.997595168652856, 'learning_rate': 0.0033655280679742287, 'num_leaves': 25, 'min_child_samples': 82}. Best is trial 101 with value: 0.6312505505937492.\n"
     ]
    },
    {
     "name": "stdout",
     "output_type": "stream",
     "text": [
      "116\n"
     ]
    },
    {
     "name": "stderr",
     "output_type": "stream",
     "text": [
      "[I 2023-10-30 21:40:32,394] Trial 116 finished with value: 0.6340037511891629 and parameters: {'reg_alpha': 0.02093284267859461, 'reg_lambda': 0.9798427630636134, 'colsample_bytree': 0.5098129704873643, 'subsample': 0.9853332701734754, 'learning_rate': 0.002235682491274132, 'num_leaves': 26, 'min_child_samples': 100}. Best is trial 101 with value: 0.6312505505937492.\n"
     ]
    },
    {
     "name": "stdout",
     "output_type": "stream",
     "text": [
      "117\n"
     ]
    },
    {
     "name": "stderr",
     "output_type": "stream",
     "text": [
      "[I 2023-10-30 21:40:40,053] Trial 117 finished with value: 0.6328832100789545 and parameters: {'reg_alpha': 0.02738799636617963, 'reg_lambda': 2.8845889447002815, 'colsample_bytree': 0.5103956976919308, 'subsample': 0.9692845795562394, 'learning_rate': 0.003940995234398894, 'num_leaves': 24, 'min_child_samples': 89}. Best is trial 101 with value: 0.6312505505937492.\n"
     ]
    },
    {
     "name": "stdout",
     "output_type": "stream",
     "text": [
      "118\n"
     ]
    },
    {
     "name": "stderr",
     "output_type": "stream",
     "text": [
      "[I 2023-10-30 21:40:46,297] Trial 118 finished with value: 0.6324239579339261 and parameters: {'reg_alpha': 0.012528198534930625, 'reg_lambda': 1.5978613086935396, 'colsample_bytree': 0.5664392932772226, 'subsample': 0.9786655787054129, 'learning_rate': 0.005387085778578719, 'num_leaves': 27, 'min_child_samples': 84}. Best is trial 101 with value: 0.6312505505937492.\n"
     ]
    },
    {
     "name": "stdout",
     "output_type": "stream",
     "text": [
      "119\n"
     ]
    },
    {
     "name": "stderr",
     "output_type": "stream",
     "text": [
      "[I 2023-10-30 21:40:58,269] Trial 119 finished with value: 0.6323502487264087 and parameters: {'reg_alpha': 0.018030696551633352, 'reg_lambda': 2.219052523180254, 'colsample_bytree': 0.5370562149598532, 'subsample': 0.9669862306355264, 'learning_rate': 0.002699757876581131, 'num_leaves': 23, 'min_child_samples': 78}. Best is trial 101 with value: 0.6312505505937492.\n"
     ]
    },
    {
     "name": "stdout",
     "output_type": "stream",
     "text": [
      "120\n"
     ]
    },
    {
     "name": "stderr",
     "output_type": "stream",
     "text": [
      "[I 2023-10-30 21:41:02,926] Trial 120 finished with value: 0.6321327591137023 and parameters: {'reg_alpha': 0.030889288826535518, 'reg_lambda': 0.8212229358668337, 'colsample_bytree': 0.521198863126817, 'subsample': 0.9847942694845068, 'learning_rate': 0.007218266247040092, 'num_leaves': 27, 'min_child_samples': 91}. Best is trial 101 with value: 0.6312505505937492.\n"
     ]
    },
    {
     "name": "stdout",
     "output_type": "stream",
     "text": [
      "121\n"
     ]
    },
    {
     "name": "stderr",
     "output_type": "stream",
     "text": [
      "[I 2023-10-30 21:41:09,415] Trial 121 finished with value: 0.6329185714313788 and parameters: {'reg_alpha': 0.023783680889589535, 'reg_lambda': 1.1855723973229486, 'colsample_bytree': 0.5207221032089355, 'subsample': 0.9564438362064336, 'learning_rate': 0.004532029495569707, 'num_leaves': 24, 'min_child_samples': 92}. Best is trial 101 with value: 0.6312505505937492.\n"
     ]
    },
    {
     "name": "stdout",
     "output_type": "stream",
     "text": [
      "122\n"
     ]
    },
    {
     "name": "stderr",
     "output_type": "stream",
     "text": [
      "[I 2023-10-30 21:41:17,415] Trial 122 finished with value: 0.6330430317691228 and parameters: {'reg_alpha': 0.02222605014346209, 'reg_lambda': 1.0612904062611994, 'colsample_bytree': 0.5296501865999996, 'subsample': 0.998785932551038, 'learning_rate': 0.0038858253191042117, 'num_leaves': 25, 'min_child_samples': 95}. Best is trial 101 with value: 0.6312505505937492.\n"
     ]
    },
    {
     "name": "stdout",
     "output_type": "stream",
     "text": [
      "123\n"
     ]
    },
    {
     "name": "stderr",
     "output_type": "stream",
     "text": [
      "[I 2023-10-30 21:41:24,017] Trial 123 finished with value: 0.6320354287136781 and parameters: {'reg_alpha': 0.040853097185876305, 'reg_lambda': 1.6898240775026472, 'colsample_bytree': 0.5096324004888299, 'subsample': 0.9593955934373355, 'learning_rate': 0.005045186383046945, 'num_leaves': 23, 'min_child_samples': 86}. Best is trial 101 with value: 0.6312505505937492.\n"
     ]
    },
    {
     "name": "stdout",
     "output_type": "stream",
     "text": [
      "124\n"
     ]
    },
    {
     "name": "stderr",
     "output_type": "stream",
     "text": [
      "[I 2023-10-30 21:41:34,882] Trial 124 finished with value: 0.632486373776323 and parameters: {'reg_alpha': 0.012133587257302415, 'reg_lambda': 0.6771484742813552, 'colsample_bytree': 0.5530750383781294, 'subsample': 0.9776476025177301, 'learning_rate': 0.0029570121247472036, 'num_leaves': 28, 'min_child_samples': 81}. Best is trial 101 with value: 0.6312505505937492.\n"
     ]
    },
    {
     "name": "stdout",
     "output_type": "stream",
     "text": [
      "125\n"
     ]
    },
    {
     "name": "stderr",
     "output_type": "stream",
     "text": [
      "[I 2023-10-30 21:41:41,510] Trial 125 finished with value: 0.6322021471795576 and parameters: {'reg_alpha': 0.03458771610423035, 'reg_lambda': 1.411754584778831, 'colsample_bytree': 0.5423139565008395, 'subsample': 0.9474302209015687, 'learning_rate': 0.006386354989253617, 'num_leaves': 25, 'min_child_samples': 89}. Best is trial 101 with value: 0.6312505505937492.\n"
     ]
    },
    {
     "name": "stdout",
     "output_type": "stream",
     "text": [
      "126\n"
     ]
    },
    {
     "name": "stderr",
     "output_type": "stream",
     "text": [
      "[I 2023-10-30 21:41:48,282] Trial 126 finished with value: 0.632298601944992 and parameters: {'reg_alpha': 0.026415416125840224, 'reg_lambda': 1.184709454433377, 'colsample_bytree': 0.5188966280588146, 'subsample': 0.9502171973344387, 'learning_rate': 0.00426696054033338, 'num_leaves': 25, 'min_child_samples': 84}. Best is trial 101 with value: 0.6312505505937492.\n"
     ]
    },
    {
     "name": "stdout",
     "output_type": "stream",
     "text": [
      "127\n"
     ]
    },
    {
     "name": "stderr",
     "output_type": "stream",
     "text": [
      "[I 2023-10-30 21:41:54,066] Trial 127 finished with value: 0.6329117656343917 and parameters: {'reg_alpha': 0.015108184514631855, 'reg_lambda': 2.0055264056200737, 'colsample_bytree': 0.531118518465416, 'subsample': 0.9050548028249163, 'learning_rate': 0.0054991262283415505, 'num_leaves': 21, 'min_child_samples': 93}. Best is trial 101 with value: 0.6312505505937492.\n"
     ]
    },
    {
     "name": "stdout",
     "output_type": "stream",
     "text": [
      "128\n"
     ]
    },
    {
     "name": "stderr",
     "output_type": "stream",
     "text": [
      "[I 2023-10-30 21:42:03,437] Trial 128 finished with value: 0.6328727965983599 and parameters: {'reg_alpha': 0.04612137386335835, 'reg_lambda': 2.8074234990782716, 'colsample_bytree': 0.5068074387888531, 'subsample': 0.9694782752142176, 'learning_rate': 0.0033465319609660106, 'num_leaves': 22, 'min_child_samples': 74}. Best is trial 101 with value: 0.6312505505937492.\n"
     ]
    },
    {
     "name": "stdout",
     "output_type": "stream",
     "text": [
      "129\n"
     ]
    },
    {
     "name": "stderr",
     "output_type": "stream",
     "text": [
      "[I 2023-10-30 21:42:07,882] Trial 129 finished with value: 0.6326439781878939 and parameters: {'reg_alpha': 0.020164954391019077, 'reg_lambda': 0.8387106175673088, 'colsample_bytree': 0.5872476827459123, 'subsample': 0.9225416218931998, 'learning_rate': 0.008671983531644408, 'num_leaves': 19, 'min_child_samples': 79}. Best is trial 101 with value: 0.6312505505937492.\n"
     ]
    },
    {
     "name": "stdout",
     "output_type": "stream",
     "text": [
      "130\n"
     ]
    },
    {
     "name": "stderr",
     "output_type": "stream",
     "text": [
      "[I 2023-10-30 21:42:15,290] Trial 130 finished with value: 0.6323756532525989 and parameters: {'reg_alpha': 0.06147432509240119, 'reg_lambda': 3.7769544307882366, 'colsample_bytree': 0.5209148651303154, 'subsample': 0.847594188488931, 'learning_rate': 0.004589256990187487, 'num_leaves': 18, 'min_child_samples': 87}. Best is trial 101 with value: 0.6312505505937492.\n"
     ]
    },
    {
     "name": "stdout",
     "output_type": "stream",
     "text": [
      "131\n"
     ]
    },
    {
     "name": "stderr",
     "output_type": "stream",
     "text": [
      "[I 2023-10-30 21:42:22,063] Trial 131 finished with value: 0.631340274255459 and parameters: {'reg_alpha': 0.05222337905630204, 'reg_lambda': 1.3605145873488704, 'colsample_bytree': 0.5265329533485157, 'subsample': 0.9280674540389628, 'learning_rate': 0.004825232488788649, 'num_leaves': 26, 'min_child_samples': 88}. Best is trial 101 with value: 0.6312505505937492.\n"
     ]
    },
    {
     "name": "stdout",
     "output_type": "stream",
     "text": [
      "132\n"
     ]
    },
    {
     "name": "stderr",
     "output_type": "stream",
     "text": [
      "[I 2023-10-30 21:42:27,767] Trial 132 finished with value: 0.6319942834946481 and parameters: {'reg_alpha': 0.03740206701632244, 'reg_lambda': 1.4375449832572669, 'colsample_bytree': 0.5455448121963231, 'subsample': 0.9622741807172268, 'learning_rate': 0.00595147309140355, 'num_leaves': 26, 'min_child_samples': 82}. Best is trial 101 with value: 0.6312505505937492.\n"
     ]
    },
    {
     "name": "stdout",
     "output_type": "stream",
     "text": [
      "133\n"
     ]
    },
    {
     "name": "stderr",
     "output_type": "stream",
     "text": [
      "[I 2023-10-30 21:42:32,967] Trial 133 finished with value: 0.6315077701612476 and parameters: {'reg_alpha': 0.04664118634449675, 'reg_lambda': 0.9758149111219708, 'colsample_bytree': 0.5005818252477378, 'subsample': 0.9387297415608282, 'learning_rate': 0.006875930123871536, 'num_leaves': 26, 'min_child_samples': 88}. Best is trial 101 with value: 0.6312505505937492.\n"
     ]
    },
    {
     "name": "stdout",
     "output_type": "stream",
     "text": [
      "134\n"
     ]
    },
    {
     "name": "stderr",
     "output_type": "stream",
     "text": [
      "[I 2023-10-30 21:42:39,534] Trial 134 finished with value: 0.6313251940645758 and parameters: {'reg_alpha': 0.05018513107068238, 'reg_lambda': 0.944027427551614, 'colsample_bytree': 0.5002199921881645, 'subsample': 0.9359257616596014, 'learning_rate': 0.005241631604259936, 'num_leaves': 27, 'min_child_samples': 88}. Best is trial 101 with value: 0.6312505505937492.\n"
     ]
    },
    {
     "name": "stdout",
     "output_type": "stream",
     "text": [
      "135\n"
     ]
    },
    {
     "name": "stderr",
     "output_type": "stream",
     "text": [
      "[I 2023-10-30 21:42:44,349] Trial 135 finished with value: 0.6322319090843154 and parameters: {'reg_alpha': 0.07793334723385123, 'reg_lambda': 1.8189949272596497, 'colsample_bytree': 0.5002053800631869, 'subsample': 0.9147104725359108, 'learning_rate': 0.007255368397657223, 'num_leaves': 29, 'min_child_samples': 85}. Best is trial 101 with value: 0.6312505505937492.\n"
     ]
    },
    {
     "name": "stdout",
     "output_type": "stream",
     "text": [
      "136\n"
     ]
    },
    {
     "name": "stderr",
     "output_type": "stream",
     "text": [
      "[I 2023-10-30 21:42:49,368] Trial 136 finished with value: 0.6324901532532481 and parameters: {'reg_alpha': 0.050698665627651275, 'reg_lambda': 0.48027123788894066, 'colsample_bytree': 0.5066525022270393, 'subsample': 0.9364902940830633, 'learning_rate': 0.006706098848761161, 'num_leaves': 27, 'min_child_samples': 77}. Best is trial 101 with value: 0.6312505505937492.\n"
     ]
    },
    {
     "name": "stdout",
     "output_type": "stream",
     "text": [
      "137\n"
     ]
    },
    {
     "name": "stderr",
     "output_type": "stream",
     "text": [
      "[I 2023-10-30 21:42:55,414] Trial 137 finished with value: 0.6324964222615767 and parameters: {'reg_alpha': 0.06650212314574751, 'reg_lambda': 0.6319357576820531, 'colsample_bytree': 0.500107646542979, 'subsample': 0.9271198643195137, 'learning_rate': 0.005207081651382451, 'num_leaves': 27, 'min_child_samples': 88}. Best is trial 101 with value: 0.6312505505937492.\n"
     ]
    },
    {
     "name": "stdout",
     "output_type": "stream",
     "text": [
      "138\n"
     ]
    },
    {
     "name": "stderr",
     "output_type": "stream",
     "text": [
      "[I 2023-10-30 21:42:59,130] Trial 138 finished with value: 0.6329612499572173 and parameters: {'reg_alpha': 0.0925683632999585, 'reg_lambda': 0.36903662865828, 'colsample_bytree': 0.5130080516426874, 'subsample': 0.896477098253628, 'learning_rate': 0.010177556446355651, 'num_leaves': 26, 'min_child_samples': 80}. Best is trial 101 with value: 0.6312505505937492.\n"
     ]
    },
    {
     "name": "stdout",
     "output_type": "stream",
     "text": [
      "139\n"
     ]
    },
    {
     "name": "stderr",
     "output_type": "stream",
     "text": [
      "[I 2023-10-30 21:43:03,107] Trial 139 finished with value: 0.6318623814284537 and parameters: {'reg_alpha': 0.04586169335135124, 'reg_lambda': 0.7423848319710804, 'colsample_bytree': 0.5153873267504415, 'subsample': 0.9420565330700001, 'learning_rate': 0.008905057066543194, 'num_leaves': 28, 'min_child_samples': 83}. Best is trial 101 with value: 0.6312505505937492.\n"
     ]
    },
    {
     "name": "stdout",
     "output_type": "stream",
     "text": [
      "140\n"
     ]
    },
    {
     "name": "stderr",
     "output_type": "stream",
     "text": [
      "[I 2023-10-30 21:43:08,534] Trial 140 finished with value: 0.6328938709765517 and parameters: {'reg_alpha': 0.057249068790695856, 'reg_lambda': 1.3191615809846542, 'colsample_bytree': 0.524775626505661, 'subsample': 0.9095668637042653, 'learning_rate': 0.006062801249938955, 'num_leaves': 28, 'min_child_samples': 86}. Best is trial 101 with value: 0.6312505505937492.\n"
     ]
    },
    {
     "name": "stdout",
     "output_type": "stream",
     "text": [
      "141\n"
     ]
    },
    {
     "name": "stderr",
     "output_type": "stream",
     "text": [
      "[I 2023-10-30 21:43:13,129] Trial 141 finished with value: 0.6317173545507545 and parameters: {'reg_alpha': 0.041835296562153734, 'reg_lambda': 0.7062583391016641, 'colsample_bytree': 0.5133689884812619, 'subsample': 0.9441760598108264, 'learning_rate': 0.00840878834565017, 'num_leaves': 30, 'min_child_samples': 83}. Best is trial 101 with value: 0.6312505505937492.\n"
     ]
    },
    {
     "name": "stdout",
     "output_type": "stream",
     "text": [
      "142\n"
     ]
    },
    {
     "name": "stderr",
     "output_type": "stream",
     "text": [
      "[I 2023-10-30 21:43:17,584] Trial 142 finished with value: 0.6316321250075781 and parameters: {'reg_alpha': 0.03192038832748656, 'reg_lambda': 0.9241478319493382, 'colsample_bytree': 0.5111410921177695, 'subsample': 0.9241214322000532, 'learning_rate': 0.007744653846218907, 'num_leaves': 30, 'min_child_samples': 84}. Best is trial 101 with value: 0.6312505505937492.\n"
     ]
    },
    {
     "name": "stdout",
     "output_type": "stream",
     "text": [
      "143\n"
     ]
    },
    {
     "name": "stderr",
     "output_type": "stream",
     "text": [
      "[I 2023-10-30 21:43:21,966] Trial 143 finished with value: 0.6320577867763562 and parameters: {'reg_alpha': 0.028756989898523065, 'reg_lambda': 0.8586389683555402, 'colsample_bytree': 0.5099108785742307, 'subsample': 0.921600958733762, 'learning_rate': 0.0076500132848175825, 'num_leaves': 32, 'min_child_samples': 82}. Best is trial 101 with value: 0.6312505505937492.\n"
     ]
    },
    {
     "name": "stdout",
     "output_type": "stream",
     "text": [
      "144\n"
     ]
    },
    {
     "name": "stderr",
     "output_type": "stream",
     "text": [
      "[I 2023-10-30 21:43:26,038] Trial 144 finished with value: 0.6331178502900339 and parameters: {'reg_alpha': 0.07685288231760753, 'reg_lambda': 0.545841015952193, 'colsample_bytree': 0.5316479216657174, 'subsample': 0.9327867026516251, 'learning_rate': 0.00853802727196814, 'num_leaves': 30, 'min_child_samples': 89}. Best is trial 101 with value: 0.6312505505937492.\n"
     ]
    },
    {
     "name": "stdout",
     "output_type": "stream",
     "text": [
      "145\n"
     ]
    },
    {
     "name": "stderr",
     "output_type": "stream",
     "text": [
      "[I 2023-10-30 21:43:32,095] Trial 145 finished with value: 0.6323116551659199 and parameters: {'reg_alpha': 0.0484799192253829, 'reg_lambda': 1.004839904929822, 'colsample_bytree': 0.5089722724778473, 'subsample': 0.9453045299728402, 'learning_rate': 0.005803421599053589, 'num_leaves': 31, 'min_child_samples': 76}. Best is trial 101 with value: 0.6312505505937492.\n"
     ]
    },
    {
     "name": "stdout",
     "output_type": "stream",
     "text": [
      "146\n"
     ]
    },
    {
     "name": "stderr",
     "output_type": "stream",
     "text": [
      "[I 2023-10-30 21:43:37,157] Trial 146 finished with value: 0.6319126448150311 and parameters: {'reg_alpha': 0.032012145121936314, 'reg_lambda': 1.5943095898423953, 'colsample_bytree': 0.5009697925868869, 'subsample': 0.8810814454410016, 'learning_rate': 0.006940321827880285, 'num_leaves': 29, 'min_child_samples': 78}. Best is trial 101 with value: 0.6312505505937492.\n"
     ]
    },
    {
     "name": "stdout",
     "output_type": "stream",
     "text": [
      "147\n"
     ]
    },
    {
     "name": "stderr",
     "output_type": "stream",
     "text": [
      "[I 2023-10-30 21:43:43,964] Trial 147 finished with value: 0.6329971146925653 and parameters: {'reg_alpha': 0.04194223737196372, 'reg_lambda': 2.3070788909553706, 'colsample_bytree': 0.6700157615159351, 'subsample': 0.891821212772433, 'learning_rate': 0.004967392668197754, 'num_leaves': 31, 'min_child_samples': 80}. Best is trial 101 with value: 0.6312505505937492.\n"
     ]
    },
    {
     "name": "stdout",
     "output_type": "stream",
     "text": [
      "148\n"
     ]
    },
    {
     "name": "stderr",
     "output_type": "stream",
     "text": [
      "[I 2023-10-30 21:43:47,542] Trial 148 finished with value: 0.6320996118392023 and parameters: {'reg_alpha': 0.06463038003273354, 'reg_lambda': 0.6867813781729598, 'colsample_bytree': 0.5451714995855863, 'subsample': 0.9089130707406766, 'learning_rate': 0.010628717733177202, 'num_leaves': 17, 'min_child_samples': 83}. Best is trial 101 with value: 0.6312505505937492.\n"
     ]
    },
    {
     "name": "stdout",
     "output_type": "stream",
     "text": [
      "149\n"
     ]
    },
    {
     "name": "stderr",
     "output_type": "stream",
     "text": [
      "[I 2023-10-30 21:43:51,779] Trial 149 finished with value: 0.6320551681919151 and parameters: {'reg_alpha': 0.10918435985740407, 'reg_lambda': 1.9406222563280282, 'colsample_bytree': 0.5181834454341283, 'subsample': 0.9216023158048124, 'learning_rate': 0.00811311907234329, 'num_leaves': 29, 'min_child_samples': 88}. Best is trial 101 with value: 0.6312505505937492.\n"
     ]
    }
   ],
   "source": [
    "if cnfg.use_optuna_tuning:\n",
    "    study = optuna.create_study(\n",
    "        direction=\"minimize\", study_name=\"Optimize boosting hyperparameters\"\n",
    "    )\n",
    "    study.optimize(\n",
    "        lambda trial: objective(trial, train_feats), n_trials=cnfg.num_trials_optuna\n",
    "    )"
   ]
  },
  {
   "cell_type": "code",
   "execution_count": 47,
   "id": "95bb6912-e1c2-4c01-86f8-d6798c1311ac",
   "metadata": {
    "execution": {
     "iopub.execute_input": "2023-10-30T20:43:51.782858Z",
     "iopub.status.busy": "2023-10-30T20:43:51.782620Z",
     "iopub.status.idle": "2023-10-30T20:43:51.785910Z",
     "shell.execute_reply": "2023-10-30T20:43:51.785437Z",
     "shell.execute_reply.started": "2023-10-30T20:43:51.782838Z"
    },
    "papermill": {
     "duration": 0.027034,
     "end_time": "2023-10-24T19:15:40.674798",
     "exception": false,
     "start_time": "2023-10-24T19:15:40.647764",
     "status": "completed"
    },
    "tags": []
   },
   "outputs": [
    {
     "name": "stdout",
     "output_type": "stream",
     "text": [
      "Best trial: {'reg_alpha': 0.046918022306084856, 'reg_lambda': 0.9188563635385238, 'colsample_bytree': 0.5090929056657377, 'subsample': 0.8627739028744885, 'learning_rate': 0.003835462933324096, 'num_leaves': 17, 'min_child_samples': 83}\n"
     ]
    }
   ],
   "source": [
    "if cnfg.use_optuna_tuning:\n",
    "    print(\"Best trial:\", study.best_trial.params)"
   ]
  },
  {
   "cell_type": "code",
   "execution_count": 48,
   "id": "25a34b05-e7ec-47c9-9565-327f1dbb41d1",
   "metadata": {
    "execution": {
     "iopub.execute_input": "2023-10-30T20:43:51.786811Z",
     "iopub.status.busy": "2023-10-30T20:43:51.786475Z",
     "iopub.status.idle": "2023-10-30T20:43:51.817644Z",
     "shell.execute_reply": "2023-10-30T20:43:51.817134Z",
     "shell.execute_reply.started": "2023-10-30T20:43:51.786792Z"
    }
   },
   "outputs": [
    {
     "data": {
      "text/html": [
       "<div>\n",
       "<style scoped>\n",
       "    .dataframe tbody tr th:only-of-type {\n",
       "        vertical-align: middle;\n",
       "    }\n",
       "\n",
       "    .dataframe tbody tr th {\n",
       "        vertical-align: top;\n",
       "    }\n",
       "\n",
       "    .dataframe thead th {\n",
       "        text-align: right;\n",
       "    }\n",
       "</style>\n",
       "<table border=\"1\" class=\"dataframe\">\n",
       "  <thead>\n",
       "    <tr style=\"text-align: right;\">\n",
       "      <th></th>\n",
       "      <th>id</th>\n",
       "      <th>total_time_taken</th>\n",
       "      <th>total_idle_time</th>\n",
       "      <th>total_word_count</th>\n",
       "      <th>max_cursor_position</th>\n",
       "      <th>num_events</th>\n",
       "      <th>total_type_of_activities</th>\n",
       "      <th>speed_of_activity</th>\n",
       "      <th>speed_of_writing</th>\n",
       "      <th>events_per_word</th>\n",
       "      <th>...</th>\n",
       "      <th>words_of_len_4_share</th>\n",
       "      <th>words_of_len_5_share</th>\n",
       "      <th>words_of_len_6_share</th>\n",
       "      <th>words_of_len_7_share</th>\n",
       "      <th>words_of_len_8_share</th>\n",
       "      <th>words_of_len_9_share</th>\n",
       "      <th>words_of_len_10_share</th>\n",
       "      <th>words_of_len_more_than_10_share</th>\n",
       "      <th>score</th>\n",
       "      <th>fold</th>\n",
       "    </tr>\n",
       "  </thead>\n",
       "  <tbody>\n",
       "    <tr>\n",
       "      <th>0</th>\n",
       "      <td>001519c8</td>\n",
       "      <td>1797.351</td>\n",
       "      <td>2094.432</td>\n",
       "      <td>255</td>\n",
       "      <td>1539</td>\n",
       "      <td>2557</td>\n",
       "      <td>5</td>\n",
       "      <td>1.422649</td>\n",
       "      <td>0.141875</td>\n",
       "      <td>0.099726</td>\n",
       "      <td>...</td>\n",
       "      <td>0.133880</td>\n",
       "      <td>0.117486</td>\n",
       "      <td>0.079235</td>\n",
       "      <td>0.081967</td>\n",
       "      <td>0.040984</td>\n",
       "      <td>0.057377</td>\n",
       "      <td>0.027322</td>\n",
       "      <td>0.084699</td>\n",
       "      <td>3.5</td>\n",
       "      <td>4.0</td>\n",
       "    </tr>\n",
       "    <tr>\n",
       "      <th>1</th>\n",
       "      <td>0022f953</td>\n",
       "      <td>1758.219</td>\n",
       "      <td>2033.053</td>\n",
       "      <td>320</td>\n",
       "      <td>1676</td>\n",
       "      <td>2454</td>\n",
       "      <td>5</td>\n",
       "      <td>1.395731</td>\n",
       "      <td>0.182002</td>\n",
       "      <td>0.130399</td>\n",
       "      <td>...</td>\n",
       "      <td>0.179221</td>\n",
       "      <td>0.116883</td>\n",
       "      <td>0.096104</td>\n",
       "      <td>0.033766</td>\n",
       "      <td>0.020779</td>\n",
       "      <td>0.015584</td>\n",
       "      <td>0.015584</td>\n",
       "      <td>0.044156</td>\n",
       "      <td>3.5</td>\n",
       "      <td>2.0</td>\n",
       "    </tr>\n",
       "    <tr>\n",
       "      <th>2</th>\n",
       "      <td>0042269b</td>\n",
       "      <td>1766.778</td>\n",
       "      <td>2186.390</td>\n",
       "      <td>404</td>\n",
       "      <td>2291</td>\n",
       "      <td>4136</td>\n",
       "      <td>4</td>\n",
       "      <td>2.340985</td>\n",
       "      <td>0.228665</td>\n",
       "      <td>0.097679</td>\n",
       "      <td>...</td>\n",
       "      <td>0.162679</td>\n",
       "      <td>0.111643</td>\n",
       "      <td>0.076555</td>\n",
       "      <td>0.086124</td>\n",
       "      <td>0.054226</td>\n",
       "      <td>0.049442</td>\n",
       "      <td>0.020734</td>\n",
       "      <td>0.092504</td>\n",
       "      <td>6.0</td>\n",
       "      <td>0.0</td>\n",
       "    </tr>\n",
       "    <tr>\n",
       "      <th>3</th>\n",
       "      <td>0059420b</td>\n",
       "      <td>1362.999</td>\n",
       "      <td>1552.444</td>\n",
       "      <td>206</td>\n",
       "      <td>1047</td>\n",
       "      <td>1556</td>\n",
       "      <td>5</td>\n",
       "      <td>1.141600</td>\n",
       "      <td>0.151137</td>\n",
       "      <td>0.132391</td>\n",
       "      <td>...</td>\n",
       "      <td>0.199203</td>\n",
       "      <td>0.107570</td>\n",
       "      <td>0.095618</td>\n",
       "      <td>0.099602</td>\n",
       "      <td>0.015936</td>\n",
       "      <td>0.015936</td>\n",
       "      <td>0.011952</td>\n",
       "      <td>0.051793</td>\n",
       "      <td>2.0</td>\n",
       "      <td>3.0</td>\n",
       "    </tr>\n",
       "    <tr>\n",
       "      <th>4</th>\n",
       "      <td>0075873a</td>\n",
       "      <td>1583.920</td>\n",
       "      <td>1897.356</td>\n",
       "      <td>252</td>\n",
       "      <td>1402</td>\n",
       "      <td>2531</td>\n",
       "      <td>3</td>\n",
       "      <td>1.597934</td>\n",
       "      <td>0.159099</td>\n",
       "      <td>0.099565</td>\n",
       "      <td>...</td>\n",
       "      <td>0.174757</td>\n",
       "      <td>0.114078</td>\n",
       "      <td>0.080097</td>\n",
       "      <td>0.038835</td>\n",
       "      <td>0.048544</td>\n",
       "      <td>0.038835</td>\n",
       "      <td>0.031553</td>\n",
       "      <td>0.060680</td>\n",
       "      <td>4.0</td>\n",
       "      <td>1.0</td>\n",
       "    </tr>\n",
       "    <tr>\n",
       "      <th>...</th>\n",
       "      <td>...</td>\n",
       "      <td>...</td>\n",
       "      <td>...</td>\n",
       "      <td>...</td>\n",
       "      <td>...</td>\n",
       "      <td>...</td>\n",
       "      <td>...</td>\n",
       "      <td>...</td>\n",
       "      <td>...</td>\n",
       "      <td>...</td>\n",
       "      <td>...</td>\n",
       "      <td>...</td>\n",
       "      <td>...</td>\n",
       "      <td>...</td>\n",
       "      <td>...</td>\n",
       "      <td>...</td>\n",
       "      <td>...</td>\n",
       "      <td>...</td>\n",
       "      <td>...</td>\n",
       "      <td>...</td>\n",
       "      <td>...</td>\n",
       "    </tr>\n",
       "    <tr>\n",
       "      <th>2466</th>\n",
       "      <td>ffb8c745</td>\n",
       "      <td>1769.114</td>\n",
       "      <td>2267.887</td>\n",
       "      <td>273</td>\n",
       "      <td>1634</td>\n",
       "      <td>4739</td>\n",
       "      <td>4</td>\n",
       "      <td>2.678742</td>\n",
       "      <td>0.154315</td>\n",
       "      <td>0.057607</td>\n",
       "      <td>...</td>\n",
       "      <td>0.200272</td>\n",
       "      <td>0.100817</td>\n",
       "      <td>0.073569</td>\n",
       "      <td>0.066757</td>\n",
       "      <td>0.051771</td>\n",
       "      <td>0.043597</td>\n",
       "      <td>0.023161</td>\n",
       "      <td>0.064033</td>\n",
       "      <td>3.5</td>\n",
       "      <td>1.0</td>\n",
       "    </tr>\n",
       "    <tr>\n",
       "      <th>2467</th>\n",
       "      <td>ffbef7e5</td>\n",
       "      <td>1777.392</td>\n",
       "      <td>1991.318</td>\n",
       "      <td>438</td>\n",
       "      <td>1877</td>\n",
       "      <td>2604</td>\n",
       "      <td>4</td>\n",
       "      <td>1.465068</td>\n",
       "      <td>0.246428</td>\n",
       "      <td>0.168203</td>\n",
       "      <td>...</td>\n",
       "      <td>0.214894</td>\n",
       "      <td>0.119149</td>\n",
       "      <td>0.076596</td>\n",
       "      <td>0.063830</td>\n",
       "      <td>0.048936</td>\n",
       "      <td>0.021277</td>\n",
       "      <td>0.012766</td>\n",
       "      <td>0.006383</td>\n",
       "      <td>4.0</td>\n",
       "      <td>2.0</td>\n",
       "    </tr>\n",
       "    <tr>\n",
       "      <th>2468</th>\n",
       "      <td>ffccd6fd</td>\n",
       "      <td>1935.791</td>\n",
       "      <td>2167.278</td>\n",
       "      <td>201</td>\n",
       "      <td>2761</td>\n",
       "      <td>3063</td>\n",
       "      <td>3</td>\n",
       "      <td>1.582299</td>\n",
       "      <td>0.103834</td>\n",
       "      <td>0.065622</td>\n",
       "      <td>...</td>\n",
       "      <td>0.139640</td>\n",
       "      <td>0.121622</td>\n",
       "      <td>0.121622</td>\n",
       "      <td>0.054054</td>\n",
       "      <td>0.049550</td>\n",
       "      <td>0.036036</td>\n",
       "      <td>0.004505</td>\n",
       "      <td>0.054054</td>\n",
       "      <td>1.5</td>\n",
       "      <td>4.0</td>\n",
       "    </tr>\n",
       "    <tr>\n",
       "      <th>2469</th>\n",
       "      <td>ffec5b38</td>\n",
       "      <td>1488.450</td>\n",
       "      <td>1777.663</td>\n",
       "      <td>413</td>\n",
       "      <td>2133</td>\n",
       "      <td>3242</td>\n",
       "      <td>3</td>\n",
       "      <td>2.178105</td>\n",
       "      <td>0.277470</td>\n",
       "      <td>0.127390</td>\n",
       "      <td>...</td>\n",
       "      <td>0.152000</td>\n",
       "      <td>0.108000</td>\n",
       "      <td>0.086000</td>\n",
       "      <td>0.094000</td>\n",
       "      <td>0.040000</td>\n",
       "      <td>0.042000</td>\n",
       "      <td>0.018000</td>\n",
       "      <td>0.088000</td>\n",
       "      <td>5.0</td>\n",
       "      <td>1.0</td>\n",
       "    </tr>\n",
       "    <tr>\n",
       "      <th>2470</th>\n",
       "      <td>fff05981</td>\n",
       "      <td>2030.338</td>\n",
       "      <td>2331.241</td>\n",
       "      <td>240</td>\n",
       "      <td>1496</td>\n",
       "      <td>3619</td>\n",
       "      <td>6</td>\n",
       "      <td>1.782462</td>\n",
       "      <td>0.118207</td>\n",
       "      <td>0.066317</td>\n",
       "      <td>...</td>\n",
       "      <td>0.136882</td>\n",
       "      <td>0.085551</td>\n",
       "      <td>0.104563</td>\n",
       "      <td>0.081749</td>\n",
       "      <td>0.043726</td>\n",
       "      <td>0.020913</td>\n",
       "      <td>0.034221</td>\n",
       "      <td>0.093156</td>\n",
       "      <td>4.0</td>\n",
       "      <td>4.0</td>\n",
       "    </tr>\n",
       "  </tbody>\n",
       "</table>\n",
       "<p>2471 rows × 190 columns</p>\n",
       "</div>"
      ],
      "text/plain": [
       "            id  total_time_taken  total_idle_time  total_word_count  \\\n",
       "0     001519c8          1797.351         2094.432               255   \n",
       "1     0022f953          1758.219         2033.053               320   \n",
       "2     0042269b          1766.778         2186.390               404   \n",
       "3     0059420b          1362.999         1552.444               206   \n",
       "4     0075873a          1583.920         1897.356               252   \n",
       "...        ...               ...              ...               ...   \n",
       "2466  ffb8c745          1769.114         2267.887               273   \n",
       "2467  ffbef7e5          1777.392         1991.318               438   \n",
       "2468  ffccd6fd          1935.791         2167.278               201   \n",
       "2469  ffec5b38          1488.450         1777.663               413   \n",
       "2470  fff05981          2030.338         2331.241               240   \n",
       "\n",
       "      max_cursor_position  num_events  total_type_of_activities  \\\n",
       "0                    1539        2557                         5   \n",
       "1                    1676        2454                         5   \n",
       "2                    2291        4136                         4   \n",
       "3                    1047        1556                         5   \n",
       "4                    1402        2531                         3   \n",
       "...                   ...         ...                       ...   \n",
       "2466                 1634        4739                         4   \n",
       "2467                 1877        2604                         4   \n",
       "2468                 2761        3063                         3   \n",
       "2469                 2133        3242                         3   \n",
       "2470                 1496        3619                         6   \n",
       "\n",
       "      speed_of_activity  speed_of_writing  events_per_word  ...  \\\n",
       "0              1.422649          0.141875         0.099726  ...   \n",
       "1              1.395731          0.182002         0.130399  ...   \n",
       "2              2.340985          0.228665         0.097679  ...   \n",
       "3              1.141600          0.151137         0.132391  ...   \n",
       "4              1.597934          0.159099         0.099565  ...   \n",
       "...                 ...               ...              ...  ...   \n",
       "2466           2.678742          0.154315         0.057607  ...   \n",
       "2467           1.465068          0.246428         0.168203  ...   \n",
       "2468           1.582299          0.103834         0.065622  ...   \n",
       "2469           2.178105          0.277470         0.127390  ...   \n",
       "2470           1.782462          0.118207         0.066317  ...   \n",
       "\n",
       "      words_of_len_4_share  words_of_len_5_share  words_of_len_6_share  \\\n",
       "0                 0.133880              0.117486              0.079235   \n",
       "1                 0.179221              0.116883              0.096104   \n",
       "2                 0.162679              0.111643              0.076555   \n",
       "3                 0.199203              0.107570              0.095618   \n",
       "4                 0.174757              0.114078              0.080097   \n",
       "...                    ...                   ...                   ...   \n",
       "2466              0.200272              0.100817              0.073569   \n",
       "2467              0.214894              0.119149              0.076596   \n",
       "2468              0.139640              0.121622              0.121622   \n",
       "2469              0.152000              0.108000              0.086000   \n",
       "2470              0.136882              0.085551              0.104563   \n",
       "\n",
       "      words_of_len_7_share  words_of_len_8_share  words_of_len_9_share  \\\n",
       "0                 0.081967              0.040984              0.057377   \n",
       "1                 0.033766              0.020779              0.015584   \n",
       "2                 0.086124              0.054226              0.049442   \n",
       "3                 0.099602              0.015936              0.015936   \n",
       "4                 0.038835              0.048544              0.038835   \n",
       "...                    ...                   ...                   ...   \n",
       "2466              0.066757              0.051771              0.043597   \n",
       "2467              0.063830              0.048936              0.021277   \n",
       "2468              0.054054              0.049550              0.036036   \n",
       "2469              0.094000              0.040000              0.042000   \n",
       "2470              0.081749              0.043726              0.020913   \n",
       "\n",
       "      words_of_len_10_share  words_of_len_more_than_10_share  score  fold  \n",
       "0                  0.027322                         0.084699    3.5   4.0  \n",
       "1                  0.015584                         0.044156    3.5   2.0  \n",
       "2                  0.020734                         0.092504    6.0   0.0  \n",
       "3                  0.011952                         0.051793    2.0   3.0  \n",
       "4                  0.031553                         0.060680    4.0   1.0  \n",
       "...                     ...                              ...    ...   ...  \n",
       "2466               0.023161                         0.064033    3.5   1.0  \n",
       "2467               0.012766                         0.006383    4.0   2.0  \n",
       "2468               0.004505                         0.054054    1.5   4.0  \n",
       "2469               0.018000                         0.088000    5.0   1.0  \n",
       "2470               0.034221                         0.093156    4.0   4.0  \n",
       "\n",
       "[2471 rows x 190 columns]"
      ]
     },
     "execution_count": 48,
     "metadata": {},
     "output_type": "execute_result"
    }
   ],
   "source": [
    "train_feats"
   ]
  },
  {
   "cell_type": "code",
   "execution_count": 49,
   "id": "7f923f98-2614-4196-a4bf-eeab9e79e4b8",
   "metadata": {
    "execution": {
     "iopub.execute_input": "2023-10-30T20:43:51.819187Z",
     "iopub.status.busy": "2023-10-30T20:43:51.818983Z",
     "iopub.status.idle": "2023-10-30T20:43:51.826702Z",
     "shell.execute_reply": "2023-10-30T20:43:51.826089Z",
     "shell.execute_reply.started": "2023-10-30T20:43:51.819172Z"
    }
   },
   "outputs": [
    {
     "data": {
      "text/html": [
       "<div>\n",
       "<style scoped>\n",
       "    .dataframe tbody tr th:only-of-type {\n",
       "        vertical-align: middle;\n",
       "    }\n",
       "\n",
       "    .dataframe tbody tr th {\n",
       "        vertical-align: top;\n",
       "    }\n",
       "\n",
       "    .dataframe thead th {\n",
       "        text-align: right;\n",
       "    }\n",
       "</style>\n",
       "<table border=\"1\" class=\"dataframe\">\n",
       "  <thead>\n",
       "    <tr style=\"text-align: right;\">\n",
       "      <th></th>\n",
       "      <th>total_word_count</th>\n",
       "      <th>input_word_count</th>\n",
       "    </tr>\n",
       "  </thead>\n",
       "  <tbody>\n",
       "    <tr>\n",
       "      <th>0</th>\n",
       "      <td>255</td>\n",
       "      <td>366</td>\n",
       "    </tr>\n",
       "    <tr>\n",
       "      <th>1</th>\n",
       "      <td>320</td>\n",
       "      <td>385</td>\n",
       "    </tr>\n",
       "    <tr>\n",
       "      <th>2</th>\n",
       "      <td>404</td>\n",
       "      <td>627</td>\n",
       "    </tr>\n",
       "    <tr>\n",
       "      <th>3</th>\n",
       "      <td>206</td>\n",
       "      <td>251</td>\n",
       "    </tr>\n",
       "    <tr>\n",
       "      <th>4</th>\n",
       "      <td>252</td>\n",
       "      <td>412</td>\n",
       "    </tr>\n",
       "    <tr>\n",
       "      <th>...</th>\n",
       "      <td>...</td>\n",
       "      <td>...</td>\n",
       "    </tr>\n",
       "    <tr>\n",
       "      <th>2466</th>\n",
       "      <td>273</td>\n",
       "      <td>734</td>\n",
       "    </tr>\n",
       "    <tr>\n",
       "      <th>2467</th>\n",
       "      <td>438</td>\n",
       "      <td>470</td>\n",
       "    </tr>\n",
       "    <tr>\n",
       "      <th>2468</th>\n",
       "      <td>201</td>\n",
       "      <td>222</td>\n",
       "    </tr>\n",
       "    <tr>\n",
       "      <th>2469</th>\n",
       "      <td>413</td>\n",
       "      <td>500</td>\n",
       "    </tr>\n",
       "    <tr>\n",
       "      <th>2470</th>\n",
       "      <td>240</td>\n",
       "      <td>526</td>\n",
       "    </tr>\n",
       "  </tbody>\n",
       "</table>\n",
       "<p>2471 rows × 2 columns</p>\n",
       "</div>"
      ],
      "text/plain": [
       "      total_word_count  input_word_count\n",
       "0                  255               366\n",
       "1                  320               385\n",
       "2                  404               627\n",
       "3                  206               251\n",
       "4                  252               412\n",
       "...                ...               ...\n",
       "2466               273               734\n",
       "2467               438               470\n",
       "2468               201               222\n",
       "2469               413               500\n",
       "2470               240               526\n",
       "\n",
       "[2471 rows x 2 columns]"
      ]
     },
     "execution_count": 49,
     "metadata": {},
     "output_type": "execute_result"
    }
   ],
   "source": [
    "train_feats[[\"total_word_count\", \"input_word_count\"]]"
   ]
  },
  {
   "cell_type": "code",
   "execution_count": null,
   "id": "b5f470b2-7637-4739-aa81-6627f2ffddf2",
   "metadata": {},
   "outputs": [],
   "source": []
  },
  {
   "cell_type": "code",
   "execution_count": 50,
   "id": "0c3dfd0a-a5a5-4806-84d3-798ee857978a",
   "metadata": {
    "execution": {
     "iopub.execute_input": "2023-10-30T20:43:51.828059Z",
     "iopub.status.busy": "2023-10-30T20:43:51.827639Z",
     "iopub.status.idle": "2023-10-30T20:43:51.833612Z",
     "shell.execute_reply": "2023-10-30T20:43:51.832094Z",
     "shell.execute_reply.started": "2023-10-30T20:43:51.828032Z"
    }
   },
   "outputs": [],
   "source": [
    "# 0.6350757558970195 and parameters: {'reg_alpha': 0.03956405207360401, 'reg_lambda': 0.17326220197667552, 'colsample_bytree': 0.560711214460409, 'subsample': 0.5941057238026961, 'learning_rate': 0.006761201503676211, 'num_leaves': 29, 'min_child_samples': 8}"
   ]
  },
  {
   "cell_type": "code",
   "execution_count": 51,
   "id": "621b2434-c127-4911-83c5-aa8abec702b4",
   "metadata": {
    "execution": {
     "iopub.execute_input": "2023-10-30T20:43:51.834631Z",
     "iopub.status.busy": "2023-10-30T20:43:51.834344Z",
     "iopub.status.idle": "2023-10-30T20:43:51.837127Z",
     "shell.execute_reply": "2023-10-30T20:43:51.836654Z",
     "shell.execute_reply.started": "2023-10-30T20:43:51.834614Z"
    }
   },
   "outputs": [],
   "source": [
    "# {'reg_alpha': 0.0034851289289925228, 'reg_lambda': 0.02930609011860095, 'colsample_bytree': 0.5220997197702997, 'subsample': 0.622990252650952, 'learning_rate': 0.0027978209525525255, 'num_leaves': 26, 'min_child_samples': 5}\n",
    "# 0.63189"
   ]
  },
  {
   "cell_type": "markdown",
   "id": "edadc8f5-c2bc-4ef6-9293-a31edce39a7a",
   "metadata": {
    "papermill": {
     "duration": 0.019393,
     "end_time": "2023-10-24T19:15:40.713679",
     "exception": false,
     "start_time": "2023-10-24T19:15:40.694286",
     "status": "completed"
    },
    "tags": []
   },
   "source": [
    "# Train OOF LGBM Models"
   ]
  },
  {
   "cell_type": "code",
   "execution_count": 52,
   "id": "d3e65936-854f-47e8-a825-acf8242d5bcb",
   "metadata": {
    "execution": {
     "iopub.execute_input": "2023-10-30T20:43:51.837993Z",
     "iopub.status.busy": "2023-10-30T20:43:51.837666Z",
     "iopub.status.idle": "2023-10-30T20:43:51.843163Z",
     "shell.execute_reply": "2023-10-30T20:43:51.842676Z",
     "shell.execute_reply.started": "2023-10-30T20:43:51.837960Z"
    }
   },
   "outputs": [],
   "source": [
    "# cnfg.use_optuna_tuning = False"
   ]
  },
  {
   "cell_type": "code",
   "execution_count": 53,
   "id": "4b489eb1-f24d-41a8-bcf5-0677da5105a9",
   "metadata": {
    "execution": {
     "iopub.execute_input": "2023-10-30T20:43:51.844302Z",
     "iopub.status.busy": "2023-10-30T20:43:51.844042Z",
     "iopub.status.idle": "2023-10-30T20:44:00.110422Z",
     "shell.execute_reply": "2023-10-30T20:44:00.109949Z",
     "shell.execute_reply.started": "2023-10-30T20:43:51.844278Z"
    },
    "papermill": {
     "duration": 25.185588,
     "end_time": "2023-10-24T19:16:05.919317",
     "exception": false,
     "start_time": "2023-10-24T19:15:40.733729",
     "status": "completed"
    },
    "tags": []
   },
   "outputs": [
    {
     "name": "stdout",
     "output_type": "stream",
     "text": [
      "{'reg_alpha': 0.046918022306084856, 'reg_lambda': 0.9188563635385238, 'colsample_bytree': 0.5090929056657377, 'subsample': 0.8627739028744885, 'learning_rate': 0.003835462933324096, 'num_leaves': 17, 'min_child_samples': 83, 'verbose': -1, 'early_stopping_rounds': 100}\n",
      "Training for FOLD 0\n",
      "Training for FOLD 1\n",
      "Training for FOLD 2\n",
      "Training for FOLD 3\n",
      "Training for FOLD 4\n"
     ]
    }
   ],
   "source": [
    "feature_names = list(\n",
    "    filter(\n",
    "        lambda x: x not in [cnfg.response_variate, \"id\", \"fold\"], train_feats.columns\n",
    "    )\n",
    ")\n",
    "\n",
    "if not cnfg.use_optuna_tuning:\n",
    "    # 0.638\n",
    "    # best_params = {\n",
    "    #     \"reg_alpha\": 0.002333698391220378,\n",
    "    #     \"reg_lambda\": 0.19122210526689265,\n",
    "    #     \"colsample_bytree\": 0.5547938642836329,\n",
    "    #     \"subsample\": 0.782269098248984,\n",
    "    #     \"learning_rate\": 0.01636065797320474,\n",
    "    #     \"num_leaves\": 14,\n",
    "    #     \"min_child_samples\": 43,\n",
    "    # }\n",
    "    # # 0.6350\n",
    "    # best_params = {\n",
    "    #     \"reg_alpha\": 0.0034851289289925228,\n",
    "    #     \"reg_lambda\": 0.02930609011860095,\n",
    "    #     \"colsample_bytree\": 0.5220997197702997,\n",
    "    #     \"subsample\": 0.622990252650952,\n",
    "    #     \"learning_rate\": 0.0027978209525525255,\n",
    "    #     \"num_leaves\": 26,\n",
    "    #     \"min_child_samples\": 5,\n",
    "    # }\n",
    "    # # 0.634808\n",
    "    # best_params = {\n",
    "    #     \"reg_alpha\": 0.11626442023658703,\n",
    "    #     \"reg_lambda\": 0.28213612893777507,\n",
    "    #     \"colsample_bytree\": 0.5061951276237436,\n",
    "    #     \"subsample\": 0.6325740294633214,\n",
    "    #     \"learning_rate\": 0.008094899490541256,\n",
    "    #     \"num_leaves\": 14,\n",
    "    #     \"min_child_samples\": 91,\n",
    "    # }\n",
    "    # # 0.632345\n",
    "    # best_params = {\n",
    "    #     \"reg_alpha\": 0.1530813665702311,\n",
    "    #     \"reg_lambda\": 0.0060192372576638046,\n",
    "    #     \"colsample_bytree\": 0.5230873872974973,\n",
    "    #     \"subsample\": 0.6128969852118816,\n",
    "    #     \"learning_rate\": 0.004578106461943341,\n",
    "    #     \"num_leaves\": 19,\n",
    "    #     \"min_child_samples\": 13,\n",
    "    # }\n",
    "    # # 0.6324\n",
    "    # best_params = {\n",
    "    #     \"reg_alpha\": 0.004006121641277766,\n",
    "    #     \"reg_lambda\": 0.12440014948183088,\n",
    "    #     \"colsample_bytree\": 0.6112309108417324,\n",
    "    #     \"subsample\": 0.7578516952234549,\n",
    "    #     \"learning_rate\": 0.008002801226418776,\n",
    "    #     \"num_leaves\": 9,\n",
    "    #     \"min_child_samples\": 6,\n",
    "    # }\n",
    "    # 0.63125\n",
    "    best_params = {\n",
    "        \"reg_alpha\": 0.046918022306084856,\n",
    "        \"reg_lambda\": 0.9188563635385238,\n",
    "        \"colsample_bytree\": 0.5090929056657377,\n",
    "        \"subsample\": 0.8627739028744885,\n",
    "        \"learning_rate\": 0.003835462933324096,\n",
    "        \"num_leaves\": 17,\n",
    "        \"min_child_samples\": 83,\n",
    "    }\n",
    "else:\n",
    "    best_params = study.best_params\n",
    "\n",
    "best_params[\"verbose\"] = -1\n",
    "best_params[\"early_stopping_rounds\"] = cnfg.num_trials_early_stopping\n",
    "\n",
    "print(best_params)\n",
    "\n",
    "lgbm_params = {\n",
    "    \"metric\": \"rmse\",\n",
    "    \"random_state\": cnfg.seed,\n",
    "    \"n_estimators\": cnfg.num_estimators,\n",
    "    **best_params,\n",
    "}\n",
    "\n",
    "# [fold]: model\n",
    "models_dict = {}\n",
    "\n",
    "for fold in range(cnfg.num_folds):\n",
    "    print(f\"Training for FOLD {fold}\")\n",
    "\n",
    "    X_train = train_feats[train_feats[\"fold\"] != fold][feature_names]\n",
    "    Y_train = train_feats[train_feats[\"fold\"] != fold][cnfg.response_variate]\n",
    "\n",
    "    X_val = train_feats[train_feats[\"fold\"] == fold][feature_names]\n",
    "    Y_val = train_feats[train_feats[\"fold\"] == fold][cnfg.response_variate]\n",
    "\n",
    "    model = lgb.LGBMRegressor(**lgbm_params)\n",
    "\n",
    "    model.fit(\n",
    "        X_train,\n",
    "        Y_train,\n",
    "        eval_names=[\"train\", \"valid\"],\n",
    "        eval_set=[(X_train, Y_train), (X_val, Y_val)],\n",
    "        # verbose=-1,\n",
    "        eval_metric=\"rmse\",\n",
    "        # early_stopping_rounds=cnfg.num_trials_early_stopping,\n",
    "    )\n",
    "\n",
    "    models_dict[fold] = model"
   ]
  },
  {
   "cell_type": "markdown",
   "id": "2874d267-7fa7-4fe2-8fc7-738d57170c64",
   "metadata": {
    "papermill": {
     "duration": 0.023331,
     "end_time": "2023-10-24T19:16:05.973301",
     "exception": false,
     "start_time": "2023-10-24T19:16:05.949970",
     "status": "completed"
    },
    "tags": []
   },
   "source": [
    "# Mean Feature Importances OF LGBM Models"
   ]
  },
  {
   "cell_type": "code",
   "execution_count": 54,
   "id": "d8048164-c6d1-4afb-a417-58254e81d409",
   "metadata": {
    "execution": {
     "iopub.execute_input": "2023-10-30T20:44:00.111241Z",
     "iopub.status.busy": "2023-10-30T20:44:00.111027Z",
     "iopub.status.idle": "2023-10-30T20:44:00.116005Z",
     "shell.execute_reply": "2023-10-30T20:44:00.115620Z",
     "shell.execute_reply.started": "2023-10-30T20:44:00.111225Z"
    },
    "papermill": {
     "duration": 0.045557,
     "end_time": "2023-10-24T19:16:06.042601",
     "exception": false,
     "start_time": "2023-10-24T19:16:05.997044",
     "status": "completed"
    },
    "tags": []
   },
   "outputs": [],
   "source": [
    "feature_importances_values = np.asarray(\n",
    "    [model.feature_importances_ for model in models_dict.values()]\n",
    ").mean(axis=0)\n",
    "feature_importance_df = pd.DataFrame(\n",
    "    {\"name\": feature_names, \"importance\": feature_importances_values}\n",
    ")\n",
    "\n",
    "feature_importance_df = feature_importance_df.sort_values(\n",
    "    \"importance\", ascending=False\n",
    ").head(cnfg.num_features_to_display)"
   ]
  },
  {
   "cell_type": "code",
   "execution_count": 55,
   "id": "e99430dc-e3c0-47ad-8a7b-a4d026497c59",
   "metadata": {
    "execution": {
     "iopub.execute_input": "2023-10-30T20:44:00.117285Z",
     "iopub.status.busy": "2023-10-30T20:44:00.117153Z",
     "iopub.status.idle": "2023-10-30T20:44:00.647976Z",
     "shell.execute_reply": "2023-10-30T20:44:00.647624Z",
     "shell.execute_reply.started": "2023-10-30T20:44:00.117272Z"
    },
    "papermill": {
     "duration": 1.14728,
     "end_time": "2023-10-24T19:16:07.212482",
     "exception": false,
     "start_time": "2023-10-24T19:16:06.065202",
     "status": "completed"
    },
    "tags": []
   },
   "outputs": [
    {
     "data": {
      "image/png": "[encoded data removed]",
      "text/plain": [
       "<Figure size 1500x600 with 1 Axes>"
      ]
     },
     "metadata": {},
     "output_type": "display_data"
    }
   ],
   "source": [
    "plt.figure(figsize=(15, 6))\n",
    "\n",
    "ax = sns.barplot(data=feature_importance_df, x=\"name\", y=\"importance\")\n",
    "ax.set_title(f\"Mean feature importances\")\n",
    "ax.set_xticks(ax.get_xticks(), ax.get_xticklabels(), rotation=90)\n",
    "\n",
    "plt.show()"
   ]
  },
  {
   "cell_type": "markdown",
   "id": "06a2a349-c306-414d-b854-afd1b7f35e3d",
   "metadata": {
    "papermill": {
     "duration": 0.021782,
     "end_time": "2023-10-24T19:16:07.256800",
     "exception": false,
     "start_time": "2023-10-24T19:16:07.235018",
     "status": "completed"
    },
    "tags": []
   },
   "source": [
    "# Evaluation of OOF Preds on Training Set (CV)"
   ]
  },
  {
   "cell_type": "code",
   "execution_count": 56,
   "id": "7e7d6b49-32b9-4c4d-861d-a86b9733e51c",
   "metadata": {
    "execution": {
     "iopub.execute_input": "2023-10-30T20:44:00.648782Z",
     "iopub.status.busy": "2023-10-30T20:44:00.648626Z",
     "iopub.status.idle": "2023-10-30T20:44:00.721730Z",
     "shell.execute_reply": "2023-10-30T20:44:00.721208Z",
     "shell.execute_reply.started": "2023-10-30T20:44:00.648768Z"
    },
    "papermill": {
     "duration": 0.541644,
     "end_time": "2023-10-24T19:16:07.823709",
     "exception": false,
     "start_time": "2023-10-24T19:16:07.282065",
     "status": "completed"
    },
    "tags": []
   },
   "outputs": [
    {
     "name": "stdout",
     "output_type": "stream",
     "text": [
      "Predicting the train set with FOLD 0\n",
      "Predicting the train set with FOLD 1\n",
      "Predicting the train set with FOLD 2\n",
      "Predicting the train set with FOLD 3\n",
      "Predicting the train set with FOLD 4\n"
     ]
    }
   ],
   "source": [
    "for fold in range(cnfg.num_folds):\n",
    "    print(f\"Predicting the train set with FOLD {fold}\")\n",
    "    X_train = train_feats[train_feats[\"fold\"] != fold][feature_names]\n",
    "    Y_train = train_feats[train_feats[\"fold\"] != fold][cnfg.response_variate]\n",
    "\n",
    "    X_val = train_feats[train_feats[\"fold\"] == fold][feature_names]\n",
    "    Y_val = train_feats[train_feats[\"fold\"] == fold][cnfg.response_variate]\n",
    "\n",
    "    lgb_model = models_dict[fold]\n",
    "    pred_val = lgb_model.predict(X_val, num_iteration=lgb_model.best_iteration_)\n",
    "    train_feats.loc[X_val.index, f\"pred_{cnfg.response_variate}\"] = pred_val"
   ]
  },
  {
   "cell_type": "code",
   "execution_count": 57,
   "id": "2b0b508c-940e-44c5-a876-80122f6ada01",
   "metadata": {
    "execution": {
     "iopub.execute_input": "2023-10-30T20:44:00.722744Z",
     "iopub.status.busy": "2023-10-30T20:44:00.722494Z",
     "iopub.status.idle": "2023-10-30T20:44:00.728429Z",
     "shell.execute_reply": "2023-10-30T20:44:00.727973Z",
     "shell.execute_reply.started": "2023-10-30T20:44:00.722725Z"
    },
    "papermill": {
     "duration": 0.0367,
     "end_time": "2023-10-24T19:16:07.884056",
     "exception": false,
     "start_time": "2023-10-24T19:16:07.847356",
     "status": "completed"
    },
    "tags": []
   },
   "outputs": [
    {
     "name": "stdout",
     "output_type": "stream",
     "text": [
      "CV RMSE: 0.6312505505937492\n"
     ]
    }
   ],
   "source": [
    "rmse = mean_squared_error(\n",
    "    train_feats[cnfg.response_variate],\n",
    "    np.clip(train_feats[f\"pred_{cnfg.response_variate}\"], a_min=0.5, a_max=6.0),\n",
    "    squared=False,\n",
    ")\n",
    "print(\"CV RMSE:\", rmse)\n",
    "train_feats = train_feats.drop(columns=[\"pred_score\"])"
   ]
  },
  {
   "cell_type": "markdown",
   "id": "e4b31369-128c-4084-99b0-7f80c05a70c2",
   "metadata": {
    "papermill": {
     "duration": 0.02323,
     "end_time": "2023-10-24T19:16:07.930669",
     "exception": false,
     "start_time": "2023-10-24T19:16:07.907439",
     "status": "completed"
    },
    "tags": []
   },
   "source": [
    "# Predicting The Test Set\n",
    "\n",
    "We use the mean of all the predictions for all the fold models"
   ]
  },
  {
   "cell_type": "code",
   "execution_count": 58,
   "id": "e7b42b3c-585a-4df6-9a42-e6554858e326",
   "metadata": {
    "execution": {
     "iopub.execute_input": "2023-10-30T20:44:00.729302Z",
     "iopub.status.busy": "2023-10-30T20:44:00.729099Z",
     "iopub.status.idle": "2023-10-30T20:44:00.750857Z",
     "shell.execute_reply": "2023-10-30T20:44:00.750381Z",
     "shell.execute_reply.started": "2023-10-30T20:44:00.729284Z"
    },
    "papermill": {
     "duration": 0.433478,
     "end_time": "2023-10-24T19:16:08.387728",
     "exception": false,
     "start_time": "2023-10-24T19:16:07.954250",
     "status": "completed"
    },
    "tags": []
   },
   "outputs": [
    {
     "name": "stdout",
     "output_type": "stream",
     "text": [
      "Predicting the test set with FOLD 0\n",
      "Predicting the test set with FOLD 1\n",
      "Predicting the test set with FOLD 2\n",
      "Predicting the test set with FOLD 3\n",
      "Predicting the test set with FOLD 4\n"
     ]
    }
   ],
   "source": [
    "for fold in range(cnfg.num_folds):\n",
    "    print(f\"Predicting the test set with FOLD {fold}\")\n",
    "    X_test = test_feats[feature_names]\n",
    "\n",
    "    lgb_model = models_dict[fold]\n",
    "    pred = lgb_model.predict(X_test, num_iteration=lgb_model.best_iteration_)\n",
    "    test_feats[f\"pred_{cnfg.response_variate}_fold{fold}\"] = pred\n",
    "\n",
    "test_feats[cnfg.response_variate] = test_feats[\n",
    "    [f\"pred_{cnfg.response_variate}_fold{fold}\" for fold in range(cnfg.num_folds)]\n",
    "].mean(axis=1)\n",
    "test_feats[cnfg.response_variate] = np.clip(\n",
    "    test_feats[cnfg.response_variate], a_min=0.5, a_max=6.0\n",
    ")"
   ]
  },
  {
   "cell_type": "markdown",
   "id": "ff1cdeae-9b0d-4cdf-a9e1-d03ebb45d6e8",
   "metadata": {
    "papermill": {
     "duration": 0.021794,
     "end_time": "2023-10-24T19:16:08.430726",
     "exception": false,
     "start_time": "2023-10-24T19:16:08.408932",
     "status": "completed"
    },
    "tags": []
   },
   "source": [
    "# Submission"
   ]
  },
  {
   "cell_type": "code",
   "execution_count": 59,
   "id": "2fbe0581-e328-4755-a159-27da90e836a2",
   "metadata": {
    "execution": {
     "iopub.execute_input": "2023-10-30T20:44:00.751748Z",
     "iopub.status.busy": "2023-10-30T20:44:00.751518Z",
     "iopub.status.idle": "2023-10-30T20:44:00.758903Z",
     "shell.execute_reply": "2023-10-30T20:44:00.757698Z",
     "shell.execute_reply.started": "2023-10-30T20:44:00.751730Z"
    },
    "papermill": {
     "duration": 0.038144,
     "end_time": "2023-10-24T19:16:08.491099",
     "exception": false,
     "start_time": "2023-10-24T19:16:08.452955",
     "status": "completed"
    },
    "tags": []
   },
   "outputs": [
    {
     "data": {
      "text/html": [
       "<div>\n",
       "<style scoped>\n",
       "    .dataframe tbody tr th:only-of-type {\n",
       "        vertical-align: middle;\n",
       "    }\n",
       "\n",
       "    .dataframe tbody tr th {\n",
       "        vertical-align: top;\n",
       "    }\n",
       "\n",
       "    .dataframe thead th {\n",
       "        text-align: right;\n",
       "    }\n",
       "</style>\n",
       "<table border=\"1\" class=\"dataframe\">\n",
       "  <thead>\n",
       "    <tr style=\"text-align: right;\">\n",
       "      <th></th>\n",
       "      <th>id</th>\n",
       "      <th>score</th>\n",
       "    </tr>\n",
       "  </thead>\n",
       "  <tbody>\n",
       "    <tr>\n",
       "      <th>0</th>\n",
       "      <td>0000aaaa</td>\n",
       "      <td>1.714799</td>\n",
       "    </tr>\n",
       "    <tr>\n",
       "      <th>1</th>\n",
       "      <td>2222bbbb</td>\n",
       "      <td>1.909268</td>\n",
       "    </tr>\n",
       "    <tr>\n",
       "      <th>2</th>\n",
       "      <td>4444cccc</td>\n",
       "      <td>1.792336</td>\n",
       "    </tr>\n",
       "  </tbody>\n",
       "</table>\n",
       "</div>"
      ],
      "text/plain": [
       "         id     score\n",
       "0  0000aaaa  1.714799\n",
       "1  2222bbbb  1.909268\n",
       "2  4444cccc  1.792336"
      ]
     },
     "execution_count": 59,
     "metadata": {},
     "output_type": "execute_result"
    }
   ],
   "source": [
    "submission = test_feats[[\"id\", cnfg.response_variate]]\n",
    "submission"
   ]
  },
  {
   "cell_type": "code",
   "execution_count": 60,
   "id": "d2dd44dd-5c1e-464f-b3c1-db2b37f79bee",
   "metadata": {
    "execution": {
     "iopub.execute_input": "2023-10-30T20:44:00.760093Z",
     "iopub.status.busy": "2023-10-30T20:44:00.759823Z",
     "iopub.status.idle": "2023-10-30T20:44:00.767177Z",
     "shell.execute_reply": "2023-10-30T20:44:00.766608Z",
     "shell.execute_reply.started": "2023-10-30T20:44:00.760068Z"
    },
    "papermill": {
     "duration": 0.044082,
     "end_time": "2023-10-24T19:16:08.559758",
     "exception": false,
     "start_time": "2023-10-24T19:16:08.515676",
     "status": "completed"
    },
    "tags": []
   },
   "outputs": [],
   "source": [
    "submission.to_csv(\"submission.csv\", index=False)"
   ]
  },
  {
   "cell_type": "code",
   "execution_count": null,
   "id": "b611da83-46d9-4aa5-acd9-bb87a07a4611",
   "metadata": {},
   "outputs": [],
   "source": []
  },
  {
   "cell_type": "code",
   "execution_count": null,
   "id": "30c834dc-df71-4c58-abc9-15329d18ec1c",
   "metadata": {},
   "outputs": [],
   "source": []
  }
 ],
 "metadata": {
  "kernelspec": {
   "display_name": "Python 3 (ipykernel)",
   "language": "python",
   "name": "python3"
  },
  "language_info": {
   "codemirror_mode": {
    "name": "ipython",
    "version": 3
   },
   "file_extension": ".py",
   "mimetype": "text/x-python",
   "name": "python",
   "nbconvert_exporter": "python",
   "pygments_lexer": "ipython3",
   "version": "3.9.12"
  }
 },
 "nbformat": 4,
 "nbformat_minor": 5
}
