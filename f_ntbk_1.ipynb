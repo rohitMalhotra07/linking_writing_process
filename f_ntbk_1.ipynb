{
 "cells": [
  {
   "cell_type": "code",
   "execution_count": 1,
   "id": "88a04674",
   "metadata": {
    "execution": {
     "iopub.execute_input": "2023-12-30T04:50:39.732309Z",
     "iopub.status.busy": "2023-12-30T04:50:39.732097Z",
     "iopub.status.idle": "2023-12-30T04:50:43.714270Z",
     "shell.execute_reply": "2023-12-30T04:50:43.713704Z",
     "shell.execute_reply.started": "2023-12-30T04:50:39.732292Z"
    },
    "papermill": {
     "duration": 17.093467,
     "end_time": "2023-11-22T04:48:10.538783",
     "exception": false,
     "start_time": "2023-11-22T04:47:53.445316",
     "status": "completed"
    },
    "tags": []
   },
   "outputs": [
    {
     "name": "stderr",
     "output_type": "stream",
     "text": [
      "/home/rohit/Desktop/kaggle/virtualenvs/writing_quality/lib/python3.9/site-packages/tqdm/auto.py:21: TqdmWarning: IProgress not found. Please update jupyter and ipywidgets. See https://ipywidgets.readthedocs.io/en/stable/user_install.html\n",
      "  from .autonotebook import tqdm as notebook_tqdm\n"
     ]
    }
   ],
   "source": [
    "import copy\n",
    "import gc\n",
    "import itertools\n",
    "import os\n",
    "import pickle\n",
    "import pprint\n",
    "import random\n",
    "import re\n",
    "import time\n",
    "import warnings\n",
    "from collections import Counter, defaultdict\n",
    "from functools import reduce\n",
    "from itertools import cycle\n",
    "from random import choice, choices\n",
    "\n",
    "import joblib\n",
    "import lightgbm as lgb\n",
    "import matplotlib.pyplot as plt\n",
    "import numpy as np\n",
    "\n",
    "# import catboost as cb\n",
    "import optuna\n",
    "import pandas as pd\n",
    "import polars as pl\n",
    "import seaborn as sns\n",
    "import umap\n",
    "import xgboost as xgb\n",
    "from gensim.models import Word2Vec\n",
    "from gensim.test.utils import common_texts\n",
    "from scipy import stats\n",
    "from scipy.stats import kurtosis, skew\n",
    "from sklearn import (\n",
    "    decomposition,\n",
    "    ensemble,\n",
    "    linear_model,\n",
    "    metrics,\n",
    "    model_selection,\n",
    "    preprocessing,\n",
    "    tree,\n",
    ")\n",
    "from sklearn.feature_extraction.text import CountVectorizer, TfidfVectorizer\n",
    "from sklearn.impute import SimpleImputer\n",
    "from sklearn.metrics import accuracy_score, mean_absolute_error, mean_squared_error\n",
    "from sklearn.model_selection import GroupKFold, KFold, StratifiedKFold, train_test_split\n",
    "from sklearn.pipeline import Pipeline\n",
    "\n",
    "# from gensim.models import Word2Vec\n",
    "from sklearn.preprocessing import (\n",
    "    FunctionTransformer,\n",
    "    LabelEncoder,\n",
    "    PowerTransformer,\n",
    "    RobustScaler,\n",
    ")\n",
    "from sklearn.svm import SVR\n",
    "from tqdm import tqdm\n",
    "from tqdm.autonotebook import tqdm"
   ]
  },
  {
   "cell_type": "code",
   "execution_count": 2,
   "id": "bbdd6610",
   "metadata": {
    "execution": {
     "iopub.execute_input": "2023-12-30T04:50:43.715400Z",
     "iopub.status.busy": "2023-12-30T04:50:43.715178Z",
     "iopub.status.idle": "2023-12-30T04:50:43.720118Z",
     "shell.execute_reply": "2023-12-30T04:50:43.719700Z",
     "shell.execute_reply.started": "2023-12-30T04:50:43.715384Z"
    },
    "papermill": {
     "duration": 0.031629,
     "end_time": "2023-11-22T04:48:10.593054",
     "exception": false,
     "start_time": "2023-11-22T04:48:10.561425",
     "status": "completed"
    },
    "tags": []
   },
   "outputs": [
    {
     "data": {
      "text/plain": [
       "'2.0.3'"
      ]
     },
     "execution_count": 2,
     "metadata": {},
     "output_type": "execute_result"
    }
   ],
   "source": [
    "pd.__version__"
   ]
  },
  {
   "cell_type": "code",
   "execution_count": 3,
   "id": "28c9f98c-21ac-4604-afa3-ffc8b3d686bc",
   "metadata": {
    "execution": {
     "iopub.execute_input": "2023-12-30T04:50:43.720829Z",
     "iopub.status.busy": "2023-12-30T04:50:43.720644Z",
     "iopub.status.idle": "2023-12-30T04:50:43.733726Z",
     "shell.execute_reply": "2023-12-30T04:50:43.733314Z",
     "shell.execute_reply.started": "2023-12-30T04:50:43.720815Z"
    }
   },
   "outputs": [
    {
     "data": {
      "text/plain": [
       "'3.3.2'"
      ]
     },
     "execution_count": 3,
     "metadata": {},
     "output_type": "execute_result"
    }
   ],
   "source": [
    "lgb.__version__"
   ]
  },
  {
   "cell_type": "code",
   "execution_count": null,
   "id": "a7cab1d1-4fbe-417a-aaa4-6b9443f6d6c5",
   "metadata": {},
   "outputs": [],
   "source": []
  },
  {
   "cell_type": "code",
   "execution_count": 4,
   "id": "3423a3bc",
   "metadata": {
    "execution": {
     "iopub.execute_input": "2023-12-30T04:50:43.735110Z",
     "iopub.status.busy": "2023-12-30T04:50:43.734845Z",
     "iopub.status.idle": "2023-12-30T04:50:43.738998Z",
     "shell.execute_reply": "2023-12-30T04:50:43.738540Z",
     "shell.execute_reply.started": "2023-12-30T04:50:43.735094Z"
    },
    "papermill": {
     "duration": 0.029896,
     "end_time": "2023-11-22T04:48:10.646351",
     "exception": false,
     "start_time": "2023-11-22T04:48:10.616455",
     "status": "completed"
    },
    "tags": []
   },
   "outputs": [],
   "source": [
    "class MyConfig:\n",
    "    INPUT_DIR = \"./data\"\n",
    "    seed = 42\n",
    "    is_time_in_secs = True\n",
    "    time_divider = 1000 if is_time_in_secs else 1\n",
    "\n",
    "    num_folds = 10\n",
    "    num_estimators = 12001\n",
    "    num_trials_early_stopping = 200\n",
    "\n",
    "    response_variate = \"score\"\n",
    "    is_local = True\n",
    "    use_optuna_tuning = False\n",
    "    test_size_local = 0.2\n",
    "    num_trials_optuna = 100\n",
    "\n",
    "    num_features_to_display = 50\n",
    "    vector_size = 64\n",
    "    umap_filename = \"count_vectoriser_umap2.sav\""
   ]
  },
  {
   "cell_type": "code",
   "execution_count": 5,
   "id": "24183bb2",
   "metadata": {
    "execution": {
     "iopub.execute_input": "2023-12-30T04:50:43.739923Z",
     "iopub.status.busy": "2023-12-30T04:50:43.739646Z",
     "iopub.status.idle": "2023-12-30T04:50:43.747122Z",
     "shell.execute_reply": "2023-12-30T04:50:43.746688Z",
     "shell.execute_reply.started": "2023-12-30T04:50:43.739905Z"
    },
    "papermill": {
     "duration": 0.028456,
     "end_time": "2023-11-22T04:48:10.697051",
     "exception": false,
     "start_time": "2023-11-22T04:48:10.668595",
     "status": "completed"
    },
    "tags": []
   },
   "outputs": [],
   "source": [
    "cnfg = MyConfig()"
   ]
  },
  {
   "cell_type": "code",
   "execution_count": 6,
   "id": "5968ae5f-36ab-41d1-8e3a-d1e28f7cee17",
   "metadata": {
    "execution": {
     "iopub.execute_input": "2023-12-30T04:50:43.747843Z",
     "iopub.status.busy": "2023-12-30T04:50:43.747663Z",
     "iopub.status.idle": "2023-12-30T04:50:43.752655Z",
     "shell.execute_reply": "2023-12-30T04:50:43.752337Z",
     "shell.execute_reply.started": "2023-12-30T04:50:43.747827Z"
    }
   },
   "outputs": [],
   "source": [
    "tqdm.pandas()\n",
    "sns.set_style(\"whitegrid\")\n",
    "warnings.simplefilter(\"ignore\")\n",
    "random.seed(cnfg.seed)\n",
    "np.random.seed(cnfg.seed)"
   ]
  },
  {
   "cell_type": "markdown",
   "id": "be2315ef",
   "metadata": {
    "papermill": {
     "duration": 0.021971,
     "end_time": "2023-11-22T04:48:10.741196",
     "exception": false,
     "start_time": "2023-11-22T04:48:10.719225",
     "status": "completed"
    },
    "tags": []
   },
   "source": [
    "# Import Data"
   ]
  },
  {
   "cell_type": "code",
   "execution_count": 7,
   "id": "6d33ffaf",
   "metadata": {
    "execution": {
     "iopub.execute_input": "2023-12-30T04:50:43.753281Z",
     "iopub.status.busy": "2023-12-30T04:50:43.753116Z",
     "iopub.status.idle": "2023-12-30T04:50:48.439688Z",
     "shell.execute_reply": "2023-12-30T04:50:48.437871Z",
     "shell.execute_reply.started": "2023-12-30T04:50:43.753267Z"
    },
    "papermill": {
     "duration": 13.636537,
     "end_time": "2023-11-22T04:48:24.400176",
     "exception": false,
     "start_time": "2023-11-22T04:48:10.763639",
     "status": "completed"
    },
    "tags": []
   },
   "outputs": [],
   "source": [
    "traindf = pd.read_csv(f\"{cnfg.INPUT_DIR}/train_logs.csv\")\n",
    "train_scores = pd.read_csv(f\"{cnfg.INPUT_DIR}/train_scores.csv\")\n",
    "\n",
    "if cnfg.is_local:\n",
    "    train_scores, test_scores = train_test_split(\n",
    "        train_scores,\n",
    "        test_size=cnfg.test_size_local,\n",
    "        random_state=cnfg.seed,\n",
    "        stratify=train_scores.score,\n",
    "    )\n",
    "    train_scores = train_scores.reset_index(drop=True)\n",
    "    test_scores = test_scores.reset_index(drop=True)\n",
    "    testdf = traindf[traindf.id.isin(test_scores.id.unique())].reset_index(drop=True)\n",
    "    traindf = traindf[traindf.id.isin(train_scores.id.unique())].reset_index(drop=True)\n",
    "else:\n",
    "    testdf = pd.read_csv(f\"{cnfg.INPUT_DIR}/test_logs.csv\")"
   ]
  },
  {
   "cell_type": "code",
   "execution_count": 8,
   "id": "eeda7207-4a8e-4dec-8954-946afce166d5",
   "metadata": {
    "execution": {
     "iopub.execute_input": "2023-12-30T04:50:48.442283Z",
     "iopub.status.busy": "2023-12-30T04:50:48.441680Z",
     "iopub.status.idle": "2023-12-30T04:50:48.449683Z",
     "shell.execute_reply": "2023-12-30T04:50:48.448894Z",
     "shell.execute_reply.started": "2023-12-30T04:50:48.442223Z"
    }
   },
   "outputs": [
    {
     "data": {
      "text/plain": [
       "((6719293, 11), (1686605, 11))"
      ]
     },
     "execution_count": 8,
     "metadata": {},
     "output_type": "execute_result"
    }
   ],
   "source": [
    "traindf.shape, testdf.shape"
   ]
  },
  {
   "cell_type": "markdown",
   "id": "0c4b2f5e",
   "metadata": {
    "papermill": {
     "duration": 0.029161,
     "end_time": "2023-11-22T04:48:24.460439",
     "exception": false,
     "start_time": "2023-11-22T04:48:24.431278",
     "status": "completed"
    },
    "tags": []
   },
   "source": [
    "## Essay Constructor"
   ]
  },
  {
   "cell_type": "code",
   "execution_count": 9,
   "id": "4f37ee7e",
   "metadata": {
    "execution": {
     "iopub.execute_input": "2023-12-30T04:50:48.451096Z",
     "iopub.status.busy": "2023-12-30T04:50:48.450954Z",
     "iopub.status.idle": "2023-12-30T04:50:48.465333Z",
     "shell.execute_reply": "2023-12-30T04:50:48.464924Z",
     "shell.execute_reply.started": "2023-12-30T04:50:48.451081Z"
    },
    "papermill": {
     "duration": 0.05104,
     "end_time": "2023-11-22T04:48:24.540794",
     "exception": false,
     "start_time": "2023-11-22T04:48:24.489754",
     "status": "completed"
    },
    "tags": []
   },
   "outputs": [],
   "source": [
    "def getEssays(df):\n",
    "    # Copy required columns\n",
    "    textInputDf = df[[\"id\", \"activity\", \"cursor_position\", \"text_change\"]].copy()\n",
    "\n",
    "    # Get rid of text inputs that make no change\n",
    "    # Note: Shift was unpreditcable so ignored\n",
    "    textInputDf = textInputDf[textInputDf.activity != \"Nonproduction\"]\n",
    "\n",
    "    # Get how much each Id there is\n",
    "    valCountsArr = textInputDf[\"id\"].value_counts(sort=False).values\n",
    "\n",
    "    # Holds the final index of the previous Id\n",
    "    lastIndex = 0\n",
    "\n",
    "    # Holds all the essays\n",
    "    essaySeries = pd.Series()\n",
    "\n",
    "    # Fills essay series with essays\n",
    "    for index, valCount in enumerate(valCountsArr):\n",
    "        # Indexes down_time at current Id\n",
    "        currTextInput = textInputDf[\n",
    "            [\"activity\", \"cursor_position\", \"text_change\"]\n",
    "        ].iloc[lastIndex : lastIndex + valCount]\n",
    "\n",
    "        # Update the last index\n",
    "        lastIndex += valCount\n",
    "\n",
    "        # Where the essay content will be stored\n",
    "        essayText = \"\"\n",
    "\n",
    "        # Produces the essay\n",
    "        for Input in currTextInput.values:\n",
    "            # Input[0] = activity\n",
    "            # Input[2] = cursor_position\n",
    "            # Input[3] = text_change\n",
    "\n",
    "            # If activity = Replace\n",
    "            if Input[0] == \"Replace\":\n",
    "                # splits text_change at ' => '\n",
    "                replaceTxt = Input[2].split(\" => \")\n",
    "\n",
    "                # DONT TOUCH\n",
    "                essayText = (\n",
    "                    essayText[: Input[1] - len(replaceTxt[1])]\n",
    "                    + replaceTxt[1]\n",
    "                    + essayText[Input[1] - len(replaceTxt[1]) + len(replaceTxt[0]) :]\n",
    "                )\n",
    "                continue\n",
    "\n",
    "            # If activity = Paste\n",
    "            if Input[0] == \"Paste\":\n",
    "                # DONT TOUCH\n",
    "                essayText = (\n",
    "                    essayText[: Input[1] - len(Input[2])]\n",
    "                    + Input[2]\n",
    "                    + essayText[Input[1] - len(Input[2]) :]\n",
    "                )\n",
    "                continue\n",
    "\n",
    "            # If activity = Remove/Cut\n",
    "            if Input[0] == \"Remove/Cut\":\n",
    "                # DONT TOUCH\n",
    "                essayText = (\n",
    "                    essayText[: Input[1]] + essayText[Input[1] + len(Input[2]) :]\n",
    "                )\n",
    "                continue\n",
    "\n",
    "            # If activity = Move...\n",
    "            if \"M\" in Input[0]:\n",
    "                # Gets rid of the \"Move from to\" text\n",
    "                croppedTxt = Input[0][10:]\n",
    "\n",
    "                # Splits cropped text by ' To '\n",
    "                splitTxt = croppedTxt.split(\" To \")\n",
    "\n",
    "                # Splits split text again by ', ' for each item\n",
    "                valueArr = [item.split(\", \") for item in splitTxt]\n",
    "\n",
    "                # Move from [2, 4] To [5, 7] = (2, 4, 5, 7)\n",
    "                moveData = (\n",
    "                    int(valueArr[0][0][1:]),\n",
    "                    int(valueArr[0][1][:-1]),\n",
    "                    int(valueArr[1][0][1:]),\n",
    "                    int(valueArr[1][1][:-1]),\n",
    "                )\n",
    "\n",
    "                # Skip if someone manages to activiate this by moving to same place\n",
    "                if moveData[0] != moveData[2]:\n",
    "                    # Check if they move text forward in essay (they are different)\n",
    "                    if moveData[0] < moveData[2]:\n",
    "                        # DONT TOUCH\n",
    "                        essayText = (\n",
    "                            essayText[: moveData[0]]\n",
    "                            + essayText[moveData[1] : moveData[3]]\n",
    "                            + essayText[moveData[0] : moveData[1]]\n",
    "                            + essayText[moveData[3] :]\n",
    "                        )\n",
    "                    else:\n",
    "                        # DONT TOUCH\n",
    "                        essayText = (\n",
    "                            essayText[: moveData[2]]\n",
    "                            + essayText[moveData[0] : moveData[1]]\n",
    "                            + essayText[moveData[2] : moveData[0]]\n",
    "                            + essayText[moveData[1] :]\n",
    "                        )\n",
    "                continue\n",
    "\n",
    "            # If just input\n",
    "            # DONT TOUCH\n",
    "            essayText = (\n",
    "                essayText[: Input[1] - len(Input[2])]\n",
    "                + Input[2]\n",
    "                + essayText[Input[1] - len(Input[2]) :]\n",
    "            )\n",
    "\n",
    "        # Sets essay at index\n",
    "        essaySeries[index] = essayText\n",
    "\n",
    "    # Sets essay series index to the ids\n",
    "    essaySeries.index = textInputDf[\"id\"].unique()\n",
    "\n",
    "    # Returns the essay series\n",
    "    return essaySeries"
   ]
  },
  {
   "cell_type": "code",
   "execution_count": 10,
   "id": "8ffa20f4",
   "metadata": {
    "execution": {
     "iopub.execute_input": "2023-12-30T04:50:48.467448Z",
     "iopub.status.busy": "2023-12-30T04:50:48.467290Z",
     "iopub.status.idle": "2023-12-30T04:53:33.245823Z",
     "shell.execute_reply": "2023-12-30T04:53:33.245319Z",
     "shell.execute_reply.started": "2023-12-30T04:50:48.467432Z"
    },
    "papermill": {
     "duration": 594.961777,
     "end_time": "2023-11-22T04:58:19.526510",
     "exception": false,
     "start_time": "2023-11-22T04:48:24.564733",
     "status": "completed"
    },
    "tags": []
   },
   "outputs": [
    {
     "name": "stdout",
     "output_type": "stream",
     "text": [
      "CPU times: user 1min 57s, sys: 47.4 s, total: 2min 44s\n",
      "Wall time: 2min 44s\n"
     ]
    }
   ],
   "source": [
    "%%time\n",
    "train_essays = getEssays(traindf)"
   ]
  },
  {
   "cell_type": "code",
   "execution_count": 11,
   "id": "81140c97",
   "metadata": {
    "execution": {
     "iopub.execute_input": "2023-12-30T04:53:33.246525Z",
     "iopub.status.busy": "2023-12-30T04:53:33.246364Z",
     "iopub.status.idle": "2023-12-30T04:53:42.182269Z",
     "shell.execute_reply": "2023-12-30T04:53:42.181779Z",
     "shell.execute_reply.started": "2023-12-30T04:53:33.246510Z"
    },
    "papermill": {
     "duration": 0.037082,
     "end_time": "2023-11-22T04:58:19.586248",
     "exception": false,
     "start_time": "2023-11-22T04:58:19.549166",
     "status": "completed"
    },
    "tags": []
   },
   "outputs": [],
   "source": [
    "test_essays = getEssays(testdf)"
   ]
  },
  {
   "cell_type": "code",
   "execution_count": 12,
   "id": "e5cf7ae8",
   "metadata": {
    "execution": {
     "iopub.execute_input": "2023-12-30T04:53:42.183049Z",
     "iopub.status.busy": "2023-12-30T04:53:42.182845Z",
     "iopub.status.idle": "2023-12-30T04:53:42.186401Z",
     "shell.execute_reply": "2023-12-30T04:53:42.185891Z",
     "shell.execute_reply.started": "2023-12-30T04:53:42.183018Z"
    },
    "papermill": {
     "duration": 0.030618,
     "end_time": "2023-11-22T04:58:19.639906",
     "exception": false,
     "start_time": "2023-11-22T04:58:19.609288",
     "status": "completed"
    },
    "tags": []
   },
   "outputs": [],
   "source": [
    "train_essaysdf = pd.DataFrame({\"id\": train_essays.index, \"essay\": train_essays.values})\n",
    "test_essaysdf = pd.DataFrame({\"id\": test_essays.index, \"essay\": test_essays.values})"
   ]
  },
  {
   "cell_type": "code",
   "execution_count": 13,
   "id": "32b0cee6",
   "metadata": {
    "execution": {
     "iopub.execute_input": "2023-12-30T04:53:42.187552Z",
     "iopub.status.busy": "2023-12-30T04:53:42.187031Z",
     "iopub.status.idle": "2023-12-30T04:53:42.206950Z",
     "shell.execute_reply": "2023-12-30T04:53:42.206345Z",
     "shell.execute_reply.started": "2023-12-30T04:53:42.187496Z"
    },
    "papermill": {
     "duration": 0.037183,
     "end_time": "2023-11-22T04:58:19.699652",
     "exception": false,
     "start_time": "2023-11-22T04:58:19.662469",
     "status": "completed"
    },
    "tags": []
   },
   "outputs": [],
   "source": [
    "merged_data = train_essaysdf.merge(train_scores, on=\"id\")"
   ]
  },
  {
   "cell_type": "code",
   "execution_count": null,
   "id": "3df091d3-b35d-4065-afc7-71d4a11afc6f",
   "metadata": {},
   "outputs": [],
   "source": []
  },
  {
   "cell_type": "markdown",
   "id": "18ee9139",
   "metadata": {
    "papermill": {
     "duration": 0.022053,
     "end_time": "2023-11-22T04:58:19.743975",
     "exception": false,
     "start_time": "2023-11-22T04:58:19.721922",
     "status": "completed"
    },
    "tags": []
   },
   "source": [
    "## Using Tokenizer"
   ]
  },
  {
   "cell_type": "code",
   "execution_count": 14,
   "id": "f571f38f",
   "metadata": {
    "execution": {
     "iopub.execute_input": "2023-12-30T04:53:42.208102Z",
     "iopub.status.busy": "2023-12-30T04:53:42.207818Z",
     "iopub.status.idle": "2023-12-30T04:53:42.690853Z",
     "shell.execute_reply": "2023-12-30T04:53:42.690308Z",
     "shell.execute_reply.started": "2023-12-30T04:53:42.208082Z"
    },
    "papermill": {
     "duration": 1.451119,
     "end_time": "2023-11-22T04:58:21.217443",
     "exception": false,
     "start_time": "2023-11-22T04:58:19.766324",
     "status": "completed"
    },
    "tags": []
   },
   "outputs": [],
   "source": [
    "count_vectorizer = CountVectorizer(ngram_range=(1, 2))\n",
    "# count_vectorizer = TfidfVectorizer(ngram_range=(1, 2))\n",
    "X_tokenizer_train = count_vectorizer.fit_transform(merged_data[\"essay\"])\n",
    "X_tokenizer_test = count_vectorizer.transform(test_essaysdf[\"essay\"])"
   ]
  },
  {
   "cell_type": "code",
   "execution_count": null,
   "id": "e8c4ba89-cc81-447c-a0c6-ad0f6bc6e57c",
   "metadata": {},
   "outputs": [],
   "source": []
  },
  {
   "cell_type": "code",
   "execution_count": 15,
   "id": "38c57558-a20c-486b-b415-de3aa2a1a221",
   "metadata": {
    "execution": {
     "iopub.execute_input": "2023-12-30T04:53:42.691563Z",
     "iopub.status.busy": "2023-12-30T04:53:42.691357Z",
     "iopub.status.idle": "2023-12-30T04:53:42.694284Z",
     "shell.execute_reply": "2023-12-30T04:53:42.693677Z",
     "shell.execute_reply.started": "2023-12-30T04:53:42.691517Z"
    }
   },
   "outputs": [],
   "source": [
    "# dim_reduction_model = umap.UMAP(\n",
    "#     n_components=64, metric=\"hellinger\", random_state=cnfg.seed\n",
    "# )\n",
    "# dim_reduction_model = dim_reduction_model.fit(X_tokenizer_train)\n",
    "# joblib.dump(dim_reduction_model, cnfg.umap_filename)"
   ]
  },
  {
   "cell_type": "code",
   "execution_count": 16,
   "id": "950f60c7-b39d-4fce-ba7d-8a929fd7481b",
   "metadata": {
    "execution": {
     "iopub.execute_input": "2023-12-30T04:53:42.695087Z",
     "iopub.status.busy": "2023-12-30T04:53:42.694890Z",
     "iopub.status.idle": "2023-12-30T04:53:42.709812Z",
     "shell.execute_reply": "2023-12-30T04:53:42.709401Z",
     "shell.execute_reply.started": "2023-12-30T04:53:42.695073Z"
    }
   },
   "outputs": [],
   "source": [
    "# dim_reduction_model = joblib.load(cnfg.umap_filename)"
   ]
  },
  {
   "cell_type": "code",
   "execution_count": 17,
   "id": "e1f3e115-2b8a-4fd5-814e-fc5c168b2135",
   "metadata": {
    "execution": {
     "iopub.execute_input": "2023-12-30T04:53:42.710499Z",
     "iopub.status.busy": "2023-12-30T04:53:42.710306Z",
     "iopub.status.idle": "2023-12-30T04:53:42.718720Z",
     "shell.execute_reply": "2023-12-30T04:53:42.718142Z",
     "shell.execute_reply.started": "2023-12-30T04:53:42.710483Z"
    }
   },
   "outputs": [],
   "source": [
    "# dim_reduction_model = TruncatedSVD(n_components=64, n_iter=10, random_state=cnfg.seed)\n",
    "# dim_reduction_model = dim_reduction_model.fit(X_tokenizer_train)"
   ]
  },
  {
   "cell_type": "code",
   "execution_count": 18,
   "id": "e6b288fe-278f-4a0a-a79f-3ac2cd9d00ba",
   "metadata": {
    "execution": {
     "iopub.execute_input": "2023-12-30T04:53:42.719599Z",
     "iopub.status.busy": "2023-12-30T04:53:42.719318Z",
     "iopub.status.idle": "2023-12-30T04:53:42.724061Z",
     "shell.execute_reply": "2023-12-30T04:53:42.723581Z",
     "shell.execute_reply.started": "2023-12-30T04:53:42.719584Z"
    }
   },
   "outputs": [],
   "source": [
    "# dim_reduction_model"
   ]
  },
  {
   "cell_type": "code",
   "execution_count": null,
   "id": "1bd176e8-7f2b-4d36-965c-75b4aba463f4",
   "metadata": {},
   "outputs": [],
   "source": []
  },
  {
   "cell_type": "code",
   "execution_count": 19,
   "id": "aa656a8d",
   "metadata": {
    "execution": {
     "iopub.execute_input": "2023-12-30T04:53:42.724839Z",
     "iopub.status.busy": "2023-12-30T04:53:42.724665Z",
     "iopub.status.idle": "2023-12-30T04:53:42.733123Z",
     "shell.execute_reply": "2023-12-30T04:53:42.732465Z",
     "shell.execute_reply.started": "2023-12-30T04:53:42.724824Z"
    },
    "papermill": {
     "duration": 0.03347,
     "end_time": "2023-11-22T04:58:21.277451",
     "exception": false,
     "start_time": "2023-11-22T04:58:21.243981",
     "status": "completed"
    },
    "tags": []
   },
   "outputs": [
    {
     "data": {
      "text/plain": [
       "(1976, 277)"
      ]
     },
     "execution_count": 19,
     "metadata": {},
     "output_type": "execute_result"
    }
   ],
   "source": [
    "X_tokenizer_train.shape"
   ]
  },
  {
   "cell_type": "code",
   "execution_count": 20,
   "id": "039ee3f8",
   "metadata": {
    "execution": {
     "iopub.execute_input": "2023-12-30T04:53:42.734288Z",
     "iopub.status.busy": "2023-12-30T04:53:42.734024Z",
     "iopub.status.idle": "2023-12-30T04:53:42.739011Z",
     "shell.execute_reply": "2023-12-30T04:53:42.738552Z",
     "shell.execute_reply.started": "2023-12-30T04:53:42.734259Z"
    },
    "papermill": {
     "duration": 0.033084,
     "end_time": "2023-11-22T04:58:21.333856",
     "exception": false,
     "start_time": "2023-11-22T04:58:21.300772",
     "status": "completed"
    },
    "tags": []
   },
   "outputs": [
    {
     "data": {
      "text/plain": [
       "(495, 277)"
      ]
     },
     "execution_count": 20,
     "metadata": {},
     "output_type": "execute_result"
    }
   ],
   "source": [
    "X_tokenizer_test.shape"
   ]
  },
  {
   "cell_type": "code",
   "execution_count": 21,
   "id": "673e1fbd",
   "metadata": {
    "execution": {
     "iopub.execute_input": "2023-12-30T04:53:42.740184Z",
     "iopub.status.busy": "2023-12-30T04:53:42.739793Z",
     "iopub.status.idle": "2023-12-30T04:53:42.745180Z",
     "shell.execute_reply": "2023-12-30T04:53:42.744753Z",
     "shell.execute_reply.started": "2023-12-30T04:53:42.740160Z"
    },
    "papermill": {
     "duration": 0.033352,
     "end_time": "2023-11-22T04:58:21.394506",
     "exception": false,
     "start_time": "2023-11-22T04:58:21.361154",
     "status": "completed"
    },
    "tags": []
   },
   "outputs": [],
   "source": [
    "df_train = pd.DataFrame()\n",
    "df_test = pd.DataFrame()"
   ]
  },
  {
   "cell_type": "code",
   "execution_count": 22,
   "id": "5f084450-2c6b-4a81-b12c-2b007c07274a",
   "metadata": {
    "execution": {
     "iopub.execute_input": "2023-12-30T04:53:42.746129Z",
     "iopub.status.busy": "2023-12-30T04:53:42.745895Z",
     "iopub.status.idle": "2023-12-30T04:53:42.751894Z",
     "shell.execute_reply": "2023-12-30T04:53:42.751395Z",
     "shell.execute_reply.started": "2023-12-30T04:53:42.746112Z"
    }
   },
   "outputs": [],
   "source": [
    "X_tokenizer_train = np.array(X_tokenizer_train.todense())\n",
    "X_tokenizer_test = np.array(X_tokenizer_test.todense())"
   ]
  },
  {
   "cell_type": "code",
   "execution_count": 23,
   "id": "5f694a75-340a-44e5-b550-c0f5c72593db",
   "metadata": {
    "execution": {
     "iopub.execute_input": "2023-12-30T04:53:42.752624Z",
     "iopub.status.busy": "2023-12-30T04:53:42.752450Z",
     "iopub.status.idle": "2023-12-30T04:53:42.755369Z",
     "shell.execute_reply": "2023-12-30T04:53:42.755060Z",
     "shell.execute_reply.started": "2023-12-30T04:53:42.752609Z"
    }
   },
   "outputs": [],
   "source": [
    "# X_tokenizer_train = dim_reduction_model.transform(X_tokenizer_train)\n",
    "# X_tokenizer_test = dim_reduction_model.transform(X_tokenizer_test)"
   ]
  },
  {
   "cell_type": "code",
   "execution_count": 24,
   "id": "9c32797b-0f96-4256-9fd5-5b32905e8305",
   "metadata": {
    "execution": {
     "iopub.execute_input": "2023-12-30T04:53:42.755998Z",
     "iopub.status.busy": "2023-12-30T04:53:42.755794Z",
     "iopub.status.idle": "2023-12-30T04:53:42.761808Z",
     "shell.execute_reply": "2023-12-30T04:53:42.761163Z",
     "shell.execute_reply.started": "2023-12-30T04:53:42.755984Z"
    }
   },
   "outputs": [
    {
     "data": {
      "text/plain": [
       "((1976, 277), (495, 277))"
      ]
     },
     "execution_count": 24,
     "metadata": {},
     "output_type": "execute_result"
    }
   ],
   "source": [
    "X_tokenizer_train.shape, X_tokenizer_test.shape"
   ]
  },
  {
   "cell_type": "code",
   "execution_count": null,
   "id": "6a7fef38-a888-4190-b215-3a4c8004e433",
   "metadata": {},
   "outputs": [],
   "source": []
  },
  {
   "cell_type": "code",
   "execution_count": null,
   "id": "aa1bb363-12f8-4bf6-b824-5c531a209884",
   "metadata": {},
   "outputs": [],
   "source": []
  },
  {
   "cell_type": "code",
   "execution_count": null,
   "id": "7d08da56",
   "metadata": {
    "papermill": {
     "duration": 0.041779,
     "end_time": "2023-11-22T04:58:21.459647",
     "exception": false,
     "start_time": "2023-11-22T04:58:21.417868",
     "status": "completed"
    },
    "tags": []
   },
   "outputs": [],
   "source": []
  },
  {
   "cell_type": "markdown",
   "id": "4b48fcf1",
   "metadata": {
    "papermill": {
     "duration": 0.02269,
     "end_time": "2023-11-22T04:58:21.508177",
     "exception": false,
     "start_time": "2023-11-22T04:58:21.485487",
     "status": "completed"
    },
    "tags": []
   },
   "source": [
    "## Create Features from the tokenizer"
   ]
  },
  {
   "cell_type": "code",
   "execution_count": 25,
   "id": "3ed5e919",
   "metadata": {
    "execution": {
     "iopub.execute_input": "2023-12-30T04:53:42.763248Z",
     "iopub.status.busy": "2023-12-30T04:53:42.762705Z",
     "iopub.status.idle": "2023-12-30T04:53:42.770583Z",
     "shell.execute_reply": "2023-12-30T04:53:42.770087Z",
     "shell.execute_reply.started": "2023-12-30T04:53:42.763189Z"
    },
    "papermill": {
     "duration": 0.03358,
     "end_time": "2023-11-22T04:58:21.564375",
     "exception": false,
     "start_time": "2023-11-22T04:58:21.530795",
     "status": "completed"
    },
    "tags": []
   },
   "outputs": [],
   "source": [
    "df_train = pd.DataFrame(\n",
    "    X_tokenizer_train,\n",
    "    columns=[f\"token_feature_{i}\" for i in range(X_tokenizer_train.shape[1])],\n",
    ")"
   ]
  },
  {
   "cell_type": "code",
   "execution_count": 26,
   "id": "e8a3141f",
   "metadata": {
    "execution": {
     "iopub.execute_input": "2023-12-30T04:53:42.771692Z",
     "iopub.status.busy": "2023-12-30T04:53:42.771507Z",
     "iopub.status.idle": "2023-12-30T04:53:42.776518Z",
     "shell.execute_reply": "2023-12-30T04:53:42.776046Z",
     "shell.execute_reply.started": "2023-12-30T04:53:42.771660Z"
    },
    "papermill": {
     "duration": 0.031564,
     "end_time": "2023-11-22T04:58:21.622480",
     "exception": false,
     "start_time": "2023-11-22T04:58:21.590916",
     "status": "completed"
    },
    "tags": []
   },
   "outputs": [],
   "source": [
    "df_test = pd.DataFrame(\n",
    "    X_tokenizer_test,\n",
    "    columns=[f\"token_feature_{i}\" for i in range(X_tokenizer_test.shape[1])],\n",
    ")"
   ]
  },
  {
   "cell_type": "code",
   "execution_count": 27,
   "id": "92073a1e",
   "metadata": {
    "execution": {
     "iopub.execute_input": "2023-12-30T04:53:42.777389Z",
     "iopub.status.busy": "2023-12-30T04:53:42.777076Z",
     "iopub.status.idle": "2023-12-30T04:53:42.782323Z",
     "shell.execute_reply": "2023-12-30T04:53:42.781896Z",
     "shell.execute_reply.started": "2023-12-30T04:53:42.777371Z"
    },
    "papermill": {
     "duration": 0.030656,
     "end_time": "2023-11-22T04:58:21.675911",
     "exception": false,
     "start_time": "2023-11-22T04:58:21.645255",
     "status": "completed"
    },
    "tags": []
   },
   "outputs": [],
   "source": [
    "df_train_index = train_essaysdf[\"id\"]\n",
    "df_test_index = test_essaysdf[\"id\"]"
   ]
  },
  {
   "cell_type": "code",
   "execution_count": null,
   "id": "90e23091-1688-49ae-9525-dfef9b4b0792",
   "metadata": {},
   "outputs": [],
   "source": []
  },
  {
   "cell_type": "code",
   "execution_count": 28,
   "id": "a5dd5842",
   "metadata": {
    "execution": {
     "iopub.execute_input": "2023-12-30T04:53:42.787357Z",
     "iopub.status.busy": "2023-12-30T04:53:42.786831Z",
     "iopub.status.idle": "2023-12-30T04:53:42.790812Z",
     "shell.execute_reply": "2023-12-30T04:53:42.790375Z",
     "shell.execute_reply.started": "2023-12-30T04:53:42.787315Z"
    },
    "papermill": {
     "duration": 0.03196,
     "end_time": "2023-11-22T04:58:21.730869",
     "exception": false,
     "start_time": "2023-11-22T04:58:21.698909",
     "status": "completed"
    },
    "tags": []
   },
   "outputs": [],
   "source": [
    "df_train.loc[:, \"id\"] = df_train_index\n",
    "df_test.loc[:, \"id\"] = df_test_index"
   ]
  },
  {
   "cell_type": "code",
   "execution_count": 29,
   "id": "349025f7-9306-415b-b298-7d25d2656856",
   "metadata": {
    "execution": {
     "iopub.execute_input": "2023-12-30T04:53:42.791748Z",
     "iopub.status.busy": "2023-12-30T04:53:42.791487Z",
     "iopub.status.idle": "2023-12-30T04:53:42.811319Z",
     "shell.execute_reply": "2023-12-30T04:53:42.810610Z",
     "shell.execute_reply.started": "2023-12-30T04:53:42.791732Z"
    }
   },
   "outputs": [
    {
     "data": {
      "text/html": [
       "<div>\n",
       "<style scoped>\n",
       "    .dataframe tbody tr th:only-of-type {\n",
       "        vertical-align: middle;\n",
       "    }\n",
       "\n",
       "    .dataframe tbody tr th {\n",
       "        vertical-align: top;\n",
       "    }\n",
       "\n",
       "    .dataframe thead th {\n",
       "        text-align: right;\n",
       "    }\n",
       "</style>\n",
       "<table border=\"1\" class=\"dataframe\">\n",
       "  <thead>\n",
       "    <tr style=\"text-align: right;\">\n",
       "      <th></th>\n",
       "      <th>token_feature_0</th>\n",
       "      <th>token_feature_1</th>\n",
       "      <th>token_feature_2</th>\n",
       "      <th>token_feature_3</th>\n",
       "      <th>token_feature_4</th>\n",
       "      <th>token_feature_5</th>\n",
       "      <th>token_feature_6</th>\n",
       "      <th>token_feature_7</th>\n",
       "      <th>token_feature_8</th>\n",
       "      <th>token_feature_9</th>\n",
       "      <th>...</th>\n",
       "      <th>token_feature_268</th>\n",
       "      <th>token_feature_269</th>\n",
       "      <th>token_feature_270</th>\n",
       "      <th>token_feature_271</th>\n",
       "      <th>token_feature_272</th>\n",
       "      <th>token_feature_273</th>\n",
       "      <th>token_feature_274</th>\n",
       "      <th>token_feature_275</th>\n",
       "      <th>token_feature_276</th>\n",
       "      <th>id</th>\n",
       "    </tr>\n",
       "  </thead>\n",
       "  <tbody>\n",
       "    <tr>\n",
       "      <th>0</th>\n",
       "      <td>61</td>\n",
       "      <td>8</td>\n",
       "      <td>12</td>\n",
       "      <td>19</td>\n",
       "      <td>11</td>\n",
       "      <td>5</td>\n",
       "      <td>1</td>\n",
       "      <td>1</td>\n",
       "      <td>0</td>\n",
       "      <td>1</td>\n",
       "      <td>...</td>\n",
       "      <td>0</td>\n",
       "      <td>0</td>\n",
       "      <td>0</td>\n",
       "      <td>0</td>\n",
       "      <td>0</td>\n",
       "      <td>0</td>\n",
       "      <td>0</td>\n",
       "      <td>0</td>\n",
       "      <td>0</td>\n",
       "      <td>0022f953</td>\n",
       "    </tr>\n",
       "    <tr>\n",
       "      <th>1</th>\n",
       "      <td>64</td>\n",
       "      <td>6</td>\n",
       "      <td>8</td>\n",
       "      <td>8</td>\n",
       "      <td>6</td>\n",
       "      <td>6</td>\n",
       "      <td>4</td>\n",
       "      <td>10</td>\n",
       "      <td>4</td>\n",
       "      <td>4</td>\n",
       "      <td>...</td>\n",
       "      <td>0</td>\n",
       "      <td>0</td>\n",
       "      <td>0</td>\n",
       "      <td>0</td>\n",
       "      <td>0</td>\n",
       "      <td>0</td>\n",
       "      <td>0</td>\n",
       "      <td>0</td>\n",
       "      <td>0</td>\n",
       "      <td>0042269b</td>\n",
       "    </tr>\n",
       "    <tr>\n",
       "      <th>2</th>\n",
       "      <td>44</td>\n",
       "      <td>6</td>\n",
       "      <td>7</td>\n",
       "      <td>8</td>\n",
       "      <td>4</td>\n",
       "      <td>6</td>\n",
       "      <td>6</td>\n",
       "      <td>1</td>\n",
       "      <td>1</td>\n",
       "      <td>2</td>\n",
       "      <td>...</td>\n",
       "      <td>0</td>\n",
       "      <td>0</td>\n",
       "      <td>0</td>\n",
       "      <td>0</td>\n",
       "      <td>0</td>\n",
       "      <td>0</td>\n",
       "      <td>0</td>\n",
       "      <td>0</td>\n",
       "      <td>0</td>\n",
       "      <td>0059420b</td>\n",
       "    </tr>\n",
       "    <tr>\n",
       "      <th>3</th>\n",
       "      <td>49</td>\n",
       "      <td>3</td>\n",
       "      <td>15</td>\n",
       "      <td>11</td>\n",
       "      <td>9</td>\n",
       "      <td>2</td>\n",
       "      <td>3</td>\n",
       "      <td>3</td>\n",
       "      <td>0</td>\n",
       "      <td>1</td>\n",
       "      <td>...</td>\n",
       "      <td>0</td>\n",
       "      <td>0</td>\n",
       "      <td>0</td>\n",
       "      <td>0</td>\n",
       "      <td>0</td>\n",
       "      <td>0</td>\n",
       "      <td>0</td>\n",
       "      <td>0</td>\n",
       "      <td>0</td>\n",
       "      <td>0075873a</td>\n",
       "    </tr>\n",
       "    <tr>\n",
       "      <th>4</th>\n",
       "      <td>59</td>\n",
       "      <td>12</td>\n",
       "      <td>3</td>\n",
       "      <td>17</td>\n",
       "      <td>12</td>\n",
       "      <td>6</td>\n",
       "      <td>2</td>\n",
       "      <td>2</td>\n",
       "      <td>0</td>\n",
       "      <td>3</td>\n",
       "      <td>...</td>\n",
       "      <td>0</td>\n",
       "      <td>0</td>\n",
       "      <td>0</td>\n",
       "      <td>0</td>\n",
       "      <td>0</td>\n",
       "      <td>0</td>\n",
       "      <td>0</td>\n",
       "      <td>0</td>\n",
       "      <td>0</td>\n",
       "      <td>0081af50</td>\n",
       "    </tr>\n",
       "    <tr>\n",
       "      <th>...</th>\n",
       "      <td>...</td>\n",
       "      <td>...</td>\n",
       "      <td>...</td>\n",
       "      <td>...</td>\n",
       "      <td>...</td>\n",
       "      <td>...</td>\n",
       "      <td>...</td>\n",
       "      <td>...</td>\n",
       "      <td>...</td>\n",
       "      <td>...</td>\n",
       "      <td>...</td>\n",
       "      <td>...</td>\n",
       "      <td>...</td>\n",
       "      <td>...</td>\n",
       "      <td>...</td>\n",
       "      <td>...</td>\n",
       "      <td>...</td>\n",
       "      <td>...</td>\n",
       "      <td>...</td>\n",
       "      <td>...</td>\n",
       "      <td>...</td>\n",
       "    </tr>\n",
       "    <tr>\n",
       "      <th>1971</th>\n",
       "      <td>49</td>\n",
       "      <td>5</td>\n",
       "      <td>4</td>\n",
       "      <td>9</td>\n",
       "      <td>13</td>\n",
       "      <td>7</td>\n",
       "      <td>7</td>\n",
       "      <td>0</td>\n",
       "      <td>1</td>\n",
       "      <td>0</td>\n",
       "      <td>...</td>\n",
       "      <td>0</td>\n",
       "      <td>0</td>\n",
       "      <td>0</td>\n",
       "      <td>0</td>\n",
       "      <td>0</td>\n",
       "      <td>0</td>\n",
       "      <td>0</td>\n",
       "      <td>0</td>\n",
       "      <td>0</td>\n",
       "      <td>ffb8c745</td>\n",
       "    </tr>\n",
       "    <tr>\n",
       "      <th>1972</th>\n",
       "      <td>74</td>\n",
       "      <td>16</td>\n",
       "      <td>9</td>\n",
       "      <td>21</td>\n",
       "      <td>10</td>\n",
       "      <td>7</td>\n",
       "      <td>4</td>\n",
       "      <td>4</td>\n",
       "      <td>1</td>\n",
       "      <td>1</td>\n",
       "      <td>...</td>\n",
       "      <td>0</td>\n",
       "      <td>0</td>\n",
       "      <td>0</td>\n",
       "      <td>0</td>\n",
       "      <td>0</td>\n",
       "      <td>0</td>\n",
       "      <td>0</td>\n",
       "      <td>0</td>\n",
       "      <td>0</td>\n",
       "      <td>ffbef7e5</td>\n",
       "    </tr>\n",
       "    <tr>\n",
       "      <th>1973</th>\n",
       "      <td>42</td>\n",
       "      <td>5</td>\n",
       "      <td>9</td>\n",
       "      <td>8</td>\n",
       "      <td>7</td>\n",
       "      <td>5</td>\n",
       "      <td>3</td>\n",
       "      <td>1</td>\n",
       "      <td>1</td>\n",
       "      <td>1</td>\n",
       "      <td>...</td>\n",
       "      <td>0</td>\n",
       "      <td>0</td>\n",
       "      <td>0</td>\n",
       "      <td>0</td>\n",
       "      <td>0</td>\n",
       "      <td>0</td>\n",
       "      <td>0</td>\n",
       "      <td>0</td>\n",
       "      <td>0</td>\n",
       "      <td>ffccd6fd</td>\n",
       "    </tr>\n",
       "    <tr>\n",
       "      <th>1974</th>\n",
       "      <td>80</td>\n",
       "      <td>5</td>\n",
       "      <td>19</td>\n",
       "      <td>12</td>\n",
       "      <td>11</td>\n",
       "      <td>6</td>\n",
       "      <td>11</td>\n",
       "      <td>2</td>\n",
       "      <td>1</td>\n",
       "      <td>5</td>\n",
       "      <td>...</td>\n",
       "      <td>0</td>\n",
       "      <td>0</td>\n",
       "      <td>0</td>\n",
       "      <td>0</td>\n",
       "      <td>0</td>\n",
       "      <td>0</td>\n",
       "      <td>0</td>\n",
       "      <td>0</td>\n",
       "      <td>0</td>\n",
       "      <td>ffec5b38</td>\n",
       "    </tr>\n",
       "    <tr>\n",
       "      <th>1975</th>\n",
       "      <td>47</td>\n",
       "      <td>5</td>\n",
       "      <td>5</td>\n",
       "      <td>10</td>\n",
       "      <td>4</td>\n",
       "      <td>4</td>\n",
       "      <td>3</td>\n",
       "      <td>2</td>\n",
       "      <td>5</td>\n",
       "      <td>1</td>\n",
       "      <td>...</td>\n",
       "      <td>0</td>\n",
       "      <td>0</td>\n",
       "      <td>0</td>\n",
       "      <td>0</td>\n",
       "      <td>0</td>\n",
       "      <td>0</td>\n",
       "      <td>0</td>\n",
       "      <td>0</td>\n",
       "      <td>0</td>\n",
       "      <td>fff05981</td>\n",
       "    </tr>\n",
       "  </tbody>\n",
       "</table>\n",
       "<p>1976 rows × 278 columns</p>\n",
       "</div>"
      ],
      "text/plain": [
       "      token_feature_0  token_feature_1  token_feature_2  token_feature_3  \\\n",
       "0                  61                8               12               19   \n",
       "1                  64                6                8                8   \n",
       "2                  44                6                7                8   \n",
       "3                  49                3               15               11   \n",
       "4                  59               12                3               17   \n",
       "...               ...              ...              ...              ...   \n",
       "1971               49                5                4                9   \n",
       "1972               74               16                9               21   \n",
       "1973               42                5                9                8   \n",
       "1974               80                5               19               12   \n",
       "1975               47                5                5               10   \n",
       "\n",
       "      token_feature_4  token_feature_5  token_feature_6  token_feature_7  \\\n",
       "0                  11                5                1                1   \n",
       "1                   6                6                4               10   \n",
       "2                   4                6                6                1   \n",
       "3                   9                2                3                3   \n",
       "4                  12                6                2                2   \n",
       "...               ...              ...              ...              ...   \n",
       "1971               13                7                7                0   \n",
       "1972               10                7                4                4   \n",
       "1973                7                5                3                1   \n",
       "1974               11                6               11                2   \n",
       "1975                4                4                3                2   \n",
       "\n",
       "      token_feature_8  token_feature_9  ...  token_feature_268  \\\n",
       "0                   0                1  ...                  0   \n",
       "1                   4                4  ...                  0   \n",
       "2                   1                2  ...                  0   \n",
       "3                   0                1  ...                  0   \n",
       "4                   0                3  ...                  0   \n",
       "...               ...              ...  ...                ...   \n",
       "1971                1                0  ...                  0   \n",
       "1972                1                1  ...                  0   \n",
       "1973                1                1  ...                  0   \n",
       "1974                1                5  ...                  0   \n",
       "1975                5                1  ...                  0   \n",
       "\n",
       "      token_feature_269  token_feature_270  token_feature_271  \\\n",
       "0                     0                  0                  0   \n",
       "1                     0                  0                  0   \n",
       "2                     0                  0                  0   \n",
       "3                     0                  0                  0   \n",
       "4                     0                  0                  0   \n",
       "...                 ...                ...                ...   \n",
       "1971                  0                  0                  0   \n",
       "1972                  0                  0                  0   \n",
       "1973                  0                  0                  0   \n",
       "1974                  0                  0                  0   \n",
       "1975                  0                  0                  0   \n",
       "\n",
       "      token_feature_272  token_feature_273  token_feature_274  \\\n",
       "0                     0                  0                  0   \n",
       "1                     0                  0                  0   \n",
       "2                     0                  0                  0   \n",
       "3                     0                  0                  0   \n",
       "4                     0                  0                  0   \n",
       "...                 ...                ...                ...   \n",
       "1971                  0                  0                  0   \n",
       "1972                  0                  0                  0   \n",
       "1973                  0                  0                  0   \n",
       "1974                  0                  0                  0   \n",
       "1975                  0                  0                  0   \n",
       "\n",
       "      token_feature_275  token_feature_276        id  \n",
       "0                     0                  0  0022f953  \n",
       "1                     0                  0  0042269b  \n",
       "2                     0                  0  0059420b  \n",
       "3                     0                  0  0075873a  \n",
       "4                     0                  0  0081af50  \n",
       "...                 ...                ...       ...  \n",
       "1971                  0                  0  ffb8c745  \n",
       "1972                  0                  0  ffbef7e5  \n",
       "1973                  0                  0  ffccd6fd  \n",
       "1974                  0                  0  ffec5b38  \n",
       "1975                  0                  0  fff05981  \n",
       "\n",
       "[1976 rows x 278 columns]"
      ]
     },
     "execution_count": 29,
     "metadata": {},
     "output_type": "execute_result"
    }
   ],
   "source": [
    "df_train"
   ]
  },
  {
   "cell_type": "code",
   "execution_count": 30,
   "id": "12637dfc-9be9-417d-b4d0-a0a3f0e1353f",
   "metadata": {
    "execution": {
     "iopub.execute_input": "2023-12-30T04:53:42.812590Z",
     "iopub.status.busy": "2023-12-30T04:53:42.812191Z",
     "iopub.status.idle": "2023-12-30T04:53:42.814322Z",
     "shell.execute_reply": "2023-12-30T04:53:42.813972Z",
     "shell.execute_reply.started": "2023-12-30T04:53:42.812572Z"
    }
   },
   "outputs": [],
   "source": [
    "# df_train"
   ]
  },
  {
   "cell_type": "code",
   "execution_count": 31,
   "id": "b3269e8a-918a-4489-acc8-ad44d011d31a",
   "metadata": {
    "execution": {
     "iopub.execute_input": "2023-12-30T04:53:42.815309Z",
     "iopub.status.busy": "2023-12-30T04:53:42.815072Z",
     "iopub.status.idle": "2023-12-30T04:53:42.820565Z",
     "shell.execute_reply": "2023-12-30T04:53:42.819819Z",
     "shell.execute_reply.started": "2023-12-30T04:53:42.815287Z"
    }
   },
   "outputs": [],
   "source": [
    "# count_vectorizer.vocabulary_"
   ]
  },
  {
   "cell_type": "markdown",
   "id": "89c7f0e1",
   "metadata": {
    "papermill": {
     "duration": 0.02272,
     "end_time": "2023-11-22T04:58:21.776167",
     "exception": false,
     "start_time": "2023-11-22T04:58:21.753447",
     "status": "completed"
    },
    "tags": []
   },
   "source": [
    "# Feature Engineering"
   ]
  },
  {
   "cell_type": "code",
   "execution_count": 32,
   "id": "fda6219f",
   "metadata": {
    "execution": {
     "iopub.execute_input": "2023-12-30T04:53:42.821764Z",
     "iopub.status.busy": "2023-12-30T04:53:42.821527Z",
     "iopub.status.idle": "2023-12-30T04:53:44.549787Z",
     "shell.execute_reply": "2023-12-30T04:53:44.548166Z",
     "shell.execute_reply.started": "2023-12-30T04:53:42.821740Z"
    },
    "papermill": {
     "duration": 4.825372,
     "end_time": "2023-11-22T04:58:26.624346",
     "exception": false,
     "start_time": "2023-11-22T04:58:21.798974",
     "status": "completed"
    },
    "tags": []
   },
   "outputs": [],
   "source": [
    "train_agg_fe_df = traindf.groupby(\"id\")[\n",
    "    [\"down_time\", \"up_time\", \"action_time\", \"cursor_position\", \"word_count\"]\n",
    "].agg([\"mean\", \"std\", \"min\", \"max\", \"last\", \"first\", \"sem\", \"median\", \"sum\"])\n",
    "train_agg_fe_df.columns = [\"_\".join(x) for x in train_agg_fe_df.columns]\n",
    "train_agg_fe_df = train_agg_fe_df.add_prefix(\"tmp_\")\n",
    "train_agg_fe_df.reset_index(inplace=True)"
   ]
  },
  {
   "cell_type": "code",
   "execution_count": 33,
   "id": "4e0194d4",
   "metadata": {
    "execution": {
     "iopub.execute_input": "2023-12-30T04:53:44.552147Z",
     "iopub.status.busy": "2023-12-30T04:53:44.551636Z",
     "iopub.status.idle": "2023-12-30T04:53:44.951410Z",
     "shell.execute_reply": "2023-12-30T04:53:44.950866Z",
     "shell.execute_reply.started": "2023-12-30T04:53:44.552094Z"
    },
    "papermill": {
     "duration": 0.051756,
     "end_time": "2023-11-22T04:58:26.699806",
     "exception": false,
     "start_time": "2023-11-22T04:58:26.648050",
     "status": "completed"
    },
    "tags": []
   },
   "outputs": [],
   "source": [
    "test_agg_fe_df = testdf.groupby(\"id\")[\n",
    "    [\"down_time\", \"up_time\", \"action_time\", \"cursor_position\", \"word_count\"]\n",
    "].agg([\"mean\", \"std\", \"min\", \"max\", \"last\", \"first\", \"sem\", \"median\", \"sum\"])\n",
    "test_agg_fe_df.columns = [\"_\".join(x) for x in test_agg_fe_df.columns]\n",
    "test_agg_fe_df = test_agg_fe_df.add_prefix(\"tmp_\")\n",
    "test_agg_fe_df.reset_index(inplace=True)"
   ]
  },
  {
   "cell_type": "markdown",
   "id": "ba5aad2d",
   "metadata": {
    "papermill": {
     "duration": 0.022308,
     "end_time": "2023-11-22T04:58:26.744564",
     "exception": false,
     "start_time": "2023-11-22T04:58:26.722256",
     "status": "completed"
    },
    "tags": []
   },
   "source": [
    "### Word2Vec ###"
   ]
  },
  {
   "cell_type": "code",
   "execution_count": 34,
   "id": "0cb7e3fc",
   "metadata": {
    "execution": {
     "iopub.execute_input": "2023-12-30T04:53:44.952103Z",
     "iopub.status.busy": "2023-12-30T04:53:44.951964Z",
     "iopub.status.idle": "2023-12-30T04:53:45.021600Z",
     "shell.execute_reply": "2023-12-30T04:53:45.021097Z",
     "shell.execute_reply.started": "2023-12-30T04:53:44.952088Z"
    },
    "papermill": {
     "duration": 0.240294,
     "end_time": "2023-11-22T04:58:27.007803",
     "exception": false,
     "start_time": "2023-11-22T04:58:26.767509",
     "status": "completed"
    },
    "tags": []
   },
   "outputs": [],
   "source": [
    "train_sentences = train_essaysdf.essay.apply(\n",
    "    lambda x: [k.strip() for k in x.split(\" \") if k != \"\"]\n",
    ")"
   ]
  },
  {
   "cell_type": "code",
   "execution_count": 35,
   "id": "a71c2731",
   "metadata": {
    "execution": {
     "iopub.execute_input": "2023-12-30T04:53:45.022311Z",
     "iopub.status.busy": "2023-12-30T04:53:45.022136Z",
     "iopub.status.idle": "2023-12-30T04:53:45.042283Z",
     "shell.execute_reply": "2023-12-30T04:53:45.041777Z",
     "shell.execute_reply.started": "2023-12-30T04:53:45.022296Z"
    },
    "papermill": {
     "duration": 0.030552,
     "end_time": "2023-11-22T04:58:27.061458",
     "exception": false,
     "start_time": "2023-11-22T04:58:27.030906",
     "status": "completed"
    },
    "tags": []
   },
   "outputs": [],
   "source": [
    "test_sentences = test_essaysdf.essay.apply(\n",
    "    lambda x: [k.strip() for k in x.split(\" \") if k != \"\"]\n",
    ")"
   ]
  },
  {
   "cell_type": "code",
   "execution_count": 36,
   "id": "195d9dc8",
   "metadata": {
    "execution": {
     "iopub.execute_input": "2023-12-30T04:53:45.043185Z",
     "iopub.status.busy": "2023-12-30T04:53:45.042835Z",
     "iopub.status.idle": "2023-12-30T04:54:55.855513Z",
     "shell.execute_reply": "2023-12-30T04:54:55.855054Z",
     "shell.execute_reply.started": "2023-12-30T04:53:45.043168Z"
    },
    "papermill": {
     "duration": 172.847692,
     "end_time": "2023-11-22T05:01:19.931824",
     "exception": false,
     "start_time": "2023-11-22T04:58:27.084132",
     "status": "completed"
    },
    "tags": []
   },
   "outputs": [
    {
     "data": {
      "text/plain": [
       "(29788256, 152867600)"
      ]
     },
     "execution_count": 36,
     "metadata": {},
     "output_type": "execute_result"
    }
   ],
   "source": [
    "model_w2vec = Word2Vec(\n",
    "    # sentences=train_sentences,\n",
    "    vector_size=cnfg.vector_size,\n",
    "    window=5,\n",
    "    min_count=1,\n",
    "    workers=1,\n",
    "    alpha=0.03,\n",
    "    seed=cnfg.seed,\n",
    "    sg=1,\n",
    ")\n",
    "model_w2vec.build_vocab(train_sentences, progress_per=10000)\n",
    "model_w2vec.train(\n",
    "    train_sentences, total_examples=model_w2vec.corpus_count, epochs=200, report_delay=1\n",
    ")"
   ]
  },
  {
   "cell_type": "code",
   "execution_count": 37,
   "id": "bd422015",
   "metadata": {
    "execution": {
     "iopub.execute_input": "2023-12-30T04:54:55.856156Z",
     "iopub.status.busy": "2023-12-30T04:54:55.856024Z",
     "iopub.status.idle": "2023-12-30T04:54:55.860041Z",
     "shell.execute_reply": "2023-12-30T04:54:55.859614Z",
     "shell.execute_reply.started": "2023-12-30T04:54:55.856143Z"
    },
    "papermill": {
     "duration": 0.034599,
     "end_time": "2023-11-22T05:01:19.989505",
     "exception": false,
     "start_time": "2023-11-22T05:01:19.954906",
     "status": "completed"
    },
    "tags": []
   },
   "outputs": [],
   "source": [
    "def get_w2vec_embeddings(mdl, sentences, vector_size=64):\n",
    "    all_embd_final = []\n",
    "    not_found_words = []\n",
    "    for i in tqdm(range(len(sentences))):\n",
    "        all_embd = []\n",
    "        for j in range(len(sentences[i])):\n",
    "            try:\n",
    "                emb = mdl.wv[sentences[i][j]]\n",
    "                all_embd.append(emb)\n",
    "            except:\n",
    "                all_embd.append(np.zeros(vector_size))\n",
    "                not_found_words.append(sentences[i][j])\n",
    "        if all_embd == []:\n",
    "            embd_final = np.zeros(vector_size)\n",
    "        else:\n",
    "            embd_final = np.mean(all_embd, axis=0)\n",
    "        all_embd_final.append(embd_final)\n",
    "    embd_df = pd.DataFrame(\n",
    "        all_embd_final, columns=[f\"w2vec_dim_{k}\" for k in range(vector_size)]\n",
    "    )\n",
    "    return embd_df, not_found_words"
   ]
  },
  {
   "cell_type": "code",
   "execution_count": 38,
   "id": "c67923cd",
   "metadata": {
    "execution": {
     "iopub.execute_input": "2023-12-30T04:54:55.860660Z",
     "iopub.status.busy": "2023-12-30T04:54:55.860497Z",
     "iopub.status.idle": "2023-12-30T04:54:57.766755Z",
     "shell.execute_reply": "2023-12-30T04:54:57.766332Z",
     "shell.execute_reply.started": "2023-12-30T04:54:55.860647Z"
    },
    "papermill": {
     "duration": 7.224659,
     "end_time": "2023-11-22T05:01:27.237984",
     "exception": false,
     "start_time": "2023-11-22T05:01:20.013325",
     "status": "completed"
    },
    "tags": []
   },
   "outputs": [
    {
     "name": "stderr",
     "output_type": "stream",
     "text": [
      "100%|█████████████████████████████████████| 1976/1976 [00:01<00:00, 1054.10it/s]\n"
     ]
    }
   ],
   "source": [
    "embd_df_train, not_found_words_train = get_w2vec_embeddings(\n",
    "    model_w2vec, train_sentences, vector_size=cnfg.vector_size\n",
    ")\n",
    "embd_df_train[\"id\"] = train_essaysdf.id"
   ]
  },
  {
   "cell_type": "code",
   "execution_count": 39,
   "id": "2765c919",
   "metadata": {
    "execution": {
     "iopub.execute_input": "2023-12-30T04:54:57.767406Z",
     "iopub.status.busy": "2023-12-30T04:54:57.767272Z",
     "iopub.status.idle": "2023-12-30T04:54:58.276707Z",
     "shell.execute_reply": "2023-12-30T04:54:58.276241Z",
     "shell.execute_reply.started": "2023-12-30T04:54:57.767392Z"
    },
    "papermill": {
     "duration": 0.050996,
     "end_time": "2023-11-22T05:01:27.312574",
     "exception": false,
     "start_time": "2023-11-22T05:01:27.261578",
     "status": "completed"
    },
    "tags": []
   },
   "outputs": [
    {
     "name": "stderr",
     "output_type": "stream",
     "text": [
      "100%|████████████████████████████████████████| 495/495 [00:00<00:00, 989.09it/s]\n"
     ]
    }
   ],
   "source": [
    "embd_df_test, not_found_words_test = get_w2vec_embeddings(\n",
    "    model_w2vec, test_sentences, vector_size=cnfg.vector_size\n",
    ")\n",
    "embd_df_test[\"id\"] = test_essaysdf.id"
   ]
  },
  {
   "cell_type": "code",
   "execution_count": 40,
   "id": "32b59e4c",
   "metadata": {
    "execution": {
     "iopub.execute_input": "2023-12-30T04:54:58.277619Z",
     "iopub.status.busy": "2023-12-30T04:54:58.277446Z",
     "iopub.status.idle": "2023-12-30T04:54:58.285346Z",
     "shell.execute_reply": "2023-12-30T04:54:58.284723Z",
     "shell.execute_reply.started": "2023-12-30T04:54:58.277605Z"
    },
    "papermill": {
     "duration": 0.03837,
     "end_time": "2023-11-22T05:01:27.374228",
     "exception": false,
     "start_time": "2023-11-22T05:01:27.335858",
     "status": "completed"
    },
    "tags": []
   },
   "outputs": [],
   "source": [
    "df_train = df_train.merge(embd_df_train, on=\"id\")\n",
    "df_test = df_test.merge(embd_df_test, on=\"id\")"
   ]
  },
  {
   "cell_type": "code",
   "execution_count": 41,
   "id": "27a7468f",
   "metadata": {
    "execution": {
     "iopub.execute_input": "2023-12-30T04:54:58.286162Z",
     "iopub.status.busy": "2023-12-30T04:54:58.285971Z",
     "iopub.status.idle": "2023-12-30T04:54:58.295871Z",
     "shell.execute_reply": "2023-12-30T04:54:58.295293Z",
     "shell.execute_reply.started": "2023-12-30T04:54:58.286146Z"
    },
    "papermill": {
     "duration": 0.031528,
     "end_time": "2023-11-22T05:01:27.428815",
     "exception": false,
     "start_time": "2023-11-22T05:01:27.397287",
     "status": "completed"
    },
    "tags": []
   },
   "outputs": [
    {
     "data": {
      "text/plain": [
       "((1976, 342), (495, 342))"
      ]
     },
     "execution_count": 41,
     "metadata": {},
     "output_type": "execute_result"
    }
   ],
   "source": [
    "df_train.shape, df_test.shape"
   ]
  },
  {
   "cell_type": "code",
   "execution_count": 42,
   "id": "f25d4e1a",
   "metadata": {
    "execution": {
     "iopub.execute_input": "2023-12-30T04:54:58.296833Z",
     "iopub.status.busy": "2023-12-30T04:54:58.296630Z",
     "iopub.status.idle": "2023-12-30T04:54:58.326247Z",
     "shell.execute_reply": "2023-12-30T04:54:58.325684Z",
     "shell.execute_reply.started": "2023-12-30T04:54:58.296816Z"
    },
    "papermill": {
     "duration": 0.022962,
     "end_time": "2023-11-22T05:01:27.474751",
     "exception": false,
     "start_time": "2023-11-22T05:01:27.451789",
     "status": "completed"
    },
    "tags": []
   },
   "outputs": [
    {
     "data": {
      "text/html": [
       "<div>\n",
       "<style scoped>\n",
       "    .dataframe tbody tr th:only-of-type {\n",
       "        vertical-align: middle;\n",
       "    }\n",
       "\n",
       "    .dataframe tbody tr th {\n",
       "        vertical-align: top;\n",
       "    }\n",
       "\n",
       "    .dataframe thead th {\n",
       "        text-align: right;\n",
       "    }\n",
       "</style>\n",
       "<table border=\"1\" class=\"dataframe\">\n",
       "  <thead>\n",
       "    <tr style=\"text-align: right;\">\n",
       "      <th></th>\n",
       "      <th>w2vec_dim_0</th>\n",
       "      <th>w2vec_dim_1</th>\n",
       "      <th>w2vec_dim_2</th>\n",
       "      <th>w2vec_dim_3</th>\n",
       "      <th>w2vec_dim_4</th>\n",
       "      <th>w2vec_dim_5</th>\n",
       "      <th>w2vec_dim_6</th>\n",
       "      <th>w2vec_dim_7</th>\n",
       "      <th>w2vec_dim_8</th>\n",
       "      <th>w2vec_dim_9</th>\n",
       "      <th>...</th>\n",
       "      <th>w2vec_dim_55</th>\n",
       "      <th>w2vec_dim_56</th>\n",
       "      <th>w2vec_dim_57</th>\n",
       "      <th>w2vec_dim_58</th>\n",
       "      <th>w2vec_dim_59</th>\n",
       "      <th>w2vec_dim_60</th>\n",
       "      <th>w2vec_dim_61</th>\n",
       "      <th>w2vec_dim_62</th>\n",
       "      <th>w2vec_dim_63</th>\n",
       "      <th>id</th>\n",
       "    </tr>\n",
       "  </thead>\n",
       "  <tbody>\n",
       "    <tr>\n",
       "      <th>0</th>\n",
       "      <td>-0.120961</td>\n",
       "      <td>0.008124</td>\n",
       "      <td>0.189207</td>\n",
       "      <td>-0.257088</td>\n",
       "      <td>-0.023798</td>\n",
       "      <td>-0.073213</td>\n",
       "      <td>-0.050833</td>\n",
       "      <td>-0.109157</td>\n",
       "      <td>-0.160328</td>\n",
       "      <td>-0.025513</td>\n",
       "      <td>...</td>\n",
       "      <td>-0.135022</td>\n",
       "      <td>-0.017231</td>\n",
       "      <td>-0.079651</td>\n",
       "      <td>-0.009296</td>\n",
       "      <td>-0.091024</td>\n",
       "      <td>-0.074310</td>\n",
       "      <td>-0.008469</td>\n",
       "      <td>-0.071511</td>\n",
       "      <td>0.005326</td>\n",
       "      <td>0022f953</td>\n",
       "    </tr>\n",
       "    <tr>\n",
       "      <th>1</th>\n",
       "      <td>-0.121321</td>\n",
       "      <td>0.041959</td>\n",
       "      <td>0.207654</td>\n",
       "      <td>-0.251683</td>\n",
       "      <td>-0.008331</td>\n",
       "      <td>-0.055835</td>\n",
       "      <td>-0.042590</td>\n",
       "      <td>-0.106092</td>\n",
       "      <td>-0.150785</td>\n",
       "      <td>-0.015334</td>\n",
       "      <td>...</td>\n",
       "      <td>-0.153256</td>\n",
       "      <td>-0.030884</td>\n",
       "      <td>-0.072392</td>\n",
       "      <td>0.018172</td>\n",
       "      <td>-0.094070</td>\n",
       "      <td>-0.044517</td>\n",
       "      <td>-0.016554</td>\n",
       "      <td>-0.089601</td>\n",
       "      <td>0.004782</td>\n",
       "      <td>0042269b</td>\n",
       "    </tr>\n",
       "    <tr>\n",
       "      <th>2</th>\n",
       "      <td>-0.133752</td>\n",
       "      <td>0.018474</td>\n",
       "      <td>0.199096</td>\n",
       "      <td>-0.251982</td>\n",
       "      <td>-0.012915</td>\n",
       "      <td>-0.044597</td>\n",
       "      <td>-0.060598</td>\n",
       "      <td>-0.095827</td>\n",
       "      <td>-0.155384</td>\n",
       "      <td>-0.020722</td>\n",
       "      <td>...</td>\n",
       "      <td>-0.126775</td>\n",
       "      <td>-0.032979</td>\n",
       "      <td>-0.083987</td>\n",
       "      <td>0.018990</td>\n",
       "      <td>-0.105324</td>\n",
       "      <td>-0.072488</td>\n",
       "      <td>-0.028955</td>\n",
       "      <td>-0.088966</td>\n",
       "      <td>-0.016339</td>\n",
       "      <td>0059420b</td>\n",
       "    </tr>\n",
       "    <tr>\n",
       "      <th>3</th>\n",
       "      <td>-0.135792</td>\n",
       "      <td>0.012024</td>\n",
       "      <td>0.186571</td>\n",
       "      <td>-0.248868</td>\n",
       "      <td>-0.023798</td>\n",
       "      <td>-0.080221</td>\n",
       "      <td>-0.056188</td>\n",
       "      <td>-0.121245</td>\n",
       "      <td>-0.174053</td>\n",
       "      <td>-0.019118</td>\n",
       "      <td>...</td>\n",
       "      <td>-0.159412</td>\n",
       "      <td>-0.018472</td>\n",
       "      <td>-0.064057</td>\n",
       "      <td>-0.000311</td>\n",
       "      <td>-0.077134</td>\n",
       "      <td>-0.055951</td>\n",
       "      <td>-0.004523</td>\n",
       "      <td>-0.064981</td>\n",
       "      <td>0.030872</td>\n",
       "      <td>0075873a</td>\n",
       "    </tr>\n",
       "    <tr>\n",
       "      <th>4</th>\n",
       "      <td>-0.128574</td>\n",
       "      <td>0.031428</td>\n",
       "      <td>0.199653</td>\n",
       "      <td>-0.257360</td>\n",
       "      <td>-0.010355</td>\n",
       "      <td>-0.049244</td>\n",
       "      <td>-0.045932</td>\n",
       "      <td>-0.108550</td>\n",
       "      <td>-0.164943</td>\n",
       "      <td>-0.023780</td>\n",
       "      <td>...</td>\n",
       "      <td>-0.127782</td>\n",
       "      <td>-0.033632</td>\n",
       "      <td>-0.075955</td>\n",
       "      <td>0.016297</td>\n",
       "      <td>-0.100076</td>\n",
       "      <td>-0.062259</td>\n",
       "      <td>-0.014316</td>\n",
       "      <td>-0.095985</td>\n",
       "      <td>0.002560</td>\n",
       "      <td>0081af50</td>\n",
       "    </tr>\n",
       "    <tr>\n",
       "      <th>...</th>\n",
       "      <td>...</td>\n",
       "      <td>...</td>\n",
       "      <td>...</td>\n",
       "      <td>...</td>\n",
       "      <td>...</td>\n",
       "      <td>...</td>\n",
       "      <td>...</td>\n",
       "      <td>...</td>\n",
       "      <td>...</td>\n",
       "      <td>...</td>\n",
       "      <td>...</td>\n",
       "      <td>...</td>\n",
       "      <td>...</td>\n",
       "      <td>...</td>\n",
       "      <td>...</td>\n",
       "      <td>...</td>\n",
       "      <td>...</td>\n",
       "      <td>...</td>\n",
       "      <td>...</td>\n",
       "      <td>...</td>\n",
       "      <td>...</td>\n",
       "    </tr>\n",
       "    <tr>\n",
       "      <th>1971</th>\n",
       "      <td>-0.129806</td>\n",
       "      <td>0.018659</td>\n",
       "      <td>0.203291</td>\n",
       "      <td>-0.259275</td>\n",
       "      <td>-0.021951</td>\n",
       "      <td>-0.058274</td>\n",
       "      <td>-0.054073</td>\n",
       "      <td>-0.101140</td>\n",
       "      <td>-0.163914</td>\n",
       "      <td>-0.023695</td>\n",
       "      <td>...</td>\n",
       "      <td>-0.145320</td>\n",
       "      <td>-0.018962</td>\n",
       "      <td>-0.075197</td>\n",
       "      <td>0.004702</td>\n",
       "      <td>-0.090093</td>\n",
       "      <td>-0.048943</td>\n",
       "      <td>-0.005364</td>\n",
       "      <td>-0.084302</td>\n",
       "      <td>0.015464</td>\n",
       "      <td>ffb8c745</td>\n",
       "    </tr>\n",
       "    <tr>\n",
       "      <th>1972</th>\n",
       "      <td>-0.119191</td>\n",
       "      <td>0.021719</td>\n",
       "      <td>0.193000</td>\n",
       "      <td>-0.257254</td>\n",
       "      <td>-0.011898</td>\n",
       "      <td>-0.067292</td>\n",
       "      <td>-0.051586</td>\n",
       "      <td>-0.110319</td>\n",
       "      <td>-0.155872</td>\n",
       "      <td>-0.008588</td>\n",
       "      <td>...</td>\n",
       "      <td>-0.125003</td>\n",
       "      <td>-0.022075</td>\n",
       "      <td>-0.073387</td>\n",
       "      <td>-0.006806</td>\n",
       "      <td>-0.088617</td>\n",
       "      <td>-0.050712</td>\n",
       "      <td>-0.005840</td>\n",
       "      <td>-0.065724</td>\n",
       "      <td>0.019867</td>\n",
       "      <td>ffbef7e5</td>\n",
       "    </tr>\n",
       "    <tr>\n",
       "      <th>1973</th>\n",
       "      <td>-0.127125</td>\n",
       "      <td>0.042635</td>\n",
       "      <td>0.204098</td>\n",
       "      <td>-0.254229</td>\n",
       "      <td>-0.014637</td>\n",
       "      <td>-0.045684</td>\n",
       "      <td>-0.047279</td>\n",
       "      <td>-0.105268</td>\n",
       "      <td>-0.163525</td>\n",
       "      <td>-0.025287</td>\n",
       "      <td>...</td>\n",
       "      <td>-0.135819</td>\n",
       "      <td>-0.028612</td>\n",
       "      <td>-0.075048</td>\n",
       "      <td>0.013527</td>\n",
       "      <td>-0.106716</td>\n",
       "      <td>-0.061366</td>\n",
       "      <td>-0.005881</td>\n",
       "      <td>-0.106782</td>\n",
       "      <td>-0.008976</td>\n",
       "      <td>ffccd6fd</td>\n",
       "    </tr>\n",
       "    <tr>\n",
       "      <th>1974</th>\n",
       "      <td>-0.121368</td>\n",
       "      <td>0.013506</td>\n",
       "      <td>0.211346</td>\n",
       "      <td>-0.251176</td>\n",
       "      <td>-0.009017</td>\n",
       "      <td>-0.065065</td>\n",
       "      <td>-0.043447</td>\n",
       "      <td>-0.112276</td>\n",
       "      <td>-0.155649</td>\n",
       "      <td>-0.022374</td>\n",
       "      <td>...</td>\n",
       "      <td>-0.159799</td>\n",
       "      <td>-0.027713</td>\n",
       "      <td>-0.062996</td>\n",
       "      <td>0.019536</td>\n",
       "      <td>-0.096322</td>\n",
       "      <td>-0.053839</td>\n",
       "      <td>-0.020176</td>\n",
       "      <td>-0.090533</td>\n",
       "      <td>0.012730</td>\n",
       "      <td>ffec5b38</td>\n",
       "    </tr>\n",
       "    <tr>\n",
       "      <th>1975</th>\n",
       "      <td>-0.140006</td>\n",
       "      <td>0.032300</td>\n",
       "      <td>0.198850</td>\n",
       "      <td>-0.239147</td>\n",
       "      <td>-0.012714</td>\n",
       "      <td>-0.053604</td>\n",
       "      <td>-0.063009</td>\n",
       "      <td>-0.113965</td>\n",
       "      <td>-0.159648</td>\n",
       "      <td>-0.013871</td>\n",
       "      <td>...</td>\n",
       "      <td>-0.155565</td>\n",
       "      <td>-0.028635</td>\n",
       "      <td>-0.073250</td>\n",
       "      <td>0.008799</td>\n",
       "      <td>-0.085866</td>\n",
       "      <td>-0.061460</td>\n",
       "      <td>-0.017045</td>\n",
       "      <td>-0.098551</td>\n",
       "      <td>0.007566</td>\n",
       "      <td>fff05981</td>\n",
       "    </tr>\n",
       "  </tbody>\n",
       "</table>\n",
       "<p>1976 rows × 65 columns</p>\n",
       "</div>"
      ],
      "text/plain": [
       "      w2vec_dim_0  w2vec_dim_1  w2vec_dim_2  w2vec_dim_3  w2vec_dim_4  \\\n",
       "0       -0.120961     0.008124     0.189207    -0.257088    -0.023798   \n",
       "1       -0.121321     0.041959     0.207654    -0.251683    -0.008331   \n",
       "2       -0.133752     0.018474     0.199096    -0.251982    -0.012915   \n",
       "3       -0.135792     0.012024     0.186571    -0.248868    -0.023798   \n",
       "4       -0.128574     0.031428     0.199653    -0.257360    -0.010355   \n",
       "...           ...          ...          ...          ...          ...   \n",
       "1971    -0.129806     0.018659     0.203291    -0.259275    -0.021951   \n",
       "1972    -0.119191     0.021719     0.193000    -0.257254    -0.011898   \n",
       "1973    -0.127125     0.042635     0.204098    -0.254229    -0.014637   \n",
       "1974    -0.121368     0.013506     0.211346    -0.251176    -0.009017   \n",
       "1975    -0.140006     0.032300     0.198850    -0.239147    -0.012714   \n",
       "\n",
       "      w2vec_dim_5  w2vec_dim_6  w2vec_dim_7  w2vec_dim_8  w2vec_dim_9  ...  \\\n",
       "0       -0.073213    -0.050833    -0.109157    -0.160328    -0.025513  ...   \n",
       "1       -0.055835    -0.042590    -0.106092    -0.150785    -0.015334  ...   \n",
       "2       -0.044597    -0.060598    -0.095827    -0.155384    -0.020722  ...   \n",
       "3       -0.080221    -0.056188    -0.121245    -0.174053    -0.019118  ...   \n",
       "4       -0.049244    -0.045932    -0.108550    -0.164943    -0.023780  ...   \n",
       "...           ...          ...          ...          ...          ...  ...   \n",
       "1971    -0.058274    -0.054073    -0.101140    -0.163914    -0.023695  ...   \n",
       "1972    -0.067292    -0.051586    -0.110319    -0.155872    -0.008588  ...   \n",
       "1973    -0.045684    -0.047279    -0.105268    -0.163525    -0.025287  ...   \n",
       "1974    -0.065065    -0.043447    -0.112276    -0.155649    -0.022374  ...   \n",
       "1975    -0.053604    -0.063009    -0.113965    -0.159648    -0.013871  ...   \n",
       "\n",
       "      w2vec_dim_55  w2vec_dim_56  w2vec_dim_57  w2vec_dim_58  w2vec_dim_59  \\\n",
       "0        -0.135022     -0.017231     -0.079651     -0.009296     -0.091024   \n",
       "1        -0.153256     -0.030884     -0.072392      0.018172     -0.094070   \n",
       "2        -0.126775     -0.032979     -0.083987      0.018990     -0.105324   \n",
       "3        -0.159412     -0.018472     -0.064057     -0.000311     -0.077134   \n",
       "4        -0.127782     -0.033632     -0.075955      0.016297     -0.100076   \n",
       "...            ...           ...           ...           ...           ...   \n",
       "1971     -0.145320     -0.018962     -0.075197      0.004702     -0.090093   \n",
       "1972     -0.125003     -0.022075     -0.073387     -0.006806     -0.088617   \n",
       "1973     -0.135819     -0.028612     -0.075048      0.013527     -0.106716   \n",
       "1974     -0.159799     -0.027713     -0.062996      0.019536     -0.096322   \n",
       "1975     -0.155565     -0.028635     -0.073250      0.008799     -0.085866   \n",
       "\n",
       "      w2vec_dim_60  w2vec_dim_61  w2vec_dim_62  w2vec_dim_63        id  \n",
       "0        -0.074310     -0.008469     -0.071511      0.005326  0022f953  \n",
       "1        -0.044517     -0.016554     -0.089601      0.004782  0042269b  \n",
       "2        -0.072488     -0.028955     -0.088966     -0.016339  0059420b  \n",
       "3        -0.055951     -0.004523     -0.064981      0.030872  0075873a  \n",
       "4        -0.062259     -0.014316     -0.095985      0.002560  0081af50  \n",
       "...            ...           ...           ...           ...       ...  \n",
       "1971     -0.048943     -0.005364     -0.084302      0.015464  ffb8c745  \n",
       "1972     -0.050712     -0.005840     -0.065724      0.019867  ffbef7e5  \n",
       "1973     -0.061366     -0.005881     -0.106782     -0.008976  ffccd6fd  \n",
       "1974     -0.053839     -0.020176     -0.090533      0.012730  ffec5b38  \n",
       "1975     -0.061460     -0.017045     -0.098551      0.007566  fff05981  \n",
       "\n",
       "[1976 rows x 65 columns]"
      ]
     },
     "execution_count": 42,
     "metadata": {},
     "output_type": "execute_result"
    }
   ],
   "source": [
    "embd_df_train"
   ]
  },
  {
   "cell_type": "code",
   "execution_count": null,
   "id": "12f5e1f3",
   "metadata": {
    "papermill": {
     "duration": 0.022906,
     "end_time": "2023-11-22T05:01:27.520956",
     "exception": false,
     "start_time": "2023-11-22T05:01:27.498050",
     "status": "completed"
    },
    "tags": []
   },
   "outputs": [],
   "source": []
  },
  {
   "cell_type": "code",
   "execution_count": 43,
   "id": "e18c35ed",
   "metadata": {
    "execution": {
     "iopub.execute_input": "2023-12-30T04:54:58.327176Z",
     "iopub.status.busy": "2023-12-30T04:54:58.326996Z",
     "iopub.status.idle": "2023-12-30T04:54:58.357728Z",
     "shell.execute_reply": "2023-12-30T04:54:58.357247Z",
     "shell.execute_reply.started": "2023-12-30T04:54:58.327160Z"
    },
    "papermill": {
     "duration": 0.083639,
     "end_time": "2023-11-22T05:01:27.627558",
     "exception": false,
     "start_time": "2023-11-22T05:01:27.543919",
     "status": "completed"
    },
    "tags": []
   },
   "outputs": [],
   "source": [
    "class Preprocessor:\n",
    "    def __init__(self, seed):\n",
    "        self.seed = seed\n",
    "\n",
    "        self.activities = [\"Input\", \"Remove/Cut\", \"Nonproduction\", \"Replace\", \"Paste\"]\n",
    "        self.events = [\n",
    "            \"q\",\n",
    "            \"Space\",\n",
    "            \"Backspace\",\n",
    "            \"Shift\",\n",
    "            \"ArrowRight\",\n",
    "            \"Leftclick\",\n",
    "            \"ArrowLeft\",\n",
    "            \".\",\n",
    "            \",\",\n",
    "            \"ArrowDown\",\n",
    "            \"ArrowUp\",\n",
    "            \"Enter\",\n",
    "            \"CapsLock\",\n",
    "            \"'\",\n",
    "            \"Delete\",\n",
    "            \"Unidentified\",\n",
    "        ]\n",
    "        self.text_changes = [\n",
    "            \"q\",\n",
    "            \" \",\n",
    "            \"NoChange\",\n",
    "            \".\",\n",
    "            \",\",\n",
    "            \"\\n\",\n",
    "            \"'\",\n",
    "            '\"',\n",
    "            \"-\",\n",
    "            \"?\",\n",
    "            \";\",\n",
    "            \"=\",\n",
    "            \"/\",\n",
    "            \"\\\\\",\n",
    "            \":\",\n",
    "        ]\n",
    "        self.punctuations = [\n",
    "            '\"',\n",
    "            \".\",\n",
    "            \",\",\n",
    "            \"'\",\n",
    "            \"-\",\n",
    "            \";\",\n",
    "            \":\",\n",
    "            \"?\",\n",
    "            \"!\",\n",
    "            \"<\",\n",
    "            \">\",\n",
    "            \"/\",\n",
    "            \"@\",\n",
    "            \"#\",\n",
    "            \"$\",\n",
    "            \"%\",\n",
    "            \"^\",\n",
    "            \"&\",\n",
    "            \"*\",\n",
    "            \"(\",\n",
    "            \")\",\n",
    "            \"_\",\n",
    "            \"+\",\n",
    "        ]\n",
    "        self.gaps = [1, 2, 3, 5, 10, 20, 50, 100]\n",
    "\n",
    "        self.idf = defaultdict(float)\n",
    "\n",
    "    #         self.gaps = [1, 2]\n",
    "\n",
    "    def match_punctuations(self, df):\n",
    "        tmp_df = df.groupby(\"id\").agg({\"down_event\": list}).reset_index()\n",
    "        ret = list()\n",
    "        for li in tqdm(tmp_df[\"down_event\"].values):\n",
    "            cnt = 0\n",
    "            items = list(Counter(li).items())\n",
    "            for item in items:\n",
    "                k, v = item[0], item[1]\n",
    "                if k in self.punctuations:\n",
    "                    cnt += v\n",
    "            ret.append(cnt)\n",
    "        ret = pd.DataFrame({\"punct_cnt\": ret})\n",
    "        return ret\n",
    "\n",
    "    def get_input_words(self, df):\n",
    "        tmp_df = df[\n",
    "            (~df[\"text_change\"].str.contains(\"=>\")) & (df[\"text_change\"] != \"NoChange\")\n",
    "        ].reset_index(drop=True)\n",
    "        tmp_df = tmp_df.groupby(\"id\").agg({\"text_change\": list}).reset_index()\n",
    "        tmp_df[\"text_change\"] = tmp_df[\"text_change\"].apply(lambda x: \"\".join(x))\n",
    "        tmp_df[\"text_change\"] = tmp_df[\"text_change\"].apply(\n",
    "            lambda x: re.findall(r\"q+\", x)\n",
    "        )\n",
    "        tmp_df[\"input_word_count\"] = tmp_df[\"text_change\"].apply(len)\n",
    "        tmp_df[\"input_word_length_mean\"] = tmp_df[\"text_change\"].apply(\n",
    "            lambda x: np.mean([len(i) for i in x] if len(x) > 0 else 0)\n",
    "        )\n",
    "        tmp_df[\"input_word_length_max\"] = tmp_df[\"text_change\"].apply(\n",
    "            lambda x: np.max([len(i) for i in x] if len(x) > 0 else 0)\n",
    "        )\n",
    "        tmp_df[\"input_word_length_std\"] = tmp_df[\"text_change\"].apply(\n",
    "            lambda x: np.std([len(i) for i in x] if len(x) > 0 else 0)\n",
    "        )\n",
    "        tmp_df.drop([\"text_change\"], axis=1, inplace=True)\n",
    "        return tmp_df\n",
    "\n",
    "    def make_feats(self, df):\n",
    "        print(\"Starting to engineer features\")\n",
    "\n",
    "        # initialize features dataframe\n",
    "        feats = pd.DataFrame({\"id\": df[\"id\"].unique().tolist()})\n",
    "\n",
    "        # get shifted features\n",
    "        # time shift\n",
    "        print(\"Engineering time data\")\n",
    "        for gap in self.gaps:\n",
    "            print(f\"> for gap {gap}\")\n",
    "            df[f\"up_time_shift{gap}\"] = df.groupby(\"id\")[\"up_time\"].shift(gap)\n",
    "            df[f\"action_time_gap{gap}\"] = df[\"down_time\"] - df[f\"up_time_shift{gap}\"]\n",
    "        df.drop(columns=[f\"up_time_shift{gap}\" for gap in self.gaps], inplace=True)\n",
    "\n",
    "        # cursor position shift\n",
    "        print(\"Engineering cursor position data\")\n",
    "        for gap in self.gaps:\n",
    "            print(f\"> for gap {gap}\")\n",
    "            df[f\"cursor_position_shift{gap}\"] = df.groupby(\"id\")[\n",
    "                \"cursor_position\"\n",
    "            ].shift(gap)\n",
    "            df[f\"cursor_position_change{gap}\"] = (\n",
    "                df[\"cursor_position\"] - df[f\"cursor_position_shift{gap}\"]\n",
    "            )\n",
    "            df[f\"cursor_position_abs_change{gap}\"] = np.abs(\n",
    "                df[f\"cursor_position_change{gap}\"]\n",
    "            )\n",
    "        df.drop(\n",
    "            columns=[f\"cursor_position_shift{gap}\" for gap in self.gaps], inplace=True\n",
    "        )\n",
    "\n",
    "        # word count shift\n",
    "        print(\"Engineering word count data\")\n",
    "        for gap in self.gaps:\n",
    "            print(f\"> for gap {gap}\")\n",
    "            df[f\"word_count_shift{gap}\"] = df.groupby(\"id\")[\"word_count\"].shift(gap)\n",
    "            df[f\"word_count_change{gap}\"] = (\n",
    "                df[\"word_count\"] - df[f\"word_count_shift{gap}\"]\n",
    "            )\n",
    "            df[f\"word_count_abs_change{gap}\"] = np.abs(df[f\"word_count_change{gap}\"])\n",
    "        df.drop(columns=[f\"word_count_shift{gap}\" for gap in self.gaps], inplace=True)\n",
    "\n",
    "        # get aggregate statistical features\n",
    "        print(\"Engineering statistical summaries for features\")\n",
    "        # [(feature name, [ stat summaries to add ])]\n",
    "        feats_stat = [\n",
    "            (\"event_id\", [\"max\"]),\n",
    "            (\"up_time\", [\"max\"]),\n",
    "            (\n",
    "                \"action_time\",\n",
    "                [\n",
    "                    \"max\",\n",
    "                    \"min\",\n",
    "                    \"mean\",\n",
    "                    \"std\",\n",
    "                    \"quantile\",\n",
    "                    \"sem\",\n",
    "                    \"sum\",\n",
    "                    \"skew\",\n",
    "                    pd.DataFrame.kurt,\n",
    "                ],\n",
    "            ),\n",
    "            (\"activity\", [\"nunique\"]),\n",
    "            (\"down_event\", [\"nunique\"]),\n",
    "            (\"up_event\", [\"nunique\"]),\n",
    "            (\"text_change\", [\"nunique\"]),\n",
    "            (\"cursor_position\", [\"nunique\", \"max\", \"quantile\", \"sem\", \"mean\"]),\n",
    "            (\"word_count\", [\"nunique\", \"max\", \"quantile\", \"sem\", \"mean\"]),\n",
    "        ]\n",
    "        for gap in self.gaps:\n",
    "            feats_stat.extend(\n",
    "                [\n",
    "                    (\n",
    "                        f\"action_time_gap{gap}\",\n",
    "                        [\n",
    "                            \"max\",\n",
    "                            \"min\",\n",
    "                            \"mean\",\n",
    "                            \"std\",\n",
    "                            \"quantile\",\n",
    "                            \"sem\",\n",
    "                            \"sum\",\n",
    "                            \"skew\",\n",
    "                            pd.DataFrame.kurt,\n",
    "                        ],\n",
    "                    ),\n",
    "                    (\n",
    "                        f\"cursor_position_change{gap}\",\n",
    "                        [\n",
    "                            \"max\",\n",
    "                            \"mean\",\n",
    "                            \"std\",\n",
    "                            \"quantile\",\n",
    "                            \"sem\",\n",
    "                            \"sum\",\n",
    "                            \"skew\",\n",
    "                            pd.DataFrame.kurt,\n",
    "                        ],\n",
    "                    ),\n",
    "                    (\n",
    "                        f\"word_count_change{gap}\",\n",
    "                        [\n",
    "                            \"max\",\n",
    "                            \"mean\",\n",
    "                            \"std\",\n",
    "                            \"quantile\",\n",
    "                            \"sem\",\n",
    "                            \"sum\",\n",
    "                            \"skew\",\n",
    "                            pd.DataFrame.kurt,\n",
    "                        ],\n",
    "                    ),\n",
    "                ]\n",
    "            )\n",
    "\n",
    "        pbar = tqdm(feats_stat)\n",
    "        for item in pbar:\n",
    "            colname, methods = item[0], item[1]\n",
    "            for method in methods:\n",
    "                pbar.set_postfix()\n",
    "                if isinstance(method, str):\n",
    "                    method_name = method\n",
    "                else:\n",
    "                    method_name = method.__name__\n",
    "\n",
    "                pbar.set_postfix(column=colname, method=method_name)\n",
    "                tmp_df = (\n",
    "                    df.groupby([\"id\"])\n",
    "                    .agg({colname: method})\n",
    "                    .reset_index()\n",
    "                    .rename(columns={colname: f\"{colname}_{method_name}\"})\n",
    "                )\n",
    "                feats = feats.merge(tmp_df, on=\"id\", how=\"left\")\n",
    "\n",
    "        print(\"Engineering punctuation counts data\")\n",
    "        tmp_df = self.match_punctuations(df)\n",
    "        feats = pd.concat([feats, tmp_df], axis=1)\n",
    "\n",
    "        # # input words\n",
    "        # print(\"Engineering input words data\")\n",
    "        # tmp_df = self.get_input_words(df)\n",
    "        # feats = pd.merge(feats, tmp_df, on='id', how='left')\n",
    "\n",
    "        # compare feats\n",
    "        print(\"Engineering ratios data\")\n",
    "        feats[\"word_time_ratio\"] = feats[\"word_count_max\"] / feats[\"up_time_max\"]\n",
    "        feats[\"word_event_ratio\"] = feats[\"word_count_max\"] / feats[\"event_id_max\"]\n",
    "        feats[\"event_time_ratio\"] = feats[\"event_id_max\"] / feats[\"up_time_max\"]\n",
    "        feats[\"idle_time_ratio\"] = feats[\"action_time_gap1_sum\"] / feats[\"up_time_max\"]\n",
    "\n",
    "        print(\"Done!\")\n",
    "        return feats"
   ]
  },
  {
   "cell_type": "code",
   "execution_count": 44,
   "id": "7958c0ca",
   "metadata": {
    "execution": {
     "iopub.execute_input": "2023-12-30T04:54:58.358322Z",
     "iopub.status.busy": "2023-12-30T04:54:58.358187Z",
     "iopub.status.idle": "2023-12-30T04:56:43.577549Z",
     "shell.execute_reply": "2023-12-30T04:56:43.577096Z",
     "shell.execute_reply.started": "2023-12-30T04:54:58.358308Z"
    },
    "papermill": {
     "duration": 312.601255,
     "end_time": "2023-11-22T05:06:40.252479",
     "exception": false,
     "start_time": "2023-11-22T05:01:27.651224",
     "status": "completed"
    },
    "tags": []
   },
   "outputs": [
    {
     "name": "stdout",
     "output_type": "stream",
     "text": [
      "Engineering features for training data\n",
      "Starting to engineer features\n",
      "Engineering time data\n",
      "> for gap 1\n",
      "> for gap 2\n",
      "> for gap 3\n",
      "> for gap 5\n",
      "> for gap 10\n",
      "> for gap 20\n",
      "> for gap 50\n",
      "> for gap 100\n",
      "Engineering cursor position data\n",
      "> for gap 1\n",
      "> for gap 2\n",
      "> for gap 3\n",
      "> for gap 5\n",
      "> for gap 10\n",
      "> for gap 20\n",
      "> for gap 50\n",
      "> for gap 100\n",
      "Engineering word count data\n",
      "> for gap 1\n",
      "> for gap 2\n",
      "> for gap 3\n",
      "> for gap 5\n",
      "> for gap 10\n",
      "> for gap 20\n",
      "> for gap 50\n",
      "> for gap 100\n",
      "Engineering statistical summaries for features\n"
     ]
    },
    {
     "name": "stderr",
     "output_type": "stream",
     "text": [
      "100%|█| 33/33 [01:15<00:00,  2.28s/it, column=word_count_change100, method=kurt]\n"
     ]
    },
    {
     "name": "stdout",
     "output_type": "stream",
     "text": [
      "Engineering punctuation counts data\n"
     ]
    },
    {
     "name": "stderr",
     "output_type": "stream",
     "text": [
      "100%|████████████████████████████████████| 1976/1976 [00:00<00:00, 11968.32it/s]\n"
     ]
    },
    {
     "name": "stdout",
     "output_type": "stream",
     "text": [
      "Engineering ratios data\n",
      "Done!\n",
      "\n",
      "-------------------------\n",
      "Engineering features for test data\n",
      "-------------------------\n",
      "Starting to engineer features\n",
      "Engineering time data\n",
      "> for gap 1\n",
      "> for gap 2\n",
      "> for gap 3\n",
      "> for gap 5\n",
      "> for gap 10\n",
      "> for gap 20\n",
      "> for gap 50\n",
      "> for gap 100\n",
      "Engineering cursor position data\n",
      "> for gap 1\n",
      "> for gap 2\n",
      "> for gap 3\n",
      "> for gap 5\n",
      "> for gap 10\n",
      "> for gap 20\n",
      "> for gap 50\n",
      "> for gap 100\n",
      "Engineering word count data\n",
      "> for gap 1\n",
      "> for gap 2\n",
      "> for gap 3\n",
      "> for gap 5\n",
      "> for gap 10\n",
      "> for gap 20\n",
      "> for gap 50\n",
      "> for gap 100\n",
      "Engineering statistical summaries for features\n"
     ]
    },
    {
     "name": "stderr",
     "output_type": "stream",
     "text": [
      "100%|█| 33/33 [00:17<00:00,  1.84it/s, column=word_count_change100, method=kurt]\n"
     ]
    },
    {
     "name": "stdout",
     "output_type": "stream",
     "text": [
      "Engineering punctuation counts data\n"
     ]
    },
    {
     "name": "stderr",
     "output_type": "stream",
     "text": [
      "100%|██████████████████████████████████████| 495/495 [00:00<00:00, 10951.71it/s]"
     ]
    },
    {
     "name": "stdout",
     "output_type": "stream",
     "text": [
      "Engineering ratios data\n",
      "Done!\n"
     ]
    },
    {
     "name": "stderr",
     "output_type": "stream",
     "text": [
      "\n"
     ]
    }
   ],
   "source": [
    "preprocessor = Preprocessor(seed=cnfg.seed)\n",
    "\n",
    "print(\"Engineering features for training data\")\n",
    "\n",
    "other_train_feats = preprocessor.make_feats(traindf)\n",
    "\n",
    "print()\n",
    "print(\"-\" * 25)\n",
    "print(\"Engineering features for test data\")\n",
    "print(\"-\" * 25)\n",
    "other_test_feats = preprocessor.make_feats(testdf)"
   ]
  },
  {
   "cell_type": "code",
   "execution_count": 45,
   "id": "f0dede6d",
   "metadata": {
    "execution": {
     "iopub.execute_input": "2023-12-30T04:56:43.578244Z",
     "iopub.status.busy": "2023-12-30T04:56:43.578087Z",
     "iopub.status.idle": "2023-12-30T04:56:43.581232Z",
     "shell.execute_reply": "2023-12-30T04:56:43.580925Z",
     "shell.execute_reply.started": "2023-12-30T04:56:43.578231Z"
    },
    "papermill": {
     "duration": 0.036591,
     "end_time": "2023-11-22T05:06:40.317786",
     "exception": false,
     "start_time": "2023-11-22T05:06:40.281195",
     "status": "completed"
    },
    "tags": []
   },
   "outputs": [
    {
     "data": {
      "text/plain": [
       "((1976, 231), (495, 231))"
      ]
     },
     "execution_count": 45,
     "metadata": {},
     "output_type": "execute_result"
    }
   ],
   "source": [
    "other_train_feats.shape, other_test_feats.shape"
   ]
  },
  {
   "cell_type": "code",
   "execution_count": 46,
   "id": "57055375",
   "metadata": {
    "execution": {
     "iopub.execute_input": "2023-12-30T04:56:43.581760Z",
     "iopub.status.busy": "2023-12-30T04:56:43.581638Z",
     "iopub.status.idle": "2023-12-30T04:56:43.594700Z",
     "shell.execute_reply": "2023-12-30T04:56:43.594302Z",
     "shell.execute_reply.started": "2023-12-30T04:56:43.581747Z"
    },
    "papermill": {
     "duration": 0.035624,
     "end_time": "2023-11-22T05:06:40.382268",
     "exception": false,
     "start_time": "2023-11-22T05:06:40.346644",
     "status": "completed"
    },
    "tags": []
   },
   "outputs": [],
   "source": [
    "df_train_all = pd.DataFrame()\n",
    "df_test_all = pd.DataFrame()"
   ]
  },
  {
   "cell_type": "code",
   "execution_count": 47,
   "id": "7bfc03bb",
   "metadata": {
    "execution": {
     "iopub.execute_input": "2023-12-30T04:56:43.595316Z",
     "iopub.status.busy": "2023-12-30T04:56:43.595193Z",
     "iopub.status.idle": "2023-12-30T04:56:43.601591Z",
     "shell.execute_reply": "2023-12-30T04:56:43.601262Z",
     "shell.execute_reply.started": "2023-12-30T04:56:43.595303Z"
    },
    "papermill": {
     "duration": 0.040356,
     "end_time": "2023-11-22T05:06:40.451457",
     "exception": false,
     "start_time": "2023-11-22T05:06:40.411101",
     "status": "completed"
    },
    "tags": []
   },
   "outputs": [],
   "source": [
    "df_train_all = df_train.merge(train_agg_fe_df, on=\"id\")"
   ]
  },
  {
   "cell_type": "code",
   "execution_count": 48,
   "id": "1dfbf5f5",
   "metadata": {
    "execution": {
     "iopub.execute_input": "2023-12-30T04:56:43.602234Z",
     "iopub.status.busy": "2023-12-30T04:56:43.601993Z",
     "iopub.status.idle": "2023-12-30T04:56:43.607251Z",
     "shell.execute_reply": "2023-12-30T04:56:43.606778Z",
     "shell.execute_reply.started": "2023-12-30T04:56:43.602220Z"
    },
    "papermill": {
     "duration": 0.038116,
     "end_time": "2023-11-22T05:06:40.517958",
     "exception": false,
     "start_time": "2023-11-22T05:06:40.479842",
     "status": "completed"
    },
    "tags": []
   },
   "outputs": [],
   "source": [
    "df_test_all = df_test.merge(test_agg_fe_df, on=\"id\")"
   ]
  },
  {
   "cell_type": "code",
   "execution_count": 49,
   "id": "4e193d5e",
   "metadata": {
    "execution": {
     "iopub.execute_input": "2023-12-30T04:56:43.607777Z",
     "iopub.status.busy": "2023-12-30T04:56:43.607654Z",
     "iopub.status.idle": "2023-12-30T04:56:43.612176Z",
     "shell.execute_reply": "2023-12-30T04:56:43.611798Z",
     "shell.execute_reply.started": "2023-12-30T04:56:43.607764Z"
    },
    "papermill": {
     "duration": 0.035052,
     "end_time": "2023-11-22T05:06:40.581761",
     "exception": false,
     "start_time": "2023-11-22T05:06:40.546709",
     "status": "completed"
    },
    "tags": []
   },
   "outputs": [],
   "source": [
    "def q1(x):\n",
    "    return x.quantile(0.25)\n",
    "\n",
    "\n",
    "def q3(x):\n",
    "    return x.quantile(0.75)"
   ]
  },
  {
   "cell_type": "code",
   "execution_count": 50,
   "id": "de248ca1",
   "metadata": {
    "execution": {
     "iopub.execute_input": "2023-12-30T04:56:43.612766Z",
     "iopub.status.busy": "2023-12-30T04:56:43.612610Z",
     "iopub.status.idle": "2023-12-30T04:56:43.620450Z",
     "shell.execute_reply": "2023-12-30T04:56:43.620118Z",
     "shell.execute_reply.started": "2023-12-30T04:56:43.612753Z"
    },
    "papermill": {
     "duration": 0.046306,
     "end_time": "2023-11-22T05:06:40.656332",
     "exception": false,
     "start_time": "2023-11-22T05:06:40.610026",
     "status": "completed"
    },
    "tags": []
   },
   "outputs": [],
   "source": [
    "AGGREGATIONS = [\n",
    "    \"count\",\n",
    "    \"mean\",\n",
    "    \"std\",\n",
    "    \"min\",\n",
    "    \"max\",\n",
    "    \"first\",\n",
    "    \"last\",\n",
    "    \"sem\",\n",
    "    q1,\n",
    "    \"median\",\n",
    "    q3,\n",
    "    \"skew\",\n",
    "    pd.DataFrame.kurt,\n",
    "    \"sum\",\n",
    "]\n",
    "\n",
    "\n",
    "def split_essays_into_sentences(df):\n",
    "    essay_df = df.copy()\n",
    "    essay_df[\"id\"] = essay_df.index\n",
    "    essay_df[\"sent\"] = essay_df[\"essay\"].apply(\n",
    "        lambda x: re.split(\"\\\\.|\\\\?|\\\\!\", str(x))\n",
    "    )\n",
    "    essay_df = essay_df.explode(\"sent\")\n",
    "    essay_df[\"sent\"] = essay_df[\"sent\"].apply(lambda x: x.replace(\"\\n\", \"\").strip())\n",
    "    # Number of characters in sentences\n",
    "    essay_df[\"sent_len\"] = essay_df[\"sent\"].apply(lambda x: len(x))\n",
    "    # Number of words in sentences\n",
    "    essay_df[\"sent_word_count\"] = essay_df[\"sent\"].apply(lambda x: len(x.split(\" \")))\n",
    "    essay_df = essay_df[essay_df.columns.tolist()].reset_index(drop=True)\n",
    "    return essay_df\n",
    "\n",
    "\n",
    "def compute_sentence_aggregations(df):\n",
    "    sent_agg_df = pd.concat(\n",
    "        [\n",
    "            df[[\"id\", \"sent_len\"]].groupby([\"id\"]).agg(AGGREGATIONS),\n",
    "            df[[\"id\", \"sent_word_count\"]].groupby([\"id\"]).agg(AGGREGATIONS),\n",
    "        ],\n",
    "        axis=1,\n",
    "    )\n",
    "    sent_agg_df.columns = [\"_\".join(x) for x in sent_agg_df.columns]\n",
    "    sent_agg_df[\"id\"] = sent_agg_df.index\n",
    "    sent_agg_df = sent_agg_df.reset_index(drop=True)\n",
    "    sent_agg_df.drop(columns=[\"sent_word_count_count\"], inplace=True)\n",
    "    sent_agg_df = sent_agg_df.rename(columns={\"sent_len_count\": \"sent_count\"})\n",
    "    return sent_agg_df\n",
    "\n",
    "\n",
    "def split_essays_into_paragraphs(df):\n",
    "    essay_df = df.copy()\n",
    "    essay_df[\"id\"] = essay_df.index\n",
    "    essay_df[\"paragraph\"] = essay_df[\"essay\"].apply(lambda x: str(x).split(\"\\n\"))\n",
    "    essay_df = essay_df.explode(\"paragraph\")\n",
    "    # Number of characters in paragraphs\n",
    "    essay_df[\"paragraph_len\"] = essay_df[\"paragraph\"].apply(lambda x: len(x))\n",
    "    # Number of words in paragraphs\n",
    "    essay_df[\"paragraph_word_count\"] = essay_df[\"paragraph\"].apply(\n",
    "        lambda x: len(x.split(\" \"))\n",
    "    )\n",
    "    essay_df = essay_df[essay_df.paragraph_len != 0].reset_index(drop=True)\n",
    "    return essay_df\n",
    "\n",
    "\n",
    "def compute_paragraph_aggregations(df):\n",
    "    paragraph_agg_df = pd.concat(\n",
    "        [\n",
    "            df[[\"id\", \"paragraph_len\"]].groupby([\"id\"]).agg(AGGREGATIONS),\n",
    "            df[[\"id\", \"paragraph_word_count\"]].groupby([\"id\"]).agg(AGGREGATIONS),\n",
    "        ],\n",
    "        axis=1,\n",
    "    )\n",
    "    paragraph_agg_df.columns = [\"_\".join(x) for x in paragraph_agg_df.columns]\n",
    "    paragraph_agg_df[\"id\"] = paragraph_agg_df.index\n",
    "    paragraph_agg_df = paragraph_agg_df.reset_index(drop=True)\n",
    "    paragraph_agg_df.drop(columns=[\"paragraph_word_count_count\"], inplace=True)\n",
    "    paragraph_agg_df = paragraph_agg_df.rename(\n",
    "        columns={\"paragraph_len_count\": \"paragraph_count\"}\n",
    "    )\n",
    "    return paragraph_agg_df"
   ]
  },
  {
   "cell_type": "code",
   "execution_count": 51,
   "id": "856f9d57",
   "metadata": {
    "execution": {
     "iopub.execute_input": "2023-12-30T04:56:43.621165Z",
     "iopub.status.busy": "2023-12-30T04:56:43.620905Z",
     "iopub.status.idle": "2023-12-30T04:56:46.635076Z",
     "shell.execute_reply": "2023-12-30T04:56:46.634598Z",
     "shell.execute_reply.started": "2023-12-30T04:56:43.621143Z"
    },
    "papermill": {
     "duration": 6.984449,
     "end_time": "2023-11-22T05:06:47.669108",
     "exception": false,
     "start_time": "2023-11-22T05:06:40.684659",
     "status": "completed"
    },
    "tags": []
   },
   "outputs": [],
   "source": [
    "# Sentence features for train dataset\n",
    "train_sent_df = split_essays_into_sentences(train_essaysdf)\n",
    "train_sent_agg_df = compute_sentence_aggregations(train_sent_df)\n",
    "# plt.figure(figsize=(15, 1.5))\n",
    "# plt.boxplot(x=train_sent_df.sent_len, vert=False, labels=['Sentence length'])\n",
    "# plt.show()"
   ]
  },
  {
   "cell_type": "code",
   "execution_count": 52,
   "id": "b477c3a2",
   "metadata": {
    "execution": {
     "iopub.execute_input": "2023-12-30T04:56:46.635755Z",
     "iopub.status.busy": "2023-12-30T04:56:46.635588Z",
     "iopub.status.idle": "2023-12-30T04:56:49.540274Z",
     "shell.execute_reply": "2023-12-30T04:56:49.539748Z",
     "shell.execute_reply.started": "2023-12-30T04:56:46.635740Z"
    },
    "papermill": {
     "duration": 6.822637,
     "end_time": "2023-11-22T05:06:54.523120",
     "exception": false,
     "start_time": "2023-11-22T05:06:47.700483",
     "status": "completed"
    },
    "tags": []
   },
   "outputs": [],
   "source": [
    "train_paragraph_df = split_essays_into_paragraphs(train_essaysdf)\n",
    "train_paragraph_agg_df = compute_paragraph_aggregations(train_paragraph_df)"
   ]
  },
  {
   "cell_type": "code",
   "execution_count": 53,
   "id": "9f2124de",
   "metadata": {
    "execution": {
     "iopub.execute_input": "2023-12-30T04:56:49.540986Z",
     "iopub.status.busy": "2023-12-30T04:56:49.540790Z",
     "iopub.status.idle": "2023-12-30T04:56:51.019737Z",
     "shell.execute_reply": "2023-12-30T04:56:51.019181Z",
     "shell.execute_reply.started": "2023-12-30T04:56:49.540972Z"
    },
    "papermill": {
     "duration": 0.088963,
     "end_time": "2023-11-22T05:06:54.641133",
     "exception": false,
     "start_time": "2023-11-22T05:06:54.552170",
     "status": "completed"
    },
    "tags": []
   },
   "outputs": [],
   "source": [
    "test_sent_agg_df = compute_sentence_aggregations(\n",
    "    split_essays_into_sentences(test_essaysdf)\n",
    ")\n",
    "test_paragraph_agg_df = compute_paragraph_aggregations(\n",
    "    split_essays_into_paragraphs(test_essaysdf)\n",
    ")"
   ]
  },
  {
   "cell_type": "code",
   "execution_count": 54,
   "id": "bbb74c74",
   "metadata": {
    "execution": {
     "iopub.execute_input": "2023-12-30T04:56:51.020534Z",
     "iopub.status.busy": "2023-12-30T04:56:51.020342Z",
     "iopub.status.idle": "2023-12-30T04:56:51.023500Z",
     "shell.execute_reply": "2023-12-30T04:56:51.023177Z",
     "shell.execute_reply.started": "2023-12-30T04:56:51.020520Z"
    },
    "papermill": {
     "duration": 0.03726,
     "end_time": "2023-11-22T05:06:54.706878",
     "exception": false,
     "start_time": "2023-11-22T05:06:54.669618",
     "status": "completed"
    },
    "tags": []
   },
   "outputs": [],
   "source": [
    "train_paragraph_agg_df.loc[:, \"id\"] = df_train_index\n",
    "train_sent_agg_df.loc[:, \"id\"] = df_train_index"
   ]
  },
  {
   "cell_type": "code",
   "execution_count": 55,
   "id": "9bd42dbf",
   "metadata": {
    "execution": {
     "iopub.execute_input": "2023-12-30T04:56:51.024026Z",
     "iopub.status.busy": "2023-12-30T04:56:51.023905Z",
     "iopub.status.idle": "2023-12-30T04:56:51.040758Z",
     "shell.execute_reply": "2023-12-30T04:56:51.040270Z",
     "shell.execute_reply.started": "2023-12-30T04:56:51.024014Z"
    },
    "papermill": {
     "duration": 0.036288,
     "end_time": "2023-11-22T05:06:54.771573",
     "exception": false,
     "start_time": "2023-11-22T05:06:54.735285",
     "status": "completed"
    },
    "tags": []
   },
   "outputs": [],
   "source": [
    "test_paragraph_agg_df.loc[:, \"id\"] = df_test_index\n",
    "test_sent_agg_df.loc[:, \"id\"] = df_test_index"
   ]
  },
  {
   "cell_type": "code",
   "execution_count": 56,
   "id": "5a273432",
   "metadata": {
    "execution": {
     "iopub.execute_input": "2023-12-30T04:56:51.041419Z",
     "iopub.status.busy": "2023-12-30T04:56:51.041260Z",
     "iopub.status.idle": "2023-12-30T04:56:51.046024Z",
     "shell.execute_reply": "2023-12-30T04:56:51.045517Z",
     "shell.execute_reply.started": "2023-12-30T04:56:51.041406Z"
    },
    "papermill": {
     "duration": 0.035825,
     "end_time": "2023-11-22T05:06:54.835760",
     "exception": false,
     "start_time": "2023-11-22T05:06:54.799935",
     "status": "completed"
    },
    "tags": []
   },
   "outputs": [],
   "source": [
    "new_train_feats = pd.DataFrame()\n",
    "new_test_feats = pd.DataFrame()"
   ]
  },
  {
   "cell_type": "code",
   "execution_count": 57,
   "id": "3051b8f7",
   "metadata": {
    "execution": {
     "iopub.execute_input": "2023-12-30T04:56:51.046585Z",
     "iopub.status.busy": "2023-12-30T04:56:51.046446Z",
     "iopub.status.idle": "2023-12-30T04:56:51.055482Z",
     "shell.execute_reply": "2023-12-30T04:56:51.054911Z",
     "shell.execute_reply.started": "2023-12-30T04:56:51.046572Z"
    },
    "papermill": {
     "duration": 0.046572,
     "end_time": "2023-11-22T05:06:54.910543",
     "exception": false,
     "start_time": "2023-11-22T05:06:54.863971",
     "status": "completed"
    },
    "tags": []
   },
   "outputs": [],
   "source": [
    "new_train_feats = train_paragraph_agg_df.merge(df_train_all, on=\"id\")\n",
    "new_train_feats = new_train_feats.merge(train_sent_agg_df, on=\"id\")"
   ]
  },
  {
   "cell_type": "code",
   "execution_count": 58,
   "id": "f6e1d885",
   "metadata": {
    "execution": {
     "iopub.execute_input": "2023-12-30T04:56:51.056122Z",
     "iopub.status.busy": "2023-12-30T04:56:51.056000Z",
     "iopub.status.idle": "2023-12-30T04:56:51.061105Z",
     "shell.execute_reply": "2023-12-30T04:56:51.060688Z",
     "shell.execute_reply.started": "2023-12-30T04:56:51.056109Z"
    },
    "papermill": {
     "duration": 0.039612,
     "end_time": "2023-11-22T05:06:54.978874",
     "exception": false,
     "start_time": "2023-11-22T05:06:54.939262",
     "status": "completed"
    },
    "tags": []
   },
   "outputs": [],
   "source": [
    "new_test_feats = test_paragraph_agg_df.merge(df_test_all, on=\"id\")\n",
    "new_test_feats = new_test_feats.merge(test_sent_agg_df, on=\"id\")"
   ]
  },
  {
   "cell_type": "code",
   "execution_count": 59,
   "id": "dc739b5b",
   "metadata": {
    "execution": {
     "iopub.execute_input": "2023-12-30T04:56:51.061710Z",
     "iopub.status.busy": "2023-12-30T04:56:51.061521Z",
     "iopub.status.idle": "2023-12-30T04:56:51.064614Z",
     "shell.execute_reply": "2023-12-30T04:56:51.064319Z",
     "shell.execute_reply.started": "2023-12-30T04:56:51.061696Z"
    },
    "papermill": {
     "duration": 0.036652,
     "end_time": "2023-11-22T05:06:55.044317",
     "exception": false,
     "start_time": "2023-11-22T05:06:55.007665",
     "status": "completed"
    },
    "tags": []
   },
   "outputs": [
    {
     "data": {
      "text/plain": [
       "(1976, 441)"
      ]
     },
     "execution_count": 59,
     "metadata": {},
     "output_type": "execute_result"
    }
   ],
   "source": [
    "new_train_feats.shape"
   ]
  },
  {
   "cell_type": "code",
   "execution_count": 60,
   "id": "ea74dad8",
   "metadata": {
    "execution": {
     "iopub.execute_input": "2023-12-30T04:56:51.065308Z",
     "iopub.status.busy": "2023-12-30T04:56:51.065146Z",
     "iopub.status.idle": "2023-12-30T04:56:51.075025Z",
     "shell.execute_reply": "2023-12-30T04:56:51.074198Z",
     "shell.execute_reply.started": "2023-12-30T04:56:51.065295Z"
    },
    "papermill": {
     "duration": 0.037632,
     "end_time": "2023-11-22T05:06:55.110549",
     "exception": false,
     "start_time": "2023-11-22T05:06:55.072917",
     "status": "completed"
    },
    "tags": []
   },
   "outputs": [
    {
     "data": {
      "text/plain": [
       "((1976, 387), (495, 387))"
      ]
     },
     "execution_count": 60,
     "metadata": {},
     "output_type": "execute_result"
    }
   ],
   "source": [
    "df_train_all.shape, df_test_all.shape"
   ]
  },
  {
   "cell_type": "code",
   "execution_count": 61,
   "id": "fa9b16cd",
   "metadata": {
    "execution": {
     "iopub.execute_input": "2023-12-30T04:56:51.076340Z",
     "iopub.status.busy": "2023-12-30T04:56:51.075888Z",
     "iopub.status.idle": "2023-12-30T04:56:51.080737Z",
     "shell.execute_reply": "2023-12-30T04:56:51.080328Z",
     "shell.execute_reply.started": "2023-12-30T04:56:51.076309Z"
    },
    "papermill": {
     "duration": 0.035883,
     "end_time": "2023-11-22T05:06:55.174906",
     "exception": false,
     "start_time": "2023-11-22T05:06:55.139023",
     "status": "completed"
    },
    "tags": []
   },
   "outputs": [],
   "source": [
    "train_feats = pd.DataFrame()\n",
    "test_feats = pd.DataFrame()"
   ]
  },
  {
   "cell_type": "code",
   "execution_count": 62,
   "id": "6fbe6dac",
   "metadata": {
    "execution": {
     "iopub.execute_input": "2023-12-30T04:56:51.081468Z",
     "iopub.status.busy": "2023-12-30T04:56:51.081294Z",
     "iopub.status.idle": "2023-12-30T04:56:51.107015Z",
     "shell.execute_reply": "2023-12-30T04:56:51.106534Z",
     "shell.execute_reply.started": "2023-12-30T04:56:51.081452Z"
    },
    "papermill": {
     "duration": 0.068748,
     "end_time": "2023-11-22T05:06:55.272339",
     "exception": false,
     "start_time": "2023-11-22T05:06:55.203591",
     "status": "completed"
    },
    "tags": []
   },
   "outputs": [],
   "source": [
    "train_feats = new_train_feats.merge(other_train_feats, on=\"id\")\n",
    "test_feats = new_test_feats.merge(other_test_feats, on=\"id\")"
   ]
  },
  {
   "cell_type": "code",
   "execution_count": null,
   "id": "223801a9",
   "metadata": {
    "papermill": {
     "duration": 0.028237,
     "end_time": "2023-11-22T05:06:55.329322",
     "exception": false,
     "start_time": "2023-11-22T05:06:55.301085",
     "status": "completed"
    },
    "tags": []
   },
   "outputs": [],
   "source": []
  },
  {
   "cell_type": "code",
   "execution_count": 63,
   "id": "dd34fce2",
   "metadata": {
    "execution": {
     "iopub.execute_input": "2023-12-30T04:56:51.107994Z",
     "iopub.status.busy": "2023-12-30T04:56:51.107791Z",
     "iopub.status.idle": "2023-12-30T04:56:55.188688Z",
     "shell.execute_reply": "2023-12-30T04:56:55.188128Z",
     "shell.execute_reply.started": "2023-12-30T04:56:51.107979Z"
    },
    "papermill": {
     "duration": 9.426252,
     "end_time": "2023-11-22T05:07:04.784181",
     "exception": false,
     "start_time": "2023-11-22T05:06:55.357929",
     "status": "completed"
    },
    "tags": []
   },
   "outputs": [],
   "source": [
    "data = []\n",
    "\n",
    "for logs in [traindf, testdf]:\n",
    "    logs[\"up_time_lagged\"] = (\n",
    "        logs.groupby(\"id\")[\"up_time\"].shift(1).fillna(logs[\"down_time\"])\n",
    "    )\n",
    "    logs[\"time_diff\"] = abs(logs[\"down_time\"] - logs[\"up_time_lagged\"]) / 1000\n",
    "\n",
    "    group = logs.groupby(\"id\")[\"time_diff\"]\n",
    "    largest_lantency = group.max()\n",
    "    smallest_lantency = group.min()\n",
    "    median_lantency = group.median()\n",
    "    initial_pause = logs.groupby(\"id\")[\"down_time\"].first() / 1000\n",
    "    pauses_half_sec = group.apply(lambda x: ((x > 0.5) & (x < 1)).sum())\n",
    "    pauses_1_sec = group.apply(lambda x: ((x > 1) & (x < 1.5)).sum())\n",
    "    pauses_1_half_sec = group.apply(lambda x: ((x > 1.5) & (x < 2)).sum())\n",
    "    pauses_2_sec = group.apply(lambda x: ((x > 2) & (x < 3)).sum())\n",
    "    pauses_3_sec = group.apply(lambda x: (x > 3).sum())\n",
    "\n",
    "    data.append(\n",
    "        pd.DataFrame(\n",
    "            {\n",
    "                \"id\": logs[\"id\"].unique(),\n",
    "                \"largest_lantency\": largest_lantency,\n",
    "                \"smallest_lantency\": smallest_lantency,\n",
    "                \"median_lantency\": median_lantency,\n",
    "                \"initial_pause\": initial_pause,\n",
    "                \"pauses_half_sec\": pauses_half_sec,\n",
    "                \"pauses_1_sec\": pauses_1_sec,\n",
    "                \"pauses_1_half_sec\": pauses_1_half_sec,\n",
    "                \"pauses_2_sec\": pauses_2_sec,\n",
    "                \"pauses_3_sec\": pauses_3_sec,\n",
    "            }\n",
    "        ).reset_index(drop=True)\n",
    "    )\n",
    "\n",
    "train_eD592674, test_eD592674 = data"
   ]
  },
  {
   "cell_type": "code",
   "execution_count": null,
   "id": "06fc8fed-a9d9-4b1c-becc-f83a60aaa36e",
   "metadata": {},
   "outputs": [],
   "source": []
  },
  {
   "cell_type": "code",
   "execution_count": null,
   "id": "f72fcf60-d86b-4fa7-9cef-143b71a3c2bc",
   "metadata": {},
   "outputs": [],
   "source": []
  },
  {
   "cell_type": "code",
   "execution_count": 64,
   "id": "2107da84-fe85-4a23-8325-87de4303100f",
   "metadata": {
    "execution": {
     "iopub.execute_input": "2023-12-30T04:56:55.189514Z",
     "iopub.status.busy": "2023-12-30T04:56:55.189265Z",
     "iopub.status.idle": "2023-12-30T04:56:55.198809Z",
     "shell.execute_reply": "2023-12-30T04:56:55.198315Z",
     "shell.execute_reply.started": "2023-12-30T04:56:55.189499Z"
    }
   },
   "outputs": [],
   "source": [
    "train_feats = train_feats.merge(train_eD592674, on=\"id\", how=\"left\")\n",
    "test_feats = test_feats.merge(test_eD592674, on=\"id\", how=\"left\")"
   ]
  },
  {
   "cell_type": "code",
   "execution_count": 65,
   "id": "912363df-1a8d-4573-8e31-8b0fcf6915f0",
   "metadata": {
    "execution": {
     "iopub.execute_input": "2023-12-30T04:56:55.199636Z",
     "iopub.status.busy": "2023-12-30T04:56:55.199441Z",
     "iopub.status.idle": "2023-12-30T04:56:55.215238Z",
     "shell.execute_reply": "2023-12-30T04:56:55.214283Z",
     "shell.execute_reply.started": "2023-12-30T04:56:55.199621Z"
    }
   },
   "outputs": [],
   "source": [
    "train_feats = train_feats.merge(train_scores, on=\"id\", how=\"left\")"
   ]
  },
  {
   "cell_type": "code",
   "execution_count": null,
   "id": "219770b0-1fba-429d-bf2c-d3e1a9830c65",
   "metadata": {},
   "outputs": [],
   "source": []
  },
  {
   "cell_type": "code",
   "execution_count": null,
   "id": "e0512c90-8aa3-4369-b19b-f92e1d641d78",
   "metadata": {},
   "outputs": [],
   "source": []
  },
  {
   "cell_type": "markdown",
   "id": "54a5d146-e904-4a46-9dec-dd4fcc19f6a2",
   "metadata": {},
   "source": [
    "## Polars Features ###"
   ]
  },
  {
   "cell_type": "code",
   "execution_count": 66,
   "id": "8d16d724-1272-4e30-883e-8b997e10d547",
   "metadata": {
    "execution": {
     "iopub.execute_input": "2023-12-30T04:56:55.216758Z",
     "iopub.status.busy": "2023-12-30T04:56:55.216427Z",
     "iopub.status.idle": "2023-12-30T04:56:55.221332Z",
     "shell.execute_reply": "2023-12-30T04:56:55.220896Z",
     "shell.execute_reply.started": "2023-12-30T04:56:55.216733Z"
    }
   },
   "outputs": [],
   "source": [
    "activities = [\"Input\", \"Remove/Cut\", \"Nonproduction\", \"Replace\", \"Paste\"]\n",
    "events = [\n",
    "    \"q\",\n",
    "    \"Space\",\n",
    "    \"Backspace\",\n",
    "    \"Shift\",\n",
    "    \"ArrowRight\",\n",
    "    \"Leftclick\",\n",
    "    \"ArrowLeft\",\n",
    "    \".\",\n",
    "    \",\",\n",
    "    \"ArrowDown\",\n",
    "    \"ArrowUp\",\n",
    "    \"Enter\",\n",
    "    \"CapsLock\",\n",
    "    \"'\",\n",
    "    \"Delete\",\n",
    "    \"Unidentified\",\n",
    "]\n",
    "text_changes = [\"q\", \" \", \".\", \",\", \"\\n\", \"'\", '\"', \"-\", \"?\", \";\", \"=\", \"/\", \"\\\\\", \":\"]\n",
    "\n",
    "\n",
    "def count_by_values(df, colname, values):\n",
    "    fts = df.select(pl.col(\"id\").unique(maintain_order=True))\n",
    "    for i, value in enumerate(values):\n",
    "        tmp_df = df.group_by(\"id\").agg(\n",
    "            pl.col(colname).is_in([value]).sum().alias(f\"{colname}_{i}_cnt\")\n",
    "        )\n",
    "        fts = fts.join(tmp_df, on=\"id\", how=\"left\")\n",
    "    return fts"
   ]
  },
  {
   "cell_type": "code",
   "execution_count": 67,
   "id": "730c827f-9327-4834-b337-4922262828f4",
   "metadata": {
    "execution": {
     "iopub.execute_input": "2023-12-30T04:56:55.222331Z",
     "iopub.status.busy": "2023-12-30T04:56:55.221960Z",
     "iopub.status.idle": "2023-12-30T04:56:55.230981Z",
     "shell.execute_reply": "2023-12-30T04:56:55.230232Z",
     "shell.execute_reply.started": "2023-12-30T04:56:55.222313Z"
    }
   },
   "outputs": [],
   "source": [
    "def dev_feats(df):\n",
    "    print(\"< Count by values features >\")\n",
    "\n",
    "    feats = count_by_values(df, \"activity\", activities)\n",
    "    feats = feats.join(\n",
    "        count_by_values(df, \"text_change\", text_changes), on=\"id\", how=\"left\"\n",
    "    )\n",
    "    feats = feats.join(count_by_values(df, \"down_event\", events), on=\"id\", how=\"left\")\n",
    "    feats = feats.join(count_by_values(df, \"up_event\", events), on=\"id\", how=\"left\")\n",
    "\n",
    "    print(\"< P-bursts features >\")\n",
    "\n",
    "    temp = df.with_columns(pl.col(\"up_time\").shift().over(\"id\").alias(\"up_time_lagged\"))\n",
    "    temp = temp.with_columns(\n",
    "        (abs(pl.col(\"down_time\") - pl.col(\"up_time_lagged\")) / 1000)\n",
    "        .fill_null(0)\n",
    "        .alias(\"time_diff\")\n",
    "    )\n",
    "    temp = temp.filter(pl.col(\"activity\").is_in([\"Input\", \"Remove/Cut\"]))\n",
    "    temp = temp.with_columns(pl.col(\"time_diff\") < 2)\n",
    "    temp = temp.with_columns(\n",
    "        pl.when(pl.col(\"time_diff\") & pl.col(\"time_diff\").is_last())\n",
    "        .then(pl.count())\n",
    "        .over(pl.col(\"time_diff\").rle_id())\n",
    "        .alias(\"P-bursts\")\n",
    "    )\n",
    "    temp = temp.drop_nulls()\n",
    "    temp = temp.group_by(\"id\").agg(\n",
    "        pl.mean(\"P-bursts\").suffix(\"_mean\"),\n",
    "        pl.std(\"P-bursts\").suffix(\"_std\"),\n",
    "        pl.count(\"P-bursts\").suffix(\"_count\"),\n",
    "        pl.median(\"P-bursts\").suffix(\"_median\"),\n",
    "        pl.max(\"P-bursts\").suffix(\"_max\"),\n",
    "        pl.first(\"P-bursts\").suffix(\"_first\"),\n",
    "        pl.last(\"P-bursts\").suffix(\"_last\"),\n",
    "    )\n",
    "    feats = feats.join(temp, on=\"id\", how=\"left\")\n",
    "\n",
    "    print(\"< R-bursts features >\")\n",
    "\n",
    "    temp = df.filter(pl.col(\"activity\").is_in([\"Input\", \"Remove/Cut\"]))\n",
    "    temp = temp.with_columns(pl.col(\"activity\").is_in([\"Remove/Cut\"]))\n",
    "    temp = temp.with_columns(\n",
    "        pl.when(pl.col(\"activity\") & pl.col(\"activity\").is_last())\n",
    "        .then(pl.count())\n",
    "        .over(pl.col(\"activity\").rle_id())\n",
    "        .alias(\"R-bursts\")\n",
    "    )\n",
    "    temp = temp.drop_nulls()\n",
    "    temp = temp.group_by(\"id\").agg(\n",
    "        pl.mean(\"R-bursts\").suffix(\"_mean\"),\n",
    "        pl.std(\"R-bursts\").suffix(\"_std\"),\n",
    "        pl.median(\"R-bursts\").suffix(\"_median\"),\n",
    "        pl.max(\"R-bursts\").suffix(\"_max\"),\n",
    "        pl.first(\"R-bursts\").suffix(\"_first\"),\n",
    "        pl.last(\"R-bursts\").suffix(\"_last\"),\n",
    "    )\n",
    "    feats = feats.join(temp, on=\"id\", how=\"left\")\n",
    "\n",
    "    return feats"
   ]
  },
  {
   "cell_type": "code",
   "execution_count": null,
   "id": "27d6b44a-06c9-4624-ae20-fe2c81de0b18",
   "metadata": {},
   "outputs": [],
   "source": []
  },
  {
   "cell_type": "code",
   "execution_count": 68,
   "id": "4463dd94-ca24-4cb6-bbd8-b91b714a82f7",
   "metadata": {
    "execution": {
     "iopub.execute_input": "2023-12-30T04:56:55.232090Z",
     "iopub.status.busy": "2023-12-30T04:56:55.231865Z",
     "iopub.status.idle": "2023-12-30T04:57:04.407466Z",
     "shell.execute_reply": "2023-12-30T04:57:04.406863Z",
     "shell.execute_reply.started": "2023-12-30T04:56:55.232067Z"
    }
   },
   "outputs": [
    {
     "name": "stdout",
     "output_type": "stream",
     "text": [
      "< Count by values features >\n",
      "< P-bursts features >\n",
      "< R-bursts features >\n"
     ]
    }
   ],
   "source": [
    "train_logs_pl = pl.from_pandas(traindf)\n",
    "train_feats_pl = dev_feats(train_logs_pl)\n",
    "train_feats_pl = train_feats_pl.to_pandas()"
   ]
  },
  {
   "cell_type": "code",
   "execution_count": 69,
   "id": "051cf80d-ff1f-47ca-a2e1-a9e7acc88cfe",
   "metadata": {
    "execution": {
     "iopub.execute_input": "2023-12-30T04:57:04.408473Z",
     "iopub.status.busy": "2023-12-30T04:57:04.408087Z",
     "iopub.status.idle": "2023-12-30T04:57:06.736562Z",
     "shell.execute_reply": "2023-12-30T04:57:06.736017Z",
     "shell.execute_reply.started": "2023-12-30T04:57:04.408458Z"
    }
   },
   "outputs": [
    {
     "name": "stdout",
     "output_type": "stream",
     "text": [
      "< Count by values features >\n",
      "< P-bursts features >\n",
      "< R-bursts features >\n"
     ]
    }
   ],
   "source": [
    "test_logs_pl = pl.from_pandas(testdf)\n",
    "test_feats_pl = dev_feats(test_logs_pl)\n",
    "test_feats_pl = test_feats_pl.to_pandas()"
   ]
  },
  {
   "cell_type": "code",
   "execution_count": 70,
   "id": "e36d02db-2e23-4dde-964f-a6f551f5df69",
   "metadata": {
    "execution": {
     "iopub.execute_input": "2023-12-30T04:57:06.737272Z",
     "iopub.status.busy": "2023-12-30T04:57:06.737095Z",
     "iopub.status.idle": "2023-12-30T04:57:06.740435Z",
     "shell.execute_reply": "2023-12-30T04:57:06.740052Z",
     "shell.execute_reply.started": "2023-12-30T04:57:06.737258Z"
    }
   },
   "outputs": [
    {
     "data": {
      "text/plain": [
       "((1976, 65), (495, 65))"
      ]
     },
     "execution_count": 70,
     "metadata": {},
     "output_type": "execute_result"
    }
   ],
   "source": [
    "train_feats_pl.shape, test_feats_pl.shape"
   ]
  },
  {
   "cell_type": "code",
   "execution_count": null,
   "id": "d20f2c41-0d67-4d23-9d62-bea96a62c7a1",
   "metadata": {},
   "outputs": [],
   "source": []
  },
  {
   "cell_type": "code",
   "execution_count": 71,
   "id": "0870d8c0-b372-487d-bf4d-3976f4e94860",
   "metadata": {
    "execution": {
     "iopub.execute_input": "2023-12-30T04:57:06.741193Z",
     "iopub.status.busy": "2023-12-30T04:57:06.741027Z",
     "iopub.status.idle": "2023-12-30T04:57:06.761883Z",
     "shell.execute_reply": "2023-12-30T04:57:06.761390Z",
     "shell.execute_reply.started": "2023-12-30T04:57:06.741179Z"
    }
   },
   "outputs": [],
   "source": [
    "train_feats = train_feats.merge(train_feats_pl, on=\"id\", how=\"left\")\n",
    "test_feats = test_feats.merge(test_feats_pl, on=\"id\", how=\"left\")"
   ]
  },
  {
   "cell_type": "code",
   "execution_count": 72,
   "id": "fc097107-0289-4965-8585-b48b3983a841",
   "metadata": {
    "execution": {
     "iopub.execute_input": "2023-12-30T04:57:06.762962Z",
     "iopub.status.busy": "2023-12-30T04:57:06.762669Z",
     "iopub.status.idle": "2023-12-30T04:57:06.776818Z",
     "shell.execute_reply": "2023-12-30T04:57:06.776237Z",
     "shell.execute_reply.started": "2023-12-30T04:57:06.762902Z"
    }
   },
   "outputs": [
    {
     "data": {
      "text/plain": [
       "['paragraph_len_std',\n",
       " 'paragraph_len_sem',\n",
       " 'paragraph_len_skew',\n",
       " 'paragraph_len_kurt',\n",
       " 'paragraph_word_count_std',\n",
       " 'paragraph_word_count_sem',\n",
       " 'paragraph_word_count_skew',\n",
       " 'paragraph_word_count_kurt',\n",
       " 'sent_len_skew',\n",
       " 'sent_len_kurt',\n",
       " 'sent_word_count_skew',\n",
       " 'sent_word_count_kurt']"
      ]
     },
     "execution_count": 72,
     "metadata": {},
     "output_type": "execute_result"
    }
   ],
   "source": [
    "train_feats.columns[train_feats.isnull().any()].tolist()"
   ]
  },
  {
   "cell_type": "code",
   "execution_count": null,
   "id": "7c1cc9b6-c471-4e0f-8e58-ca0199627840",
   "metadata": {},
   "outputs": [],
   "source": []
  },
  {
   "cell_type": "code",
   "execution_count": null,
   "id": "56396014-94a4-4bc8-8792-5e4d6bb2d767",
   "metadata": {},
   "outputs": [],
   "source": []
  },
  {
   "cell_type": "code",
   "execution_count": null,
   "id": "238213f4-f75d-4218-a4a6-437d4d4d683c",
   "metadata": {},
   "outputs": [],
   "source": []
  },
  {
   "cell_type": "code",
   "execution_count": 73,
   "id": "bd8a9fb4-af22-4205-a020-674bad2f6275",
   "metadata": {
    "execution": {
     "iopub.execute_input": "2023-12-30T04:57:06.777780Z",
     "iopub.status.busy": "2023-12-30T04:57:06.777572Z",
     "iopub.status.idle": "2023-12-30T04:57:06.786692Z",
     "shell.execute_reply": "2023-12-30T04:57:06.786225Z",
     "shell.execute_reply.started": "2023-12-30T04:57:06.777756Z"
    }
   },
   "outputs": [],
   "source": [
    "if cnfg.is_local:\n",
    "    test_feats = test_feats.merge(test_scores, on=\"id\", how=\"left\")"
   ]
  },
  {
   "cell_type": "code",
   "execution_count": 74,
   "id": "e110df17",
   "metadata": {
    "execution": {
     "iopub.execute_input": "2023-12-30T04:57:06.787778Z",
     "iopub.status.busy": "2023-12-30T04:57:06.787481Z",
     "iopub.status.idle": "2023-12-30T04:57:06.937656Z",
     "shell.execute_reply": "2023-12-30T04:57:06.935900Z",
     "shell.execute_reply.started": "2023-12-30T04:57:06.787763Z"
    },
    "papermill": {
     "duration": 0.321822,
     "end_time": "2023-11-22T05:07:05.135373",
     "exception": false,
     "start_time": "2023-11-22T05:07:04.813551",
     "status": "completed"
    },
    "tags": []
   },
   "outputs": [],
   "source": [
    "def my_max(lst):\n",
    "    try:\n",
    "        x = max(lst)\n",
    "    except:\n",
    "        x = 0\n",
    "    return x\n",
    "\n",
    "\n",
    "def my_min(lst):\n",
    "    try:\n",
    "        x = min(lst)\n",
    "    except:\n",
    "        x = 0\n",
    "    return x\n",
    "\n",
    "\n",
    "def my_mean(lst):\n",
    "    try:\n",
    "        x = np.mean(lst)\n",
    "    except:\n",
    "        x = 0\n",
    "    return x\n",
    "\n",
    "\n",
    "def my_std(lst):\n",
    "    try:\n",
    "        x = st.stdev(lst)\n",
    "    except:\n",
    "        x = 0\n",
    "    return x\n",
    "\n",
    "\n",
    "def my_skew(lst):\n",
    "    try:\n",
    "        x = skew(lst)\n",
    "    except:\n",
    "        x = 0\n",
    "    return x\n",
    "\n",
    "\n",
    "def my_kurtosis(lst):\n",
    "    try:\n",
    "        x = kurtosis(lst, nan_policy=\"omit\")\n",
    "    except:\n",
    "        x = 0\n",
    "    return x\n",
    "\n",
    "\n",
    "def my_median_grouped(lst):\n",
    "    try:\n",
    "        x = st.median_grouped(lst)\n",
    "    except:\n",
    "        x = 0\n",
    "    return x\n",
    "\n",
    "\n",
    "def my_sum(lst):\n",
    "    try:\n",
    "        x = sum(lst)\n",
    "    except:\n",
    "        x = 0\n",
    "    return x\n",
    "\n",
    "\n",
    "# def my_kurtosis_series(x):\n",
    "#     k = my_kurtosis(x.values.tolist())\n",
    "#     return k\n",
    "\n",
    "\n",
    "class MyPreprocessor:\n",
    "    def __init__(self, df):\n",
    "        self.activities = [\"Input\", \"Remove/Cut\", \"Nonproduction\", \"Replace\", \"Paste\"]\n",
    "        self.activities_name_mapping = {\n",
    "            \"Input\": \"input\",\n",
    "            \"Remove/Cut\": \"remove\",\n",
    "            \"Nonproduction\": \"non_production\",\n",
    "            \"Replace\": \"replace\",\n",
    "            \"Paste\": \"paste\",\n",
    "        }\n",
    "        self.text_changes = text_changes = [\n",
    "            \"q\",\n",
    "            \" \",\n",
    "            # \"NoChange\",\n",
    "            \".\",\n",
    "            \",\",\n",
    "            \"\\n\",\n",
    "            \"'\",\n",
    "            '\"',\n",
    "            \"-\",\n",
    "            \"?\",\n",
    "            \";\",\n",
    "            \"=\",\n",
    "            \"/\",\n",
    "            \"\\\\\",\n",
    "            \":\",\n",
    "        ]\n",
    "        self.special_character_name_mapping = special_character_name_mapping = {\n",
    "            \"'\": \"qoute\",\n",
    "            '\"': \"double_qoute\",\n",
    "            \".\": \"full_stop\",\n",
    "            \",\": \"comma\",\n",
    "            \"-\": \"hyphen\",\n",
    "            \"?\": \"question_mark\",\n",
    "            \";\": \"semi_colon\",\n",
    "            \"=\": \"equal_to\",\n",
    "            \"/\": \"forward_slash\",\n",
    "            \"\\\\\": \"back_slash\",\n",
    "            \":\": \"colon\",\n",
    "            \"(\": \"bracket_open\",\n",
    "            \")\": \"bracket_close\",\n",
    "            \"!\": \"exclamation_mark\",\n",
    "            \"[\": \"square_bracket_open\",\n",
    "            \"$\": \"dollar\",\n",
    "            \">\": \"greater_than_sign\",\n",
    "            \"]\": \"square_bracket_close\",\n",
    "            \"*\": \"star\",\n",
    "            \"%\": \"percentage\",\n",
    "            \"&\": \"ampresand\",\n",
    "            \"<\": \"less_than_sign\",\n",
    "            \"+\": \"plus_sign\",\n",
    "            \"_\": \"under_score\",\n",
    "            \"{\": \"curly_bracket_open\",\n",
    "            \"`\": \"tilted_qoute\",\n",
    "            \"#\": \"hashtag\",\n",
    "            \" \": \"blank_space\",\n",
    "            \"\\n\": \"new_line_char\",\n",
    "        }\n",
    "        self.df = df.sort_values([\"id\", \"event_id\"]).reset_index(drop=True)\n",
    "\n",
    "    def remove_lower_categorical_values(self):\n",
    "        ## Clean activity\n",
    "        self.df[\"activity\"] = self.df.activity.apply(\n",
    "            lambda x: x if x in self.activities else \"__OUTLIER__\"\n",
    "        )\n",
    "\n",
    "    def clean_up_time(self):\n",
    "        \"\"\"\n",
    "        For maximum number of ids uptime is not increasing. In each id for one or two events, up_time is incorrectly recorded\n",
    "        Procedure: Calculate the difference with next if diff is negative replace up_time with the up_time of next.\n",
    "        \"\"\"\n",
    "        print(f\"Before uptime cleaning, data shape: {self.df.shape}\")\n",
    "        tmp_df = self.df[[\"id\", \"event_id\", \"up_time\"]]\n",
    "        tmp_df[\"up_time_next\"] = tmp_df.groupby(\"id\").up_time.shift(-1)\n",
    "        tmp_df[\"up_time_diff\"] = tmp_df[\"up_time_next\"] - tmp_df.up_time\n",
    "\n",
    "        tmp_df.loc[tmp_df[tmp_df.up_time_diff < 0].index, \"up_time\"] = tmp_df[\n",
    "            tmp_df.up_time_diff < 0\n",
    "        ].up_time_next\n",
    "\n",
    "        # Do it once more\n",
    "        tmp_df = tmp_df[[\"id\", \"event_id\", \"up_time\"]]\n",
    "        tmp_df[\"up_time_next\"] = tmp_df.groupby(\"id\").up_time.shift(-1)\n",
    "        tmp_df[\"up_time_diff\"] = tmp_df[\"up_time_next\"] - tmp_df.up_time\n",
    "        tmp_df.loc[tmp_df[tmp_df.up_time_diff < 0].index, \"up_time\"] = tmp_df[\n",
    "            tmp_df.up_time_diff < 0\n",
    "        ].up_time_next\n",
    "\n",
    "        self.df[\"up_time\"] = tmp_df[\"up_time\"]\n",
    "        print(f\"After uptime cleaning, data shape: {self.df.shape}\")\n",
    "\n",
    "    def add_latency_columns(self):\n",
    "        # HL -> Hold latency, up_time-down_time\n",
    "        # IL-> Interkey latency -> down_time(event2) - up_time(event1)\n",
    "        # PL -> Press latency -> down_time(event2)- down_time(event1) or HL+IL\n",
    "        # RL -> Release Latency -> up_time(event2)- up_time(event1)\n",
    "        # self.df[\"HL\"] = self.df[\"up_time\"] - self.df[\"down_time\"] #same as action_time\n",
    "        self.df[\"IL\"] = self.df[\"down_time\"] - self.df.groupby(\"id\").up_time.shift(\n",
    "            1\n",
    "        ).fillna(self.df.down_time)\n",
    "        # self.df[\"IL\"] = self.df[\"IL\"].fillna(0)\n",
    "        self.df[\"PL\"] = self.df[\"down_time\"] - self.df.groupby(\"id\").down_time.shift(\n",
    "            1\n",
    "        ).fillna(self.df.down_time)\n",
    "        # self.df[\"PL\"] = self.df[\"PL\"].fillna(0)\n",
    "        self.df[\"RL\"] = self.df[\"up_time\"] - self.df.groupby(\"id\").up_time.shift(\n",
    "            1\n",
    "        ).fillna(self.df.up_time)\n",
    "        # self.df[\"RL\"] = self.df[\"RL\"].fillna(0)\n",
    "\n",
    "        # self.df = self.df[~self.df.isna().any(axis=1)].reset_index(drop=True)\n",
    "\n",
    "    def clean_data(self):\n",
    "        self.remove_lower_categorical_values()\n",
    "        self.clean_up_time()\n",
    "\n",
    "        self.add_latency_columns()\n",
    "\n",
    "    def change_time_columns_to_secs(self):\n",
    "        time_columns = [\"down_time\", \"up_time\", \"action_time\", \"IL\", \"PL\", \"RL\"]\n",
    "        for clm in time_columns:\n",
    "            self.df[clm] = self.df[clm] / cnfg.time_divider\n",
    "\n",
    "    def activity_features(self, tmp_df):\n",
    "        # Activity Counts to total activity count ratio\n",
    "        # Number of different activities\n",
    "        features_to_drop = []\n",
    "        ret = list()\n",
    "        for i, li in tqdm(enumerate(tmp_df[\"activity_list\"].values)):\n",
    "            items = list(Counter(li).items())\n",
    "            di = dict()\n",
    "            for k in self.activities_name_mapping.keys():\n",
    "                di[self.activities_name_mapping[k]] = 0\n",
    "            for item in items:\n",
    "                k, v = item[0], item[1]\n",
    "                if k in self.activities_name_mapping.keys():\n",
    "                    # if self.activities_name_mapping[k] in di:\n",
    "                    di[self.activities_name_mapping[k]] = v\n",
    "            ret.append(di)\n",
    "        ret = pd.DataFrame(ret)\n",
    "        cols = [f\"activity_{act_name}_count\" for act_name in ret.columns]\n",
    "        ret.columns = cols\n",
    "\n",
    "        # If using ratios drop count columns\n",
    "        features_to_drop.extend(cols)\n",
    "\n",
    "        tmp_df = pd.concat([tmp_df, ret], axis=1)\n",
    "        ###############################################################################\n",
    "        # Ratios to total activity\n",
    "        for act_clm in self.activities_name_mapping.values():\n",
    "            tmp_df[f\"activity_{act_clm}_ratio_total\"] = (\n",
    "                tmp_df[f\"activity_{act_clm}_count\"] / tmp_df[\"total_num_activites\"]\n",
    "            )\n",
    "        ###############################################################################\n",
    "        # Ratio to \"Input\" Activity\n",
    "        for act_clm in self.activities_name_mapping.values():\n",
    "            if act_clm != \"input\":\n",
    "                tmp_df[f\"activity_{act_clm}_ratio_input\"] = (\n",
    "                    tmp_df[f\"activity_{act_clm}_count\"] / tmp_df[\"activity_input_count\"]\n",
    "                )\n",
    "        ###############################################################################\n",
    "        # Ratio to \"Nonproduction\"\n",
    "        for act_clm in self.activities_name_mapping.values():\n",
    "            if act_clm != \"non_production\":\n",
    "                tmp_df[f\"activity_{act_clm}_ratio_non_production\"] = (\n",
    "                    tmp_df[f\"activity_{act_clm}_count\"]\n",
    "                    / tmp_df[\"activity_non_production_count\"]\n",
    "                )\n",
    "        ###############################################################################\n",
    "        # Ratio of first occurence of each activity to total_time taken\n",
    "        for act_clm in self.activities_name_mapping.keys():\n",
    "            first_occr_df = self.df[self.df.activity == act_clm].drop_duplicates(\n",
    "                subset=[\"id\", \"activity\"], keep=\"first\"\n",
    "            )\n",
    "            first_occr_df[\n",
    "                f\"{self.activities_name_mapping[act_clm]}_first_time\"\n",
    "            ] = first_occr_df[\"down_time\"]\n",
    "            first_occr_df = first_occr_df[\n",
    "                [\"id\", f\"{self.activities_name_mapping[act_clm]}_first_time\"]\n",
    "            ]\n",
    "            tmp_df = tmp_df.merge(first_occr_df, on=\"id\", how=\"left\")\n",
    "            tmp_df[f\"{self.activities_name_mapping[act_clm]}_first_time\"] = (\n",
    "                tmp_df[f\"{self.activities_name_mapping[act_clm]}_first_time\"]\n",
    "                - tmp_df[\"start_time\"]\n",
    "            )\n",
    "            tmp_df[\n",
    "                f\"{self.activities_name_mapping[act_clm]}_first_time_total_ratio\"\n",
    "            ] = (\n",
    "                tmp_df[f\"{self.activities_name_mapping[act_clm]}_first_time\"]\n",
    "                / tmp_df[\"total_time_taken\"]\n",
    "            )\n",
    "\n",
    "            tmp_df[\n",
    "                f\"{self.activities_name_mapping[act_clm]}_first_time_total_ratio\"\n",
    "            ] = tmp_df[\n",
    "                f\"{self.activities_name_mapping[act_clm]}_first_time_total_ratio\"\n",
    "            ].fillna(\n",
    "                -1\n",
    "            )  # RMVD\n",
    "\n",
    "            features_to_drop.append(\n",
    "                f\"{self.activities_name_mapping[act_clm]}_first_time\"\n",
    "            )\n",
    "        ###############################################################################\n",
    "        # Ratio of last occurence of each activity to total_time taken\n",
    "        for act_clm in self.activities_name_mapping.keys():\n",
    "            last_occr_df = self.df[self.df.activity == act_clm].drop_duplicates(\n",
    "                subset=[\"id\", \"activity\"], keep=\"last\"\n",
    "            )\n",
    "            last_occr_df[\n",
    "                f\"{self.activities_name_mapping[act_clm]}_last_time\"\n",
    "            ] = last_occr_df[\"down_time\"]\n",
    "            last_occr_df = last_occr_df[\n",
    "                [\"id\", f\"{self.activities_name_mapping[act_clm]}_last_time\"]\n",
    "            ]\n",
    "            tmp_df = tmp_df.merge(last_occr_df, on=\"id\", how=\"left\")\n",
    "            tmp_df[f\"{self.activities_name_mapping[act_clm]}_last_time\"] = (\n",
    "                tmp_df[f\"{self.activities_name_mapping[act_clm]}_last_time\"]\n",
    "                - tmp_df[\"start_time\"]\n",
    "            )\n",
    "            tmp_df[f\"{self.activities_name_mapping[act_clm]}_last_time_total_ratio\"] = (\n",
    "                tmp_df[f\"{self.activities_name_mapping[act_clm]}_last_time\"]\n",
    "                / tmp_df[\"total_time_taken\"]\n",
    "            )\n",
    "\n",
    "            tmp_df[\n",
    "                f\"{self.activities_name_mapping[act_clm]}_last_time_total_ratio\"\n",
    "            ] = tmp_df[\n",
    "                f\"{self.activities_name_mapping[act_clm]}_last_time_total_ratio\"\n",
    "            ].fillna(\n",
    "                -1\n",
    "            )  # RMVD\n",
    "\n",
    "            features_to_drop.append(\n",
    "                f\"{self.activities_name_mapping[act_clm]}_last_time\"\n",
    "            )\n",
    "\n",
    "        ###############################################################################\n",
    "        # min max mean std and other stats values of time between each type of activity\n",
    "        methods_to_apply = [\n",
    "            my_min,\n",
    "            my_max,\n",
    "            my_mean,\n",
    "            my_std,\n",
    "            my_skew,\n",
    "            # my_kurtosis,\n",
    "            pd.DataFrame.kurt,\n",
    "            my_median_grouped,\n",
    "        ]\n",
    "\n",
    "        for act_clm in [\"Input\", \"Remove/Cut\", \"Nonproduction\"]:\n",
    "            particular_act_df = self.df[self.df.activity == act_clm].reset_index(\n",
    "                drop=True\n",
    "            )\n",
    "            act_clm = self.activities_name_mapping[act_clm]\n",
    "            particular_act_df[f\"{act_clm}_prev_event_time\"] = particular_act_df.groupby(\n",
    "                \"id\"\n",
    "            ).down_time.shift(1)\n",
    "            particular_act_df[f\"{act_clm}_inter_act_latency\"] = (\n",
    "                particular_act_df[\"down_time\"]\n",
    "                - particular_act_df[f\"{act_clm}_prev_event_time\"]\n",
    "            )\n",
    "\n",
    "            particular_act_df[f\"{act_clm}_inter_act_latency\"] = particular_act_df[\n",
    "                f\"{act_clm}_inter_act_latency\"\n",
    "            ].fillna(0)\n",
    "\n",
    "            # particular_act_df = particular_act_df[\n",
    "            #     ~particular_act_df.isna().any(axis=1)\n",
    "            # ].reset_index(drop=True)\n",
    "\n",
    "            colname = f\"{act_clm}_inter_act_latency\"\n",
    "            for method in methods_to_apply:\n",
    "                if isinstance(method, str):\n",
    "                    method_name = method\n",
    "                else:\n",
    "                    method_name = method.__name__\n",
    "                colname_method = f\"{act_clm}_{method_name}_inter_act_latency\"\n",
    "                tmp2_df = (\n",
    "                    particular_act_df.groupby([\"id\"])\n",
    "                    .agg({colname: method})\n",
    "                    .reset_index()\n",
    "                    .rename(columns={colname: colname_method})\n",
    "                )\n",
    "\n",
    "                tmp_df = tmp_df.merge(tmp2_df, on=\"id\", how=\"left\")\n",
    "                tmp_df[colname_method] = tmp_df[colname_method].fillna(0)  # RMVD\n",
    "\n",
    "        ###############################################################################\n",
    "        # Number of type of down_events in each of [\"Input\", \"Remove/Cut\", \"Nonproduction\"]\n",
    "        for act_clm in [\"Input\", \"Remove/Cut\", \"Nonproduction\"]:\n",
    "            particular_act_df = self.df[self.df.activity == act_clm].reset_index(\n",
    "                drop=True\n",
    "            )\n",
    "            act_clm = self.activities_name_mapping[act_clm]\n",
    "            colname = f\"num_type_down_events_in_{act_clm}\"\n",
    "            tmp2_df = (\n",
    "                particular_act_df.groupby(\"id\", as_index=False)\n",
    "                .agg({\"down_event\": \"nunique\"})\n",
    "                .rename(columns={\"down_event\": colname})\n",
    "            )\n",
    "            tmp_df = tmp_df.merge(tmp2_df, on=\"id\", how=\"left\")\n",
    "            tmp_df[colname] = tmp_df[colname].fillna(0)\n",
    "\n",
    "        ###############################################################################\n",
    "        ## Ways in which remove/cut happens -> Top ways -> ['Backspace','Delete','x','z','Rightclick'] ratios\n",
    "        remove_df = self.df[self.df.activity == \"Remove/Cut\"].reset_index(drop=True)\n",
    "        name_for_remove = self.activities_name_mapping[\"Remove/Cut\"]\n",
    "        remove_feats_df = remove_df.groupby(\"id\", as_index=False).agg(\n",
    "            total_remove_activity=(\"down_event\", lambda x: len(list(x)))\n",
    "        )\n",
    "        tmp_df = tmp_df.merge(remove_feats_df, on=\"id\", how=\"left\")\n",
    "\n",
    "        features_to_drop.append(\"total_remove_activity\")  # Remove this column\n",
    "\n",
    "        for dwn_evnt in [\"Backspace\", \"Delete\", \"x\", \"z\", \"Rightclick\"]:\n",
    "            colname = f\"{dwn_evnt}_in_{name_for_remove}_share\"\n",
    "            tmp2_df = (\n",
    "                remove_df[remove_df.down_event == dwn_evnt]\n",
    "                .groupby(\"id\", as_index=False)\n",
    "                .agg({\"down_event\": lambda x: len(list(x))})\n",
    "                .rename(columns={\"down_event\": colname})\n",
    "            )\n",
    "            tmp_df = tmp_df.merge(tmp2_df, on=\"id\", how=\"left\")\n",
    "            tmp_df[colname] = tmp_df[colname].fillna(0)\n",
    "        # Normalise\n",
    "        for dwn_evnt in [\"Backspace\", \"Delete\", \"x\", \"z\", \"Rightclick\"]:\n",
    "            colname = f\"{dwn_evnt}_in_{name_for_remove}_share\"\n",
    "            tmp_df[colname] = tmp_df[colname] / tmp_df[\"total_remove_activity\"]\n",
    "            tmp_df[colname] = tmp_df[colname].fillna(0)\n",
    "\n",
    "        ###############################################################################\n",
    "        ## Ways in which replace happens -> Top ways -> ['q','Space','.',',','z','v','Enter','Rightclick'] ratios\n",
    "        replace_df = self.df[self.df.activity == \"Replace\"].reset_index(drop=True)\n",
    "        name_for_replace = self.activities_name_mapping[\"Replace\"]\n",
    "        replace_feats_df = replace_df.groupby(\"id\", as_index=False).agg(\n",
    "            total_replace_activity=(\"down_event\", lambda x: len(list(x)))\n",
    "        )\n",
    "        tmp_df = tmp_df.merge(replace_feats_df, on=\"id\", how=\"left\")\n",
    "\n",
    "        features_to_drop.append(\"total_replace_activity\")  # Remove this column\n",
    "\n",
    "        for dwn_evnt in [\"q\", \"Space\", \".\", \",\", \"z\", \"v\", \"Enter\", \"Rightclick\"]:\n",
    "            dwn_evnt_name = (\n",
    "                dwn_evnt\n",
    "                if dwn_evnt not in self.special_character_name_mapping.keys()\n",
    "                else self.special_character_name_mapping[dwn_evnt]\n",
    "            )\n",
    "            colname = f\"{dwn_evnt_name}_in_{name_for_replace}_share\"\n",
    "            tmp2_df = (\n",
    "                replace_df[replace_df.down_event == dwn_evnt]\n",
    "                .groupby(\"id\", as_index=False)\n",
    "                .agg({\"down_event\": lambda x: len(list(x))})\n",
    "                .rename(columns={\"down_event\": colname})\n",
    "            )\n",
    "            tmp_df = tmp_df.merge(tmp2_df, on=\"id\", how=\"left\")\n",
    "            tmp_df[colname] = tmp_df[colname].fillna(0)\n",
    "        # Normalise\n",
    "        for dwn_evnt in [\"q\", \"Space\", \".\", \",\", \"z\", \"v\", \"Enter\", \"Rightclick\"]:\n",
    "            dwn_evnt_name = (\n",
    "                dwn_evnt\n",
    "                if dwn_evnt not in self.special_character_name_mapping.keys()\n",
    "                else self.special_character_name_mapping[dwn_evnt]\n",
    "            )\n",
    "            colname = f\"{dwn_evnt_name}_in_{name_for_replace}_share\"\n",
    "            tmp_df[colname] = tmp_df[colname] / tmp_df[\"total_replace_activity\"]\n",
    "            tmp_df[colname] = tmp_df[colname].fillna(0)\n",
    "\n",
    "        ###############################################################################\n",
    "        \"\"\"\n",
    "        Ways in which Nonproduction happens -> Top ways ->  top_ways_np ratios\n",
    "        \"\"\"\n",
    "        top_ways_np = [\n",
    "            \"Shift\",\n",
    "            \"ArrowRight\",\n",
    "            \"Leftclick\",\n",
    "            \"ArrowLeft\",\n",
    "            \"ArrowDown\",\n",
    "            \"ArrowUp\",\n",
    "            \"CapsLock\",\n",
    "            \"Control\",\n",
    "            \"Backspace\",\n",
    "            \"Tab\",\n",
    "            \"ContextMenu\",\n",
    "            \"End\",\n",
    "            \"Rightclick\",\n",
    "        ]\n",
    "        np_df = self.df[self.df.activity == \"Nonproduction\"].reset_index(drop=True)\n",
    "        name_for_np = self.activities_name_mapping[\"Nonproduction\"]\n",
    "        np_feats_df = np_df.groupby(\"id\", as_index=False).agg(\n",
    "            total_np_activity=(\"down_event\", lambda x: len(list(x)))\n",
    "        )\n",
    "        tmp_df = tmp_df.merge(np_feats_df, on=\"id\", how=\"left\")\n",
    "\n",
    "        features_to_drop.append(\"total_np_activity\")  # Remove this column\n",
    "\n",
    "        for dwn_evnt in top_ways_np:\n",
    "            dwn_evnt_name = (\n",
    "                dwn_evnt\n",
    "                if dwn_evnt not in self.special_character_name_mapping.keys()\n",
    "                else self.special_character_name_mapping[dwn_evnt]\n",
    "            )\n",
    "            colname = f\"{dwn_evnt_name}_in_{name_for_np}_share\"\n",
    "            tmp2_df = (\n",
    "                np_df[np_df.down_event == dwn_evnt]\n",
    "                .groupby(\"id\", as_index=False)\n",
    "                .agg({\"down_event\": lambda x: len(list(x))})\n",
    "                .rename(columns={\"down_event\": colname})\n",
    "            )\n",
    "            tmp_df = tmp_df.merge(tmp2_df, on=\"id\", how=\"left\")\n",
    "            tmp_df[colname] = tmp_df[colname].fillna(0)\n",
    "        # Normalise\n",
    "        for dwn_evnt in top_ways_np:\n",
    "            dwn_evnt_name = (\n",
    "                dwn_evnt\n",
    "                if dwn_evnt not in self.special_character_name_mapping.keys()\n",
    "                else self.special_character_name_mapping[dwn_evnt]\n",
    "            )\n",
    "            colname = f\"{dwn_evnt_name}_in_{name_for_np}_share\"\n",
    "            tmp_df[colname] = tmp_df[colname] / tmp_df[\"total_np_activity\"]\n",
    "            tmp_df[colname] = tmp_df[colname].fillna(0)\n",
    "\n",
    "        ###############################################################################\n",
    "        \"\"\"\n",
    "        Ways in which Input happens -> Top ways ->  top_ways_np ratios\n",
    "        \"\"\"\n",
    "        top_ways_input = [\n",
    "            \"q\",\n",
    "            \"Space\",\n",
    "            \"Enter\",\n",
    "        ] + list(self.special_character_name_mapping.keys())\n",
    "\n",
    "        top_ways_input = [\n",
    "            inp\n",
    "            for inp in top_ways_input\n",
    "            if inp\n",
    "            not in [\n",
    "                \":\",\n",
    "                \"(\",\n",
    "                \")\",\n",
    "                \"!\",\n",
    "                \"[\",\n",
    "                \"$\",\n",
    "                \">\",\n",
    "                \"]\",\n",
    "                \"*\",\n",
    "                \"%\",\n",
    "                \"&\",\n",
    "                \"<\",\n",
    "                \"+\",\n",
    "                \"_\",\n",
    "                \"{\",\n",
    "                \"`\",\n",
    "                \"#\",\n",
    "                \" \",\n",
    "                \"\\n\",\n",
    "            ]\n",
    "        ]\n",
    "        input_df = self.df[self.df.activity == \"Input\"].reset_index(drop=True)\n",
    "        name_for_input = self.activities_name_mapping[\"Input\"]\n",
    "        input_feats_df = input_df.groupby(\"id\", as_index=False).agg(\n",
    "            total_input_activity=(\"down_event\", lambda x: len(list(x)))\n",
    "        )\n",
    "        tmp_df = tmp_df.merge(input_feats_df, on=\"id\", how=\"left\")\n",
    "\n",
    "        features_to_drop.append(\"total_input_activity\")  # Remove this column\n",
    "\n",
    "        for dwn_evnt in top_ways_input:\n",
    "            dwn_evnt_name = (\n",
    "                dwn_evnt\n",
    "                if dwn_evnt not in self.special_character_name_mapping.keys()\n",
    "                else self.special_character_name_mapping[dwn_evnt]\n",
    "            )\n",
    "            colname = f\"{dwn_evnt_name}_in_{name_for_input}_share\"\n",
    "            tmp2_df = (\n",
    "                input_df[input_df.down_event == dwn_evnt]\n",
    "                .groupby(\"id\", as_index=False)\n",
    "                .agg({\"down_event\": lambda x: len(list(x))})\n",
    "                .rename(columns={\"down_event\": colname})\n",
    "            )\n",
    "            tmp_df = tmp_df.merge(tmp2_df, on=\"id\", how=\"left\")\n",
    "            tmp_df[colname] = tmp_df[colname].fillna(0)\n",
    "        # Normalise\n",
    "        for dwn_evnt in top_ways_input:\n",
    "            dwn_evnt_name = (\n",
    "                dwn_evnt\n",
    "                if dwn_evnt not in self.special_character_name_mapping.keys()\n",
    "                else self.special_character_name_mapping[dwn_evnt]\n",
    "            )\n",
    "            colname = f\"{dwn_evnt_name}_in_{name_for_input}_share\"\n",
    "            tmp_df[colname] = tmp_df[colname] / tmp_df[\"total_input_activity\"]\n",
    "            tmp_df[colname] = tmp_df[colname].fillna(0)\n",
    "\n",
    "        ###############################################################################\n",
    "\n",
    "        ###############################################################################\n",
    "        print(f\"Features dropping in activity function {features_to_drop}\")\n",
    "        tmp_df = tmp_df.drop(columns=features_to_drop)\n",
    "        return tmp_df\n",
    "\n",
    "    def word_count_features(self, tmp_df):\n",
    "        word_count_df = self.df[[\"id\", \"event_id\", \"word_count\", \"down_time\"]]\n",
    "        # Number of times words deleted:\n",
    "        word_count_df[\"word_count_first_derivative\"] = word_count_df[\n",
    "            \"word_count\"\n",
    "        ] - word_count_df.groupby(\"id\").word_count.shift(1)\n",
    "\n",
    "        word_count_df[\"word_count_first_derivative\"] = word_count_df[\n",
    "            \"word_count_first_derivative\"\n",
    "        ].fillna(0)\n",
    "        # word_count_df = word_count_df[~word_count_df.isna().any(axis=1)].reset_index(\n",
    "        #     drop=True\n",
    "        # )\n",
    "\n",
    "        wc_feats_df = word_count_df.groupby(\"id\", as_index=False).agg(\n",
    "            num_times_word_deleted=(\n",
    "                \"word_count_first_derivative\",\n",
    "                lambda x: my_sum([1 for i in list(x) if i < 0]),\n",
    "            ),\n",
    "            num_words_deleted=(  # take ratio with total words\n",
    "                \"word_count_first_derivative\",\n",
    "                lambda x: my_sum([-i for i in list(x) if i < 0]),\n",
    "            ),\n",
    "            size_of_biggest_chunk_removed=(  # take ratio with total words\n",
    "                \"word_count_first_derivative\",\n",
    "                lambda x: my_max([-i for i in list(x) if i < 0]),\n",
    "            ),\n",
    "            avg_num_words_removed_at_a_time=(  # take ratio with total words\n",
    "                \"word_count_first_derivative\",\n",
    "                lambda x: my_mean([-i for i in list(x) if i < 0]),\n",
    "            ),\n",
    "        )\n",
    "        wc_feats_df = wc_feats_df.fillna(0)\n",
    "        tmp_df = tmp_df.merge(wc_feats_df, on=\"id\", how=\"left\")\n",
    "        tmp_df[\"num_words_deleted\"] = (\n",
    "            tmp_df[\"num_words_deleted\"] / tmp_df[\"total_word_count\"]\n",
    "        )\n",
    "        tmp_df[\"num_words_deleted\"] = tmp_df[\"num_words_deleted\"].fillna(0)\n",
    "\n",
    "        tmp_df[\"size_of_biggest_chunk_removed\"] = (\n",
    "            tmp_df[\"size_of_biggest_chunk_removed\"] / tmp_df[\"total_word_count\"]\n",
    "        )\n",
    "        tmp_df[\"size_of_biggest_chunk_removed\"] = tmp_df[\n",
    "            \"size_of_biggest_chunk_removed\"\n",
    "        ].fillna(0)\n",
    "\n",
    "        tmp_df[\"avg_num_words_removed_at_a_time\"] = (\n",
    "            tmp_df[\"avg_num_words_removed_at_a_time\"] / tmp_df[\"total_word_count\"]\n",
    "        )\n",
    "        tmp_df[\"avg_num_words_removed_at_a_time\"] = tmp_df[\n",
    "            \"avg_num_words_removed_at_a_time\"\n",
    "        ].fillna(0)\n",
    "\n",
    "        word_count_df2 = word_count_df[\n",
    "            word_count_df.word_count_first_derivative < 0\n",
    "        ].reset_index(drop=True)\n",
    "        word_count_df2 = word_count_df2.merge(\n",
    "            tmp_df[[\"id\", \"start_time\", \"total_time_taken\"]], on=\"id\"\n",
    "        )\n",
    "        word_count_df2[\"time_for_word_deletion_share\"] = (\n",
    "            word_count_df2[\"down_time\"] - word_count_df2[\"start_time\"]\n",
    "        )\n",
    "        word_count_df2[\"time_for_word_deletion_share\"] = (\n",
    "            word_count_df2[\"time_for_word_deletion_share\"]\n",
    "            / word_count_df2[\"total_time_taken\"]\n",
    "        )\n",
    "\n",
    "        # Time after start when word is deleted first time and last time\n",
    "        wc_feats_df = word_count_df2.groupby(\"id\", as_index=False).agg(\n",
    "            first_time_word_deletion=(\n",
    "                \"time_for_word_deletion_share\",\n",
    "                lambda x: list(x)[0],\n",
    "            ),\n",
    "            last_time_word_deletion=(\n",
    "                \"time_for_word_deletion_share\",\n",
    "                lambda x: list(x)[-1],\n",
    "            ),\n",
    "        )\n",
    "        wc_feats_df = wc_feats_df.fillna(0)\n",
    "        tmp_df = tmp_df.merge(wc_feats_df, on=\"id\", how=\"left\")\n",
    "        tmp_df[\"first_time_word_deletion\"] = tmp_df[\"first_time_word_deletion\"].fillna(\n",
    "            0\n",
    "        )\n",
    "        tmp_df[\"last_time_word_deletion\"] = tmp_df[\"last_time_word_deletion\"].fillna(0)\n",
    "\n",
    "        # Average,max,min,std of time between word deletions\n",
    "        word_count_df2[\"time_between_word_deletions\"] = word_count_df2[\n",
    "            \"down_time\"\n",
    "        ] - word_count_df2.groupby(\"id\").down_time.shift(1)\n",
    "        word_count_df2[\"time_between_word_deletions\"] = word_count_df2[\n",
    "            \"time_between_word_deletions\"\n",
    "        ].fillna(0)\n",
    "        # word_count_df2 = word_count_df2[~word_count_df2.isna().any(axis=1)].reset_index(\n",
    "        #     drop=True\n",
    "        # )\n",
    "\n",
    "        wc_feats_df = word_count_df2.groupby(\"id\", as_index=False).agg(\n",
    "            mean_time_btw_word_deletions=(\n",
    "                \"time_between_word_deletions\",\n",
    "                lambda x: my_mean(list(x)),\n",
    "            ),\n",
    "            max_time_btw_word_deletions=(\n",
    "                \"time_between_word_deletions\",\n",
    "                lambda x: my_max(list(x)),\n",
    "            ),\n",
    "            min_time_btw_word_deletions=(\n",
    "                \"time_between_word_deletions\",\n",
    "                lambda x: my_min(list(x)),\n",
    "            ),\n",
    "            std_time_btw_word_deletions=(\n",
    "                \"time_between_word_deletions\",\n",
    "                lambda x: my_std(list(x)),\n",
    "            ),\n",
    "        )\n",
    "\n",
    "        wc_feats_df = wc_feats_df.fillna(0)\n",
    "        tmp_df = tmp_df.merge(wc_feats_df, on=\"id\", how=\"left\")\n",
    "        tmp_df[\"mean_time_btw_word_deletions\"] = (\n",
    "            tmp_df[\"mean_time_btw_word_deletions\"] / tmp_df[\"total_time_taken\"]\n",
    "        )\n",
    "        tmp_df[\"mean_time_btw_word_deletions\"] = tmp_df[\n",
    "            \"mean_time_btw_word_deletions\"\n",
    "        ].fillna(0)\n",
    "\n",
    "        tmp_df[\"max_time_btw_word_deletions\"] = (\n",
    "            tmp_df[\"max_time_btw_word_deletions\"] / tmp_df[\"total_time_taken\"]\n",
    "        )\n",
    "        tmp_df[\"max_time_btw_word_deletions\"] = tmp_df[\n",
    "            \"max_time_btw_word_deletions\"\n",
    "        ].fillna(0)\n",
    "\n",
    "        tmp_df[\"min_time_btw_word_deletions\"] = (\n",
    "            tmp_df[\"min_time_btw_word_deletions\"] / tmp_df[\"total_time_taken\"]\n",
    "        )\n",
    "        tmp_df[\"min_time_btw_word_deletions\"] = tmp_df[\n",
    "            \"min_time_btw_word_deletions\"\n",
    "        ].fillna(0)\n",
    "\n",
    "        tmp_df[\"std_time_btw_word_deletions\"] = (\n",
    "            tmp_df[\"std_time_btw_word_deletions\"] / tmp_df[\"total_time_taken\"]\n",
    "        )\n",
    "        tmp_df[\"std_time_btw_word_deletions\"] = tmp_df[\n",
    "            \"std_time_btw_word_deletions\"\n",
    "        ].fillna(0)\n",
    "\n",
    "        return tmp_df\n",
    "\n",
    "    def cursor_position_features(self, tmp_df):\n",
    "        cursor_pos_df = self.df[[\"id\", \"event_id\", \"cursor_position\", \"down_time\"]]\n",
    "        # Number of times cursor position is decreased means gone back to see something:\n",
    "        cursor_pos_df[\"cursor_pos_first_derivative\"] = cursor_pos_df[\n",
    "            \"cursor_position\"\n",
    "        ] - cursor_pos_df.groupby(\"id\").cursor_position.shift(1)\n",
    "        cursor_pos_df[\"cursor_pos_first_derivative\"] = cursor_pos_df[\n",
    "            \"cursor_pos_first_derivative\"\n",
    "        ].fillna(0)\n",
    "        # cursor_pos_df = cursor_pos_df[~cursor_pos_df.isna().any(axis=1)].reset_index(\n",
    "        #     drop=True\n",
    "        # )\n",
    "\n",
    "        cp_feats_df = cursor_pos_df.groupby(\"id\", as_index=False).agg(\n",
    "            num_times_cp_decreased=(\n",
    "                \"cursor_pos_first_derivative\",\n",
    "                lambda x: my_sum([1 for i in list(x) if i < 0]),\n",
    "            ),\n",
    "            size_of_biggest_cp_decreased=(\n",
    "                \"cursor_pos_first_derivative\",\n",
    "                lambda x: my_max([-i for i in list(x) if i < 0]),\n",
    "            ),\n",
    "            avg_size_of_cp_decreased_at_a_time=(\n",
    "                \"cursor_pos_first_derivative\",\n",
    "                lambda x: my_mean([-i for i in list(x) if i < 0]),\n",
    "            ),\n",
    "        )\n",
    "        cp_feats_df = cp_feats_df.fillna(0)\n",
    "        tmp_df = tmp_df.merge(cp_feats_df, on=\"id\", how=\"left\")\n",
    "\n",
    "        return tmp_df\n",
    "\n",
    "    def text_change_features(self, tmp_df):\n",
    "        # Count of all text_change features\n",
    "        for txt_chng in self.text_changes:\n",
    "            txt_chng_name = (\n",
    "                txt_chng\n",
    "                if txt_chng not in self.special_character_name_mapping.keys()\n",
    "                else self.special_character_name_mapping[txt_chng]\n",
    "            )\n",
    "\n",
    "            text_change_df = self.df[self.df.text_change == txt_chng]\n",
    "            cnt_col_name = f\"{txt_chng_name}_tc_total_share\"\n",
    "            text_change_features = (\n",
    "                text_change_df.groupby(\"id\", as_index=False)\n",
    "                .agg({\"text_change\": lambda x: len(list(x))})\n",
    "                .rename(columns={\"text_change\": cnt_col_name})\n",
    "            )\n",
    "            tmp_df = tmp_df.merge(text_change_features, on=\"id\", how=\"left\")\n",
    "            tmp_df[cnt_col_name] = tmp_df[cnt_col_name].fillna(0)\n",
    "            ## Ratio of text_change in particular activity\n",
    "            for act in [\"Input\", \"Remove/Cut\"]:\n",
    "                act_name = self.activities_name_mapping[act]\n",
    "                cnt_col_name2 = f\"{txt_chng_name}_in_{act_name}_tc_total_share\"\n",
    "                text_change_df2 = text_change_df[text_change_df.activity == act]\n",
    "                text_change_features2 = (\n",
    "                    text_change_df2.groupby(\"id\", as_index=False)\n",
    "                    .agg({\"text_change\": lambda x: len(list(x))})\n",
    "                    .rename(columns={\"text_change\": cnt_col_name2})\n",
    "                )\n",
    "\n",
    "                tmp_df = tmp_df.merge(text_change_features2, on=\"id\", how=\"left\")\n",
    "                tmp_df[cnt_col_name2] = tmp_df[cnt_col_name2].fillna(0)\n",
    "                # Normalise\n",
    "                tmp_df[cnt_col_name2] = tmp_df[cnt_col_name2] / tmp_df[cnt_col_name]\n",
    "                tmp_df[cnt_col_name2] = tmp_df[cnt_col_name2].fillna(0)\n",
    "\n",
    "            # Normalise count of text change type with total event count\n",
    "            tmp_df[cnt_col_name] = tmp_df[cnt_col_name] / tmp_df[\"num_events\"]\n",
    "            tmp_df[cnt_col_name] = tmp_df[cnt_col_name].fillna(0)\n",
    "\n",
    "        return tmp_df\n",
    "\n",
    "    def word_len_features(self, tmp_df):\n",
    "        essay_text_df = self.df[\n",
    "            (~self.df[\"text_change\"].str.contains(\"=>\"))\n",
    "            & (self.df[\"text_change\"] != \"NoChange\")\n",
    "        ].reset_index(drop=True)\n",
    "        essay_text_df = (\n",
    "            essay_text_df.groupby(\"id\").agg({\"text_change\": list}).reset_index()\n",
    "        )\n",
    "        essay_text_df[\"text_change\"] = essay_text_df[\"text_change\"].apply(\n",
    "            lambda x: \"\".join(x)\n",
    "        )\n",
    "        essay_text_df[\"text_change2\"] = essay_text_df[\"text_change\"].apply(\n",
    "            lambda x: re.findall(r\"q+\", x)\n",
    "        )\n",
    "        essay_text_df[\"input_word_count\"] = essay_text_df[\"text_change2\"].apply(len)\n",
    "        essay_text_df[\"input_word_length_mean\"] = essay_text_df[\"text_change2\"].apply(\n",
    "            lambda x: np.mean([len(i) for i in x] if len(x) > 0 else 0)\n",
    "        )\n",
    "        essay_text_df[\"input_word_length_max\"] = essay_text_df[\"text_change2\"].apply(\n",
    "            lambda x: np.max([len(i) for i in x] if len(x) > 0 else 0)\n",
    "        )\n",
    "        essay_text_df[\"input_word_length_std\"] = essay_text_df[\"text_change2\"].apply(\n",
    "            lambda x: np.std([len(i) for i in x] if len(x) > 0 else 0)\n",
    "        )\n",
    "\n",
    "        essay_text_df[\"input_word_length_skew\"] = essay_text_df[\"text_change2\"].apply(\n",
    "            lambda x: my_skew([len(i) for i in x] if len(x) > 0 else 0)\n",
    "        )\n",
    "\n",
    "        essay_text_df[\"input_word_length_kurtosis\"] = essay_text_df[\n",
    "            \"text_change2\"\n",
    "        ].apply(lambda x: my_kurtosis([len(i) for i in x] if len(x) > 0 else 0))\n",
    "\n",
    "        essay_text_df2 = essay_text_df[[\"id\", \"text_change2\"]].explode(\n",
    "            column=\"text_change2\"\n",
    "        )\n",
    "        essay_text_df2 = essay_text_df2.dropna().reset_index(drop=True)\n",
    "\n",
    "        essay_text_df = essay_text_df.drop(columns=[\"text_change\", \"text_change2\"])\n",
    "\n",
    "        tmp_df = tmp_df.merge(essay_text_df, on=\"id\", how=\"left\")\n",
    "\n",
    "        ## Count number of words of lengths ['1', '2', '3', '4', '5', '6', '7', '8', '9', '10', 'more_than_10']\n",
    "        essay_text_df2[\"word_len\"] = essay_text_df2.text_change2.apply(\n",
    "            lambda x: \"more_than_10\" if len(x) > 10 else str(len(x))\n",
    "        )\n",
    "\n",
    "        essay_text_df2 = essay_text_df2.groupby(\"id\", as_index=False).agg(\n",
    "            {\"word_len\": list}\n",
    "        )\n",
    "        list_of_word_lens = [\n",
    "            \"1\",\n",
    "            \"2\",\n",
    "            \"3\",\n",
    "            \"4\",\n",
    "            \"5\",\n",
    "            \"6\",\n",
    "            \"7\",\n",
    "            \"8\",\n",
    "            \"9\",\n",
    "            \"10\",\n",
    "            \"more_than_10\",\n",
    "        ]\n",
    "        ret = list()\n",
    "        for li in tqdm(essay_text_df2[\"word_len\"].values):\n",
    "            items = list(Counter(li).items())\n",
    "            di = dict()\n",
    "            for k in list_of_word_lens:\n",
    "                di[k] = 0\n",
    "            for item in items:\n",
    "                k, v = item[0], item[1]\n",
    "                if k in di:\n",
    "                    di[k] = v\n",
    "            ret.append(di)\n",
    "        ret = pd.DataFrame(ret)\n",
    "        cols = [f\"words_of_len_{i}_share\" for i in ret.columns]\n",
    "        ret.columns = cols\n",
    "        tmp_df = pd.concat([tmp_df, ret], axis=1)\n",
    "        # Normalise\n",
    "        for word_len in list_of_word_lens:\n",
    "            colname = f\"words_of_len_{word_len}_share\"\n",
    "            tmp_df[colname] = tmp_df[colname] / tmp_df[\"input_word_count\"]\n",
    "\n",
    "        return tmp_df\n",
    "\n",
    "    def get_stats_for_different_features(self, tmp_df):\n",
    "        methods_to_apply = [\n",
    "            # my_min,\n",
    "            my_max,\n",
    "            my_mean,\n",
    "            my_std,\n",
    "            my_skew,\n",
    "            # my_kurtosis,\n",
    "            pd.DataFrame.kurt,\n",
    "            my_median_grouped,\n",
    "            \"last\",\n",
    "            \"first\",\n",
    "            \"sem\",\n",
    "            # \"median\",\n",
    "            \"sum\",\n",
    "        ]\n",
    "        clms_for_stats = [\n",
    "            \"IL\",\n",
    "            \"PL\",\n",
    "        ]\n",
    "\n",
    "        for clm in clms_for_stats:\n",
    "            colname = f\"{clm}_stats\"\n",
    "            for method in methods_to_apply:\n",
    "                if isinstance(method, str):\n",
    "                    method_name = method\n",
    "                else:\n",
    "                    method_name = method.__name__\n",
    "                colname_method = f\"{colname}_{method_name}\"\n",
    "                tmp2_df = (\n",
    "                    self.df.groupby([\"id\"])\n",
    "                    .agg({clm: method})\n",
    "                    .reset_index()\n",
    "                    .rename(columns={clm: colname_method})\n",
    "                )\n",
    "\n",
    "                tmp_df = tmp_df.merge(tmp2_df, on=\"id\", how=\"left\")\n",
    "\n",
    "        return tmp_df\n",
    "\n",
    "    def feature_engineering(self):\n",
    "        # initialize features dataframe\n",
    "        # feats = pd.DataFrame({\"id\": self.df[\"id\"].unique().tolist()})\n",
    "\n",
    "        feats = self.df.groupby(\"id\", as_index=False).agg(\n",
    "            total_time_taken=(\"down_time\", lambda x: list(x)[-1] - list(x)[0]),\n",
    "            total_idle_time=(\"IL\", lambda x: sum(x)),\n",
    "            total_word_count=(\"word_count\", lambda x: list(x)[-1] - list(x)[0]),\n",
    "            max_cursor_position=(\"cursor_position\", lambda x: my_max(list(x))),\n",
    "            num_events=(\"event_id\", lambda x: len(list(x))),\n",
    "            activity_list=(\"activity\", list),\n",
    "            total_num_activites=(\"activity\", lambda x: len(list(x))),\n",
    "            total_type_of_activities=(\"activity\", lambda x: len(set(x))),\n",
    "            start_time=(\"down_time\", lambda x: list(x)[0]),\n",
    "            end_time=(\"down_time\", lambda x: list(x)[-1]),\n",
    "        )\n",
    "\n",
    "        print(print(f\"After first groupby: {self.df.shape},{feats.shape}\"))\n",
    "\n",
    "        features_to_drop = [\n",
    "            \"activity_list\",\n",
    "            \"total_num_activites\",\n",
    "            \"start_time\",\n",
    "            \"end_time\",\n",
    "        ]\n",
    "\n",
    "        # events to time ratio or rate of event or speed of activity\n",
    "        feats[\"speed_of_activity\"] = feats[\"num_events\"] / feats[\"total_time_taken\"]\n",
    "        feats[\"speed_of_writing\"] = (\n",
    "            feats[\"total_word_count\"] / feats[\"total_time_taken\"]\n",
    "        )\n",
    "        feats[\"events_per_word\"] = feats[\"total_word_count\"] / feats[\"num_events\"]\n",
    "        feats[\"idle_time_ratio\"] = feats[\"total_idle_time\"] / feats[\"total_time_taken\"]\n",
    "\n",
    "        feats[\"words_to_cp_ratio\"] = (\n",
    "            feats[\"total_word_count\"] / feats[\"max_cursor_position\"]\n",
    "        )  # indicator of words per line\n",
    "\n",
    "        # After Activity features\n",
    "        print(\"-\" * 25)\n",
    "        print(\"Starting Activity Features\")\n",
    "        feats = self.activity_features(feats)\n",
    "\n",
    "        # Word count features\n",
    "        print(\"-\" * 25)\n",
    "        print(\"Starting Word Count Features\")\n",
    "        feats = self.word_count_features(feats)\n",
    "\n",
    "        # Cursor position features\n",
    "        print(\"-\" * 25)\n",
    "        print(\"Starting Cursor Position Features\")\n",
    "        feats = self.cursor_position_features(feats)\n",
    "\n",
    "        # IL, PL, action_time statistical features\n",
    "        print(\"-\" * 25)\n",
    "        print(\"Starting Stats Features\")\n",
    "        feats = self.get_stats_for_different_features(feats)\n",
    "\n",
    "        print(\"-\" * 25)\n",
    "        print(\"Starting Text Change Features\")\n",
    "        feats = self.text_change_features(feats)\n",
    "\n",
    "        print(\"-\" * 25)\n",
    "        print(\"Starting Word Length Features\")\n",
    "        feats = self.word_len_features(feats)\n",
    "\n",
    "        feats = feats.drop(columns=features_to_drop)\n",
    "        feats = feats.set_index([\"id\"]).add_prefix(\"additional_\").reset_index()\n",
    "        return feats\n",
    "\n",
    "    def pre_process_data(self):\n",
    "        self.clean_data()\n",
    "        print(f\"In pre process data: {self.df.shape}\")\n",
    "\n",
    "        if cnfg.is_time_in_secs:\n",
    "            self.change_time_columns_to_secs()\n",
    "\n",
    "        return self.df\n",
    "\n",
    "    def pre_process_and_engineer_features(self):\n",
    "        _ = self.pre_process_data()\n",
    "        features_df = self.feature_engineering()\n",
    "        return self.df, features_df"
   ]
  },
  {
   "cell_type": "code",
   "execution_count": 75,
   "id": "385845b7",
   "metadata": {
    "execution": {
     "iopub.execute_input": "2023-12-30T04:57:06.940220Z",
     "iopub.status.busy": "2023-12-30T04:57:06.939678Z",
     "iopub.status.idle": "2023-12-30T04:58:21.250654Z",
     "shell.execute_reply": "2023-12-30T04:58:21.250210Z",
     "shell.execute_reply.started": "2023-12-30T04:57:06.940162Z"
    },
    "papermill": {
     "duration": 0.035653,
     "end_time": "2023-11-22T05:07:05.200210",
     "exception": false,
     "start_time": "2023-11-22T05:07:05.164557",
     "status": "completed"
    },
    "tags": []
   },
   "outputs": [
    {
     "name": "stdout",
     "output_type": "stream",
     "text": [
      "Before uptime cleaning, data shape: (6719293, 53)\n",
      "After uptime cleaning, data shape: (6719293, 53)\n",
      "In pre process data: (6719293, 56)\n",
      "After first groupby: (6719293, 56),(1976, 11)\n",
      "None\n",
      "-------------------------\n",
      "Starting Activity Features\n"
     ]
    },
    {
     "name": "stderr",
     "output_type": "stream",
     "text": [
      "1976it [00:00, 11490.67it/s]\n"
     ]
    },
    {
     "name": "stdout",
     "output_type": "stream",
     "text": [
      "Features dropping in activity function ['activity_input_count', 'activity_remove_count', 'activity_non_production_count', 'activity_replace_count', 'activity_paste_count', 'input_first_time', 'remove_first_time', 'non_production_first_time', 'replace_first_time', 'paste_first_time', 'input_last_time', 'remove_last_time', 'non_production_last_time', 'replace_last_time', 'paste_last_time', 'total_remove_activity', 'total_replace_activity', 'total_np_activity', 'total_input_activity']\n",
      "-------------------------\n",
      "Starting Word Count Features\n",
      "-------------------------\n",
      "Starting Cursor Position Features\n",
      "-------------------------\n",
      "Starting Stats Features\n",
      "-------------------------\n",
      "Starting Text Change Features\n",
      "-------------------------\n",
      "Starting Word Length Features\n"
     ]
    },
    {
     "name": "stderr",
     "output_type": "stream",
     "text": [
      "100%|████████████████████████████████████| 1976/1976 [00:00<00:00, 38480.39it/s]\n"
     ]
    },
    {
     "name": "stdout",
     "output_type": "stream",
     "text": [
      "\n",
      "-------------------------\n",
      "Engineering features for test data\n",
      "-------------------------\n",
      "Before uptime cleaning, data shape: (1686605, 53)\n",
      "After uptime cleaning, data shape: (1686605, 53)\n",
      "In pre process data: (1686605, 56)\n",
      "After first groupby: (1686605, 56),(495, 11)\n",
      "None\n",
      "-------------------------\n",
      "Starting Activity Features\n"
     ]
    },
    {
     "name": "stderr",
     "output_type": "stream",
     "text": [
      "495it [00:00, 11836.43it/s]\n"
     ]
    },
    {
     "name": "stdout",
     "output_type": "stream",
     "text": [
      "Features dropping in activity function ['activity_input_count', 'activity_remove_count', 'activity_non_production_count', 'activity_replace_count', 'activity_paste_count', 'input_first_time', 'remove_first_time', 'non_production_first_time', 'replace_first_time', 'paste_first_time', 'input_last_time', 'remove_last_time', 'non_production_last_time', 'replace_last_time', 'paste_last_time', 'total_remove_activity', 'total_replace_activity', 'total_np_activity', 'total_input_activity']\n",
      "-------------------------\n",
      "Starting Word Count Features\n",
      "-------------------------\n",
      "Starting Cursor Position Features\n",
      "-------------------------\n",
      "Starting Stats Features\n",
      "-------------------------\n",
      "Starting Text Change Features\n",
      "-------------------------\n",
      "Starting Word Length Features\n"
     ]
    },
    {
     "name": "stderr",
     "output_type": "stream",
     "text": [
      "100%|██████████████████████████████████████| 495/495 [00:00<00:00, 37766.59it/s]\n"
     ]
    }
   ],
   "source": [
    "my_preprocess_train = MyPreprocessor(traindf)\n",
    "(\n",
    "    train_logs2,\n",
    "    my_train_feats,\n",
    ") = my_preprocess_train.pre_process_and_engineer_features()\n",
    "\n",
    "print()\n",
    "print(\"-\" * 25)\n",
    "print(\"Engineering features for test data\")\n",
    "print(\"-\" * 25)\n",
    "my_preprocess_test = MyPreprocessor(testdf)\n",
    "_, my_test_feats = my_preprocess_test.pre_process_and_engineer_features()"
   ]
  },
  {
   "cell_type": "code",
   "execution_count": 76,
   "id": "d4c384d6",
   "metadata": {
    "execution": {
     "iopub.execute_input": "2023-12-30T04:58:21.251449Z",
     "iopub.status.busy": "2023-12-30T04:58:21.251273Z",
     "iopub.status.idle": "2023-12-30T04:58:21.254807Z",
     "shell.execute_reply": "2023-12-30T04:58:21.254341Z",
     "shell.execute_reply.started": "2023-12-30T04:58:21.251433Z"
    },
    "papermill": {
     "duration": 0.035328,
     "end_time": "2023-11-22T05:07:05.264174",
     "exception": false,
     "start_time": "2023-11-22T05:07:05.228846",
     "status": "completed"
    },
    "tags": []
   },
   "outputs": [
    {
     "data": {
      "text/plain": [
       "(1976, 190)"
      ]
     },
     "execution_count": 76,
     "metadata": {},
     "output_type": "execute_result"
    }
   ],
   "source": [
    "my_train_feats.shape"
   ]
  },
  {
   "cell_type": "code",
   "execution_count": 77,
   "id": "f00f6f35",
   "metadata": {
    "execution": {
     "iopub.execute_input": "2023-12-30T04:58:21.255554Z",
     "iopub.status.busy": "2023-12-30T04:58:21.255364Z",
     "iopub.status.idle": "2023-12-30T04:58:21.270804Z",
     "shell.execute_reply": "2023-12-30T04:58:21.270279Z",
     "shell.execute_reply.started": "2023-12-30T04:58:21.255538Z"
    },
    "papermill": {
     "duration": 0.034492,
     "end_time": "2023-11-22T05:07:05.327304",
     "exception": false,
     "start_time": "2023-11-22T05:07:05.292812",
     "status": "completed"
    },
    "tags": []
   },
   "outputs": [
    {
     "data": {
      "text/plain": [
       "[]"
      ]
     },
     "execution_count": 77,
     "metadata": {},
     "output_type": "execute_result"
    }
   ],
   "source": [
    "my_train_feats.columns[my_train_feats.isnull().any()].tolist()"
   ]
  },
  {
   "cell_type": "code",
   "execution_count": 78,
   "id": "29f64bf3",
   "metadata": {
    "execution": {
     "iopub.execute_input": "2023-12-30T04:58:21.272152Z",
     "iopub.status.busy": "2023-12-30T04:58:21.271621Z",
     "iopub.status.idle": "2023-12-30T04:58:21.284821Z",
     "shell.execute_reply": "2023-12-30T04:58:21.284353Z",
     "shell.execute_reply.started": "2023-12-30T04:58:21.272135Z"
    },
    "papermill": {
     "duration": 0.053452,
     "end_time": "2023-11-22T05:07:05.409082",
     "exception": false,
     "start_time": "2023-11-22T05:07:05.355630",
     "status": "completed"
    },
    "tags": []
   },
   "outputs": [
    {
     "data": {
      "text/plain": [
       "['paragraph_len_std',\n",
       " 'paragraph_len_sem',\n",
       " 'paragraph_len_skew',\n",
       " 'paragraph_len_kurt',\n",
       " 'paragraph_word_count_std',\n",
       " 'paragraph_word_count_sem',\n",
       " 'paragraph_word_count_skew',\n",
       " 'paragraph_word_count_kurt',\n",
       " 'sent_len_skew',\n",
       " 'sent_len_kurt',\n",
       " 'sent_word_count_skew',\n",
       " 'sent_word_count_kurt']"
      ]
     },
     "execution_count": 78,
     "metadata": {},
     "output_type": "execute_result"
    }
   ],
   "source": [
    "train_feats.columns[train_feats.isnull().any()].tolist()"
   ]
  },
  {
   "cell_type": "code",
   "execution_count": 79,
   "id": "9facc33c",
   "metadata": {
    "execution": {
     "iopub.execute_input": "2023-12-30T04:58:21.285671Z",
     "iopub.status.busy": "2023-12-30T04:58:21.285434Z",
     "iopub.status.idle": "2023-12-30T04:58:21.295473Z",
     "shell.execute_reply": "2023-12-30T04:58:21.294280Z",
     "shell.execute_reply.started": "2023-12-30T04:58:21.285657Z"
    },
    "papermill": {
     "duration": 0.035055,
     "end_time": "2023-11-22T05:07:05.472927",
     "exception": false,
     "start_time": "2023-11-22T05:07:05.437872",
     "status": "completed"
    },
    "tags": []
   },
   "outputs": [],
   "source": [
    "train_feats = train_feats.merge(my_train_feats, on=\"id\")"
   ]
  },
  {
   "cell_type": "code",
   "execution_count": 80,
   "id": "1b6686e9",
   "metadata": {
    "execution": {
     "iopub.execute_input": "2023-12-30T04:58:21.296482Z",
     "iopub.status.busy": "2023-12-30T04:58:21.296304Z",
     "iopub.status.idle": "2023-12-30T04:58:21.303518Z",
     "shell.execute_reply": "2023-12-30T04:58:21.302862Z",
     "shell.execute_reply.started": "2023-12-30T04:58:21.296464Z"
    },
    "papermill": {
     "duration": 0.034985,
     "end_time": "2023-11-22T05:07:05.536595",
     "exception": false,
     "start_time": "2023-11-22T05:07:05.501610",
     "status": "completed"
    },
    "tags": []
   },
   "outputs": [],
   "source": [
    "test_feats = test_feats.merge(my_test_feats, on=\"id\")"
   ]
  },
  {
   "cell_type": "code",
   "execution_count": 81,
   "id": "479ecb5d",
   "metadata": {
    "execution": {
     "iopub.execute_input": "2023-12-30T04:58:21.304475Z",
     "iopub.status.busy": "2023-12-30T04:58:21.304147Z",
     "iopub.status.idle": "2023-12-30T04:58:21.307466Z",
     "shell.execute_reply": "2023-12-30T04:58:21.307130Z",
     "shell.execute_reply.started": "2023-12-30T04:58:21.304460Z"
    },
    "papermill": {
     "duration": 0.036737,
     "end_time": "2023-11-22T05:07:05.602045",
     "exception": false,
     "start_time": "2023-11-22T05:07:05.565308",
     "status": "completed"
    },
    "tags": []
   },
   "outputs": [
    {
     "data": {
      "text/plain": [
       "((1976, 934), (495, 934))"
      ]
     },
     "execution_count": 81,
     "metadata": {},
     "output_type": "execute_result"
    }
   ],
   "source": [
    "train_feats.shape, test_feats.shape"
   ]
  },
  {
   "cell_type": "code",
   "execution_count": 82,
   "id": "2d8636b7",
   "metadata": {
    "execution": {
     "iopub.execute_input": "2023-12-30T04:58:21.313377Z",
     "iopub.status.busy": "2023-12-30T04:58:21.313064Z",
     "iopub.status.idle": "2023-12-30T04:58:21.316227Z",
     "shell.execute_reply": "2023-12-30T04:58:21.315914Z",
     "shell.execute_reply.started": "2023-12-30T04:58:21.313360Z"
    },
    "papermill": {
     "duration": 0.036941,
     "end_time": "2023-11-22T05:07:05.802133",
     "exception": false,
     "start_time": "2023-11-22T05:07:05.765192",
     "status": "completed"
    },
    "tags": []
   },
   "outputs": [
    {
     "data": {
      "text/plain": [
       "((1976, 934), (495, 934))"
      ]
     },
     "execution_count": 82,
     "metadata": {},
     "output_type": "execute_result"
    }
   ],
   "source": [
    "train_feats.shape, test_feats.shape"
   ]
  },
  {
   "cell_type": "code",
   "execution_count": 83,
   "id": "ca391c8c",
   "metadata": {
    "execution": {
     "iopub.execute_input": "2023-12-30T04:58:21.316795Z",
     "iopub.status.busy": "2023-12-30T04:58:21.316665Z",
     "iopub.status.idle": "2023-12-30T04:58:21.330431Z",
     "shell.execute_reply": "2023-12-30T04:58:21.329910Z",
     "shell.execute_reply.started": "2023-12-30T04:58:21.316781Z"
    },
    "papermill": {
     "duration": 0.052898,
     "end_time": "2023-11-22T05:07:05.883983",
     "exception": false,
     "start_time": "2023-11-22T05:07:05.831085",
     "status": "completed"
    },
    "tags": []
   },
   "outputs": [
    {
     "data": {
      "text/plain": [
       "['paragraph_len_std',\n",
       " 'paragraph_len_sem',\n",
       " 'paragraph_len_skew',\n",
       " 'paragraph_len_kurt',\n",
       " 'paragraph_word_count_std',\n",
       " 'paragraph_word_count_sem',\n",
       " 'paragraph_word_count_skew',\n",
       " 'paragraph_word_count_kurt',\n",
       " 'sent_len_skew',\n",
       " 'sent_len_kurt',\n",
       " 'sent_word_count_skew',\n",
       " 'sent_word_count_kurt']"
      ]
     },
     "execution_count": 83,
     "metadata": {},
     "output_type": "execute_result"
    }
   ],
   "source": [
    "nan_cols = train_feats.columns[train_feats.isna().any()].tolist()\n",
    "nan_cols"
   ]
  },
  {
   "cell_type": "code",
   "execution_count": 84,
   "id": "7eac0fdb",
   "metadata": {
    "execution": {
     "iopub.execute_input": "2023-12-30T04:58:21.331299Z",
     "iopub.status.busy": "2023-12-30T04:58:21.331115Z",
     "iopub.status.idle": "2023-12-30T04:58:21.341205Z",
     "shell.execute_reply": "2023-12-30T04:58:21.340607Z",
     "shell.execute_reply.started": "2023-12-30T04:58:21.331284Z"
    },
    "papermill": {
     "duration": 0.044009,
     "end_time": "2023-11-22T05:07:05.957040",
     "exception": false,
     "start_time": "2023-11-22T05:07:05.913031",
     "status": "completed"
    },
    "tags": []
   },
   "outputs": [],
   "source": [
    "for col in nan_cols:\n",
    "    mode_value_train = train_feats[col].mode()[\n",
    "        0\n",
    "    ]  # In case there are multiple modes, choose the first one\n",
    "    train_feats[col].fillna(mode_value_train, inplace=True)"
   ]
  },
  {
   "cell_type": "code",
   "execution_count": 85,
   "id": "476e894e",
   "metadata": {
    "execution": {
     "iopub.execute_input": "2023-12-30T04:58:21.342258Z",
     "iopub.status.busy": "2023-12-30T04:58:21.341901Z",
     "iopub.status.idle": "2023-12-30T04:58:21.358812Z",
     "shell.execute_reply": "2023-12-30T04:58:21.358414Z",
     "shell.execute_reply.started": "2023-12-30T04:58:21.342241Z"
    },
    "papermill": {
     "duration": 0.162697,
     "end_time": "2023-11-22T05:07:06.149607",
     "exception": false,
     "start_time": "2023-11-22T05:07:05.986910",
     "status": "completed"
    },
    "tags": []
   },
   "outputs": [],
   "source": [
    "for col in test_feats.columns[test_feats.isna().any()].tolist():\n",
    "    # Find the most frequent value in the training set for the current feature\n",
    "    most_frequent_value_train = train_feats[col].mode()[0]\n",
    "\n",
    "    # Fill missing values in the test set with the most frequent value from the training set\n",
    "    test_feats[col].fillna(most_frequent_value_train, inplace=True)"
   ]
  },
  {
   "cell_type": "code",
   "execution_count": 86,
   "id": "9c958724-6522-4271-83f0-1ac7b8c65b06",
   "metadata": {
    "execution": {
     "iopub.execute_input": "2023-12-30T04:58:21.359720Z",
     "iopub.status.busy": "2023-12-30T04:58:21.359505Z",
     "iopub.status.idle": "2023-12-30T04:58:21.364101Z",
     "shell.execute_reply": "2023-12-30T04:58:21.363257Z",
     "shell.execute_reply.started": "2023-12-30T04:58:21.359704Z"
    }
   },
   "outputs": [
    {
     "data": {
      "text/plain": [
       "((1976, 934), (495, 934))"
      ]
     },
     "execution_count": 86,
     "metadata": {},
     "output_type": "execute_result"
    }
   ],
   "source": [
    "train_feats.shape, test_feats.shape"
   ]
  },
  {
   "cell_type": "code",
   "execution_count": 87,
   "id": "12a011e1",
   "metadata": {
    "execution": {
     "iopub.execute_input": "2023-12-30T04:58:21.365313Z",
     "iopub.status.busy": "2023-12-30T04:58:21.365066Z",
     "iopub.status.idle": "2023-12-30T04:58:21.378360Z",
     "shell.execute_reply": "2023-12-30T04:58:21.377786Z",
     "shell.execute_reply.started": "2023-12-30T04:58:21.365287Z"
    },
    "papermill": {
     "duration": 0.053368,
     "end_time": "2023-11-22T05:07:06.232510",
     "exception": false,
     "start_time": "2023-11-22T05:07:06.179142",
     "status": "completed"
    },
    "tags": []
   },
   "outputs": [
    {
     "data": {
      "text/plain": [
       "[]"
      ]
     },
     "execution_count": 87,
     "metadata": {},
     "output_type": "execute_result"
    }
   ],
   "source": [
    "train_feats.columns[train_feats.isna().any()].tolist()"
   ]
  },
  {
   "cell_type": "code",
   "execution_count": 88,
   "id": "fc2e974a",
   "metadata": {
    "execution": {
     "iopub.execute_input": "2023-12-30T04:58:21.379693Z",
     "iopub.status.busy": "2023-12-30T04:58:21.379218Z",
     "iopub.status.idle": "2023-12-30T04:58:21.389680Z",
     "shell.execute_reply": "2023-12-30T04:58:21.389325Z",
     "shell.execute_reply.started": "2023-12-30T04:58:21.379673Z"
    },
    "papermill": {
     "duration": 0.053235,
     "end_time": "2023-11-22T05:07:06.315106",
     "exception": false,
     "start_time": "2023-11-22T05:07:06.261871",
     "status": "completed"
    },
    "tags": []
   },
   "outputs": [
    {
     "data": {
      "text/plain": [
       "[]"
      ]
     },
     "execution_count": 88,
     "metadata": {},
     "output_type": "execute_result"
    }
   ],
   "source": [
    "nan_values_test = test_feats.columns[test_feats.isna().any()].tolist()\n",
    "nan_values_test"
   ]
  },
  {
   "cell_type": "code",
   "execution_count": 89,
   "id": "fa904251",
   "metadata": {
    "execution": {
     "iopub.execute_input": "2023-12-30T04:58:21.390302Z",
     "iopub.status.busy": "2023-12-30T04:58:21.390135Z",
     "iopub.status.idle": "2023-12-30T04:58:21.392409Z",
     "shell.execute_reply": "2023-12-30T04:58:21.392032Z",
     "shell.execute_reply.started": "2023-12-30T04:58:21.390287Z"
    },
    "papermill": {
     "duration": 0.050617,
     "end_time": "2023-11-22T05:07:06.395441",
     "exception": false,
     "start_time": "2023-11-22T05:07:06.344824",
     "status": "completed"
    },
    "tags": []
   },
   "outputs": [],
   "source": [
    "# train_feats.columns.tolist()"
   ]
  },
  {
   "cell_type": "markdown",
   "id": "5e9fbf35-00af-4816-b867-e1f999007b3a",
   "metadata": {},
   "source": [
    "### Feature Selection Experiments ####"
   ]
  },
  {
   "cell_type": "code",
   "execution_count": 90,
   "id": "cd8c38ee-d4a5-4224-86d1-dadb7d132d90",
   "metadata": {
    "execution": {
     "iopub.execute_input": "2023-12-30T04:58:21.392943Z",
     "iopub.status.busy": "2023-12-30T04:58:21.392819Z",
     "iopub.status.idle": "2023-12-30T04:58:21.407049Z",
     "shell.execute_reply": "2023-12-30T04:58:21.406400Z",
     "shell.execute_reply.started": "2023-12-30T04:58:21.392930Z"
    }
   },
   "outputs": [],
   "source": [
    "train_feats_copy = train_feats.copy()"
   ]
  },
  {
   "cell_type": "code",
   "execution_count": 91,
   "id": "f4535fd9-5b9c-445b-aa4a-5119b426e5aa",
   "metadata": {
    "execution": {
     "iopub.execute_input": "2023-12-30T04:58:21.407749Z",
     "iopub.status.busy": "2023-12-30T04:58:21.407605Z",
     "iopub.status.idle": "2023-12-30T04:58:21.410103Z",
     "shell.execute_reply": "2023-12-30T04:58:21.409741Z",
     "shell.execute_reply.started": "2023-12-30T04:58:21.407734Z"
    }
   },
   "outputs": [],
   "source": [
    "# train_feats_copy['score'] = train_feats_copy['score'].apply(str)"
   ]
  },
  {
   "cell_type": "code",
   "execution_count": 92,
   "id": "5aaad99a-6351-456b-8e71-73515684f559",
   "metadata": {
    "execution": {
     "iopub.execute_input": "2023-12-30T04:58:21.410792Z",
     "iopub.status.busy": "2023-12-30T04:58:21.410574Z",
     "iopub.status.idle": "2023-12-30T04:58:21.419543Z",
     "shell.execute_reply": "2023-12-30T04:58:21.418918Z",
     "shell.execute_reply.started": "2023-12-30T04:58:21.410777Z"
    }
   },
   "outputs": [
    {
     "data": {
      "text/plain": [
       "(932, 1)"
      ]
     },
     "execution_count": 92,
     "metadata": {},
     "output_type": "execute_result"
    }
   ],
   "source": [
    "target_col = [cnfg.response_variate]\n",
    "\n",
    "# drop_cols = [\"id\", \"score_class\"]\n",
    "\n",
    "train_cols = list(\n",
    "    filter(\n",
    "        lambda x: x not in [cnfg.response_variate, \"id\", \"fold\"],\n",
    "        train_feats_copy.columns,\n",
    "    )\n",
    ")\n",
    "\n",
    "train_cols.__len__(), target_col.__len__()"
   ]
  },
  {
   "cell_type": "code",
   "execution_count": 93,
   "id": "83d9ec91-9d38-4bc4-8290-84f1b74dc449",
   "metadata": {
    "execution": {
     "iopub.execute_input": "2023-12-30T04:58:21.420194Z",
     "iopub.status.busy": "2023-12-30T04:58:21.420051Z",
     "iopub.status.idle": "2023-12-30T04:58:21.427203Z",
     "shell.execute_reply": "2023-12-30T04:58:21.426698Z",
     "shell.execute_reply.started": "2023-12-30T04:58:21.420178Z"
    }
   },
   "outputs": [],
   "source": [
    "# col_names"
   ]
  },
  {
   "cell_type": "code",
   "execution_count": 94,
   "id": "f322520c-5c82-4b49-abe5-43798fbe203e",
   "metadata": {
    "execution": {
     "iopub.execute_input": "2023-12-30T04:58:21.427965Z",
     "iopub.status.busy": "2023-12-30T04:58:21.427756Z",
     "iopub.status.idle": "2023-12-30T04:58:21.442314Z",
     "shell.execute_reply": "2023-12-30T04:58:21.441482Z",
     "shell.execute_reply.started": "2023-12-30T04:58:21.427943Z"
    }
   },
   "outputs": [
    {
     "name": "stdout",
     "output_type": "stream",
     "text": [
      "Series([], dtype: object)\n"
     ]
    }
   ],
   "source": [
    "# d = np.isfinite(train_feats_copy[train_cols])\n",
    "\n",
    "# display(d)\n",
    "tmp = train_feats_copy[train_cols]\n",
    "col_names = tmp.columns.to_series()[np.isinf(tmp).any()]\n",
    "print(col_names)\n",
    "for clm_name in col_names:\n",
    "    print(clm_name, \"-----\\n\")\n",
    "    print(tmp[clm_name].max(), tmp[clm_name].min(), tmp[clm_name].mean())"
   ]
  },
  {
   "cell_type": "markdown",
   "id": "b53398a5-0941-44e1-a1df-5dbc3175d29b",
   "metadata": {},
   "source": [
    "### Method 1: Information Gain ###"
   ]
  },
  {
   "cell_type": "code",
   "execution_count": 95,
   "id": "66014c9a-1adf-4c0f-a4f7-07a508a75b27",
   "metadata": {
    "execution": {
     "iopub.execute_input": "2023-12-30T04:58:21.443390Z",
     "iopub.status.busy": "2023-12-30T04:58:21.443101Z",
     "iopub.status.idle": "2023-12-30T04:58:21.451613Z",
     "shell.execute_reply": "2023-12-30T04:58:21.450955Z",
     "shell.execute_reply.started": "2023-12-30T04:58:21.443372Z"
    }
   },
   "outputs": [],
   "source": [
    "from sklearn.feature_selection import mutual_info_classif, mutual_info_regression"
   ]
  },
  {
   "cell_type": "code",
   "execution_count": 96,
   "id": "85e1635c-b7f7-4a01-9a9d-60a84af29a1f",
   "metadata": {
    "execution": {
     "iopub.execute_input": "2023-12-30T04:58:21.452515Z",
     "iopub.status.busy": "2023-12-30T04:58:21.452371Z",
     "iopub.status.idle": "2023-12-30T04:58:26.968368Z",
     "shell.execute_reply": "2023-12-30T04:58:26.967801Z",
     "shell.execute_reply.started": "2023-12-30T04:58:21.452500Z"
    }
   },
   "outputs": [],
   "source": [
    "importances_1 = mutual_info_regression(\n",
    "    train_feats_copy[train_cols].values, train_feats_copy[target_col].values\n",
    ")"
   ]
  },
  {
   "cell_type": "code",
   "execution_count": 97,
   "id": "70720599-5960-4cba-887e-ba14efc87ac1",
   "metadata": {
    "execution": {
     "iopub.execute_input": "2023-12-30T04:58:26.969102Z",
     "iopub.status.busy": "2023-12-30T04:58:26.968969Z",
     "iopub.status.idle": "2023-12-30T04:58:26.971859Z",
     "shell.execute_reply": "2023-12-30T04:58:26.971354Z",
     "shell.execute_reply.started": "2023-12-30T04:58:26.969087Z"
    }
   },
   "outputs": [],
   "source": [
    "ftr_importances_1 = pd.Series(importances_1, train_cols)"
   ]
  },
  {
   "cell_type": "code",
   "execution_count": 98,
   "id": "368ced89-2818-4e3b-be81-ca17a073be50",
   "metadata": {
    "execution": {
     "iopub.execute_input": "2023-12-30T04:58:26.972761Z",
     "iopub.status.busy": "2023-12-30T04:58:26.972560Z",
     "iopub.status.idle": "2023-12-30T04:58:26.987712Z",
     "shell.execute_reply": "2023-12-30T04:58:26.987164Z",
     "shell.execute_reply.started": "2023-12-30T04:58:26.972747Z"
    }
   },
   "outputs": [
    {
     "data": {
      "text/plain": [
       "count    932.000000\n",
       "mean       0.069501\n",
       "std        0.088507\n",
       "min        0.000000\n",
       "25%        0.010440\n",
       "50%        0.037094\n",
       "75%        0.086888\n",
       "max        0.420458\n",
       "dtype: float64"
      ]
     },
     "execution_count": 98,
     "metadata": {},
     "output_type": "execute_result"
    }
   ],
   "source": [
    "ftr_importances_1.describe()"
   ]
  },
  {
   "cell_type": "code",
   "execution_count": 99,
   "id": "33733625-ca76-4232-ac2c-057ea67cac1d",
   "metadata": {
    "execution": {
     "iopub.execute_input": "2023-12-30T04:58:26.988885Z",
     "iopub.status.busy": "2023-12-30T04:58:26.988609Z",
     "iopub.status.idle": "2023-12-30T04:58:26.993047Z",
     "shell.execute_reply": "2023-12-30T04:58:26.992327Z",
     "shell.execute_reply.started": "2023-12-30T04:58:26.988863Z"
    }
   },
   "outputs": [
    {
     "data": {
      "text/plain": [
       "(932,)"
      ]
     },
     "execution_count": 99,
     "metadata": {},
     "output_type": "execute_result"
    }
   ],
   "source": [
    "ftr_importances_1.shape"
   ]
  },
  {
   "cell_type": "code",
   "execution_count": 100,
   "id": "b90790ee-0741-4dcb-b18f-7cfbf2f2dc63",
   "metadata": {
    "execution": {
     "iopub.execute_input": "2023-12-30T04:58:26.994157Z",
     "iopub.status.busy": "2023-12-30T04:58:26.993872Z",
     "iopub.status.idle": "2023-12-30T04:58:27.330660Z",
     "shell.execute_reply": "2023-12-30T04:58:27.329141Z",
     "shell.execute_reply.started": "2023-12-30T04:58:26.994130Z"
    }
   },
   "outputs": [
    {
     "data": {
      "text/plain": [
       "<Axes: >"
      ]
     },
     "execution_count": 100,
     "metadata": {},
     "output_type": "execute_result"
    },
    {
     "data": {
      "image/png": "[encoded data removed]",
      "text/plain": [
       "<Figure size 640x480 with 1 Axes>"
      ]
     },
     "metadata": {},
     "output_type": "display_data"
    }
   ],
   "source": [
    "ftr_importances_1[ftr_importances_1 > 0.01].sort_values(ascending=False).iloc[:25].plot(\n",
    "    kind=\"barh\", color=\"teal\"\n",
    ")"
   ]
  },
  {
   "cell_type": "code",
   "execution_count": 101,
   "id": "a9232df1-ad0f-43fc-9196-8ef62da81cfb",
   "metadata": {
    "execution": {
     "iopub.execute_input": "2023-12-30T04:58:27.332740Z",
     "iopub.status.busy": "2023-12-30T04:58:27.332293Z",
     "iopub.status.idle": "2023-12-30T04:58:27.338330Z",
     "shell.execute_reply": "2023-12-30T04:58:27.336971Z",
     "shell.execute_reply.started": "2023-12-30T04:58:27.332692Z"
    }
   },
   "outputs": [],
   "source": [
    "# ftr_importances_1[ftr_importances_1 <= 0].index.tolist()"
   ]
  },
  {
   "cell_type": "code",
   "execution_count": null,
   "id": "d5a57faa-310d-4d19-8019-a5eea1d4c739",
   "metadata": {},
   "outputs": [],
   "source": []
  },
  {
   "cell_type": "code",
   "execution_count": null,
   "id": "97740406-a4e8-454b-86b0-61c74708369c",
   "metadata": {},
   "outputs": [],
   "source": []
  },
  {
   "cell_type": "markdown",
   "id": "b3008c6e-0126-40f5-8ef3-c981f0d14312",
   "metadata": {},
   "source": [
    "#### Method 2: Dispersion Ratio"
   ]
  },
  {
   "cell_type": "code",
   "execution_count": 102,
   "id": "bdcd3a86-4fd1-4b9b-8ae8-e58a4d78cf5f",
   "metadata": {
    "execution": {
     "iopub.execute_input": "2023-12-30T04:58:27.340449Z",
     "iopub.status.busy": "2023-12-30T04:58:27.339769Z",
     "iopub.status.idle": "2023-12-30T04:58:27.363556Z",
     "shell.execute_reply": "2023-12-30T04:58:27.362722Z",
     "shell.execute_reply.started": "2023-12-30T04:58:27.340403Z"
    }
   },
   "outputs": [],
   "source": [
    "X = train_feats_copy[train_cols].values\n",
    "X = X + 1\n",
    "am = np.mean(X, axis=0)\n",
    "gm = np.power(np.prod(X, axis=0), 1 / X.shape[0])\n",
    "disp_ratio = am / gm"
   ]
  },
  {
   "cell_type": "code",
   "execution_count": 103,
   "id": "b54eabf5-d818-4c8e-b0b1-a5c9e93d2adc",
   "metadata": {
    "execution": {
     "iopub.execute_input": "2023-12-30T04:58:27.364736Z",
     "iopub.status.busy": "2023-12-30T04:58:27.364455Z",
     "iopub.status.idle": "2023-12-30T04:58:27.368464Z",
     "shell.execute_reply": "2023-12-30T04:58:27.368093Z",
     "shell.execute_reply.started": "2023-12-30T04:58:27.364709Z"
    }
   },
   "outputs": [],
   "source": [
    "ftr_importances_2 = pd.Series(disp_ratio, train_cols)"
   ]
  },
  {
   "cell_type": "code",
   "execution_count": 104,
   "id": "4596d54c-72ad-446e-98a6-e7e76272b03f",
   "metadata": {
    "execution": {
     "iopub.execute_input": "2023-12-30T04:58:27.369290Z",
     "iopub.status.busy": "2023-12-30T04:58:27.368951Z",
     "iopub.status.idle": "2023-12-30T04:58:27.377283Z",
     "shell.execute_reply": "2023-12-30T04:58:27.376682Z",
     "shell.execute_reply.started": "2023-12-30T04:58:27.369265Z"
    }
   },
   "outputs": [
    {
     "data": {
      "text/plain": [
       "count    918.00000\n",
       "mean           NaN\n",
       "std            NaN\n",
       "min           -inf\n",
       "25%        0.00000\n",
       "50%        0.00000\n",
       "75%        1.00031\n",
       "max            inf\n",
       "dtype: float64"
      ]
     },
     "execution_count": 104,
     "metadata": {},
     "output_type": "execute_result"
    }
   ],
   "source": [
    "ftr_importances_2.describe()"
   ]
  },
  {
   "cell_type": "code",
   "execution_count": 105,
   "id": "58d31a54-9e83-4431-9451-ed14de2f24a6",
   "metadata": {
    "execution": {
     "iopub.execute_input": "2023-12-30T04:58:27.378105Z",
     "iopub.status.busy": "2023-12-30T04:58:27.377919Z",
     "iopub.status.idle": "2023-12-30T04:58:27.381183Z",
     "shell.execute_reply": "2023-12-30T04:58:27.380735Z",
     "shell.execute_reply.started": "2023-12-30T04:58:27.378087Z"
    }
   },
   "outputs": [],
   "source": [
    "ftr_importances_2 = ftr_importances_2[~np.isinf(ftr_importances_2)]"
   ]
  },
  {
   "cell_type": "code",
   "execution_count": 106,
   "id": "7b14125a-c66e-4964-b1a3-2d3ad7fe753a",
   "metadata": {
    "execution": {
     "iopub.execute_input": "2023-12-30T04:58:27.381891Z",
     "iopub.status.busy": "2023-12-30T04:58:27.381734Z",
     "iopub.status.idle": "2023-12-30T04:58:27.389448Z",
     "shell.execute_reply": "2023-12-30T04:58:27.388941Z",
     "shell.execute_reply.started": "2023-12-30T04:58:27.381875Z"
    }
   },
   "outputs": [
    {
     "data": {
      "text/plain": [
       "count    907.000000\n",
       "mean       0.475079\n",
       "std        0.555213\n",
       "min        0.000000\n",
       "25%        0.000000\n",
       "50%        0.000000\n",
       "75%        1.000310\n",
       "max        4.724577\n",
       "dtype: float64"
      ]
     },
     "execution_count": 106,
     "metadata": {},
     "output_type": "execute_result"
    }
   ],
   "source": [
    "ftr_importances_2.describe()"
   ]
  },
  {
   "cell_type": "code",
   "execution_count": 107,
   "id": "3256af42-7d58-4fd2-bd3d-400106f941da",
   "metadata": {
    "execution": {
     "iopub.execute_input": "2023-12-30T04:58:27.390282Z",
     "iopub.status.busy": "2023-12-30T04:58:27.390124Z",
     "iopub.status.idle": "2023-12-30T04:58:27.651017Z",
     "shell.execute_reply": "2023-12-30T04:58:27.650582Z",
     "shell.execute_reply.started": "2023-12-30T04:58:27.390265Z"
    }
   },
   "outputs": [
    {
     "data": {
      "text/plain": [
       "<Axes: >"
      ]
     },
     "execution_count": 107,
     "metadata": {},
     "output_type": "execute_result"
    },
    {
     "data": {
      "image/png": "[encoded data removed]",
      "text/plain": [
       "<Figure size 640x480 with 1 Axes>"
      ]
     },
     "metadata": {},
     "output_type": "display_data"
    }
   ],
   "source": [
    "ftr_importances_2[ftr_importances_2 > 0].sort_values(ascending=False).iloc[:30].plot(\n",
    "    kind=\"barh\", color=\"teal\"\n",
    ")"
   ]
  },
  {
   "cell_type": "markdown",
   "id": "29964ffb-0981-4966-a28f-a61a7a15194b",
   "metadata": {},
   "source": [
    "### Method 3: Exhaustive feature selection"
   ]
  },
  {
   "cell_type": "code",
   "execution_count": 108,
   "id": "84a4ebfe-9343-4736-a837-38c3e25299be",
   "metadata": {
    "execution": {
     "iopub.execute_input": "2023-12-30T04:58:27.651675Z",
     "iopub.status.busy": "2023-12-30T04:58:27.651533Z",
     "iopub.status.idle": "2023-12-30T04:58:27.656141Z",
     "shell.execute_reply": "2023-12-30T04:58:27.655543Z",
     "shell.execute_reply.started": "2023-12-30T04:58:27.651659Z"
    }
   },
   "outputs": [],
   "source": [
    "from mlxtend.feature_selection import ExhaustiveFeatureSelector as EFS\n",
    "from sklearn.linear_model import LinearRegression"
   ]
  },
  {
   "cell_type": "code",
   "execution_count": 109,
   "id": "dda49f2a-fd83-4bf6-b766-7203ada1ab02",
   "metadata": {
    "execution": {
     "iopub.execute_input": "2023-12-30T04:58:27.658288Z",
     "iopub.status.busy": "2023-12-30T04:58:27.657933Z",
     "iopub.status.idle": "2023-12-30T13:33:09.359308Z",
     "shell.execute_reply": "2023-12-30T13:33:09.358577Z",
     "shell.execute_reply.started": "2023-12-30T04:58:27.658259Z"
    }
   },
   "outputs": [
    {
     "ename": "KeyboardInterrupt",
     "evalue": "",
     "output_type": "error",
     "traceback": [
      "\u001b[0;31m---------------------------------------------------------------------------\u001b[0m",
      "\u001b[0;31mKeyboardInterrupt\u001b[0m                         Traceback (most recent call last)",
      "Cell \u001b[0;32mIn[109], line 12\u001b[0m\n\u001b[1;32m      3\u001b[0m lr \u001b[38;5;241m=\u001b[39m LinearRegression()\n\u001b[1;32m      5\u001b[0m efs1 \u001b[38;5;241m=\u001b[39m EFS(lr,\n\u001b[1;32m      6\u001b[0m            min_features\u001b[38;5;241m=\u001b[39m\u001b[38;5;241m50\u001b[39m,\n\u001b[1;32m      7\u001b[0m            max_features\u001b[38;5;241m=\u001b[39m\u001b[38;5;241m300\u001b[39m,\n\u001b[1;32m      8\u001b[0m            scoring\u001b[38;5;241m=\u001b[39m\u001b[38;5;124m'\u001b[39m\u001b[38;5;124mneg_root_mean_squared_error\u001b[39m\u001b[38;5;124m'\u001b[39m,\n\u001b[1;32m      9\u001b[0m            print_progress\u001b[38;5;241m=\u001b[39m\u001b[38;5;28;01mTrue\u001b[39;00m,\n\u001b[1;32m     10\u001b[0m            cv\u001b[38;5;241m=\u001b[39m\u001b[38;5;241m5\u001b[39m)\n\u001b[0;32m---> 12\u001b[0m efs1 \u001b[38;5;241m=\u001b[39m \u001b[43mefs1\u001b[49m\u001b[38;5;241;43m.\u001b[39;49m\u001b[43mfit\u001b[49m\u001b[43m(\u001b[49m\u001b[43mX\u001b[49m\u001b[43m,\u001b[49m\u001b[43m \u001b[49m\u001b[43my\u001b[49m\u001b[43m)\u001b[49m\n\u001b[1;32m     14\u001b[0m \u001b[38;5;28mprint\u001b[39m(\u001b[38;5;124m'\u001b[39m\u001b[38;5;124mBest rmse score: \u001b[39m\u001b[38;5;132;01m%.2f\u001b[39;00m\u001b[38;5;124m'\u001b[39m \u001b[38;5;241m%\u001b[39m efs1\u001b[38;5;241m.\u001b[39mbest_score_)\n\u001b[1;32m     15\u001b[0m \u001b[38;5;28mprint\u001b[39m(\u001b[38;5;124m'\u001b[39m\u001b[38;5;124mBest subset (indices):\u001b[39m\u001b[38;5;124m'\u001b[39m, efs1\u001b[38;5;241m.\u001b[39mbest_idx_)\n",
      "File \u001b[0;32m~/Desktop/kaggle/virtualenvs/writing_quality/lib/python3.9/site-packages/mlxtend/feature_selection/exhaustive_feature_selector.py:444\u001b[0m, in \u001b[0;36mExhaustiveFeatureSelector.fit\u001b[0;34m(self, X, y, groups, **fit_params)\u001b[0m\n\u001b[1;32m    441\u001b[0m n_jobs \u001b[38;5;241m=\u001b[39m \u001b[38;5;28mmin\u001b[39m(\u001b[38;5;28mself\u001b[39m\u001b[38;5;241m.\u001b[39mn_jobs, all_comb)\n\u001b[1;32m    442\u001b[0m parallel \u001b[38;5;241m=\u001b[39m Parallel(n_jobs\u001b[38;5;241m=\u001b[39mn_jobs, pre_dispatch\u001b[38;5;241m=\u001b[39m\u001b[38;5;28mself\u001b[39m\u001b[38;5;241m.\u001b[39mpre_dispatch)\n\u001b[1;32m    443\u001b[0m work \u001b[38;5;241m=\u001b[39m \u001b[38;5;28menumerate\u001b[39m(\n\u001b[0;32m--> 444\u001b[0m     \u001b[43mparallel\u001b[49m\u001b[43m(\u001b[49m\n\u001b[1;32m    445\u001b[0m \u001b[43m        \u001b[49m\u001b[43mdelayed\u001b[49m\u001b[43m(\u001b[49m\u001b[43m_calc_score\u001b[49m\u001b[43m)\u001b[49m\u001b[43m(\u001b[49m\n\u001b[1;32m    446\u001b[0m \u001b[43m            \u001b[49m\u001b[38;5;28;43mself\u001b[39;49m\u001b[43m,\u001b[49m\n\u001b[1;32m    447\u001b[0m \u001b[43m            \u001b[49m\u001b[43mX_\u001b[49m\u001b[43m,\u001b[49m\n\u001b[1;32m    448\u001b[0m \u001b[43m            \u001b[49m\u001b[43my\u001b[49m\u001b[43m,\u001b[49m\n\u001b[1;32m    449\u001b[0m \u001b[43m            \u001b[49m\u001b[38;5;28;43mlist\u001b[39;49m\u001b[43m(\u001b[49m\u001b[38;5;28;43mset\u001b[39;49m\u001b[43m(\u001b[49m\u001b[43mc\u001b[49m\u001b[43m)\u001b[49m\u001b[38;5;241;43m.\u001b[39;49m\u001b[43munion\u001b[49m\u001b[43m(\u001b[49m\u001b[38;5;28;43mself\u001b[39;49m\u001b[38;5;241;43m.\u001b[39;49m\u001b[43mfixed_features_group_set\u001b[49m\u001b[43m)\u001b[49m\u001b[43m)\u001b[49m\u001b[43m,\u001b[49m\n\u001b[1;32m    450\u001b[0m \u001b[43m            \u001b[49m\u001b[43mgroups\u001b[49m\u001b[38;5;241;43m=\u001b[39;49m\u001b[43mgroups\u001b[49m\u001b[43m,\u001b[49m\n\u001b[1;32m    451\u001b[0m \u001b[43m            \u001b[49m\u001b[43mfeature_groups\u001b[49m\u001b[38;5;241;43m=\u001b[39;49m\u001b[38;5;28;43mself\u001b[39;49m\u001b[38;5;241;43m.\u001b[39;49m\u001b[43mfeature_groups\u001b[49m\u001b[43m,\u001b[49m\n\u001b[1;32m    452\u001b[0m \u001b[43m            \u001b[49m\u001b[38;5;241;43m*\u001b[39;49m\u001b[38;5;241;43m*\u001b[39;49m\u001b[43mfit_params\u001b[49m\u001b[43m,\u001b[49m\n\u001b[1;32m    453\u001b[0m \u001b[43m        \u001b[49m\u001b[43m)\u001b[49m\n\u001b[1;32m    454\u001b[0m \u001b[43m        \u001b[49m\u001b[38;5;28;43;01mfor\u001b[39;49;00m\u001b[43m \u001b[49m\u001b[43mc\u001b[49m\u001b[43m \u001b[49m\u001b[38;5;129;43;01min\u001b[39;49;00m\u001b[43m \u001b[49m\u001b[43mcandidates\u001b[49m\n\u001b[1;32m    455\u001b[0m \u001b[43m    \u001b[49m\u001b[43m)\u001b[49m\n\u001b[1;32m    456\u001b[0m )\n\u001b[1;32m    458\u001b[0m \u001b[38;5;28;01mtry\u001b[39;00m:\n\u001b[1;32m    459\u001b[0m     \u001b[38;5;28;01mfor\u001b[39;00m iteration, (indices, cv_scores) \u001b[38;5;129;01min\u001b[39;00m work:\n",
      "File \u001b[0;32m~/Desktop/kaggle/virtualenvs/writing_quality/lib/python3.9/site-packages/joblib/parallel.py:1863\u001b[0m, in \u001b[0;36mParallel.__call__\u001b[0;34m(self, iterable)\u001b[0m\n\u001b[1;32m   1861\u001b[0m     output \u001b[38;5;241m=\u001b[39m \u001b[38;5;28mself\u001b[39m\u001b[38;5;241m.\u001b[39m_get_sequential_output(iterable)\n\u001b[1;32m   1862\u001b[0m     \u001b[38;5;28mnext\u001b[39m(output)\n\u001b[0;32m-> 1863\u001b[0m     \u001b[38;5;28;01mreturn\u001b[39;00m output \u001b[38;5;28;01mif\u001b[39;00m \u001b[38;5;28mself\u001b[39m\u001b[38;5;241m.\u001b[39mreturn_generator \u001b[38;5;28;01melse\u001b[39;00m \u001b[38;5;28;43mlist\u001b[39;49m\u001b[43m(\u001b[49m\u001b[43moutput\u001b[49m\u001b[43m)\u001b[49m\n\u001b[1;32m   1865\u001b[0m \u001b[38;5;66;03m# Let's create an ID that uniquely identifies the current call. If the\u001b[39;00m\n\u001b[1;32m   1866\u001b[0m \u001b[38;5;66;03m# call is interrupted early and that the same instance is immediately\u001b[39;00m\n\u001b[1;32m   1867\u001b[0m \u001b[38;5;66;03m# re-used, this id will be used to prevent workers that were\u001b[39;00m\n\u001b[1;32m   1868\u001b[0m \u001b[38;5;66;03m# concurrently finalizing a task from the previous call to run the\u001b[39;00m\n\u001b[1;32m   1869\u001b[0m \u001b[38;5;66;03m# callback.\u001b[39;00m\n\u001b[1;32m   1870\u001b[0m \u001b[38;5;28;01mwith\u001b[39;00m \u001b[38;5;28mself\u001b[39m\u001b[38;5;241m.\u001b[39m_lock:\n",
      "File \u001b[0;32m~/Desktop/kaggle/virtualenvs/writing_quality/lib/python3.9/site-packages/joblib/parallel.py:1792\u001b[0m, in \u001b[0;36mParallel._get_sequential_output\u001b[0;34m(self, iterable)\u001b[0m\n\u001b[1;32m   1790\u001b[0m \u001b[38;5;28mself\u001b[39m\u001b[38;5;241m.\u001b[39mn_dispatched_batches \u001b[38;5;241m+\u001b[39m\u001b[38;5;241m=\u001b[39m \u001b[38;5;241m1\u001b[39m\n\u001b[1;32m   1791\u001b[0m \u001b[38;5;28mself\u001b[39m\u001b[38;5;241m.\u001b[39mn_dispatched_tasks \u001b[38;5;241m+\u001b[39m\u001b[38;5;241m=\u001b[39m \u001b[38;5;241m1\u001b[39m\n\u001b[0;32m-> 1792\u001b[0m res \u001b[38;5;241m=\u001b[39m \u001b[43mfunc\u001b[49m\u001b[43m(\u001b[49m\u001b[38;5;241;43m*\u001b[39;49m\u001b[43margs\u001b[49m\u001b[43m,\u001b[49m\u001b[43m \u001b[49m\u001b[38;5;241;43m*\u001b[39;49m\u001b[38;5;241;43m*\u001b[39;49m\u001b[43mkwargs\u001b[49m\u001b[43m)\u001b[49m\n\u001b[1;32m   1793\u001b[0m \u001b[38;5;28mself\u001b[39m\u001b[38;5;241m.\u001b[39mn_completed_tasks \u001b[38;5;241m+\u001b[39m\u001b[38;5;241m=\u001b[39m \u001b[38;5;241m1\u001b[39m\n\u001b[1;32m   1794\u001b[0m \u001b[38;5;28mself\u001b[39m\u001b[38;5;241m.\u001b[39mprint_progress()\n",
      "File \u001b[0;32m~/Desktop/kaggle/virtualenvs/writing_quality/lib/python3.9/site-packages/mlxtend/feature_selection/utilities.py:98\u001b[0m, in \u001b[0;36m_calc_score\u001b[0;34m(selector, X, y, indices, groups, feature_groups, **fit_params)\u001b[0m\n\u001b[1;32m     96\u001b[0m IDX \u001b[38;5;241m=\u001b[39m _merge_lists(feature_groups, indices)\n\u001b[1;32m     97\u001b[0m \u001b[38;5;28;01mif\u001b[39;00m selector\u001b[38;5;241m.\u001b[39mcv:\n\u001b[0;32m---> 98\u001b[0m     scores \u001b[38;5;241m=\u001b[39m \u001b[43mcross_val_score\u001b[49m\u001b[43m(\u001b[49m\n\u001b[1;32m     99\u001b[0m \u001b[43m        \u001b[49m\u001b[43mselector\u001b[49m\u001b[38;5;241;43m.\u001b[39;49m\u001b[43mest_\u001b[49m\u001b[43m,\u001b[49m\n\u001b[1;32m    100\u001b[0m \u001b[43m        \u001b[49m\u001b[43mX\u001b[49m\u001b[43m[\u001b[49m\u001b[43m:\u001b[49m\u001b[43m,\u001b[49m\u001b[43m \u001b[49m\u001b[43mIDX\u001b[49m\u001b[43m]\u001b[49m\u001b[43m,\u001b[49m\n\u001b[1;32m    101\u001b[0m \u001b[43m        \u001b[49m\u001b[43my\u001b[49m\u001b[43m,\u001b[49m\n\u001b[1;32m    102\u001b[0m \u001b[43m        \u001b[49m\u001b[43mgroups\u001b[49m\u001b[38;5;241;43m=\u001b[39;49m\u001b[43mgroups\u001b[49m\u001b[43m,\u001b[49m\n\u001b[1;32m    103\u001b[0m \u001b[43m        \u001b[49m\u001b[43mcv\u001b[49m\u001b[38;5;241;43m=\u001b[39;49m\u001b[43mselector\u001b[49m\u001b[38;5;241;43m.\u001b[39;49m\u001b[43mcv\u001b[49m\u001b[43m,\u001b[49m\n\u001b[1;32m    104\u001b[0m \u001b[43m        \u001b[49m\u001b[43mscoring\u001b[49m\u001b[38;5;241;43m=\u001b[39;49m\u001b[43mselector\u001b[49m\u001b[38;5;241;43m.\u001b[39;49m\u001b[43mscorer\u001b[49m\u001b[43m,\u001b[49m\n\u001b[1;32m    105\u001b[0m \u001b[43m        \u001b[49m\u001b[43mn_jobs\u001b[49m\u001b[38;5;241;43m=\u001b[39;49m\u001b[38;5;241;43m1\u001b[39;49m\u001b[43m,\u001b[49m\n\u001b[1;32m    106\u001b[0m \u001b[43m        \u001b[49m\u001b[43mpre_dispatch\u001b[49m\u001b[38;5;241;43m=\u001b[39;49m\u001b[43mselector\u001b[49m\u001b[38;5;241;43m.\u001b[39;49m\u001b[43mpre_dispatch\u001b[49m\u001b[43m,\u001b[49m\n\u001b[1;32m    107\u001b[0m \u001b[43m        \u001b[49m\u001b[43mfit_params\u001b[49m\u001b[38;5;241;43m=\u001b[39;49m\u001b[43mfit_params\u001b[49m\u001b[43m,\u001b[49m\n\u001b[1;32m    108\u001b[0m \u001b[43m    \u001b[49m\u001b[43m)\u001b[49m\n\u001b[1;32m    109\u001b[0m \u001b[38;5;28;01melse\u001b[39;00m:\n\u001b[1;32m    110\u001b[0m     selector\u001b[38;5;241m.\u001b[39mest_\u001b[38;5;241m.\u001b[39mfit(X[:, IDX], y, \u001b[38;5;241m*\u001b[39m\u001b[38;5;241m*\u001b[39mfit_params)\n",
      "File \u001b[0;32m~/Desktop/kaggle/virtualenvs/writing_quality/lib/python3.9/site-packages/sklearn/model_selection/_validation.py:562\u001b[0m, in \u001b[0;36mcross_val_score\u001b[0;34m(estimator, X, y, groups, scoring, cv, n_jobs, verbose, fit_params, pre_dispatch, error_score)\u001b[0m\n\u001b[1;32m    559\u001b[0m \u001b[38;5;66;03m# To ensure multimetric format is not supported\u001b[39;00m\n\u001b[1;32m    560\u001b[0m scorer \u001b[38;5;241m=\u001b[39m check_scoring(estimator, scoring\u001b[38;5;241m=\u001b[39mscoring)\n\u001b[0;32m--> 562\u001b[0m cv_results \u001b[38;5;241m=\u001b[39m \u001b[43mcross_validate\u001b[49m\u001b[43m(\u001b[49m\n\u001b[1;32m    563\u001b[0m \u001b[43m    \u001b[49m\u001b[43mestimator\u001b[49m\u001b[38;5;241;43m=\u001b[39;49m\u001b[43mestimator\u001b[49m\u001b[43m,\u001b[49m\n\u001b[1;32m    564\u001b[0m \u001b[43m    \u001b[49m\u001b[43mX\u001b[49m\u001b[38;5;241;43m=\u001b[39;49m\u001b[43mX\u001b[49m\u001b[43m,\u001b[49m\n\u001b[1;32m    565\u001b[0m \u001b[43m    \u001b[49m\u001b[43my\u001b[49m\u001b[38;5;241;43m=\u001b[39;49m\u001b[43my\u001b[49m\u001b[43m,\u001b[49m\n\u001b[1;32m    566\u001b[0m \u001b[43m    \u001b[49m\u001b[43mgroups\u001b[49m\u001b[38;5;241;43m=\u001b[39;49m\u001b[43mgroups\u001b[49m\u001b[43m,\u001b[49m\n\u001b[1;32m    567\u001b[0m \u001b[43m    \u001b[49m\u001b[43mscoring\u001b[49m\u001b[38;5;241;43m=\u001b[39;49m\u001b[43m{\u001b[49m\u001b[38;5;124;43m\"\u001b[39;49m\u001b[38;5;124;43mscore\u001b[39;49m\u001b[38;5;124;43m\"\u001b[39;49m\u001b[43m:\u001b[49m\u001b[43m \u001b[49m\u001b[43mscorer\u001b[49m\u001b[43m}\u001b[49m\u001b[43m,\u001b[49m\n\u001b[1;32m    568\u001b[0m \u001b[43m    \u001b[49m\u001b[43mcv\u001b[49m\u001b[38;5;241;43m=\u001b[39;49m\u001b[43mcv\u001b[49m\u001b[43m,\u001b[49m\n\u001b[1;32m    569\u001b[0m \u001b[43m    \u001b[49m\u001b[43mn_jobs\u001b[49m\u001b[38;5;241;43m=\u001b[39;49m\u001b[43mn_jobs\u001b[49m\u001b[43m,\u001b[49m\n\u001b[1;32m    570\u001b[0m \u001b[43m    \u001b[49m\u001b[43mverbose\u001b[49m\u001b[38;5;241;43m=\u001b[39;49m\u001b[43mverbose\u001b[49m\u001b[43m,\u001b[49m\n\u001b[1;32m    571\u001b[0m \u001b[43m    \u001b[49m\u001b[43mfit_params\u001b[49m\u001b[38;5;241;43m=\u001b[39;49m\u001b[43mfit_params\u001b[49m\u001b[43m,\u001b[49m\n\u001b[1;32m    572\u001b[0m \u001b[43m    \u001b[49m\u001b[43mpre_dispatch\u001b[49m\u001b[38;5;241;43m=\u001b[39;49m\u001b[43mpre_dispatch\u001b[49m\u001b[43m,\u001b[49m\n\u001b[1;32m    573\u001b[0m \u001b[43m    \u001b[49m\u001b[43merror_score\u001b[49m\u001b[38;5;241;43m=\u001b[39;49m\u001b[43merror_score\u001b[49m\u001b[43m,\u001b[49m\n\u001b[1;32m    574\u001b[0m \u001b[43m\u001b[49m\u001b[43m)\u001b[49m\n\u001b[1;32m    575\u001b[0m \u001b[38;5;28;01mreturn\u001b[39;00m cv_results[\u001b[38;5;124m\"\u001b[39m\u001b[38;5;124mtest_score\u001b[39m\u001b[38;5;124m\"\u001b[39m]\n",
      "File \u001b[0;32m~/Desktop/kaggle/virtualenvs/writing_quality/lib/python3.9/site-packages/sklearn/utils/_param_validation.py:211\u001b[0m, in \u001b[0;36mvalidate_params.<locals>.decorator.<locals>.wrapper\u001b[0;34m(*args, **kwargs)\u001b[0m\n\u001b[1;32m    205\u001b[0m \u001b[38;5;28;01mtry\u001b[39;00m:\n\u001b[1;32m    206\u001b[0m     \u001b[38;5;28;01mwith\u001b[39;00m config_context(\n\u001b[1;32m    207\u001b[0m         skip_parameter_validation\u001b[38;5;241m=\u001b[39m(\n\u001b[1;32m    208\u001b[0m             prefer_skip_nested_validation \u001b[38;5;129;01mor\u001b[39;00m global_skip_validation\n\u001b[1;32m    209\u001b[0m         )\n\u001b[1;32m    210\u001b[0m     ):\n\u001b[0;32m--> 211\u001b[0m         \u001b[38;5;28;01mreturn\u001b[39;00m \u001b[43mfunc\u001b[49m\u001b[43m(\u001b[49m\u001b[38;5;241;43m*\u001b[39;49m\u001b[43margs\u001b[49m\u001b[43m,\u001b[49m\u001b[43m \u001b[49m\u001b[38;5;241;43m*\u001b[39;49m\u001b[38;5;241;43m*\u001b[39;49m\u001b[43mkwargs\u001b[49m\u001b[43m)\u001b[49m\n\u001b[1;32m    212\u001b[0m \u001b[38;5;28;01mexcept\u001b[39;00m InvalidParameterError \u001b[38;5;28;01mas\u001b[39;00m e:\n\u001b[1;32m    213\u001b[0m     \u001b[38;5;66;03m# When the function is just a wrapper around an estimator, we allow\u001b[39;00m\n\u001b[1;32m    214\u001b[0m     \u001b[38;5;66;03m# the function to delegate validation to the estimator, but we replace\u001b[39;00m\n\u001b[1;32m    215\u001b[0m     \u001b[38;5;66;03m# the name of the estimator by the name of the function in the error\u001b[39;00m\n\u001b[1;32m    216\u001b[0m     \u001b[38;5;66;03m# message to avoid confusion.\u001b[39;00m\n\u001b[1;32m    217\u001b[0m     msg \u001b[38;5;241m=\u001b[39m re\u001b[38;5;241m.\u001b[39msub(\n\u001b[1;32m    218\u001b[0m         \u001b[38;5;124mr\u001b[39m\u001b[38;5;124m\"\u001b[39m\u001b[38;5;124mparameter of \u001b[39m\u001b[38;5;124m\\\u001b[39m\u001b[38;5;124mw+ must be\u001b[39m\u001b[38;5;124m\"\u001b[39m,\n\u001b[1;32m    219\u001b[0m         \u001b[38;5;124mf\u001b[39m\u001b[38;5;124m\"\u001b[39m\u001b[38;5;124mparameter of \u001b[39m\u001b[38;5;132;01m{\u001b[39;00mfunc\u001b[38;5;241m.\u001b[39m\u001b[38;5;18m__qualname__\u001b[39m\u001b[38;5;132;01m}\u001b[39;00m\u001b[38;5;124m must be\u001b[39m\u001b[38;5;124m\"\u001b[39m,\n\u001b[1;32m    220\u001b[0m         \u001b[38;5;28mstr\u001b[39m(e),\n\u001b[1;32m    221\u001b[0m     )\n",
      "File \u001b[0;32m~/Desktop/kaggle/virtualenvs/writing_quality/lib/python3.9/site-packages/sklearn/model_selection/_validation.py:309\u001b[0m, in \u001b[0;36mcross_validate\u001b[0;34m(estimator, X, y, groups, scoring, cv, n_jobs, verbose, fit_params, pre_dispatch, return_train_score, return_estimator, return_indices, error_score)\u001b[0m\n\u001b[1;32m    306\u001b[0m \u001b[38;5;66;03m# We clone the estimator to make sure that all the folds are\u001b[39;00m\n\u001b[1;32m    307\u001b[0m \u001b[38;5;66;03m# independent, and that it is pickle-able.\u001b[39;00m\n\u001b[1;32m    308\u001b[0m parallel \u001b[38;5;241m=\u001b[39m Parallel(n_jobs\u001b[38;5;241m=\u001b[39mn_jobs, verbose\u001b[38;5;241m=\u001b[39mverbose, pre_dispatch\u001b[38;5;241m=\u001b[39mpre_dispatch)\n\u001b[0;32m--> 309\u001b[0m results \u001b[38;5;241m=\u001b[39m \u001b[43mparallel\u001b[49m\u001b[43m(\u001b[49m\n\u001b[1;32m    310\u001b[0m \u001b[43m    \u001b[49m\u001b[43mdelayed\u001b[49m\u001b[43m(\u001b[49m\u001b[43m_fit_and_score\u001b[49m\u001b[43m)\u001b[49m\u001b[43m(\u001b[49m\n\u001b[1;32m    311\u001b[0m \u001b[43m        \u001b[49m\u001b[43mclone\u001b[49m\u001b[43m(\u001b[49m\u001b[43mestimator\u001b[49m\u001b[43m)\u001b[49m\u001b[43m,\u001b[49m\n\u001b[1;32m    312\u001b[0m \u001b[43m        \u001b[49m\u001b[43mX\u001b[49m\u001b[43m,\u001b[49m\n\u001b[1;32m    313\u001b[0m \u001b[43m        \u001b[49m\u001b[43my\u001b[49m\u001b[43m,\u001b[49m\n\u001b[1;32m    314\u001b[0m \u001b[43m        \u001b[49m\u001b[43mscorers\u001b[49m\u001b[43m,\u001b[49m\n\u001b[1;32m    315\u001b[0m \u001b[43m        \u001b[49m\u001b[43mtrain\u001b[49m\u001b[43m,\u001b[49m\n\u001b[1;32m    316\u001b[0m \u001b[43m        \u001b[49m\u001b[43mtest\u001b[49m\u001b[43m,\u001b[49m\n\u001b[1;32m    317\u001b[0m \u001b[43m        \u001b[49m\u001b[43mverbose\u001b[49m\u001b[43m,\u001b[49m\n\u001b[1;32m    318\u001b[0m \u001b[43m        \u001b[49m\u001b[38;5;28;43;01mNone\u001b[39;49;00m\u001b[43m,\u001b[49m\n\u001b[1;32m    319\u001b[0m \u001b[43m        \u001b[49m\u001b[43mfit_params\u001b[49m\u001b[43m,\u001b[49m\n\u001b[1;32m    320\u001b[0m \u001b[43m        \u001b[49m\u001b[43mreturn_train_score\u001b[49m\u001b[38;5;241;43m=\u001b[39;49m\u001b[43mreturn_train_score\u001b[49m\u001b[43m,\u001b[49m\n\u001b[1;32m    321\u001b[0m \u001b[43m        \u001b[49m\u001b[43mreturn_times\u001b[49m\u001b[38;5;241;43m=\u001b[39;49m\u001b[38;5;28;43;01mTrue\u001b[39;49;00m\u001b[43m,\u001b[49m\n\u001b[1;32m    322\u001b[0m \u001b[43m        \u001b[49m\u001b[43mreturn_estimator\u001b[49m\u001b[38;5;241;43m=\u001b[39;49m\u001b[43mreturn_estimator\u001b[49m\u001b[43m,\u001b[49m\n\u001b[1;32m    323\u001b[0m \u001b[43m        \u001b[49m\u001b[43merror_score\u001b[49m\u001b[38;5;241;43m=\u001b[39;49m\u001b[43merror_score\u001b[49m\u001b[43m,\u001b[49m\n\u001b[1;32m    324\u001b[0m \u001b[43m    \u001b[49m\u001b[43m)\u001b[49m\n\u001b[1;32m    325\u001b[0m \u001b[43m    \u001b[49m\u001b[38;5;28;43;01mfor\u001b[39;49;00m\u001b[43m \u001b[49m\u001b[43mtrain\u001b[49m\u001b[43m,\u001b[49m\u001b[43m \u001b[49m\u001b[43mtest\u001b[49m\u001b[43m \u001b[49m\u001b[38;5;129;43;01min\u001b[39;49;00m\u001b[43m \u001b[49m\u001b[43mindices\u001b[49m\n\u001b[1;32m    326\u001b[0m \u001b[43m\u001b[49m\u001b[43m)\u001b[49m\n\u001b[1;32m    328\u001b[0m _warn_or_raise_about_fit_failures(results, error_score)\n\u001b[1;32m    330\u001b[0m \u001b[38;5;66;03m# For callable scoring, the return type is only know after calling. If the\u001b[39;00m\n\u001b[1;32m    331\u001b[0m \u001b[38;5;66;03m# return type is a dictionary, the error scores can now be inserted with\u001b[39;00m\n\u001b[1;32m    332\u001b[0m \u001b[38;5;66;03m# the correct key.\u001b[39;00m\n",
      "File \u001b[0;32m~/Desktop/kaggle/virtualenvs/writing_quality/lib/python3.9/site-packages/sklearn/utils/parallel.py:65\u001b[0m, in \u001b[0;36mParallel.__call__\u001b[0;34m(self, iterable)\u001b[0m\n\u001b[1;32m     60\u001b[0m config \u001b[38;5;241m=\u001b[39m get_config()\n\u001b[1;32m     61\u001b[0m iterable_with_config \u001b[38;5;241m=\u001b[39m (\n\u001b[1;32m     62\u001b[0m     (_with_config(delayed_func, config), args, kwargs)\n\u001b[1;32m     63\u001b[0m     \u001b[38;5;28;01mfor\u001b[39;00m delayed_func, args, kwargs \u001b[38;5;129;01min\u001b[39;00m iterable\n\u001b[1;32m     64\u001b[0m )\n\u001b[0;32m---> 65\u001b[0m \u001b[38;5;28;01mreturn\u001b[39;00m \u001b[38;5;28;43msuper\u001b[39;49m\u001b[43m(\u001b[49m\u001b[43m)\u001b[49m\u001b[38;5;241;43m.\u001b[39;49m\u001b[38;5;21;43m__call__\u001b[39;49m\u001b[43m(\u001b[49m\u001b[43miterable_with_config\u001b[49m\u001b[43m)\u001b[49m\n",
      "File \u001b[0;32m~/Desktop/kaggle/virtualenvs/writing_quality/lib/python3.9/site-packages/joblib/parallel.py:1863\u001b[0m, in \u001b[0;36mParallel.__call__\u001b[0;34m(self, iterable)\u001b[0m\n\u001b[1;32m   1861\u001b[0m     output \u001b[38;5;241m=\u001b[39m \u001b[38;5;28mself\u001b[39m\u001b[38;5;241m.\u001b[39m_get_sequential_output(iterable)\n\u001b[1;32m   1862\u001b[0m     \u001b[38;5;28mnext\u001b[39m(output)\n\u001b[0;32m-> 1863\u001b[0m     \u001b[38;5;28;01mreturn\u001b[39;00m output \u001b[38;5;28;01mif\u001b[39;00m \u001b[38;5;28mself\u001b[39m\u001b[38;5;241m.\u001b[39mreturn_generator \u001b[38;5;28;01melse\u001b[39;00m \u001b[38;5;28;43mlist\u001b[39;49m\u001b[43m(\u001b[49m\u001b[43moutput\u001b[49m\u001b[43m)\u001b[49m\n\u001b[1;32m   1865\u001b[0m \u001b[38;5;66;03m# Let's create an ID that uniquely identifies the current call. If the\u001b[39;00m\n\u001b[1;32m   1866\u001b[0m \u001b[38;5;66;03m# call is interrupted early and that the same instance is immediately\u001b[39;00m\n\u001b[1;32m   1867\u001b[0m \u001b[38;5;66;03m# re-used, this id will be used to prevent workers that were\u001b[39;00m\n\u001b[1;32m   1868\u001b[0m \u001b[38;5;66;03m# concurrently finalizing a task from the previous call to run the\u001b[39;00m\n\u001b[1;32m   1869\u001b[0m \u001b[38;5;66;03m# callback.\u001b[39;00m\n\u001b[1;32m   1870\u001b[0m \u001b[38;5;28;01mwith\u001b[39;00m \u001b[38;5;28mself\u001b[39m\u001b[38;5;241m.\u001b[39m_lock:\n",
      "File \u001b[0;32m~/Desktop/kaggle/virtualenvs/writing_quality/lib/python3.9/site-packages/joblib/parallel.py:1792\u001b[0m, in \u001b[0;36mParallel._get_sequential_output\u001b[0;34m(self, iterable)\u001b[0m\n\u001b[1;32m   1790\u001b[0m \u001b[38;5;28mself\u001b[39m\u001b[38;5;241m.\u001b[39mn_dispatched_batches \u001b[38;5;241m+\u001b[39m\u001b[38;5;241m=\u001b[39m \u001b[38;5;241m1\u001b[39m\n\u001b[1;32m   1791\u001b[0m \u001b[38;5;28mself\u001b[39m\u001b[38;5;241m.\u001b[39mn_dispatched_tasks \u001b[38;5;241m+\u001b[39m\u001b[38;5;241m=\u001b[39m \u001b[38;5;241m1\u001b[39m\n\u001b[0;32m-> 1792\u001b[0m res \u001b[38;5;241m=\u001b[39m \u001b[43mfunc\u001b[49m\u001b[43m(\u001b[49m\u001b[38;5;241;43m*\u001b[39;49m\u001b[43margs\u001b[49m\u001b[43m,\u001b[49m\u001b[43m \u001b[49m\u001b[38;5;241;43m*\u001b[39;49m\u001b[38;5;241;43m*\u001b[39;49m\u001b[43mkwargs\u001b[49m\u001b[43m)\u001b[49m\n\u001b[1;32m   1793\u001b[0m \u001b[38;5;28mself\u001b[39m\u001b[38;5;241m.\u001b[39mn_completed_tasks \u001b[38;5;241m+\u001b[39m\u001b[38;5;241m=\u001b[39m \u001b[38;5;241m1\u001b[39m\n\u001b[1;32m   1794\u001b[0m \u001b[38;5;28mself\u001b[39m\u001b[38;5;241m.\u001b[39mprint_progress()\n",
      "File \u001b[0;32m~/Desktop/kaggle/virtualenvs/writing_quality/lib/python3.9/site-packages/sklearn/utils/parallel.py:127\u001b[0m, in \u001b[0;36m_FuncWrapper.__call__\u001b[0;34m(self, *args, **kwargs)\u001b[0m\n\u001b[1;32m    125\u001b[0m     config \u001b[38;5;241m=\u001b[39m {}\n\u001b[1;32m    126\u001b[0m \u001b[38;5;28;01mwith\u001b[39;00m config_context(\u001b[38;5;241m*\u001b[39m\u001b[38;5;241m*\u001b[39mconfig):\n\u001b[0;32m--> 127\u001b[0m     \u001b[38;5;28;01mreturn\u001b[39;00m \u001b[38;5;28;43mself\u001b[39;49m\u001b[38;5;241;43m.\u001b[39;49m\u001b[43mfunction\u001b[49m\u001b[43m(\u001b[49m\u001b[38;5;241;43m*\u001b[39;49m\u001b[43margs\u001b[49m\u001b[43m,\u001b[49m\u001b[43m \u001b[49m\u001b[38;5;241;43m*\u001b[39;49m\u001b[38;5;241;43m*\u001b[39;49m\u001b[43mkwargs\u001b[49m\u001b[43m)\u001b[49m\n",
      "File \u001b[0;32m~/Desktop/kaggle/virtualenvs/writing_quality/lib/python3.9/site-packages/sklearn/model_selection/_validation.py:751\u001b[0m, in \u001b[0;36m_fit_and_score\u001b[0;34m(estimator, X, y, scorer, train, test, verbose, parameters, fit_params, return_train_score, return_parameters, return_n_test_samples, return_times, return_estimator, split_progress, candidate_progress, error_score)\u001b[0m\n\u001b[1;32m    748\u001b[0m result[\u001b[38;5;124m\"\u001b[39m\u001b[38;5;124mfit_error\u001b[39m\u001b[38;5;124m\"\u001b[39m] \u001b[38;5;241m=\u001b[39m \u001b[38;5;28;01mNone\u001b[39;00m\n\u001b[1;32m    750\u001b[0m fit_time \u001b[38;5;241m=\u001b[39m time\u001b[38;5;241m.\u001b[39mtime() \u001b[38;5;241m-\u001b[39m start_time\n\u001b[0;32m--> 751\u001b[0m test_scores \u001b[38;5;241m=\u001b[39m \u001b[43m_score\u001b[49m\u001b[43m(\u001b[49m\u001b[43mestimator\u001b[49m\u001b[43m,\u001b[49m\u001b[43m \u001b[49m\u001b[43mX_test\u001b[49m\u001b[43m,\u001b[49m\u001b[43m \u001b[49m\u001b[43my_test\u001b[49m\u001b[43m,\u001b[49m\u001b[43m \u001b[49m\u001b[43mscorer\u001b[49m\u001b[43m,\u001b[49m\u001b[43m \u001b[49m\u001b[43merror_score\u001b[49m\u001b[43m)\u001b[49m\n\u001b[1;32m    752\u001b[0m score_time \u001b[38;5;241m=\u001b[39m time\u001b[38;5;241m.\u001b[39mtime() \u001b[38;5;241m-\u001b[39m start_time \u001b[38;5;241m-\u001b[39m fit_time\n\u001b[1;32m    753\u001b[0m \u001b[38;5;28;01mif\u001b[39;00m return_train_score:\n",
      "File \u001b[0;32m~/Desktop/kaggle/virtualenvs/writing_quality/lib/python3.9/site-packages/sklearn/model_selection/_validation.py:810\u001b[0m, in \u001b[0;36m_score\u001b[0;34m(estimator, X_test, y_test, scorer, error_score)\u001b[0m\n\u001b[1;32m    808\u001b[0m         scores \u001b[38;5;241m=\u001b[39m scorer(estimator, X_test)\n\u001b[1;32m    809\u001b[0m     \u001b[38;5;28;01melse\u001b[39;00m:\n\u001b[0;32m--> 810\u001b[0m         scores \u001b[38;5;241m=\u001b[39m \u001b[43mscorer\u001b[49m\u001b[43m(\u001b[49m\u001b[43mestimator\u001b[49m\u001b[43m,\u001b[49m\u001b[43m \u001b[49m\u001b[43mX_test\u001b[49m\u001b[43m,\u001b[49m\u001b[43m \u001b[49m\u001b[43my_test\u001b[49m\u001b[43m)\u001b[49m\n\u001b[1;32m    811\u001b[0m \u001b[38;5;28;01mexcept\u001b[39;00m \u001b[38;5;167;01mException\u001b[39;00m:\n\u001b[1;32m    812\u001b[0m     \u001b[38;5;28;01mif\u001b[39;00m \u001b[38;5;28misinstance\u001b[39m(scorer, _MultimetricScorer):\n\u001b[1;32m    813\u001b[0m         \u001b[38;5;66;03m# If `_MultimetricScorer` raises exception, the `error_score`\u001b[39;00m\n\u001b[1;32m    814\u001b[0m         \u001b[38;5;66;03m# parameter is equal to \"raise\".\u001b[39;00m\n",
      "File \u001b[0;32m~/Desktop/kaggle/virtualenvs/writing_quality/lib/python3.9/site-packages/sklearn/metrics/_scorer.py:136\u001b[0m, in \u001b[0;36m_MultimetricScorer.__call__\u001b[0;34m(self, estimator, *args, **kwargs)\u001b[0m\n\u001b[1;32m    134\u001b[0m \u001b[38;5;28;01mtry\u001b[39;00m:\n\u001b[1;32m    135\u001b[0m     \u001b[38;5;28;01mif\u001b[39;00m \u001b[38;5;28misinstance\u001b[39m(scorer, _BaseScorer):\n\u001b[0;32m--> 136\u001b[0m         score \u001b[38;5;241m=\u001b[39m \u001b[43mscorer\u001b[49m\u001b[38;5;241;43m.\u001b[39;49m\u001b[43m_score\u001b[49m\u001b[43m(\u001b[49m\n\u001b[1;32m    137\u001b[0m \u001b[43m            \u001b[49m\u001b[43mcached_call\u001b[49m\u001b[43m,\u001b[49m\u001b[43m \u001b[49m\u001b[43mestimator\u001b[49m\u001b[43m,\u001b[49m\u001b[43m \u001b[49m\u001b[38;5;241;43m*\u001b[39;49m\u001b[43margs\u001b[49m\u001b[43m,\u001b[49m\u001b[43m \u001b[49m\u001b[38;5;241;43m*\u001b[39;49m\u001b[38;5;241;43m*\u001b[39;49m\u001b[43mrouted_params\u001b[49m\u001b[38;5;241;43m.\u001b[39;49m\u001b[43mget\u001b[49m\u001b[43m(\u001b[49m\u001b[43mname\u001b[49m\u001b[43m)\u001b[49m\u001b[38;5;241;43m.\u001b[39;49m\u001b[43mscore\u001b[49m\n\u001b[1;32m    138\u001b[0m \u001b[43m        \u001b[49m\u001b[43m)\u001b[49m\n\u001b[1;32m    139\u001b[0m     \u001b[38;5;28;01melse\u001b[39;00m:\n\u001b[1;32m    140\u001b[0m         score \u001b[38;5;241m=\u001b[39m scorer(estimator, \u001b[38;5;241m*\u001b[39margs, \u001b[38;5;241m*\u001b[39m\u001b[38;5;241m*\u001b[39mrouted_params\u001b[38;5;241m.\u001b[39mget(name)\u001b[38;5;241m.\u001b[39mscore)\n",
      "File \u001b[0;32m~/Desktop/kaggle/virtualenvs/writing_quality/lib/python3.9/site-packages/sklearn/metrics/_scorer.py:353\u001b[0m, in \u001b[0;36m_PredictScorer._score\u001b[0;34m(self, method_caller, estimator, X, y_true, **kwargs)\u001b[0m\n\u001b[1;32m    316\u001b[0m \u001b[38;5;250m\u001b[39m\u001b[38;5;124;03m\"\"\"Evaluate predicted target values for X relative to y_true.\u001b[39;00m\n\u001b[1;32m    317\u001b[0m \n\u001b[1;32m    318\u001b[0m \u001b[38;5;124;03mParameters\u001b[39;00m\n\u001b[0;32m   (...)\u001b[0m\n\u001b[1;32m    343\u001b[0m \u001b[38;5;124;03m    Score function applied to prediction of estimator on X.\u001b[39;00m\n\u001b[1;32m    344\u001b[0m \u001b[38;5;124;03m\"\"\"\u001b[39;00m\n\u001b[1;32m    345\u001b[0m \u001b[38;5;28mself\u001b[39m\u001b[38;5;241m.\u001b[39m_warn_overlap(\n\u001b[1;32m    346\u001b[0m     message\u001b[38;5;241m=\u001b[39m(\n\u001b[1;32m    347\u001b[0m         \u001b[38;5;124m\"\u001b[39m\u001b[38;5;124mThere is an overlap between set kwargs of this scorer instance and\u001b[39m\u001b[38;5;124m\"\u001b[39m\n\u001b[0;32m   (...)\u001b[0m\n\u001b[1;32m    351\u001b[0m     kwargs\u001b[38;5;241m=\u001b[39mkwargs,\n\u001b[1;32m    352\u001b[0m )\n\u001b[0;32m--> 353\u001b[0m y_pred \u001b[38;5;241m=\u001b[39m \u001b[43mmethod_caller\u001b[49m\u001b[43m(\u001b[49m\u001b[43mestimator\u001b[49m\u001b[43m,\u001b[49m\u001b[43m \u001b[49m\u001b[38;5;124;43m\"\u001b[39;49m\u001b[38;5;124;43mpredict\u001b[39;49m\u001b[38;5;124;43m\"\u001b[39;49m\u001b[43m,\u001b[49m\u001b[43m \u001b[49m\u001b[43mX\u001b[49m\u001b[43m)\u001b[49m\n\u001b[1;32m    354\u001b[0m scoring_kwargs \u001b[38;5;241m=\u001b[39m {\u001b[38;5;241m*\u001b[39m\u001b[38;5;241m*\u001b[39m\u001b[38;5;28mself\u001b[39m\u001b[38;5;241m.\u001b[39m_kwargs, \u001b[38;5;241m*\u001b[39m\u001b[38;5;241m*\u001b[39mkwargs}\n\u001b[1;32m    355\u001b[0m \u001b[38;5;28;01mreturn\u001b[39;00m \u001b[38;5;28mself\u001b[39m\u001b[38;5;241m.\u001b[39m_sign \u001b[38;5;241m*\u001b[39m \u001b[38;5;28mself\u001b[39m\u001b[38;5;241m.\u001b[39m_score_func(y_true, y_pred, \u001b[38;5;241m*\u001b[39m\u001b[38;5;241m*\u001b[39mscoring_kwargs)\n",
      "File \u001b[0;32m~/Desktop/kaggle/virtualenvs/writing_quality/lib/python3.9/site-packages/sklearn/metrics/_scorer.py:86\u001b[0m, in \u001b[0;36m_cached_call\u001b[0;34m(cache, estimator, response_method, *args, **kwargs)\u001b[0m\n\u001b[1;32m     83\u001b[0m \u001b[38;5;28;01mif\u001b[39;00m cache \u001b[38;5;129;01mis\u001b[39;00m \u001b[38;5;129;01mnot\u001b[39;00m \u001b[38;5;28;01mNone\u001b[39;00m \u001b[38;5;129;01mand\u001b[39;00m response_method \u001b[38;5;129;01min\u001b[39;00m cache:\n\u001b[1;32m     84\u001b[0m     \u001b[38;5;28;01mreturn\u001b[39;00m cache[response_method]\n\u001b[0;32m---> 86\u001b[0m result, _ \u001b[38;5;241m=\u001b[39m \u001b[43m_get_response_values\u001b[49m\u001b[43m(\u001b[49m\n\u001b[1;32m     87\u001b[0m \u001b[43m    \u001b[49m\u001b[43mestimator\u001b[49m\u001b[43m,\u001b[49m\u001b[43m \u001b[49m\u001b[38;5;241;43m*\u001b[39;49m\u001b[43margs\u001b[49m\u001b[43m,\u001b[49m\u001b[43m \u001b[49m\u001b[43mresponse_method\u001b[49m\u001b[38;5;241;43m=\u001b[39;49m\u001b[43mresponse_method\u001b[49m\u001b[43m,\u001b[49m\u001b[43m \u001b[49m\u001b[38;5;241;43m*\u001b[39;49m\u001b[38;5;241;43m*\u001b[39;49m\u001b[43mkwargs\u001b[49m\n\u001b[1;32m     88\u001b[0m \u001b[43m\u001b[49m\u001b[43m)\u001b[49m\n\u001b[1;32m     90\u001b[0m \u001b[38;5;28;01mif\u001b[39;00m cache \u001b[38;5;129;01mis\u001b[39;00m \u001b[38;5;129;01mnot\u001b[39;00m \u001b[38;5;28;01mNone\u001b[39;00m:\n\u001b[1;32m     91\u001b[0m     cache[response_method] \u001b[38;5;241m=\u001b[39m result\n",
      "File \u001b[0;32m~/Desktop/kaggle/virtualenvs/writing_quality/lib/python3.9/site-packages/sklearn/utils/_response.py:218\u001b[0m, in \u001b[0;36m_get_response_values\u001b[0;34m(estimator, X, response_method, pos_label)\u001b[0m\n\u001b[1;32m    211\u001b[0m     \u001b[38;5;28;01mif\u001b[39;00m response_method \u001b[38;5;241m!=\u001b[39m \u001b[38;5;124m\"\u001b[39m\u001b[38;5;124mpredict\u001b[39m\u001b[38;5;124m\"\u001b[39m:\n\u001b[1;32m    212\u001b[0m         \u001b[38;5;28;01mraise\u001b[39;00m \u001b[38;5;167;01mValueError\u001b[39;00m(\n\u001b[1;32m    213\u001b[0m             \u001b[38;5;124mf\u001b[39m\u001b[38;5;124m\"\u001b[39m\u001b[38;5;132;01m{\u001b[39;00mestimator\u001b[38;5;241m.\u001b[39m\u001b[38;5;18m__class__\u001b[39m\u001b[38;5;241m.\u001b[39m\u001b[38;5;18m__name__\u001b[39m\u001b[38;5;132;01m}\u001b[39;00m\u001b[38;5;124m should either be a classifier to be \u001b[39m\u001b[38;5;124m\"\u001b[39m\n\u001b[1;32m    214\u001b[0m             \u001b[38;5;124mf\u001b[39m\u001b[38;5;124m\"\u001b[39m\u001b[38;5;124mused with response_method=\u001b[39m\u001b[38;5;132;01m{\u001b[39;00mresponse_method\u001b[38;5;132;01m}\u001b[39;00m\u001b[38;5;124m or the response_method \u001b[39m\u001b[38;5;124m\"\u001b[39m\n\u001b[1;32m    215\u001b[0m             \u001b[38;5;124m\"\u001b[39m\u001b[38;5;124mshould be \u001b[39m\u001b[38;5;124m'\u001b[39m\u001b[38;5;124mpredict\u001b[39m\u001b[38;5;124m'\u001b[39m\u001b[38;5;124m. Got a regressor with response_method=\u001b[39m\u001b[38;5;124m\"\u001b[39m\n\u001b[1;32m    216\u001b[0m             \u001b[38;5;124mf\u001b[39m\u001b[38;5;124m\"\u001b[39m\u001b[38;5;132;01m{\u001b[39;00mresponse_method\u001b[38;5;132;01m}\u001b[39;00m\u001b[38;5;124m instead.\u001b[39m\u001b[38;5;124m\"\u001b[39m\n\u001b[1;32m    217\u001b[0m         )\n\u001b[0;32m--> 218\u001b[0m     y_pred, pos_label \u001b[38;5;241m=\u001b[39m \u001b[43mestimator\u001b[49m\u001b[38;5;241;43m.\u001b[39;49m\u001b[43mpredict\u001b[49m\u001b[43m(\u001b[49m\u001b[43mX\u001b[49m\u001b[43m)\u001b[49m, \u001b[38;5;28;01mNone\u001b[39;00m\n\u001b[1;32m    220\u001b[0m \u001b[38;5;28;01mreturn\u001b[39;00m y_pred, pos_label\n",
      "File \u001b[0;32m~/Desktop/kaggle/virtualenvs/writing_quality/lib/python3.9/site-packages/sklearn/linear_model/_base.py:386\u001b[0m, in \u001b[0;36mLinearModel.predict\u001b[0;34m(self, X)\u001b[0m\n\u001b[1;32m    372\u001b[0m \u001b[38;5;28;01mdef\u001b[39;00m \u001b[38;5;21mpredict\u001b[39m(\u001b[38;5;28mself\u001b[39m, X):\n\u001b[1;32m    373\u001b[0m \u001b[38;5;250m    \u001b[39m\u001b[38;5;124;03m\"\"\"\u001b[39;00m\n\u001b[1;32m    374\u001b[0m \u001b[38;5;124;03m    Predict using the linear model.\u001b[39;00m\n\u001b[1;32m    375\u001b[0m \n\u001b[0;32m   (...)\u001b[0m\n\u001b[1;32m    384\u001b[0m \u001b[38;5;124;03m        Returns predicted values.\u001b[39;00m\n\u001b[1;32m    385\u001b[0m \u001b[38;5;124;03m    \"\"\"\u001b[39;00m\n\u001b[0;32m--> 386\u001b[0m     \u001b[38;5;28;01mreturn\u001b[39;00m \u001b[38;5;28;43mself\u001b[39;49m\u001b[38;5;241;43m.\u001b[39;49m\u001b[43m_decision_function\u001b[49m\u001b[43m(\u001b[49m\u001b[43mX\u001b[49m\u001b[43m)\u001b[49m\n",
      "File \u001b[0;32m~/Desktop/kaggle/virtualenvs/writing_quality/lib/python3.9/site-packages/sklearn/linear_model/_base.py:370\u001b[0m, in \u001b[0;36mLinearModel._decision_function\u001b[0;34m(self, X)\u001b[0m\n\u001b[1;32m    367\u001b[0m check_is_fitted(\u001b[38;5;28mself\u001b[39m)\n\u001b[1;32m    369\u001b[0m X \u001b[38;5;241m=\u001b[39m \u001b[38;5;28mself\u001b[39m\u001b[38;5;241m.\u001b[39m_validate_data(X, accept_sparse\u001b[38;5;241m=\u001b[39m[\u001b[38;5;124m\"\u001b[39m\u001b[38;5;124mcsr\u001b[39m\u001b[38;5;124m\"\u001b[39m, \u001b[38;5;124m\"\u001b[39m\u001b[38;5;124mcsc\u001b[39m\u001b[38;5;124m\"\u001b[39m, \u001b[38;5;124m\"\u001b[39m\u001b[38;5;124mcoo\u001b[39m\u001b[38;5;124m\"\u001b[39m], reset\u001b[38;5;241m=\u001b[39m\u001b[38;5;28;01mFalse\u001b[39;00m)\n\u001b[0;32m--> 370\u001b[0m \u001b[38;5;28;01mreturn\u001b[39;00m \u001b[43msafe_sparse_dot\u001b[49m\u001b[43m(\u001b[49m\u001b[43mX\u001b[49m\u001b[43m,\u001b[49m\u001b[43m \u001b[49m\u001b[38;5;28;43mself\u001b[39;49m\u001b[38;5;241;43m.\u001b[39;49m\u001b[43mcoef_\u001b[49m\u001b[38;5;241;43m.\u001b[39;49m\u001b[43mT\u001b[49m\u001b[43m,\u001b[49m\u001b[43m \u001b[49m\u001b[43mdense_output\u001b[49m\u001b[38;5;241;43m=\u001b[39;49m\u001b[38;5;28;43;01mTrue\u001b[39;49;00m\u001b[43m)\u001b[49m \u001b[38;5;241m+\u001b[39m \u001b[38;5;28mself\u001b[39m\u001b[38;5;241m.\u001b[39mintercept_\n",
      "File \u001b[0;32m~/Desktop/kaggle/virtualenvs/writing_quality/lib/python3.9/site-packages/sklearn/utils/extmath.py:192\u001b[0m, in \u001b[0;36msafe_sparse_dot\u001b[0;34m(a, b, dense_output)\u001b[0m\n\u001b[1;32m    190\u001b[0m         ret \u001b[38;5;241m=\u001b[39m np\u001b[38;5;241m.\u001b[39mdot(a, b)\n\u001b[1;32m    191\u001b[0m \u001b[38;5;28;01melse\u001b[39;00m:\n\u001b[0;32m--> 192\u001b[0m     ret \u001b[38;5;241m=\u001b[39m \u001b[43ma\u001b[49m\u001b[43m \u001b[49m\u001b[38;5;241;43m@\u001b[39;49m\u001b[43m \u001b[49m\u001b[43mb\u001b[49m\n\u001b[1;32m    194\u001b[0m \u001b[38;5;28;01mif\u001b[39;00m (\n\u001b[1;32m    195\u001b[0m     sparse\u001b[38;5;241m.\u001b[39missparse(a)\n\u001b[1;32m    196\u001b[0m     \u001b[38;5;129;01mand\u001b[39;00m sparse\u001b[38;5;241m.\u001b[39missparse(b)\n\u001b[1;32m    197\u001b[0m     \u001b[38;5;129;01mand\u001b[39;00m dense_output\n\u001b[1;32m    198\u001b[0m     \u001b[38;5;129;01mand\u001b[39;00m \u001b[38;5;28mhasattr\u001b[39m(ret, \u001b[38;5;124m\"\u001b[39m\u001b[38;5;124mtoarray\u001b[39m\u001b[38;5;124m\"\u001b[39m)\n\u001b[1;32m    199\u001b[0m ):\n\u001b[1;32m    200\u001b[0m     \u001b[38;5;28;01mreturn\u001b[39;00m ret\u001b[38;5;241m.\u001b[39mtoarray()\n",
      "\u001b[0;31mKeyboardInterrupt\u001b[0m: "
     ]
    }
   ],
   "source": [
    "X, y = train_feats_copy[train_cols].values, train_feats_copy[target_col].values\n",
    "\n",
    "lr = LinearRegression()\n",
    "\n",
    "efs1 = EFS(lr,\n",
    "           min_features=50,\n",
    "           max_features=300,\n",
    "           scoring='neg_root_mean_squared_error',\n",
    "           print_progress=True,\n",
    "           cv=5)\n",
    "\n",
    "efs1 = efs1.fit(X, y)\n",
    "\n",
    "print('Best rmse score: %.2f' % efs1.best_score_)\n",
    "print('Best subset (indices):', efs1.best_idx_)\n",
    "print('Best subset (corresponding names):', efs1.best_feature_names_)"
   ]
  },
  {
   "cell_type": "code",
   "execution_count": 112,
   "id": "df09e130-2ea0-4e60-8a9a-b3bf621ae0c3",
   "metadata": {
    "execution": {
     "iopub.execute_input": "2023-12-30T13:34:37.347372Z",
     "iopub.status.busy": "2023-12-30T13:34:37.347156Z",
     "iopub.status.idle": "2023-12-30T13:34:37.350660Z",
     "shell.execute_reply": "2023-12-30T13:34:37.350183Z",
     "shell.execute_reply.started": "2023-12-30T13:34:37.347349Z"
    }
   },
   "outputs": [
    {
     "name": "stdout",
     "output_type": "stream",
     "text": [
      "Best subset (indices): None\n",
      "Best subset (corresponding names): None\n"
     ]
    }
   ],
   "source": [
    "# print('Best rmse score: %.2f' % efs1.best_score_)\n",
    "print('Best subset (indices):', efs1.best_idx_)\n",
    "print('Best subset (corresponding names):', efs1.best_feature_names_)"
   ]
  },
  {
   "cell_type": "code",
   "execution_count": null,
   "id": "d10fbe7e-a13c-4358-86c3-b7ef582618c3",
   "metadata": {},
   "outputs": [],
   "source": []
  },
  {
   "cell_type": "markdown",
   "id": "7499e9cb-aa5d-42ab-b805-6f8f355f23b8",
   "metadata": {},
   "source": [
    "#### Training ####"
   ]
  },
  {
   "cell_type": "code",
   "execution_count": 154,
   "id": "a0567ca3-d98d-446e-97e6-90f477437146",
   "metadata": {
    "execution": {
     "iopub.execute_input": "2023-12-30T01:19:41.812490Z",
     "iopub.status.busy": "2023-12-30T01:19:41.812208Z",
     "iopub.status.idle": "2023-12-30T01:19:41.818516Z",
     "shell.execute_reply": "2023-12-30T01:19:41.817955Z",
     "shell.execute_reply.started": "2023-12-30T01:19:41.812476Z"
    }
   },
   "outputs": [],
   "source": [
    "drop_columns = [\n",
    "    \"token_feature_16\",\n",
    "    \"token_feature_17\",\n",
    "    \"token_feature_18\",\n",
    "    \"token_feature_19\",\n",
    "    \"token_feature_34\",\n",
    "    \"token_feature_36\",\n",
    "    \"token_feature_37\",\n",
    "    \"token_feature_38\",\n",
    "    \"token_feature_39\",\n",
    "    \"token_feature_40\",\n",
    "    \"token_feature_55\",\n",
    "    \"token_feature_59\",\n",
    "    \"token_feature_73\",\n",
    "    \"token_feature_88\",\n",
    "    \"token_feature_89\",\n",
    "    \"token_feature_93\",\n",
    "    \"token_feature_106\",\n",
    "    \"token_feature_109\",\n",
    "    \"token_feature_111\",\n",
    "    \"token_feature_124\",\n",
    "    \"token_feature_137\",\n",
    "    \"token_feature_138\",\n",
    "    \"token_feature_139\",\n",
    "    \"token_feature_143\",\n",
    "    \"token_feature_144\",\n",
    "    \"token_feature_157\",\n",
    "    \"token_feature_160\",\n",
    "    \"token_feature_161\",\n",
    "    \"token_feature_176\",\n",
    "    \"token_feature_177\",\n",
    "    \"token_feature_179\",\n",
    "    \"token_feature_186\",\n",
    "    \"token_feature_190\",\n",
    "    \"token_feature_191\",\n",
    "    \"token_feature_193\",\n",
    "    \"token_feature_197\",\n",
    "    \"token_feature_202\",\n",
    "    \"token_feature_205\",\n",
    "    \"token_feature_207\",\n",
    "    \"token_feature_214\",\n",
    "    \"token_feature_215\",\n",
    "    \"token_feature_217\",\n",
    "    \"token_feature_219\",\n",
    "    \"token_feature_225\",\n",
    "    \"token_feature_226\",\n",
    "    \"token_feature_228\",\n",
    "    \"token_feature_231\",\n",
    "    \"token_feature_233\",\n",
    "    \"token_feature_235\",\n",
    "    \"token_feature_236\",\n",
    "    \"token_feature_237\",\n",
    "    \"token_feature_238\",\n",
    "    \"token_feature_239\",\n",
    "    \"token_feature_240\",\n",
    "    \"token_feature_241\",\n",
    "    \"token_feature_242\",\n",
    "    \"token_feature_243\",\n",
    "    \"token_feature_245\",\n",
    "    \"token_feature_248\",\n",
    "    \"token_feature_250\",\n",
    "    \"token_feature_251\",\n",
    "    \"token_feature_259\",\n",
    "    \"token_feature_260\",\n",
    "    \"token_feature_262\",\n",
    "    \"token_feature_263\",\n",
    "    \"token_feature_264\",\n",
    "    \"token_feature_271\",\n",
    "    \"token_feature_273\",\n",
    "    \"token_feature_276\",\n",
    "    \"w2vec_dim_50\",\n",
    "    \"tmp_cursor_position_min\",\n",
    "    \"tmp_word_count_min\",\n",
    "    \"sent_word_count_last\",\n",
    "    \"sent_word_count_skew\",\n",
    "    \"sent_word_count_kurt\",\n",
    "    \"cursor_position_change2_quantile\",\n",
    "    \"word_count_change2_quantile\",\n",
    "    \"cursor_position_change3_quantile\",\n",
    "    \"word_count_change3_quantile\",\n",
    "    \"cursor_position_change10_quantile\",\n",
    "    \"cursor_position_change10_skew\",\n",
    "    \"word_count_change20_quantile\",\n",
    "    \"cursor_position_change50_quantile\",\n",
    "    \"cursor_position_change100_skew\",\n",
    "    \"word_count_change100_quantile\",\n",
    "    \"smallest_lantency\",\n",
    "    \"text_change_10_cnt\",\n",
    "    \"text_change_12_cnt\",\n",
    "    \"down_event_6_cnt\",\n",
    "    \"down_event_9_cnt\",\n",
    "    \"up_event_9_cnt\",\n",
    "    \"up_event_10_cnt\",\n",
    "    \"up_event_14_cnt\",\n",
    "    \"up_event_15_cnt\",\n",
    "    \"R-bursts_first\",\n",
    "    \"R-bursts_last\",\n",
    "    \"additional_activity_paste_ratio_total\",\n",
    "    \"additional_paste_last_time_total_ratio\",\n",
    "    \"additional_input_my_min_inter_act_latency\",\n",
    "    \"additional_input_my_std_inter_act_latency\",\n",
    "    \"additional_input_my_median_grouped_inter_act_latency\",\n",
    "    \"additional_remove_my_min_inter_act_latency\",\n",
    "    \"additional_remove_my_std_inter_act_latency\",\n",
    "    \"additional_remove_my_median_grouped_inter_act_latency\",\n",
    "    \"additional_non_production_kurt_inter_act_latency\",\n",
    "    \"additional_non_production_my_median_grouped_inter_act_latency\",\n",
    "    \"additional_num_type_down_events_in_non_production\",\n",
    "    \"additional_Backspace_in_remove_share\",\n",
    "    \"additional_Delete_in_remove_share\",\n",
    "    \"additional_z_in_remove_share\",\n",
    "    \"additional_Space_in_replace_share\",\n",
    "    \"additional_comma_in_replace_share\",\n",
    "    \"additional_z_in_replace_share\",\n",
    "    \"additional_v_in_replace_share\",\n",
    "    \"additional_ArrowRight_in_non_production_share\",\n",
    "    \"additional_ContextMenu_in_non_production_share\",\n",
    "    \"additional_std_time_btw_word_deletions\",\n",
    "    \"additional_IL_stats_my_median_grouped\",\n",
    "    \"additional_IL_stats_last\",\n",
    "    \"additional_PL_stats_my_median_grouped\",\n",
    "    \"additional_PL_stats_last\",\n",
    "    \"additional_PL_stats_first\",\n",
    "    \"additional_new_line_char_in_remove_tc_total_share\",\n",
    "    \"additional_equal_to_in_input_tc_total_share\",\n",
    "    \"additional_equal_to_in_remove_tc_total_share\",\n",
    "    \"additional_forward_slash_in_input_tc_total_share\",\n",
    "    \"additional_forward_slash_in_remove_tc_total_share\",\n",
    "    \"additional_back_slash_in_input_tc_total_share\",\n",
    "]"
   ]
  },
  {
   "cell_type": "code",
   "execution_count": 155,
   "id": "c6630ef3-e8be-4766-8880-838f5cdb56f4",
   "metadata": {
    "execution": {
     "iopub.execute_input": "2023-12-30T01:19:58.123021Z",
     "iopub.status.busy": "2023-12-30T01:19:58.122772Z",
     "iopub.status.idle": "2023-12-30T01:19:58.128226Z",
     "shell.execute_reply": "2023-12-30T01:19:58.127733Z",
     "shell.execute_reply.started": "2023-12-30T01:19:58.123006Z"
    }
   },
   "outputs": [
    {
     "data": {
      "text/plain": [
       "(804, 1)"
      ]
     },
     "execution_count": 155,
     "metadata": {},
     "output_type": "execute_result"
    }
   ],
   "source": [
    "target_col = [cnfg.response_variate]\n",
    "\n",
    "# drop_cols = [\"id\", \"score_class\"]\n",
    "\n",
    "train_cols = list(\n",
    "    filter(\n",
    "        lambda x: x not in [cnfg.response_variate, \"id\", \"fold\"]+drop_columns,\n",
    "        train_feats.columns,\n",
    "    )\n",
    ")\n",
    "\n",
    "train_cols.__len__(), target_col.__len__()"
   ]
  },
  {
   "cell_type": "code",
   "execution_count": 156,
   "id": "c05e70a0-b19f-467a-81bf-94e00fbbc8c8",
   "metadata": {
    "execution": {
     "iopub.execute_input": "2023-12-30T01:20:06.330414Z",
     "iopub.status.busy": "2023-12-30T01:20:06.330059Z",
     "iopub.status.idle": "2023-12-30T01:20:06.333142Z",
     "shell.execute_reply": "2023-12-30T01:20:06.332703Z",
     "shell.execute_reply.started": "2023-12-30T01:20:06.330398Z"
    }
   },
   "outputs": [],
   "source": [
    "# [name for name in train_cols if np.std(train_feats[name]) == 0]"
   ]
  },
  {
   "cell_type": "code",
   "execution_count": 157,
   "id": "47e1ad23-996b-454f-9998-7d71100f49e2",
   "metadata": {
    "execution": {
     "iopub.execute_input": "2023-12-30T01:20:06.836698Z",
     "iopub.status.busy": "2023-12-30T01:20:06.836468Z",
     "iopub.status.idle": "2023-12-30T01:20:06.933662Z",
     "shell.execute_reply": "2023-12-30T01:20:06.933148Z",
     "shell.execute_reply.started": "2023-12-30T01:20:06.836683Z"
    }
   },
   "outputs": [],
   "source": [
    "train_cols = [name for name in train_cols if np.std(train_feats[name]) > 0]"
   ]
  },
  {
   "cell_type": "code",
   "execution_count": 158,
   "id": "d18b9d68-5e17-46a2-8551-3770be5dfc1c",
   "metadata": {
    "execution": {
     "iopub.execute_input": "2023-12-30T01:20:07.616513Z",
     "iopub.status.busy": "2023-12-30T01:20:07.615746Z",
     "iopub.status.idle": "2023-12-30T01:20:07.621910Z",
     "shell.execute_reply": "2023-12-30T01:20:07.621114Z",
     "shell.execute_reply.started": "2023-12-30T01:20:07.616465Z"
    }
   },
   "outputs": [
    {
     "data": {
      "text/plain": [
       "798"
      ]
     },
     "execution_count": 158,
     "metadata": {},
     "output_type": "execute_result"
    }
   ],
   "source": [
    "len(train_cols)"
   ]
  },
  {
   "cell_type": "code",
   "execution_count": 159,
   "id": "d6a5c2ed-af8d-4f7e-9afe-b91255d8345a",
   "metadata": {
    "execution": {
     "iopub.execute_input": "2023-12-30T01:20:09.486416Z",
     "iopub.status.busy": "2023-12-30T01:20:09.486200Z",
     "iopub.status.idle": "2023-12-30T01:20:09.488847Z",
     "shell.execute_reply": "2023-12-30T01:20:09.488514Z",
     "shell.execute_reply.started": "2023-12-30T01:20:09.486401Z"
    }
   },
   "outputs": [],
   "source": [
    "# test_feats.score.values"
   ]
  },
  {
   "cell_type": "markdown",
   "id": "d3d0b9d1-4dfc-414d-a077-8ac839704d9f",
   "metadata": {
    "papermill": {
     "duration": 0.019093,
     "end_time": "2023-10-24T19:15:40.474724",
     "exception": false,
     "start_time": "2023-10-24T19:15:40.455631",
     "status": "completed"
    },
    "tags": []
   },
   "source": [
    "# Optimizing Hyperparameters with Optuna"
   ]
  },
  {
   "cell_type": "code",
   "execution_count": null,
   "id": "da59ef47-ae1a-47e8-bcd3-c12a963e4264",
   "metadata": {
    "papermill": {
     "duration": 0.035316,
     "end_time": "2023-10-24T19:15:40.529526",
     "exception": false,
     "start_time": "2023-10-24T19:15:40.494210",
     "status": "completed"
    },
    "tags": []
   },
   "outputs": [],
   "source": []
  },
  {
   "cell_type": "code",
   "execution_count": 162,
   "id": "79134099-fc21-4f85-a990-eace37321cbd",
   "metadata": {
    "execution": {
     "iopub.execute_input": "2023-12-30T01:20:46.330336Z",
     "iopub.status.busy": "2023-12-30T01:20:46.330120Z",
     "iopub.status.idle": "2023-12-30T01:20:46.338546Z",
     "shell.execute_reply": "2023-12-30T01:20:46.338178Z",
     "shell.execute_reply.started": "2023-12-30T01:20:46.330322Z"
    },
    "papermill": {
     "duration": 0.031689,
     "end_time": "2023-10-24T19:15:40.581311",
     "exception": false,
     "start_time": "2023-10-24T19:15:40.549622",
     "status": "completed"
    },
    "tags": []
   },
   "outputs": [],
   "source": [
    "def objective(trial, train_feats):\n",
    "    train_feats_df = train_feats.copy()\n",
    "    if cnfg.is_local:\n",
    "        test_feats_df = test_feats.copy()\n",
    "        test_predict_list = []\n",
    "    print(trial.number)\n",
    "    param = {\n",
    "        \"objective\": \"regression\",\n",
    "        \"boosting_type\": \"gbdt\",\n",
    "        \"metric\": \"rmse\",\n",
    "        # \"device_type\": \"gpu\",\n",
    "        \"verbosity\": -1,\n",
    "        \"bagging_freq\": 1,\n",
    "        \"random_state\": cnfg.seed,\n",
    "        \"n_estimators\": cnfg.num_estimators,\n",
    "        \"early_stopping_rounds\": cnfg.num_trials_early_stopping,\n",
    "        \"reg_alpha\": trial.suggest_loguniform(\"reg_alpha\", 1e-3, 10.0),\n",
    "        \"reg_lambda\": trial.suggest_loguniform(\"reg_lambda\", 1e-3, 10.0),\n",
    "        \"feature_fraction\": trial.suggest_float(\"feature_fraction\", 0.5, 1),\n",
    "        \"bagging_fraction\": trial.suggest_float(\"bagging_fraction\", 0.6, 1),\n",
    "        \"learning_rate\": trial.suggest_float(\"learning_rate\", 1e-2, 0.1, log=True),\n",
    "        \"num_leaves\": trial.suggest_int(\"num_leaves\", 8, 128),\n",
    "        # \"max_depth\": trial.suggest_int(\"max_depth\", 15, 100),\n",
    "        \"min_child_samples\": trial.suggest_int(\"min_child_samples\", 1, 100),\n",
    "    }\n",
    "\n",
    "    scores = []\n",
    "\n",
    "    for i in range(5):\n",
    "        kf = model_selection.KFold(\n",
    "            n_splits=cnfg.num_folds, random_state=cnfg.seed + i, shuffle=True\n",
    "        )\n",
    "\n",
    "        oof_valid_preds = np.zeros(\n",
    "            train_feats_df.shape[0],\n",
    "        )\n",
    "\n",
    "        if cnfg.is_local:\n",
    "            X_test = test_feats_df[train_cols]\n",
    "\n",
    "        for fold, (train_idx, valid_idx) in enumerate(kf.split(train_feats_df)):\n",
    "            # print(\"==-\" * 50)\n",
    "            # print(\"Fold : \", fold)\n",
    "\n",
    "            X_train, y_train = (\n",
    "                train_feats_df.iloc[train_idx][train_cols],\n",
    "                train_feats_df.iloc[train_idx][target_col],\n",
    "            )\n",
    "            X_valid, y_valid = (\n",
    "                train_feats_df.iloc[valid_idx][train_cols],\n",
    "                train_feats_df.iloc[valid_idx][target_col],\n",
    "            )\n",
    "\n",
    "            # print(\"Trian :\", X_train.shape, y_train.shape)\n",
    "            # print(\"Valid :\", X_valid.shape, y_valid.shape)\n",
    "\n",
    "            model = lgb.LGBMRegressor(**param)\n",
    "\n",
    "            # early_stopping_callback = lgb.early_stopping(\n",
    "            #     cnfg.num_trials_early_stopping, first_metric_only=True, verbose=False\n",
    "            # )\n",
    "            # verbose_callback = lgb.log_evaluation(100)\n",
    "\n",
    "            model.fit(\n",
    "                X_train,\n",
    "                y_train,\n",
    "                eval_set=[(X_valid, y_valid)],\n",
    "                # callbacks=[early_stopping_callback],\n",
    "                # early_stopping_rounds=cnfg.num_trials_early_stopping,\n",
    "                # verbose=False\n",
    "            )\n",
    "\n",
    "            valid_predict = model.predict(X_valid)\n",
    "            oof_valid_preds[valid_idx] = valid_predict\n",
    "\n",
    "            if cnfg.is_local:\n",
    "                test_predict = model.predict(X_test)\n",
    "                test_predict_list.append(test_predict)\n",
    "\n",
    "        oof_score = metrics.mean_squared_error(\n",
    "            train_feats_df[target_col], oof_valid_preds, squared=False\n",
    "        )\n",
    "        scores.append(oof_score)\n",
    "\n",
    "    rmse = np.mean(scores)\n",
    "    print(\"OOF RMSE Score : \", rmse)\n",
    "    if cnfg.is_local:\n",
    "        test_feats_df[\"pred_score\"] = np.mean(test_predict_list, axis=0)\n",
    "        test_rmse = metrics.mean_squared_error(\n",
    "            test_feats_df.score.values, test_feats_df.pred_score.values, squared=False\n",
    "        )\n",
    "        print(\"Test Set RMSE Score : \", test_rmse)\n",
    "        final_rmse = 0.3 * rmse + 0.7 * test_rmse\n",
    "        # final_rmse = (rmse + test_rmse) / 2\n",
    "    else:\n",
    "        final_rmse = rmse\n",
    "\n",
    "    print(\"Final RMSE Score : \", final_rmse)\n",
    "    return final_rmse"
   ]
  },
  {
   "cell_type": "code",
   "execution_count": 163,
   "id": "c5b1a7fb-388e-4c56-a74b-b8dcacbf0090",
   "metadata": {
    "_kg_hide-output": true,
    "execution": {
     "iopub.execute_input": "2023-12-30T01:20:47.069940Z",
     "iopub.status.busy": "2023-12-30T01:20:47.069657Z",
     "iopub.status.idle": "2023-12-30T01:20:47.073785Z",
     "shell.execute_reply": "2023-12-30T01:20:47.073212Z",
     "shell.execute_reply.started": "2023-12-30T01:20:47.069908Z"
    },
    "papermill": {
     "duration": 0.027542,
     "end_time": "2023-10-24T19:15:40.628707",
     "exception": false,
     "start_time": "2023-10-24T19:15:40.601165",
     "status": "completed"
    },
    "scrolled": true,
    "tags": []
   },
   "outputs": [],
   "source": [
    "if cnfg.use_optuna_tuning:\n",
    "    study = optuna.create_study(\n",
    "        direction=\"minimize\", study_name=\"Optimize boosting hyperparameters\"\n",
    "    )\n",
    "    study.optimize(\n",
    "        lambda trial: objective(trial, train_feats), n_trials=cnfg.num_trials_optuna\n",
    "    )"
   ]
  },
  {
   "cell_type": "code",
   "execution_count": 164,
   "id": "908e24c1-c4e6-4001-8fe6-8d96cec7d30f",
   "metadata": {
    "execution": {
     "iopub.execute_input": "2023-12-30T01:21:37.822282Z",
     "iopub.status.busy": "2023-12-30T01:21:37.822095Z",
     "iopub.status.idle": "2023-12-30T01:21:37.825383Z",
     "shell.execute_reply": "2023-12-30T01:21:37.824807Z",
     "shell.execute_reply.started": "2023-12-30T01:21:37.822267Z"
    },
    "papermill": {
     "duration": 0.027034,
     "end_time": "2023-10-24T19:15:40.674798",
     "exception": false,
     "start_time": "2023-10-24T19:15:40.647764",
     "status": "completed"
    },
    "tags": []
   },
   "outputs": [],
   "source": [
    "if cnfg.use_optuna_tuning:\n",
    "    print(\"Best trial:\", study.best_trial.params)"
   ]
  },
  {
   "cell_type": "code",
   "execution_count": 165,
   "id": "3f430b5e-685d-420a-92e5-5dbc15575cbc",
   "metadata": {
    "execution": {
     "iopub.execute_input": "2023-12-30T01:21:38.253112Z",
     "iopub.status.busy": "2023-12-30T01:21:38.252802Z",
     "iopub.status.idle": "2023-12-30T01:21:38.256676Z",
     "shell.execute_reply": "2023-12-30T01:21:38.256011Z",
     "shell.execute_reply.started": "2023-12-30T01:21:38.253084Z"
    }
   },
   "outputs": [],
   "source": [
    "# OOF RMSE Score :  0.5997906668401505\n",
    "# Test Set RMSE Score :  0.6218184320824446\n",
    "# Final RMSE Score :  0.6152101025097563\n",
    "# Trial 94\n",
    "# {\n",
    "#     \"reg_alpha\": 0.012093173711734975,\n",
    "#     \"reg_lambda\": 4.525270017012984,\n",
    "#     \"feature_fraction\": 0.9435522537037768,\n",
    "#     \"bagging_fraction\": 0.6317389180452977,\n",
    "#     \"learning_rate\": 0.024698396144419443,\n",
    "#     \"num_leaves\": 15,\n",
    "#     \"min_child_samples\": 7,\n",
    "# }"
   ]
  },
  {
   "cell_type": "code",
   "execution_count": 166,
   "id": "1228942c-c589-4207-90be-278929b060bf",
   "metadata": {
    "execution": {
     "iopub.execute_input": "2023-12-30T01:21:38.697904Z",
     "iopub.status.busy": "2023-12-30T01:21:38.697584Z",
     "iopub.status.idle": "2023-12-30T01:21:38.701778Z",
     "shell.execute_reply": "2023-12-30T01:21:38.701037Z",
     "shell.execute_reply.started": "2023-12-30T01:21:38.697874Z"
    }
   },
   "outputs": [],
   "source": [
    "# 0.6207957 Trial 53\n",
    "# {\n",
    "#     \"reg_alpha\": 0.009377808447871812,\n",
    "#     \"reg_lambda\": 1.2552479181869494,\n",
    "#     \"feature_fraction\": 0.9372168343783626,\n",
    "#     \"bagging_fraction\": 0.6159694762813432,\n",
    "#     \"learning_rate\": 0.018406758708311256,\n",
    "#     \"num_leaves\": 25,\n",
    "#     \"min_child_samples\": 4,\n",
    "# }"
   ]
  },
  {
   "cell_type": "code",
   "execution_count": 167,
   "id": "a0cf5c88-b182-497b-afbe-d9ff5726150d",
   "metadata": {
    "execution": {
     "iopub.execute_input": "2023-12-30T01:21:39.108294Z",
     "iopub.status.busy": "2023-12-30T01:21:39.108043Z",
     "iopub.status.idle": "2023-12-30T01:21:39.111475Z",
     "shell.execute_reply": "2023-12-30T01:21:39.110976Z",
     "shell.execute_reply.started": "2023-12-30T01:21:39.108272Z"
    }
   },
   "outputs": [],
   "source": [
    "# # .599750\n",
    "# best_params = {\n",
    "#     \"reg_alpha\": 0.006207770393726873,\n",
    "#     \"reg_lambda\": 0.0030941407353811015,\n",
    "#     \"feature_fraction\": 0.502402121779547,\n",
    "#     \"bagging_fraction\": 0.8256265305250075,\n",
    "#     \"learning_rate\": 0.013317073923676816,\n",
    "#     \"num_leaves\": 8,\n",
    "#     \"min_child_samples\": 16,\n",
    "# }"
   ]
  },
  {
   "cell_type": "markdown",
   "id": "397b6f66-8723-41e3-b121-b6cbe615230f",
   "metadata": {
    "papermill": {
     "duration": 0.019393,
     "end_time": "2023-10-24T19:15:40.713679",
     "exception": false,
     "start_time": "2023-10-24T19:15:40.694286",
     "status": "completed"
    },
    "tags": []
   },
   "source": [
    "# Train OOF LGBM Models"
   ]
  },
  {
   "cell_type": "code",
   "execution_count": 168,
   "id": "887a82c0-d76e-4408-9608-4b674d87289d",
   "metadata": {
    "execution": {
     "iopub.execute_input": "2023-12-30T01:21:40.336317Z",
     "iopub.status.busy": "2023-12-30T01:21:40.335487Z",
     "iopub.status.idle": "2023-12-30T01:21:40.340623Z",
     "shell.execute_reply": "2023-12-30T01:21:40.340242Z",
     "shell.execute_reply.started": "2023-12-30T01:21:40.336237Z"
    }
   },
   "outputs": [],
   "source": [
    "# cnfg.use_optuna_tuning = False"
   ]
  },
  {
   "cell_type": "code",
   "execution_count": 171,
   "id": "7cc37d7a-a102-47f4-9517-3dd3e5363119",
   "metadata": {
    "execution": {
     "iopub.execute_input": "2023-12-30T01:26:35.159091Z",
     "iopub.status.busy": "2023-12-30T01:26:35.158750Z",
     "iopub.status.idle": "2023-12-30T01:26:35.219607Z",
     "shell.execute_reply": "2023-12-30T01:26:35.219073Z",
     "shell.execute_reply.started": "2023-12-30T01:26:35.159059Z"
    },
    "papermill": {
     "duration": 25.185588,
     "end_time": "2023-10-24T19:16:05.919317",
     "exception": false,
     "start_time": "2023-10-24T19:15:40.733729",
     "status": "completed"
    },
    "tags": []
   },
   "outputs": [
    {
     "name": "stdout",
     "output_type": "stream",
     "text": [
      "{'reg_alpha': 0.05924802200631763, 'reg_lambda': 0.0023346433510371923, 'feature_fraction': 0.5569998490351998, 'bagging_fraction': 0.6262979921849824, 'learning_rate': 0.01180328936041837, 'num_leaves': 86, 'min_child_samples': 56}\n",
      "==-==-==-==-==-==-==-==-==-==-==-==-==-==-==-==-==-==-==-==-==-==-==-==-==-==-==-==-==-==-==-==-==-==-==-==-==-==-==-==-==-==-==-==-==-==-==-==-==-==-\n",
      "Fold :  0\n",
      "Trian : (1778, 798) (1778, 1)\n",
      "Valid : (198, 798) (198, 1)\n"
     ]
    },
    {
     "ename": "AttributeError",
     "evalue": "module 'lightgbm' has no attribute 'log_evaluation'",
     "output_type": "error",
     "traceback": [
      "\u001b[0;31m---------------------------------------------------------------------------\u001b[0m",
      "\u001b[0;31mAttributeError\u001b[0m                            Traceback (most recent call last)",
      "Cell \u001b[0;32mIn[171], line 86\u001b[0m\n\u001b[1;32m     81\u001b[0m model \u001b[38;5;241m=\u001b[39m lgb\u001b[38;5;241m.\u001b[39mLGBMRegressor(\u001b[38;5;241m*\u001b[39m\u001b[38;5;241m*\u001b[39mparams)\n\u001b[1;32m     83\u001b[0m early_stopping_callback \u001b[38;5;241m=\u001b[39m lgb\u001b[38;5;241m.\u001b[39mearly_stopping(\n\u001b[1;32m     84\u001b[0m     cnfg\u001b[38;5;241m.\u001b[39mnum_trials_early_stopping, first_metric_only\u001b[38;5;241m=\u001b[39m\u001b[38;5;28;01mTrue\u001b[39;00m, verbose\u001b[38;5;241m=\u001b[39m\u001b[38;5;28;01mFalse\u001b[39;00m\n\u001b[1;32m     85\u001b[0m )\n\u001b[0;32m---> 86\u001b[0m verbose_callback \u001b[38;5;241m=\u001b[39m \u001b[43mlgb\u001b[49m\u001b[38;5;241;43m.\u001b[39;49m\u001b[43mlog_evaluation\u001b[49m(\u001b[38;5;241m100\u001b[39m)\n\u001b[1;32m     88\u001b[0m model\u001b[38;5;241m.\u001b[39mfit(\n\u001b[1;32m     89\u001b[0m     X_train,\n\u001b[1;32m     90\u001b[0m     y_train,\n\u001b[1;32m     91\u001b[0m     eval_set\u001b[38;5;241m=\u001b[39m[(X_valid, y_valid)],\n\u001b[1;32m     92\u001b[0m     callbacks\u001b[38;5;241m=\u001b[39m[early_stopping_callback, verbose_callback],\n\u001b[1;32m     93\u001b[0m )\n\u001b[1;32m     95\u001b[0m valid_predict \u001b[38;5;241m=\u001b[39m model\u001b[38;5;241m.\u001b[39mpredict(X_valid)\n",
      "\u001b[0;31mAttributeError\u001b[0m: module 'lightgbm' has no attribute 'log_evaluation'"
     ]
    }
   ],
   "source": [
    "models_dict = {}\n",
    "scores = []\n",
    "\n",
    "test_predict_list = []\n",
    "# best_params = {\n",
    "#     \"reg_alpha\": 0.003188447814669599,\n",
    "#     \"reg_lambda\": 0.0010228604507564066,\n",
    "#     \"feature_fraction\": 0.8,\n",
    "#     \"bagging_fraction\": 0.75,\n",
    "#     \"learning_rate\": 0.01716485155812008,\n",
    "#     \"num_leaves\": 19,\n",
    "#     # \"max_depth\": 41,\n",
    "#     \"min_child_samples\": 46,\n",
    "# }\n",
    "\n",
    "# best_params = {\n",
    "#     \"reg_alpha\": 0.006207770393726873,\n",
    "#     \"reg_lambda\": 0.0030941407353811015,\n",
    "#     \"feature_fraction\": 0.502402121779547,\n",
    "#     \"bagging_fraction\": 0.8256265305250075,\n",
    "#     \"learning_rate\": 0.013317073923676816,\n",
    "#     \"num_leaves\": 8,\n",
    "#     \"min_child_samples\": 16,\n",
    "# }\n",
    "\n",
    "best_params = {\n",
    "    \"reg_alpha\": 0.05924802200631763,\n",
    "    \"reg_lambda\": 0.0023346433510371923,\n",
    "    \"feature_fraction\": 0.5569998490351998,\n",
    "    \"bagging_fraction\": 0.6262979921849824,\n",
    "    \"learning_rate\": 0.01180328936041837,\n",
    "    \"num_leaves\": 86,\n",
    "    \"min_child_samples\": 56,\n",
    "}\n",
    "\n",
    "# best_params[\"verbose\"] = -1\n",
    "# best_params[\"early_stopping_rounds\"] = cnfg.num_trials_early_stopping\n",
    "\n",
    "print(best_params)\n",
    "\n",
    "for i in range(5):\n",
    "    kf = model_selection.KFold(\n",
    "        n_splits=cnfg.num_folds, random_state=cnfg.seed + i, shuffle=True\n",
    "    )\n",
    "\n",
    "    oof_valid_preds = np.zeros(\n",
    "        train_feats.shape[0],\n",
    "    )\n",
    "\n",
    "    X_test = test_feats[train_cols]\n",
    "\n",
    "    for fold, (train_idx, valid_idx) in enumerate(kf.split(train_feats)):\n",
    "        print(\"==-\" * 50)\n",
    "        print(\"Fold : \", fold)\n",
    "\n",
    "        X_train, y_train = (\n",
    "            train_feats.iloc[train_idx][train_cols],\n",
    "            train_feats.iloc[train_idx][target_col],\n",
    "        )\n",
    "        X_valid, y_valid = (\n",
    "            train_feats.iloc[valid_idx][train_cols],\n",
    "            train_feats.iloc[valid_idx][target_col],\n",
    "        )\n",
    "\n",
    "        print(\"Trian :\", X_train.shape, y_train.shape)\n",
    "        print(\"Valid :\", X_valid.shape, y_valid.shape)\n",
    "\n",
    "        params = {\n",
    "            \"objective\": \"regression\",\n",
    "            \"boosting_type\": \"gbdt\",\n",
    "            \"metric\": \"rmse\",\n",
    "            # \"device_type\": \"gpu\",\n",
    "            \"verbosity\": -1,\n",
    "            \"bagging_freq\": 1,\n",
    "            \"random_state\": cnfg.seed,\n",
    "            \"n_estimators\": cnfg.num_estimators,\n",
    "            # \"early_stopping_rounds\": cnfg.num_trials_early_stopping,\n",
    "            **best_params,\n",
    "        }\n",
    "\n",
    "        model = lgb.LGBMRegressor(**params)\n",
    "\n",
    "        early_stopping_callback = lgb.early_stopping(\n",
    "            cnfg.num_trials_early_stopping, first_metric_only=True, verbose=False\n",
    "        )\n",
    "        verbose_callback = lgb.log_evaluation(100)\n",
    "\n",
    "        model.fit(\n",
    "            X_train,\n",
    "            y_train,\n",
    "            eval_set=[(X_valid, y_valid)],\n",
    "            callbacks=[early_stopping_callback, verbose_callback],\n",
    "        )\n",
    "\n",
    "        valid_predict = model.predict(X_valid)\n",
    "        oof_valid_preds[valid_idx] = valid_predict\n",
    "\n",
    "        test_predict = model.predict(X_test)\n",
    "        test_predict_list.append(test_predict)\n",
    "\n",
    "        score = metrics.mean_squared_error(y_valid, valid_predict, squared=False)\n",
    "        print(\"Fold RMSE Score : \", score)\n",
    "\n",
    "        models_dict[f\"{fold}_{i}\"] = model\n",
    "\n",
    "    oof_score = metrics.mean_squared_error(\n",
    "        train_feats[target_col], oof_valid_preds, squared=False\n",
    "    )\n",
    "    scores.append(oof_score)\n",
    "    print(\"OOF RMSE Score : \", oof_score)"
   ]
  },
  {
   "cell_type": "markdown",
   "id": "0223fa35-e6d2-4d43-9b93-fcea2fd4d046",
   "metadata": {
    "papermill": {
     "duration": 0.023331,
     "end_time": "2023-10-24T19:16:05.973301",
     "exception": false,
     "start_time": "2023-10-24T19:16:05.949970",
     "status": "completed"
    },
    "tags": []
   },
   "source": [
    "# Mean Feature Importances OF LGBM Models"
   ]
  },
  {
   "cell_type": "code",
   "execution_count": 93,
   "id": "3ebdd9d0-d680-4236-9844-bb30dfd6b5c7",
   "metadata": {
    "execution": {
     "iopub.execute_input": "2023-11-25T18:12:40.524760Z",
     "iopub.status.busy": "2023-11-25T18:12:40.524340Z",
     "iopub.status.idle": "2023-11-25T18:12:40.535851Z",
     "shell.execute_reply": "2023-11-25T18:12:40.535265Z",
     "shell.execute_reply.started": "2023-11-25T18:12:40.524736Z"
    },
    "papermill": {
     "duration": 0.045557,
     "end_time": "2023-10-24T19:16:06.042601",
     "exception": false,
     "start_time": "2023-10-24T19:16:05.997044",
     "status": "completed"
    },
    "tags": []
   },
   "outputs": [],
   "source": [
    "feature_importances_values = np.asarray(\n",
    "    [model.feature_importances_ for model in models_dict.values()]\n",
    ").mean(axis=0)\n",
    "feature_importance_df = pd.DataFrame(\n",
    "    {\"name\": train_cols, \"importance\": feature_importances_values}\n",
    ")\n",
    "\n",
    "feature_importance_df = feature_importance_df.sort_values(\"importance\", ascending=False)"
   ]
  },
  {
   "cell_type": "code",
   "execution_count": 94,
   "id": "337f36bd-0b57-44a5-8832-f00abfc5ef80",
   "metadata": {
    "execution": {
     "iopub.execute_input": "2023-11-25T18:12:40.536688Z",
     "iopub.status.busy": "2023-11-25T18:12:40.536473Z",
     "iopub.status.idle": "2023-11-25T18:12:40.542039Z",
     "shell.execute_reply": "2023-11-25T18:12:40.541643Z",
     "shell.execute_reply.started": "2023-11-25T18:12:40.536666Z"
    }
   },
   "outputs": [
    {
     "data": {
      "text/plain": [
       "0.6000144730697066"
      ]
     },
     "execution_count": 94,
     "metadata": {},
     "output_type": "execute_result"
    }
   ],
   "source": [
    "np.mean(scores)"
   ]
  },
  {
   "cell_type": "code",
   "execution_count": 95,
   "id": "14cea37e-205d-4508-8073-f7ff6e952f36",
   "metadata": {
    "execution": {
     "iopub.execute_input": "2023-11-25T18:12:40.543741Z",
     "iopub.status.busy": "2023-11-25T18:12:40.543459Z",
     "iopub.status.idle": "2023-11-25T18:12:40.547911Z",
     "shell.execute_reply": "2023-11-25T18:12:40.547495Z",
     "shell.execute_reply.started": "2023-11-25T18:12:40.543704Z"
    }
   },
   "outputs": [
    {
     "data": {
      "text/plain": [
       "0.6009025103465506"
      ]
     },
     "execution_count": 95,
     "metadata": {},
     "output_type": "execute_result"
    }
   ],
   "source": [
    "0.6009025103465506"
   ]
  },
  {
   "cell_type": "code",
   "execution_count": 96,
   "id": "78815a12-c60f-4212-83a6-85b47721bd7d",
   "metadata": {
    "execution": {
     "iopub.execute_input": "2023-11-25T18:12:40.548882Z",
     "iopub.status.busy": "2023-11-25T18:12:40.548543Z",
     "iopub.status.idle": "2023-11-25T18:12:40.554639Z",
     "shell.execute_reply": "2023-11-25T18:12:40.554150Z",
     "shell.execute_reply.started": "2023-11-25T18:12:40.548860Z"
    }
   },
   "outputs": [
    {
     "data": {
      "text/plain": [
       "0.6005351024728696"
      ]
     },
     "execution_count": 96,
     "metadata": {},
     "output_type": "execute_result"
    }
   ],
   "source": [
    "0.6005351024728696"
   ]
  },
  {
   "cell_type": "code",
   "execution_count": null,
   "id": "99d3fb08-b9d7-4ab3-909a-92069b2de516",
   "metadata": {},
   "outputs": [],
   "source": []
  },
  {
   "cell_type": "code",
   "execution_count": 97,
   "id": "593e5de5-b523-4353-b471-1b661b0aa7ee",
   "metadata": {
    "execution": {
     "iopub.execute_input": "2023-11-25T18:12:40.555758Z",
     "iopub.status.busy": "2023-11-25T18:12:40.555359Z",
     "iopub.status.idle": "2023-11-25T18:12:40.949848Z",
     "shell.execute_reply": "2023-11-25T18:12:40.949267Z",
     "shell.execute_reply.started": "2023-11-25T18:12:40.555737Z"
    },
    "papermill": {
     "duration": 1.14728,
     "end_time": "2023-10-24T19:16:07.212482",
     "exception": false,
     "start_time": "2023-10-24T19:16:06.065202",
     "status": "completed"
    },
    "tags": []
   },
   "outputs": [
    {
     "data": {
      "image/png": "[encoded data removed]",
      "text/plain": [
       "<Figure size 1500x600 with 1 Axes>"
      ]
     },
     "metadata": {},
     "output_type": "display_data"
    }
   ],
   "source": [
    "plt.figure(figsize=(15, 6))\n",
    "\n",
    "ax = sns.barplot(data=feature_importance_df.head(30), x=\"name\", y=\"importance\")\n",
    "ax.set_title(f\"Mean feature importances\")\n",
    "ax.set_xticks(ax.get_xticks(), ax.get_xticklabels(), rotation=90)\n",
    "\n",
    "plt.show()"
   ]
  },
  {
   "cell_type": "code",
   "execution_count": null,
   "id": "c54f2001-4bb0-472d-a59f-d1719d79ecc8",
   "metadata": {},
   "outputs": [],
   "source": []
  },
  {
   "cell_type": "markdown",
   "id": "7f6df2c0-1560-4c0e-9649-31e122e0c489",
   "metadata": {
    "papermill": {
     "duration": 0.02323,
     "end_time": "2023-10-24T19:16:07.930669",
     "exception": false,
     "start_time": "2023-10-24T19:16:07.907439",
     "status": "completed"
    },
    "tags": []
   },
   "source": [
    "# Predicting The Test Set\n",
    "\n",
    "We use the mean of all the predictions for all the fold models"
   ]
  },
  {
   "cell_type": "code",
   "execution_count": 98,
   "id": "6532d051-32a0-48a6-b918-50d46ffffe13",
   "metadata": {
    "execution": {
     "iopub.execute_input": "2023-11-25T18:12:40.950677Z",
     "iopub.status.busy": "2023-11-25T18:12:40.950529Z",
     "iopub.status.idle": "2023-11-25T18:12:40.953134Z",
     "shell.execute_reply": "2023-11-25T18:12:40.952657Z",
     "shell.execute_reply.started": "2023-11-25T18:12:40.950664Z"
    }
   },
   "outputs": [],
   "source": [
    "# test_predict_list"
   ]
  },
  {
   "cell_type": "code",
   "execution_count": 99,
   "id": "0bc12edf-40a2-4bb5-88a2-81715791d6b0",
   "metadata": {
    "execution": {
     "iopub.execute_input": "2023-11-25T18:12:40.953857Z",
     "iopub.status.busy": "2023-11-25T18:12:40.953682Z",
     "iopub.status.idle": "2023-11-25T18:12:40.967392Z",
     "shell.execute_reply": "2023-11-25T18:12:40.966797Z",
     "shell.execute_reply.started": "2023-11-25T18:12:40.953842Z"
    }
   },
   "outputs": [
    {
     "name": "stdout",
     "output_type": "stream",
     "text": [
      "Test Set RMSE Score :  0.6250251676120598\n"
     ]
    }
   ],
   "source": [
    "if cnfg.is_local:\n",
    "    # test_feats_df[\"pred_score\"] = np.mean(test_predict_list, axis=0)\n",
    "    test_rmse = metrics.mean_squared_error(\n",
    "        test_feats[\"score\"], np.mean(test_predict_list, axis=0), squared=False\n",
    "    )\n",
    "    print(\"Test Set RMSE Score : \", test_rmse)\n",
    "else:\n",
    "    test_feats[\"score\"] = np.mean(test_predict_list, axis=0)\n",
    "    test_feats[[\"id\", \"score\"]].to_csv(\"submission.csv\", index=False)"
   ]
  },
  {
   "cell_type": "code",
   "execution_count": null,
   "id": "0d94953d-009d-4718-9419-380846ca658e",
   "metadata": {
    "papermill": {
     "duration": 0.433478,
     "end_time": "2023-10-24T19:16:08.387728",
     "exception": false,
     "start_time": "2023-10-24T19:16:07.954250",
     "status": "completed"
    },
    "tags": []
   },
   "outputs": [],
   "source": []
  },
  {
   "cell_type": "code",
   "execution_count": null,
   "id": "93749cc2",
   "metadata": {
    "papermill": {
     "duration": 0.049712,
     "end_time": "2023-11-22T05:13:02.758988",
     "exception": false,
     "start_time": "2023-11-22T05:13:02.709276",
     "status": "completed"
    },
    "tags": []
   },
   "outputs": [],
   "source": []
  },
  {
   "cell_type": "code",
   "execution_count": null,
   "id": "3d5c5a6b-6d0d-4b38-b041-42c9fe43d511",
   "metadata": {},
   "outputs": [],
   "source": []
  },
  {
   "cell_type": "code",
   "execution_count": null,
   "id": "58dc006c-f930-45eb-b08f-8f534efc788c",
   "metadata": {},
   "outputs": [],
   "source": []
  }
 ],
 "metadata": {
  "kaggle": {
   "accelerator": "gpu",
   "dataSources": [
    {
     "databundleVersionId": 6678907,
     "sourceId": 59291,
     "sourceType": "competition"
    }
   ],
   "dockerImageVersionId": 30558,
   "isGpuEnabled": true,
   "isInternetEnabled": false,
   "language": "python",
   "sourceType": "notebook"
  },
  "kernelspec": {
   "display_name": "Python 3 (ipykernel)",
   "language": "python",
   "name": "python3"
  },
  "language_info": {
   "codemirror_mode": {
    "name": "ipython",
    "version": 3
   },
   "file_extension": ".py",
   "mimetype": "text/x-python",
   "name": "python",
   "nbconvert_exporter": "python",
   "pygments_lexer": "ipython3",
   "version": "3.9.12"
  },
  "papermill": {
   "default_parameters": {},
   "duration": 1515.184726,
   "end_time": "2023-11-22T05:13:05.317225",
   "environment_variables": {},
   "exception": null,
   "input_path": "__notebook__.ipynb",
   "output_path": "__notebook__.ipynb",
   "parameters": {},
   "start_time": "2023-11-22T04:47:50.132499",
   "version": "2.4.0"
  },
  "widgets": {
   "application/vnd.jupyter.widget-state+json": {
    "state": {
     "00f9456fc206497a9f702b36440f368d": {
      "model_module": "@jupyter-widgets/controls",
      "model_module_version": "1.5.0",
      "model_name": "FloatProgressModel",
      "state": {
       "_dom_classes": [],
       "_model_module": "@jupyter-widgets/controls",
       "_model_module_version": "1.5.0",
       "_model_name": "FloatProgressModel",
       "_view_count": null,
       "_view_module": "@jupyter-widgets/controls",
       "_view_module_version": "1.5.0",
       "_view_name": "ProgressView",
       "bar_style": "success",
       "description": "",
       "description_tooltip": null,
       "layout": "IPY_MODEL_39e7dbb9a0804a50b0244a48cbf8f3d5",
       "max": 3,
       "min": 0,
       "orientation": "horizontal",
       "style": "IPY_MODEL_9676067ac06f445db53fbf6210ece45f",
       "value": 3
      }
     },
     "028aa7254f2b437997db6ec355ac6e92": {
      "model_module": "@jupyter-widgets/base",
      "model_module_version": "1.2.0",
      "model_name": "LayoutModel",
      "state": {
       "_model_module": "@jupyter-widgets/base",
       "_model_module_version": "1.2.0",
       "_model_name": "LayoutModel",
       "_view_count": null,
       "_view_module": "@jupyter-widgets/base",
       "_view_module_version": "1.2.0",
       "_view_name": "LayoutView",
       "align_content": null,
       "align_items": null,
       "align_self": null,
       "border": null,
       "bottom": null,
       "display": null,
       "flex": null,
       "flex_flow": null,
       "grid_area": null,
       "grid_auto_columns": null,
       "grid_auto_flow": null,
       "grid_auto_rows": null,
       "grid_column": null,
       "grid_gap": null,
       "grid_row": null,
       "grid_template_areas": null,
       "grid_template_columns": null,
       "grid_template_rows": null,
       "height": null,
       "justify_content": null,
       "justify_items": null,
       "left": null,
       "margin": null,
       "max_height": null,
       "max_width": null,
       "min_height": null,
       "min_width": null,
       "object_fit": null,
       "object_position": null,
       "order": null,
       "overflow": null,
       "overflow_x": null,
       "overflow_y": null,
       "padding": null,
       "right": null,
       "top": null,
       "visibility": null,
       "width": null
      }
     },
     "03283cfa32ef4c05b60f089615596a6c": {
      "model_module": "@jupyter-widgets/base",
      "model_module_version": "1.2.0",
      "model_name": "LayoutModel",
      "state": {
       "_model_module": "@jupyter-widgets/base",
       "_model_module_version": "1.2.0",
       "_model_name": "LayoutModel",
       "_view_count": null,
       "_view_module": "@jupyter-widgets/base",
       "_view_module_version": "1.2.0",
       "_view_name": "LayoutView",
       "align_content": null,
       "align_items": null,
       "align_self": null,
       "border": null,
       "bottom": null,
       "display": null,
       "flex": null,
       "flex_flow": null,
       "grid_area": null,
       "grid_auto_columns": null,
       "grid_auto_flow": null,
       "grid_auto_rows": null,
       "grid_column": null,
       "grid_gap": null,
       "grid_row": null,
       "grid_template_areas": null,
       "grid_template_columns": null,
       "grid_template_rows": null,
       "height": null,
       "justify_content": null,
       "justify_items": null,
       "left": null,
       "margin": null,
       "max_height": null,
       "max_width": null,
       "min_height": null,
       "min_width": null,
       "object_fit": null,
       "object_position": null,
       "order": null,
       "overflow": null,
       "overflow_x": null,
       "overflow_y": null,
       "padding": null,
       "right": null,
       "top": null,
       "visibility": null,
       "width": null
      }
     },
     "058036a82e2a4393803cc7997c7014eb": {
      "model_module": "@jupyter-widgets/controls",
      "model_module_version": "1.5.0",
      "model_name": "HBoxModel",
      "state": {
       "_dom_classes": [],
       "_model_module": "@jupyter-widgets/controls",
       "_model_module_version": "1.5.0",
       "_model_name": "HBoxModel",
       "_view_count": null,
       "_view_module": "@jupyter-widgets/controls",
       "_view_module_version": "1.5.0",
       "_view_name": "HBoxView",
       "box_style": "",
       "children": [
        "IPY_MODEL_af1424e323e94e2f8ad280827deef565",
        "IPY_MODEL_00f9456fc206497a9f702b36440f368d",
        "IPY_MODEL_d31548e4521a4dc9935b6b0c8bd5d163"
       ],
       "layout": "IPY_MODEL_5b644b35cac543e4b3655d157a41238c"
      }
     },
     "06e769cc35914d0e968938eecc977ed5": {
      "model_module": "@jupyter-widgets/controls",
      "model_module_version": "1.5.0",
      "model_name": "DescriptionStyleModel",
      "state": {
       "_model_module": "@jupyter-widgets/controls",
       "_model_module_version": "1.5.0",
       "_model_name": "DescriptionStyleModel",
       "_view_count": null,
       "_view_module": "@jupyter-widgets/base",
       "_view_module_version": "1.2.0",
       "_view_name": "StyleView",
       "description_width": ""
      }
     },
     "077b679760324f689a8272aeafc816ec": {
      "model_module": "@jupyter-widgets/base",
      "model_module_version": "1.2.0",
      "model_name": "LayoutModel",
      "state": {
       "_model_module": "@jupyter-widgets/base",
       "_model_module_version": "1.2.0",
       "_model_name": "LayoutModel",
       "_view_count": null,
       "_view_module": "@jupyter-widgets/base",
       "_view_module_version": "1.2.0",
       "_view_name": "LayoutView",
       "align_content": null,
       "align_items": null,
       "align_self": null,
       "border": null,
       "bottom": null,
       "display": null,
       "flex": null,
       "flex_flow": null,
       "grid_area": null,
       "grid_auto_columns": null,
       "grid_auto_flow": null,
       "grid_auto_rows": null,
       "grid_column": null,
       "grid_gap": null,
       "grid_row": null,
       "grid_template_areas": null,
       "grid_template_columns": null,
       "grid_template_rows": null,
       "height": null,
       "justify_content": null,
       "justify_items": null,
       "left": null,
       "margin": null,
       "max_height": null,
       "max_width": null,
       "min_height": null,
       "min_width": null,
       "object_fit": null,
       "object_position": null,
       "order": null,
       "overflow": null,
       "overflow_x": null,
       "overflow_y": null,
       "padding": null,
       "right": null,
       "top": null,
       "visibility": null,
       "width": null
      }
     },
     "08d2ea0babd344cbabbd5982ba00003b": {
      "model_module": "@jupyter-widgets/controls",
      "model_module_version": "1.5.0",
      "model_name": "DescriptionStyleModel",
      "state": {
       "_model_module": "@jupyter-widgets/controls",
       "_model_module_version": "1.5.0",
       "_model_name": "DescriptionStyleModel",
       "_view_count": null,
       "_view_module": "@jupyter-widgets/base",
       "_view_module_version": "1.2.0",
       "_view_name": "StyleView",
       "description_width": ""
      }
     },
     "09491b4f9326457495b5d70c2e4d7e2c": {
      "model_module": "@jupyter-widgets/base",
      "model_module_version": "1.2.0",
      "model_name": "LayoutModel",
      "state": {
       "_model_module": "@jupyter-widgets/base",
       "_model_module_version": "1.2.0",
       "_model_name": "LayoutModel",
       "_view_count": null,
       "_view_module": "@jupyter-widgets/base",
       "_view_module_version": "1.2.0",
       "_view_name": "LayoutView",
       "align_content": null,
       "align_items": null,
       "align_self": null,
       "border": null,
       "bottom": null,
       "display": null,
       "flex": null,
       "flex_flow": null,
       "grid_area": null,
       "grid_auto_columns": null,
       "grid_auto_flow": null,
       "grid_auto_rows": null,
       "grid_column": null,
       "grid_gap": null,
       "grid_row": null,
       "grid_template_areas": null,
       "grid_template_columns": null,
       "grid_template_rows": null,
       "height": null,
       "justify_content": null,
       "justify_items": null,
       "left": null,
       "margin": null,
       "max_height": null,
       "max_width": null,
       "min_height": null,
       "min_width": null,
       "object_fit": null,
       "object_position": null,
       "order": null,
       "overflow": null,
       "overflow_x": null,
       "overflow_y": null,
       "padding": null,
       "right": null,
       "top": null,
       "visibility": null,
       "width": null
      }
     },
     "0c6b73c3a2634d9c9650821f1a567858": {
      "model_module": "@jupyter-widgets/controls",
      "model_module_version": "1.5.0",
      "model_name": "HBoxModel",
      "state": {
       "_dom_classes": [],
       "_model_module": "@jupyter-widgets/controls",
       "_model_module_version": "1.5.0",
       "_model_name": "HBoxModel",
       "_view_count": null,
       "_view_module": "@jupyter-widgets/controls",
       "_view_module_version": "1.5.0",
       "_view_name": "HBoxView",
       "box_style": "",
       "children": [
        "IPY_MODEL_5e7d7e0f435a4d03868979f32241effb",
        "IPY_MODEL_782b33fa192e483a8f8405019b8ffa1a",
        "IPY_MODEL_26410c6b60f94dd4a68367e8addb4204"
       ],
       "layout": "IPY_MODEL_87b1895226bb40188ba70ba0301c34cf"
      }
     },
     "0e7e7728ab5d447aa63a48a170de5672": {
      "model_module": "@jupyter-widgets/controls",
      "model_module_version": "1.5.0",
      "model_name": "HTMLModel",
      "state": {
       "_dom_classes": [],
       "_model_module": "@jupyter-widgets/controls",
       "_model_module_version": "1.5.0",
       "_model_name": "HTMLModel",
       "_view_count": null,
       "_view_module": "@jupyter-widgets/controls",
       "_view_module_version": "1.5.0",
       "_view_name": "HTMLView",
       "description": "",
       "description_tooltip": null,
       "layout": "IPY_MODEL_7b2999bacf4a4966b52f67f6b09d8810",
       "placeholder": "​",
       "style": "IPY_MODEL_e785c67820b14ae7ade2b610e1bea013",
       "value": " 33/33 [00:01&lt;00:00, 20.81it/s, column=word_count_change100, method=kurt]"
      }
     },
     "0e839e8a8b424aea82527c0fdab96606": {
      "model_module": "@jupyter-widgets/base",
      "model_module_version": "1.2.0",
      "model_name": "LayoutModel",
      "state": {
       "_model_module": "@jupyter-widgets/base",
       "_model_module_version": "1.2.0",
       "_model_name": "LayoutModel",
       "_view_count": null,
       "_view_module": "@jupyter-widgets/base",
       "_view_module_version": "1.2.0",
       "_view_name": "LayoutView",
       "align_content": null,
       "align_items": null,
       "align_self": null,
       "border": null,
       "bottom": null,
       "display": null,
       "flex": null,
       "flex_flow": null,
       "grid_area": null,
       "grid_auto_columns": null,
       "grid_auto_flow": null,
       "grid_auto_rows": null,
       "grid_column": null,
       "grid_gap": null,
       "grid_row": null,
       "grid_template_areas": null,
       "grid_template_columns": null,
       "grid_template_rows": null,
       "height": null,
       "justify_content": null,
       "justify_items": null,
       "left": null,
       "margin": null,
       "max_height": null,
       "max_width": null,
       "min_height": null,
       "min_width": null,
       "object_fit": null,
       "object_position": null,
       "order": null,
       "overflow": null,
       "overflow_x": null,
       "overflow_y": null,
       "padding": null,
       "right": null,
       "top": null,
       "visibility": null,
       "width": null
      }
     },
     "0eb8b7d6d45d43cdb97b1b35e29f7c41": {
      "model_module": "@jupyter-widgets/base",
      "model_module_version": "1.2.0",
      "model_name": "LayoutModel",
      "state": {
       "_model_module": "@jupyter-widgets/base",
       "_model_module_version": "1.2.0",
       "_model_name": "LayoutModel",
       "_view_count": null,
       "_view_module": "@jupyter-widgets/base",
       "_view_module_version": "1.2.0",
       "_view_name": "LayoutView",
       "align_content": null,
       "align_items": null,
       "align_self": null,
       "border": null,
       "bottom": null,
       "display": null,
       "flex": null,
       "flex_flow": null,
       "grid_area": null,
       "grid_auto_columns": null,
       "grid_auto_flow": null,
       "grid_auto_rows": null,
       "grid_column": null,
       "grid_gap": null,
       "grid_row": null,
       "grid_template_areas": null,
       "grid_template_columns": null,
       "grid_template_rows": null,
       "height": null,
       "justify_content": null,
       "justify_items": null,
       "left": null,
       "margin": null,
       "max_height": null,
       "max_width": null,
       "min_height": null,
       "min_width": null,
       "object_fit": null,
       "object_position": null,
       "order": null,
       "overflow": null,
       "overflow_x": null,
       "overflow_y": null,
       "padding": null,
       "right": null,
       "top": null,
       "visibility": null,
       "width": null
      }
     },
     "133abfcbb0cc40d1b946821ad15cf32c": {
      "model_module": "@jupyter-widgets/base",
      "model_module_version": "1.2.0",
      "model_name": "LayoutModel",
      "state": {
       "_model_module": "@jupyter-widgets/base",
       "_model_module_version": "1.2.0",
       "_model_name": "LayoutModel",
       "_view_count": null,
       "_view_module": "@jupyter-widgets/base",
       "_view_module_version": "1.2.0",
       "_view_name": "LayoutView",
       "align_content": null,
       "align_items": null,
       "align_self": null,
       "border": null,
       "bottom": null,
       "display": null,
       "flex": null,
       "flex_flow": null,
       "grid_area": null,
       "grid_auto_columns": null,
       "grid_auto_flow": null,
       "grid_auto_rows": null,
       "grid_column": null,
       "grid_gap": null,
       "grid_row": null,
       "grid_template_areas": null,
       "grid_template_columns": null,
       "grid_template_rows": null,
       "height": null,
       "justify_content": null,
       "justify_items": null,
       "left": null,
       "margin": null,
       "max_height": null,
       "max_width": null,
       "min_height": null,
       "min_width": null,
       "object_fit": null,
       "object_position": null,
       "order": null,
       "overflow": null,
       "overflow_x": null,
       "overflow_y": null,
       "padding": null,
       "right": null,
       "top": null,
       "visibility": null,
       "width": null
      }
     },
     "15b3def35e5f42f0b3d6775e86ef939e": {
      "model_module": "@jupyter-widgets/controls",
      "model_module_version": "1.5.0",
      "model_name": "FloatProgressModel",
      "state": {
       "_dom_classes": [],
       "_model_module": "@jupyter-widgets/controls",
       "_model_module_version": "1.5.0",
       "_model_name": "FloatProgressModel",
       "_view_count": null,
       "_view_module": "@jupyter-widgets/controls",
       "_view_module_version": "1.5.0",
       "_view_name": "ProgressView",
       "bar_style": "success",
       "description": "",
       "description_tooltip": null,
       "layout": "IPY_MODEL_53302bd5df094b21a0ad5a9f5e1a7c85",
       "max": 2471,
       "min": 0,
       "orientation": "horizontal",
       "style": "IPY_MODEL_4054da4c6da44d1983ca3b883b2c18a7",
       "value": 2471
      }
     },
     "16c50d044925401abba5785c279875d9": {
      "model_module": "@jupyter-widgets/controls",
      "model_module_version": "1.5.0",
      "model_name": "HTMLModel",
      "state": {
       "_dom_classes": [],
       "_model_module": "@jupyter-widgets/controls",
       "_model_module_version": "1.5.0",
       "_model_name": "HTMLModel",
       "_view_count": null,
       "_view_module": "@jupyter-widgets/controls",
       "_view_module_version": "1.5.0",
       "_view_name": "HTMLView",
       "description": "",
       "description_tooltip": null,
       "layout": "IPY_MODEL_b23f76cf4d924ab48c9418ea1796c42f",
       "placeholder": "​",
       "style": "IPY_MODEL_58684898f38844c2b75f4eefdca28332",
       "value": " 2471/2471 [00:00&lt;00:00, 5551.86it/s]"
      }
     },
     "180aef39e0694a28977cbb9cebce5fdf": {
      "model_module": "@jupyter-widgets/controls",
      "model_module_version": "1.5.0",
      "model_name": "HTMLModel",
      "state": {
       "_dom_classes": [],
       "_model_module": "@jupyter-widgets/controls",
       "_model_module_version": "1.5.0",
       "_model_name": "HTMLModel",
       "_view_count": null,
       "_view_module": "@jupyter-widgets/controls",
       "_view_module_version": "1.5.0",
       "_view_name": "HTMLView",
       "description": "",
       "description_tooltip": null,
       "layout": "IPY_MODEL_25065b6905794d26844b861c1af5cc58",
       "placeholder": "​",
       "style": "IPY_MODEL_29a2a9abfc0a421e8b072c95c21b7224",
       "value": " 2471/2471 [00:07&lt;00:00, 346.64it/s]"
      }
     },
     "183afc09a7c74a9490b9bd9933d689d1": {
      "model_module": "@jupyter-widgets/controls",
      "model_module_version": "1.5.0",
      "model_name": "HBoxModel",
      "state": {
       "_dom_classes": [],
       "_model_module": "@jupyter-widgets/controls",
       "_model_module_version": "1.5.0",
       "_model_name": "HBoxModel",
       "_view_count": null,
       "_view_module": "@jupyter-widgets/controls",
       "_view_module_version": "1.5.0",
       "_view_name": "HBoxView",
       "box_style": "",
       "children": [
        "IPY_MODEL_97a5acde57b54e818a3039739ac636cf",
        "IPY_MODEL_4f1e585537b142a2980e912a20cee8c1",
        "IPY_MODEL_7cb0e15222a24715817fa55932cfae28"
       ],
       "layout": "IPY_MODEL_b8c4bf4943784135be2bd1b19e27bf2c"
      }
     },
     "1a39cb800c894d269635b417b3cbd645": {
      "model_module": "@jupyter-widgets/controls",
      "model_module_version": "1.5.0",
      "model_name": "DescriptionStyleModel",
      "state": {
       "_model_module": "@jupyter-widgets/controls",
       "_model_module_version": "1.5.0",
       "_model_name": "DescriptionStyleModel",
       "_view_count": null,
       "_view_module": "@jupyter-widgets/base",
       "_view_module_version": "1.2.0",
       "_view_name": "StyleView",
       "description_width": ""
      }
     },
     "1a5737b7b77a42d0baaad8dd531b3f1c": {
      "model_module": "@jupyter-widgets/controls",
      "model_module_version": "1.5.0",
      "model_name": "DescriptionStyleModel",
      "state": {
       "_model_module": "@jupyter-widgets/controls",
       "_model_module_version": "1.5.0",
       "_model_name": "DescriptionStyleModel",
       "_view_count": null,
       "_view_module": "@jupyter-widgets/base",
       "_view_module_version": "1.2.0",
       "_view_name": "StyleView",
       "description_width": ""
      }
     },
     "1b3b1575df4e47df8128dcba2a65b47f": {
      "model_module": "@jupyter-widgets/base",
      "model_module_version": "1.2.0",
      "model_name": "LayoutModel",
      "state": {
       "_model_module": "@jupyter-widgets/base",
       "_model_module_version": "1.2.0",
       "_model_name": "LayoutModel",
       "_view_count": null,
       "_view_module": "@jupyter-widgets/base",
       "_view_module_version": "1.2.0",
       "_view_name": "LayoutView",
       "align_content": null,
       "align_items": null,
       "align_self": null,
       "border": null,
       "bottom": null,
       "display": null,
       "flex": null,
       "flex_flow": null,
       "grid_area": null,
       "grid_auto_columns": null,
       "grid_auto_flow": null,
       "grid_auto_rows": null,
       "grid_column": null,
       "grid_gap": null,
       "grid_row": null,
       "grid_template_areas": null,
       "grid_template_columns": null,
       "grid_template_rows": null,
       "height": null,
       "justify_content": null,
       "justify_items": null,
       "left": null,
       "margin": null,
       "max_height": null,
       "max_width": null,
       "min_height": null,
       "min_width": null,
       "object_fit": null,
       "object_position": null,
       "order": null,
       "overflow": null,
       "overflow_x": null,
       "overflow_y": null,
       "padding": null,
       "right": null,
       "top": null,
       "visibility": null,
       "width": null
      }
     },
     "1b41d9f0373d4b2681a3bcc9bf9527a0": {
      "model_module": "@jupyter-widgets/controls",
      "model_module_version": "1.5.0",
      "model_name": "HBoxModel",
      "state": {
       "_dom_classes": [],
       "_model_module": "@jupyter-widgets/controls",
       "_model_module_version": "1.5.0",
       "_model_name": "HBoxModel",
       "_view_count": null,
       "_view_module": "@jupyter-widgets/controls",
       "_view_module_version": "1.5.0",
       "_view_name": "HBoxView",
       "box_style": "",
       "children": [
        "IPY_MODEL_a647910294014fffb5e2ef2950eeaaa4",
        "IPY_MODEL_15b3def35e5f42f0b3d6775e86ef939e",
        "IPY_MODEL_16c50d044925401abba5785c279875d9"
       ],
       "layout": "IPY_MODEL_3e4ecfc93ad84087b68a62ce7641714b"
      }
     },
     "1b4213e8cfe145efb43263d0f2ec0fb8": {
      "model_module": "@jupyter-widgets/base",
      "model_module_version": "1.2.0",
      "model_name": "LayoutModel",
      "state": {
       "_model_module": "@jupyter-widgets/base",
       "_model_module_version": "1.2.0",
       "_model_name": "LayoutModel",
       "_view_count": null,
       "_view_module": "@jupyter-widgets/base",
       "_view_module_version": "1.2.0",
       "_view_name": "LayoutView",
       "align_content": null,
       "align_items": null,
       "align_self": null,
       "border": null,
       "bottom": null,
       "display": null,
       "flex": null,
       "flex_flow": null,
       "grid_area": null,
       "grid_auto_columns": null,
       "grid_auto_flow": null,
       "grid_auto_rows": null,
       "grid_column": null,
       "grid_gap": null,
       "grid_row": null,
       "grid_template_areas": null,
       "grid_template_columns": null,
       "grid_template_rows": null,
       "height": null,
       "justify_content": null,
       "justify_items": null,
       "left": null,
       "margin": null,
       "max_height": null,
       "max_width": null,
       "min_height": null,
       "min_width": null,
       "object_fit": null,
       "object_position": null,
       "order": null,
       "overflow": null,
       "overflow_x": null,
       "overflow_y": null,
       "padding": null,
       "right": null,
       "top": null,
       "visibility": null,
       "width": null
      }
     },
     "1b48156d79cd41348e0a7248b1132650": {
      "model_module": "@jupyter-widgets/controls",
      "model_module_version": "1.5.0",
      "model_name": "FloatProgressModel",
      "state": {
       "_dom_classes": [],
       "_model_module": "@jupyter-widgets/controls",
       "_model_module_version": "1.5.0",
       "_model_name": "FloatProgressModel",
       "_view_count": null,
       "_view_module": "@jupyter-widgets/controls",
       "_view_module_version": "1.5.0",
       "_view_name": "ProgressView",
       "bar_style": "success",
       "description": "",
       "description_tooltip": null,
       "layout": "IPY_MODEL_70834571cf944ed4be77b2894f57047e",
       "max": 2471,
       "min": 0,
       "orientation": "horizontal",
       "style": "IPY_MODEL_a9e252c48d45433ca5367f21ab473f13",
       "value": 2471
      }
     },
     "1bf40e695587405880eb26a0e9d40133": {
      "model_module": "@jupyter-widgets/controls",
      "model_module_version": "1.5.0",
      "model_name": "DescriptionStyleModel",
      "state": {
       "_model_module": "@jupyter-widgets/controls",
       "_model_module_version": "1.5.0",
       "_model_name": "DescriptionStyleModel",
       "_view_count": null,
       "_view_module": "@jupyter-widgets/base",
       "_view_module_version": "1.2.0",
       "_view_name": "StyleView",
       "description_width": ""
      }
     },
     "20335a5c53ae452880109960047ac661": {
      "model_module": "@jupyter-widgets/controls",
      "model_module_version": "1.5.0",
      "model_name": "ProgressStyleModel",
      "state": {
       "_model_module": "@jupyter-widgets/controls",
       "_model_module_version": "1.5.0",
       "_model_name": "ProgressStyleModel",
       "_view_count": null,
       "_view_module": "@jupyter-widgets/base",
       "_view_module_version": "1.2.0",
       "_view_name": "StyleView",
       "bar_color": null,
       "description_width": ""
      }
     },
     "2120db3fb6c94982b651520f3e455683": {
      "model_module": "@jupyter-widgets/base",
      "model_module_version": "1.2.0",
      "model_name": "LayoutModel",
      "state": {
       "_model_module": "@jupyter-widgets/base",
       "_model_module_version": "1.2.0",
       "_model_name": "LayoutModel",
       "_view_count": null,
       "_view_module": "@jupyter-widgets/base",
       "_view_module_version": "1.2.0",
       "_view_name": "LayoutView",
       "align_content": null,
       "align_items": null,
       "align_self": null,
       "border": null,
       "bottom": null,
       "display": null,
       "flex": null,
       "flex_flow": null,
       "grid_area": null,
       "grid_auto_columns": null,
       "grid_auto_flow": null,
       "grid_auto_rows": null,
       "grid_column": null,
       "grid_gap": null,
       "grid_row": null,
       "grid_template_areas": null,
       "grid_template_columns": null,
       "grid_template_rows": null,
       "height": null,
       "justify_content": null,
       "justify_items": null,
       "left": null,
       "margin": null,
       "max_height": null,
       "max_width": null,
       "min_height": null,
       "min_width": null,
       "object_fit": null,
       "object_position": null,
       "order": null,
       "overflow": null,
       "overflow_x": null,
       "overflow_y": null,
       "padding": null,
       "right": null,
       "top": null,
       "visibility": null,
       "width": null
      }
     },
     "238e8f111b0a45c380d5af35ffd17f9e": {
      "model_module": "@jupyter-widgets/base",
      "model_module_version": "1.2.0",
      "model_name": "LayoutModel",
      "state": {
       "_model_module": "@jupyter-widgets/base",
       "_model_module_version": "1.2.0",
       "_model_name": "LayoutModel",
       "_view_count": null,
       "_view_module": "@jupyter-widgets/base",
       "_view_module_version": "1.2.0",
       "_view_name": "LayoutView",
       "align_content": null,
       "align_items": null,
       "align_self": null,
       "border": null,
       "bottom": null,
       "display": null,
       "flex": null,
       "flex_flow": null,
       "grid_area": null,
       "grid_auto_columns": null,
       "grid_auto_flow": null,
       "grid_auto_rows": null,
       "grid_column": null,
       "grid_gap": null,
       "grid_row": null,
       "grid_template_areas": null,
       "grid_template_columns": null,
       "grid_template_rows": null,
       "height": null,
       "justify_content": null,
       "justify_items": null,
       "left": null,
       "margin": null,
       "max_height": null,
       "max_width": null,
       "min_height": null,
       "min_width": null,
       "object_fit": null,
       "object_position": null,
       "order": null,
       "overflow": null,
       "overflow_x": null,
       "overflow_y": null,
       "padding": null,
       "right": null,
       "top": null,
       "visibility": null,
       "width": null
      }
     },
     "23b493013d524fcab8cf49667bfbceae": {
      "model_module": "@jupyter-widgets/base",
      "model_module_version": "1.2.0",
      "model_name": "LayoutModel",
      "state": {
       "_model_module": "@jupyter-widgets/base",
       "_model_module_version": "1.2.0",
       "_model_name": "LayoutModel",
       "_view_count": null,
       "_view_module": "@jupyter-widgets/base",
       "_view_module_version": "1.2.0",
       "_view_name": "LayoutView",
       "align_content": null,
       "align_items": null,
       "align_self": null,
       "border": null,
       "bottom": null,
       "display": null,
       "flex": null,
       "flex_flow": null,
       "grid_area": null,
       "grid_auto_columns": null,
       "grid_auto_flow": null,
       "grid_auto_rows": null,
       "grid_column": null,
       "grid_gap": null,
       "grid_row": null,
       "grid_template_areas": null,
       "grid_template_columns": null,
       "grid_template_rows": null,
       "height": null,
       "justify_content": null,
       "justify_items": null,
       "left": null,
       "margin": null,
       "max_height": null,
       "max_width": null,
       "min_height": null,
       "min_width": null,
       "object_fit": null,
       "object_position": null,
       "order": null,
       "overflow": null,
       "overflow_x": null,
       "overflow_y": null,
       "padding": null,
       "right": null,
       "top": null,
       "visibility": null,
       "width": null
      }
     },
     "25065b6905794d26844b861c1af5cc58": {
      "model_module": "@jupyter-widgets/base",
      "model_module_version": "1.2.0",
      "model_name": "LayoutModel",
      "state": {
       "_model_module": "@jupyter-widgets/base",
       "_model_module_version": "1.2.0",
       "_model_name": "LayoutModel",
       "_view_count": null,
       "_view_module": "@jupyter-widgets/base",
       "_view_module_version": "1.2.0",
       "_view_name": "LayoutView",
       "align_content": null,
       "align_items": null,
       "align_self": null,
       "border": null,
       "bottom": null,
       "display": null,
       "flex": null,
       "flex_flow": null,
       "grid_area": null,
       "grid_auto_columns": null,
       "grid_auto_flow": null,
       "grid_auto_rows": null,
       "grid_column": null,
       "grid_gap": null,
       "grid_row": null,
       "grid_template_areas": null,
       "grid_template_columns": null,
       "grid_template_rows": null,
       "height": null,
       "justify_content": null,
       "justify_items": null,
       "left": null,
       "margin": null,
       "max_height": null,
       "max_width": null,
       "min_height": null,
       "min_width": null,
       "object_fit": null,
       "object_position": null,
       "order": null,
       "overflow": null,
       "overflow_x": null,
       "overflow_y": null,
       "padding": null,
       "right": null,
       "top": null,
       "visibility": null,
       "width": null
      }
     },
     "2520687fec6e42f18a8b300d7784e44c": {
      "model_module": "@jupyter-widgets/controls",
      "model_module_version": "1.5.0",
      "model_name": "HBoxModel",
      "state": {
       "_dom_classes": [],
       "_model_module": "@jupyter-widgets/controls",
       "_model_module_version": "1.5.0",
       "_model_name": "HBoxModel",
       "_view_count": null,
       "_view_module": "@jupyter-widgets/controls",
       "_view_module_version": "1.5.0",
       "_view_name": "HBoxView",
       "box_style": "",
       "children": [
        "IPY_MODEL_ef38f995e02347ffb9bb9fb0c7df4ba1",
        "IPY_MODEL_329b8eea540340b89a808d1fe67b86e4",
        "IPY_MODEL_d5e6bd075f014403b12650ffaf0a756f"
       ],
       "layout": "IPY_MODEL_c5ab9bf7e7284fa2a817d4434e2255e8"
      }
     },
     "260e4e9488884ebabb2c674965998800": {
      "model_module": "@jupyter-widgets/controls",
      "model_module_version": "1.5.0",
      "model_name": "FloatProgressModel",
      "state": {
       "_dom_classes": [],
       "_model_module": "@jupyter-widgets/controls",
       "_model_module_version": "1.5.0",
       "_model_name": "FloatProgressModel",
       "_view_count": null,
       "_view_module": "@jupyter-widgets/controls",
       "_view_module_version": "1.5.0",
       "_view_name": "ProgressView",
       "bar_style": "success",
       "description": "",
       "description_tooltip": null,
       "layout": "IPY_MODEL_077b679760324f689a8272aeafc816ec",
       "max": 2471,
       "min": 0,
       "orientation": "horizontal",
       "style": "IPY_MODEL_841888a574144933b07f16385e76dacb",
       "value": 2471
      }
     },
     "26410c6b60f94dd4a68367e8addb4204": {
      "model_module": "@jupyter-widgets/controls",
      "model_module_version": "1.5.0",
      "model_name": "HTMLModel",
      "state": {
       "_dom_classes": [],
       "_model_module": "@jupyter-widgets/controls",
       "_model_module_version": "1.5.0",
       "_model_name": "HTMLModel",
       "_view_count": null,
       "_view_module": "@jupyter-widgets/controls",
       "_view_module_version": "1.5.0",
       "_view_name": "HTMLView",
       "description": "",
       "description_tooltip": null,
       "layout": "IPY_MODEL_0eb8b7d6d45d43cdb97b1b35e29f7c41",
       "placeholder": "​",
       "style": "IPY_MODEL_6821a66cf33e4aeba1db42a712fa129c",
       "value": " 3/3 [00:00&lt;00:00, 294.32it/s]"
      }
     },
     "26f4759f7a49422fa58bd4a0dc17e837": {
      "model_module": "@jupyter-widgets/base",
      "model_module_version": "1.2.0",
      "model_name": "LayoutModel",
      "state": {
       "_model_module": "@jupyter-widgets/base",
       "_model_module_version": "1.2.0",
       "_model_name": "LayoutModel",
       "_view_count": null,
       "_view_module": "@jupyter-widgets/base",
       "_view_module_version": "1.2.0",
       "_view_name": "LayoutView",
       "align_content": null,
       "align_items": null,
       "align_self": null,
       "border": null,
       "bottom": null,
       "display": null,
       "flex": null,
       "flex_flow": null,
       "grid_area": null,
       "grid_auto_columns": null,
       "grid_auto_flow": null,
       "grid_auto_rows": null,
       "grid_column": null,
       "grid_gap": null,
       "grid_row": null,
       "grid_template_areas": null,
       "grid_template_columns": null,
       "grid_template_rows": null,
       "height": null,
       "justify_content": null,
       "justify_items": null,
       "left": null,
       "margin": null,
       "max_height": null,
       "max_width": null,
       "min_height": null,
       "min_width": null,
       "object_fit": null,
       "object_position": null,
       "order": null,
       "overflow": null,
       "overflow_x": null,
       "overflow_y": null,
       "padding": null,
       "right": null,
       "top": null,
       "visibility": null,
       "width": null
      }
     },
     "27a9aa6e61204b10a56e991e794773f3": {
      "model_module": "@jupyter-widgets/base",
      "model_module_version": "1.2.0",
      "model_name": "LayoutModel",
      "state": {
       "_model_module": "@jupyter-widgets/base",
       "_model_module_version": "1.2.0",
       "_model_name": "LayoutModel",
       "_view_count": null,
       "_view_module": "@jupyter-widgets/base",
       "_view_module_version": "1.2.0",
       "_view_name": "LayoutView",
       "align_content": null,
       "align_items": null,
       "align_self": null,
       "border": null,
       "bottom": null,
       "display": null,
       "flex": null,
       "flex_flow": null,
       "grid_area": null,
       "grid_auto_columns": null,
       "grid_auto_flow": null,
       "grid_auto_rows": null,
       "grid_column": null,
       "grid_gap": null,
       "grid_row": null,
       "grid_template_areas": null,
       "grid_template_columns": null,
       "grid_template_rows": null,
       "height": null,
       "justify_content": null,
       "justify_items": null,
       "left": null,
       "margin": null,
       "max_height": null,
       "max_width": null,
       "min_height": null,
       "min_width": null,
       "object_fit": null,
       "object_position": null,
       "order": null,
       "overflow": null,
       "overflow_x": null,
       "overflow_y": null,
       "padding": null,
       "right": null,
       "top": null,
       "visibility": null,
       "width": null
      }
     },
     "2881c66453a4463aaaf8ae80ecf67039": {
      "model_module": "@jupyter-widgets/controls",
      "model_module_version": "1.5.0",
      "model_name": "ProgressStyleModel",
      "state": {
       "_model_module": "@jupyter-widgets/controls",
       "_model_module_version": "1.5.0",
       "_model_name": "ProgressStyleModel",
       "_view_count": null,
       "_view_module": "@jupyter-widgets/base",
       "_view_module_version": "1.2.0",
       "_view_name": "StyleView",
       "bar_color": null,
       "description_width": ""
      }
     },
     "29a2a9abfc0a421e8b072c95c21b7224": {
      "model_module": "@jupyter-widgets/controls",
      "model_module_version": "1.5.0",
      "model_name": "DescriptionStyleModel",
      "state": {
       "_model_module": "@jupyter-widgets/controls",
       "_model_module_version": "1.5.0",
       "_model_name": "DescriptionStyleModel",
       "_view_count": null,
       "_view_module": "@jupyter-widgets/base",
       "_view_module_version": "1.2.0",
       "_view_name": "StyleView",
       "description_width": ""
      }
     },
     "2f20917bd5024751af7eab128b59d6be": {
      "model_module": "@jupyter-widgets/base",
      "model_module_version": "1.2.0",
      "model_name": "LayoutModel",
      "state": {
       "_model_module": "@jupyter-widgets/base",
       "_model_module_version": "1.2.0",
       "_model_name": "LayoutModel",
       "_view_count": null,
       "_view_module": "@jupyter-widgets/base",
       "_view_module_version": "1.2.0",
       "_view_name": "LayoutView",
       "align_content": null,
       "align_items": null,
       "align_self": null,
       "border": null,
       "bottom": null,
       "display": null,
       "flex": null,
       "flex_flow": null,
       "grid_area": null,
       "grid_auto_columns": null,
       "grid_auto_flow": null,
       "grid_auto_rows": null,
       "grid_column": null,
       "grid_gap": null,
       "grid_row": null,
       "grid_template_areas": null,
       "grid_template_columns": null,
       "grid_template_rows": null,
       "height": null,
       "justify_content": null,
       "justify_items": null,
       "left": null,
       "margin": null,
       "max_height": null,
       "max_width": null,
       "min_height": null,
       "min_width": null,
       "object_fit": null,
       "object_position": null,
       "order": null,
       "overflow": null,
       "overflow_x": null,
       "overflow_y": null,
       "padding": null,
       "right": null,
       "top": null,
       "visibility": null,
       "width": null
      }
     },
     "329b8eea540340b89a808d1fe67b86e4": {
      "model_module": "@jupyter-widgets/controls",
      "model_module_version": "1.5.0",
      "model_name": "FloatProgressModel",
      "state": {
       "_dom_classes": [],
       "_model_module": "@jupyter-widgets/controls",
       "_model_module_version": "1.5.0",
       "_model_name": "FloatProgressModel",
       "_view_count": null,
       "_view_module": "@jupyter-widgets/controls",
       "_view_module_version": "1.5.0",
       "_view_name": "ProgressView",
       "bar_style": "success",
       "description": "",
       "description_tooltip": null,
       "layout": "IPY_MODEL_5b4b26036873438d98690bdb81927b17",
       "max": 3,
       "min": 0,
       "orientation": "horizontal",
       "style": "IPY_MODEL_d25f56ce628044c7a84d752a583f4040",
       "value": 3
      }
     },
     "330456d5445c4fe9ad5d8ba462bfcaeb": {
      "model_module": "@jupyter-widgets/controls",
      "model_module_version": "1.5.0",
      "model_name": "DescriptionStyleModel",
      "state": {
       "_model_module": "@jupyter-widgets/controls",
       "_model_module_version": "1.5.0",
       "_model_name": "DescriptionStyleModel",
       "_view_count": null,
       "_view_module": "@jupyter-widgets/base",
       "_view_module_version": "1.2.0",
       "_view_name": "StyleView",
       "description_width": ""
      }
     },
     "3367e74bef4e4bb7ad09df558713021b": {
      "model_module": "@jupyter-widgets/controls",
      "model_module_version": "1.5.0",
      "model_name": "HTMLModel",
      "state": {
       "_dom_classes": [],
       "_model_module": "@jupyter-widgets/controls",
       "_model_module_version": "1.5.0",
       "_model_name": "HTMLModel",
       "_view_count": null,
       "_view_module": "@jupyter-widgets/controls",
       "_view_module_version": "1.5.0",
       "_view_name": "HTMLView",
       "description": "",
       "description_tooltip": null,
       "layout": "IPY_MODEL_eba53a9e6e1f42c482cab28f684721b0",
       "placeholder": "​",
       "style": "IPY_MODEL_1a5737b7b77a42d0baaad8dd531b3f1c",
       "value": "100%"
      }
     },
     "363bc9de513247c38eb90b247f403523": {
      "model_module": "@jupyter-widgets/controls",
      "model_module_version": "1.5.0",
      "model_name": "FloatProgressModel",
      "state": {
       "_dom_classes": [],
       "_model_module": "@jupyter-widgets/controls",
       "_model_module_version": "1.5.0",
       "_model_name": "FloatProgressModel",
       "_view_count": null,
       "_view_module": "@jupyter-widgets/controls",
       "_view_module_version": "1.5.0",
       "_view_name": "ProgressView",
       "bar_style": "success",
       "description": "",
       "description_tooltip": null,
       "layout": "IPY_MODEL_45aaef35ccbc4805906a1f1120586fbc",
       "max": 33,
       "min": 0,
       "orientation": "horizontal",
       "style": "IPY_MODEL_20335a5c53ae452880109960047ac661",
       "value": 33
      }
     },
     "36ff53171bfc4109b2558b0acfb60879": {
      "model_module": "@jupyter-widgets/controls",
      "model_module_version": "1.5.0",
      "model_name": "HBoxModel",
      "state": {
       "_dom_classes": [],
       "_model_module": "@jupyter-widgets/controls",
       "_model_module_version": "1.5.0",
       "_model_name": "HBoxModel",
       "_view_count": null,
       "_view_module": "@jupyter-widgets/controls",
       "_view_module_version": "1.5.0",
       "_view_name": "HBoxView",
       "box_style": "",
       "children": [
        "IPY_MODEL_9ce3964fd0d74ef393790746378d76e7",
        "IPY_MODEL_d8d4f19cbd284bddb57ea23bf878e412",
        "IPY_MODEL_51d5218a2aac466594a385f2a8232af7"
       ],
       "layout": "IPY_MODEL_bf9f6ab1518a4a55bb8d19bee009d881"
      }
     },
     "37d13cb7e6164494bd7e0413133e8c0e": {
      "model_module": "@jupyter-widgets/controls",
      "model_module_version": "1.5.0",
      "model_name": "DescriptionStyleModel",
      "state": {
       "_model_module": "@jupyter-widgets/controls",
       "_model_module_version": "1.5.0",
       "_model_name": "DescriptionStyleModel",
       "_view_count": null,
       "_view_module": "@jupyter-widgets/base",
       "_view_module_version": "1.2.0",
       "_view_name": "StyleView",
       "description_width": ""
      }
     },
     "39e7dbb9a0804a50b0244a48cbf8f3d5": {
      "model_module": "@jupyter-widgets/base",
      "model_module_version": "1.2.0",
      "model_name": "LayoutModel",
      "state": {
       "_model_module": "@jupyter-widgets/base",
       "_model_module_version": "1.2.0",
       "_model_name": "LayoutModel",
       "_view_count": null,
       "_view_module": "@jupyter-widgets/base",
       "_view_module_version": "1.2.0",
       "_view_name": "LayoutView",
       "align_content": null,
       "align_items": null,
       "align_self": null,
       "border": null,
       "bottom": null,
       "display": null,
       "flex": null,
       "flex_flow": null,
       "grid_area": null,
       "grid_auto_columns": null,
       "grid_auto_flow": null,
       "grid_auto_rows": null,
       "grid_column": null,
       "grid_gap": null,
       "grid_row": null,
       "grid_template_areas": null,
       "grid_template_columns": null,
       "grid_template_rows": null,
       "height": null,
       "justify_content": null,
       "justify_items": null,
       "left": null,
       "margin": null,
       "max_height": null,
       "max_width": null,
       "min_height": null,
       "min_width": null,
       "object_fit": null,
       "object_position": null,
       "order": null,
       "overflow": null,
       "overflow_x": null,
       "overflow_y": null,
       "padding": null,
       "right": null,
       "top": null,
       "visibility": null,
       "width": null
      }
     },
     "3c94ce559143479191d89873aa6f4160": {
      "model_module": "@jupyter-widgets/controls",
      "model_module_version": "1.5.0",
      "model_name": "HTMLModel",
      "state": {
       "_dom_classes": [],
       "_model_module": "@jupyter-widgets/controls",
       "_model_module_version": "1.5.0",
       "_model_name": "HTMLModel",
       "_view_count": null,
       "_view_module": "@jupyter-widgets/controls",
       "_view_module_version": "1.5.0",
       "_view_name": "HTMLView",
       "description": "",
       "description_tooltip": null,
       "layout": "IPY_MODEL_0e839e8a8b424aea82527c0fdab96606",
       "placeholder": "​",
       "style": "IPY_MODEL_eb3e0d66ce97433396944a1b9e162469",
       "value": "100%"
      }
     },
     "3d976dcd779d4a1ba77a61ba51d0071d": {
      "model_module": "@jupyter-widgets/base",
      "model_module_version": "1.2.0",
      "model_name": "LayoutModel",
      "state": {
       "_model_module": "@jupyter-widgets/base",
       "_model_module_version": "1.2.0",
       "_model_name": "LayoutModel",
       "_view_count": null,
       "_view_module": "@jupyter-widgets/base",
       "_view_module_version": "1.2.0",
       "_view_name": "LayoutView",
       "align_content": null,
       "align_items": null,
       "align_self": null,
       "border": null,
       "bottom": null,
       "display": null,
       "flex": null,
       "flex_flow": null,
       "grid_area": null,
       "grid_auto_columns": null,
       "grid_auto_flow": null,
       "grid_auto_rows": null,
       "grid_column": null,
       "grid_gap": null,
       "grid_row": null,
       "grid_template_areas": null,
       "grid_template_columns": null,
       "grid_template_rows": null,
       "height": null,
       "justify_content": null,
       "justify_items": null,
       "left": null,
       "margin": null,
       "max_height": null,
       "max_width": null,
       "min_height": null,
       "min_width": null,
       "object_fit": null,
       "object_position": null,
       "order": null,
       "overflow": null,
       "overflow_x": null,
       "overflow_y": null,
       "padding": null,
       "right": null,
       "top": null,
       "visibility": null,
       "width": null
      }
     },
     "3e4ecfc93ad84087b68a62ce7641714b": {
      "model_module": "@jupyter-widgets/base",
      "model_module_version": "1.2.0",
      "model_name": "LayoutModel",
      "state": {
       "_model_module": "@jupyter-widgets/base",
       "_model_module_version": "1.2.0",
       "_model_name": "LayoutModel",
       "_view_count": null,
       "_view_module": "@jupyter-widgets/base",
       "_view_module_version": "1.2.0",
       "_view_name": "LayoutView",
       "align_content": null,
       "align_items": null,
       "align_self": null,
       "border": null,
       "bottom": null,
       "display": null,
       "flex": null,
       "flex_flow": null,
       "grid_area": null,
       "grid_auto_columns": null,
       "grid_auto_flow": null,
       "grid_auto_rows": null,
       "grid_column": null,
       "grid_gap": null,
       "grid_row": null,
       "grid_template_areas": null,
       "grid_template_columns": null,
       "grid_template_rows": null,
       "height": null,
       "justify_content": null,
       "justify_items": null,
       "left": null,
       "margin": null,
       "max_height": null,
       "max_width": null,
       "min_height": null,
       "min_width": null,
       "object_fit": null,
       "object_position": null,
       "order": null,
       "overflow": null,
       "overflow_x": null,
       "overflow_y": null,
       "padding": null,
       "right": null,
       "top": null,
       "visibility": null,
       "width": null
      }
     },
     "3ff1757df4634b3ba24e6d1d479f526e": {
      "model_module": "@jupyter-widgets/controls",
      "model_module_version": "1.5.0",
      "model_name": "DescriptionStyleModel",
      "state": {
       "_model_module": "@jupyter-widgets/controls",
       "_model_module_version": "1.5.0",
       "_model_name": "DescriptionStyleModel",
       "_view_count": null,
       "_view_module": "@jupyter-widgets/base",
       "_view_module_version": "1.2.0",
       "_view_name": "StyleView",
       "description_width": ""
      }
     },
     "4054da4c6da44d1983ca3b883b2c18a7": {
      "model_module": "@jupyter-widgets/controls",
      "model_module_version": "1.5.0",
      "model_name": "ProgressStyleModel",
      "state": {
       "_model_module": "@jupyter-widgets/controls",
       "_model_module_version": "1.5.0",
       "_model_name": "ProgressStyleModel",
       "_view_count": null,
       "_view_module": "@jupyter-widgets/base",
       "_view_module_version": "1.2.0",
       "_view_name": "StyleView",
       "bar_color": null,
       "description_width": ""
      }
     },
     "4255be3b3f714082a0af2ef5e4d94487": {
      "model_module": "@jupyter-widgets/controls",
      "model_module_version": "1.5.0",
      "model_name": "FloatProgressModel",
      "state": {
       "_dom_classes": [],
       "_model_module": "@jupyter-widgets/controls",
       "_model_module_version": "1.5.0",
       "_model_name": "FloatProgressModel",
       "_view_count": null,
       "_view_module": "@jupyter-widgets/controls",
       "_view_module_version": "1.5.0",
       "_view_name": "ProgressView",
       "bar_style": "success",
       "description": "",
       "description_tooltip": null,
       "layout": "IPY_MODEL_2120db3fb6c94982b651520f3e455683",
       "max": 33,
       "min": 0,
       "orientation": "horizontal",
       "style": "IPY_MODEL_9248d8b4d2c2456e868f5c518fce99e4",
       "value": 33
      }
     },
     "43cb746619c54ce3b2185d36ccc8bb60": {
      "model_module": "@jupyter-widgets/controls",
      "model_module_version": "1.5.0",
      "model_name": "FloatProgressModel",
      "state": {
       "_dom_classes": [],
       "_model_module": "@jupyter-widgets/controls",
       "_model_module_version": "1.5.0",
       "_model_name": "FloatProgressModel",
       "_view_count": null,
       "_view_module": "@jupyter-widgets/controls",
       "_view_module_version": "1.5.0",
       "_view_name": "ProgressView",
       "bar_style": "success",
       "description": "",
       "description_tooltip": null,
       "layout": "IPY_MODEL_f2c0532c21a3490386f8a1c200598a4c",
       "max": 2471,
       "min": 0,
       "orientation": "horizontal",
       "style": "IPY_MODEL_4e582aa365d04e7b8de719c019904659",
       "value": 2471
      }
     },
     "442456dfa7c943d69a9fb808d9b4db8c": {
      "model_module": "@jupyter-widgets/controls",
      "model_module_version": "1.5.0",
      "model_name": "HBoxModel",
      "state": {
       "_dom_classes": [],
       "_model_module": "@jupyter-widgets/controls",
       "_model_module_version": "1.5.0",
       "_model_name": "HBoxModel",
       "_view_count": null,
       "_view_module": "@jupyter-widgets/controls",
       "_view_module_version": "1.5.0",
       "_view_name": "HBoxView",
       "box_style": "",
       "children": [
        "IPY_MODEL_8797afacf074476f8e97a5544d90e6f3",
        "IPY_MODEL_da316dc998154498a2373f6e2640a5dc",
        "IPY_MODEL_6a32b79193d4417db74eab3dab5d43bc"
       ],
       "layout": "IPY_MODEL_f3d92bf551fb430aa1ec50f080b273c6"
      }
     },
     "45aaef35ccbc4805906a1f1120586fbc": {
      "model_module": "@jupyter-widgets/base",
      "model_module_version": "1.2.0",
      "model_name": "LayoutModel",
      "state": {
       "_model_module": "@jupyter-widgets/base",
       "_model_module_version": "1.2.0",
       "_model_name": "LayoutModel",
       "_view_count": null,
       "_view_module": "@jupyter-widgets/base",
       "_view_module_version": "1.2.0",
       "_view_name": "LayoutView",
       "align_content": null,
       "align_items": null,
       "align_self": null,
       "border": null,
       "bottom": null,
       "display": null,
       "flex": null,
       "flex_flow": null,
       "grid_area": null,
       "grid_auto_columns": null,
       "grid_auto_flow": null,
       "grid_auto_rows": null,
       "grid_column": null,
       "grid_gap": null,
       "grid_row": null,
       "grid_template_areas": null,
       "grid_template_columns": null,
       "grid_template_rows": null,
       "height": null,
       "justify_content": null,
       "justify_items": null,
       "left": null,
       "margin": null,
       "max_height": null,
       "max_width": null,
       "min_height": null,
       "min_width": null,
       "object_fit": null,
       "object_position": null,
       "order": null,
       "overflow": null,
       "overflow_x": null,
       "overflow_y": null,
       "padding": null,
       "right": null,
       "top": null,
       "visibility": null,
       "width": null
      }
     },
     "486db724acab4a57a742206b86ce3f62": {
      "model_module": "@jupyter-widgets/controls",
      "model_module_version": "1.5.0",
      "model_name": "DescriptionStyleModel",
      "state": {
       "_model_module": "@jupyter-widgets/controls",
       "_model_module_version": "1.5.0",
       "_model_name": "DescriptionStyleModel",
       "_view_count": null,
       "_view_module": "@jupyter-widgets/base",
       "_view_module_version": "1.2.0",
       "_view_name": "StyleView",
       "description_width": ""
      }
     },
     "48f0c4a7bb664d7d893349a3c172fb43": {
      "model_module": "@jupyter-widgets/base",
      "model_module_version": "1.2.0",
      "model_name": "LayoutModel",
      "state": {
       "_model_module": "@jupyter-widgets/base",
       "_model_module_version": "1.2.0",
       "_model_name": "LayoutModel",
       "_view_count": null,
       "_view_module": "@jupyter-widgets/base",
       "_view_module_version": "1.2.0",
       "_view_name": "LayoutView",
       "align_content": null,
       "align_items": null,
       "align_self": null,
       "border": null,
       "bottom": null,
       "display": null,
       "flex": null,
       "flex_flow": null,
       "grid_area": null,
       "grid_auto_columns": null,
       "grid_auto_flow": null,
       "grid_auto_rows": null,
       "grid_column": null,
       "grid_gap": null,
       "grid_row": null,
       "grid_template_areas": null,
       "grid_template_columns": null,
       "grid_template_rows": null,
       "height": null,
       "justify_content": null,
       "justify_items": null,
       "left": null,
       "margin": null,
       "max_height": null,
       "max_width": null,
       "min_height": null,
       "min_width": null,
       "object_fit": null,
       "object_position": null,
       "order": null,
       "overflow": null,
       "overflow_x": null,
       "overflow_y": null,
       "padding": null,
       "right": null,
       "top": null,
       "visibility": null,
       "width": null
      }
     },
     "4e582aa365d04e7b8de719c019904659": {
      "model_module": "@jupyter-widgets/controls",
      "model_module_version": "1.5.0",
      "model_name": "ProgressStyleModel",
      "state": {
       "_model_module": "@jupyter-widgets/controls",
       "_model_module_version": "1.5.0",
       "_model_name": "ProgressStyleModel",
       "_view_count": null,
       "_view_module": "@jupyter-widgets/base",
       "_view_module_version": "1.2.0",
       "_view_name": "StyleView",
       "bar_color": null,
       "description_width": ""
      }
     },
     "4f1e585537b142a2980e912a20cee8c1": {
      "model_module": "@jupyter-widgets/controls",
      "model_module_version": "1.5.0",
      "model_name": "FloatProgressModel",
      "state": {
       "_dom_classes": [],
       "_model_module": "@jupyter-widgets/controls",
       "_model_module_version": "1.5.0",
       "_model_name": "FloatProgressModel",
       "_view_count": null,
       "_view_module": "@jupyter-widgets/controls",
       "_view_module_version": "1.5.0",
       "_view_name": "ProgressView",
       "bar_style": "success",
       "description": "",
       "description_tooltip": null,
       "layout": "IPY_MODEL_27a9aa6e61204b10a56e991e794773f3",
       "max": 3,
       "min": 0,
       "orientation": "horizontal",
       "style": "IPY_MODEL_d6165c2df5b145cab5416728677afe1e",
       "value": 3
      }
     },
     "50451477a5874f77bdf23f4dd270b8c7": {
      "model_module": "@jupyter-widgets/controls",
      "model_module_version": "1.5.0",
      "model_name": "HTMLModel",
      "state": {
       "_dom_classes": [],
       "_model_module": "@jupyter-widgets/controls",
       "_model_module_version": "1.5.0",
       "_model_name": "HTMLModel",
       "_view_count": null,
       "_view_module": "@jupyter-widgets/controls",
       "_view_module_version": "1.5.0",
       "_view_name": "HTMLView",
       "description": "",
       "description_tooltip": null,
       "layout": "IPY_MODEL_f1d7a27c15e14af0a456253e82aff040",
       "placeholder": "​",
       "style": "IPY_MODEL_06e769cc35914d0e968938eecc977ed5",
       "value": " 3/3 [00:00&lt;00:00, 313.16it/s]"
      }
     },
     "51d5218a2aac466594a385f2a8232af7": {
      "model_module": "@jupyter-widgets/controls",
      "model_module_version": "1.5.0",
      "model_name": "HTMLModel",
      "state": {
       "_dom_classes": [],
       "_model_module": "@jupyter-widgets/controls",
       "_model_module_version": "1.5.0",
       "_model_name": "HTMLModel",
       "_view_count": null,
       "_view_module": "@jupyter-widgets/controls",
       "_view_module_version": "1.5.0",
       "_view_name": "HTMLView",
       "description": "",
       "description_tooltip": null,
       "layout": "IPY_MODEL_7034fbd8e10440d98d94e2d53a9eda07",
       "placeholder": "​",
       "style": "IPY_MODEL_b0dc65321d8849ca9045978fc2fbe0ba",
       "value": " 2471/2471 [00:00&lt;00:00, 5197.54it/s]"
      }
     },
     "53302bd5df094b21a0ad5a9f5e1a7c85": {
      "model_module": "@jupyter-widgets/base",
      "model_module_version": "1.2.0",
      "model_name": "LayoutModel",
      "state": {
       "_model_module": "@jupyter-widgets/base",
       "_model_module_version": "1.2.0",
       "_model_name": "LayoutModel",
       "_view_count": null,
       "_view_module": "@jupyter-widgets/base",
       "_view_module_version": "1.2.0",
       "_view_name": "LayoutView",
       "align_content": null,
       "align_items": null,
       "align_self": null,
       "border": null,
       "bottom": null,
       "display": null,
       "flex": null,
       "flex_flow": null,
       "grid_area": null,
       "grid_auto_columns": null,
       "grid_auto_flow": null,
       "grid_auto_rows": null,
       "grid_column": null,
       "grid_gap": null,
       "grid_row": null,
       "grid_template_areas": null,
       "grid_template_columns": null,
       "grid_template_rows": null,
       "height": null,
       "justify_content": null,
       "justify_items": null,
       "left": null,
       "margin": null,
       "max_height": null,
       "max_width": null,
       "min_height": null,
       "min_width": null,
       "object_fit": null,
       "object_position": null,
       "order": null,
       "overflow": null,
       "overflow_x": null,
       "overflow_y": null,
       "padding": null,
       "right": null,
       "top": null,
       "visibility": null,
       "width": null
      }
     },
     "58684898f38844c2b75f4eefdca28332": {
      "model_module": "@jupyter-widgets/controls",
      "model_module_version": "1.5.0",
      "model_name": "DescriptionStyleModel",
      "state": {
       "_model_module": "@jupyter-widgets/controls",
       "_model_module_version": "1.5.0",
       "_model_name": "DescriptionStyleModel",
       "_view_count": null,
       "_view_module": "@jupyter-widgets/base",
       "_view_module_version": "1.2.0",
       "_view_name": "StyleView",
       "description_width": ""
      }
     },
     "5adc2d7d3549415fbb19ee3ff6da27f3": {
      "model_module": "@jupyter-widgets/controls",
      "model_module_version": "1.5.0",
      "model_name": "DescriptionStyleModel",
      "state": {
       "_model_module": "@jupyter-widgets/controls",
       "_model_module_version": "1.5.0",
       "_model_name": "DescriptionStyleModel",
       "_view_count": null,
       "_view_module": "@jupyter-widgets/base",
       "_view_module_version": "1.2.0",
       "_view_name": "StyleView",
       "description_width": ""
      }
     },
     "5b0028f6c827417abbc0b04c9af86b50": {
      "model_module": "@jupyter-widgets/base",
      "model_module_version": "1.2.0",
      "model_name": "LayoutModel",
      "state": {
       "_model_module": "@jupyter-widgets/base",
       "_model_module_version": "1.2.0",
       "_model_name": "LayoutModel",
       "_view_count": null,
       "_view_module": "@jupyter-widgets/base",
       "_view_module_version": "1.2.0",
       "_view_name": "LayoutView",
       "align_content": null,
       "align_items": null,
       "align_self": null,
       "border": null,
       "bottom": null,
       "display": null,
       "flex": null,
       "flex_flow": null,
       "grid_area": null,
       "grid_auto_columns": null,
       "grid_auto_flow": null,
       "grid_auto_rows": null,
       "grid_column": null,
       "grid_gap": null,
       "grid_row": null,
       "grid_template_areas": null,
       "grid_template_columns": null,
       "grid_template_rows": null,
       "height": null,
       "justify_content": null,
       "justify_items": null,
       "left": null,
       "margin": null,
       "max_height": null,
       "max_width": null,
       "min_height": null,
       "min_width": null,
       "object_fit": null,
       "object_position": null,
       "order": null,
       "overflow": null,
       "overflow_x": null,
       "overflow_y": null,
       "padding": null,
       "right": null,
       "top": null,
       "visibility": null,
       "width": null
      }
     },
     "5b4b26036873438d98690bdb81927b17": {
      "model_module": "@jupyter-widgets/base",
      "model_module_version": "1.2.0",
      "model_name": "LayoutModel",
      "state": {
       "_model_module": "@jupyter-widgets/base",
       "_model_module_version": "1.2.0",
       "_model_name": "LayoutModel",
       "_view_count": null,
       "_view_module": "@jupyter-widgets/base",
       "_view_module_version": "1.2.0",
       "_view_name": "LayoutView",
       "align_content": null,
       "align_items": null,
       "align_self": null,
       "border": null,
       "bottom": null,
       "display": null,
       "flex": null,
       "flex_flow": null,
       "grid_area": null,
       "grid_auto_columns": null,
       "grid_auto_flow": null,
       "grid_auto_rows": null,
       "grid_column": null,
       "grid_gap": null,
       "grid_row": null,
       "grid_template_areas": null,
       "grid_template_columns": null,
       "grid_template_rows": null,
       "height": null,
       "justify_content": null,
       "justify_items": null,
       "left": null,
       "margin": null,
       "max_height": null,
       "max_width": null,
       "min_height": null,
       "min_width": null,
       "object_fit": null,
       "object_position": null,
       "order": null,
       "overflow": null,
       "overflow_x": null,
       "overflow_y": null,
       "padding": null,
       "right": null,
       "top": null,
       "visibility": null,
       "width": null
      }
     },
     "5b644b35cac543e4b3655d157a41238c": {
      "model_module": "@jupyter-widgets/base",
      "model_module_version": "1.2.0",
      "model_name": "LayoutModel",
      "state": {
       "_model_module": "@jupyter-widgets/base",
       "_model_module_version": "1.2.0",
       "_model_name": "LayoutModel",
       "_view_count": null,
       "_view_module": "@jupyter-widgets/base",
       "_view_module_version": "1.2.0",
       "_view_name": "LayoutView",
       "align_content": null,
       "align_items": null,
       "align_self": null,
       "border": null,
       "bottom": null,
       "display": null,
       "flex": null,
       "flex_flow": null,
       "grid_area": null,
       "grid_auto_columns": null,
       "grid_auto_flow": null,
       "grid_auto_rows": null,
       "grid_column": null,
       "grid_gap": null,
       "grid_row": null,
       "grid_template_areas": null,
       "grid_template_columns": null,
       "grid_template_rows": null,
       "height": null,
       "justify_content": null,
       "justify_items": null,
       "left": null,
       "margin": null,
       "max_height": null,
       "max_width": null,
       "min_height": null,
       "min_width": null,
       "object_fit": null,
       "object_position": null,
       "order": null,
       "overflow": null,
       "overflow_x": null,
       "overflow_y": null,
       "padding": null,
       "right": null,
       "top": null,
       "visibility": null,
       "width": null
      }
     },
     "5d55b1bb0a2f4abbbaa0f52ee7e510ba": {
      "model_module": "@jupyter-widgets/controls",
      "model_module_version": "1.5.0",
      "model_name": "HTMLModel",
      "state": {
       "_dom_classes": [],
       "_model_module": "@jupyter-widgets/controls",
       "_model_module_version": "1.5.0",
       "_model_name": "HTMLModel",
       "_view_count": null,
       "_view_module": "@jupyter-widgets/controls",
       "_view_module_version": "1.5.0",
       "_view_name": "HTMLView",
       "description": "",
       "description_tooltip": null,
       "layout": "IPY_MODEL_1b3b1575df4e47df8128dcba2a65b47f",
       "placeholder": "​",
       "style": "IPY_MODEL_61503ee2ae80472fbf40a13dbb985f44",
       "value": "100%"
      }
     },
     "5e5162cd23124f208d2def4e6ec0f6b4": {
      "model_module": "@jupyter-widgets/controls",
      "model_module_version": "1.5.0",
      "model_name": "DescriptionStyleModel",
      "state": {
       "_model_module": "@jupyter-widgets/controls",
       "_model_module_version": "1.5.0",
       "_model_name": "DescriptionStyleModel",
       "_view_count": null,
       "_view_module": "@jupyter-widgets/base",
       "_view_module_version": "1.2.0",
       "_view_name": "StyleView",
       "description_width": ""
      }
     },
     "5e7d7e0f435a4d03868979f32241effb": {
      "model_module": "@jupyter-widgets/controls",
      "model_module_version": "1.5.0",
      "model_name": "HTMLModel",
      "state": {
       "_dom_classes": [],
       "_model_module": "@jupyter-widgets/controls",
       "_model_module_version": "1.5.0",
       "_model_name": "HTMLModel",
       "_view_count": null,
       "_view_module": "@jupyter-widgets/controls",
       "_view_module_version": "1.5.0",
       "_view_name": "HTMLView",
       "description": "",
       "description_tooltip": null,
       "layout": "IPY_MODEL_f0538d3bfae44cb8bb8e2526ee892fa8",
       "placeholder": "​",
       "style": "IPY_MODEL_08d2ea0babd344cbabbd5982ba00003b",
       "value": "100%"
      }
     },
     "604582e8805c431d8e5aaafa7c28afd3": {
      "model_module": "@jupyter-widgets/base",
      "model_module_version": "1.2.0",
      "model_name": "LayoutModel",
      "state": {
       "_model_module": "@jupyter-widgets/base",
       "_model_module_version": "1.2.0",
       "_model_name": "LayoutModel",
       "_view_count": null,
       "_view_module": "@jupyter-widgets/base",
       "_view_module_version": "1.2.0",
       "_view_name": "LayoutView",
       "align_content": null,
       "align_items": null,
       "align_self": null,
       "border": null,
       "bottom": null,
       "display": null,
       "flex": null,
       "flex_flow": null,
       "grid_area": null,
       "grid_auto_columns": null,
       "grid_auto_flow": null,
       "grid_auto_rows": null,
       "grid_column": null,
       "grid_gap": null,
       "grid_row": null,
       "grid_template_areas": null,
       "grid_template_columns": null,
       "grid_template_rows": null,
       "height": null,
       "justify_content": null,
       "justify_items": null,
       "left": null,
       "margin": null,
       "max_height": null,
       "max_width": null,
       "min_height": null,
       "min_width": null,
       "object_fit": null,
       "object_position": null,
       "order": null,
       "overflow": null,
       "overflow_x": null,
       "overflow_y": null,
       "padding": null,
       "right": null,
       "top": null,
       "visibility": null,
       "width": null
      }
     },
     "61503ee2ae80472fbf40a13dbb985f44": {
      "model_module": "@jupyter-widgets/controls",
      "model_module_version": "1.5.0",
      "model_name": "DescriptionStyleModel",
      "state": {
       "_model_module": "@jupyter-widgets/controls",
       "_model_module_version": "1.5.0",
       "_model_name": "DescriptionStyleModel",
       "_view_count": null,
       "_view_module": "@jupyter-widgets/base",
       "_view_module_version": "1.2.0",
       "_view_name": "StyleView",
       "description_width": ""
      }
     },
     "6596e0fa2f6941e49e59e3c6a9b92828": {
      "model_module": "@jupyter-widgets/controls",
      "model_module_version": "1.5.0",
      "model_name": "HTMLModel",
      "state": {
       "_dom_classes": [],
       "_model_module": "@jupyter-widgets/controls",
       "_model_module_version": "1.5.0",
       "_model_name": "HTMLModel",
       "_view_count": null,
       "_view_module": "@jupyter-widgets/controls",
       "_view_module_version": "1.5.0",
       "_view_name": "HTMLView",
       "description": "",
       "description_tooltip": null,
       "layout": "IPY_MODEL_a4abd0521d1f4b89a4ce83011534dd01",
       "placeholder": "​",
       "style": "IPY_MODEL_330456d5445c4fe9ad5d8ba462bfcaeb",
       "value": " 2471/2471 [00:00&lt;00:00, 5535.75it/s]"
      }
     },
     "6821a66cf33e4aeba1db42a712fa129c": {
      "model_module": "@jupyter-widgets/controls",
      "model_module_version": "1.5.0",
      "model_name": "DescriptionStyleModel",
      "state": {
       "_model_module": "@jupyter-widgets/controls",
       "_model_module_version": "1.5.0",
       "_model_name": "DescriptionStyleModel",
       "_view_count": null,
       "_view_module": "@jupyter-widgets/base",
       "_view_module_version": "1.2.0",
       "_view_name": "StyleView",
       "description_width": ""
      }
     },
     "69802a79ea144f99be4390ba35239ce1": {
      "model_module": "@jupyter-widgets/controls",
      "model_module_version": "1.5.0",
      "model_name": "DescriptionStyleModel",
      "state": {
       "_model_module": "@jupyter-widgets/controls",
       "_model_module_version": "1.5.0",
       "_model_name": "DescriptionStyleModel",
       "_view_count": null,
       "_view_module": "@jupyter-widgets/base",
       "_view_module_version": "1.2.0",
       "_view_name": "StyleView",
       "description_width": ""
      }
     },
     "6a32b79193d4417db74eab3dab5d43bc": {
      "model_module": "@jupyter-widgets/controls",
      "model_module_version": "1.5.0",
      "model_name": "HTMLModel",
      "state": {
       "_dom_classes": [],
       "_model_module": "@jupyter-widgets/controls",
       "_model_module_version": "1.5.0",
       "_model_name": "HTMLModel",
       "_view_count": null,
       "_view_module": "@jupyter-widgets/controls",
       "_view_module_version": "1.5.0",
       "_view_name": "HTMLView",
       "description": "",
       "description_tooltip": null,
       "layout": "IPY_MODEL_028aa7254f2b437997db6ec355ac6e92",
       "placeholder": "​",
       "style": "IPY_MODEL_69802a79ea144f99be4390ba35239ce1",
       "value": " 3/3 [00:00&lt;00:00, 268.34it/s]"
      }
     },
     "6b6a46d3163748efb001aa044edbe1f2": {
      "model_module": "@jupyter-widgets/controls",
      "model_module_version": "1.5.0",
      "model_name": "DescriptionStyleModel",
      "state": {
       "_model_module": "@jupyter-widgets/controls",
       "_model_module_version": "1.5.0",
       "_model_name": "DescriptionStyleModel",
       "_view_count": null,
       "_view_module": "@jupyter-widgets/base",
       "_view_module_version": "1.2.0",
       "_view_name": "StyleView",
       "description_width": ""
      }
     },
     "6e15396f017a4b81b37e33fc808d76f5": {
      "model_module": "@jupyter-widgets/controls",
      "model_module_version": "1.5.0",
      "model_name": "DescriptionStyleModel",
      "state": {
       "_model_module": "@jupyter-widgets/controls",
       "_model_module_version": "1.5.0",
       "_model_name": "DescriptionStyleModel",
       "_view_count": null,
       "_view_module": "@jupyter-widgets/base",
       "_view_module_version": "1.2.0",
       "_view_name": "StyleView",
       "description_width": ""
      }
     },
     "7034fbd8e10440d98d94e2d53a9eda07": {
      "model_module": "@jupyter-widgets/base",
      "model_module_version": "1.2.0",
      "model_name": "LayoutModel",
      "state": {
       "_model_module": "@jupyter-widgets/base",
       "_model_module_version": "1.2.0",
       "_model_name": "LayoutModel",
       "_view_count": null,
       "_view_module": "@jupyter-widgets/base",
       "_view_module_version": "1.2.0",
       "_view_name": "LayoutView",
       "align_content": null,
       "align_items": null,
       "align_self": null,
       "border": null,
       "bottom": null,
       "display": null,
       "flex": null,
       "flex_flow": null,
       "grid_area": null,
       "grid_auto_columns": null,
       "grid_auto_flow": null,
       "grid_auto_rows": null,
       "grid_column": null,
       "grid_gap": null,
       "grid_row": null,
       "grid_template_areas": null,
       "grid_template_columns": null,
       "grid_template_rows": null,
       "height": null,
       "justify_content": null,
       "justify_items": null,
       "left": null,
       "margin": null,
       "max_height": null,
       "max_width": null,
       "min_height": null,
       "min_width": null,
       "object_fit": null,
       "object_position": null,
       "order": null,
       "overflow": null,
       "overflow_x": null,
       "overflow_y": null,
       "padding": null,
       "right": null,
       "top": null,
       "visibility": null,
       "width": null
      }
     },
     "70834571cf944ed4be77b2894f57047e": {
      "model_module": "@jupyter-widgets/base",
      "model_module_version": "1.2.0",
      "model_name": "LayoutModel",
      "state": {
       "_model_module": "@jupyter-widgets/base",
       "_model_module_version": "1.2.0",
       "_model_name": "LayoutModel",
       "_view_count": null,
       "_view_module": "@jupyter-widgets/base",
       "_view_module_version": "1.2.0",
       "_view_name": "LayoutView",
       "align_content": null,
       "align_items": null,
       "align_self": null,
       "border": null,
       "bottom": null,
       "display": null,
       "flex": null,
       "flex_flow": null,
       "grid_area": null,
       "grid_auto_columns": null,
       "grid_auto_flow": null,
       "grid_auto_rows": null,
       "grid_column": null,
       "grid_gap": null,
       "grid_row": null,
       "grid_template_areas": null,
       "grid_template_columns": null,
       "grid_template_rows": null,
       "height": null,
       "justify_content": null,
       "justify_items": null,
       "left": null,
       "margin": null,
       "max_height": null,
       "max_width": null,
       "min_height": null,
       "min_width": null,
       "object_fit": null,
       "object_position": null,
       "order": null,
       "overflow": null,
       "overflow_x": null,
       "overflow_y": null,
       "padding": null,
       "right": null,
       "top": null,
       "visibility": null,
       "width": null
      }
     },
     "710edca1305a407e91f65d587e1b586f": {
      "model_module": "@jupyter-widgets/base",
      "model_module_version": "1.2.0",
      "model_name": "LayoutModel",
      "state": {
       "_model_module": "@jupyter-widgets/base",
       "_model_module_version": "1.2.0",
       "_model_name": "LayoutModel",
       "_view_count": null,
       "_view_module": "@jupyter-widgets/base",
       "_view_module_version": "1.2.0",
       "_view_name": "LayoutView",
       "align_content": null,
       "align_items": null,
       "align_self": null,
       "border": null,
       "bottom": null,
       "display": null,
       "flex": null,
       "flex_flow": null,
       "grid_area": null,
       "grid_auto_columns": null,
       "grid_auto_flow": null,
       "grid_auto_rows": null,
       "grid_column": null,
       "grid_gap": null,
       "grid_row": null,
       "grid_template_areas": null,
       "grid_template_columns": null,
       "grid_template_rows": null,
       "height": null,
       "justify_content": null,
       "justify_items": null,
       "left": null,
       "margin": null,
       "max_height": null,
       "max_width": null,
       "min_height": null,
       "min_width": null,
       "object_fit": null,
       "object_position": null,
       "order": null,
       "overflow": null,
       "overflow_x": null,
       "overflow_y": null,
       "padding": null,
       "right": null,
       "top": null,
       "visibility": null,
       "width": null
      }
     },
     "71a495ddcd904fb3a17b99c33380b8ad": {
      "model_module": "@jupyter-widgets/base",
      "model_module_version": "1.2.0",
      "model_name": "LayoutModel",
      "state": {
       "_model_module": "@jupyter-widgets/base",
       "_model_module_version": "1.2.0",
       "_model_name": "LayoutModel",
       "_view_count": null,
       "_view_module": "@jupyter-widgets/base",
       "_view_module_version": "1.2.0",
       "_view_name": "LayoutView",
       "align_content": null,
       "align_items": null,
       "align_self": null,
       "border": null,
       "bottom": null,
       "display": null,
       "flex": null,
       "flex_flow": null,
       "grid_area": null,
       "grid_auto_columns": null,
       "grid_auto_flow": null,
       "grid_auto_rows": null,
       "grid_column": null,
       "grid_gap": null,
       "grid_row": null,
       "grid_template_areas": null,
       "grid_template_columns": null,
       "grid_template_rows": null,
       "height": null,
       "justify_content": null,
       "justify_items": null,
       "left": null,
       "margin": null,
       "max_height": null,
       "max_width": null,
       "min_height": null,
       "min_width": null,
       "object_fit": null,
       "object_position": null,
       "order": null,
       "overflow": null,
       "overflow_x": null,
       "overflow_y": null,
       "padding": null,
       "right": null,
       "top": null,
       "visibility": null,
       "width": null
      }
     },
     "782b33fa192e483a8f8405019b8ffa1a": {
      "model_module": "@jupyter-widgets/controls",
      "model_module_version": "1.5.0",
      "model_name": "FloatProgressModel",
      "state": {
       "_dom_classes": [],
       "_model_module": "@jupyter-widgets/controls",
       "_model_module_version": "1.5.0",
       "_model_name": "FloatProgressModel",
       "_view_count": null,
       "_view_module": "@jupyter-widgets/controls",
       "_view_module_version": "1.5.0",
       "_view_name": "ProgressView",
       "bar_style": "success",
       "description": "",
       "description_tooltip": null,
       "layout": "IPY_MODEL_b406a4fe0f7f49e0bba3b6851e102191",
       "max": 3,
       "min": 0,
       "orientation": "horizontal",
       "style": "IPY_MODEL_996efd2bac8e4b4e8a798ebc13cb40ce",
       "value": 3
      }
     },
     "7b2999bacf4a4966b52f67f6b09d8810": {
      "model_module": "@jupyter-widgets/base",
      "model_module_version": "1.2.0",
      "model_name": "LayoutModel",
      "state": {
       "_model_module": "@jupyter-widgets/base",
       "_model_module_version": "1.2.0",
       "_model_name": "LayoutModel",
       "_view_count": null,
       "_view_module": "@jupyter-widgets/base",
       "_view_module_version": "1.2.0",
       "_view_name": "LayoutView",
       "align_content": null,
       "align_items": null,
       "align_self": null,
       "border": null,
       "bottom": null,
       "display": null,
       "flex": null,
       "flex_flow": null,
       "grid_area": null,
       "grid_auto_columns": null,
       "grid_auto_flow": null,
       "grid_auto_rows": null,
       "grid_column": null,
       "grid_gap": null,
       "grid_row": null,
       "grid_template_areas": null,
       "grid_template_columns": null,
       "grid_template_rows": null,
       "height": null,
       "justify_content": null,
       "justify_items": null,
       "left": null,
       "margin": null,
       "max_height": null,
       "max_width": null,
       "min_height": null,
       "min_width": null,
       "object_fit": null,
       "object_position": null,
       "order": null,
       "overflow": null,
       "overflow_x": null,
       "overflow_y": null,
       "padding": null,
       "right": null,
       "top": null,
       "visibility": null,
       "width": null
      }
     },
     "7cabe5e2d56d4c8e8fb2c254db663ea5": {
      "model_module": "@jupyter-widgets/base",
      "model_module_version": "1.2.0",
      "model_name": "LayoutModel",
      "state": {
       "_model_module": "@jupyter-widgets/base",
       "_model_module_version": "1.2.0",
       "_model_name": "LayoutModel",
       "_view_count": null,
       "_view_module": "@jupyter-widgets/base",
       "_view_module_version": "1.2.0",
       "_view_name": "LayoutView",
       "align_content": null,
       "align_items": null,
       "align_self": null,
       "border": null,
       "bottom": null,
       "display": null,
       "flex": null,
       "flex_flow": null,
       "grid_area": null,
       "grid_auto_columns": null,
       "grid_auto_flow": null,
       "grid_auto_rows": null,
       "grid_column": null,
       "grid_gap": null,
       "grid_row": null,
       "grid_template_areas": null,
       "grid_template_columns": null,
       "grid_template_rows": null,
       "height": null,
       "justify_content": null,
       "justify_items": null,
       "left": null,
       "margin": null,
       "max_height": null,
       "max_width": null,
       "min_height": null,
       "min_width": null,
       "object_fit": null,
       "object_position": null,
       "order": null,
       "overflow": null,
       "overflow_x": null,
       "overflow_y": null,
       "padding": null,
       "right": null,
       "top": null,
       "visibility": null,
       "width": null
      }
     },
     "7cb0e15222a24715817fa55932cfae28": {
      "model_module": "@jupyter-widgets/controls",
      "model_module_version": "1.5.0",
      "model_name": "HTMLModel",
      "state": {
       "_dom_classes": [],
       "_model_module": "@jupyter-widgets/controls",
       "_model_module_version": "1.5.0",
       "_model_name": "HTMLModel",
       "_view_count": null,
       "_view_module": "@jupyter-widgets/controls",
       "_view_module_version": "1.5.0",
       "_view_name": "HTMLView",
       "description": "",
       "description_tooltip": null,
       "layout": "IPY_MODEL_eb9e0785854a4773a2620c474c7a4f9d",
       "placeholder": "​",
       "style": "IPY_MODEL_5e5162cd23124f208d2def4e6ec0f6b4",
       "value": " 3/3 [00:00&lt;00:00, 273.21it/s]"
      }
     },
     "7e962a1251e8480a8eea6c12faf11334": {
      "model_module": "@jupyter-widgets/controls",
      "model_module_version": "1.5.0",
      "model_name": "HBoxModel",
      "state": {
       "_dom_classes": [],
       "_model_module": "@jupyter-widgets/controls",
       "_model_module_version": "1.5.0",
       "_model_name": "HBoxModel",
       "_view_count": null,
       "_view_module": "@jupyter-widgets/controls",
       "_view_module_version": "1.5.0",
       "_view_name": "HBoxView",
       "box_style": "",
       "children": [
        "IPY_MODEL_8ce5f01b556645c2bd64fe28a701f76a",
        "IPY_MODEL_363bc9de513247c38eb90b247f403523",
        "IPY_MODEL_cb08f9c8226f4af2a3d832868cf6ef79"
       ],
       "layout": "IPY_MODEL_03283cfa32ef4c05b60f089615596a6c"
      }
     },
     "8298e1ea3eae447cb1e2a768f7444ccb": {
      "model_module": "@jupyter-widgets/base",
      "model_module_version": "1.2.0",
      "model_name": "LayoutModel",
      "state": {
       "_model_module": "@jupyter-widgets/base",
       "_model_module_version": "1.2.0",
       "_model_name": "LayoutModel",
       "_view_count": null,
       "_view_module": "@jupyter-widgets/base",
       "_view_module_version": "1.2.0",
       "_view_name": "LayoutView",
       "align_content": null,
       "align_items": null,
       "align_self": null,
       "border": null,
       "bottom": null,
       "display": null,
       "flex": null,
       "flex_flow": null,
       "grid_area": null,
       "grid_auto_columns": null,
       "grid_auto_flow": null,
       "grid_auto_rows": null,
       "grid_column": null,
       "grid_gap": null,
       "grid_row": null,
       "grid_template_areas": null,
       "grid_template_columns": null,
       "grid_template_rows": null,
       "height": null,
       "justify_content": null,
       "justify_items": null,
       "left": null,
       "margin": null,
       "max_height": null,
       "max_width": null,
       "min_height": null,
       "min_width": null,
       "object_fit": null,
       "object_position": null,
       "order": null,
       "overflow": null,
       "overflow_x": null,
       "overflow_y": null,
       "padding": null,
       "right": null,
       "top": null,
       "visibility": null,
       "width": null
      }
     },
     "841888a574144933b07f16385e76dacb": {
      "model_module": "@jupyter-widgets/controls",
      "model_module_version": "1.5.0",
      "model_name": "ProgressStyleModel",
      "state": {
       "_model_module": "@jupyter-widgets/controls",
       "_model_module_version": "1.5.0",
       "_model_name": "ProgressStyleModel",
       "_view_count": null,
       "_view_module": "@jupyter-widgets/base",
       "_view_module_version": "1.2.0",
       "_view_name": "StyleView",
       "bar_color": null,
       "description_width": ""
      }
     },
     "861512c34a7d4eb89d67f7545fcf2157": {
      "model_module": "@jupyter-widgets/controls",
      "model_module_version": "1.5.0",
      "model_name": "DescriptionStyleModel",
      "state": {
       "_model_module": "@jupyter-widgets/controls",
       "_model_module_version": "1.5.0",
       "_model_name": "DescriptionStyleModel",
       "_view_count": null,
       "_view_module": "@jupyter-widgets/base",
       "_view_module_version": "1.2.0",
       "_view_name": "StyleView",
       "description_width": ""
      }
     },
     "8797afacf074476f8e97a5544d90e6f3": {
      "model_module": "@jupyter-widgets/controls",
      "model_module_version": "1.5.0",
      "model_name": "HTMLModel",
      "state": {
       "_dom_classes": [],
       "_model_module": "@jupyter-widgets/controls",
       "_model_module_version": "1.5.0",
       "_model_name": "HTMLModel",
       "_view_count": null,
       "_view_module": "@jupyter-widgets/controls",
       "_view_module_version": "1.5.0",
       "_view_name": "HTMLView",
       "description": "",
       "description_tooltip": null,
       "layout": "IPY_MODEL_3d976dcd779d4a1ba77a61ba51d0071d",
       "placeholder": "​",
       "style": "IPY_MODEL_1a39cb800c894d269635b417b3cbd645",
       "value": "100%"
      }
     },
     "87b1895226bb40188ba70ba0301c34cf": {
      "model_module": "@jupyter-widgets/base",
      "model_module_version": "1.2.0",
      "model_name": "LayoutModel",
      "state": {
       "_model_module": "@jupyter-widgets/base",
       "_model_module_version": "1.2.0",
       "_model_name": "LayoutModel",
       "_view_count": null,
       "_view_module": "@jupyter-widgets/base",
       "_view_module_version": "1.2.0",
       "_view_name": "LayoutView",
       "align_content": null,
       "align_items": null,
       "align_self": null,
       "border": null,
       "bottom": null,
       "display": null,
       "flex": null,
       "flex_flow": null,
       "grid_area": null,
       "grid_auto_columns": null,
       "grid_auto_flow": null,
       "grid_auto_rows": null,
       "grid_column": null,
       "grid_gap": null,
       "grid_row": null,
       "grid_template_areas": null,
       "grid_template_columns": null,
       "grid_template_rows": null,
       "height": null,
       "justify_content": null,
       "justify_items": null,
       "left": null,
       "margin": null,
       "max_height": null,
       "max_width": null,
       "min_height": null,
       "min_width": null,
       "object_fit": null,
       "object_position": null,
       "order": null,
       "overflow": null,
       "overflow_x": null,
       "overflow_y": null,
       "padding": null,
       "right": null,
       "top": null,
       "visibility": null,
       "width": null
      }
     },
     "899e232c7e63403399c097ac2dd36e42": {
      "model_module": "@jupyter-widgets/base",
      "model_module_version": "1.2.0",
      "model_name": "LayoutModel",
      "state": {
       "_model_module": "@jupyter-widgets/base",
       "_model_module_version": "1.2.0",
       "_model_name": "LayoutModel",
       "_view_count": null,
       "_view_module": "@jupyter-widgets/base",
       "_view_module_version": "1.2.0",
       "_view_name": "LayoutView",
       "align_content": null,
       "align_items": null,
       "align_self": null,
       "border": null,
       "bottom": null,
       "display": null,
       "flex": null,
       "flex_flow": null,
       "grid_area": null,
       "grid_auto_columns": null,
       "grid_auto_flow": null,
       "grid_auto_rows": null,
       "grid_column": null,
       "grid_gap": null,
       "grid_row": null,
       "grid_template_areas": null,
       "grid_template_columns": null,
       "grid_template_rows": null,
       "height": null,
       "justify_content": null,
       "justify_items": null,
       "left": null,
       "margin": null,
       "max_height": null,
       "max_width": null,
       "min_height": null,
       "min_width": null,
       "object_fit": null,
       "object_position": null,
       "order": null,
       "overflow": null,
       "overflow_x": null,
       "overflow_y": null,
       "padding": null,
       "right": null,
       "top": null,
       "visibility": null,
       "width": null
      }
     },
     "8c6cb90005434cf7ac3e2c10c4a82804": {
      "model_module": "@jupyter-widgets/controls",
      "model_module_version": "1.5.0",
      "model_name": "HTMLModel",
      "state": {
       "_dom_classes": [],
       "_model_module": "@jupyter-widgets/controls",
       "_model_module_version": "1.5.0",
       "_model_name": "HTMLModel",
       "_view_count": null,
       "_view_module": "@jupyter-widgets/controls",
       "_view_module_version": "1.5.0",
       "_view_name": "HTMLView",
       "description": "",
       "description_tooltip": null,
       "layout": "IPY_MODEL_8298e1ea3eae447cb1e2a768f7444ccb",
       "placeholder": "​",
       "style": "IPY_MODEL_91ae50b297aa4bdfb4f55761b84fa056",
       "value": "100%"
      }
     },
     "8ca2fde46f6143bc950423cc78583b3e": {
      "model_module": "@jupyter-widgets/controls",
      "model_module_version": "1.5.0",
      "model_name": "HBoxModel",
      "state": {
       "_dom_classes": [],
       "_model_module": "@jupyter-widgets/controls",
       "_model_module_version": "1.5.0",
       "_model_name": "HBoxModel",
       "_view_count": null,
       "_view_module": "@jupyter-widgets/controls",
       "_view_module_version": "1.5.0",
       "_view_name": "HBoxView",
       "box_style": "",
       "children": [
        "IPY_MODEL_a193d971a0bc415da2050d04323b44d0",
        "IPY_MODEL_4255be3b3f714082a0af2ef5e4d94487",
        "IPY_MODEL_0e7e7728ab5d447aa63a48a170de5672"
       ],
       "layout": "IPY_MODEL_604582e8805c431d8e5aaafa7c28afd3"
      }
     },
     "8ce5f01b556645c2bd64fe28a701f76a": {
      "model_module": "@jupyter-widgets/controls",
      "model_module_version": "1.5.0",
      "model_name": "HTMLModel",
      "state": {
       "_dom_classes": [],
       "_model_module": "@jupyter-widgets/controls",
       "_model_module_version": "1.5.0",
       "_model_name": "HTMLModel",
       "_view_count": null,
       "_view_module": "@jupyter-widgets/controls",
       "_view_module_version": "1.5.0",
       "_view_name": "HTMLView",
       "description": "",
       "description_tooltip": null,
       "layout": "IPY_MODEL_fb6f20af3958429b871a105a59715d81",
       "placeholder": "​",
       "style": "IPY_MODEL_e3750a586062409cb60bbfdc1a795bd9",
       "value": "100%"
      }
     },
     "918aeb69a8a641b2ba8370deb81199b7": {
      "model_module": "@jupyter-widgets/base",
      "model_module_version": "1.2.0",
      "model_name": "LayoutModel",
      "state": {
       "_model_module": "@jupyter-widgets/base",
       "_model_module_version": "1.2.0",
       "_model_name": "LayoutModel",
       "_view_count": null,
       "_view_module": "@jupyter-widgets/base",
       "_view_module_version": "1.2.0",
       "_view_name": "LayoutView",
       "align_content": null,
       "align_items": null,
       "align_self": null,
       "border": null,
       "bottom": null,
       "display": null,
       "flex": null,
       "flex_flow": null,
       "grid_area": null,
       "grid_auto_columns": null,
       "grid_auto_flow": null,
       "grid_auto_rows": null,
       "grid_column": null,
       "grid_gap": null,
       "grid_row": null,
       "grid_template_areas": null,
       "grid_template_columns": null,
       "grid_template_rows": null,
       "height": null,
       "justify_content": null,
       "justify_items": null,
       "left": null,
       "margin": null,
       "max_height": null,
       "max_width": null,
       "min_height": null,
       "min_width": null,
       "object_fit": null,
       "object_position": null,
       "order": null,
       "overflow": null,
       "overflow_x": null,
       "overflow_y": null,
       "padding": null,
       "right": null,
       "top": null,
       "visibility": null,
       "width": null
      }
     },
     "91ae50b297aa4bdfb4f55761b84fa056": {
      "model_module": "@jupyter-widgets/controls",
      "model_module_version": "1.5.0",
      "model_name": "DescriptionStyleModel",
      "state": {
       "_model_module": "@jupyter-widgets/controls",
       "_model_module_version": "1.5.0",
       "_model_name": "DescriptionStyleModel",
       "_view_count": null,
       "_view_module": "@jupyter-widgets/base",
       "_view_module_version": "1.2.0",
       "_view_name": "StyleView",
       "description_width": ""
      }
     },
     "91c83e7acaf24e3b8b6b87b46bbf30eb": {
      "model_module": "@jupyter-widgets/base",
      "model_module_version": "1.2.0",
      "model_name": "LayoutModel",
      "state": {
       "_model_module": "@jupyter-widgets/base",
       "_model_module_version": "1.2.0",
       "_model_name": "LayoutModel",
       "_view_count": null,
       "_view_module": "@jupyter-widgets/base",
       "_view_module_version": "1.2.0",
       "_view_name": "LayoutView",
       "align_content": null,
       "align_items": null,
       "align_self": null,
       "border": null,
       "bottom": null,
       "display": null,
       "flex": null,
       "flex_flow": null,
       "grid_area": null,
       "grid_auto_columns": null,
       "grid_auto_flow": null,
       "grid_auto_rows": null,
       "grid_column": null,
       "grid_gap": null,
       "grid_row": null,
       "grid_template_areas": null,
       "grid_template_columns": null,
       "grid_template_rows": null,
       "height": null,
       "justify_content": null,
       "justify_items": null,
       "left": null,
       "margin": null,
       "max_height": null,
       "max_width": null,
       "min_height": null,
       "min_width": null,
       "object_fit": null,
       "object_position": null,
       "order": null,
       "overflow": null,
       "overflow_x": null,
       "overflow_y": null,
       "padding": null,
       "right": null,
       "top": null,
       "visibility": null,
       "width": null
      }
     },
     "9248d8b4d2c2456e868f5c518fce99e4": {
      "model_module": "@jupyter-widgets/controls",
      "model_module_version": "1.5.0",
      "model_name": "ProgressStyleModel",
      "state": {
       "_model_module": "@jupyter-widgets/controls",
       "_model_module_version": "1.5.0",
       "_model_name": "ProgressStyleModel",
       "_view_count": null,
       "_view_module": "@jupyter-widgets/base",
       "_view_module_version": "1.2.0",
       "_view_name": "StyleView",
       "bar_color": null,
       "description_width": ""
      }
     },
     "93506f6cd86844e4a4a8c0d0eae4d9df": {
      "model_module": "@jupyter-widgets/controls",
      "model_module_version": "1.5.0",
      "model_name": "FloatProgressModel",
      "state": {
       "_dom_classes": [],
       "_model_module": "@jupyter-widgets/controls",
       "_model_module_version": "1.5.0",
       "_model_name": "FloatProgressModel",
       "_view_count": null,
       "_view_module": "@jupyter-widgets/controls",
       "_view_module_version": "1.5.0",
       "_view_name": "ProgressView",
       "bar_style": "success",
       "description": "",
       "description_tooltip": null,
       "layout": "IPY_MODEL_f0dad9e3a64047549e8741c1e9fa1137",
       "max": 3,
       "min": 0,
       "orientation": "horizontal",
       "style": "IPY_MODEL_ef793847042a4975b7fb2cf1dc2c7f8f",
       "value": 3
      }
     },
     "9676067ac06f445db53fbf6210ece45f": {
      "model_module": "@jupyter-widgets/controls",
      "model_module_version": "1.5.0",
      "model_name": "ProgressStyleModel",
      "state": {
       "_model_module": "@jupyter-widgets/controls",
       "_model_module_version": "1.5.0",
       "_model_name": "ProgressStyleModel",
       "_view_count": null,
       "_view_module": "@jupyter-widgets/base",
       "_view_module_version": "1.2.0",
       "_view_name": "StyleView",
       "bar_color": null,
       "description_width": ""
      }
     },
     "97a5acde57b54e818a3039739ac636cf": {
      "model_module": "@jupyter-widgets/controls",
      "model_module_version": "1.5.0",
      "model_name": "HTMLModel",
      "state": {
       "_dom_classes": [],
       "_model_module": "@jupyter-widgets/controls",
       "_model_module_version": "1.5.0",
       "_model_name": "HTMLModel",
       "_view_count": null,
       "_view_module": "@jupyter-widgets/controls",
       "_view_module_version": "1.5.0",
       "_view_name": "HTMLView",
       "description": "",
       "description_tooltip": null,
       "layout": "IPY_MODEL_133abfcbb0cc40d1b946821ad15cf32c",
       "placeholder": "​",
       "style": "IPY_MODEL_37d13cb7e6164494bd7e0413133e8c0e",
       "value": "100%"
      }
     },
     "996efd2bac8e4b4e8a798ebc13cb40ce": {
      "model_module": "@jupyter-widgets/controls",
      "model_module_version": "1.5.0",
      "model_name": "ProgressStyleModel",
      "state": {
       "_model_module": "@jupyter-widgets/controls",
       "_model_module_version": "1.5.0",
       "_model_name": "ProgressStyleModel",
       "_view_count": null,
       "_view_module": "@jupyter-widgets/base",
       "_view_module_version": "1.2.0",
       "_view_name": "StyleView",
       "bar_color": null,
       "description_width": ""
      }
     },
     "9ce3964fd0d74ef393790746378d76e7": {
      "model_module": "@jupyter-widgets/controls",
      "model_module_version": "1.5.0",
      "model_name": "HTMLModel",
      "state": {
       "_dom_classes": [],
       "_model_module": "@jupyter-widgets/controls",
       "_model_module_version": "1.5.0",
       "_model_name": "HTMLModel",
       "_view_count": null,
       "_view_module": "@jupyter-widgets/controls",
       "_view_module_version": "1.5.0",
       "_view_name": "HTMLView",
       "description": "",
       "description_tooltip": null,
       "layout": "IPY_MODEL_e53bfccab1a14c81bb4624dc6780a606",
       "placeholder": "​",
       "style": "IPY_MODEL_6b6a46d3163748efb001aa044edbe1f2",
       "value": "100%"
      }
     },
     "9db7aeb036e34fabac6e76fc45cc913c": {
      "model_module": "@jupyter-widgets/controls",
      "model_module_version": "1.5.0",
      "model_name": "ProgressStyleModel",
      "state": {
       "_model_module": "@jupyter-widgets/controls",
       "_model_module_version": "1.5.0",
       "_model_name": "ProgressStyleModel",
       "_view_count": null,
       "_view_module": "@jupyter-widgets/base",
       "_view_module_version": "1.2.0",
       "_view_name": "StyleView",
       "bar_color": null,
       "description_width": ""
      }
     },
     "a0f210e08dee400283d58707e6d96913": {
      "model_module": "@jupyter-widgets/base",
      "model_module_version": "1.2.0",
      "model_name": "LayoutModel",
      "state": {
       "_model_module": "@jupyter-widgets/base",
       "_model_module_version": "1.2.0",
       "_model_name": "LayoutModel",
       "_view_count": null,
       "_view_module": "@jupyter-widgets/base",
       "_view_module_version": "1.2.0",
       "_view_name": "LayoutView",
       "align_content": null,
       "align_items": null,
       "align_self": null,
       "border": null,
       "bottom": null,
       "display": null,
       "flex": null,
       "flex_flow": null,
       "grid_area": null,
       "grid_auto_columns": null,
       "grid_auto_flow": null,
       "grid_auto_rows": null,
       "grid_column": null,
       "grid_gap": null,
       "grid_row": null,
       "grid_template_areas": null,
       "grid_template_columns": null,
       "grid_template_rows": null,
       "height": null,
       "justify_content": null,
       "justify_items": null,
       "left": null,
       "margin": null,
       "max_height": null,
       "max_width": null,
       "min_height": null,
       "min_width": null,
       "object_fit": null,
       "object_position": null,
       "order": null,
       "overflow": null,
       "overflow_x": null,
       "overflow_y": null,
       "padding": null,
       "right": null,
       "top": null,
       "visibility": null,
       "width": null
      }
     },
     "a193d971a0bc415da2050d04323b44d0": {
      "model_module": "@jupyter-widgets/controls",
      "model_module_version": "1.5.0",
      "model_name": "HTMLModel",
      "state": {
       "_dom_classes": [],
       "_model_module": "@jupyter-widgets/controls",
       "_model_module_version": "1.5.0",
       "_model_name": "HTMLModel",
       "_view_count": null,
       "_view_module": "@jupyter-widgets/controls",
       "_view_module_version": "1.5.0",
       "_view_name": "HTMLView",
       "description": "",
       "description_tooltip": null,
       "layout": "IPY_MODEL_7cabe5e2d56d4c8e8fb2c254db663ea5",
       "placeholder": "​",
       "style": "IPY_MODEL_486db724acab4a57a742206b86ce3f62",
       "value": "100%"
      }
     },
     "a4abd0521d1f4b89a4ce83011534dd01": {
      "model_module": "@jupyter-widgets/base",
      "model_module_version": "1.2.0",
      "model_name": "LayoutModel",
      "state": {
       "_model_module": "@jupyter-widgets/base",
       "_model_module_version": "1.2.0",
       "_model_name": "LayoutModel",
       "_view_count": null,
       "_view_module": "@jupyter-widgets/base",
       "_view_module_version": "1.2.0",
       "_view_name": "LayoutView",
       "align_content": null,
       "align_items": null,
       "align_self": null,
       "border": null,
       "bottom": null,
       "display": null,
       "flex": null,
       "flex_flow": null,
       "grid_area": null,
       "grid_auto_columns": null,
       "grid_auto_flow": null,
       "grid_auto_rows": null,
       "grid_column": null,
       "grid_gap": null,
       "grid_row": null,
       "grid_template_areas": null,
       "grid_template_columns": null,
       "grid_template_rows": null,
       "height": null,
       "justify_content": null,
       "justify_items": null,
       "left": null,
       "margin": null,
       "max_height": null,
       "max_width": null,
       "min_height": null,
       "min_width": null,
       "object_fit": null,
       "object_position": null,
       "order": null,
       "overflow": null,
       "overflow_x": null,
       "overflow_y": null,
       "padding": null,
       "right": null,
       "top": null,
       "visibility": null,
       "width": null
      }
     },
     "a647910294014fffb5e2ef2950eeaaa4": {
      "model_module": "@jupyter-widgets/controls",
      "model_module_version": "1.5.0",
      "model_name": "HTMLModel",
      "state": {
       "_dom_classes": [],
       "_model_module": "@jupyter-widgets/controls",
       "_model_module_version": "1.5.0",
       "_model_name": "HTMLModel",
       "_view_count": null,
       "_view_module": "@jupyter-widgets/controls",
       "_view_module_version": "1.5.0",
       "_view_name": "HTMLView",
       "description": "",
       "description_tooltip": null,
       "layout": "IPY_MODEL_b49564642ec44895bda0ca409a3bfaf7",
       "placeholder": "​",
       "style": "IPY_MODEL_b779cb045eb643bcb97c2a0978d040e4",
       "value": "100%"
      }
     },
     "a9e252c48d45433ca5367f21ab473f13": {
      "model_module": "@jupyter-widgets/controls",
      "model_module_version": "1.5.0",
      "model_name": "ProgressStyleModel",
      "state": {
       "_model_module": "@jupyter-widgets/controls",
       "_model_module_version": "1.5.0",
       "_model_name": "ProgressStyleModel",
       "_view_count": null,
       "_view_module": "@jupyter-widgets/base",
       "_view_module_version": "1.2.0",
       "_view_name": "StyleView",
       "bar_color": null,
       "description_width": ""
      }
     },
     "acc38bd63cf74883bbbf9314998c7915": {
      "model_module": "@jupyter-widgets/base",
      "model_module_version": "1.2.0",
      "model_name": "LayoutModel",
      "state": {
       "_model_module": "@jupyter-widgets/base",
       "_model_module_version": "1.2.0",
       "_model_name": "LayoutModel",
       "_view_count": null,
       "_view_module": "@jupyter-widgets/base",
       "_view_module_version": "1.2.0",
       "_view_name": "LayoutView",
       "align_content": null,
       "align_items": null,
       "align_self": null,
       "border": null,
       "bottom": null,
       "display": null,
       "flex": null,
       "flex_flow": null,
       "grid_area": null,
       "grid_auto_columns": null,
       "grid_auto_flow": null,
       "grid_auto_rows": null,
       "grid_column": null,
       "grid_gap": null,
       "grid_row": null,
       "grid_template_areas": null,
       "grid_template_columns": null,
       "grid_template_rows": null,
       "height": null,
       "justify_content": null,
       "justify_items": null,
       "left": null,
       "margin": null,
       "max_height": null,
       "max_width": null,
       "min_height": null,
       "min_width": null,
       "object_fit": null,
       "object_position": null,
       "order": null,
       "overflow": null,
       "overflow_x": null,
       "overflow_y": null,
       "padding": null,
       "right": null,
       "top": null,
       "visibility": null,
       "width": null
      }
     },
     "af1424e323e94e2f8ad280827deef565": {
      "model_module": "@jupyter-widgets/controls",
      "model_module_version": "1.5.0",
      "model_name": "HTMLModel",
      "state": {
       "_dom_classes": [],
       "_model_module": "@jupyter-widgets/controls",
       "_model_module_version": "1.5.0",
       "_model_name": "HTMLModel",
       "_view_count": null,
       "_view_module": "@jupyter-widgets/controls",
       "_view_module_version": "1.5.0",
       "_view_name": "HTMLView",
       "description": "",
       "description_tooltip": null,
       "layout": "IPY_MODEL_238e8f111b0a45c380d5af35ffd17f9e",
       "placeholder": "​",
       "style": "IPY_MODEL_fdaf04429ee0457fa0f2fd4eb09c7491",
       "value": "100%"
      }
     },
     "afe419693ba443a68e4dbcc3229f6a97": {
      "model_module": "@jupyter-widgets/controls",
      "model_module_version": "1.5.0",
      "model_name": "HBoxModel",
      "state": {
       "_dom_classes": [],
       "_model_module": "@jupyter-widgets/controls",
       "_model_module_version": "1.5.0",
       "_model_name": "HBoxModel",
       "_view_count": null,
       "_view_module": "@jupyter-widgets/controls",
       "_view_module_version": "1.5.0",
       "_view_name": "HBoxView",
       "box_style": "",
       "children": [
        "IPY_MODEL_be4fec67587840e580b6c3b1578be4cb",
        "IPY_MODEL_93506f6cd86844e4a4a8c0d0eae4d9df",
        "IPY_MODEL_50451477a5874f77bdf23f4dd270b8c7"
       ],
       "layout": "IPY_MODEL_09491b4f9326457495b5d70c2e4d7e2c"
      }
     },
     "b0dc65321d8849ca9045978fc2fbe0ba": {
      "model_module": "@jupyter-widgets/controls",
      "model_module_version": "1.5.0",
      "model_name": "DescriptionStyleModel",
      "state": {
       "_model_module": "@jupyter-widgets/controls",
       "_model_module_version": "1.5.0",
       "_model_name": "DescriptionStyleModel",
       "_view_count": null,
       "_view_module": "@jupyter-widgets/base",
       "_view_module_version": "1.2.0",
       "_view_name": "StyleView",
       "description_width": ""
      }
     },
     "b23f76cf4d924ab48c9418ea1796c42f": {
      "model_module": "@jupyter-widgets/base",
      "model_module_version": "1.2.0",
      "model_name": "LayoutModel",
      "state": {
       "_model_module": "@jupyter-widgets/base",
       "_model_module_version": "1.2.0",
       "_model_name": "LayoutModel",
       "_view_count": null,
       "_view_module": "@jupyter-widgets/base",
       "_view_module_version": "1.2.0",
       "_view_name": "LayoutView",
       "align_content": null,
       "align_items": null,
       "align_self": null,
       "border": null,
       "bottom": null,
       "display": null,
       "flex": null,
       "flex_flow": null,
       "grid_area": null,
       "grid_auto_columns": null,
       "grid_auto_flow": null,
       "grid_auto_rows": null,
       "grid_column": null,
       "grid_gap": null,
       "grid_row": null,
       "grid_template_areas": null,
       "grid_template_columns": null,
       "grid_template_rows": null,
       "height": null,
       "justify_content": null,
       "justify_items": null,
       "left": null,
       "margin": null,
       "max_height": null,
       "max_width": null,
       "min_height": null,
       "min_width": null,
       "object_fit": null,
       "object_position": null,
       "order": null,
       "overflow": null,
       "overflow_x": null,
       "overflow_y": null,
       "padding": null,
       "right": null,
       "top": null,
       "visibility": null,
       "width": null
      }
     },
     "b33dd84e4ce94a9992bc459c2938f689": {
      "model_module": "@jupyter-widgets/controls",
      "model_module_version": "1.5.0",
      "model_name": "HTMLModel",
      "state": {
       "_dom_classes": [],
       "_model_module": "@jupyter-widgets/controls",
       "_model_module_version": "1.5.0",
       "_model_name": "HTMLModel",
       "_view_count": null,
       "_view_module": "@jupyter-widgets/controls",
       "_view_module_version": "1.5.0",
       "_view_name": "HTMLView",
       "description": "",
       "description_tooltip": null,
       "layout": "IPY_MODEL_1b4213e8cfe145efb43263d0f2ec0fb8",
       "placeholder": "​",
       "style": "IPY_MODEL_1bf40e695587405880eb26a0e9d40133",
       "value": " 2471/2471 [00:00&lt;00:00, 4614.23it/s]"
      }
     },
     "b406a4fe0f7f49e0bba3b6851e102191": {
      "model_module": "@jupyter-widgets/base",
      "model_module_version": "1.2.0",
      "model_name": "LayoutModel",
      "state": {
       "_model_module": "@jupyter-widgets/base",
       "_model_module_version": "1.2.0",
       "_model_name": "LayoutModel",
       "_view_count": null,
       "_view_module": "@jupyter-widgets/base",
       "_view_module_version": "1.2.0",
       "_view_name": "LayoutView",
       "align_content": null,
       "align_items": null,
       "align_self": null,
       "border": null,
       "bottom": null,
       "display": null,
       "flex": null,
       "flex_flow": null,
       "grid_area": null,
       "grid_auto_columns": null,
       "grid_auto_flow": null,
       "grid_auto_rows": null,
       "grid_column": null,
       "grid_gap": null,
       "grid_row": null,
       "grid_template_areas": null,
       "grid_template_columns": null,
       "grid_template_rows": null,
       "height": null,
       "justify_content": null,
       "justify_items": null,
       "left": null,
       "margin": null,
       "max_height": null,
       "max_width": null,
       "min_height": null,
       "min_width": null,
       "object_fit": null,
       "object_position": null,
       "order": null,
       "overflow": null,
       "overflow_x": null,
       "overflow_y": null,
       "padding": null,
       "right": null,
       "top": null,
       "visibility": null,
       "width": null
      }
     },
     "b49564642ec44895bda0ca409a3bfaf7": {
      "model_module": "@jupyter-widgets/base",
      "model_module_version": "1.2.0",
      "model_name": "LayoutModel",
      "state": {
       "_model_module": "@jupyter-widgets/base",
       "_model_module_version": "1.2.0",
       "_model_name": "LayoutModel",
       "_view_count": null,
       "_view_module": "@jupyter-widgets/base",
       "_view_module_version": "1.2.0",
       "_view_name": "LayoutView",
       "align_content": null,
       "align_items": null,
       "align_self": null,
       "border": null,
       "bottom": null,
       "display": null,
       "flex": null,
       "flex_flow": null,
       "grid_area": null,
       "grid_auto_columns": null,
       "grid_auto_flow": null,
       "grid_auto_rows": null,
       "grid_column": null,
       "grid_gap": null,
       "grid_row": null,
       "grid_template_areas": null,
       "grid_template_columns": null,
       "grid_template_rows": null,
       "height": null,
       "justify_content": null,
       "justify_items": null,
       "left": null,
       "margin": null,
       "max_height": null,
       "max_width": null,
       "min_height": null,
       "min_width": null,
       "object_fit": null,
       "object_position": null,
       "order": null,
       "overflow": null,
       "overflow_x": null,
       "overflow_y": null,
       "padding": null,
       "right": null,
       "top": null,
       "visibility": null,
       "width": null
      }
     },
     "b779cb045eb643bcb97c2a0978d040e4": {
      "model_module": "@jupyter-widgets/controls",
      "model_module_version": "1.5.0",
      "model_name": "DescriptionStyleModel",
      "state": {
       "_model_module": "@jupyter-widgets/controls",
       "_model_module_version": "1.5.0",
       "_model_name": "DescriptionStyleModel",
       "_view_count": null,
       "_view_module": "@jupyter-widgets/base",
       "_view_module_version": "1.2.0",
       "_view_name": "StyleView",
       "description_width": ""
      }
     },
     "b8c4bf4943784135be2bd1b19e27bf2c": {
      "model_module": "@jupyter-widgets/base",
      "model_module_version": "1.2.0",
      "model_name": "LayoutModel",
      "state": {
       "_model_module": "@jupyter-widgets/base",
       "_model_module_version": "1.2.0",
       "_model_name": "LayoutModel",
       "_view_count": null,
       "_view_module": "@jupyter-widgets/base",
       "_view_module_version": "1.2.0",
       "_view_name": "LayoutView",
       "align_content": null,
       "align_items": null,
       "align_self": null,
       "border": null,
       "bottom": null,
       "display": null,
       "flex": null,
       "flex_flow": null,
       "grid_area": null,
       "grid_auto_columns": null,
       "grid_auto_flow": null,
       "grid_auto_rows": null,
       "grid_column": null,
       "grid_gap": null,
       "grid_row": null,
       "grid_template_areas": null,
       "grid_template_columns": null,
       "grid_template_rows": null,
       "height": null,
       "justify_content": null,
       "justify_items": null,
       "left": null,
       "margin": null,
       "max_height": null,
       "max_width": null,
       "min_height": null,
       "min_width": null,
       "object_fit": null,
       "object_position": null,
       "order": null,
       "overflow": null,
       "overflow_x": null,
       "overflow_y": null,
       "padding": null,
       "right": null,
       "top": null,
       "visibility": null,
       "width": null
      }
     },
     "bc6cc00fe4e246d9820d152707fd4fd9": {
      "model_module": "@jupyter-widgets/controls",
      "model_module_version": "1.5.0",
      "model_name": "FloatProgressModel",
      "state": {
       "_dom_classes": [],
       "_model_module": "@jupyter-widgets/controls",
       "_model_module_version": "1.5.0",
       "_model_name": "FloatProgressModel",
       "_view_count": null,
       "_view_module": "@jupyter-widgets/controls",
       "_view_module_version": "1.5.0",
       "_view_name": "ProgressView",
       "bar_style": "success",
       "description": "",
       "description_tooltip": null,
       "layout": "IPY_MODEL_5b0028f6c827417abbc0b04c9af86b50",
       "max": 2471,
       "min": 0,
       "orientation": "horizontal",
       "style": "IPY_MODEL_daa2f618661f4f18a4fec56a2e07af0b",
       "value": 2471
      }
     },
     "be4fec67587840e580b6c3b1578be4cb": {
      "model_module": "@jupyter-widgets/controls",
      "model_module_version": "1.5.0",
      "model_name": "HTMLModel",
      "state": {
       "_dom_classes": [],
       "_model_module": "@jupyter-widgets/controls",
       "_model_module_version": "1.5.0",
       "_model_name": "HTMLModel",
       "_view_count": null,
       "_view_module": "@jupyter-widgets/controls",
       "_view_module_version": "1.5.0",
       "_view_name": "HTMLView",
       "description": "",
       "description_tooltip": null,
       "layout": "IPY_MODEL_acc38bd63cf74883bbbf9314998c7915",
       "placeholder": "​",
       "style": "IPY_MODEL_3ff1757df4634b3ba24e6d1d479f526e",
       "value": "100%"
      }
     },
     "bf9f6ab1518a4a55bb8d19bee009d881": {
      "model_module": "@jupyter-widgets/base",
      "model_module_version": "1.2.0",
      "model_name": "LayoutModel",
      "state": {
       "_model_module": "@jupyter-widgets/base",
       "_model_module_version": "1.2.0",
       "_model_name": "LayoutModel",
       "_view_count": null,
       "_view_module": "@jupyter-widgets/base",
       "_view_module_version": "1.2.0",
       "_view_name": "LayoutView",
       "align_content": null,
       "align_items": null,
       "align_self": null,
       "border": null,
       "bottom": null,
       "display": null,
       "flex": null,
       "flex_flow": null,
       "grid_area": null,
       "grid_auto_columns": null,
       "grid_auto_flow": null,
       "grid_auto_rows": null,
       "grid_column": null,
       "grid_gap": null,
       "grid_row": null,
       "grid_template_areas": null,
       "grid_template_columns": null,
       "grid_template_rows": null,
       "height": null,
       "justify_content": null,
       "justify_items": null,
       "left": null,
       "margin": null,
       "max_height": null,
       "max_width": null,
       "min_height": null,
       "min_width": null,
       "object_fit": null,
       "object_position": null,
       "order": null,
       "overflow": null,
       "overflow_x": null,
       "overflow_y": null,
       "padding": null,
       "right": null,
       "top": null,
       "visibility": null,
       "width": null
      }
     },
     "c1b5b7afaed94a1bb4c1af77f3bd16d9": {
      "model_module": "@jupyter-widgets/controls",
      "model_module_version": "1.5.0",
      "model_name": "HBoxModel",
      "state": {
       "_dom_classes": [],
       "_model_module": "@jupyter-widgets/controls",
       "_model_module_version": "1.5.0",
       "_model_name": "HBoxModel",
       "_view_count": null,
       "_view_module": "@jupyter-widgets/controls",
       "_view_module_version": "1.5.0",
       "_view_name": "HBoxView",
       "box_style": "",
       "children": [
        "IPY_MODEL_5d55b1bb0a2f4abbbaa0f52ee7e510ba",
        "IPY_MODEL_260e4e9488884ebabb2c674965998800",
        "IPY_MODEL_6596e0fa2f6941e49e59e3c6a9b92828"
       ],
       "layout": "IPY_MODEL_71a495ddcd904fb3a17b99c33380b8ad"
      }
     },
     "c5ab9bf7e7284fa2a817d4434e2255e8": {
      "model_module": "@jupyter-widgets/base",
      "model_module_version": "1.2.0",
      "model_name": "LayoutModel",
      "state": {
       "_model_module": "@jupyter-widgets/base",
       "_model_module_version": "1.2.0",
       "_model_name": "LayoutModel",
       "_view_count": null,
       "_view_module": "@jupyter-widgets/base",
       "_view_module_version": "1.2.0",
       "_view_name": "LayoutView",
       "align_content": null,
       "align_items": null,
       "align_self": null,
       "border": null,
       "bottom": null,
       "display": null,
       "flex": null,
       "flex_flow": null,
       "grid_area": null,
       "grid_auto_columns": null,
       "grid_auto_flow": null,
       "grid_auto_rows": null,
       "grid_column": null,
       "grid_gap": null,
       "grid_row": null,
       "grid_template_areas": null,
       "grid_template_columns": null,
       "grid_template_rows": null,
       "height": null,
       "justify_content": null,
       "justify_items": null,
       "left": null,
       "margin": null,
       "max_height": null,
       "max_width": null,
       "min_height": null,
       "min_width": null,
       "object_fit": null,
       "object_position": null,
       "order": null,
       "overflow": null,
       "overflow_x": null,
       "overflow_y": null,
       "padding": null,
       "right": null,
       "top": null,
       "visibility": null,
       "width": null
      }
     },
     "cb08f9c8226f4af2a3d832868cf6ef79": {
      "model_module": "@jupyter-widgets/controls",
      "model_module_version": "1.5.0",
      "model_name": "HTMLModel",
      "state": {
       "_dom_classes": [],
       "_model_module": "@jupyter-widgets/controls",
       "_model_module_version": "1.5.0",
       "_model_name": "HTMLModel",
       "_view_count": null,
       "_view_module": "@jupyter-widgets/controls",
       "_view_module_version": "1.5.0",
       "_view_name": "HTMLView",
       "description": "",
       "description_tooltip": null,
       "layout": "IPY_MODEL_e69b1ce61ca24e5082ed6ad62a4ed1c5",
       "placeholder": "​",
       "style": "IPY_MODEL_6e15396f017a4b81b37e33fc808d76f5",
       "value": " 33/33 [04:10&lt;00:00,  8.99s/it, column=word_count_change100, method=kurt]"
      }
     },
     "d023f23c7ac34df188c157d4454f0930": {
      "model_module": "@jupyter-widgets/controls",
      "model_module_version": "1.5.0",
      "model_name": "HBoxModel",
      "state": {
       "_dom_classes": [],
       "_model_module": "@jupyter-widgets/controls",
       "_model_module_version": "1.5.0",
       "_model_name": "HBoxModel",
       "_view_count": null,
       "_view_module": "@jupyter-widgets/controls",
       "_view_module_version": "1.5.0",
       "_view_name": "HBoxView",
       "box_style": "",
       "children": [
        "IPY_MODEL_8c6cb90005434cf7ac3e2c10c4a82804",
        "IPY_MODEL_1b48156d79cd41348e0a7248b1132650",
        "IPY_MODEL_180aef39e0694a28977cbb9cebce5fdf"
       ],
       "layout": "IPY_MODEL_710edca1305a407e91f65d587e1b586f"
      }
     },
     "d25f56ce628044c7a84d752a583f4040": {
      "model_module": "@jupyter-widgets/controls",
      "model_module_version": "1.5.0",
      "model_name": "ProgressStyleModel",
      "state": {
       "_model_module": "@jupyter-widgets/controls",
       "_model_module_version": "1.5.0",
       "_model_name": "ProgressStyleModel",
       "_view_count": null,
       "_view_module": "@jupyter-widgets/base",
       "_view_module_version": "1.2.0",
       "_view_name": "StyleView",
       "bar_color": null,
       "description_width": ""
      }
     },
     "d31548e4521a4dc9935b6b0c8bd5d163": {
      "model_module": "@jupyter-widgets/controls",
      "model_module_version": "1.5.0",
      "model_name": "HTMLModel",
      "state": {
       "_dom_classes": [],
       "_model_module": "@jupyter-widgets/controls",
       "_model_module_version": "1.5.0",
       "_model_name": "HTMLModel",
       "_view_count": null,
       "_view_module": "@jupyter-widgets/controls",
       "_view_module_version": "1.5.0",
       "_view_name": "HTMLView",
       "description": "",
       "description_tooltip": null,
       "layout": "IPY_MODEL_48f0c4a7bb664d7d893349a3c172fb43",
       "placeholder": "​",
       "style": "IPY_MODEL_861512c34a7d4eb89d67f7545fcf2157",
       "value": " 3/3 [00:00&lt;00:00, 276.02it/s]"
      }
     },
     "d5e6bd075f014403b12650ffaf0a756f": {
      "model_module": "@jupyter-widgets/controls",
      "model_module_version": "1.5.0",
      "model_name": "HTMLModel",
      "state": {
       "_dom_classes": [],
       "_model_module": "@jupyter-widgets/controls",
       "_model_module_version": "1.5.0",
       "_model_name": "HTMLModel",
       "_view_count": null,
       "_view_module": "@jupyter-widgets/controls",
       "_view_module_version": "1.5.0",
       "_view_name": "HTMLView",
       "description": "",
       "description_tooltip": null,
       "layout": "IPY_MODEL_91c83e7acaf24e3b8b6b87b46bbf30eb",
       "placeholder": "​",
       "style": "IPY_MODEL_da2213314e0f44c99a947993b2647916",
       "value": " 3/3 [00:00&lt;00:00, 308.25it/s]"
      }
     },
     "d6165c2df5b145cab5416728677afe1e": {
      "model_module": "@jupyter-widgets/controls",
      "model_module_version": "1.5.0",
      "model_name": "ProgressStyleModel",
      "state": {
       "_model_module": "@jupyter-widgets/controls",
       "_model_module_version": "1.5.0",
       "_model_name": "ProgressStyleModel",
       "_view_count": null,
       "_view_module": "@jupyter-widgets/base",
       "_view_module_version": "1.2.0",
       "_view_name": "StyleView",
       "bar_color": null,
       "description_width": ""
      }
     },
     "d8d4f19cbd284bddb57ea23bf878e412": {
      "model_module": "@jupyter-widgets/controls",
      "model_module_version": "1.5.0",
      "model_name": "FloatProgressModel",
      "state": {
       "_dom_classes": [],
       "_model_module": "@jupyter-widgets/controls",
       "_model_module_version": "1.5.0",
       "_model_name": "FloatProgressModel",
       "_view_count": null,
       "_view_module": "@jupyter-widgets/controls",
       "_view_module_version": "1.5.0",
       "_view_name": "ProgressView",
       "bar_style": "success",
       "description": "",
       "description_tooltip": null,
       "layout": "IPY_MODEL_2f20917bd5024751af7eab128b59d6be",
       "max": 2471,
       "min": 0,
       "orientation": "horizontal",
       "style": "IPY_MODEL_2881c66453a4463aaaf8ae80ecf67039",
       "value": 2471
      }
     },
     "da2213314e0f44c99a947993b2647916": {
      "model_module": "@jupyter-widgets/controls",
      "model_module_version": "1.5.0",
      "model_name": "DescriptionStyleModel",
      "state": {
       "_model_module": "@jupyter-widgets/controls",
       "_model_module_version": "1.5.0",
       "_model_name": "DescriptionStyleModel",
       "_view_count": null,
       "_view_module": "@jupyter-widgets/base",
       "_view_module_version": "1.2.0",
       "_view_name": "StyleView",
       "description_width": ""
      }
     },
     "da316dc998154498a2373f6e2640a5dc": {
      "model_module": "@jupyter-widgets/controls",
      "model_module_version": "1.5.0",
      "model_name": "FloatProgressModel",
      "state": {
       "_dom_classes": [],
       "_model_module": "@jupyter-widgets/controls",
       "_model_module_version": "1.5.0",
       "_model_name": "FloatProgressModel",
       "_view_count": null,
       "_view_module": "@jupyter-widgets/controls",
       "_view_module_version": "1.5.0",
       "_view_name": "ProgressView",
       "bar_style": "success",
       "description": "",
       "description_tooltip": null,
       "layout": "IPY_MODEL_26f4759f7a49422fa58bd4a0dc17e837",
       "max": 3,
       "min": 0,
       "orientation": "horizontal",
       "style": "IPY_MODEL_9db7aeb036e34fabac6e76fc45cc913c",
       "value": 3
      }
     },
     "daa2f618661f4f18a4fec56a2e07af0b": {
      "model_module": "@jupyter-widgets/controls",
      "model_module_version": "1.5.0",
      "model_name": "ProgressStyleModel",
      "state": {
       "_model_module": "@jupyter-widgets/controls",
       "_model_module_version": "1.5.0",
       "_model_name": "ProgressStyleModel",
       "_view_count": null,
       "_view_module": "@jupyter-widgets/base",
       "_view_module_version": "1.2.0",
       "_view_name": "StyleView",
       "bar_color": null,
       "description_width": ""
      }
     },
     "e3750a586062409cb60bbfdc1a795bd9": {
      "model_module": "@jupyter-widgets/controls",
      "model_module_version": "1.5.0",
      "model_name": "DescriptionStyleModel",
      "state": {
       "_model_module": "@jupyter-widgets/controls",
       "_model_module_version": "1.5.0",
       "_model_name": "DescriptionStyleModel",
       "_view_count": null,
       "_view_module": "@jupyter-widgets/base",
       "_view_module_version": "1.2.0",
       "_view_name": "StyleView",
       "description_width": ""
      }
     },
     "e53bfccab1a14c81bb4624dc6780a606": {
      "model_module": "@jupyter-widgets/base",
      "model_module_version": "1.2.0",
      "model_name": "LayoutModel",
      "state": {
       "_model_module": "@jupyter-widgets/base",
       "_model_module_version": "1.2.0",
       "_model_name": "LayoutModel",
       "_view_count": null,
       "_view_module": "@jupyter-widgets/base",
       "_view_module_version": "1.2.0",
       "_view_name": "LayoutView",
       "align_content": null,
       "align_items": null,
       "align_self": null,
       "border": null,
       "bottom": null,
       "display": null,
       "flex": null,
       "flex_flow": null,
       "grid_area": null,
       "grid_auto_columns": null,
       "grid_auto_flow": null,
       "grid_auto_rows": null,
       "grid_column": null,
       "grid_gap": null,
       "grid_row": null,
       "grid_template_areas": null,
       "grid_template_columns": null,
       "grid_template_rows": null,
       "height": null,
       "justify_content": null,
       "justify_items": null,
       "left": null,
       "margin": null,
       "max_height": null,
       "max_width": null,
       "min_height": null,
       "min_width": null,
       "object_fit": null,
       "object_position": null,
       "order": null,
       "overflow": null,
       "overflow_x": null,
       "overflow_y": null,
       "padding": null,
       "right": null,
       "top": null,
       "visibility": null,
       "width": null
      }
     },
     "e69b1ce61ca24e5082ed6ad62a4ed1c5": {
      "model_module": "@jupyter-widgets/base",
      "model_module_version": "1.2.0",
      "model_name": "LayoutModel",
      "state": {
       "_model_module": "@jupyter-widgets/base",
       "_model_module_version": "1.2.0",
       "_model_name": "LayoutModel",
       "_view_count": null,
       "_view_module": "@jupyter-widgets/base",
       "_view_module_version": "1.2.0",
       "_view_name": "LayoutView",
       "align_content": null,
       "align_items": null,
       "align_self": null,
       "border": null,
       "bottom": null,
       "display": null,
       "flex": null,
       "flex_flow": null,
       "grid_area": null,
       "grid_auto_columns": null,
       "grid_auto_flow": null,
       "grid_auto_rows": null,
       "grid_column": null,
       "grid_gap": null,
       "grid_row": null,
       "grid_template_areas": null,
       "grid_template_columns": null,
       "grid_template_rows": null,
       "height": null,
       "justify_content": null,
       "justify_items": null,
       "left": null,
       "margin": null,
       "max_height": null,
       "max_width": null,
       "min_height": null,
       "min_width": null,
       "object_fit": null,
       "object_position": null,
       "order": null,
       "overflow": null,
       "overflow_x": null,
       "overflow_y": null,
       "padding": null,
       "right": null,
       "top": null,
       "visibility": null,
       "width": null
      }
     },
     "e785c67820b14ae7ade2b610e1bea013": {
      "model_module": "@jupyter-widgets/controls",
      "model_module_version": "1.5.0",
      "model_name": "DescriptionStyleModel",
      "state": {
       "_model_module": "@jupyter-widgets/controls",
       "_model_module_version": "1.5.0",
       "_model_name": "DescriptionStyleModel",
       "_view_count": null,
       "_view_module": "@jupyter-widgets/base",
       "_view_module_version": "1.2.0",
       "_view_name": "StyleView",
       "description_width": ""
      }
     },
     "eb3e0d66ce97433396944a1b9e162469": {
      "model_module": "@jupyter-widgets/controls",
      "model_module_version": "1.5.0",
      "model_name": "DescriptionStyleModel",
      "state": {
       "_model_module": "@jupyter-widgets/controls",
       "_model_module_version": "1.5.0",
       "_model_name": "DescriptionStyleModel",
       "_view_count": null,
       "_view_module": "@jupyter-widgets/base",
       "_view_module_version": "1.2.0",
       "_view_name": "StyleView",
       "description_width": ""
      }
     },
     "eb9e0785854a4773a2620c474c7a4f9d": {
      "model_module": "@jupyter-widgets/base",
      "model_module_version": "1.2.0",
      "model_name": "LayoutModel",
      "state": {
       "_model_module": "@jupyter-widgets/base",
       "_model_module_version": "1.2.0",
       "_model_name": "LayoutModel",
       "_view_count": null,
       "_view_module": "@jupyter-widgets/base",
       "_view_module_version": "1.2.0",
       "_view_name": "LayoutView",
       "align_content": null,
       "align_items": null,
       "align_self": null,
       "border": null,
       "bottom": null,
       "display": null,
       "flex": null,
       "flex_flow": null,
       "grid_area": null,
       "grid_auto_columns": null,
       "grid_auto_flow": null,
       "grid_auto_rows": null,
       "grid_column": null,
       "grid_gap": null,
       "grid_row": null,
       "grid_template_areas": null,
       "grid_template_columns": null,
       "grid_template_rows": null,
       "height": null,
       "justify_content": null,
       "justify_items": null,
       "left": null,
       "margin": null,
       "max_height": null,
       "max_width": null,
       "min_height": null,
       "min_width": null,
       "object_fit": null,
       "object_position": null,
       "order": null,
       "overflow": null,
       "overflow_x": null,
       "overflow_y": null,
       "padding": null,
       "right": null,
       "top": null,
       "visibility": null,
       "width": null
      }
     },
     "eba53a9e6e1f42c482cab28f684721b0": {
      "model_module": "@jupyter-widgets/base",
      "model_module_version": "1.2.0",
      "model_name": "LayoutModel",
      "state": {
       "_model_module": "@jupyter-widgets/base",
       "_model_module_version": "1.2.0",
       "_model_name": "LayoutModel",
       "_view_count": null,
       "_view_module": "@jupyter-widgets/base",
       "_view_module_version": "1.2.0",
       "_view_name": "LayoutView",
       "align_content": null,
       "align_items": null,
       "align_self": null,
       "border": null,
       "bottom": null,
       "display": null,
       "flex": null,
       "flex_flow": null,
       "grid_area": null,
       "grid_auto_columns": null,
       "grid_auto_flow": null,
       "grid_auto_rows": null,
       "grid_column": null,
       "grid_gap": null,
       "grid_row": null,
       "grid_template_areas": null,
       "grid_template_columns": null,
       "grid_template_rows": null,
       "height": null,
       "justify_content": null,
       "justify_items": null,
       "left": null,
       "margin": null,
       "max_height": null,
       "max_width": null,
       "min_height": null,
       "min_width": null,
       "object_fit": null,
       "object_position": null,
       "order": null,
       "overflow": null,
       "overflow_x": null,
       "overflow_y": null,
       "padding": null,
       "right": null,
       "top": null,
       "visibility": null,
       "width": null
      }
     },
     "eba9423cf9f64f33b28426cbd559b9e5": {
      "model_module": "@jupyter-widgets/controls",
      "model_module_version": "1.5.0",
      "model_name": "HBoxModel",
      "state": {
       "_dom_classes": [],
       "_model_module": "@jupyter-widgets/controls",
       "_model_module_version": "1.5.0",
       "_model_name": "HBoxModel",
       "_view_count": null,
       "_view_module": "@jupyter-widgets/controls",
       "_view_module_version": "1.5.0",
       "_view_name": "HBoxView",
       "box_style": "",
       "children": [
        "IPY_MODEL_3c94ce559143479191d89873aa6f4160",
        "IPY_MODEL_bc6cc00fe4e246d9820d152707fd4fd9",
        "IPY_MODEL_b33dd84e4ce94a9992bc459c2938f689"
       ],
       "layout": "IPY_MODEL_23b493013d524fcab8cf49667bfbceae"
      }
     },
     "ef38f995e02347ffb9bb9fb0c7df4ba1": {
      "model_module": "@jupyter-widgets/controls",
      "model_module_version": "1.5.0",
      "model_name": "HTMLModel",
      "state": {
       "_dom_classes": [],
       "_model_module": "@jupyter-widgets/controls",
       "_model_module_version": "1.5.0",
       "_model_name": "HTMLModel",
       "_view_count": null,
       "_view_module": "@jupyter-widgets/controls",
       "_view_module_version": "1.5.0",
       "_view_name": "HTMLView",
       "description": "",
       "description_tooltip": null,
       "layout": "IPY_MODEL_918aeb69a8a641b2ba8370deb81199b7",
       "placeholder": "​",
       "style": "IPY_MODEL_f44f894823804d5bb5331b76e1959eae",
       "value": "100%"
      }
     },
     "ef793847042a4975b7fb2cf1dc2c7f8f": {
      "model_module": "@jupyter-widgets/controls",
      "model_module_version": "1.5.0",
      "model_name": "ProgressStyleModel",
      "state": {
       "_model_module": "@jupyter-widgets/controls",
       "_model_module_version": "1.5.0",
       "_model_name": "ProgressStyleModel",
       "_view_count": null,
       "_view_module": "@jupyter-widgets/base",
       "_view_module_version": "1.2.0",
       "_view_name": "StyleView",
       "bar_color": null,
       "description_width": ""
      }
     },
     "f0538d3bfae44cb8bb8e2526ee892fa8": {
      "model_module": "@jupyter-widgets/base",
      "model_module_version": "1.2.0",
      "model_name": "LayoutModel",
      "state": {
       "_model_module": "@jupyter-widgets/base",
       "_model_module_version": "1.2.0",
       "_model_name": "LayoutModel",
       "_view_count": null,
       "_view_module": "@jupyter-widgets/base",
       "_view_module_version": "1.2.0",
       "_view_name": "LayoutView",
       "align_content": null,
       "align_items": null,
       "align_self": null,
       "border": null,
       "bottom": null,
       "display": null,
       "flex": null,
       "flex_flow": null,
       "grid_area": null,
       "grid_auto_columns": null,
       "grid_auto_flow": null,
       "grid_auto_rows": null,
       "grid_column": null,
       "grid_gap": null,
       "grid_row": null,
       "grid_template_areas": null,
       "grid_template_columns": null,
       "grid_template_rows": null,
       "height": null,
       "justify_content": null,
       "justify_items": null,
       "left": null,
       "margin": null,
       "max_height": null,
       "max_width": null,
       "min_height": null,
       "min_width": null,
       "object_fit": null,
       "object_position": null,
       "order": null,
       "overflow": null,
       "overflow_x": null,
       "overflow_y": null,
       "padding": null,
       "right": null,
       "top": null,
       "visibility": null,
       "width": null
      }
     },
     "f0dad9e3a64047549e8741c1e9fa1137": {
      "model_module": "@jupyter-widgets/base",
      "model_module_version": "1.2.0",
      "model_name": "LayoutModel",
      "state": {
       "_model_module": "@jupyter-widgets/base",
       "_model_module_version": "1.2.0",
       "_model_name": "LayoutModel",
       "_view_count": null,
       "_view_module": "@jupyter-widgets/base",
       "_view_module_version": "1.2.0",
       "_view_name": "LayoutView",
       "align_content": null,
       "align_items": null,
       "align_self": null,
       "border": null,
       "bottom": null,
       "display": null,
       "flex": null,
       "flex_flow": null,
       "grid_area": null,
       "grid_auto_columns": null,
       "grid_auto_flow": null,
       "grid_auto_rows": null,
       "grid_column": null,
       "grid_gap": null,
       "grid_row": null,
       "grid_template_areas": null,
       "grid_template_columns": null,
       "grid_template_rows": null,
       "height": null,
       "justify_content": null,
       "justify_items": null,
       "left": null,
       "margin": null,
       "max_height": null,
       "max_width": null,
       "min_height": null,
       "min_width": null,
       "object_fit": null,
       "object_position": null,
       "order": null,
       "overflow": null,
       "overflow_x": null,
       "overflow_y": null,
       "padding": null,
       "right": null,
       "top": null,
       "visibility": null,
       "width": null
      }
     },
     "f1d7a27c15e14af0a456253e82aff040": {
      "model_module": "@jupyter-widgets/base",
      "model_module_version": "1.2.0",
      "model_name": "LayoutModel",
      "state": {
       "_model_module": "@jupyter-widgets/base",
       "_model_module_version": "1.2.0",
       "_model_name": "LayoutModel",
       "_view_count": null,
       "_view_module": "@jupyter-widgets/base",
       "_view_module_version": "1.2.0",
       "_view_name": "LayoutView",
       "align_content": null,
       "align_items": null,
       "align_self": null,
       "border": null,
       "bottom": null,
       "display": null,
       "flex": null,
       "flex_flow": null,
       "grid_area": null,
       "grid_auto_columns": null,
       "grid_auto_flow": null,
       "grid_auto_rows": null,
       "grid_column": null,
       "grid_gap": null,
       "grid_row": null,
       "grid_template_areas": null,
       "grid_template_columns": null,
       "grid_template_rows": null,
       "height": null,
       "justify_content": null,
       "justify_items": null,
       "left": null,
       "margin": null,
       "max_height": null,
       "max_width": null,
       "min_height": null,
       "min_width": null,
       "object_fit": null,
       "object_position": null,
       "order": null,
       "overflow": null,
       "overflow_x": null,
       "overflow_y": null,
       "padding": null,
       "right": null,
       "top": null,
       "visibility": null,
       "width": null
      }
     },
     "f2c0532c21a3490386f8a1c200598a4c": {
      "model_module": "@jupyter-widgets/base",
      "model_module_version": "1.2.0",
      "model_name": "LayoutModel",
      "state": {
       "_model_module": "@jupyter-widgets/base",
       "_model_module_version": "1.2.0",
       "_model_name": "LayoutModel",
       "_view_count": null,
       "_view_module": "@jupyter-widgets/base",
       "_view_module_version": "1.2.0",
       "_view_name": "LayoutView",
       "align_content": null,
       "align_items": null,
       "align_self": null,
       "border": null,
       "bottom": null,
       "display": null,
       "flex": null,
       "flex_flow": null,
       "grid_area": null,
       "grid_auto_columns": null,
       "grid_auto_flow": null,
       "grid_auto_rows": null,
       "grid_column": null,
       "grid_gap": null,
       "grid_row": null,
       "grid_template_areas": null,
       "grid_template_columns": null,
       "grid_template_rows": null,
       "height": null,
       "justify_content": null,
       "justify_items": null,
       "left": null,
       "margin": null,
       "max_height": null,
       "max_width": null,
       "min_height": null,
       "min_width": null,
       "object_fit": null,
       "object_position": null,
       "order": null,
       "overflow": null,
       "overflow_x": null,
       "overflow_y": null,
       "padding": null,
       "right": null,
       "top": null,
       "visibility": null,
       "width": null
      }
     },
     "f381787be008425cb3c0c3c876b44423": {
      "model_module": "@jupyter-widgets/controls",
      "model_module_version": "1.5.0",
      "model_name": "HBoxModel",
      "state": {
       "_dom_classes": [],
       "_model_module": "@jupyter-widgets/controls",
       "_model_module_version": "1.5.0",
       "_model_name": "HBoxModel",
       "_view_count": null,
       "_view_module": "@jupyter-widgets/controls",
       "_view_module_version": "1.5.0",
       "_view_name": "HBoxView",
       "box_style": "",
       "children": [
        "IPY_MODEL_3367e74bef4e4bb7ad09df558713021b",
        "IPY_MODEL_43cb746619c54ce3b2185d36ccc8bb60",
        "IPY_MODEL_ffc51234b71e4de782c5534f46f8ec85"
       ],
       "layout": "IPY_MODEL_a0f210e08dee400283d58707e6d96913"
      }
     },
     "f3d92bf551fb430aa1ec50f080b273c6": {
      "model_module": "@jupyter-widgets/base",
      "model_module_version": "1.2.0",
      "model_name": "LayoutModel",
      "state": {
       "_model_module": "@jupyter-widgets/base",
       "_model_module_version": "1.2.0",
       "_model_name": "LayoutModel",
       "_view_count": null,
       "_view_module": "@jupyter-widgets/base",
       "_view_module_version": "1.2.0",
       "_view_name": "LayoutView",
       "align_content": null,
       "align_items": null,
       "align_self": null,
       "border": null,
       "bottom": null,
       "display": null,
       "flex": null,
       "flex_flow": null,
       "grid_area": null,
       "grid_auto_columns": null,
       "grid_auto_flow": null,
       "grid_auto_rows": null,
       "grid_column": null,
       "grid_gap": null,
       "grid_row": null,
       "grid_template_areas": null,
       "grid_template_columns": null,
       "grid_template_rows": null,
       "height": null,
       "justify_content": null,
       "justify_items": null,
       "left": null,
       "margin": null,
       "max_height": null,
       "max_width": null,
       "min_height": null,
       "min_width": null,
       "object_fit": null,
       "object_position": null,
       "order": null,
       "overflow": null,
       "overflow_x": null,
       "overflow_y": null,
       "padding": null,
       "right": null,
       "top": null,
       "visibility": null,
       "width": null
      }
     },
     "f44f894823804d5bb5331b76e1959eae": {
      "model_module": "@jupyter-widgets/controls",
      "model_module_version": "1.5.0",
      "model_name": "DescriptionStyleModel",
      "state": {
       "_model_module": "@jupyter-widgets/controls",
       "_model_module_version": "1.5.0",
       "_model_name": "DescriptionStyleModel",
       "_view_count": null,
       "_view_module": "@jupyter-widgets/base",
       "_view_module_version": "1.2.0",
       "_view_name": "StyleView",
       "description_width": ""
      }
     },
     "fb6f20af3958429b871a105a59715d81": {
      "model_module": "@jupyter-widgets/base",
      "model_module_version": "1.2.0",
      "model_name": "LayoutModel",
      "state": {
       "_model_module": "@jupyter-widgets/base",
       "_model_module_version": "1.2.0",
       "_model_name": "LayoutModel",
       "_view_count": null,
       "_view_module": "@jupyter-widgets/base",
       "_view_module_version": "1.2.0",
       "_view_name": "LayoutView",
       "align_content": null,
       "align_items": null,
       "align_self": null,
       "border": null,
       "bottom": null,
       "display": null,
       "flex": null,
       "flex_flow": null,
       "grid_area": null,
       "grid_auto_columns": null,
       "grid_auto_flow": null,
       "grid_auto_rows": null,
       "grid_column": null,
       "grid_gap": null,
       "grid_row": null,
       "grid_template_areas": null,
       "grid_template_columns": null,
       "grid_template_rows": null,
       "height": null,
       "justify_content": null,
       "justify_items": null,
       "left": null,
       "margin": null,
       "max_height": null,
       "max_width": null,
       "min_height": null,
       "min_width": null,
       "object_fit": null,
       "object_position": null,
       "order": null,
       "overflow": null,
       "overflow_x": null,
       "overflow_y": null,
       "padding": null,
       "right": null,
       "top": null,
       "visibility": null,
       "width": null
      }
     },
     "fdaf04429ee0457fa0f2fd4eb09c7491": {
      "model_module": "@jupyter-widgets/controls",
      "model_module_version": "1.5.0",
      "model_name": "DescriptionStyleModel",
      "state": {
       "_model_module": "@jupyter-widgets/controls",
       "_model_module_version": "1.5.0",
       "_model_name": "DescriptionStyleModel",
       "_view_count": null,
       "_view_module": "@jupyter-widgets/base",
       "_view_module_version": "1.2.0",
       "_view_name": "StyleView",
       "description_width": ""
      }
     },
     "ffc51234b71e4de782c5534f46f8ec85": {
      "model_module": "@jupyter-widgets/controls",
      "model_module_version": "1.5.0",
      "model_name": "HTMLModel",
      "state": {
       "_dom_classes": [],
       "_model_module": "@jupyter-widgets/controls",
       "_model_module_version": "1.5.0",
       "_model_name": "HTMLModel",
       "_view_count": null,
       "_view_module": "@jupyter-widgets/controls",
       "_view_module_version": "1.5.0",
       "_view_name": "HTMLView",
       "description": "",
       "description_tooltip": null,
       "layout": "IPY_MODEL_899e232c7e63403399c097ac2dd36e42",
       "placeholder": "​",
       "style": "IPY_MODEL_5adc2d7d3549415fbb19ee3ff6da27f3",
       "value": " 2471/2471 [00:00&lt;00:00, 5432.15it/s]"
      }
     }
    },
    "version_major": 2,
    "version_minor": 0
   }
  }
 },
 "nbformat": 4,
 "nbformat_minor": 5
}
